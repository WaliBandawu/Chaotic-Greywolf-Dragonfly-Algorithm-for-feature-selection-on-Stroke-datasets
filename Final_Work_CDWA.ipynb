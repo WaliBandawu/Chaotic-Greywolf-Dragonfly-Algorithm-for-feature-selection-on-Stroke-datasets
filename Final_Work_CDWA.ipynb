{
  "cells": [
    {
      "cell_type": "markdown",
      "metadata": {
        "id": "view-in-github",
        "colab_type": "text"
      },
      "source": [
        "<a href=\"https://colab.research.google.com/github/WaliBandawu/Chaotic-Greywolf-Dragonfly-Algorithm-for-feature-selection-on-Stroke-datasets/blob/main/Final_Work_CDWA.ipynb\" target=\"_parent\"><img src=\"https://colab.research.google.com/assets/colab-badge.svg\" alt=\"Open In Colab\"/></a>"
      ]
    },
    {
      "cell_type": "code",
      "execution_count": null,
      "metadata": {
        "id": "02a86700-f34d-4dbc-b47c-51f7b1fab8c3"
      },
      "outputs": [],
      "source": [
        "from tqdm import tqdm\n",
        "import time\n",
        "# from CGWODA.py import HybridOptimizationAlgorithm\n",
        "import pandas as pd\n",
        "from sklearn.model_selection import train_test_split\n",
        "from sklearn.neighbors import KNeighborsClassifier\n",
        "from sklearn import svm\n",
        "from sklearn import preprocessing\n",
        "# from autogluon.tabular import TabularDataset, TabularPredictor\n",
        "from sklearn.neighbors import KNeighborsClassifier\n",
        "# from zoofs import DragonFlyOptimization\n",
        "\n",
        "# from zoofs import GreyWolfOptimization\n",
        "from sklearn.preprocessing import LabelEncoder, MinMaxScaler\n",
        "from sklearn.model_selection import train_test_split\n",
        "from sklearn.metrics import accuracy_score\n",
        "# from autogluon.tabular import TabularDataset, TabularPredictor\n",
        "import numpy as np\n",
        "from sklearn.linear_model import LogisticRegression\n",
        "from sklearn.naive_bayes import GaussianNB\n",
        "from sklearn.ensemble import RandomForestClassifier\n",
        "from sklearn.tree import DecisionTreeClassifier, ExtraTreeClassifier\n",
        "from sklearn.ensemble import StackingClassifier\n",
        "from sklearn.metrics import accuracy_score\n",
        "# from zoofs.baseoptimizationalgorithm import BaseOptimizationAlgorithm\n",
        "# from zoofs import DragonFlyOptimization"
      ],
      "id": "02a86700-f34d-4dbc-b47c-51f7b1fab8c3"
    },
    {
      "cell_type": "code",
      "source": [
        "%cd CGWODA"
      ],
      "metadata": {
        "colab": {
          "base_uri": "https://localhost:8080/"
        },
        "id": "aXWu19qgcqCs",
        "outputId": "51961602-e315-4086-8b71-84cff601a956"
      },
      "id": "aXWu19qgcqCs",
      "execution_count": null,
      "outputs": [
        {
          "output_type": "stream",
          "name": "stdout",
          "text": [
            "/content/drive/MyDrive/Colab Notebooks/CGWODA\n"
          ]
        }
      ]
    },
    {
      "cell_type": "code",
      "execution_count": null,
      "metadata": {
        "id": "f20293dc-923e-426f-aab8-9fc403dcfa88"
      },
      "outputs": [],
      "source": [
        "from sklearn.metrics import log_loss\n",
        "def objective_function_topass( model, X_train, y_train, X_test, y_test):\n",
        "\n",
        "    model.fit(X_train, y_train)\n",
        "    y_pred = model.predict(X_test)\n",
        "    # Calculate the accuracy of the classifier\n",
        "    accuracy = accuracy_score(y_test, y_pred)\n",
        "    # Calculate the classification error rate\n",
        "    error_rate = 1 - accuracy\n",
        "    cardinality_R = X_train.shape[1]\n",
        "    # Calculate the total number of features in C\n",
        "    total_features_C = 10\n",
        "    alpha = 0.99\n",
        "    # Calculate beta\n",
        "    beta = 1 - alpha\n",
        "    # Calculate the fitness value\n",
        "    fitness = error_rate * alpha + beta * (cardinality_R / total_features_C)\n",
        "    return fitness\n"
      ],
      "id": "f20293dc-923e-426f-aab8-9fc403dcfa88"
    },
    {
      "cell_type": "code",
      "execution_count": null,
      "metadata": {
        "id": "ac28038d-b513-4397-9b33-9ef80979ae62"
      },
      "outputs": [],
      "source": [
        "from sklearn.neighbors import KNeighborsClassifier\n",
        "\n",
        "def run_da_optimization(num_iterations, X_train, y_train, X_test, y_test):\n",
        "    da_results_per_iteration = []\n",
        "    da_best_feature_lists = []\n",
        "    da_best_dims = []\n",
        "    da_best_scores = []\n",
        "\n",
        "    for _ in tqdm(range(num_iterations), desc=\"Iterations\", unit=\"iteration\"):\n",
        "        # Replace with your actual algorithm import and instantiation\n",
        "        algo_object = DragonFlyOptimization(objective_function_topass,\n",
        "                                            n_iteration=100,\n",
        "                                            population_size=11,\n",
        "                                            minimize=True,\n",
        "                                            logger=None,\n",
        "\n",
        "                                           method='random')\n",
        "\n",
        "        model = KNeighborsClassifier()\n",
        "\n",
        "        algo_object.fit(model, X_train, y_train, X_test, y_test, verbose=False)\n",
        "\n",
        "        da_iteration_results = {\n",
        "            \"results_per_iteration\": algo_object.best_results_per_iteration,\n",
        "            \"best_dim_list\": algo_object.best_dim.tolist(),\n",
        "            \"best_feature_list\": algo_object.best_feature_list,\n",
        "            \"best_score\": algo_object.best_score\n",
        "        }\n",
        "        da_best_feature_list = algo_object.best_feature_list\n",
        "        da_best_dim = algo_object.best_dim\n",
        "        da_best_score = algo_object.best_score\n",
        "\n",
        "        da_results_per_iteration.append(da_iteration_results)\n",
        "        da_best_feature_lists.append(da_best_feature_list)\n",
        "        da_best_dims.append(da_best_dim.tolist())\n",
        "        da_best_scores.append(da_best_score)\n",
        "\n",
        "    return da_results_per_iteration, da_best_feature_lists, da_best_dims, da_best_scores\n",
        "\n"
      ],
      "id": "ac28038d-b513-4397-9b33-9ef80979ae62"
    },
    {
      "cell_type": "code",
      "execution_count": null,
      "metadata": {
        "id": "50a9c579-3c44-4d38-a869-a6492b5c7252"
      },
      "outputs": [],
      "source": [
        "def run_cgwoda_optimization(num_iterations, X_train, y_train, X_test, y_test):\n",
        "    results_per_iteration = []\n",
        "    best_feature_lists = []\n",
        "    best_dims = []\n",
        "    best_scores = []\n",
        "\n",
        "    for _ in tqdm(range(num_iterations), desc=\"Iterations\", unit=\"iteration\"):\n",
        "        hybrid_object = HybridOptimizationAlgorithm(\n",
        "            objective_function=objective_function_topass,\n",
        "            n_iteration=100,\n",
        "            population_size=11,\n",
        "            logger=None,\n",
        "        )\n",
        "\n",
        "        knn_classifier = KNeighborsClassifier()\n",
        "\n",
        "        hybrid_object.fit(knn_classifier, X_train, y_train, X_test, y_test, verbose=False)\n",
        "\n",
        "\n",
        "        iteration_results = {\n",
        "            \"results_per_iteration\": hybrid_object.best_results_per_iteration,\n",
        "            \"best_dim_list\": hybrid_object.best_dim.tolist(),\n",
        "            \"best_feature_list\": hybrid_object.best_feature_list,\n",
        "            \"best_score\": hybrid_object.best_score\n",
        "        }\n",
        "\n",
        "        best_feature_list = hybrid_object.best_feature_list\n",
        "        best_dim = hybrid_object.best_dim\n",
        "        best_score = hybrid_object.best_score\n",
        "\n",
        "        results_per_iteration.append(iteration_results)\n",
        "        best_feature_lists.append(best_feature_list)\n",
        "        best_dims.append(best_dim.tolist())\n",
        "        best_scores.append(best_score)\n",
        "\n",
        "    return results_per_iteration, best_feature_lists, best_dims, best_scores"
      ],
      "id": "50a9c579-3c44-4d38-a869-a6492b5c7252"
    },
    {
      "cell_type": "code",
      "execution_count": null,
      "metadata": {
        "id": "tTZLvAIkhLlC"
      },
      "outputs": [],
      "source": [],
      "id": "tTZLvAIkhLlC"
    },
    {
      "cell_type": "code",
      "execution_count": null,
      "metadata": {
        "id": "e9998b6a-f297-46b6-9115-9dee13bedafa"
      },
      "outputs": [],
      "source": [
        "def preprocess_dataset(dataset):\n",
        "        # Separate the features and target variable\n",
        "        if 'id' in dataset.columns:\n",
        "            dataset = dataset.drop('id', axis=1)\n",
        "        if 'bmi' in dataset.columns:\n",
        "            dataset['bmi'].fillna(dataset['bmi'].mean(), inplace=True)\n",
        "        if 'sex' in dataset.columns:\n",
        "            sex_mode_val = dataset['sex'].mode().iloc[0]\n",
        "            dataset['sex'].fillna(sex_mode_val,inplace=True)\n",
        "\n",
        "        # Perform label encoding on categorical features\n",
        "        categorical_features = dataset.select_dtypes(include=['object']).columns\n",
        "        label_encoder = LabelEncoder()\n",
        "        for feature in categorical_features:\n",
        "            dataset[feature] = label_encoder.fit_transform(dataset[feature])\n",
        "\n",
        "\n",
        "\n",
        "        # Normalize the data\n",
        "        scaler = MinMaxScaler()\n",
        "        normalized = scaler.fit_transform(dataset)\n",
        "\n",
        "        # Return the preprocessed dataset\n",
        "        preprocessed_dataset = pd.DataFrame(dataset, columns=dataset.columns)\n",
        "        return preprocessed_dataset"
      ],
      "id": "e9998b6a-f297-46b6-9115-9dee13bedafa"
    },
    {
      "cell_type": "code",
      "execution_count": null,
      "metadata": {
        "id": "IFHfSeNy582O"
      },
      "outputs": [],
      "source": [],
      "id": "IFHfSeNy582O"
    },
    {
      "cell_type": "code",
      "execution_count": 2,
      "metadata": {
        "colab": {
          "base_uri": "https://localhost:8080/"
        },
        "id": "WrYv2LZjxyN-",
        "outputId": "4c5df48e-1a56-4d54-f585-24c8c06b55c7"
      },
      "outputs": [
        {
          "output_type": "stream",
          "name": "stdout",
          "text": [
            "Mounted at /content/drive\n"
          ]
        }
      ],
      "source": [
        "from google.colab import drive\n",
        "drive.mount('/content/drive')"
      ],
      "id": "WrYv2LZjxyN-"
    },
    {
      "cell_type": "code",
      "execution_count": null,
      "metadata": {
        "colab": {
          "base_uri": "https://localhost:8080/"
        },
        "id": "Jk5uh4UJ59An",
        "outputId": "8a45c883-9369-4bc4-d16b-24a106071490"
      },
      "outputs": [
        {
          "output_type": "stream",
          "name": "stdout",
          "text": [
            "/content/drive/My Drive/Colab Notebooks\n"
          ]
        }
      ],
      "source": [
        "%cd 'drive/My Drive/Colab Notebooks'\n"
      ],
      "id": "Jk5uh4UJ59An"
    },
    {
      "cell_type": "code",
      "execution_count": null,
      "metadata": {
        "id": "Asot1ZBd59Ec"
      },
      "outputs": [],
      "source": [
        "|"
      ],
      "id": "Asot1ZBd59Ec"
    },
    {
      "cell_type": "markdown",
      "metadata": {
        "id": "0fcd4ede-022c-4f7a-a9ae-0ecb0756769a"
      },
      "source": [
        "## DRAGONFLY ANS CGWO-DA"
      ],
      "id": "0fcd4ede-022c-4f7a-a9ae-0ecb0756769a"
    },
    {
      "cell_type": "markdown",
      "metadata": {
        "id": "cf82c27c-ae3b-466a-a0b5-72b38d91f8e3"
      },
      "source": [
        "## Dataset 1(https://www.kaggle.com/datasets/fedesoriano/stroke-prediction-dataset)"
      ],
      "id": "cf82c27c-ae3b-466a-a0b5-72b38d91f8e3"
    },
    {
      "cell_type": "markdown",
      "metadata": {
        "id": "w20m1UqkljPy"
      },
      "source": [
        "Classification of stroke patients using data miningwith AdaBoost, Decision Tree and Random Forest models"
      ],
      "id": "w20m1UqkljPy"
    },
    {
      "cell_type": "code",
      "execution_count": null,
      "metadata": {
        "id": "deea3586-d062-4290-ba21-ad6588c78f08"
      },
      "outputs": [],
      "source": [
        "stroke=pd.read_csv('stroke4.csv')\n",
        "stroke=preprocess_dataset(stroke)\n",
        "X = stroke.drop(['stroke'],axis=1)\n",
        "y = stroke['stroke']\n",
        "\n",
        "from imblearn.over_sampling import SMOTE\n",
        "# Assuming X and y are your feature matrix and target variable, respectively\n",
        "smote = SMOTE()\n",
        "X, y = smote.fit_resample(X, y)\n",
        "X_train, X_test, y_train, y_test = train_test_split(X, y, test_size=0.2,random_state=42)"
      ],
      "id": "deea3586-d062-4290-ba21-ad6588c78f08"
    },
    {
      "cell_type": "code",
      "execution_count": null,
      "metadata": {
        "id": "6eda7b3f-d4f7-4f90-bc79-8bc9b1e541b2",
        "outputId": "eeae51ac-665c-4689-ac6c-5e3a6548fb06"
      },
      "outputs": [
        {
          "name": "stderr",
          "output_type": "stream",
          "text": [
            "Iterations:  10%|█         | 3/30 [02:16<20:11, 44.86s/iteration]WARNING:root:1 individuals went zero\n",
            "WARNING:root:1 individuals went zero\n",
            "Iterations:  13%|█▎        | 4/30 [03:02<19:38, 45.32s/iteration]WARNING:root:1 individuals went zero\n",
            "WARNING:root:1 individuals went zero\n",
            "Iterations:  40%|████      | 12/30 [09:10<13:46, 45.94s/iteration]WARNING:root:1 individuals went zero\n",
            "Iterations:  47%|████▋     | 14/30 [10:43<12:19, 46.20s/iteration]WARNING:root:1 individuals went zero\n",
            "WARNING:root:1 individuals went zero\n",
            "WARNING:root:1 individuals went zero\n",
            "Iterations:  50%|█████     | 15/30 [11:31<11:39, 46.64s/iteration]WARNING:root:1 individuals went zero\n",
            "Iterations:  70%|███████   | 21/30 [16:11<07:10, 47.82s/iteration]WARNING:root:1 individuals went zero\n",
            "Iterations: 100%|██████████| 30/30 [23:17<00:00, 46.58s/iteration]\n"
          ]
        }
      ],
      "source": [
        "num_iterations = 30\n",
        "results, features, dims, scores = run_cgwoda_optimization(num_iterations, X_train, y_train, X_test, y_test)"
      ],
      "id": "6eda7b3f-d4f7-4f90-bc79-8bc9b1e541b2"
    },
    {
      "cell_type": "code",
      "execution_count": null,
      "metadata": {
        "id": "dba12bae-ac9f-46e5-9831-cf29791de317",
        "outputId": "54d4708f-d774-470c-a0c4-7701299af772"
      },
      "outputs": [
        {
          "data": {
            "text/plain": [
              "[['age', 'work_type'],\n",
              " ['heart_disease', 'Residence_type'],\n",
              " ['ever_married', 'work_type'],\n",
              " ['gender', 'hypertension', 'ever_married', 'work_type'],\n",
              " ['gender', 'age'],\n",
              " ['gender', 'heart_disease'],\n",
              " ['gender', 'hypertension', 'heart_disease', 'smoking_status'],\n",
              " ['age', 'ever_married', 'work_type'],\n",
              " ['age', 'ever_married', 'Residence_type'],\n",
              " ['age', 'ever_married', 'Residence_type'],\n",
              " ['gender', 'hypertension', 'heart_disease', 'smoking_status'],\n",
              " ['age', 'ever_married', 'Residence_type'],\n",
              " ['hypertension', 'heart_disease', 'ever_married'],\n",
              " ['gender', 'hypertension', 'heart_disease', 'smoking_status'],\n",
              " ['hypertension', 'ever_married', 'work_type'],\n",
              " ['heart_disease'],\n",
              " ['gender', 'hypertension', 'heart_disease', 'Residence_type'],\n",
              " ['hypertension', 'heart_disease', 'ever_married'],\n",
              " ['age', 'ever_married', 'work_type'],\n",
              " ['age', 'ever_married', 'work_type'],\n",
              " ['age', 'ever_married', 'Residence_type'],\n",
              " ['hypertension', 'heart_disease'],\n",
              " ['age', 'ever_married'],\n",
              " ['age',\n",
              "  'hypertension',\n",
              "  'ever_married',\n",
              "  'Residence_type',\n",
              "  'avg_glucose_level',\n",
              "  'bmi',\n",
              "  'smoking_status'],\n",
              " ['age', 'ever_married', 'Residence_type'],\n",
              " ['age', 'ever_married', 'Residence_type'],\n",
              " ['gender', 'hypertension', 'ever_married', 'work_type'],\n",
              " ['age',\n",
              "  'hypertension',\n",
              "  'ever_married',\n",
              "  'Residence_type',\n",
              "  'avg_glucose_level',\n",
              "  'bmi',\n",
              "  'smoking_status'],\n",
              " ['heart_disease', 'ever_married', 'work_type'],\n",
              " ['hypertension', 'heart_disease', 'ever_married']]"
            ]
          },
          "execution_count": 364,
          "metadata": {},
          "output_type": "execute_result"
        }
      ],
      "source": [
        "features"
      ],
      "id": "dba12bae-ac9f-46e5-9831-cf29791de317"
    },
    {
      "cell_type": "code",
      "execution_count": null,
      "metadata": {
        "id": "d6541c65-6b8b-4f33-81c3-dbcce8b78b56"
      },
      "outputs": [],
      "source": [
        "Stroke_data =pd.DataFrame(X[['age',\n",
        "  'hypertension',\n",
        "  'ever_married',\n",
        "  'Residence_type',\n",
        "  'avg_glucose_level',\n",
        "  'bmi',\n",
        "  'smoking_status']])\n",
        "Stroke_data['stroke']=y"
      ],
      "id": "d6541c65-6b8b-4f33-81c3-dbcce8b78b56"
    },
    {
      "cell_type": "code",
      "execution_count": null,
      "metadata": {
        "colab": {
          "base_uri": "https://localhost:8080/"
        },
        "id": "5d8210ec-a8e1-4a8e-9ba0-3e31ff0527d2",
        "outputId": "b9ac072f-a317-4f5a-9664-899550632d32"
      },
      "outputs": [
        {
          "name": "stderr",
          "output_type": "stream",
          "text": [
            "No path specified. Models will be saved in: \"AutogluonModels/ag-20230831_085819/\"\n",
            "Beginning AutoGluon training ...\n",
            "AutoGluon will save models to \"AutogluonModels/ag-20230831_085819/\"\n",
            "AutoGluon Version:  0.8.2\n",
            "Python Version:     3.10.12\n",
            "Operating System:   Linux\n",
            "Platform Machine:   x86_64\n",
            "Platform Version:   #1 SMP Fri Jun 9 10:57:30 UTC 2023\n",
            "Disk Space Avail:   14.53 GB / 16.11 GB (90.2%)\n",
            "Train Data Rows:    9722\n",
            "Train Data Columns: 7\n",
            "Label Column: stroke\n",
            "Preprocessing data ...\n",
            "AutoGluon infers your prediction problem is: 'binary' (because only two unique label-values observed).\n",
            "\t2 unique label values:  [1, 0]\n",
            "\tIf 'binary' is not the correct problem_type, please manually specify the problem_type parameter during predictor init (You may specify problem_type as one of: ['binary', 'multiclass', 'regression'])\n",
            "Selected class <--> label mapping:  class 1 = 1, class 0 = 0\n",
            "Using Feature Generators to preprocess the data ...\n",
            "Fitting AutoMLPipelineFeatureGenerator...\n",
            "\tAvailable Memory:                    11843.44 MB\n",
            "\tTrain Data (Original)  Memory Usage: 0.54 MB (0.0% of available memory)\n",
            "\tInferring data type of each feature based on column values. Set feature_metadata_in to manually specify special dtypes of the features.\n",
            "\tStage 1 Generators:\n",
            "\t\tFitting AsTypeFeatureGenerator...\n",
            "\t\t\tNote: Converting 3 features to boolean dtype as they only contain 2 unique values.\n",
            "\tStage 2 Generators:\n",
            "\t\tFitting FillNaFeatureGenerator...\n",
            "\tStage 3 Generators:\n",
            "\t\tFitting IdentityFeatureGenerator...\n",
            "\tStage 4 Generators:\n",
            "\t\tFitting DropUniqueFeatureGenerator...\n",
            "\tStage 5 Generators:\n",
            "\t\tFitting DropDuplicatesFeatureGenerator...\n",
            "\tTypes of features in original data (raw dtype, special dtypes):\n",
            "\t\t('float', []) : 3 | ['age', 'avg_glucose_level', 'bmi']\n",
            "\t\t('int', [])   : 4 | ['hypertension', 'ever_married', 'Residence_type', 'smoking_status']\n",
            "\tTypes of features in processed data (raw dtype, special dtypes):\n",
            "\t\t('float', [])     : 3 | ['age', 'avg_glucose_level', 'bmi']\n",
            "\t\t('int', [])       : 1 | ['smoking_status']\n",
            "\t\t('int', ['bool']) : 3 | ['hypertension', 'ever_married', 'Residence_type']\n",
            "\t0.3s = Fit runtime\n",
            "\t7 features in original data used to generate 7 features in processed data.\n",
            "\tTrain Data (Processed) Memory Usage: 0.34 MB (0.0% of available memory)\n",
            "Data preprocessing and feature engineering runtime = 0.38s ...\n",
            "AutoGluon will gauge predictive performance using evaluation metric: 'accuracy'\n",
            "\tTo change this, specify the eval_metric parameter of Predictor()\n",
            "Automatically generating train/validation split with holdout_frac=0.1, Train Rows: 8749, Val Rows: 973\n",
            "User-specified model hyperparameters to be fit:\n",
            "{\n",
            "\t'NN_TORCH': {},\n",
            "\t'GBM': [{'extra_trees': True, 'ag_args': {'name_suffix': 'XT'}}, {}, 'GBMLarge'],\n",
            "\t'CAT': {},\n",
            "\t'XGB': {},\n",
            "\t'FASTAI': {},\n",
            "\t'RF': [{'criterion': 'gini', 'ag_args': {'name_suffix': 'Gini', 'problem_types': ['binary', 'multiclass']}}, {'criterion': 'entropy', 'ag_args': {'name_suffix': 'Entr', 'problem_types': ['binary', 'multiclass']}}, {'criterion': 'squared_error', 'ag_args': {'name_suffix': 'MSE', 'problem_types': ['regression', 'quantile']}}],\n",
            "\t'XT': [{'criterion': 'gini', 'ag_args': {'name_suffix': 'Gini', 'problem_types': ['binary', 'multiclass']}}, {'criterion': 'entropy', 'ag_args': {'name_suffix': 'Entr', 'problem_types': ['binary', 'multiclass']}}, {'criterion': 'squared_error', 'ag_args': {'name_suffix': 'MSE', 'problem_types': ['regression', 'quantile']}}],\n",
            "\t'KNN': [{'weights': 'uniform', 'ag_args': {'name_suffix': 'Unif'}}, {'weights': 'distance', 'ag_args': {'name_suffix': 'Dist'}}],\n",
            "}\n",
            "Fitting 13 L1 models ...\n",
            "Fitting model: KNeighborsUnif ...\n",
            "\t0.8952\t = Validation score   (accuracy)\n",
            "\t8.17s\t = Training   runtime\n",
            "\t0.04s\t = Validation runtime\n",
            "Fitting model: KNeighborsDist ...\n",
            "\t0.9003\t = Validation score   (accuracy)\n",
            "\t0.06s\t = Training   runtime\n",
            "\t0.11s\t = Validation runtime\n",
            "Fitting model: LightGBMXT ...\n"
          ]
        },
        {
          "name": "stdout",
          "output_type": "stream",
          "text": [
            "[1000]\tvalid_set's binary_error: 0.0842754\n",
            "[2000]\tvalid_set's binary_error: 0.0647482\n",
            "[3000]\tvalid_set's binary_error: 0.0596095\n"
          ]
        },
        {
          "name": "stderr",
          "output_type": "stream",
          "text": [
            "\t0.9435\t = Validation score   (accuracy)\n",
            "\t24.95s\t = Training   runtime\n",
            "\t0.99s\t = Validation runtime\n",
            "Fitting model: LightGBM ...\n"
          ]
        },
        {
          "name": "stdout",
          "output_type": "stream",
          "text": [
            "[1000]\tvalid_set's binary_error: 0.036999\n"
          ]
        },
        {
          "name": "stderr",
          "output_type": "stream",
          "text": [
            "\t0.9681\t = Validation score   (accuracy)\n",
            "\t5.81s\t = Training   runtime\n",
            "\t0.22s\t = Validation runtime\n",
            "Fitting model: RandomForestGini ...\n",
            "\t0.9558\t = Validation score   (accuracy)\n",
            "\t8.14s\t = Training   runtime\n",
            "\t0.28s\t = Validation runtime\n",
            "Fitting model: RandomForestEntr ...\n",
            "\t0.9568\t = Validation score   (accuracy)\n",
            "\t9.55s\t = Training   runtime\n",
            "\t0.28s\t = Validation runtime\n",
            "Fitting model: CatBoost ...\n",
            "\t0.9671\t = Validation score   (accuracy)\n",
            "\t24.67s\t = Training   runtime\n",
            "\t0.02s\t = Validation runtime\n",
            "Fitting model: ExtraTreesGini ...\n",
            "\t0.9424\t = Validation score   (accuracy)\n",
            "\t3.53s\t = Training   runtime\n",
            "\t0.22s\t = Validation runtime\n",
            "Fitting model: ExtraTreesEntr ...\n",
            "\t0.9435\t = Validation score   (accuracy)\n",
            "\t2.83s\t = Training   runtime\n",
            "\t0.24s\t = Validation runtime\n",
            "Fitting model: NeuralNetFastAI ...\n",
            "\t0.8736\t = Validation score   (accuracy)\n",
            "\t27.43s\t = Training   runtime\n",
            "\t0.05s\t = Validation runtime\n",
            "Fitting model: XGBoost ...\n",
            "\t0.9538\t = Validation score   (accuracy)\n",
            "\t4.13s\t = Training   runtime\n",
            "\t0.07s\t = Validation runtime\n",
            "Fitting model: NeuralNetTorch ...\n",
            "\t0.9188\t = Validation score   (accuracy)\n",
            "\t65.09s\t = Training   runtime\n",
            "\t0.03s\t = Validation runtime\n",
            "Fitting model: LightGBMLarge ...\n",
            "\t0.9671\t = Validation score   (accuracy)\n",
            "\t3.19s\t = Training   runtime\n",
            "\t0.12s\t = Validation runtime\n",
            "Fitting model: WeightedEnsemble_L2 ...\n",
            "\t0.9743\t = Validation score   (accuracy)\n",
            "\t1.32s\t = Training   runtime\n",
            "\t0.0s\t = Validation runtime\n",
            "AutoGluon training complete, total runtime = 199.9s ... Best model: \"WeightedEnsemble_L2\"\n",
            "TabularPredictor saved. To load, use: predictor = TabularPredictor.load(\"AutogluonModels/ag-20230831_085819/\")\n"
          ]
        }
      ],
      "source": [
        "predictor_combined = TabularPredictor(\n",
        "    label=\"stroke\",\n",
        "\n",
        ").fit(\n",
        "    train_data=Stroke_data,\n",
        "\n",
        ")"
      ],
      "id": "5d8210ec-a8e1-4a8e-9ba0-3e31ff0527d2"
    },
    {
      "cell_type": "code",
      "execution_count": null,
      "metadata": {
        "colab": {
          "base_uri": "https://localhost:8080/"
        },
        "id": "f7ec2cb0-c66a-48f4-8b48-600b0945478a",
        "outputId": "3e4df4fb-c257-4105-cf97-bbc257874214"
      },
      "outputs": [
        {
          "name": "stdout",
          "output_type": "stream",
          "text": [
            "                  model  score_val  pred_time_val   fit_time  pred_time_val_marginal  fit_time_marginal  stack_level  can_infer  fit_order\n",
            "0   WeightedEnsemble_L2   0.974306       0.767453  44.179704                0.002513           1.316195            2       True         14\n",
            "1              LightGBM   0.968140       0.220406   5.813602                0.220406           5.813602            1       True          4\n",
            "2              CatBoost   0.967112       0.023121  24.667517                0.023121          24.667517            1       True          7\n",
            "3         LightGBMLarge   0.967112       0.115362   3.192301                0.115362           3.192301            1       True         13\n",
            "4      RandomForestEntr   0.956835       0.281702   9.550698                0.281702           9.550698            1       True          6\n",
            "5      RandomForestGini   0.955807       0.277325   8.139713                0.277325           8.139713            1       True          5\n",
            "6               XGBoost   0.953751       0.068912   4.129819                0.068912           4.129819            1       True         11\n",
            "7        ExtraTreesEntr   0.943474       0.239711   2.831691                0.239711           2.831691            1       True          9\n",
            "8            LightGBMXT   0.943474       0.994061  24.953032                0.994061          24.953032            1       True          3\n",
            "9        ExtraTreesGini   0.942446       0.215776   3.527164                0.215776           3.527164            1       True          8\n",
            "10       NeuralNetTorch   0.918808       0.026297  65.085146                0.026297          65.085146            1       True         12\n",
            "11       KNeighborsDist   0.900308       0.111700   0.059242                0.111700           0.059242            1       True          2\n",
            "12       KNeighborsUnif   0.895170       0.036113   8.165246                0.036113           8.165246            1       True          1\n",
            "13      NeuralNetFastAI   0.873587       0.049260  27.434701                0.049260          27.434701            1       True         10\n"
          ]
        }
      ],
      "source": [
        "cgwoda_dataset1=predictor_combined.leaderboard()"
      ],
      "id": "f7ec2cb0-c66a-48f4-8b48-600b0945478a"
    },
    {
      "cell_type": "code",
      "execution_count": null,
      "metadata": {
        "id": "6f8d1ac9-28bd-4e36-a499-3ff381a8f84e"
      },
      "outputs": [],
      "source": [],
      "id": "6f8d1ac9-28bd-4e36-a499-3ff381a8f84e"
    },
    {
      "cell_type": "code",
      "execution_count": null,
      "metadata": {
        "id": "d37f12b1-8aab-4ace-ab4e-b599bdb28aae",
        "outputId": "4456dd38-ef1f-4086-d27b-6bf580b154ed"
      },
      "outputs": [
        {
          "name": "stderr",
          "output_type": "stream",
          "text": [
            "Iterations:   0%|          | 0/30 [00:00<?, ?iteration/s]\u001b[32m [ 2023-08-21 11:26:02,849 ] \u001b[0m1 individuals went zero\u001b[0m\n",
            "Iterations:   3%|▎         | 1/30 [01:12<34:52, 72.14s/iteration]\u001b[32m [ 2023-08-21 11:27:32,841 ] \u001b[0m1 individuals went zero\u001b[0m\n",
            "\u001b[32m [ 2023-08-21 11:27:41,057 ] \u001b[0m1 individuals went zero\u001b[0m\n",
            "\u001b[32m [ 2023-08-21 11:27:41,281 ] \u001b[0m2 individuals went zero\u001b[0m\n",
            "Iterations:   7%|▋         | 2/30 [02:22<33:04, 70.87s/iteration]\u001b[32m [ 2023-08-21 11:28:26,805 ] \u001b[0m1 individuals went zero\u001b[0m\n",
            "\u001b[32m [ 2023-08-21 11:28:52,640 ] \u001b[0m1 individuals went zero\u001b[0m\n",
            "Iterations:  10%|█         | 3/30 [03:31<31:35, 70.19s/iteration]\u001b[32m [ 2023-08-21 11:29:17,312 ] \u001b[0m1 individuals went zero\u001b[0m\n",
            "\u001b[32m [ 2023-08-21 11:29:22,635 ] \u001b[0m1 individuals went zero\u001b[0m\n",
            "\u001b[32m [ 2023-08-21 11:29:26,358 ] \u001b[0m1 individuals went zero\u001b[0m\n",
            "\u001b[32m [ 2023-08-21 11:29:52,146 ] \u001b[0m1 individuals went zero\u001b[0m\n",
            "\u001b[32m [ 2023-08-21 11:29:55,970 ] \u001b[0m1 individuals went zero\u001b[0m\n",
            "\u001b[32m [ 2023-08-21 11:29:57,145 ] \u001b[0m1 individuals went zero\u001b[0m\n",
            "\u001b[32m [ 2023-08-21 11:29:59,969 ] \u001b[0m1 individuals went zero\u001b[0m\n",
            "\u001b[32m [ 2023-08-21 11:30:00,697 ] \u001b[0m1 individuals went zero\u001b[0m\n",
            "Iterations:  13%|█▎        | 4/30 [04:40<30:11, 69.66s/iteration]\u001b[32m [ 2023-08-21 11:30:48,193 ] \u001b[0m1 individuals went zero\u001b[0m\n",
            "\u001b[32m [ 2023-08-21 11:30:53,520 ] \u001b[0m1 individuals went zero\u001b[0m\n",
            "\u001b[32m [ 2023-08-21 11:30:55,831 ] \u001b[0m1 individuals went zero\u001b[0m\n",
            "\u001b[32m [ 2023-08-21 11:31:03,627 ] \u001b[0m1 individuals went zero\u001b[0m\n",
            "\u001b[32m [ 2023-08-21 11:31:08,640 ] \u001b[0m1 individuals went zero\u001b[0m\n",
            "Iterations:  17%|█▋        | 5/30 [05:50<29:07, 69.88s/iteration]\u001b[32m [ 2023-08-21 11:31:22,388 ] \u001b[0m1 individuals went zero\u001b[0m\n",
            "\u001b[32m [ 2023-08-21 11:31:44,561 ] \u001b[0m1 individuals went zero\u001b[0m\n",
            "\u001b[32m [ 2023-08-21 11:32:04,248 ] \u001b[0m1 individuals went zero\u001b[0m\n",
            "\u001b[32m [ 2023-08-21 11:32:20,702 ] \u001b[0m1 individuals went zero\u001b[0m\n",
            "Iterations:  20%|██        | 6/30 [07:02<28:11, 70.49s/iteration]\u001b[32m [ 2023-08-21 11:33:08,078 ] \u001b[0m1 individuals went zero\u001b[0m\n",
            "Iterations:  23%|██▎       | 7/30 [08:11<26:50, 70.02s/iteration]\u001b[32m [ 2023-08-21 11:34:27,913 ] \u001b[0m1 individuals went zero\u001b[0m\n",
            "\u001b[32m [ 2023-08-21 11:34:39,200 ] \u001b[0m1 individuals went zero\u001b[0m\n",
            "\u001b[32m [ 2023-08-21 11:34:43,643 ] \u001b[0m1 individuals went zero\u001b[0m\n",
            "Iterations:  27%|██▋       | 8/30 [09:24<26:03, 71.05s/iteration]\u001b[32m [ 2023-08-21 11:35:20,690 ] \u001b[0m1 individuals went zero\u001b[0m\n",
            "\u001b[32m [ 2023-08-21 11:35:28,674 ] \u001b[0m1 individuals went zero\u001b[0m\n",
            "\u001b[32m [ 2023-08-21 11:35:51,180 ] \u001b[0m1 individuals went zero\u001b[0m\n",
            "\u001b[32m [ 2023-08-21 11:35:52,789 ] \u001b[0m1 individuals went zero\u001b[0m\n",
            "\u001b[32m [ 2023-08-21 11:35:55,331 ] \u001b[0m1 individuals went zero\u001b[0m\n",
            "\u001b[32m [ 2023-08-21 11:35:57,588 ] \u001b[0m2 individuals went zero\u001b[0m\n",
            "Iterations:  30%|███       | 9/30 [10:37<25:00, 71.47s/iteration]\u001b[32m [ 2023-08-21 11:36:19,113 ] \u001b[0m1 individuals went zero\u001b[0m\n",
            "\u001b[32m [ 2023-08-21 11:36:43,573 ] \u001b[0m1 individuals went zero\u001b[0m\n",
            "\u001b[32m [ 2023-08-21 11:36:45,039 ] \u001b[0m1 individuals went zero\u001b[0m\n",
            "\u001b[32m [ 2023-08-21 11:37:03,931 ] \u001b[0m1 individuals went zero\u001b[0m\n",
            "Iterations:  33%|███▎      | 10/30 [11:43<23:15, 69.80s/iteration]\u001b[32m [ 2023-08-21 11:37:49,691 ] \u001b[0m1 individuals went zero\u001b[0m\n",
            "\u001b[32m [ 2023-08-21 11:38:11,460 ] \u001b[0m2 individuals went zero\u001b[0m\n",
            "Iterations:  37%|███▋      | 11/30 [12:53<22:07, 69.87s/iteration]\u001b[32m [ 2023-08-21 11:38:36,594 ] \u001b[0m1 individuals went zero\u001b[0m\n",
            "\u001b[32m [ 2023-08-21 11:38:42,276 ] \u001b[0m1 individuals went zero\u001b[0m\n",
            "\u001b[32m [ 2023-08-21 11:38:50,828 ] \u001b[0m1 individuals went zero\u001b[0m\n",
            "\u001b[32m [ 2023-08-21 11:38:58,353 ] \u001b[0m1 individuals went zero\u001b[0m\n",
            "\u001b[32m [ 2023-08-21 11:39:07,620 ] \u001b[0m1 individuals went zero\u001b[0m\n",
            "\u001b[32m [ 2023-08-21 11:39:14,518 ] \u001b[0m1 individuals went zero\u001b[0m\n",
            "\u001b[32m [ 2023-08-21 11:39:19,311 ] \u001b[0m1 individuals went zero\u001b[0m\n",
            "\u001b[32m [ 2023-08-21 11:39:22,123 ] \u001b[0m1 individuals went zero\u001b[0m\n",
            "\u001b[32m [ 2023-08-21 11:39:22,733 ] \u001b[0m1 individuals went zero\u001b[0m\n",
            "Iterations:  40%|████      | 12/30 [14:02<20:56, 69.81s/iteration]\u001b[32m [ 2023-08-21 11:39:56,531 ] \u001b[0m1 individuals went zero\u001b[0m\n",
            "\u001b[32m [ 2023-08-21 11:40:14,986 ] \u001b[0m1 individuals went zero\u001b[0m\n",
            "\u001b[32m [ 2023-08-21 11:40:30,363 ] \u001b[0m1 individuals went zero\u001b[0m\n",
            "\u001b[32m [ 2023-08-21 11:40:35,688 ] \u001b[0m1 individuals went zero\u001b[0m\n",
            "\u001b[32m [ 2023-08-21 11:40:37,600 ] \u001b[0m1 individuals went zero\u001b[0m\n",
            "Iterations:  43%|████▎     | 13/30 [15:19<20:24, 72.06s/iteration]\u001b[32m [ 2023-08-21 11:41:07,503 ] \u001b[0m1 individuals went zero\u001b[0m\n",
            "Iterations:  47%|████▋     | 14/30 [16:36<19:36, 73.55s/iteration]\u001b[32m [ 2023-08-21 11:42:14,857 ] \u001b[0m1 individuals went zero\u001b[0m\n",
            "Iterations:  50%|█████     | 15/30 [17:45<17:59, 71.96s/iteration]\u001b[32m [ 2023-08-21 11:44:07,481 ] \u001b[0m1 individuals went zero\u001b[0m\n",
            "Iterations:  53%|█████▎    | 16/30 [18:53<16:33, 70.95s/iteration]\u001b[32m [ 2023-08-21 11:45:24,807 ] \u001b[0m1 individuals went zero\u001b[0m\n",
            "Iterations:  57%|█████▋    | 17/30 [20:12<15:54, 73.39s/iteration]\u001b[32m [ 2023-08-21 11:46:46,360 ] \u001b[0m2 individuals went zero\u001b[0m\n",
            "Iterations:  60%|██████    | 18/30 [21:25<14:39, 73.25s/iteration]\u001b[32m [ 2023-08-21 11:46:47,748 ] \u001b[0m1 individuals went zero\u001b[0m\n",
            "\u001b[32m [ 2023-08-21 11:47:47,376 ] \u001b[0m1 individuals went zero\u001b[0m\n",
            "Iterations:  63%|██████▎   | 19/30 [22:35<13:15, 72.30s/iteration]\u001b[32m [ 2023-08-21 11:48:41,278 ] \u001b[0m1 individuals went zero\u001b[0m\n",
            "\u001b[32m [ 2023-08-21 11:48:43,270 ] \u001b[0m1 individuals went zero\u001b[0m\n",
            "\u001b[32m [ 2023-08-21 11:48:54,538 ] \u001b[0m1 individuals went zero\u001b[0m\n",
            "Iterations:  67%|██████▋   | 20/30 [23:46<11:58, 71.83s/iteration]\u001b[32m [ 2023-08-21 11:49:50,847 ] \u001b[0m1 individuals went zero\u001b[0m\n",
            "Iterations:  70%|███████   | 21/30 [24:57<10:44, 71.66s/iteration]\u001b[32m [ 2023-08-21 11:51:28,696 ] \u001b[0m1 individuals went zero\u001b[0m\n",
            "\u001b[32m [ 2023-08-21 11:51:29,831 ] \u001b[0m1 individuals went zero\u001b[0m\n",
            "\u001b[32m [ 2023-08-21 11:51:31,299 ] \u001b[0m1 individuals went zero\u001b[0m\n",
            "Iterations:  73%|███████▎  | 22/30 [26:10<09:34, 71.86s/iteration]\u001b[32m [ 2023-08-21 11:52:35,457 ] \u001b[0m1 individuals went zero\u001b[0m\n",
            "\u001b[32m [ 2023-08-21 11:52:36,557 ] \u001b[0m1 individuals went zero\u001b[0m\n",
            "Iterations:  77%|███████▋  | 23/30 [27:18<08:14, 70.69s/iteration]\u001b[32m [ 2023-08-21 11:53:00,578 ] \u001b[0m1 individuals went zero\u001b[0m\n",
            "\u001b[32m [ 2023-08-21 11:53:02,387 ] \u001b[0m1 individuals went zero\u001b[0m\n",
            "\u001b[32m [ 2023-08-21 11:53:41,154 ] \u001b[0m1 individuals went zero\u001b[0m\n",
            "\u001b[32m [ 2023-08-21 11:53:45,617 ] \u001b[0m1 individuals went zero\u001b[0m\n",
            "\u001b[32m [ 2023-08-21 11:53:46,698 ] \u001b[0m1 individuals went zero\u001b[0m\n",
            "Iterations:  80%|████████  | 24/30 [28:25<06:57, 69.58s/iteration]\u001b[32m [ 2023-08-21 11:54:46,958 ] \u001b[0m1 individuals went zero\u001b[0m\n",
            "\u001b[32m [ 2023-08-21 11:54:50,606 ] \u001b[0m1 individuals went zero\u001b[0m\n",
            "Iterations:  83%|████████▎ | 25/30 [29:33<05:46, 69.31s/iteration]\u001b[32m [ 2023-08-21 11:55:03,436 ] \u001b[0m1 individuals went zero\u001b[0m\n",
            "\u001b[32m [ 2023-08-21 11:55:47,573 ] \u001b[0m1 individuals went zero\u001b[0m\n",
            "\u001b[32m [ 2023-08-21 11:56:01,734 ] \u001b[0m1 individuals went zero\u001b[0m\n",
            "\u001b[32m [ 2023-08-21 11:56:03,595 ] \u001b[0m1 individuals went zero\u001b[0m\n",
            "\u001b[32m [ 2023-08-21 11:56:05,704 ] \u001b[0m1 individuals went zero\u001b[0m\n",
            "Iterations:  87%|████████▋ | 26/30 [30:47<04:42, 70.52s/iteration]\u001b[32m [ 2023-08-21 11:56:09,116 ] \u001b[0m1 individuals went zero\u001b[0m\n",
            "\u001b[32m [ 2023-08-21 11:56:53,200 ] \u001b[0m1 individuals went zero\u001b[0m\n",
            "\u001b[32m [ 2023-08-21 11:57:07,966 ] \u001b[0m1 individuals went zero\u001b[0m\n",
            "\u001b[32m [ 2023-08-21 11:57:14,140 ] \u001b[0m1 individuals went zero\u001b[0m\n",
            "Iterations:  90%|█████████ | 27/30 [31:56<03:30, 70.07s/iteration]\u001b[32m [ 2023-08-21 11:57:31,820 ] \u001b[0m1 individuals went zero\u001b[0m\n",
            "\u001b[32m [ 2023-08-21 11:58:06,546 ] \u001b[0m1 individuals went zero\u001b[0m\n",
            "\u001b[32m [ 2023-08-21 11:58:10,006 ] \u001b[0m2 individuals went zero\u001b[0m\n",
            "Iterations:  93%|█████████▎| 28/30 [33:09<02:21, 70.93s/iteration]\u001b[32m [ 2023-08-21 11:59:12,605 ] \u001b[0m1 individuals went zero\u001b[0m\n",
            "Iterations:  97%|█████████▋| 29/30 [34:23<01:11, 71.99s/iteration]\u001b[32m [ 2023-08-21 12:00:28,166 ] \u001b[0m1 individuals went zero\u001b[0m\n",
            "\u001b[32m [ 2023-08-21 12:00:40,994 ] \u001b[0m1 individuals went zero\u001b[0m\n",
            "\u001b[32m [ 2023-08-21 12:00:50,137 ] \u001b[0m1 individuals went zero\u001b[0m\n",
            "Iterations: 100%|██████████| 30/30 [35:31<00:00, 71.06s/iteration]\n"
          ]
        }
      ],
      "source": [
        "num_iterations = 30\n",
        "da_results, da_features, da_dims, da_scores = run_da_optimization(num_iterations, X_train, y_train, X_test, y_test)\n"
      ],
      "id": "d37f12b1-8aab-4ace-ab4e-b599bdb28aae"
    },
    {
      "cell_type": "code",
      "execution_count": null,
      "metadata": {
        "id": "5703561e-eb63-4b5f-9a89-c716f8b99987",
        "outputId": "7df08152-8d5a-40d4-9bd5-cae1549fc3d4"
      },
      "outputs": [
        {
          "data": {
            "text/plain": [
              "[['age'],\n",
              " ['age'],\n",
              " ['age'],\n",
              " ['age'],\n",
              " ['age'],\n",
              " ['age'],\n",
              " ['age'],\n",
              " ['age'],\n",
              " ['age'],\n",
              " ['age', 'hypertension', 'ever_married'],\n",
              " ['age'],\n",
              " ['age'],\n",
              " ['age'],\n",
              " ['age'],\n",
              " ['age'],\n",
              " ['age'],\n",
              " ['age'],\n",
              " ['age'],\n",
              " ['age'],\n",
              " ['age'],\n",
              " ['age'],\n",
              " ['age'],\n",
              " ['age'],\n",
              " ['age'],\n",
              " ['age'],\n",
              " ['age'],\n",
              " ['age'],\n",
              " ['age'],\n",
              " ['age'],\n",
              " ['age']]"
            ]
          },
          "execution_count": 24,
          "metadata": {},
          "output_type": "execute_result"
        }
      ],
      "source": [
        "da_features"
      ],
      "id": "5703561e-eb63-4b5f-9a89-c716f8b99987"
    },
    {
      "cell_type": "code",
      "execution_count": null,
      "metadata": {
        "id": "345bc117-767d-44d1-b112-4510ad2d98d6"
      },
      "outputs": [],
      "source": [
        "Stroke_data =pd.DataFrame(X[['age', 'hypertension', 'ever_married']])\n",
        "Stroke_data['stroke']=y"
      ],
      "id": "345bc117-767d-44d1-b112-4510ad2d98d6"
    },
    {
      "cell_type": "code",
      "execution_count": null,
      "metadata": {
        "colab": {
          "base_uri": "https://localhost:8080/"
        },
        "id": "ac322a66-f07a-400c-94e5-c0cca22570f8",
        "outputId": "691e08c5-2184-45c1-f6fa-97e9760f4380"
      },
      "outputs": [
        {
          "name": "stderr",
          "output_type": "stream",
          "text": [
            "No path specified. Models will be saved in: \"AutogluonModels/ag-20230831_090139/\"\n",
            "Beginning AutoGluon training ...\n",
            "AutoGluon will save models to \"AutogluonModels/ag-20230831_090139/\"\n",
            "AutoGluon Version:  0.8.2\n",
            "Python Version:     3.10.12\n",
            "Operating System:   Linux\n",
            "Platform Machine:   x86_64\n",
            "Platform Version:   #1 SMP Fri Jun 9 10:57:30 UTC 2023\n",
            "Disk Space Avail:   14.28 GB / 16.11 GB (88.7%)\n",
            "Train Data Rows:    9722\n",
            "Train Data Columns: 3\n",
            "Label Column: stroke\n",
            "Preprocessing data ...\n",
            "AutoGluon infers your prediction problem is: 'binary' (because only two unique label-values observed).\n",
            "\t2 unique label values:  [1, 0]\n",
            "\tIf 'binary' is not the correct problem_type, please manually specify the problem_type parameter during predictor init (You may specify problem_type as one of: ['binary', 'multiclass', 'regression'])\n",
            "Selected class <--> label mapping:  class 1 = 1, class 0 = 0\n",
            "Using Feature Generators to preprocess the data ...\n",
            "Fitting AutoMLPipelineFeatureGenerator...\n",
            "\tAvailable Memory:                    11335.91 MB\n",
            "\tTrain Data (Original)  Memory Usage: 0.23 MB (0.0% of available memory)\n",
            "\tInferring data type of each feature based on column values. Set feature_metadata_in to manually specify special dtypes of the features.\n",
            "\tStage 1 Generators:\n",
            "\t\tFitting AsTypeFeatureGenerator...\n",
            "\t\t\tNote: Converting 2 features to boolean dtype as they only contain 2 unique values.\n",
            "\tStage 2 Generators:\n",
            "\t\tFitting FillNaFeatureGenerator...\n",
            "\tStage 3 Generators:\n",
            "\t\tFitting IdentityFeatureGenerator...\n",
            "\tStage 4 Generators:\n",
            "\t\tFitting DropUniqueFeatureGenerator...\n",
            "\tStage 5 Generators:\n",
            "\t\tFitting DropDuplicatesFeatureGenerator...\n",
            "\tTypes of features in original data (raw dtype, special dtypes):\n",
            "\t\t('float', []) : 1 | ['age']\n",
            "\t\t('int', [])   : 2 | ['hypertension', 'ever_married']\n",
            "\tTypes of features in processed data (raw dtype, special dtypes):\n",
            "\t\t('float', [])     : 1 | ['age']\n",
            "\t\t('int', ['bool']) : 2 | ['hypertension', 'ever_married']\n",
            "\t0.1s = Fit runtime\n",
            "\t3 features in original data used to generate 3 features in processed data.\n",
            "\tTrain Data (Processed) Memory Usage: 0.1 MB (0.0% of available memory)\n",
            "Data preprocessing and feature engineering runtime = 0.14s ...\n",
            "AutoGluon will gauge predictive performance using evaluation metric: 'accuracy'\n",
            "\tTo change this, specify the eval_metric parameter of Predictor()\n",
            "Automatically generating train/validation split with holdout_frac=0.1, Train Rows: 8749, Val Rows: 973\n",
            "User-specified model hyperparameters to be fit:\n",
            "{\n",
            "\t'NN_TORCH': {},\n",
            "\t'GBM': [{'extra_trees': True, 'ag_args': {'name_suffix': 'XT'}}, {}, 'GBMLarge'],\n",
            "\t'CAT': {},\n",
            "\t'XGB': {},\n",
            "\t'FASTAI': {},\n",
            "\t'RF': [{'criterion': 'gini', 'ag_args': {'name_suffix': 'Gini', 'problem_types': ['binary', 'multiclass']}}, {'criterion': 'entropy', 'ag_args': {'name_suffix': 'Entr', 'problem_types': ['binary', 'multiclass']}}, {'criterion': 'squared_error', 'ag_args': {'name_suffix': 'MSE', 'problem_types': ['regression', 'quantile']}}],\n",
            "\t'XT': [{'criterion': 'gini', 'ag_args': {'name_suffix': 'Gini', 'problem_types': ['binary', 'multiclass']}}, {'criterion': 'entropy', 'ag_args': {'name_suffix': 'Entr', 'problem_types': ['binary', 'multiclass']}}, {'criterion': 'squared_error', 'ag_args': {'name_suffix': 'MSE', 'problem_types': ['regression', 'quantile']}}],\n",
            "\t'KNN': [{'weights': 'uniform', 'ag_args': {'name_suffix': 'Unif'}}, {'weights': 'distance', 'ag_args': {'name_suffix': 'Dist'}}],\n",
            "}\n",
            "Fitting 13 L1 models ...\n",
            "Fitting model: KNeighborsUnif ...\n",
            "\t0.927\t = Validation score   (accuracy)\n",
            "\t0.02s\t = Training   runtime\n",
            "\t0.02s\t = Validation runtime\n",
            "Fitting model: KNeighborsDist ...\n",
            "\t0.9342\t = Validation score   (accuracy)\n",
            "\t0.02s\t = Training   runtime\n",
            "\t0.02s\t = Validation runtime\n",
            "Fitting model: LightGBMXT ...\n",
            "\t0.8037\t = Validation score   (accuracy)\n",
            "\t0.78s\t = Training   runtime\n",
            "\t0.01s\t = Validation runtime\n",
            "Fitting model: LightGBM ...\n",
            "\t0.9342\t = Validation score   (accuracy)\n",
            "\t1.16s\t = Training   runtime\n",
            "\t0.03s\t = Validation runtime\n",
            "Fitting model: RandomForestGini ...\n",
            "\t0.9435\t = Validation score   (accuracy)\n",
            "\t3.86s\t = Training   runtime\n",
            "\t0.17s\t = Validation runtime\n",
            "Fitting model: RandomForestEntr ...\n",
            "\t0.9435\t = Validation score   (accuracy)\n",
            "\t4.66s\t = Training   runtime\n",
            "\t0.15s\t = Validation runtime\n",
            "Fitting model: CatBoost ...\n",
            "\t0.9383\t = Validation score   (accuracy)\n",
            "\t4.66s\t = Training   runtime\n",
            "\t0.0s\t = Validation runtime\n",
            "Fitting model: ExtraTreesGini ...\n",
            "\t0.9404\t = Validation score   (accuracy)\n",
            "\t1.25s\t = Training   runtime\n",
            "\t0.13s\t = Validation runtime\n",
            "Fitting model: ExtraTreesEntr ...\n",
            "\t0.9435\t = Validation score   (accuracy)\n",
            "\t1.26s\t = Training   runtime\n",
            "\t0.19s\t = Validation runtime\n",
            "Fitting model: NeuralNetFastAI ...\n",
            "\t0.8047\t = Validation score   (accuracy)\n",
            "\t26.64s\t = Training   runtime\n",
            "\t0.03s\t = Validation runtime\n",
            "Fitting model: XGBoost ...\n",
            "\t0.8746\t = Validation score   (accuracy)\n",
            "\t0.62s\t = Training   runtime\n",
            "\t0.02s\t = Validation runtime\n",
            "Fitting model: NeuralNetTorch ...\n",
            "\t0.8027\t = Validation score   (accuracy)\n",
            "\t8.36s\t = Training   runtime\n",
            "\t0.01s\t = Validation runtime\n",
            "Fitting model: LightGBMLarge ...\n",
            "\t0.9332\t = Validation score   (accuracy)\n",
            "\t2.81s\t = Training   runtime\n",
            "\t0.09s\t = Validation runtime\n",
            "Fitting model: WeightedEnsemble_L2 ...\n",
            "\t0.9486\t = Validation score   (accuracy)\n",
            "\t2.0s\t = Training   runtime\n",
            "\t0.01s\t = Validation runtime\n",
            "AutoGluon training complete, total runtime = 60.95s ... Best model: \"WeightedEnsemble_L2\"\n",
            "TabularPredictor saved. To load, use: predictor = TabularPredictor.load(\"AutogluonModels/ag-20230831_090139/\")\n"
          ]
        }
      ],
      "source": [
        "predictor_combined = TabularPredictor(\n",
        "    label=\"stroke\",\n",
        "\n",
        ").fit(\n",
        "    train_data=Stroke_data,\n",
        "\n",
        ")"
      ],
      "id": "ac322a66-f07a-400c-94e5-c0cca22570f8"
    },
    {
      "cell_type": "code",
      "execution_count": null,
      "metadata": {
        "colab": {
          "base_uri": "https://localhost:8080/"
        },
        "id": "a25604a3-de82-4b88-9451-9923842ffdff",
        "outputId": "ae06654a-a553-4f3c-cf99-f3a1d35034fe"
      },
      "outputs": [
        {
          "name": "stdout",
          "output_type": "stream",
          "text": [
            "                  model  score_val  pred_time_val   fit_time  pred_time_val_marginal  fit_time_marginal  stack_level  can_infer  fit_order\n",
            "0   WeightedEnsemble_L2   0.948613       0.441607  10.568441                0.006377           1.999578            2       True         14\n",
            "1      RandomForestEntr   0.943474       0.150679   4.656412                0.150679           4.656412            1       True          6\n",
            "2      RandomForestGini   0.943474       0.169379   3.863895                0.169379           3.863895            1       True          5\n",
            "3        ExtraTreesEntr   0.943474       0.191874   1.257327                0.191874           1.257327            1       True          9\n",
            "4        ExtraTreesGini   0.940391       0.131202   1.251241                0.131202           1.251241            1       True          8\n",
            "5              CatBoost   0.938335       0.004634   4.657119                0.004634           4.657119            1       True          7\n",
            "6        KNeighborsDist   0.934224       0.024049   0.017398                0.024049           0.017398            1       True          2\n",
            "7              LightGBM   0.934224       0.031786   1.163791                0.031786           1.163791            1       True          4\n",
            "8         LightGBMLarge   0.933196       0.092652   2.811969                0.092652           2.811969            1       True         13\n",
            "9        KNeighborsUnif   0.927030       0.019043   0.015608                0.019043           0.015608            1       True          1\n",
            "10              XGBoost   0.874615       0.017948   0.624360                0.017948           0.624360            1       True         11\n",
            "11      NeuralNetFastAI   0.804728       0.032334  26.638607                0.032334          26.638607            1       True         10\n",
            "12           LightGBMXT   0.803700       0.012384   0.780233                0.012384           0.780233            1       True          3\n",
            "13       NeuralNetTorch   0.802672       0.011379   8.355093                0.011379           8.355093            1       True         12\n"
          ]
        }
      ],
      "source": [
        "da_dataset1=predictor_combined.leaderboard()"
      ],
      "id": "a25604a3-de82-4b88-9451-9923842ffdff"
    },
    {
      "cell_type": "markdown",
      "metadata": {
        "id": "SmoQyPHvWQ6J"
      },
      "source": [],
      "id": "SmoQyPHvWQ6J"
    },
    {
      "cell_type": "markdown",
      "metadata": {
        "id": "22be9211-cc88-466c-8de2-907a5bdff948"
      },
      "source": [
        "## DataSet 2"
      ],
      "id": "22be9211-cc88-466c-8de2-907a5bdff948"
    },
    {
      "cell_type": "markdown",
      "metadata": {
        "id": "6OXsAtqRWsGv"
      },
      "source": [
        "COMPARATIVE ANALYSIS OF STROKE CLASSIFICATION USING THE K-NEAREST NEIGHBOR DECISION TREE, AND MULTILAYER PERCEPTRON METHODS"
      ],
      "id": "6OXsAtqRWsGv"
    },
    {
      "cell_type": "markdown",
      "metadata": {
        "id": "4TrTnwPbWSRQ"
      },
      "source": [
        "https://www.kaggle.com/datasets/jillanisofttech/brain-stroke-dataset"
      ],
      "id": "4TrTnwPbWSRQ"
    },
    {
      "cell_type": "code",
      "execution_count": null,
      "metadata": {
        "id": "f4f5d20d-ff6a-4fcb-b5f2-09c5e6a7d7a9"
      },
      "outputs": [],
      "source": [
        "stroke2 = pd.read_csv('stroke/stroke2.csv')"
      ],
      "id": "f4f5d20d-ff6a-4fcb-b5f2-09c5e6a7d7a9"
    },
    {
      "cell_type": "code",
      "execution_count": null,
      "metadata": {
        "id": "5006ca31-06e9-46fd-b0f6-97c47f272e97"
      },
      "outputs": [],
      "source": [
        "stroke2=preprocess_dataset(stroke2)\n",
        "X = stroke2.drop(['stroke'],axis=1)\n",
        "y = stroke2['stroke']\n",
        "\n",
        "from imblearn.over_sampling import SMOTE\n",
        "# Assuming X and y are your feature matrix and target variable, respectively\n",
        "smote = SMOTE()\n",
        "X, y = smote.fit_resample(X, y)\n",
        "X_train, X_test, y_train, y_test = train_test_split(X, y, test_size=0.2,random_state=42)"
      ],
      "id": "5006ca31-06e9-46fd-b0f6-97c47f272e97"
    },
    {
      "cell_type": "code",
      "execution_count": null,
      "metadata": {
        "id": "ae6e3cd6-7ae6-4d8c-9adf-895ebe5ec714"
      },
      "outputs": [],
      "source": [],
      "id": "ae6e3cd6-7ae6-4d8c-9adf-895ebe5ec714"
    },
    {
      "cell_type": "code",
      "execution_count": null,
      "metadata": {
        "id": "b754ed5d-cf62-4076-abdc-a06238cfa817",
        "outputId": "aab08d50-4638-4731-d1b9-9b20e8f72310"
      },
      "outputs": [
        {
          "name": "stderr",
          "output_type": "stream",
          "text": [
            "Iterations:   7%|▋         | 2/30 [01:43<23:58, 51.38s/iteration]WARNING:root:1 individuals went zero\n",
            "Iterations:  13%|█▎        | 4/30 [03:40<24:31, 56.60s/iteration]WARNING:root:1 individuals went zero\n",
            "Iterations:  27%|██▋       | 8/30 [06:45<17:36, 48.00s/iteration]WARNING:root:1 individuals went zero\n",
            "Iterations:  30%|███       | 9/30 [07:31<16:33, 47.31s/iteration]WARNING:root:1 individuals went zero\n",
            "Iterations:  43%|████▎     | 13/30 [10:18<12:12, 43.11s/iteration]WARNING:root:1 individuals went zero\n",
            "Iterations:  47%|████▋     | 14/30 [11:03<11:38, 43.65s/iteration]WARNING:root:1 individuals went zero\n",
            "Iterations:  73%|███████▎  | 22/30 [16:59<06:04, 45.58s/iteration]WARNING:root:1 individuals went zero\n",
            "Iterations:  77%|███████▋  | 23/30 [17:46<05:21, 45.94s/iteration]WARNING:root:1 individuals went zero\n",
            "WARNING:root:1 individuals went zero\n",
            "WARNING:root:1 individuals went zero\n",
            "Iterations:  80%|████████  | 24/30 [18:32<04:36, 46.06s/iteration]WARNING:root:1 individuals went zero\n",
            "Iterations:  90%|█████████ | 27/30 [20:56<02:21, 47.13s/iteration]WARNING:root:1 individuals went zero\n",
            "Iterations: 100%|██████████| 30/30 [23:08<00:00, 46.27s/iteration]\n"
          ]
        }
      ],
      "source": [
        "num_iterations = 30\n",
        "results, features, dims, scores = run_cgwoda_optimization(num_iterations, X_train, y_train, X_test, y_test)"
      ],
      "id": "b754ed5d-cf62-4076-abdc-a06238cfa817"
    },
    {
      "cell_type": "code",
      "execution_count": null,
      "metadata": {
        "id": "cc9e6f8b-42fd-4be7-ad58-d5fcb46d1c5e",
        "outputId": "e1945a15-2e2b-4b3b-80b8-eb1de421ba1f"
      },
      "outputs": [
        {
          "data": {
            "text/plain": [
              "[['age',\n",
              "  'ever_married',\n",
              "  'work_type',\n",
              "  'Residence_type',\n",
              "  'avg_glucose_level',\n",
              "  'bmi'],\n",
              " ['hypertension', 'Residence_type'],\n",
              " ['gender', 'Residence_type'],\n",
              " ['hypertension', 'ever_married', 'Residence_type', 'smoking_status'],\n",
              " ['hypertension', 'Residence_type', 'smoking_status'],\n",
              " ['gender', 'hypertension', 'ever_married'],\n",
              " ['age',\n",
              "  'ever_married',\n",
              "  'work_type',\n",
              "  'Residence_type',\n",
              "  'avg_glucose_level',\n",
              "  'bmi'],\n",
              " ['age'],\n",
              " ['age', 'ever_married'],\n",
              " ['gender', 'heart_disease', 'Residence_type'],\n",
              " ['age', 'work_type'],\n",
              " ['heart_disease', 'work_type'],\n",
              " ['gender'],\n",
              " ['gender', 'age'],\n",
              " ['age',\n",
              "  'ever_married',\n",
              "  'work_type',\n",
              "  'Residence_type',\n",
              "  'avg_glucose_level',\n",
              "  'bmi'],\n",
              " ['age', 'heart_disease'],\n",
              " ['age',\n",
              "  'ever_married',\n",
              "  'work_type',\n",
              "  'Residence_type',\n",
              "  'avg_glucose_level',\n",
              "  'bmi'],\n",
              " ['gender', 'ever_married', 'Residence_type'],\n",
              " ['gender', 'age'],\n",
              " ['age',\n",
              "  'ever_married',\n",
              "  'work_type',\n",
              "  'Residence_type',\n",
              "  'avg_glucose_level',\n",
              "  'bmi'],\n",
              " ['gender', 'hypertension', 'Residence_type'],\n",
              " ['age'],\n",
              " ['heart_disease', 'ever_married'],\n",
              " ['gender', 'heart_disease', 'smoking_status'],\n",
              " ['gender', 'hypertension', 'heart_disease'],\n",
              " ['age',\n",
              "  'ever_married',\n",
              "  'work_type',\n",
              "  'Residence_type',\n",
              "  'avg_glucose_level',\n",
              "  'bmi'],\n",
              " ['gender', 'heart_disease', 'ever_married', 'Residence_type'],\n",
              " ['age', 'work_type'],\n",
              " ['gender', 'hypertension', 'heart_disease'],\n",
              " ['age',\n",
              "  'ever_married',\n",
              "  'work_type',\n",
              "  'Residence_type',\n",
              "  'avg_glucose_level',\n",
              "  'bmi']]"
            ]
          },
          "execution_count": 462,
          "metadata": {},
          "output_type": "execute_result"
        }
      ],
      "source": [
        "features"
      ],
      "id": "cc9e6f8b-42fd-4be7-ad58-d5fcb46d1c5e"
    },
    {
      "cell_type": "code",
      "execution_count": null,
      "metadata": {
        "id": "5e8730e9-ebb4-4660-9633-54ffa1064c23"
      },
      "outputs": [],
      "source": [],
      "id": "5e8730e9-ebb4-4660-9633-54ffa1064c23"
    },
    {
      "cell_type": "code",
      "execution_count": null,
      "metadata": {
        "colab": {
          "base_uri": "https://localhost:8080/"
        },
        "id": "6a1b396d-7091-480c-b743-7723c0a848f7",
        "outputId": "43eb19ad-5dcd-4cf1-deae-46168ecddd7d"
      },
      "outputs": [
        {
          "name": "stderr",
          "output_type": "stream",
          "text": [
            "No path specified. Models will be saved in: \"AutogluonModels/ag-20230831_090240/\"\n",
            "Beginning AutoGluon training ...\n",
            "AutoGluon will save models to \"AutogluonModels/ag-20230831_090240/\"\n",
            "AutoGluon Version:  0.8.2\n",
            "Python Version:     3.10.12\n",
            "Operating System:   Linux\n",
            "Platform Machine:   x86_64\n",
            "Platform Version:   #1 SMP Fri Jun 9 10:57:30 UTC 2023\n",
            "Disk Space Avail:   14.28 GB / 16.11 GB (88.7%)\n",
            "Train Data Rows:    9466\n",
            "Train Data Columns: 6\n",
            "Label Column: stroke\n",
            "Preprocessing data ...\n",
            "AutoGluon infers your prediction problem is: 'binary' (because only two unique label-values observed).\n",
            "\t2 unique label values:  [1, 0]\n",
            "\tIf 'binary' is not the correct problem_type, please manually specify the problem_type parameter during predictor init (You may specify problem_type as one of: ['binary', 'multiclass', 'regression'])\n",
            "Selected class <--> label mapping:  class 1 = 1, class 0 = 0\n",
            "Using Feature Generators to preprocess the data ...\n",
            "Fitting AutoMLPipelineFeatureGenerator...\n",
            "\tAvailable Memory:                    11343.16 MB\n",
            "\tTrain Data (Original)  Memory Usage: 0.45 MB (0.0% of available memory)\n",
            "\tInferring data type of each feature based on column values. Set feature_metadata_in to manually specify special dtypes of the features.\n",
            "\tStage 1 Generators:\n",
            "\t\tFitting AsTypeFeatureGenerator...\n",
            "\t\t\tNote: Converting 2 features to boolean dtype as they only contain 2 unique values.\n",
            "\tStage 2 Generators:\n",
            "\t\tFitting FillNaFeatureGenerator...\n",
            "\tStage 3 Generators:\n",
            "\t\tFitting IdentityFeatureGenerator...\n",
            "\tStage 4 Generators:\n",
            "\t\tFitting DropUniqueFeatureGenerator...\n",
            "\tStage 5 Generators:\n",
            "\t\tFitting DropDuplicatesFeatureGenerator...\n",
            "\tTypes of features in original data (raw dtype, special dtypes):\n",
            "\t\t('float', []) : 3 | ['age', 'avg_glucose_level', 'bmi']\n",
            "\t\t('int', [])   : 3 | ['ever_married', 'work_type', 'Residence_type']\n",
            "\tTypes of features in processed data (raw dtype, special dtypes):\n",
            "\t\t('float', [])     : 3 | ['age', 'avg_glucose_level', 'bmi']\n",
            "\t\t('int', [])       : 1 | ['work_type']\n",
            "\t\t('int', ['bool']) : 2 | ['ever_married', 'Residence_type']\n",
            "\t0.1s = Fit runtime\n",
            "\t6 features in original data used to generate 6 features in processed data.\n",
            "\tTrain Data (Processed) Memory Usage: 0.32 MB (0.0% of available memory)\n",
            "Data preprocessing and feature engineering runtime = 0.2s ...\n",
            "AutoGluon will gauge predictive performance using evaluation metric: 'accuracy'\n",
            "\tTo change this, specify the eval_metric parameter of Predictor()\n",
            "Automatically generating train/validation split with holdout_frac=0.1, Train Rows: 8519, Val Rows: 947\n",
            "User-specified model hyperparameters to be fit:\n",
            "{\n",
            "\t'NN_TORCH': {},\n",
            "\t'GBM': [{'extra_trees': True, 'ag_args': {'name_suffix': 'XT'}}, {}, 'GBMLarge'],\n",
            "\t'CAT': {},\n",
            "\t'XGB': {},\n",
            "\t'FASTAI': {},\n",
            "\t'RF': [{'criterion': 'gini', 'ag_args': {'name_suffix': 'Gini', 'problem_types': ['binary', 'multiclass']}}, {'criterion': 'entropy', 'ag_args': {'name_suffix': 'Entr', 'problem_types': ['binary', 'multiclass']}}, {'criterion': 'squared_error', 'ag_args': {'name_suffix': 'MSE', 'problem_types': ['regression', 'quantile']}}],\n",
            "\t'XT': [{'criterion': 'gini', 'ag_args': {'name_suffix': 'Gini', 'problem_types': ['binary', 'multiclass']}}, {'criterion': 'entropy', 'ag_args': {'name_suffix': 'Entr', 'problem_types': ['binary', 'multiclass']}}, {'criterion': 'squared_error', 'ag_args': {'name_suffix': 'MSE', 'problem_types': ['regression', 'quantile']}}],\n",
            "\t'KNN': [{'weights': 'uniform', 'ag_args': {'name_suffix': 'Unif'}}, {'weights': 'distance', 'ag_args': {'name_suffix': 'Dist'}}],\n",
            "}\n",
            "Fitting 13 L1 models ...\n",
            "Fitting model: KNeighborsUnif ...\n",
            "\t0.8807\t = Validation score   (accuracy)\n",
            "\t0.02s\t = Training   runtime\n",
            "\t0.02s\t = Validation runtime\n",
            "Fitting model: KNeighborsDist ...\n",
            "\t0.8891\t = Validation score   (accuracy)\n",
            "\t0.02s\t = Training   runtime\n",
            "\t0.02s\t = Validation runtime\n",
            "Fitting model: LightGBMXT ...\n"
          ]
        },
        {
          "name": "stdout",
          "output_type": "stream",
          "text": [
            "[1000]\tvalid_set's binary_error: 0.0960929\n",
            "[2000]\tvalid_set's binary_error: 0.0802534\n"
          ]
        },
        {
          "name": "stderr",
          "output_type": "stream",
          "text": [
            "\t0.9229\t = Validation score   (accuracy)\n",
            "\t6.05s\t = Training   runtime\n",
            "\t0.38s\t = Validation runtime\n",
            "Fitting model: LightGBM ...\n"
          ]
        },
        {
          "name": "stdout",
          "output_type": "stream",
          "text": [
            "[1000]\tvalid_set's binary_error: 0.0496304\n"
          ]
        },
        {
          "name": "stderr",
          "output_type": "stream",
          "text": [
            "\t0.9546\t = Validation score   (accuracy)\n",
            "\t1.98s\t = Training   runtime\n",
            "\t0.08s\t = Validation runtime\n",
            "Fitting model: RandomForestGini ...\n",
            "\t0.9113\t = Validation score   (accuracy)\n",
            "\t2.6s\t = Training   runtime\n",
            "\t0.12s\t = Validation runtime\n",
            "Fitting model: RandomForestEntr ...\n",
            "\t0.9155\t = Validation score   (accuracy)\n",
            "\t3.3s\t = Training   runtime\n",
            "\t0.13s\t = Validation runtime\n",
            "Fitting model: CatBoost ...\n",
            "\t0.9493\t = Validation score   (accuracy)\n",
            "\t7.47s\t = Training   runtime\n",
            "\t0.01s\t = Validation runtime\n",
            "Fitting model: ExtraTreesGini ...\n",
            "\t0.9155\t = Validation score   (accuracy)\n",
            "\t2.86s\t = Training   runtime\n",
            "\t0.21s\t = Validation runtime\n",
            "Fitting model: ExtraTreesEntr ...\n",
            "\t0.9124\t = Validation score   (accuracy)\n",
            "\t2.81s\t = Training   runtime\n",
            "\t0.2s\t = Validation runtime\n",
            "Fitting model: NeuralNetFastAI ...\n",
            "\t0.8532\t = Validation score   (accuracy)\n",
            "\t15.73s\t = Training   runtime\n",
            "\t0.03s\t = Validation runtime\n",
            "Fitting model: XGBoost ...\n",
            "\t0.9345\t = Validation score   (accuracy)\n",
            "\t1.75s\t = Training   runtime\n",
            "\t0.04s\t = Validation runtime\n",
            "Fitting model: NeuralNetTorch ...\n",
            "\t0.8849\t = Validation score   (accuracy)\n",
            "\t42.57s\t = Training   runtime\n",
            "\t0.02s\t = Validation runtime\n",
            "Fitting model: LightGBMLarge ...\n",
            "\t0.9599\t = Validation score   (accuracy)\n",
            "\t2.55s\t = Training   runtime\n",
            "\t0.07s\t = Validation runtime\n",
            "Fitting model: WeightedEnsemble_L2 ...\n",
            "\t0.9599\t = Validation score   (accuracy)\n",
            "\t1.93s\t = Training   runtime\n",
            "\t0.01s\t = Validation runtime\n",
            "AutoGluon training complete, total runtime = 97.17s ... Best model: \"WeightedEnsemble_L2\"\n",
            "TabularPredictor saved. To load, use: predictor = TabularPredictor.load(\"AutogluonModels/ag-20230831_090240/\")\n"
          ]
        },
        {
          "name": "stdout",
          "output_type": "stream",
          "text": [
            "                  model  score_val  pred_time_val   fit_time  pred_time_val_marginal  fit_time_marginal  stack_level  can_infer  fit_order\n",
            "0         LightGBMLarge   0.959873       0.073046   2.546255                0.073046           2.546255            1       True         13\n",
            "1   WeightedEnsemble_L2   0.959873       0.080801   4.481066                0.007755           1.934811            2       True         14\n",
            "2              LightGBM   0.954593       0.083547   1.983286                0.083547           1.983286            1       True          4\n",
            "3              CatBoost   0.949314       0.007116   7.466172                0.007116           7.466172            1       True          7\n",
            "4               XGBoost   0.934530       0.039949   1.745622                0.039949           1.745622            1       True         11\n",
            "5            LightGBMXT   0.922914       0.377090   6.051013                0.377090           6.051013            1       True          3\n",
            "6      RandomForestEntr   0.915523       0.132086   3.299997                0.132086           3.299997            1       True          6\n",
            "7        ExtraTreesGini   0.915523       0.206029   2.856686                0.206029           2.856686            1       True          8\n",
            "8        ExtraTreesEntr   0.912355       0.202077   2.807733                0.202077           2.807733            1       True          9\n",
            "9      RandomForestGini   0.911299       0.120880   2.601076                0.120880           2.601076            1       True          5\n",
            "10       KNeighborsDist   0.889124       0.022188   0.024526                0.022188           0.024526            1       True          2\n",
            "11       NeuralNetTorch   0.884900       0.016039  42.569900                0.016039          42.569900            1       True         12\n",
            "12       KNeighborsUnif   0.880676       0.019968   0.022079                0.019968           0.022079            1       True          1\n",
            "13      NeuralNetFastAI   0.853221       0.029598  15.725708                0.029598          15.725708            1       True         10\n"
          ]
        }
      ],
      "source": [
        "Stroke_data =pd.DataFrame(X[['age',\n",
        "  'ever_married',\n",
        "  'work_type',\n",
        "  'Residence_type',\n",
        "  'avg_glucose_level',\n",
        "  'bmi']])\n",
        "Stroke_data['stroke']=y\n",
        "predictor= TabularPredictor(\n",
        "    label=\"stroke\",\n",
        "\n",
        ").fit(\n",
        "    train_data=Stroke_data,\n",
        "\n",
        ")\n",
        "cgwoda_dataset2= predictor.leaderboard()"
      ],
      "id": "6a1b396d-7091-480c-b743-7723c0a848f7"
    },
    {
      "cell_type": "code",
      "execution_count": null,
      "metadata": {
        "colab": {
          "base_uri": "https://localhost:8080/",
          "height": 198
        },
        "id": "e4dc7517-c14a-4603-9d61-12b0176372f4",
        "outputId": "1e972f55-cd19-48a2-f53f-7f77d1c0f5a1"
      },
      "outputs": [
        {
          "ename": "NameError",
          "evalue": "ignored",
          "output_type": "error",
          "traceback": [
            "\u001b[0;31m---------------------------------------------------------------------------\u001b[0m",
            "\u001b[0;31mNameError\u001b[0m                                 Traceback (most recent call last)",
            "\u001b[0;32m<ipython-input-14-c5bb72bac836>\u001b[0m in \u001b[0;36m<cell line: 2>\u001b[0;34m()\u001b[0m\n\u001b[1;32m      1\u001b[0m \u001b[0mnum_iterations\u001b[0m \u001b[0;34m=\u001b[0m \u001b[0;36m30\u001b[0m\u001b[0;34m\u001b[0m\u001b[0;34m\u001b[0m\u001b[0m\n\u001b[0;32m----> 2\u001b[0;31m \u001b[0mda_results\u001b[0m\u001b[0;34m,\u001b[0m \u001b[0mda_features\u001b[0m\u001b[0;34m,\u001b[0m \u001b[0mda_dims\u001b[0m\u001b[0;34m,\u001b[0m \u001b[0mda_scores\u001b[0m \u001b[0;34m=\u001b[0m \u001b[0mrun_da_optimization\u001b[0m\u001b[0;34m(\u001b[0m\u001b[0mnum_iterations\u001b[0m\u001b[0;34m,\u001b[0m \u001b[0mX_train\u001b[0m\u001b[0;34m,\u001b[0m \u001b[0my_train\u001b[0m\u001b[0;34m,\u001b[0m \u001b[0mX_test\u001b[0m\u001b[0;34m,\u001b[0m \u001b[0my_test\u001b[0m\u001b[0;34m)\u001b[0m\u001b[0;34m\u001b[0m\u001b[0;34m\u001b[0m\u001b[0m\n\u001b[0m",
            "\u001b[0;31mNameError\u001b[0m: name 'run_da_optimization' is not defined"
          ]
        }
      ],
      "source": [
        "num_iterations = 30\n",
        "da_results, da_features, da_dims, da_scores = run_da_optimization(num_iterations, X_train, y_train, X_test, y_test)\n"
      ],
      "id": "e4dc7517-c14a-4603-9d61-12b0176372f4"
    },
    {
      "cell_type": "code",
      "execution_count": null,
      "metadata": {
        "id": "f1cb2fa5-22fc-4630-bffd-b61cdec7b7e7",
        "outputId": "8155996b-af94-4e57-da5b-b885d54f0e03"
      },
      "outputs": [
        {
          "data": {
            "text/plain": [
              "[['age', 'work_type'],\n",
              " ['age', 'work_type'],\n",
              " ['age'],\n",
              " ['age', 'work_type'],\n",
              " ['age', 'work_type'],\n",
              " ['age', 'work_type'],\n",
              " ['age', 'work_type'],\n",
              " ['age', 'work_type'],\n",
              " ['age', 'work_type'],\n",
              " ['age', 'work_type'],\n",
              " ['age', 'work_type'],\n",
              " ['age', 'work_type'],\n",
              " ['age', 'work_type'],\n",
              " ['age', 'work_type'],\n",
              " ['age', 'work_type'],\n",
              " ['age', 'work_type'],\n",
              " ['age', 'work_type'],\n",
              " ['age', 'work_type'],\n",
              " ['age', 'work_type'],\n",
              " ['age', 'work_type'],\n",
              " ['age', 'work_type'],\n",
              " ['age', 'work_type'],\n",
              " ['age', 'work_type'],\n",
              " ['age', 'work_type'],\n",
              " ['age', 'work_type'],\n",
              " ['age', 'work_type'],\n",
              " ['age', 'work_type'],\n",
              " ['age', 'work_type'],\n",
              " ['age', 'work_type'],\n",
              " ['age', 'work_type']]"
            ]
          },
          "execution_count": 37,
          "metadata": {},
          "output_type": "execute_result"
        }
      ],
      "source": [
        "da_features"
      ],
      "id": "f1cb2fa5-22fc-4630-bffd-b61cdec7b7e7"
    },
    {
      "cell_type": "code",
      "execution_count": null,
      "metadata": {
        "id": "ee01ba16-2cba-460b-bbd6-badafe2b4948"
      },
      "outputs": [],
      "source": [
        "Stroke_data =pd.DataFrame(X[['age', 'work_type']])\n",
        "Stroke_data['stroke']=y"
      ],
      "id": "ee01ba16-2cba-460b-bbd6-badafe2b4948"
    },
    {
      "cell_type": "code",
      "execution_count": null,
      "metadata": {
        "id": "77e87a88-a0ac-469d-9040-8df5ad12b383"
      },
      "outputs": [],
      "source": [
        "predictor_combined = TabularPredictor(\n",
        "    label=\"stroke\",\n",
        "\n",
        ").fit(\n",
        "    train_data=Stroke_data,\n",
        "\n",
        ")\n",
        "da_dataset2=predictor_combined.leaderboard()"
      ],
      "id": "77e87a88-a0ac-469d-9040-8df5ad12b383"
    },
    {
      "cell_type": "markdown",
      "metadata": {
        "id": "45781d7d-074a-4eea-b7bb-e378fe2c9d6a"
      },
      "source": [
        "## Dataset 3"
      ],
      "id": "45781d7d-074a-4eea-b7bb-e378fe2c9d6a"
    },
    {
      "cell_type": "code",
      "execution_count": null,
      "metadata": {
        "colab": {
          "base_uri": "https://localhost:8080/"
        },
        "id": "wU5Ky-pkga4k",
        "outputId": "c294bf76-d750-4d3f-d667-7faa41e04681"
      },
      "outputs": [
        {
          "name": "stdout",
          "output_type": "stream",
          "text": [
            "/content/drive/MyDrive/Colab Notebooks\n"
          ]
        }
      ],
      "source": [
        "%cd .."
      ],
      "id": "wU5Ky-pkga4k"
    },
    {
      "cell_type": "code",
      "execution_count": null,
      "metadata": {
        "id": "5d2be9cf-8b67-4c70-9bb3-15458a2440ef"
      },
      "outputs": [],
      "source": [
        "stroke3 = pd.read_csv('stroke/stroke3.csv')"
      ],
      "id": "5d2be9cf-8b67-4c70-9bb3-15458a2440ef"
    },
    {
      "cell_type": "code",
      "source": [],
      "metadata": {
        "id": "_erAsymVyozZ"
      },
      "id": "_erAsymVyozZ",
      "execution_count": null,
      "outputs": []
    },
    {
      "cell_type": "markdown",
      "source": [
        "https://ieeexplore.ieee.org/stamp/stamp.jsp?tp=&arnumber=9249117"
      ],
      "metadata": {
        "id": "CXcNCsVjytHQ"
      },
      "id": "CXcNCsVjytHQ"
    },
    {
      "cell_type": "code",
      "execution_count": null,
      "metadata": {
        "id": "873c1da3-12ed-4024-9a0b-eb8dfa51f4e4"
      },
      "outputs": [],
      "source": [
        "stroke3=preprocess_dataset(stroke3)\n",
        "X = stroke3.drop(['stroke'],axis=1)\n",
        "y = stroke3['stroke']\n",
        "\n",
        "from imblearn.over_sampling import SMOTE\n",
        "# Assuming X and y are your feature matrix and target variable, respectively\n",
        "smote = SMOTE()\n",
        "X, y = smote.fit_resample(X, y)\n",
        "X_train, X_test, y_train, y_test = train_test_split(X, y, test_size=0.2,random_state=42)"
      ],
      "id": "873c1da3-12ed-4024-9a0b-eb8dfa51f4e4"
    },
    {
      "cell_type": "code",
      "execution_count": null,
      "metadata": {
        "colab": {
          "base_uri": "https://localhost:8080/"
        },
        "id": "b8c73e47-2cc3-49f8-9dd4-c9beaf103a5d",
        "outputId": "5cbd2145-ec8f-4aca-fae3-bedd7b95324d"
      },
      "outputs": [
        {
          "output_type": "stream",
          "name": "stderr",
          "text": [
            "Iterations:   0%|          | 0/30 [00:00<?, ?iteration/s]WARNING:root:1 individuals went zero\n",
            "Iterations:   7%|▋         | 2/30 [13:28<3:08:23, 403.70s/iteration]WARNING:root:1 individuals went zero\n",
            "Iterations:  27%|██▋       | 8/30 [42:09<1:50:02, 300.10s/iteration]WARNING:root:1 individuals went zero\n",
            "Iterations:  37%|███▋      | 11/30 [57:00<1:34:15, 297.64s/iteration]WARNING:root:1 individuals went zero\n",
            "WARNING:root:1 individuals went zero\n",
            "Iterations:  43%|████▎     | 13/30 [1:08:37<1:31:12, 321.92s/iteration]WARNING:root:1 individuals went zero\n",
            "Iterations:  47%|████▋     | 14/30 [1:14:24<1:27:50, 329.42s/iteration]WARNING:root:1 individuals went zero\n",
            "WARNING:root:1 individuals went zero\n",
            "Iterations:  53%|█████▎    | 16/30 [1:23:57<1:11:17, 305.50s/iteration]WARNING:root:1 individuals went zero\n",
            "Iterations:  57%|█████▋    | 17/30 [1:28:46<1:05:04, 300.37s/iteration]WARNING:root:1 individuals went zero\n",
            "Iterations:  60%|██████    | 18/30 [1:34:06<1:01:16, 306.38s/iteration]WARNING:root:1 individuals went zero\n",
            "Iterations:  67%|██████▋   | 20/30 [1:43:59<49:49, 298.92s/iteration]WARNING:root:1 individuals went zero\n",
            "WARNING:root:1 individuals went zero\n",
            "Iterations:  73%|███████▎  | 22/30 [1:54:02<39:40, 297.59s/iteration]WARNING:root:1 individuals went zero\n",
            "Iterations:  77%|███████▋  | 23/30 [1:59:47<36:23, 311.93s/iteration]WARNING:root:1 individuals went zero\n",
            "Iterations:  87%|████████▋ | 26/30 [2:13:45<19:10, 287.58s/iteration]WARNING:root:1 individuals went zero\n",
            "WARNING:root:1 individuals went zero\n",
            "WARNING:root:1 individuals went zero\n",
            "WARNING:root:1 individuals went zero\n",
            "WARNING:root:1 individuals went zero\n",
            "WARNING:root:1 individuals went zero\n",
            "WARNING:root:1 individuals went zero\n",
            "WARNING:root:1 individuals went zero\n",
            "WARNING:root:1 individuals went zero\n",
            "Iterations:  97%|█████████▋| 29/30 [2:28:54<04:58, 298.07s/iteration]WARNING:root:1 individuals went zero\n",
            "Iterations: 100%|██████████| 30/30 [2:33:48<00:00, 307.63s/iteration]\n"
          ]
        }
      ],
      "source": [
        "num_iterations = 30\n",
        "results, features, dims, scores = run_cgwoda_optimization(num_iterations, X_train, y_train, X_test, y_test)"
      ],
      "id": "b8c73e47-2cc3-49f8-9dd4-c9beaf103a5d"
    },
    {
      "cell_type": "code",
      "execution_count": null,
      "metadata": {
        "id": "1987c678-d5f3-4144-9af2-fa5bd5422164",
        "outputId": "74fa18c3-14e0-42a9-cef4-b92fbf5f636b",
        "colab": {
          "base_uri": "https://localhost:8080/",
          "height": 176
        }
      },
      "outputs": [
        {
          "output_type": "error",
          "ename": "NameError",
          "evalue": "ignored",
          "traceback": [
            "\u001b[0;31m---------------------------------------------------------------------------\u001b[0m",
            "\u001b[0;31mNameError\u001b[0m                                 Traceback (most recent call last)",
            "\u001b[0;32m<ipython-input-1-224628ecf868>\u001b[0m in \u001b[0;36m<cell line: 1>\u001b[0;34m()\u001b[0m\n\u001b[0;32m----> 1\u001b[0;31m \u001b[0mfeatures\u001b[0m\u001b[0;34m\u001b[0m\u001b[0;34m\u001b[0m\u001b[0m\n\u001b[0m",
            "\u001b[0;31mNameError\u001b[0m: name 'features' is not defined"
          ]
        }
      ],
      "source": [
        "features"
      ],
      "id": "1987c678-d5f3-4144-9af2-fa5bd5422164"
    },
    {
      "cell_type": "code",
      "execution_count": null,
      "metadata": {
        "id": "4bd0a006-f5a1-4cad-bbe7-1a0e09213a77"
      },
      "outputs": [],
      "source": [
        "Stroke_data =pd.DataFrame(X[['age',\n",
        "  'ever_married',\n",
        "  'Residence_type',\n",
        "  'avg_glucose_level',\n",
        "  'bmi',\n",
        "  'smoking_status']])\n",
        "Stroke_data['stroke']=y"
      ],
      "id": "4bd0a006-f5a1-4cad-bbe7-1a0e09213a77"
    },
    {
      "cell_type": "code",
      "execution_count": null,
      "metadata": {
        "id": "ecb524e0-c899-4f76-8537-5061c772e24c"
      },
      "outputs": [],
      "source": [
        "predictor_combined = TabularPredictor(\n",
        "    label=\"stroke\",\n",
        "\n",
        ").fit(\n",
        "    train_data=Stroke_data,\n",
        "\n",
        ")\n",
        "cgwoda_dataset3=predictor_combined.leaderboard()"
      ],
      "id": "ecb524e0-c899-4f76-8537-5061c772e24c"
    },
    {
      "cell_type": "code",
      "execution_count": null,
      "metadata": {
        "id": "b10bb6e1-4d75-45f9-a3aa-6ae614b2f5f9"
      },
      "outputs": [],
      "source": [],
      "id": "b10bb6e1-4d75-45f9-a3aa-6ae614b2f5f9"
    },
    {
      "cell_type": "code",
      "execution_count": null,
      "metadata": {
        "id": "e40090ca-d0f4-4288-83ce-f43a22eedff8",
        "outputId": "aaf6bc10-8654-4460-c082-ebbdc6c30991"
      },
      "outputs": [
        {
          "name": "stderr",
          "output_type": "stream",
          "text": [
            "Iterations:   3%|▎         | 1/30 [23:42<11:27:17, 1422.00s/iteration]WARNING:root:1 individuals went zero\n",
            "WARNING:root:1 individuals went zero\n",
            "Iterations:   7%|▋         | 2/30 [48:38<11:23:55, 1465.54s/iteration]WARNING:root:1 individuals went zero\n",
            "WARNING:root:1 individuals went zero\n",
            "Iterations:  10%|█         | 3/30 [1:12:58<10:58:23, 1463.11s/iteration]WARNING:root:1 individuals went zero\n",
            "WARNING:root:1 individuals went zero\n",
            "WARNING:root:1 individuals went zero\n",
            "Iterations:  13%|█▎        | 4/30 [1:38:36<10:46:53, 1492.81s/iteration]WARNING:root:1 individuals went zero\n",
            "WARNING:root:1 individuals went zero\n",
            "WARNING:root:1 individuals went zero\n",
            "Iterations:  17%|█▋        | 5/30 [1:58:21<9:35:47, 1381.88s/iteration] WARNING:root:1 individuals went zero\n",
            "WARNING:root:1 individuals went zero\n",
            "WARNING:root:1 individuals went zero\n",
            "WARNING:root:1 individuals went zero\n",
            "WARNING:root:1 individuals went zero\n",
            "WARNING:root:1 individuals went zero\n",
            "Iterations:  20%|██        | 6/30 [2:22:16<9:19:58, 1399.94s/iteration]WARNING:root:1 individuals went zero\n",
            "WARNING:root:1 individuals went zero\n",
            "Iterations:  23%|██▎       | 7/30 [2:43:34<8:41:17, 1359.91s/iteration]WARNING:root:1 individuals went zero\n",
            "WARNING:root:1 individuals went zero\n",
            "WARNING:root:1 individuals went zero\n",
            "WARNING:root:1 individuals went zero\n",
            "Iterations:  27%|██▋       | 8/30 [3:05:21<8:12:32, 1343.30s/iteration]WARNING:root:1 individuals went zero\n",
            "WARNING:root:1 individuals went zero\n",
            "Iterations:  30%|███       | 9/30 [3:26:02<7:38:51, 1311.03s/iteration]WARNING:root:1 individuals went zero\n",
            "WARNING:root:1 individuals went zero\n",
            "WARNING:root:1 individuals went zero\n",
            "Iterations:  33%|███▎      | 10/30 [3:46:43<7:09:52, 1289.60s/iteration]WARNING:root:1 individuals went zero\n",
            "WARNING:root:1 individuals went zero\n",
            "WARNING:root:1 individuals went zero\n",
            "Iterations:  37%|███▋      | 11/30 [4:07:22<6:43:26, 1274.01s/iteration]WARNING:root:1 individuals went zero\n",
            "WARNING:root:1 individuals went zero\n",
            "WARNING:root:1 individuals went zero\n",
            "Iterations:  40%|████      | 12/30 [4:29:04<6:24:47, 1282.66s/iteration]WARNING:root:1 individuals went zero\n",
            "WARNING:root:1 individuals went zero\n",
            "WARNING:root:1 individuals went zero\n",
            "WARNING:root:1 individuals went zero\n",
            "Iterations:  43%|████▎     | 13/30 [4:50:39<6:04:27, 1286.34s/iteration]WARNING:root:1 individuals went zero\n",
            "WARNING:root:1 individuals went zero\n",
            "WARNING:root:1 individuals went zero\n",
            "WARNING:root:1 individuals went zero\n",
            "WARNING:root:1 individuals went zero\n",
            "WARNING:root:1 individuals went zero\n",
            "Iterations:  47%|████▋     | 14/30 [5:11:56<5:42:17, 1283.58s/iteration]WARNING:root:1 individuals went zero\n",
            "WARNING:root:1 individuals went zero\n",
            "Iterations:  50%|█████     | 15/30 [5:32:52<5:18:45, 1275.03s/iteration]WARNING:root:1 individuals went zero\n",
            "Iterations:  53%|█████▎    | 16/30 [22:09:49<73:29:08, 18896.31s/iteration]WARNING:root:1 individuals went zero\n",
            "WARNING:root:1 individuals went zero\n",
            "WARNING:root:1 individuals went zero\n",
            "Iterations:  57%|█████▋    | 17/30 [22:31:16<49:06:57, 13601.31s/iteration]WARNING:root:1 individuals went zero\n",
            "WARNING:root:1 individuals went zero\n",
            "Iterations:  60%|██████    | 18/30 [22:47:27<32:41:12, 9806.07s/iteration] WARNING:root:1 individuals went zero\n",
            "WARNING:root:1 individuals went zero\n",
            "Iterations:  63%|██████▎   | 19/30 [23:06:26<22:00:30, 7202.78s/iteration]WARNING:root:1 individuals went zero\n",
            "WARNING:root:1 individuals went zero\n",
            "WARNING:root:1 individuals went zero\n",
            "WARNING:root:1 individuals went zero\n",
            "Iterations:  67%|██████▋   | 20/30 [23:24:19<14:53:44, 5362.46s/iteration]WARNING:root:1 individuals went zero\n",
            "WARNING:root:1 individuals went zero\n",
            "Iterations:  70%|███████   | 21/30 [23:39:24<10:03:39, 4024.41s/iteration]WARNING:root:1 individuals went zero\n",
            "WARNING:root:1 individuals went zero\n",
            "Iterations:  77%|███████▋  | 23/30 [24:11:08<4:47:06, 2460.96s/iteration] WARNING:root:1 individuals went zero\n",
            "Iterations:  80%|████████  | 24/30 [24:26:20<3:19:38, 1996.35s/iteration]WARNING:root:1 individuals went zero\n",
            "WARNING:root:1 individuals went zero\n",
            "WARNING:root:1 individuals went zero\n",
            "WARNING:root:1 individuals went zero\n",
            "WARNING:root:1 individuals went zero\n",
            "Iterations:  83%|████████▎ | 25/30 [24:43:20<2:21:55, 1703.16s/iteration]WARNING:root:1 individuals went zero\n",
            "WARNING:root:1 individuals went zero\n",
            "Iterations:  87%|████████▋ | 26/30 [24:58:29<1:37:40, 1465.02s/iteration]WARNING:root:1 individuals went zero\n",
            "WARNING:root:1 individuals went zero\n",
            "Iterations:  90%|█████████ | 27/30 [25:13:55<1:05:09, 1303.23s/iteration]WARNING:root:1 individuals went zero\n",
            "WARNING:root:1 individuals went zero\n",
            "WARNING:root:1 individuals went zero\n",
            "WARNING:root:1 individuals went zero\n",
            "Iterations:  93%|█████████▎| 28/30 [25:38:38<45:14, 1357.18s/iteration]  WARNING:root:1 individuals went zero\n",
            "Iterations:  97%|█████████▋| 29/30 [25:56:25<21:10, 1270.31s/iteration]WARNING:root:1 individuals went zero\n",
            "WARNING:root:1 individuals went zero\n",
            "WARNING:root:1 individuals went zero\n",
            "WARNING:root:1 individuals went zero\n",
            "Iterations: 100%|██████████| 30/30 [26:16:20<00:00, 3152.70s/iteration]\n"
          ]
        }
      ],
      "source": [
        "num_iterations = 30\n",
        "da_results, da_features, da_dims, da_scores = run_da_optimization(num_iterations, X_train, y_train, X_test, y_test)"
      ],
      "id": "e40090ca-d0f4-4288-83ce-f43a22eedff8"
    },
    {
      "cell_type": "code",
      "execution_count": null,
      "metadata": {
        "id": "ae3b37b0-0d19-4338-b238-b8946251a0a5"
      },
      "outputs": [],
      "source": [],
      "id": "ae3b37b0-0d19-4338-b238-b8946251a0a5"
    },
    {
      "cell_type": "code",
      "execution_count": null,
      "metadata": {
        "id": "b181b8f4-7bc8-44be-aaab-92e972b2ae7f",
        "outputId": "98594add-33ea-4e0a-bc0d-12ad7d61290e"
      },
      "outputs": [
        {
          "data": {
            "text/plain": [
              "[['hypertension', 'bmi'],\n",
              " ['hypertension', 'bmi'],\n",
              " ['hypertension', 'bmi'],\n",
              " ['hypertension', 'bmi'],\n",
              " ['gender', 'bmi'],\n",
              " ['hypertension', 'bmi'],\n",
              " ['hypertension', 'bmi'],\n",
              " ['hypertension', 'bmi'],\n",
              " ['hypertension', 'bmi'],\n",
              " ['hypertension', 'bmi'],\n",
              " ['hypertension', 'bmi'],\n",
              " ['hypertension', 'bmi'],\n",
              " ['hypertension', 'bmi'],\n",
              " ['hypertension', 'bmi'],\n",
              " ['hypertension', 'bmi'],\n",
              " ['hypertension', 'bmi'],\n",
              " ['hypertension', 'bmi'],\n",
              " ['hypertension', 'bmi'],\n",
              " ['hypertension', 'bmi'],\n",
              " ['hypertension', 'bmi'],\n",
              " ['hypertension', 'bmi'],\n",
              " ['hypertension', 'bmi'],\n",
              " ['hypertension', 'bmi'],\n",
              " ['Residence_type', 'bmi'],\n",
              " ['hypertension', 'bmi'],\n",
              " ['hypertension', 'bmi'],\n",
              " ['hypertension', 'bmi'],\n",
              " ['hypertension', 'bmi'],\n",
              " ['hypertension', 'bmi'],\n",
              " ['hypertension', 'bmi']]"
            ]
          },
          "execution_count": 12,
          "metadata": {},
          "output_type": "execute_result"
        }
      ],
      "source": [
        "da_features"
      ],
      "id": "b181b8f4-7bc8-44be-aaab-92e972b2ae7f"
    },
    {
      "cell_type": "code",
      "execution_count": null,
      "metadata": {
        "id": "be0898fe-2e11-4767-8a7b-488553d1aa92"
      },
      "outputs": [],
      "source": [
        "Stroke_data =pd.DataFrame(X[['hypertension', 'bmi']])\n",
        "Stroke_data['stroke']=y"
      ],
      "id": "be0898fe-2e11-4767-8a7b-488553d1aa92"
    },
    {
      "cell_type": "code",
      "execution_count": null,
      "metadata": {
        "id": "639c8ffd-cfdf-4a61-a35b-d9b3c35be595"
      },
      "outputs": [],
      "source": [
        "predictor = TabularPredictor(\n",
        "    label=\"stroke\",\n",
        "\n",
        ").fit(\n",
        "    train_data=Stroke_data,\n",
        "\n",
        ")\n",
        "da_dataset3=predictor.leaderboard()"
      ],
      "id": "639c8ffd-cfdf-4a61-a35b-d9b3c35be595"
    },
    {
      "cell_type": "markdown",
      "metadata": {
        "id": "183ea332-6e98-4dac-98f2-0990543606f5"
      },
      "source": [
        "## Dataset 4"
      ],
      "id": "183ea332-6e98-4dac-98f2-0990543606f5"
    },
    {
      "cell_type": "code",
      "execution_count": null,
      "metadata": {
        "id": "3942e1d0-f1e4-4826-82bd-9a42f20fddf2"
      },
      "outputs": [],
      "source": [
        "stroke4 = pd.read_csv('stroke/stroke10.csv')"
      ],
      "id": "3942e1d0-f1e4-4826-82bd-9a42f20fddf2"
    },
    {
      "cell_type": "markdown",
      "source": [
        "https://ieeexplore.ieee.org/abstract/document/10235026"
      ],
      "metadata": {
        "id": "q0EMTCRf1vGA"
      },
      "id": "q0EMTCRf1vGA"
    },
    {
      "cell_type": "code",
      "execution_count": null,
      "metadata": {
        "id": "967ded4e-d5e4-4118-9f29-969fdb80cbf7"
      },
      "outputs": [],
      "source": [
        "stroke4=preprocess_dataset(stroke4)\n",
        "X = stroke4.drop(['stroke'],axis=1)\n",
        "y = stroke4['stroke']\n",
        "\n",
        "from imblearn.over_sampling import SMOTE\n",
        "# Assuming X and y are your feature matrix and target variable, respectively\n",
        "smote = SMOTE()\n",
        "X, y = smote.fit_resample(X, y)\n",
        "X_train, X_test, y_train, y_test = train_test_split(X, y, test_size=0.2,random_state=42)"
      ],
      "id": "967ded4e-d5e4-4118-9f29-969fdb80cbf7"
    },
    {
      "cell_type": "code",
      "execution_count": null,
      "metadata": {
        "id": "7da48fa6-bb96-45f7-89ff-d6c6e36ecd50",
        "outputId": "2fd4b195-f981-4915-ed17-9d6c37faf741"
      },
      "outputs": [
        {
          "name": "stderr",
          "output_type": "stream",
          "text": [
            "Iterations:   3%|▎         | 1/30 [04:43<2:17:00, 283.48s/iteration]WARNING:root:1 individuals went zero\n",
            "WARNING:root:1 individuals went zero\n",
            "Iterations:  10%|█         | 3/30 [14:37<2:11:44, 292.75s/iteration]WARNING:root:1 individuals went zero\n",
            "Iterations:  43%|████▎     | 13/30 [54:26<1:03:12, 223.10s/iteration]WARNING:root:1 individuals went zero\n",
            "WARNING:root:1 individuals went zero\n",
            "Iterations:  70%|███████   | 21/30 [1:23:28<33:11, 221.27s/iteration]WARNING:root:1 individuals went zero\n",
            "Iterations:  97%|█████████▋| 29/30 [1:52:09<03:35, 215.69s/iteration]WARNING:root:1 individuals went zero\n",
            "WARNING:root:1 individuals went zero\n",
            "Iterations: 100%|██████████| 30/30 [1:55:34<00:00, 231.14s/iteration]\n"
          ]
        }
      ],
      "source": [
        "num_iterations = 30\n",
        "results, features, dims, scores = run_cgwoda_optimization(num_iterations, X_train, y_train, X_test, y_test)"
      ],
      "id": "7da48fa6-bb96-45f7-89ff-d6c6e36ecd50"
    },
    {
      "cell_type": "code",
      "execution_count": null,
      "metadata": {
        "id": "bbecc400-0512-4c73-8241-d0b419bba333",
        "outputId": "cc3f8ba4-92ad-406d-99a6-31e871b601f2"
      },
      "outputs": [
        {
          "data": {
            "text/plain": [
              "[['ever_married', 'work_type', 'avg_glucose_level', 'smoking_status'],\n",
              " ['sex', 'ever_married'],\n",
              " ['hypertension', 'avg_glucose_level', 'bmi'],\n",
              " ['avg_glucose_level', 'bmi'],\n",
              " ['hypertension', 'heart_disease', 'work_type', 'Residence_type'],\n",
              " ['work_type'],\n",
              " ['work_type', 'Residence_type', 'smoking_status'],\n",
              " ['Residence_type'],\n",
              " ['heart_disease'],\n",
              " ['Residence_type'],\n",
              " ['heart_disease', 'smoking_status'],\n",
              " ['avg_glucose_level', 'bmi'],\n",
              " ['work_type'],\n",
              " ['ever_married', 'Residence_type', 'smoking_status'],\n",
              " ['heart_disease', 'smoking_status'],\n",
              " ['sex', 'heart_disease', 'Residence_type'],\n",
              " ['sex', 'work_type', 'Residence_type', 'smoking_status'],\n",
              " ['hypertension'],\n",
              " ['avg_glucose_level', 'bmi'],\n",
              " ['heart_disease'],\n",
              " ['hypertension'],\n",
              " ['sex', 'heart_disease', 'Residence_type'],\n",
              " ['avg_glucose_level', 'bmi'],\n",
              " ['work_type', 'avg_glucose_level', 'bmi'],\n",
              " ['heart_disease', 'work_type', 'avg_glucose_level', 'bmi'],\n",
              " ['sex', 'ever_married', 'Residence_type'],\n",
              " ['heart_disease', 'work_type', 'Residence_type'],\n",
              " ['avg_glucose_level', 'bmi'],\n",
              " ['work_type', 'Residence_type', 'avg_glucose_level', 'bmi'],\n",
              " ['work_type']]"
            ]
          },
          "execution_count": 11,
          "metadata": {},
          "output_type": "execute_result"
        }
      ],
      "source": [
        "features"
      ],
      "id": "bbecc400-0512-4c73-8241-d0b419bba333"
    },
    {
      "cell_type": "code",
      "execution_count": null,
      "metadata": {
        "id": "674e0a7c-8ce5-4fd7-90e6-f6fdd3ae7244"
      },
      "outputs": [],
      "source": [
        "Stroke_data =pd.DataFrame(X[['avg_glucose_level', 'bmi']])\n",
        "Stroke_data['stroke']=y"
      ],
      "id": "674e0a7c-8ce5-4fd7-90e6-f6fdd3ae7244"
    },
    {
      "cell_type": "code",
      "execution_count": null,
      "metadata": {
        "id": "5a4f6345-576e-4dc0-aa81-ae3e5b47cfdf"
      },
      "outputs": [],
      "source": [],
      "id": "5a4f6345-576e-4dc0-aa81-ae3e5b47cfdf"
    },
    {
      "cell_type": "code",
      "execution_count": null,
      "metadata": {
        "id": "185c5956-0b80-4697-9ca4-1d2f6e2f8480"
      },
      "outputs": [],
      "source": [
        "\n",
        "predictor_combined = TabularPredictor(\n",
        "    label=\"stroke\",\n",
        "\n",
        ").fit(\n",
        "    train_data=Stroke_data,\n",
        "\n",
        ")\n",
        "cgwoda_dataset4=predictor_combined.leaderboard()"
      ],
      "id": "185c5956-0b80-4697-9ca4-1d2f6e2f8480"
    },
    {
      "cell_type": "code",
      "execution_count": null,
      "metadata": {
        "id": "96759e1b-3a34-4479-bbe9-be3e0352c514",
        "outputId": "2f961bf5-a34c-474b-e17f-524a859fe4d3"
      },
      "outputs": [
        {
          "name": "stderr",
          "output_type": "stream",
          "text": [
            "Iterations:   0%|          | 0/30 [00:00<?, ?iteration/s]WARNING:root:1 individuals went zero\n",
            "WARNING:root:1 individuals went zero\n",
            "Iterations:   3%|▎         | 1/30 [05:30<2:39:46, 330.58s/iteration]WARNING:root:1 individuals went zero\n",
            "WARNING:root:1 individuals went zero\n",
            "WARNING:root:1 individuals went zero\n",
            "Iterations:   7%|▋         | 2/30 [11:10<2:36:46, 335.95s/iteration]WARNING:root:1 individuals went zero\n",
            "WARNING:root:1 individuals went zero\n",
            "Iterations:  10%|█         | 3/30 [16:17<2:25:14, 322.77s/iteration]WARNING:root:1 individuals went zero\n",
            "WARNING:root:1 individuals went zero\n",
            "Iterations:  13%|█▎        | 4/30 [21:36<2:19:16, 321.40s/iteration]WARNING:root:1 individuals went zero\n",
            "WARNING:root:1 individuals went zero\n",
            "WARNING:root:1 individuals went zero\n",
            "WARNING:root:1 individuals went zero\n",
            "WARNING:root:2 individuals went zero\n",
            "WARNING:root:1 individuals went zero\n",
            "WARNING:root:1 individuals went zero\n",
            "Iterations:  17%|█▋        | 5/30 [26:57<2:13:51, 321.28s/iteration]WARNING:root:1 individuals went zero\n",
            "Iterations:  20%|██        | 6/30 [32:17<2:08:17, 320.72s/iteration]WARNING:root:1 individuals went zero\n",
            "Iterations:  23%|██▎       | 7/30 [37:57<2:05:25, 327.19s/iteration]WARNING:root:1 individuals went zero\n",
            "Iterations:  27%|██▋       | 8/30 [43:13<1:58:34, 323.39s/iteration]WARNING:root:1 individuals went zero\n",
            "Iterations:  33%|███▎      | 10/30 [54:14<1:49:20, 328.02s/iteration]WARNING:root:1 individuals went zero\n",
            "Iterations:  37%|███▋      | 11/30 [1:00:43<1:49:48, 346.75s/iteration]WARNING:root:1 individuals went zero\n",
            "WARNING:root:1 individuals went zero\n",
            "Iterations:  40%|████      | 12/30 [1:06:05<1:41:47, 339.32s/iteration]WARNING:root:1 individuals went zero\n",
            "WARNING:root:1 individuals went zero\n",
            "WARNING:root:1 individuals went zero\n",
            "WARNING:root:1 individuals went zero\n",
            "WARNING:root:1 individuals went zero\n",
            "Iterations:  43%|████▎     | 13/30 [1:11:37<1:35:28, 336.97s/iteration]WARNING:root:1 individuals went zero\n",
            "Iterations:  47%|████▋     | 14/30 [1:17:33<1:31:24, 342.75s/iteration]WARNING:root:1 individuals went zero\n",
            "WARNING:root:1 individuals went zero\n",
            "WARNING:root:1 individuals went zero\n",
            "Iterations:  50%|█████     | 15/30 [1:22:37<1:22:45, 331.07s/iteration]WARNING:root:1 individuals went zero\n",
            "WARNING:root:1 individuals went zero\n",
            "Iterations:  53%|█████▎    | 16/30 [1:28:27<1:18:37, 336.94s/iteration]WARNING:root:1 individuals went zero\n",
            "WARNING:root:1 individuals went zero\n",
            "Iterations:  57%|█████▋    | 17/30 [1:34:12<1:13:31, 339.37s/iteration]WARNING:root:1 individuals went zero\n",
            "WARNING:root:1 individuals went zero\n",
            "WARNING:root:1 individuals went zero\n",
            "WARNING:root:1 individuals went zero\n",
            "Iterations:  60%|██████    | 18/30 [1:39:50<1:07:48, 339.00s/iteration]WARNING:root:1 individuals went zero\n",
            "Iterations:  63%|██████▎   | 19/30 [1:45:42<1:02:51, 342.84s/iteration]WARNING:root:1 individuals went zero\n",
            "WARNING:root:1 individuals went zero\n",
            "WARNING:root:1 individuals went zero\n",
            "Iterations:  70%|███████   | 21/30 [1:56:12<49:14, 328.30s/iteration]  WARNING:root:1 individuals went zero\n",
            "WARNING:root:1 individuals went zero\n",
            "WARNING:root:1 individuals went zero\n",
            "Iterations:  73%|███████▎  | 22/30 [2:01:21<43:00, 322.62s/iteration]WARNING:root:1 individuals went zero\n",
            "Iterations:  77%|███████▋  | 23/30 [2:06:37<37:25, 320.80s/iteration]WARNING:root:1 individuals went zero\n",
            "WARNING:root:1 individuals went zero\n",
            "Iterations:  80%|████████  | 24/30 [2:11:59<32:05, 320.89s/iteration]WARNING:root:1 individuals went zero\n",
            "WARNING:root:1 individuals went zero\n",
            "Iterations:  87%|████████▋ | 26/30 [2:23:04<21:49, 327.36s/iteration]WARNING:root:1 individuals went zero\n",
            "WARNING:root:1 individuals went zero\n",
            "WARNING:root:1 individuals went zero\n",
            "WARNING:root:1 individuals went zero\n",
            "Iterations:  90%|█████████ | 27/30 [2:28:30<16:21, 327.00s/iteration]WARNING:root:1 individuals went zero\n",
            "WARNING:root:1 individuals went zero\n",
            "WARNING:root:1 individuals went zero\n",
            "WARNING:root:1 individuals went zero\n",
            "WARNING:root:1 individuals went zero\n",
            "WARNING:root:1 individuals went zero\n",
            "Iterations:  93%|█████████▎| 28/30 [2:33:57<10:54, 327.01s/iteration]WARNING:root:1 individuals went zero\n",
            "WARNING:root:1 individuals went zero\n",
            "WARNING:root:1 individuals went zero\n",
            "WARNING:root:1 individuals went zero\n",
            "Iterations:  97%|█████████▋| 29/30 [2:39:18<05:24, 324.99s/iteration]WARNING:root:1 individuals went zero\n",
            "WARNING:root:1 individuals went zero\n",
            "WARNING:root:1 individuals went zero\n",
            "WARNING:root:1 individuals went zero\n",
            "Iterations: 100%|██████████| 30/30 [2:44:59<00:00, 329.99s/iteration]\n"
          ]
        }
      ],
      "source": [
        "num_iterations = 30\n",
        "da_results, da_features, da_dims, da_scores = run_da_optimization(num_iterations, X_train, y_train, X_test, y_test)"
      ],
      "id": "96759e1b-3a34-4479-bbe9-be3e0352c514"
    },
    {
      "cell_type": "code",
      "execution_count": null,
      "metadata": {
        "id": "1a1901a6-c39b-4dc7-8104-418fdd3137ad",
        "outputId": "a1a1c067-ee39-487a-f9ce-521033876ad6"
      },
      "outputs": [
        {
          "data": {
            "text/plain": [
              "[['avg_glucose_level', 'bmi'],\n",
              " ['avg_glucose_level', 'bmi'],\n",
              " ['avg_glucose_level', 'bmi'],\n",
              " ['avg_glucose_level', 'bmi'],\n",
              " ['avg_glucose_level', 'bmi'],\n",
              " ['avg_glucose_level', 'bmi'],\n",
              " ['avg_glucose_level', 'bmi'],\n",
              " ['avg_glucose_level', 'bmi'],\n",
              " ['avg_glucose_level', 'bmi'],\n",
              " ['avg_glucose_level', 'bmi'],\n",
              " ['hypertension', 'avg_glucose_level', 'bmi'],\n",
              " ['avg_glucose_level', 'bmi'],\n",
              " ['avg_glucose_level', 'bmi'],\n",
              " ['avg_glucose_level', 'bmi'],\n",
              " ['avg_glucose_level', 'bmi'],\n",
              " ['avg_glucose_level', 'bmi'],\n",
              " ['avg_glucose_level', 'bmi'],\n",
              " ['avg_glucose_level', 'bmi'],\n",
              " ['ever_married', 'work_type', 'avg_glucose_level', 'smoking_status'],\n",
              " ['avg_glucose_level', 'bmi'],\n",
              " ['avg_glucose_level', 'bmi'],\n",
              " ['avg_glucose_level', 'bmi'],\n",
              " ['avg_glucose_level', 'bmi'],\n",
              " ['avg_glucose_level', 'bmi'],\n",
              " ['avg_glucose_level', 'bmi'],\n",
              " ['avg_glucose_level', 'bmi'],\n",
              " ['avg_glucose_level', 'bmi'],\n",
              " ['avg_glucose_level', 'bmi'],\n",
              " ['avg_glucose_level', 'bmi'],\n",
              " ['ever_married', 'work_type', 'avg_glucose_level', 'smoking_status']]"
            ]
          },
          "execution_count": 20,
          "metadata": {},
          "output_type": "execute_result"
        }
      ],
      "source": [
        "da_features"
      ],
      "id": "1a1901a6-c39b-4dc7-8104-418fdd3137ad"
    },
    {
      "cell_type": "code",
      "execution_count": null,
      "metadata": {
        "id": "6a179df1-1b53-47ff-9118-ce627e7a0f9d"
      },
      "outputs": [],
      "source": [
        "Stroke_data =pd.DataFrame(X[['avg_glucose_level', 'bmi']])\n",
        "Stroke_data['stroke']=y"
      ],
      "id": "6a179df1-1b53-47ff-9118-ce627e7a0f9d"
    },
    {
      "cell_type": "code",
      "execution_count": null,
      "metadata": {
        "id": "a423d063-0d48-4ee2-9c34-1305380a400d"
      },
      "outputs": [],
      "source": [
        "predictor_combined = TabularPredictor(\n",
        "    label=\"stroke\",\n",
        "\n",
        ").fit(\n",
        "    train_data=Stroke_data,\n",
        "\n",
        ")\n",
        "da_dataset4=predictor_combined.leaderboard()"
      ],
      "id": "a423d063-0d48-4ee2-9c34-1305380a400d"
    },
    {
      "cell_type": "markdown",
      "metadata": {
        "id": "0b2571d3-1f59-410d-8142-025f1976d2ee"
      },
      "source": [
        "## Dataset 5"
      ],
      "id": "0b2571d3-1f59-410d-8142-025f1976d2ee"
    },
    {
      "cell_type": "code",
      "execution_count": null,
      "metadata": {
        "id": "ede774e7-02e5-4e69-a1e4-f341449d209f"
      },
      "outputs": [],
      "source": [
        "stroke5 = pd.read_csv('stroke/stroke12.csv')"
      ],
      "id": "ede774e7-02e5-4e69-a1e4-f341449d209f"
    },
    {
      "cell_type": "markdown",
      "source": [
        "https://www.kaggle.com/code/bunyaminpolat/heart-stroke-prediction-with-lr-knn-svm#Implement-SVM-and-Evaluate"
      ],
      "metadata": {
        "id": "9SkyPAJM5OMg"
      },
      "id": "9SkyPAJM5OMg"
    },
    {
      "cell_type": "code",
      "execution_count": null,
      "metadata": {
        "id": "a5c30671-3be0-4066-b832-72e636dbc7ca"
      },
      "outputs": [],
      "source": [
        "stroke5=preprocess_dataset(stroke5)\n",
        "X = stroke5.drop(['stroke'],axis=1)\n",
        "y = stroke5['stroke']\n",
        "\n",
        "from imblearn.over_sampling import SMOTE\n",
        "# Assuming X and y are your feature matrix and target variable, respectively\n",
        "smote = SMOTE()\n",
        "X, y = smote.fit_resample(X, y)\n",
        "X_train, X_test, y_train, y_test = train_test_split(X, y, test_size=0.2,random_state=42)"
      ],
      "id": "a5c30671-3be0-4066-b832-72e636dbc7ca"
    },
    {
      "cell_type": "code",
      "execution_count": null,
      "metadata": {
        "id": "09c27790-dc5c-44ed-82f3-ad4803ca6613",
        "outputId": "bdab7c98-e05a-4475-cec0-54a8b06a6b09"
      },
      "outputs": [
        {
          "name": "stderr",
          "output_type": "stream",
          "text": [
            "Iterations:  13%|█▎        | 4/30 [00:13<01:26,  3.32s/iteration]WARNING:root:1 individuals went zero\n",
            "Iterations:  73%|███████▎  | 22/30 [01:14<00:27,  3.45s/iteration]WARNING:root:1 individuals went zero\n",
            "Iterations: 100%|██████████| 30/30 [01:41<00:00,  3.38s/iteration]\n"
          ]
        }
      ],
      "source": [
        "num_iterations = 30\n",
        "results, features, dims, scores = run_cgwoda_optimization(num_iterations, X_train, y_train, X_test, y_test)"
      ],
      "id": "09c27790-dc5c-44ed-82f3-ad4803ca6613"
    },
    {
      "cell_type": "code",
      "execution_count": null,
      "metadata": {
        "id": "cfdb8a76-3ab8-43f3-9dbf-ac20f529e630",
        "outputId": "cd292245-de74-4455-b863-3826c29222d6"
      },
      "outputs": [
        {
          "data": {
            "text/plain": [
              "[['age', 'heart_disease', 'ever_married', 'Residence_type', 'smoking_status'],\n",
              " ['work_type', 'Residence_type'],\n",
              " ['gender',\n",
              "  'hypertension',\n",
              "  'heart_disease',\n",
              "  'Residence_type',\n",
              "  'avg_glucose_level'],\n",
              " ['age', 'heart_disease', 'Residence_type', 'smoking_status'],\n",
              " ['hypertension', 'ever_married', 'Residence_type'],\n",
              " ['hypertension', 'heart_disease', 'ever_married'],\n",
              " ['hypertension', 'ever_married', 'Residence_type'],\n",
              " ['age', 'heart_disease', 'ever_married', 'Residence_type', 'smoking_status'],\n",
              " ['age', 'heart_disease', 'ever_married', 'work_type', 'smoking_status'],\n",
              " ['gender',\n",
              "  'hypertension',\n",
              "  'heart_disease',\n",
              "  'ever_married',\n",
              "  'Residence_type',\n",
              "  'avg_glucose_level'],\n",
              " ['work_type', 'Residence_type'],\n",
              " ['age', 'heart_disease', 'Residence_type', 'smoking_status'],\n",
              " ['gender',\n",
              "  'hypertension',\n",
              "  'heart_disease',\n",
              "  'Residence_type',\n",
              "  'avg_glucose_level'],\n",
              " ['work_type', 'Residence_type'],\n",
              " ['hypertension', 'work_type'],\n",
              " ['gender',\n",
              "  'hypertension',\n",
              "  'heart_disease',\n",
              "  'ever_married',\n",
              "  'work_type',\n",
              "  'avg_glucose_level'],\n",
              " ['gender',\n",
              "  'age',\n",
              "  'hypertension',\n",
              "  'heart_disease',\n",
              "  'ever_married',\n",
              "  'Residence_type',\n",
              "  'bmi'],\n",
              " ['heart_disease'],\n",
              " ['gender',\n",
              "  'hypertension',\n",
              "  'ever_married',\n",
              "  'work_type',\n",
              "  'Residence_type',\n",
              "  'avg_glucose_level'],\n",
              " ['hypertension', 'Residence_type'],\n",
              " ['gender',\n",
              "  'age',\n",
              "  'hypertension',\n",
              "  'heart_disease',\n",
              "  'ever_married',\n",
              "  'Residence_type',\n",
              "  'bmi'],\n",
              " ['gender',\n",
              "  'age',\n",
              "  'hypertension',\n",
              "  'heart_disease',\n",
              "  'ever_married',\n",
              "  'Residence_type',\n",
              "  'bmi'],\n",
              " ['hypertension', 'work_type', 'Residence_type'],\n",
              " ['ever_married', 'Residence_type'],\n",
              " ['gender',\n",
              "  'hypertension',\n",
              "  'ever_married',\n",
              "  'work_type',\n",
              "  'Residence_type',\n",
              "  'avg_glucose_level'],\n",
              " ['work_type', 'Residence_type'],\n",
              " ['hypertension', 'work_type', 'Residence_type'],\n",
              " ['heart_disease', 'ever_married', 'work_type'],\n",
              " ['gender',\n",
              "  'age',\n",
              "  'hypertension',\n",
              "  'heart_disease',\n",
              "  'ever_married',\n",
              "  'Residence_type',\n",
              "  'bmi'],\n",
              " ['work_type']]"
            ]
          },
          "execution_count": 36,
          "metadata": {},
          "output_type": "execute_result"
        }
      ],
      "source": [
        "features"
      ],
      "id": "cfdb8a76-3ab8-43f3-9dbf-ac20f529e630"
    },
    {
      "cell_type": "code",
      "execution_count": null,
      "metadata": {
        "id": "937a4f7b-aab4-4a12-92cb-c2d4cc0188d3"
      },
      "outputs": [],
      "source": [
        "Stroke_data =pd.DataFrame(X[['gender',\n",
        "  'age',\n",
        "  'hypertension',\n",
        "  'heart_disease',\n",
        "  'ever_married',\n",
        "  'Residence_type',\n",
        "  'bmi']])\n",
        "Stroke_data['stroke']=y"
      ],
      "id": "937a4f7b-aab4-4a12-92cb-c2d4cc0188d3"
    },
    {
      "cell_type": "code",
      "execution_count": null,
      "metadata": {
        "id": "39e5b9a5-6308-4555-a8a4-67065bd6506a"
      },
      "outputs": [],
      "source": [
        "predictor_combined = TabularPredictor(\n",
        "    label=\"stroke\",\n",
        "\n",
        ").fit(\n",
        "    train_data=Stroke_data,\n",
        "\n",
        ")\n",
        "cgwoda_dataset5=predictor_combined.leaderboard()"
      ],
      "id": "39e5b9a5-6308-4555-a8a4-67065bd6506a"
    },
    {
      "cell_type": "code",
      "execution_count": null,
      "metadata": {
        "id": "2c5c7e2b-9bd9-42eb-b5e8-d049fb5aa8fe",
        "outputId": "fca67e8d-3abb-4a82-b22c-847dbd1e3439"
      },
      "outputs": [
        {
          "name": "stderr",
          "output_type": "stream",
          "text": [
            "Iterations:   0%|          | 0/30 [00:00<?, ?iteration/s]WARNING:root:1 individuals went zero\n",
            "Iterations:  30%|███       | 9/30 [00:33<01:14,  3.56s/iteration]WARNING:root:1 individuals went zero\n",
            "Iterations:  37%|███▋      | 11/30 [00:42<01:13,  3.88s/iteration]WARNING:root:1 individuals went zero\n",
            "Iterations:  43%|████▎     | 13/30 [00:49<01:01,  3.64s/iteration]WARNING:root:1 individuals went zero\n",
            "WARNING:root:1 individuals went zero\n",
            "Iterations:  47%|████▋     | 14/30 [00:53<01:02,  3.90s/iteration]WARNING:root:1 individuals went zero\n",
            "Iterations:  50%|█████     | 15/30 [00:57<00:59,  3.95s/iteration]WARNING:root:1 individuals went zero\n",
            "Iterations:  53%|█████▎    | 16/30 [01:01<00:54,  3.90s/iteration]WARNING:root:1 individuals went zero\n",
            "Iterations:  73%|███████▎  | 22/30 [01:24<00:29,  3.72s/iteration]WARNING:root:1 individuals went zero\n",
            "Iterations:  87%|████████▋ | 26/30 [01:39<00:14,  3.74s/iteration]WARNING:root:1 individuals went zero\n",
            "Iterations:  97%|█████████▋| 29/30 [01:53<00:04,  4.31s/iteration]WARNING:root:1 individuals went zero\n",
            "WARNING:root:1 individuals went zero\n",
            "WARNING:root:1 individuals went zero\n",
            "Iterations: 100%|██████████| 30/30 [01:58<00:00,  3.94s/iteration]\n"
          ]
        }
      ],
      "source": [
        "num_iterations = 30\n",
        "da_results, da_features, da_dims, da_scores = run_da_optimization(num_iterations, X_train, y_train, X_test, y_test)"
      ],
      "id": "2c5c7e2b-9bd9-42eb-b5e8-d049fb5aa8fe"
    },
    {
      "cell_type": "code",
      "execution_count": null,
      "metadata": {
        "id": "a42c1ea0-f964-432f-849b-d14a7f8b6114",
        "outputId": "74c6e366-7234-484e-e30f-d63ed0c4189e"
      },
      "outputs": [
        {
          "data": {
            "text/plain": [
              "[['gender',\n",
              "  'age',\n",
              "  'hypertension',\n",
              "  'heart_disease',\n",
              "  'ever_married',\n",
              "  'Residence_type',\n",
              "  'bmi'],\n",
              " ['age', 'heart_disease', 'Residence_type', 'smoking_status'],\n",
              " ['age', 'heart_disease', 'Residence_type', 'smoking_status'],\n",
              " ['age', 'heart_disease', 'Residence_type', 'smoking_status'],\n",
              " ['gender',\n",
              "  'age',\n",
              "  'hypertension',\n",
              "  'heart_disease',\n",
              "  'ever_married',\n",
              "  'Residence_type',\n",
              "  'bmi'],\n",
              " ['age', 'heart_disease', 'Residence_type', 'smoking_status'],\n",
              " ['age', 'heart_disease', 'Residence_type', 'smoking_status'],\n",
              " ['gender',\n",
              "  'age',\n",
              "  'hypertension',\n",
              "  'heart_disease',\n",
              "  'ever_married',\n",
              "  'Residence_type',\n",
              "  'bmi'],\n",
              " ['age', 'heart_disease', 'Residence_type', 'smoking_status'],\n",
              " ['age', 'heart_disease', 'Residence_type', 'smoking_status'],\n",
              " ['gender',\n",
              "  'age',\n",
              "  'hypertension',\n",
              "  'heart_disease',\n",
              "  'ever_married',\n",
              "  'Residence_type',\n",
              "  'bmi'],\n",
              " ['gender',\n",
              "  'age',\n",
              "  'hypertension',\n",
              "  'heart_disease',\n",
              "  'ever_married',\n",
              "  'Residence_type',\n",
              "  'bmi'],\n",
              " ['age', 'heart_disease', 'Residence_type', 'smoking_status'],\n",
              " ['age', 'heart_disease', 'Residence_type', 'smoking_status'],\n",
              " ['age', 'heart_disease', 'Residence_type', 'smoking_status'],\n",
              " ['age', 'heart_disease', 'Residence_type', 'smoking_status'],\n",
              " ['age', 'heart_disease', 'Residence_type', 'smoking_status'],\n",
              " ['age', 'heart_disease', 'Residence_type', 'smoking_status'],\n",
              " ['age', 'heart_disease', 'Residence_type', 'smoking_status'],\n",
              " ['age', 'heart_disease', 'Residence_type', 'smoking_status'],\n",
              " ['age', 'heart_disease', 'Residence_type', 'smoking_status'],\n",
              " ['age', 'heart_disease', 'Residence_type', 'smoking_status'],\n",
              " ['age', 'heart_disease', 'Residence_type', 'smoking_status'],\n",
              " ['age', 'heart_disease', 'Residence_type', 'smoking_status'],\n",
              " ['age', 'heart_disease', 'Residence_type', 'smoking_status'],\n",
              " ['age', 'heart_disease', 'Residence_type', 'smoking_status'],\n",
              " ['age', 'heart_disease', 'Residence_type', 'smoking_status'],\n",
              " ['age', 'heart_disease', 'Residence_type', 'smoking_status'],\n",
              " ['age', 'heart_disease', 'Residence_type', 'smoking_status'],\n",
              " ['age', 'heart_disease', 'Residence_type', 'smoking_status']]"
            ]
          },
          "execution_count": 57,
          "metadata": {},
          "output_type": "execute_result"
        }
      ],
      "source": [
        "da_features"
      ],
      "id": "a42c1ea0-f964-432f-849b-d14a7f8b6114"
    },
    {
      "cell_type": "code",
      "execution_count": null,
      "metadata": {
        "id": "bb714e98-e12c-49bc-b666-cf8cfcf5a7c9"
      },
      "outputs": [],
      "source": [
        "Stroke_data =pd.DataFrame(X[['gender',\n",
        "  'age',\n",
        "  'hypertension',\n",
        "  'heart_disease',\n",
        "  'ever_married',\n",
        "  'Residence_type',\n",
        "  'bmi']])\n",
        "Stroke_data['stroke']=y"
      ],
      "id": "bb714e98-e12c-49bc-b666-cf8cfcf5a7c9"
    },
    {
      "cell_type": "code",
      "execution_count": null,
      "metadata": {
        "id": "877b7cc9-c98b-4c1d-a976-05c410fc3a2d"
      },
      "outputs": [],
      "source": [
        "predictor_combined = TabularPredictor(\n",
        "    label=\"stroke\",\n",
        "\n",
        ").fit(\n",
        "    train_data=Stroke_data,\n",
        "\n",
        ")\n",
        "da_dataset5 =predictor_combined.leaderboard()"
      ],
      "id": "877b7cc9-c98b-4c1d-a976-05c410fc3a2d"
    },
    {
      "cell_type": "markdown",
      "metadata": {
        "id": "50ca8091-a801-43aa-a5ba-ba1ae3532a71"
      },
      "source": [
        "## Dataset 6"
      ],
      "id": "50ca8091-a801-43aa-a5ba-ba1ae3532a71"
    },
    {
      "cell_type": "code",
      "execution_count": null,
      "metadata": {
        "id": "6fdc0163-cbea-4410-9ce1-bfe7beb9891c"
      },
      "outputs": [],
      "source": [
        "stroke6 = pd.read_csv('stroke/stroke 13.csv')"
      ],
      "id": "6fdc0163-cbea-4410-9ce1-bfe7beb9891c"
    },
    {
      "cell_type": "code",
      "execution_count": null,
      "metadata": {
        "id": "76b2024b-a3b3-4fb4-afe6-c8e7ba296e13"
      },
      "outputs": [],
      "source": [
        "X = stroke6.drop(['target'],axis=1)\n",
        "y = stroke6['target']\n",
        "\n",
        "from imblearn.over_sampling import SMOTE\n",
        "# Assuming X and y are your feature matrix and target variable, respectively\n",
        "smote = SMOTE()\n",
        "X, y = smote.fit_resample(X, y)\n",
        "X_train, X_test, y_train, y_test = train_test_split(X, y, test_size=0.2,random_state=42)"
      ],
      "id": "76b2024b-a3b3-4fb4-afe6-c8e7ba296e13"
    },
    {
      "cell_type": "code",
      "execution_count": null,
      "metadata": {
        "id": "84cfa3d5-c83b-4c6c-9776-815195210b86",
        "outputId": "220b9e7c-37dd-4e01-a431-ed1f1135bfe9"
      },
      "outputs": [
        {
          "name": "stderr",
          "output_type": "stream",
          "text": [
            "Iterations:  77%|███████▋  | 23/30 [01:49<00:33,  4.84s/iteration]WARNING:root:1 individuals went zero\n",
            "Iterations: 100%|██████████| 30/30 [02:21<00:00,  4.72s/iteration]\n"
          ]
        }
      ],
      "source": [
        "num_iterations = 30\n",
        "results, features, dims, scores = run_cgwoda_optimization(num_iterations, X_train, y_train, X_test, y_test)"
      ],
      "id": "84cfa3d5-c83b-4c6c-9776-815195210b86"
    },
    {
      "cell_type": "code",
      "execution_count": null,
      "metadata": {
        "id": "57dbff48-b6c5-437a-b2a6-5e5957f764e7",
        "outputId": "f7af48b7-d43e-420b-9e95-dd756fcf54f7"
      },
      "outputs": [
        {
          "data": {
            "text/plain": [
              "[['sex', 'cp', 'trestbps', 'chol', 'exang', 'slope', 'ca'],\n",
              " ['cp', 'restecg', 'exang', 'oldpeak', 'slope', 'ca', 'thal'],\n",
              " ['sex', 'cp', 'trestbps', 'chol', 'fbs', 'restecg', 'exang', 'slope'],\n",
              " ['age', 'chol', 'fbs', 'restecg', 'exang', 'slope', 'thal'],\n",
              " ['age', 'sex', 'chol', 'fbs', 'restecg', 'slope', 'ca', 'thal'],\n",
              " ['age', 'chol', 'exang'],\n",
              " ['sex', 'cp', 'fbs', 'oldpeak', 'slope'],\n",
              " ['cp', 'oldpeak', 'slope', 'ca'],\n",
              " ['sex', 'cp', 'trestbps', 'chol', 'fbs', 'restecg', 'slope', 'ca'],\n",
              " ['age', 'sex', 'cp', 'fbs', 'restecg', 'oldpeak', 'ca', 'thal'],\n",
              " ['sex', 'cp', 'trestbps', 'chol'],\n",
              " ['sex', 'cp', 'trestbps', 'chol', 'exang', 'slope', 'ca'],\n",
              " ['sex', 'cp', 'trestbps', 'exang', 'oldpeak', 'slope', 'ca', 'thal'],\n",
              " ['sex', 'cp', 'trestbps', 'chol', 'fbs', 'restecg', 'ca'],\n",
              " ['age', 'sex', 'cp', 'restecg', 'oldpeak', 'ca', 'thal'],\n",
              " ['age', 'sex', 'chol', 'fbs', 'restecg', 'exang', 'slope', 'ca', 'thal'],\n",
              " ['sex', 'cp', 'trestbps', 'chol', 'slope', 'ca', 'thal'],\n",
              " ['sex', 'cp', 'trestbps', 'chol', 'slope', 'ca'],\n",
              " ['sex', 'trestbps', 'chol', 'fbs', 'exang'],\n",
              " ['age', 'sex', 'cp', 'restecg', 'oldpeak', 'thal'],\n",
              " ['sex', 'cp', 'trestbps', 'chol', 'fbs', 'thal'],\n",
              " ['sex', 'cp', 'restecg', 'exang', 'slope', 'ca'],\n",
              " ['cp', 'trestbps', 'fbs', 'exang', 'oldpeak', 'slope', 'ca', 'thal'],\n",
              " ['sex', 'cp', 'trestbps', 'chol', 'fbs', 'restecg', 'slope', 'ca'],\n",
              " ['sex', 'cp', 'trestbps', 'chol', 'restecg'],\n",
              " ['age', 'sex', 'cp', 'fbs', 'restecg', 'oldpeak', 'slope', 'ca', 'thal'],\n",
              " ['cp', 'fbs', 'restecg', 'slope', 'ca', 'thal'],\n",
              " ['sex', 'cp', 'trestbps', 'chol', 'fbs', 'restecg', 'slope'],\n",
              " ['cp', 'trestbps', 'chol', 'ca'],\n",
              " ['age', 'sex', 'cp', 'restecg', 'oldpeak', 'slope', 'ca', 'thal']]"
            ]
          },
          "execution_count": 75,
          "metadata": {},
          "output_type": "execute_result"
        }
      ],
      "source": [
        "features"
      ],
      "id": "57dbff48-b6c5-437a-b2a6-5e5957f764e7"
    },
    {
      "cell_type": "code",
      "execution_count": null,
      "metadata": {
        "id": "41298b4b-8f60-4da7-b730-56527e945e45"
      },
      "outputs": [],
      "source": [
        "Stroke_data =pd.DataFrame(X[['cp', 'oldpeak', 'slope', 'ca']])\n",
        "Stroke_data['stroke']=y"
      ],
      "id": "41298b4b-8f60-4da7-b730-56527e945e45"
    },
    {
      "cell_type": "code",
      "execution_count": null,
      "metadata": {
        "id": "f4c4efd9-ab28-486b-a8ec-876a69e2ea7a"
      },
      "outputs": [],
      "source": [
        "predictor_combined = TabularPredictor(\n",
        "    label=\"stroke\",\n",
        "\n",
        ").fit(\n",
        "    train_data=Stroke_data,\n",
        "\n",
        ")\n",
        "cgwoda_dataset6=predictor_combined.leaderboard()"
      ],
      "id": "f4c4efd9-ab28-486b-a8ec-876a69e2ea7a"
    },
    {
      "cell_type": "code",
      "execution_count": null,
      "metadata": {
        "id": "05c0b922-7d37-4551-ad52-c680fe4bca10",
        "outputId": "83578d2b-fb00-4ca1-f3e9-4d568cb4fe0d"
      },
      "outputs": [
        {
          "name": "stderr",
          "output_type": "stream",
          "text": [
            "Iterations:   3%|██▏                                                             | 1/30 [00:09<04:35,  9.51s/iteration]WARNING:root:1 individuals went zero\n",
            "Iterations:   7%|████▎                                                           | 2/30 [00:18<04:22,  9.38s/iteration]WARNING:root:1 individuals went zero\n",
            "Iterations:  17%|██████████▋                                                     | 5/30 [00:52<04:34, 11.00s/iteration]WARNING:root:1 individuals went zero\n",
            "Iterations:  50%|███████████████████████████████▌                               | 15/30 [02:34<02:34, 10.31s/iteration]WARNING:root:1 individuals went zero\n",
            "Iterations:  60%|█████████████████████████████████████▊                         | 18/30 [03:04<02:02, 10.17s/iteration]WARNING:root:1 individuals went zero\n",
            "Iterations:  70%|████████████████████████████████████████████                   | 21/30 [03:25<01:13,  8.18s/iteration]WARNING:root:1 individuals went zero\n",
            "Iterations:  87%|██████████████████████████████████████████████████████▌        | 26/30 [04:01<00:30,  7.53s/iteration]WARNING:root:1 individuals went zero\n",
            "Iterations:  90%|████████████████████████████████████████████████████████▋      | 27/30 [04:15<00:28,  9.45s/iteration]WARNING:root:1 individuals went zero\n",
            "Iterations: 100%|███████████████████████████████████████████████████████████████| 30/30 [04:37<00:00,  9.25s/iteration]\n"
          ]
        }
      ],
      "source": [
        "num_iterations = 30\n",
        "da_results, da_features, da_dims, da_scores = run_da_optimization(num_iterations, X_train, y_train, X_test, y_test)"
      ],
      "id": "05c0b922-7d37-4551-ad52-c680fe4bca10"
    },
    {
      "cell_type": "code",
      "execution_count": null,
      "metadata": {
        "id": "2a1b41e3-6d24-4ec7-9db8-bc0b139c1ed2"
      },
      "outputs": [],
      "source": [],
      "id": "2a1b41e3-6d24-4ec7-9db8-bc0b139c1ed2"
    },
    {
      "cell_type": "code",
      "execution_count": null,
      "metadata": {
        "id": "b8f0478b-bd7e-4ce4-a0fe-ee88d175935e",
        "outputId": "650c52f9-fb7a-439d-a2a4-2d96fb44b554"
      },
      "outputs": [
        {
          "data": {
            "text/plain": [
              "[['cp', 'oldpeak', 'slope', 'ca'],\n",
              " ['cp', 'exang', 'oldpeak', 'slope', 'ca'],\n",
              " ['cp', 'oldpeak', 'slope', 'ca'],\n",
              " ['cp', 'oldpeak', 'slope', 'ca'],\n",
              " ['sex', 'cp', 'restecg', 'exang', 'slope', 'ca'],\n",
              " ['cp', 'fbs', 'oldpeak', 'slope', 'ca'],\n",
              " ['cp', 'exang', 'oldpeak', 'slope', 'ca'],\n",
              " ['cp', 'oldpeak', 'slope', 'ca'],\n",
              " ['cp', 'oldpeak', 'slope', 'ca'],\n",
              " ['age', 'sex', 'cp', 'restecg', 'oldpeak', 'ca', 'thal'],\n",
              " ['cp', 'oldpeak', 'slope', 'ca'],\n",
              " ['sex', 'cp', 'trestbps', 'exang', 'oldpeak', 'slope', 'ca', 'thal'],\n",
              " ['sex', 'cp', 'restecg', 'exang', 'slope', 'ca'],\n",
              " ['age', 'sex', 'cp', 'restecg', 'oldpeak', 'ca', 'thal'],\n",
              " ['sex', 'cp', 'trestbps', 'exang', 'oldpeak', 'slope', 'ca', 'thal'],\n",
              " ['age', 'sex', 'cp', 'restecg', 'oldpeak', 'ca', 'thal'],\n",
              " ['cp', 'oldpeak', 'slope', 'ca'],\n",
              " ['cp', 'restecg', 'oldpeak', 'slope', 'ca'],\n",
              " ['sex', 'cp', 'restecg', 'exang', 'slope', 'ca'],\n",
              " ['age', 'sex', 'cp', 'restecg', 'oldpeak', 'ca', 'thal'],\n",
              " ['age', 'sex', 'cp', 'fbs', 'restecg', 'oldpeak', 'thal'],\n",
              " ['cp', 'oldpeak', 'slope', 'ca'],\n",
              " ['cp', 'oldpeak', 'slope', 'ca'],\n",
              " ['cp', 'oldpeak', 'slope', 'thal'],\n",
              " ['sex', 'cp', 'trestbps', 'exang', 'oldpeak', 'slope', 'ca', 'thal'],\n",
              " ['age', 'sex', 'cp', 'restecg', 'oldpeak', 'ca', 'thal'],\n",
              " ['age', 'sex', 'cp', 'restecg', 'oldpeak', 'ca', 'thal'],\n",
              " ['restecg', 'exang', 'ca', 'thal'],\n",
              " ['cp', 'oldpeak', 'slope', 'ca'],\n",
              " ['cp', 'restecg', 'oldpeak', 'slope', 'ca']]"
            ]
          },
          "execution_count": 72,
          "metadata": {},
          "output_type": "execute_result"
        }
      ],
      "source": [
        "da_features"
      ],
      "id": "b8f0478b-bd7e-4ce4-a0fe-ee88d175935e"
    },
    {
      "cell_type": "code",
      "execution_count": null,
      "metadata": {
        "id": "de077597-3303-4360-92a8-570d06314358"
      },
      "outputs": [],
      "source": [
        "Stroke_data =pd.DataFrame(X[['cp', 'oldpeak', 'slope', 'ca']])\n",
        "Stroke_data['stroke']=y"
      ],
      "id": "de077597-3303-4360-92a8-570d06314358"
    },
    {
      "cell_type": "code",
      "execution_count": null,
      "metadata": {
        "id": "3ca95810-f862-4de0-900d-97f203068b2e"
      },
      "outputs": [],
      "source": [
        "predictor_combined = TabularPredictor(\n",
        "    label=\"stroke\",\n",
        "\n",
        ").fit(\n",
        "    train_data=Stroke_data,\n",
        "\n",
        ")\n",
        "da_dataset6=predictor_combined.leaderboard()"
      ],
      "id": "3ca95810-f862-4de0-900d-97f203068b2e"
    },
    {
      "cell_type": "code",
      "execution_count": null,
      "metadata": {
        "id": "0e6e154d-85be-4ed2-b533-399c116ee7ea"
      },
      "outputs": [],
      "source": [],
      "id": "0e6e154d-85be-4ed2-b533-399c116ee7ea"
    },
    {
      "cell_type": "markdown",
      "metadata": {
        "id": "bdfe4743-e1b0-40b6-afe6-9e56dfa25dc8"
      },
      "source": [
        "## Dataset 7"
      ],
      "id": "bdfe4743-e1b0-40b6-afe6-9e56dfa25dc8"
    },
    {
      "cell_type": "code",
      "execution_count": null,
      "metadata": {
        "colab": {
          "base_uri": "https://localhost:8080/"
        },
        "id": "ps6S_TQfnZPk",
        "outputId": "ec54aec3-4e3d-40b9-d5c8-15412fd5e9b4"
      },
      "outputs": [
        {
          "name": "stdout",
          "output_type": "stream",
          "text": [
            "/content/drive/MyDrive/Colab Notebooks/stroke\n"
          ]
        }
      ],
      "source": [
        "%cd stroke/"
      ],
      "id": "ps6S_TQfnZPk"
    },
    {
      "cell_type": "code",
      "execution_count": null,
      "metadata": {
        "id": "ca76b45f-d44f-405f-a8b1-ef329e99627a"
      },
      "outputs": [],
      "source": [
        "stroke7 = pd.read_csv('stroke/stroke14.csv')[:1000]"
      ],
      "id": "ca76b45f-d44f-405f-a8b1-ef329e99627a"
    },
    {
      "cell_type": "code",
      "execution_count": null,
      "metadata": {
        "id": "6d7bf18d-e80c-400e-8856-63f930633bc5"
      },
      "outputs": [],
      "source": [
        "stroke7=preprocess_dataset(stroke7)\n",
        "X = stroke7.drop(['Stroke'],axis=1)\n",
        "y = stroke7['Stroke']\n",
        "\n",
        "from imblearn.over_sampling import SMOTE\n",
        "# Assuming X and y are your feature matrix and target variable, respectively\n",
        "smote = SMOTE()\n",
        "X, y = smote.fit_resample(X, y)\n",
        "X_train, X_test, y_train, y_test = train_test_split(X, y, test_size=0.2,random_state=42)"
      ],
      "id": "6d7bf18d-e80c-400e-8856-63f930633bc5"
    },
    {
      "cell_type": "code",
      "execution_count": null,
      "metadata": {
        "colab": {
          "base_uri": "https://localhost:8080/"
        },
        "id": "183a4d82-ff98-4980-b570-5b359573f69b",
        "outputId": "5e940faf-beb6-401c-9ff6-395b7600f221"
      },
      "outputs": [
        {
          "data": {
            "text/plain": [
              "(1868, 20)"
            ]
          },
          "execution_count": 20,
          "metadata": {},
          "output_type": "execute_result"
        }
      ],
      "source": [
        "X.shape"
      ],
      "id": "183a4d82-ff98-4980-b570-5b359573f69b"
    },
    {
      "cell_type": "code",
      "execution_count": null,
      "metadata": {
        "colab": {
          "base_uri": "https://localhost:8080/"
        },
        "id": "970f9a2b-cf37-425b-8bee-787a75e5e057",
        "outputId": "24408e5d-2d4c-4905-a898-6d9ff612526e"
      },
      "outputs": [
        {
          "name": "stderr",
          "output_type": "stream",
          "text": [
            "Iterations: 100%|██████████| 30/30 [09:34<00:00, 19.15s/iteration]\n"
          ]
        }
      ],
      "source": [
        "num_iterations = 30\n",
        "results, features, dims, scores = run_cgwoda_optimization(num_iterations, X_train, y_train, X_test, y_test)"
      ],
      "id": "970f9a2b-cf37-425b-8bee-787a75e5e057"
    },
    {
      "cell_type": "code",
      "execution_count": null,
      "metadata": {
        "colab": {
          "base_uri": "https://localhost:8080/"
        },
        "id": "d1a735e1-b465-4fd8-b2a0-9fa32f1341e2",
        "outputId": "8aae8cab-6dcb-4ee3-93c2-d43d24c80104"
      },
      "outputs": [
        {
          "data": {
            "text/plain": [
              "[['CholCheck', 'Smoke', 'MentHlth', 'DiffWalk'],\n",
              " ['Diabetes_012',\n",
              "  'HighBP',\n",
              "  'CholCheck',\n",
              "  'BMI',\n",
              "  'Smoke',\n",
              "  'HeartDiseaseorAttack',\n",
              "  'PhysicalActivity',\n",
              "  'Fruits',\n",
              "  'AlcoholConsump',\n",
              "  'GenHlth',\n",
              "  'PhysHlth',\n",
              "  'DiffWalk',\n",
              "  'Sex',\n",
              "  'Education'],\n",
              " ['Diabetes_012',\n",
              "  'HighBP',\n",
              "  'HighChol',\n",
              "  'CholCheck',\n",
              "  'BMI',\n",
              "  'Smoke',\n",
              "  'PhysicalActivity',\n",
              "  'Veggies',\n",
              "  'PhysHlth',\n",
              "  'DiffWalk',\n",
              "  'Sex',\n",
              "  'Education'],\n",
              " ['Diabetes_012',\n",
              "  'HighBP',\n",
              "  'BMI',\n",
              "  'PhysicalActivity',\n",
              "  'Fruits',\n",
              "  'Veggies',\n",
              "  'AnyHealthcare',\n",
              "  'GenHlth',\n",
              "  'PhysHlth',\n",
              "  'DiffWalk',\n",
              "  'Sex',\n",
              "  'Education'],\n",
              " ['Diabetes_012',\n",
              "  'HighChol',\n",
              "  'BMI',\n",
              "  'Smoke',\n",
              "  'HeartDiseaseorAttack',\n",
              "  'PhysicalActivity',\n",
              "  'Veggies',\n",
              "  'AnyHealthcare',\n",
              "  'GenHlth',\n",
              "  'PhysHlth',\n",
              "  'DiffWalk',\n",
              "  'Sex',\n",
              "  'Education'],\n",
              " ['HighChol', 'Smoke', 'Fruits', 'Veggies', 'NoDocbcCost'],\n",
              " ['Diabetes_012',\n",
              "  'HighChol',\n",
              "  'BMI',\n",
              "  'Smoke',\n",
              "  'PhysicalActivity',\n",
              "  'Fruits',\n",
              "  'AnyHealthcare',\n",
              "  'MentHlth',\n",
              "  'PhysHlth',\n",
              "  'DiffWalk',\n",
              "  'Education'],\n",
              " ['HighBP',\n",
              "  'HeartDiseaseorAttack',\n",
              "  'PhysicalActivity',\n",
              "  'AnyHealthcare',\n",
              "  'GenHlth',\n",
              "  'PhysHlth'],\n",
              " ['Diabetes_012',\n",
              "  'HighBP',\n",
              "  'HighChol',\n",
              "  'BMI',\n",
              "  'Smoke',\n",
              "  'PhysicalActivity',\n",
              "  'Fruits',\n",
              "  'Veggies',\n",
              "  'AlcoholConsump',\n",
              "  'PhysHlth',\n",
              "  'Sex',\n",
              "  'Age',\n",
              "  'Education'],\n",
              " ['Smoke', 'AlcoholConsump', 'AnyHealthcare', 'Age'],\n",
              " ['Diabetes_012',\n",
              "  'CholCheck',\n",
              "  'BMI',\n",
              "  'Smoke',\n",
              "  'HeartDiseaseorAttack',\n",
              "  'Veggies',\n",
              "  'AnyHealthcare',\n",
              "  'NoDocbcCost',\n",
              "  'PhysHlth',\n",
              "  'DiffWalk',\n",
              "  'Sex',\n",
              "  'Education'],\n",
              " ['HighBP',\n",
              "  'HighChol',\n",
              "  'CholCheck',\n",
              "  'Smoke',\n",
              "  'PhysicalActivity',\n",
              "  'Veggies',\n",
              "  'AnyHealthcare'],\n",
              " ['Diabetes_012',\n",
              "  'HighChol',\n",
              "  'CholCheck',\n",
              "  'BMI',\n",
              "  'Smoke',\n",
              "  'PhysicalActivity',\n",
              "  'Fruits',\n",
              "  'Veggies',\n",
              "  'AnyHealthcare',\n",
              "  'GenHlth',\n",
              "  'PhysHlth',\n",
              "  'DiffWalk',\n",
              "  'Sex',\n",
              "  'Education'],\n",
              " ['Diabetes_012',\n",
              "  'HighBP',\n",
              "  'CholCheck',\n",
              "  'Smoke',\n",
              "  'Fruits',\n",
              "  'Veggies',\n",
              "  'AlcoholConsump',\n",
              "  'NoDocbcCost',\n",
              "  'DiffWalk'],\n",
              " ['Fruits',\n",
              "  'AnyHealthcare',\n",
              "  'NoDocbcCost',\n",
              "  'GenHlth',\n",
              "  'MentHlth',\n",
              "  'PhysHlth',\n",
              "  'Sex'],\n",
              " ['Diabetes_012',\n",
              "  'BMI',\n",
              "  'PhysicalActivity',\n",
              "  'Fruits',\n",
              "  'Veggies',\n",
              "  'AlcoholConsump',\n",
              "  'AnyHealthcare',\n",
              "  'PhysHlth',\n",
              "  'DiffWalk',\n",
              "  'Sex',\n",
              "  'Age',\n",
              "  'Education'],\n",
              " ['Diabetes_012',\n",
              "  'HighBP',\n",
              "  'HighChol',\n",
              "  'HeartDiseaseorAttack',\n",
              "  'AlcoholConsump',\n",
              "  'MentHlth'],\n",
              " ['Diabetes_012',\n",
              "  'HighBP',\n",
              "  'CholCheck',\n",
              "  'BMI',\n",
              "  'HeartDiseaseorAttack',\n",
              "  'PhysicalActivity',\n",
              "  'Fruits',\n",
              "  'Veggies',\n",
              "  'AlcoholConsump',\n",
              "  'AnyHealthcare',\n",
              "  'GenHlth',\n",
              "  'PhysHlth',\n",
              "  'DiffWalk',\n",
              "  'Sex',\n",
              "  'Education'],\n",
              " ['HighBP',\n",
              "  'HighChol',\n",
              "  'CholCheck',\n",
              "  'Smoke',\n",
              "  'Fruits',\n",
              "  'AlcoholConsump',\n",
              "  'MentHlth'],\n",
              " ['HighBP', 'HighChol', 'CholCheck', 'GenHlth', 'DiffWalk'],\n",
              " ['HighBP',\n",
              "  'CholCheck',\n",
              "  'HeartDiseaseorAttack',\n",
              "  'PhysicalActivity',\n",
              "  'Fruits',\n",
              "  'AlcoholConsump',\n",
              "  'AnyHealthcare',\n",
              "  'NoDocbcCost',\n",
              "  'Age'],\n",
              " ['Diabetes_012',\n",
              "  'HighBP',\n",
              "  'HighChol',\n",
              "  'CholCheck',\n",
              "  'HeartDiseaseorAttack',\n",
              "  'Fruits',\n",
              "  'NoDocbcCost',\n",
              "  'GenHlth',\n",
              "  'Sex'],\n",
              " ['Diabetes_012',\n",
              "  'HighBP',\n",
              "  'CholCheck',\n",
              "  'BMI',\n",
              "  'Smoke',\n",
              "  'HeartDiseaseorAttack',\n",
              "  'PhysicalActivity',\n",
              "  'Fruits',\n",
              "  'Veggies',\n",
              "  'AlcoholConsump',\n",
              "  'GenHlth',\n",
              "  'PhysHlth',\n",
              "  'DiffWalk',\n",
              "  'Sex',\n",
              "  'Education'],\n",
              " ['Diabetes_012',\n",
              "  'HighChol',\n",
              "  'CholCheck',\n",
              "  'HeartDiseaseorAttack',\n",
              "  'Fruits',\n",
              "  'DiffWalk',\n",
              "  'Sex',\n",
              "  'Age'],\n",
              " ['Diabetes_012',\n",
              "  'HighChol',\n",
              "  'BMI',\n",
              "  'Smoke',\n",
              "  'HeartDiseaseorAttack',\n",
              "  'PhysicalActivity',\n",
              "  'Veggies',\n",
              "  'AnyHealthcare',\n",
              "  'NoDocbcCost',\n",
              "  'GenHlth',\n",
              "  'PhysHlth',\n",
              "  'DiffWalk',\n",
              "  'Sex',\n",
              "  'Education'],\n",
              " ['Diabetes_012',\n",
              "  'HighChol',\n",
              "  'CholCheck',\n",
              "  'BMI',\n",
              "  'Smoke',\n",
              "  'PhysicalActivity',\n",
              "  'Veggies',\n",
              "  'AlcoholConsump',\n",
              "  'GenHlth',\n",
              "  'PhysHlth',\n",
              "  'DiffWalk',\n",
              "  'Sex',\n",
              "  'Education'],\n",
              " ['CholCheck', 'BMI', 'Veggies', 'AlcoholConsump', 'NoDocbcCost', 'DiffWalk'],\n",
              " ['Diabetes_012',\n",
              "  'HighBP',\n",
              "  'HighChol',\n",
              "  'CholCheck',\n",
              "  'BMI',\n",
              "  'Smoke',\n",
              "  'HeartDiseaseorAttack',\n",
              "  'PhysicalActivity',\n",
              "  'Fruits',\n",
              "  'Veggies',\n",
              "  'AlcoholConsump',\n",
              "  'NoDocbcCost',\n",
              "  'PhysHlth',\n",
              "  'DiffWalk',\n",
              "  'Sex',\n",
              "  'Age',\n",
              "  'Education'],\n",
              " ['HighBP', 'PhysicalActivity', 'Veggies', 'Age'],\n",
              " ['HighChol',\n",
              "  'CholCheck',\n",
              "  'AlcoholConsump',\n",
              "  'GenHlth',\n",
              "  'DiffWalk',\n",
              "  'Education']]"
            ]
          },
          "execution_count": 22,
          "metadata": {},
          "output_type": "execute_result"
        }
      ],
      "source": [
        "features"
      ],
      "id": "d1a735e1-b465-4fd8-b2a0-9fa32f1341e2"
    },
    {
      "cell_type": "code",
      "execution_count": null,
      "metadata": {
        "id": "pzPFcXmL3RNA"
      },
      "outputs": [],
      "source": [
        "Stroke_data =pd.DataFrame(X[ ['Diabetes_012',\n",
        "  'HighBP',\n",
        "  'HighChol',\n",
        "  'CholCheck',\n",
        "  'BMI',\n",
        "  'Smoke',\n",
        "  'HeartDiseaseorAttack',\n",
        "  'PhysicalActivity',\n",
        "  'Fruits',\n",
        "  'Veggies',\n",
        "  'AlcoholConsump',\n",
        "  'NoDocbcCost',\n",
        "  'PhysHlth',\n",
        "  'DiffWalk',\n",
        "  'Sex',\n",
        "  'Age',\n",
        "  'Education']])\n",
        "Stroke_data['stroke']=y"
      ],
      "id": "pzPFcXmL3RNA"
    },
    {
      "cell_type": "code",
      "execution_count": null,
      "metadata": {
        "id": "f6bRgaYi82l3"
      },
      "outputs": [],
      "source": [],
      "id": "f6bRgaYi82l3"
    },
    {
      "cell_type": "code",
      "execution_count": null,
      "metadata": {
        "id": "MaHgvfj33hFA"
      },
      "outputs": [],
      "source": [
        "predictor_combined = TabularPredictor(\n",
        "    label=\"stroke\",\n",
        "\n",
        ").fit(\n",
        "    train_data=Stroke_data,\n",
        "\n",
        ")\n",
        "cgwoda_dataset7=predictor_combined.leaderboard()"
      ],
      "id": "MaHgvfj33hFA"
    },
    {
      "cell_type": "code",
      "execution_count": null,
      "metadata": {
        "colab": {
          "base_uri": "https://localhost:8080/"
        },
        "id": "qFYNhNYs3oPN",
        "outputId": "71fed240-2961-4dc1-acd5-eedce4e88188"
      },
      "outputs": [
        {
          "name": "stderr",
          "output_type": "stream",
          "text": [
            "Iterations: 100%|██████████| 30/30 [11:45<00:00, 23.51s/iteration]\n"
          ]
        }
      ],
      "source": [
        "num_iterations = 30\n",
        "da_results, da_features, da_dims, da_scores = run_da_optimization(num_iterations, X_train, y_train, X_test, y_test)"
      ],
      "id": "qFYNhNYs3oPN"
    },
    {
      "cell_type": "code",
      "execution_count": null,
      "metadata": {
        "colab": {
          "base_uri": "https://localhost:8080/"
        },
        "id": "m3UoSdpm5IQY",
        "outputId": "d35dd5f7-2817-4d7e-d2be-d84d37b193dc"
      },
      "outputs": [
        {
          "data": {
            "text/plain": [
              "[['Diabetes_012',\n",
              "  'HighBP',\n",
              "  'BMI',\n",
              "  'Smoke',\n",
              "  'HeartDiseaseorAttack',\n",
              "  'Veggies',\n",
              "  'AnyHealthcare',\n",
              "  'PhysHlth',\n",
              "  'DiffWalk',\n",
              "  'Sex',\n",
              "  'Education'],\n",
              " ['Diabetes_012',\n",
              "  'HighChol',\n",
              "  'BMI',\n",
              "  'Fruits',\n",
              "  'Veggies',\n",
              "  'AnyHealthcare',\n",
              "  'PhysHlth',\n",
              "  'DiffWalk',\n",
              "  'Sex',\n",
              "  'Age'],\n",
              " ['Diabetes_012',\n",
              "  'HighBP',\n",
              "  'HighChol',\n",
              "  'BMI',\n",
              "  'Smoke',\n",
              "  'PhysicalActivity',\n",
              "  'Fruits',\n",
              "  'Veggies',\n",
              "  'AlcoholConsump',\n",
              "  'AnyHealthcare',\n",
              "  'PhysHlth',\n",
              "  'DiffWalk',\n",
              "  'Sex',\n",
              "  'Age',\n",
              "  'Education'],\n",
              " ['Diabetes_012',\n",
              "  'BMI',\n",
              "  'Smoke',\n",
              "  'PhysicalActivity',\n",
              "  'Veggies',\n",
              "  'AnyHealthcare',\n",
              "  'PhysHlth',\n",
              "  'Sex',\n",
              "  'Education'],\n",
              " ['Diabetes_012',\n",
              "  'HighChol',\n",
              "  'CholCheck',\n",
              "  'BMI',\n",
              "  'Smoke',\n",
              "  'HeartDiseaseorAttack',\n",
              "  'PhysicalActivity',\n",
              "  'Veggies',\n",
              "  'GenHlth',\n",
              "  'PhysHlth',\n",
              "  'DiffWalk',\n",
              "  'Sex',\n",
              "  'Education'],\n",
              " ['Diabetes_012',\n",
              "  'HighChol',\n",
              "  'BMI',\n",
              "  'Veggies',\n",
              "  'AlcoholConsump',\n",
              "  'AnyHealthcare',\n",
              "  'PhysHlth',\n",
              "  'DiffWalk',\n",
              "  'Sex',\n",
              "  'Age'],\n",
              " ['Diabetes_012',\n",
              "  'BMI',\n",
              "  'Smoke',\n",
              "  'HeartDiseaseorAttack',\n",
              "  'PhysicalActivity',\n",
              "  'Veggies',\n",
              "  'PhysHlth',\n",
              "  'Sex',\n",
              "  'Education'],\n",
              " ['Diabetes_012',\n",
              "  'HighChol',\n",
              "  'BMI',\n",
              "  'HeartDiseaseorAttack',\n",
              "  'PhysicalActivity',\n",
              "  'Veggies',\n",
              "  'PhysHlth',\n",
              "  'DiffWalk',\n",
              "  'Sex',\n",
              "  'Age',\n",
              "  'Education'],\n",
              " ['Diabetes_012',\n",
              "  'HighBP',\n",
              "  'CholCheck',\n",
              "  'BMI',\n",
              "  'Smoke',\n",
              "  'HeartDiseaseorAttack',\n",
              "  'Veggies',\n",
              "  'AnyHealthcare',\n",
              "  'NoDocbcCost',\n",
              "  'PhysHlth',\n",
              "  'DiffWalk',\n",
              "  'Sex',\n",
              "  'Education'],\n",
              " ['Diabetes_012',\n",
              "  'BMI',\n",
              "  'PhysicalActivity',\n",
              "  'Fruits',\n",
              "  'Veggies',\n",
              "  'AlcoholConsump',\n",
              "  'NoDocbcCost',\n",
              "  'PhysHlth',\n",
              "  'DiffWalk',\n",
              "  'Age',\n",
              "  'Education'],\n",
              " ['Diabetes_012',\n",
              "  'BMI',\n",
              "  'PhysicalActivity',\n",
              "  'Fruits',\n",
              "  'AnyHealthcare',\n",
              "  'NoDocbcCost',\n",
              "  'PhysHlth',\n",
              "  'DiffWalk',\n",
              "  'Sex',\n",
              "  'Age',\n",
              "  'Education'],\n",
              " ['Diabetes_012',\n",
              "  'HighBP',\n",
              "  'HighChol',\n",
              "  'BMI',\n",
              "  'HeartDiseaseorAttack',\n",
              "  'PhysicalActivity',\n",
              "  'Fruits',\n",
              "  'Veggies',\n",
              "  'AlcoholConsump',\n",
              "  'AnyHealthcare',\n",
              "  'Sex',\n",
              "  'Age'],\n",
              " ['Diabetes_012',\n",
              "  'HighChol',\n",
              "  'BMI',\n",
              "  'PhysicalActivity',\n",
              "  'AlcoholConsump',\n",
              "  'AnyHealthcare',\n",
              "  'PhysHlth',\n",
              "  'DiffWalk',\n",
              "  'Sex',\n",
              "  'Age',\n",
              "  'Education'],\n",
              " ['Diabetes_012',\n",
              "  'HighBP',\n",
              "  'BMI',\n",
              "  'Smoke',\n",
              "  'PhysicalActivity',\n",
              "  'Fruits',\n",
              "  'Veggies',\n",
              "  'AnyHealthcare',\n",
              "  'GenHlth',\n",
              "  'PhysHlth',\n",
              "  'DiffWalk',\n",
              "  'Sex',\n",
              "  'Education'],\n",
              " ['Diabetes_012',\n",
              "  'HighBP',\n",
              "  'HighChol',\n",
              "  'CholCheck',\n",
              "  'BMI',\n",
              "  'Smoke',\n",
              "  'HeartDiseaseorAttack',\n",
              "  'PhysicalActivity',\n",
              "  'Fruits',\n",
              "  'Veggies',\n",
              "  'AlcoholConsump',\n",
              "  'AnyHealthcare',\n",
              "  'MentHlth',\n",
              "  'PhysHlth',\n",
              "  'DiffWalk',\n",
              "  'Education'],\n",
              " ['Diabetes_012',\n",
              "  'HighChol',\n",
              "  'BMI',\n",
              "  'PhysicalActivity',\n",
              "  'Veggies',\n",
              "  'AnyHealthcare',\n",
              "  'NoDocbcCost',\n",
              "  'PhysHlth',\n",
              "  'Sex',\n",
              "  'Age',\n",
              "  'Education'],\n",
              " ['Diabetes_012',\n",
              "  'HighChol',\n",
              "  'BMI',\n",
              "  'Fruits',\n",
              "  'Veggies',\n",
              "  'AlcoholConsump',\n",
              "  'PhysHlth',\n",
              "  'DiffWalk',\n",
              "  'Sex',\n",
              "  'Age'],\n",
              " ['Diabetes_012',\n",
              "  'HighChol',\n",
              "  'BMI',\n",
              "  'Smoke',\n",
              "  'Veggies',\n",
              "  'AlcoholConsump',\n",
              "  'PhysHlth',\n",
              "  'DiffWalk',\n",
              "  'Sex',\n",
              "  'Age',\n",
              "  'Education'],\n",
              " ['Diabetes_012',\n",
              "  'HighBP',\n",
              "  'HighChol',\n",
              "  'BMI',\n",
              "  'PhysicalActivity',\n",
              "  'Fruits',\n",
              "  'GenHlth',\n",
              "  'PhysHlth',\n",
              "  'Sex',\n",
              "  'Education'],\n",
              " ['Diabetes_012',\n",
              "  'HighChol',\n",
              "  'BMI',\n",
              "  'Smoke',\n",
              "  'HeartDiseaseorAttack',\n",
              "  'PhysicalActivity',\n",
              "  'Veggies',\n",
              "  'AnyHealthcare',\n",
              "  'GenHlth',\n",
              "  'PhysHlth',\n",
              "  'DiffWalk',\n",
              "  'Sex',\n",
              "  'Education'],\n",
              " ['Diabetes_012',\n",
              "  'HighBP',\n",
              "  'HighChol',\n",
              "  'BMI',\n",
              "  'PhysicalActivity',\n",
              "  'Fruits',\n",
              "  'PhysHlth',\n",
              "  'Sex',\n",
              "  'Age',\n",
              "  'Education'],\n",
              " ['BMI',\n",
              "  'Smoke',\n",
              "  'HeartDiseaseorAttack',\n",
              "  'PhysicalActivity',\n",
              "  'Fruits',\n",
              "  'Veggies',\n",
              "  'AlcoholConsump',\n",
              "  'NoDocbcCost',\n",
              "  'GenHlth',\n",
              "  'PhysHlth',\n",
              "  'DiffWalk',\n",
              "  'Education'],\n",
              " ['Diabetes_012',\n",
              "  'HighChol',\n",
              "  'BMI',\n",
              "  'Smoke',\n",
              "  'HeartDiseaseorAttack',\n",
              "  'PhysicalActivity',\n",
              "  'Veggies',\n",
              "  'PhysHlth',\n",
              "  'Sex'],\n",
              " ['Diabetes_012',\n",
              "  'HighBP',\n",
              "  'HighChol',\n",
              "  'BMI',\n",
              "  'HeartDiseaseorAttack',\n",
              "  'PhysicalActivity',\n",
              "  'Veggies',\n",
              "  'PhysHlth',\n",
              "  'DiffWalk',\n",
              "  'Sex',\n",
              "  'Age',\n",
              "  'Education'],\n",
              " ['Diabetes_012',\n",
              "  'HighBP',\n",
              "  'CholCheck',\n",
              "  'BMI',\n",
              "  'HeartDiseaseorAttack',\n",
              "  'PhysicalActivity',\n",
              "  'Veggies',\n",
              "  'AlcoholConsump',\n",
              "  'AnyHealthcare',\n",
              "  'PhysHlth',\n",
              "  'Age',\n",
              "  'Education'],\n",
              " ['Diabetes_012',\n",
              "  'HighChol',\n",
              "  'BMI',\n",
              "  'Smoke',\n",
              "  'HeartDiseaseorAttack',\n",
              "  'PhysicalActivity',\n",
              "  'Veggies',\n",
              "  'AlcoholConsump',\n",
              "  'NoDocbcCost',\n",
              "  'GenHlth',\n",
              "  'PhysHlth',\n",
              "  'DiffWalk',\n",
              "  'Education'],\n",
              " ['Diabetes_012',\n",
              "  'HighChol',\n",
              "  'BMI',\n",
              "  'Smoke',\n",
              "  'PhysicalActivity',\n",
              "  'Veggies',\n",
              "  'AlcoholConsump',\n",
              "  'AnyHealthcare',\n",
              "  'GenHlth',\n",
              "  'PhysHlth',\n",
              "  'DiffWalk',\n",
              "  'Education'],\n",
              " ['Diabetes_012',\n",
              "  'HighBP',\n",
              "  'HighChol',\n",
              "  'BMI',\n",
              "  'Smoke',\n",
              "  'Veggies',\n",
              "  'AlcoholConsump',\n",
              "  'NoDocbcCost',\n",
              "  'PhysHlth',\n",
              "  'DiffWalk',\n",
              "  'Sex',\n",
              "  'Education'],\n",
              " ['Diabetes_012',\n",
              "  'HighBP',\n",
              "  'CholCheck',\n",
              "  'BMI',\n",
              "  'Smoke',\n",
              "  'PhysicalActivity',\n",
              "  'Fruits',\n",
              "  'Veggies',\n",
              "  'NoDocbcCost',\n",
              "  'GenHlth',\n",
              "  'PhysHlth',\n",
              "  'Sex',\n",
              "  'Education'],\n",
              " ['Diabetes_012',\n",
              "  'BMI',\n",
              "  'Smoke',\n",
              "  'PhysicalActivity',\n",
              "  'Veggies',\n",
              "  'AlcoholConsump',\n",
              "  'NoDocbcCost',\n",
              "  'PhysHlth',\n",
              "  'DiffWalk',\n",
              "  'Sex',\n",
              "  'Education']]"
            ]
          },
          "execution_count": 37,
          "metadata": {},
          "output_type": "execute_result"
        }
      ],
      "source": [
        "da_features"
      ],
      "id": "m3UoSdpm5IQY"
    },
    {
      "cell_type": "code",
      "execution_count": null,
      "metadata": {
        "id": "PMJHpdjq8uAJ"
      },
      "outputs": [],
      "source": [
        "Stroke_data =pd.DataFrame(X[ ['Diabetes_012',\n",
        "  'BMI',\n",
        "  'Smoke',\n",
        "  'PhysicalActivity',\n",
        "  'Veggies',\n",
        "  'AlcoholConsump',\n",
        "  'NoDocbcCost',\n",
        "  'PhysHlth',\n",
        "  'DiffWalk',\n",
        "  'Sex',\n",
        "  'Education']])\n",
        "Stroke_data['stroke']=y"
      ],
      "id": "PMJHpdjq8uAJ"
    },
    {
      "cell_type": "code",
      "execution_count": null,
      "metadata": {
        "id": "xaTMztWK89yw"
      },
      "outputs": [],
      "source": [
        "predictor_combined = TabularPredictor(\n",
        "    label=\"stroke\",\n",
        "\n",
        ").fit(\n",
        "    train_data=Stroke_data,\n",
        "\n",
        ")\n",
        "da_dataset7=predictor_combined.leaderboard()"
      ],
      "id": "xaTMztWK89yw"
    },
    {
      "cell_type": "code",
      "execution_count": null,
      "metadata": {
        "id": "ToYz_x-79DHl"
      },
      "outputs": [],
      "source": [],
      "id": "ToYz_x-79DHl"
    },
    {
      "cell_type": "markdown",
      "metadata": {
        "id": "Xn-zyQ4cNIeW"
      },
      "source": [
        "## Dataset 8"
      ],
      "id": "Xn-zyQ4cNIeW"
    },
    {
      "cell_type": "code",
      "execution_count": null,
      "metadata": {
        "id": "iXyw9ZJINL5L"
      },
      "outputs": [],
      "source": [
        "stroke8 = pd.read_csv('stroke/stroke15.csv')"
      ],
      "id": "iXyw9ZJINL5L"
    },
    {
      "cell_type": "markdown",
      "source": [
        "http://jurnal.unprimdn.ac.id/index.php/JUSIKOM/article/view/4083/2562"
      ],
      "metadata": {
        "id": "_O84a1rjbgod"
      },
      "id": "_O84a1rjbgod"
    },
    {
      "cell_type": "code",
      "execution_count": null,
      "metadata": {
        "id": "gwkM60EfNUbk"
      },
      "outputs": [],
      "source": [
        "stroke8=preprocess_dataset(stroke8)\n",
        "X = stroke8.drop(['stroke'],axis=1)\n",
        "y = stroke8['stroke']\n",
        "\n",
        "from imblearn.over_sampling import SMOTE\n",
        "# Assuming X and y are your feature matrix and target variable, respectively\n",
        "smote = SMOTE()\n",
        "X, y = smote.fit_resample(X, y)\n",
        "X_train, X_test, y_train, y_test = train_test_split(X, y, test_size=0.2,random_state=42)"
      ],
      "id": "gwkM60EfNUbk"
    },
    {
      "cell_type": "code",
      "execution_count": null,
      "metadata": {
        "colab": {
          "base_uri": "https://localhost:8080/"
        },
        "id": "r6bOcLWNP37k",
        "outputId": "4f7eccee-0be2-4ef2-8395-d34a45ffaa05"
      },
      "outputs": [
        {
          "data": {
            "text/plain": [
              "(9466, 10)"
            ]
          },
          "execution_count": 21,
          "metadata": {},
          "output_type": "execute_result"
        }
      ],
      "source": [
        "X.shape"
      ],
      "id": "r6bOcLWNP37k"
    },
    {
      "cell_type": "code",
      "execution_count": null,
      "metadata": {
        "colab": {
          "base_uri": "https://localhost:8080/"
        },
        "id": "QjnC14GPP5p-",
        "outputId": "5b1a6299-56da-4595-91fe-f1c875b7f81e"
      },
      "outputs": [
        {
          "name": "stderr",
          "output_type": "stream",
          "text": [
            "Iterations:  17%|█▋        | 5/30 [03:30<15:42, 37.72s/iteration]WARNING:root:1 individuals went zero\n",
            "Iterations:  27%|██▋       | 8/30 [05:25<13:47, 37.61s/iteration]WARNING:root:1 individuals went zero\n",
            "Iterations:  30%|███       | 9/30 [06:04<13:16, 37.94s/iteration]WARNING:root:1 individuals went zero\n",
            "Iterations:  33%|███▎      | 10/30 [06:42<12:43, 38.15s/iteration]WARNING:root:1 individuals went zero\n",
            "WARNING:root:1 individuals went zero\n",
            "WARNING:root:1 individuals went zero\n",
            "WARNING:root:1 individuals went zero\n",
            "Iterations:  37%|███▋      | 11/30 [07:28<12:50, 40.55s/iteration]WARNING:root:1 individuals went zero\n",
            "WARNING:root:1 individuals went zero\n",
            "Iterations:  50%|█████     | 15/30 [09:47<09:03, 36.24s/iteration]WARNING:root:1 individuals went zero\n",
            "WARNING:root:1 individuals went zero\n",
            "WARNING:root:1 individuals went zero\n",
            "Iterations:  53%|█████▎    | 16/30 [10:29<08:51, 37.95s/iteration]WARNING:root:1 individuals went zero\n",
            "WARNING:root:1 individuals went zero\n",
            "Iterations:  57%|█████▋    | 17/30 [11:07<08:14, 38.06s/iteration]WARNING:root:1 individuals went zero\n",
            "Iterations:  67%|██████▋   | 20/30 [12:54<06:00, 36.07s/iteration]WARNING:root:1 individuals went zero\n",
            "WARNING:root:1 individuals went zero\n",
            "Iterations:  73%|███████▎  | 22/30 [14:10<04:56, 37.10s/iteration]WARNING:root:1 individuals went zero\n",
            "WARNING:root:1 individuals went zero\n",
            "Iterations:  77%|███████▋  | 23/30 [14:49<04:24, 37.85s/iteration]WARNING:root:1 individuals went zero\n",
            "WARNING:root:1 individuals went zero\n",
            "WARNING:root:1 individuals went zero\n",
            "WARNING:root:1 individuals went zero\n",
            "WARNING:root:1 individuals went zero\n",
            "WARNING:root:1 individuals went zero\n",
            "Iterations:  80%|████████  | 24/30 [15:46<04:21, 43.54s/iteration]WARNING:root:1 individuals went zero\n",
            "Iterations: 100%|██████████| 30/30 [20:21<00:00, 40.71s/iteration]\n"
          ]
        }
      ],
      "source": [
        "num_iterations = 30\n",
        "results, features, dims, scores = run_cgwoda_optimization(num_iterations, X_train, y_train, X_test, y_test)"
      ],
      "id": "QjnC14GPP5p-"
    },
    {
      "cell_type": "code",
      "execution_count": null,
      "metadata": {
        "colab": {
          "base_uri": "https://localhost:8080/"
        },
        "id": "lsYoSLzbTjwe",
        "outputId": "5c615b1b-1a64-49f6-9fe2-8c4e1b39a4b5"
      },
      "outputs": [
        {
          "data": {
            "text/plain": [
              "[['hypertension', 'heart_disease', 'ever_married', 'Residence_type'],\n",
              " ['age', 'ever_married', 'Residence_type', 'avg_glucose_level', 'bmi'],\n",
              " ['heart_disease'],\n",
              " ['age', 'ever_married', 'Residence_type', 'avg_glucose_level', 'bmi'],\n",
              " ['gender',\n",
              "  'age',\n",
              "  'ever_married',\n",
              "  'Residence_type',\n",
              "  'avg_glucose_level',\n",
              "  'bmi'],\n",
              " ['hypertension', 'heart_disease', 'Residence_type'],\n",
              " ['age', 'ever_married', 'Residence_type', 'avg_glucose_level', 'bmi'],\n",
              " ['gender'],\n",
              " ['hypertension', 'ever_married', 'smoking_status'],\n",
              " ['age', 'work_type'],\n",
              " ['age'],\n",
              " ['hypertension',\n",
              "  'heart_disease',\n",
              "  'ever_married',\n",
              "  'work_type',\n",
              "  'Residence_type'],\n",
              " ['hypertension', 'Residence_type'],\n",
              " ['age'],\n",
              " ['gender', 'hypertension', 'work_type'],\n",
              " ['age', 'work_type'],\n",
              " ['age'],\n",
              " ['Residence_type', 'smoking_status'],\n",
              " ['age', 'hypertension', 'ever_married'],\n",
              " ['Residence_type', 'smoking_status'],\n",
              " ['Residence_type', 'smoking_status'],\n",
              " ['age', 'work_type'],\n",
              " ['age'],\n",
              " ['gender', 'work_type'],\n",
              " ['age',\n",
              "  'hypertension',\n",
              "  'ever_married',\n",
              "  'Residence_type',\n",
              "  'avg_glucose_level',\n",
              "  'bmi'],\n",
              " ['hypertension', 'ever_married', 'smoking_status'],\n",
              " ['age', 'hypertension', 'heart_disease'],\n",
              " ['gender', 'work_type'],\n",
              " ['age', 'heart_disease'],\n",
              " ['gender', 'hypertension']]"
            ]
          },
          "execution_count": 25,
          "metadata": {},
          "output_type": "execute_result"
        }
      ],
      "source": [
        "features"
      ],
      "id": "lsYoSLzbTjwe"
    },
    {
      "cell_type": "code",
      "execution_count": null,
      "metadata": {
        "id": "rh_e_ZYHTlZF"
      },
      "outputs": [],
      "source": [
        "Stroke_data =pd.DataFrame(X[['age',\n",
        "  'hypertension',\n",
        "  'ever_married',\n",
        "  'Residence_type',\n",
        "  'avg_glucose_level',\n",
        "  'bmi']])\n",
        "Stroke_data['stroke']=y"
      ],
      "id": "rh_e_ZYHTlZF"
    },
    {
      "cell_type": "code",
      "execution_count": null,
      "metadata": {
        "id": "Hdn5bx0Tcj2-"
      },
      "outputs": [],
      "source": [
        "predictor_combined = TabularPredictor(\n",
        "    label=\"stroke\",\n",
        "\n",
        ").fit(\n",
        "    train_data=Stroke_data,\n",
        "\n",
        ")\n",
        "cgwoda_dataset8=predictor_combined.leaderboard()"
      ],
      "id": "Hdn5bx0Tcj2-"
    },
    {
      "cell_type": "code",
      "execution_count": null,
      "metadata": {
        "id": "652bab39-f933-4b49-9ac3-b68700884045",
        "outputId": "8c18e824-5ad4-4c87-fad2-bb623769ec32"
      },
      "outputs": [
        {
          "name": "stderr",
          "output_type": "stream",
          "text": [
            "Iterations:   0%|          | 0/30 [00:00<?, ?iteration/s]WARNING:root:1 individuals went zero\n",
            "Iterations:   3%|▎         | 1/30 [01:02<30:01, 62.13s/iteration]WARNING:root:1 individuals went zero\n",
            "WARNING:root:1 individuals went zero\n",
            "Iterations:   7%|▋         | 2/30 [02:10<30:50, 66.09s/iteration]WARNING:root:1 individuals went zero\n",
            "WARNING:root:1 individuals went zero\n",
            "Iterations:  10%|█         | 3/30 [03:15<29:28, 65.51s/iteration]WARNING:root:1 individuals went zero\n",
            "WARNING:root:1 individuals went zero\n",
            "WARNING:root:1 individuals went zero\n",
            "WARNING:root:1 individuals went zero\n",
            "Iterations:  13%|█▎        | 4/30 [04:19<28:04, 64.80s/iteration]WARNING:root:1 individuals went zero\n",
            "WARNING:root:1 individuals went zero\n",
            "WARNING:root:1 individuals went zero\n",
            "WARNING:root:1 individuals went zero\n",
            "Iterations:  17%|█▋        | 5/30 [05:23<26:50, 64.42s/iteration]WARNING:root:1 individuals went zero\n",
            "WARNING:root:1 individuals went zero\n",
            "WARNING:root:1 individuals went zero\n",
            "WARNING:root:1 individuals went zero\n",
            "WARNING:root:1 individuals went zero\n",
            "WARNING:root:1 individuals went zero\n",
            "Iterations:  20%|██        | 6/30 [06:27<25:41, 64.25s/iteration]WARNING:root:1 individuals went zero\n",
            "WARNING:root:1 individuals went zero\n",
            "WARNING:root:1 individuals went zero\n",
            "WARNING:root:1 individuals went zero\n",
            "Iterations:  23%|██▎       | 7/30 [07:32<24:45, 64.60s/iteration]WARNING:root:1 individuals went zero\n",
            "Iterations:  27%|██▋       | 8/30 [08:35<23:32, 64.19s/iteration]WARNING:root:1 individuals went zero\n",
            "WARNING:root:1 individuals went zero\n",
            "WARNING:root:1 individuals went zero\n",
            "WARNING:root:1 individuals went zero\n",
            "Iterations:  30%|███       | 9/30 [09:39<22:21, 63.90s/iteration]WARNING:root:1 individuals went zero\n",
            "WARNING:root:1 individuals went zero\n",
            "Iterations:  33%|███▎      | 10/30 [10:41<21:07, 63.38s/iteration]WARNING:root:1 individuals went zero\n",
            "WARNING:root:1 individuals went zero\n",
            "WARNING:root:1 individuals went zero\n",
            "WARNING:root:1 individuals went zero\n",
            "WARNING:root:1 individuals went zero\n",
            "WARNING:root:1 individuals went zero\n",
            "Iterations:  37%|███▋      | 11/30 [11:49<20:32, 64.87s/iteration]WARNING:root:2 individuals went zero\n",
            "WARNING:root:1 individuals went zero\n",
            "WARNING:root:1 individuals went zero\n",
            "WARNING:root:1 individuals went zero\n",
            "Iterations:  40%|████      | 12/30 [12:59<19:57, 66.52s/iteration]WARNING:root:1 individuals went zero\n",
            "Iterations:  43%|████▎     | 13/30 [14:06<18:53, 66.69s/iteration]WARNING:root:1 individuals went zero\n",
            "Iterations:  47%|████▋     | 14/30 [15:11<17:38, 66.17s/iteration]WARNING:root:1 individuals went zero\n",
            "Iterations:  50%|█████     | 15/30 [16:17<16:30, 66.02s/iteration]WARNING:root:1 individuals went zero\n",
            "WARNING:root:1 individuals went zero\n",
            "WARNING:root:1 individuals went zero\n",
            "Iterations:  53%|█████▎    | 16/30 [17:26<15:34, 66.75s/iteration]WARNING:root:1 individuals went zero\n",
            "WARNING:root:1 individuals went zero\n",
            "Iterations:  57%|█████▋    | 17/30 [18:30<14:19, 66.14s/iteration]WARNING:root:1 individuals went zero\n",
            "WARNING:root:1 individuals went zero\n",
            "WARNING:root:1 individuals went zero\n",
            "WARNING:root:1 individuals went zero\n",
            "WARNING:root:1 individuals went zero\n",
            "WARNING:root:1 individuals went zero\n",
            "WARNING:root:1 individuals went zero\n",
            "Iterations:  60%|██████    | 18/30 [19:36<13:10, 65.88s/iteration]WARNING:root:1 individuals went zero\n",
            "WARNING:root:1 individuals went zero\n",
            "WARNING:root:1 individuals went zero\n",
            "WARNING:root:1 individuals went zero\n",
            "WARNING:root:1 individuals went zero\n",
            "Iterations:  63%|██████▎   | 19/30 [20:49<12:29, 68.18s/iteration]WARNING:root:1 individuals went zero\n",
            "Iterations:  67%|██████▋   | 20/30 [21:54<11:13, 67.35s/iteration]WARNING:root:1 individuals went zero\n",
            "WARNING:root:1 individuals went zero\n",
            "WARNING:root:1 individuals went zero\n",
            "Iterations:  70%|███████   | 21/30 [23:00<10:00, 66.68s/iteration]WARNING:root:1 individuals went zero\n",
            "WARNING:root:1 individuals went zero\n",
            "Iterations:  73%|███████▎  | 22/30 [24:10<09:03, 67.93s/iteration]WARNING:root:1 individuals went zero\n",
            "WARNING:root:1 individuals went zero\n",
            "WARNING:root:1 individuals went zero\n",
            "Iterations:  77%|███████▋  | 23/30 [25:16<07:51, 67.29s/iteration]WARNING:root:1 individuals went zero\n",
            "Iterations:  80%|████████  | 24/30 [26:14<06:25, 64.29s/iteration]WARNING:root:1 individuals went zero\n",
            "WARNING:root:1 individuals went zero\n",
            "WARNING:root:1 individuals went zero\n",
            "Iterations:  83%|████████▎ | 25/30 [27:15<05:16, 63.40s/iteration]WARNING:root:1 individuals went zero\n",
            "WARNING:root:1 individuals went zero\n",
            "WARNING:root:1 individuals went zero\n",
            "WARNING:root:1 individuals went zero\n",
            "WARNING:root:1 individuals went zero\n",
            "WARNING:root:1 individuals went zero\n",
            "Iterations:  87%|████████▋ | 26/30 [28:17<04:12, 63.08s/iteration]WARNING:root:1 individuals went zero\n",
            "WARNING:root:1 individuals went zero\n",
            "WARNING:root:1 individuals went zero\n",
            "WARNING:root:1 individuals went zero\n",
            "WARNING:root:1 individuals went zero\n",
            "WARNING:root:1 individuals went zero\n",
            "WARNING:root:1 individuals went zero\n",
            "Iterations:  90%|█████████ | 27/30 [29:22<03:10, 63.60s/iteration]WARNING:root:1 individuals went zero\n",
            "WARNING:root:1 individuals went zero\n",
            "WARNING:root:1 individuals went zero\n",
            "WARNING:root:1 individuals went zero\n",
            "WARNING:root:1 individuals went zero\n",
            "Iterations:  93%|█████████▎| 28/30 [30:27<02:08, 64.03s/iteration]WARNING:root:1 individuals went zero\n",
            "WARNING:root:1 individuals went zero\n",
            "Iterations:  97%|█████████▋| 29/30 [31:33<01:04, 64.59s/iteration]WARNING:root:1 individuals went zero\n",
            "WARNING:root:1 individuals went zero\n",
            "WARNING:root:1 individuals went zero\n",
            "WARNING:root:1 individuals went zero\n",
            "WARNING:root:1 individuals went zero\n",
            "Iterations: 100%|██████████| 30/30 [32:33<00:00, 65.11s/iteration]\n"
          ]
        }
      ],
      "source": [
        "num_iterations = 30\n",
        "da_results, da_features, da_dims, da_scores = run_da_optimization(num_iterations, X_train, y_train, X_test, y_test)"
      ],
      "id": "652bab39-f933-4b49-9ac3-b68700884045"
    },
    {
      "cell_type": "code",
      "execution_count": null,
      "metadata": {
        "id": "412fe386-7453-4cc7-86d8-368dfdb446c4",
        "outputId": "6e4e86d9-aae1-439b-f0fc-b56ef5eb3e09"
      },
      "outputs": [
        {
          "data": {
            "text/plain": [
              "[['age'],\n",
              " ['age'],\n",
              " ['age'],\n",
              " ['age'],\n",
              " ['age'],\n",
              " ['age'],\n",
              " ['age'],\n",
              " ['age'],\n",
              " ['age'],\n",
              " ['age'],\n",
              " ['age'],\n",
              " ['age'],\n",
              " ['age'],\n",
              " ['age'],\n",
              " ['age'],\n",
              " ['age'],\n",
              " ['age'],\n",
              " ['age'],\n",
              " ['age'],\n",
              " ['age', 'heart_disease'],\n",
              " ['age'],\n",
              " ['age'],\n",
              " ['age'],\n",
              " ['age'],\n",
              " ['age'],\n",
              " ['age'],\n",
              " ['age'],\n",
              " ['age'],\n",
              " ['age'],\n",
              " ['age']]"
            ]
          },
          "execution_count": 28,
          "metadata": {},
          "output_type": "execute_result"
        }
      ],
      "source": [
        "da_features"
      ],
      "id": "412fe386-7453-4cc7-86d8-368dfdb446c4"
    },
    {
      "cell_type": "code",
      "execution_count": null,
      "metadata": {
        "id": "d25f3d21-a140-4bd7-af3e-0d9a1018867f"
      },
      "outputs": [],
      "source": [
        "Stroke_data =pd.DataFrame(X[['age','heart_disease']])\n",
        "Stroke_data['stroke']=y"
      ],
      "id": "d25f3d21-a140-4bd7-af3e-0d9a1018867f"
    },
    {
      "cell_type": "code",
      "execution_count": null,
      "metadata": {
        "id": "c8b93ef8-f4f0-40b5-8840-8714b32a3416"
      },
      "outputs": [],
      "source": [
        "predictor_combined = TabularPredictor(\n",
        "    label=\"stroke\",\n",
        "\n",
        ").fit(\n",
        "    train_data=Stroke_data,\n",
        "\n",
        ")\n",
        "da_dataset8=predictor_combined.leaderboard()"
      ],
      "id": "c8b93ef8-f4f0-40b5-8840-8714b32a3416"
    },
    {
      "cell_type": "markdown",
      "metadata": {
        "id": "4e377f46-2f40-43be-ab01-26dc988bf3b3"
      },
      "source": [
        "## GreyWolf"
      ],
      "id": "4e377f46-2f40-43be-ab01-26dc988bf3b3"
    },
    {
      "cell_type": "code",
      "execution_count": null,
      "metadata": {
        "id": "ab83302b-d637-4718-a5f7-c34a1e59d23e"
      },
      "outputs": [],
      "source": [
        "def run_gwo_optimization(num_iterations, X_train, y_train, X_test, y_test):\n",
        "    results_per_iteration = []\n",
        "    best_feature_lists = []\n",
        "    best_dims = []\n",
        "    best_scores = []\n",
        "\n",
        "    for _ in tqdm(range(num_iterations), desc=\"Iterations\", unit=\"iteration\"):\n",
        "        grey_object = GreyWolfOptimization(\n",
        "            objective_function=objective_function_topass,\n",
        "            n_iteration=100,\n",
        "            population_size=11,\n",
        "            logger=None,\n",
        "            method=2\n",
        "        )\n",
        "\n",
        "        knn_classifier = KNeighborsClassifier()\n",
        "\n",
        "        grey_object.fit(knn_classifier, X_train, y_train, X_test, y_test, verbose=False)\n",
        "\n",
        "\n",
        "        iteration_results = {\n",
        "            \"results_per_iteration\": grey_object.best_results_per_iteration,\n",
        "            \"best_dim_list\": grey_object.best_dim.tolist(),\n",
        "            \"best_feature_list\": grey_object.best_feature_list,\n",
        "            \"best_score\": grey_object.best_score\n",
        "        }\n",
        "\n",
        "        best_feature_list = grey_object.best_feature_list\n",
        "        best_dim = grey_object.best_dim\n",
        "        best_score = grey_object.best_score\n",
        "\n",
        "        results_per_iteration.append(iteration_results)\n",
        "        best_feature_lists.append(best_feature_list)\n",
        "        best_dims.append(best_dim.tolist())\n",
        "        best_scores.append(best_score)\n",
        "\n",
        "    return results_per_iteration, best_feature_lists, best_dims, best_scores"
      ],
      "id": "ab83302b-d637-4718-a5f7-c34a1e59d23e"
    },
    {
      "cell_type": "code",
      "execution_count": null,
      "metadata": {
        "id": "1967ee3c-c76a-4b9b-8fdb-765a7420db09",
        "outputId": "662b55f2-fc6f-46aa-ec6e-2b23a1843476"
      },
      "outputs": [
        {
          "name": "stderr",
          "output_type": "stream",
          "text": [
            "Iterations: 100%|██████████| 20/20 [20:20<00:00, 61.00s/iteration]\n"
          ]
        }
      ],
      "source": [
        "num_iterations = 20\n",
        "results, features, dims, scores = run_gwo_optimization(num_iterations, X_train, y_train, X_test, y_test)"
      ],
      "id": "1967ee3c-c76a-4b9b-8fdb-765a7420db09"
    },
    {
      "cell_type": "code",
      "execution_count": null,
      "metadata": {
        "id": "4db05957-22b4-4f94-852f-86107fa54f10",
        "outputId": "ea304e62-13ac-4d54-d16f-4bd35eb54970"
      },
      "outputs": [
        {
          "data": {
            "text/plain": [
              "[['age', 'ever_married', 'work_type'],\n",
              " ['age', 'heart_disease', 'ever_married'],\n",
              " ['age', 'Residence_type', 'avg_glucose_level', 'bmi', 'smoking_status'],\n",
              " ['gender', 'age'],\n",
              " ['age', 'heart_disease', 'ever_married', 'work_type'],\n",
              " ['age', 'ever_married'],\n",
              " ['age', 'hypertension', 'heart_disease', 'ever_married'],\n",
              " ['age', 'heart_disease'],\n",
              " ['age', 'heart_disease', 'ever_married'],\n",
              " ['age', 'Residence_type', 'avg_glucose_level', 'bmi', 'smoking_status'],\n",
              " ['age', 'hypertension', 'heart_disease', 'ever_married'],\n",
              " ['age', 'heart_disease', 'ever_married'],\n",
              " ['age', 'heart_disease', 'ever_married'],\n",
              " ['age', 'hypertension', 'heart_disease'],\n",
              " ['age', 'heart_disease', 'ever_married'],\n",
              " ['age', 'heart_disease', 'ever_married', 'work_type'],\n",
              " ['age', 'heart_disease', 'ever_married'],\n",
              " ['age', 'heart_disease', 'ever_married'],\n",
              " ['age', 'heart_disease', 'ever_married'],\n",
              " ['gender', 'age']]"
            ]
          },
          "execution_count": 59,
          "metadata": {},
          "output_type": "execute_result"
        }
      ],
      "source": [
        "features"
      ],
      "id": "4db05957-22b4-4f94-852f-86107fa54f10"
    },
    {
      "cell_type": "code",
      "execution_count": null,
      "metadata": {
        "id": "dd845845-5cb6-47e5-b153-ba058caf1169",
        "outputId": "af738df1-88c1-4fe5-c2f2-5af5c073af13"
      },
      "outputs": [
        {
          "name": "stderr",
          "output_type": "stream",
          "text": [
            "Iterations: 100%|██████████| 10/10 [10:09<00:00, 60.97s/iteration]\n"
          ]
        }
      ],
      "source": [
        "num_iterations = 10\n",
        "results, features, dims, scores = run_gwo_optimization(num_iterations, X_train, y_train, X_test, y_test)"
      ],
      "id": "dd845845-5cb6-47e5-b153-ba058caf1169"
    },
    {
      "cell_type": "code",
      "execution_count": null,
      "metadata": {
        "id": "a8c93705-732e-4a1f-814a-b8aab05c4690",
        "outputId": "3bd501d6-34a5-4c71-b39d-48be440c1ecc"
      },
      "outputs": [
        {
          "data": {
            "text/plain": [
              "[['age', 'hypertension'],\n",
              " ['age', 'work_type'],\n",
              " ['age', 'Residence_type', 'avg_glucose_level', 'bmi', 'smoking_status'],\n",
              " ['age', 'heart_disease', 'ever_married'],\n",
              " ['age', 'work_type'],\n",
              " ['age', 'hypertension', 'heart_disease', 'ever_married'],\n",
              " ['age', 'heart_disease', 'ever_married'],\n",
              " ['gender', 'age'],\n",
              " ['age', 'work_type'],\n",
              " ['age', 'hypertension', 'heart_disease', 'ever_married']]"
            ]
          },
          "execution_count": 61,
          "metadata": {},
          "output_type": "execute_result"
        }
      ],
      "source": [
        "features"
      ],
      "id": "a8c93705-732e-4a1f-814a-b8aab05c4690"
    },
    {
      "cell_type": "code",
      "execution_count": null,
      "metadata": {
        "id": "11e35c65-d67d-437d-96c2-fc607784689f"
      },
      "outputs": [],
      "source": [
        "stroke=pd.read_csv('stroke4.csv')\n",
        "stroke=preprocess_dataset(stroke)\n",
        "X = stroke.drop(['stroke'],axis=1)\n",
        "y = stroke['stroke']\n",
        "\n",
        "from imblearn.over_sampling import SMOTE\n",
        "# Assuming X and y are your feature matrix and target variable, respectively\n",
        "smote = SMOTE()\n",
        "X, y = smote.fit_resample(X, y)\n",
        "X_train, X_test, y_train, y_test = train_test_split(X, y, test_size=0.2,random_state=42)"
      ],
      "id": "11e35c65-d67d-437d-96c2-fc607784689f"
    },
    {
      "cell_type": "code",
      "execution_count": null,
      "metadata": {
        "id": "b9c3a325-3e57-4a68-83ae-b4e8c3031f7c"
      },
      "outputs": [],
      "source": [
        "Stroke_data =pd.DataFrame(X[['age', 'Residence_type', 'avg_glucose_level', 'bmi', 'smoking_status']])\n",
        "Stroke_data['stroke']=y"
      ],
      "id": "b9c3a325-3e57-4a68-83ae-b4e8c3031f7c"
    },
    {
      "cell_type": "code",
      "execution_count": null,
      "metadata": {
        "colab": {
          "base_uri": "https://localhost:8080/"
        },
        "id": "a35c91db-f16c-43cc-9c1e-6d1e6002981c",
        "outputId": "339884d7-e748-40ee-ef9a-8f6bcc28cb0a"
      },
      "outputs": [
        {
          "name": "stderr",
          "output_type": "stream",
          "text": [
            "No path specified. Models will be saved in: \"AutogluonModels/ag-20230831_090434/\"\n",
            "Beginning AutoGluon training ...\n",
            "AutoGluon will save models to \"AutogluonModels/ag-20230831_090434/\"\n",
            "AutoGluon Version:  0.8.2\n",
            "Python Version:     3.10.12\n",
            "Operating System:   Linux\n",
            "Platform Machine:   x86_64\n",
            "Platform Version:   #1 SMP Fri Jun 9 10:57:30 UTC 2023\n",
            "Disk Space Avail:   14.02 GB / 16.11 GB (87.1%)\n",
            "Train Data Rows:    9722\n",
            "Train Data Columns: 5\n",
            "Label Column: stroke\n",
            "Preprocessing data ...\n",
            "AutoGluon infers your prediction problem is: 'binary' (because only two unique label-values observed).\n",
            "\t2 unique label values:  [1, 0]\n",
            "\tIf 'binary' is not the correct problem_type, please manually specify the problem_type parameter during predictor init (You may specify problem_type as one of: ['binary', 'multiclass', 'regression'])\n",
            "Selected class <--> label mapping:  class 1 = 1, class 0 = 0\n",
            "Using Feature Generators to preprocess the data ...\n",
            "Fitting AutoMLPipelineFeatureGenerator...\n",
            "\tAvailable Memory:                    11373.5 MB\n",
            "\tTrain Data (Original)  Memory Usage: 0.39 MB (0.0% of available memory)\n",
            "\tInferring data type of each feature based on column values. Set feature_metadata_in to manually specify special dtypes of the features.\n",
            "\tStage 1 Generators:\n",
            "\t\tFitting AsTypeFeatureGenerator...\n",
            "\t\t\tNote: Converting 1 features to boolean dtype as they only contain 2 unique values.\n",
            "\tStage 2 Generators:\n",
            "\t\tFitting FillNaFeatureGenerator...\n",
            "\tStage 3 Generators:\n",
            "\t\tFitting IdentityFeatureGenerator...\n",
            "\tStage 4 Generators:\n",
            "\t\tFitting DropUniqueFeatureGenerator...\n",
            "\tStage 5 Generators:\n",
            "\t\tFitting DropDuplicatesFeatureGenerator...\n",
            "\tTypes of features in original data (raw dtype, special dtypes):\n",
            "\t\t('float', []) : 3 | ['age', 'avg_glucose_level', 'bmi']\n",
            "\t\t('int', [])   : 2 | ['Residence_type', 'smoking_status']\n",
            "\tTypes of features in processed data (raw dtype, special dtypes):\n",
            "\t\t('float', [])     : 3 | ['age', 'avg_glucose_level', 'bmi']\n",
            "\t\t('int', [])       : 1 | ['smoking_status']\n",
            "\t\t('int', ['bool']) : 1 | ['Residence_type']\n",
            "\t0.1s = Fit runtime\n",
            "\t5 features in original data used to generate 5 features in processed data.\n",
            "\tTrain Data (Processed) Memory Usage: 0.32 MB (0.0% of available memory)\n",
            "Data preprocessing and feature engineering runtime = 0.14s ...\n",
            "AutoGluon will gauge predictive performance using evaluation metric: 'accuracy'\n",
            "\tTo change this, specify the eval_metric parameter of Predictor()\n",
            "Automatically generating train/validation split with holdout_frac=0.1, Train Rows: 8749, Val Rows: 973\n",
            "User-specified model hyperparameters to be fit:\n",
            "{\n",
            "\t'NN_TORCH': {},\n",
            "\t'GBM': [{'extra_trees': True, 'ag_args': {'name_suffix': 'XT'}}, {}, 'GBMLarge'],\n",
            "\t'CAT': {},\n",
            "\t'XGB': {},\n",
            "\t'FASTAI': {},\n",
            "\t'RF': [{'criterion': 'gini', 'ag_args': {'name_suffix': 'Gini', 'problem_types': ['binary', 'multiclass']}}, {'criterion': 'entropy', 'ag_args': {'name_suffix': 'Entr', 'problem_types': ['binary', 'multiclass']}}, {'criterion': 'squared_error', 'ag_args': {'name_suffix': 'MSE', 'problem_types': ['regression', 'quantile']}}],\n",
            "\t'XT': [{'criterion': 'gini', 'ag_args': {'name_suffix': 'Gini', 'problem_types': ['binary', 'multiclass']}}, {'criterion': 'entropy', 'ag_args': {'name_suffix': 'Entr', 'problem_types': ['binary', 'multiclass']}}, {'criterion': 'squared_error', 'ag_args': {'name_suffix': 'MSE', 'problem_types': ['regression', 'quantile']}}],\n",
            "\t'KNN': [{'weights': 'uniform', 'ag_args': {'name_suffix': 'Unif'}}, {'weights': 'distance', 'ag_args': {'name_suffix': 'Dist'}}],\n",
            "}\n",
            "Fitting 13 L1 models ...\n",
            "Fitting model: KNeighborsUnif ...\n",
            "\t0.8911\t = Validation score   (accuracy)\n",
            "\t0.02s\t = Training   runtime\n",
            "\t0.02s\t = Validation runtime\n",
            "Fitting model: KNeighborsDist ...\n",
            "\t0.9013\t = Validation score   (accuracy)\n",
            "\t0.02s\t = Training   runtime\n",
            "\t0.02s\t = Validation runtime\n",
            "Fitting model: LightGBMXT ...\n"
          ]
        },
        {
          "name": "stdout",
          "output_type": "stream",
          "text": [
            "[1000]\tvalid_set's binary_error: 0.0873587\n",
            "[2000]\tvalid_set's binary_error: 0.0750257\n",
            "[3000]\tvalid_set's binary_error: 0.0709147\n"
          ]
        },
        {
          "name": "stderr",
          "output_type": "stream",
          "text": [
            "\t0.9322\t = Validation score   (accuracy)\n",
            "\t5.96s\t = Training   runtime\n",
            "\t0.41s\t = Validation runtime\n",
            "Fitting model: LightGBM ...\n",
            "\t0.963\t = Validation score   (accuracy)\n",
            "\t1.6s\t = Training   runtime\n",
            "\t0.05s\t = Validation runtime\n",
            "Fitting model: RandomForestGini ...\n",
            "\t0.9404\t = Validation score   (accuracy)\n",
            "\t5.5s\t = Training   runtime\n",
            "\t0.19s\t = Validation runtime\n",
            "Fitting model: RandomForestEntr ...\n",
            "\t0.9424\t = Validation score   (accuracy)\n",
            "\t4.1s\t = Training   runtime\n",
            "\t0.14s\t = Validation runtime\n",
            "Fitting model: CatBoost ...\n",
            "\t0.9692\t = Validation score   (accuracy)\n",
            "\t17.47s\t = Training   runtime\n",
            "\t0.01s\t = Validation runtime\n",
            "Fitting model: ExtraTreesGini ...\n",
            "\t0.9342\t = Validation score   (accuracy)\n",
            "\t2.87s\t = Training   runtime\n",
            "\t0.26s\t = Validation runtime\n",
            "Fitting model: ExtraTreesEntr ...\n",
            "\t0.9353\t = Validation score   (accuracy)\n",
            "\t2.94s\t = Training   runtime\n",
            "\t0.22s\t = Validation runtime\n",
            "Fitting model: NeuralNetFastAI ...\n",
            "\t0.8684\t = Validation score   (accuracy)\n",
            "\t16.87s\t = Training   runtime\n",
            "\t0.03s\t = Validation runtime\n",
            "Fitting model: XGBoost ...\n",
            "\t0.9455\t = Validation score   (accuracy)\n",
            "\t1.75s\t = Training   runtime\n",
            "\t0.04s\t = Validation runtime\n",
            "Fitting model: NeuralNetTorch ...\n",
            "\t0.89\t = Validation score   (accuracy)\n",
            "\t38.95s\t = Training   runtime\n",
            "\t0.02s\t = Validation runtime\n",
            "Fitting model: LightGBMLarge ...\n",
            "\t0.9599\t = Validation score   (accuracy)\n",
            "\t2.07s\t = Training   runtime\n",
            "\t0.02s\t = Validation runtime\n",
            "Fitting model: WeightedEnsemble_L2 ...\n",
            "\t0.9692\t = Validation score   (accuracy)\n",
            "\t2.12s\t = Training   runtime\n",
            "\t0.0s\t = Validation runtime\n",
            "AutoGluon training complete, total runtime = 107.41s ... Best model: \"WeightedEnsemble_L2\"\n",
            "TabularPredictor saved. To load, use: predictor = TabularPredictor.load(\"AutogluonModels/ag-20230831_090434/\")\n"
          ]
        }
      ],
      "source": [
        "predictor_combined = TabularPredictor(\n",
        "    label=\"stroke\",\n",
        "\n",
        ").fit(\n",
        "    train_data=Stroke_data,\n",
        "\n",
        ")"
      ],
      "id": "a35c91db-f16c-43cc-9c1e-6d1e6002981c"
    },
    {
      "cell_type": "code",
      "execution_count": null,
      "metadata": {
        "colab": {
          "base_uri": "https://localhost:8080/"
        },
        "id": "8942f19a-87f6-464b-93d2-0e6825bfb0e2",
        "outputId": "0399d669-4ad3-42ad-904a-235e4deb2e33"
      },
      "outputs": [
        {
          "name": "stdout",
          "output_type": "stream",
          "text": [
            "                  model  score_val  pred_time_val   fit_time  pred_time_val_marginal  fit_time_marginal  stack_level  can_infer  fit_order\n",
            "0              CatBoost   0.969168       0.008498  17.465971                0.008498          17.465971            1       True          7\n",
            "1   WeightedEnsemble_L2   0.969168       0.012943  19.581920                0.004446           2.115950            2       True         14\n",
            "2              LightGBM   0.963001       0.046357   1.598413                0.046357           1.598413            1       True          4\n",
            "3         LightGBMLarge   0.959918       0.019789   2.071293                0.019789           2.071293            1       True         13\n",
            "4               XGBoost   0.945529       0.036170   1.753348                0.036170           1.753348            1       True         11\n",
            "5      RandomForestEntr   0.942446       0.142508   4.103955                0.142508           4.103955            1       True          6\n",
            "6      RandomForestGini   0.940391       0.194931   5.503911                0.194931           5.503911            1       True          5\n",
            "7        ExtraTreesEntr   0.935252       0.224420   2.939108                0.224420           2.939108            1       True          9\n",
            "8        ExtraTreesGini   0.934224       0.259127   2.872406                0.259127           2.872406            1       True          8\n",
            "9            LightGBMXT   0.932169       0.408719   5.961259                0.408719           5.961259            1       True          3\n",
            "10       KNeighborsDist   0.901336       0.019099   0.015992                0.019099           0.015992            1       True          2\n",
            "11       KNeighborsUnif   0.891059       0.023526   0.016887                0.023526           0.016887            1       True          1\n",
            "12       NeuralNetTorch   0.890031       0.022168  38.949842                0.022168          38.949842            1       True         12\n",
            "13      NeuralNetFastAI   0.868448       0.033267  16.866183                0.033267          16.866183            1       True         10\n"
          ]
        }
      ],
      "source": [
        "greywolf_dataset1=predictor_combined.leaderboard()"
      ],
      "id": "8942f19a-87f6-464b-93d2-0e6825bfb0e2"
    },
    {
      "cell_type": "code",
      "execution_count": null,
      "metadata": {
        "id": "a4855e57-a073-4ee2-9645-efcdaf11b528"
      },
      "outputs": [],
      "source": [],
      "id": "a4855e57-a073-4ee2-9645-efcdaf11b528"
    },
    {
      "cell_type": "markdown",
      "metadata": {
        "id": "a622ccdb-a7cd-43dc-86cc-754c28ffa0fb"
      },
      "source": [
        "## Dataset2"
      ],
      "id": "a622ccdb-a7cd-43dc-86cc-754c28ffa0fb"
    },
    {
      "cell_type": "code",
      "execution_count": null,
      "metadata": {
        "id": "e53c2131-3185-4231-8f16-443ad9823aea"
      },
      "outputs": [],
      "source": [
        "stroke2 = pd.read_csv('stroke/stroke2.csv')"
      ],
      "id": "e53c2131-3185-4231-8f16-443ad9823aea"
    },
    {
      "cell_type": "code",
      "execution_count": null,
      "metadata": {
        "id": "b41cac93-394b-40e0-9f1d-5eaa5f2f4fd4"
      },
      "outputs": [],
      "source": [
        "stroke2=preprocess_dataset(stroke2)\n",
        "X = stroke2.drop(['stroke'],axis=1)\n",
        "y = stroke2['stroke']\n",
        "\n",
        "from imblearn.over_sampling import SMOTE\n",
        "# Assuming X and y are your feature matrix and target variable, respectively\n",
        "smote = SMOTE()\n",
        "X, y = smote.fit_resample(X, y)\n",
        "X_train, X_test, y_train, y_test = train_test_split(X, y, test_size=0.2,random_state=42)"
      ],
      "id": "b41cac93-394b-40e0-9f1d-5eaa5f2f4fd4"
    },
    {
      "cell_type": "code",
      "execution_count": null,
      "metadata": {
        "id": "08682299-4f43-43ba-82f1-a87e207f5a1f",
        "outputId": "e2b9a073-81c3-4170-8849-39a6cb8775e8"
      },
      "outputs": [
        {
          "name": "stderr",
          "output_type": "stream",
          "text": [
            "Iterations: 100%|██████████| 10/10 [09:52<00:00, 59.30s/iteration]\n"
          ]
        }
      ],
      "source": [
        "num_iterations = 10\n",
        "results, features, dims, scores = run_gwo_optimization(num_iterations, X_train, y_train, X_test, y_test)"
      ],
      "id": "08682299-4f43-43ba-82f1-a87e207f5a1f"
    },
    {
      "cell_type": "code",
      "execution_count": null,
      "metadata": {
        "id": "b48d951a-c425-4b34-8630-357ff3791151",
        "outputId": "7a1e2424-1326-4e93-8488-19d25be27a58"
      },
      "outputs": [
        {
          "data": {
            "text/plain": [
              "[['age', 'heart_disease', 'ever_married'],\n",
              " ['age', 'work_type'],\n",
              " ['age', 'hypertension', 'heart_disease'],\n",
              " ['age', 'ever_married', 'work_type'],\n",
              " ['age', 'hypertension', 'avg_glucose_level', 'bmi'],\n",
              " ['age', 'ever_married', 'avg_glucose_level', 'bmi'],\n",
              " ['age', 'avg_glucose_level', 'bmi'],\n",
              " ['age'],\n",
              " ['age', 'ever_married', 'avg_glucose_level', 'bmi'],\n",
              " ['age', 'avg_glucose_level', 'bmi']]"
            ]
          },
          "execution_count": 90,
          "metadata": {},
          "output_type": "execute_result"
        }
      ],
      "source": [
        "features"
      ],
      "id": "b48d951a-c425-4b34-8630-357ff3791151"
    },
    {
      "cell_type": "code",
      "execution_count": null,
      "metadata": {
        "id": "b00f1443-71b5-4299-826a-97eb8cfa42f5",
        "outputId": "b3d5bec1-dbfc-49f3-f6bf-1600889cfb05"
      },
      "outputs": [
        {
          "name": "stderr",
          "output_type": "stream",
          "text": [
            "Iterations: 100%|██████████| 10/10 [10:00<00:00, 60.00s/iteration]\n"
          ]
        }
      ],
      "source": [
        "num_iterations = 10\n",
        "results, features, dims, scores = run_gwo_optimization(num_iterations, X_train, y_train, X_test, y_test)"
      ],
      "id": "b00f1443-71b5-4299-826a-97eb8cfa42f5"
    },
    {
      "cell_type": "code",
      "execution_count": null,
      "metadata": {
        "id": "6089211b-b7a1-4910-9d28-eb061f516cb8",
        "outputId": "a969f1e9-7270-4b48-b67c-9b1a6839cb42"
      },
      "outputs": [
        {
          "data": {
            "text/plain": [
              "[['age', 'avg_glucose_level', 'bmi'],\n",
              " ['age'],\n",
              " ['age', 'ever_married', 'work_type'],\n",
              " ['age', 'ever_married', 'work_type'],\n",
              " ['age', 'avg_glucose_level', 'bmi'],\n",
              " ['age', 'heart_disease', 'Residence_type'],\n",
              " ['age', 'ever_married', 'avg_glucose_level', 'bmi'],\n",
              " ['age', 'ever_married', 'avg_glucose_level', 'bmi'],\n",
              " ['age', 'hypertension', 'heart_disease'],\n",
              " ['age', 'heart_disease', 'ever_married']]"
            ]
          },
          "execution_count": 93,
          "metadata": {},
          "output_type": "execute_result"
        }
      ],
      "source": [
        "features"
      ],
      "id": "6089211b-b7a1-4910-9d28-eb061f516cb8"
    },
    {
      "cell_type": "code",
      "execution_count": null,
      "metadata": {
        "id": "f88bc290-85f2-4568-93ef-400cca7e456a",
        "outputId": "d80882da-b687-4a37-c235-805221e17fa5"
      },
      "outputs": [
        {
          "name": "stderr",
          "output_type": "stream",
          "text": [
            "Iterations: 100%|██████████| 10/10 [09:51<00:00, 59.11s/iteration]\n"
          ]
        }
      ],
      "source": [
        "num_iterations = 10\n",
        "results, features, dims, scores = run_gwo_optimization(num_iterations, X_train, y_train, X_test, y_test)"
      ],
      "id": "f88bc290-85f2-4568-93ef-400cca7e456a"
    },
    {
      "cell_type": "code",
      "execution_count": null,
      "metadata": {
        "id": "31567550-62cf-4c9a-8765-dc69735d189e",
        "outputId": "5ce853e0-e21a-4e23-f522-a002f3ecdfbe"
      },
      "outputs": [
        {
          "data": {
            "text/plain": [
              "[['age', 'heart_disease', 'ever_married'],\n",
              " ['age', 'avg_glucose_level', 'bmi'],\n",
              " ['age', 'work_type'],\n",
              " ['age', 'hypertension', 'heart_disease'],\n",
              " ['age', 'work_type'],\n",
              " ['age', 'ever_married', 'work_type'],\n",
              " ['age', 'hypertension', 'heart_disease'],\n",
              " ['age', 'work_type'],\n",
              " ['age', 'work_type'],\n",
              " ['age', 'ever_married', 'work_type']]"
            ]
          },
          "execution_count": 88,
          "metadata": {},
          "output_type": "execute_result"
        }
      ],
      "source": [
        "features"
      ],
      "id": "31567550-62cf-4c9a-8765-dc69735d189e"
    },
    {
      "cell_type": "code",
      "execution_count": null,
      "metadata": {
        "id": "f72a97d6-0852-4d12-a085-4b06680228f6"
      },
      "outputs": [],
      "source": [
        "Stroke_data =pd.DataFrame(X[['age', 'ever_married', 'avg_glucose_level', 'bmi']])\n",
        "Stroke_data['stroke']=y"
      ],
      "id": "f72a97d6-0852-4d12-a085-4b06680228f6"
    },
    {
      "cell_type": "code",
      "execution_count": null,
      "metadata": {
        "colab": {
          "base_uri": "https://localhost:8080/"
        },
        "id": "23a3c3ea-34fe-4111-b8bf-cfa69095136a",
        "outputId": "070ed9e1-b356-451a-a6a1-446b834643ef"
      },
      "outputs": [
        {
          "name": "stderr",
          "output_type": "stream",
          "text": [
            "No path specified. Models will be saved in: \"AutogluonModels/ag-20230831_090622/\"\n",
            "Beginning AutoGluon training ...\n",
            "AutoGluon will save models to \"AutogluonModels/ag-20230831_090622/\"\n",
            "AutoGluon Version:  0.8.2\n",
            "Python Version:     3.10.12\n",
            "Operating System:   Linux\n",
            "Platform Machine:   x86_64\n",
            "Platform Version:   #1 SMP Fri Jun 9 10:57:30 UTC 2023\n",
            "Disk Space Avail:   13.89 GB / 16.11 GB (86.3%)\n",
            "Train Data Rows:    9466\n",
            "Train Data Columns: 4\n",
            "Label Column: stroke\n",
            "Preprocessing data ...\n",
            "AutoGluon infers your prediction problem is: 'binary' (because only two unique label-values observed).\n",
            "\t2 unique label values:  [1, 0]\n",
            "\tIf 'binary' is not the correct problem_type, please manually specify the problem_type parameter during predictor init (You may specify problem_type as one of: ['binary', 'multiclass', 'regression'])\n",
            "Selected class <--> label mapping:  class 1 = 1, class 0 = 0\n",
            "Using Feature Generators to preprocess the data ...\n",
            "Fitting AutoMLPipelineFeatureGenerator...\n",
            "\tAvailable Memory:                    11369.32 MB\n",
            "\tTrain Data (Original)  Memory Usage: 0.3 MB (0.0% of available memory)\n",
            "\tInferring data type of each feature based on column values. Set feature_metadata_in to manually specify special dtypes of the features.\n",
            "\tStage 1 Generators:\n",
            "\t\tFitting AsTypeFeatureGenerator...\n",
            "\t\t\tNote: Converting 1 features to boolean dtype as they only contain 2 unique values.\n",
            "\tStage 2 Generators:\n",
            "\t\tFitting FillNaFeatureGenerator...\n",
            "\tStage 3 Generators:\n",
            "\t\tFitting IdentityFeatureGenerator...\n",
            "\tStage 4 Generators:\n",
            "\t\tFitting DropUniqueFeatureGenerator...\n",
            "\tStage 5 Generators:\n",
            "\t\tFitting DropDuplicatesFeatureGenerator...\n",
            "\tTypes of features in original data (raw dtype, special dtypes):\n",
            "\t\t('float', []) : 3 | ['age', 'avg_glucose_level', 'bmi']\n",
            "\t\t('int', [])   : 1 | ['ever_married']\n",
            "\tTypes of features in processed data (raw dtype, special dtypes):\n",
            "\t\t('float', [])     : 3 | ['age', 'avg_glucose_level', 'bmi']\n",
            "\t\t('int', ['bool']) : 1 | ['ever_married']\n",
            "\t0.1s = Fit runtime\n",
            "\t4 features in original data used to generate 4 features in processed data.\n",
            "\tTrain Data (Processed) Memory Usage: 0.24 MB (0.0% of available memory)\n",
            "Data preprocessing and feature engineering runtime = 0.14s ...\n",
            "AutoGluon will gauge predictive performance using evaluation metric: 'accuracy'\n",
            "\tTo change this, specify the eval_metric parameter of Predictor()\n",
            "Automatically generating train/validation split with holdout_frac=0.1, Train Rows: 8519, Val Rows: 947\n",
            "User-specified model hyperparameters to be fit:\n",
            "{\n",
            "\t'NN_TORCH': {},\n",
            "\t'GBM': [{'extra_trees': True, 'ag_args': {'name_suffix': 'XT'}}, {}, 'GBMLarge'],\n",
            "\t'CAT': {},\n",
            "\t'XGB': {},\n",
            "\t'FASTAI': {},\n",
            "\t'RF': [{'criterion': 'gini', 'ag_args': {'name_suffix': 'Gini', 'problem_types': ['binary', 'multiclass']}}, {'criterion': 'entropy', 'ag_args': {'name_suffix': 'Entr', 'problem_types': ['binary', 'multiclass']}}, {'criterion': 'squared_error', 'ag_args': {'name_suffix': 'MSE', 'problem_types': ['regression', 'quantile']}}],\n",
            "\t'XT': [{'criterion': 'gini', 'ag_args': {'name_suffix': 'Gini', 'problem_types': ['binary', 'multiclass']}}, {'criterion': 'entropy', 'ag_args': {'name_suffix': 'Entr', 'problem_types': ['binary', 'multiclass']}}, {'criterion': 'squared_error', 'ag_args': {'name_suffix': 'MSE', 'problem_types': ['regression', 'quantile']}}],\n",
            "\t'KNN': [{'weights': 'uniform', 'ag_args': {'name_suffix': 'Unif'}}, {'weights': 'distance', 'ag_args': {'name_suffix': 'Dist'}}],\n",
            "}\n",
            "Fitting 13 L1 models ...\n",
            "Fitting model: KNeighborsUnif ...\n",
            "\t0.8807\t = Validation score   (accuracy)\n",
            "\t0.02s\t = Training   runtime\n",
            "\t0.02s\t = Validation runtime\n",
            "Fitting model: KNeighborsDist ...\n",
            "\t0.8902\t = Validation score   (accuracy)\n",
            "\t0.02s\t = Training   runtime\n",
            "\t0.02s\t = Validation runtime\n",
            "Fitting model: LightGBMXT ...\n"
          ]
        },
        {
          "name": "stdout",
          "output_type": "stream",
          "text": [
            "[1000]\tvalid_set's binary_error: 0.139388\n",
            "[2000]\tvalid_set's binary_error: 0.116156\n",
            "[3000]\tvalid_set's binary_error: 0.10982\n",
            "[4000]\tvalid_set's binary_error: 0.107709\n",
            "[5000]\tvalid_set's binary_error: 0.101373\n",
            "[6000]\tvalid_set's binary_error: 0.0992608\n",
            "[7000]\tvalid_set's binary_error: 0.0982049\n",
            "[8000]\tvalid_set's binary_error: 0.0918691\n",
            "[9000]\tvalid_set's binary_error: 0.0887012\n",
            "[10000]\tvalid_set's binary_error: 0.0834213\n"
          ]
        },
        {
          "name": "stderr",
          "output_type": "stream",
          "text": [
            "\t0.9187\t = Validation score   (accuracy)\n",
            "\t14.0s\t = Training   runtime\n",
            "\t1.22s\t = Validation runtime\n",
            "Fitting model: LightGBM ...\n",
            "\t0.9472\t = Validation score   (accuracy)\n",
            "\t1.54s\t = Training   runtime\n",
            "\t0.04s\t = Validation runtime\n",
            "Fitting model: RandomForestGini ...\n",
            "\t0.9229\t = Validation score   (accuracy)\n",
            "\t6.05s\t = Training   runtime\n",
            "\t0.17s\t = Validation runtime\n",
            "Fitting model: RandomForestEntr ...\n",
            "\t0.924\t = Validation score   (accuracy)\n",
            "\t6.67s\t = Training   runtime\n",
            "\t0.12s\t = Validation runtime\n",
            "Fitting model: CatBoost ...\n",
            "\t0.9514\t = Validation score   (accuracy)\n",
            "\t21.66s\t = Training   runtime\n",
            "\t0.01s\t = Validation runtime\n",
            "Fitting model: ExtraTreesGini ...\n",
            "\t0.9197\t = Validation score   (accuracy)\n",
            "\t1.79s\t = Training   runtime\n",
            "\t0.12s\t = Validation runtime\n",
            "Fitting model: ExtraTreesEntr ...\n",
            "\t0.9197\t = Validation score   (accuracy)\n",
            "\t1.54s\t = Training   runtime\n",
            "\t0.13s\t = Validation runtime\n",
            "Fitting model: NeuralNetFastAI ...\n",
            "\t0.8131\t = Validation score   (accuracy)\n",
            "\t12.89s\t = Training   runtime\n",
            "\t0.03s\t = Validation runtime\n",
            "Fitting model: XGBoost ...\n",
            "\t0.925\t = Validation score   (accuracy)\n",
            "\t2.66s\t = Training   runtime\n",
            "\t0.06s\t = Validation runtime\n",
            "Fitting model: NeuralNetTorch ...\n",
            "\t0.8701\t = Validation score   (accuracy)\n",
            "\t93.37s\t = Training   runtime\n",
            "\t0.03s\t = Validation runtime\n",
            "Fitting model: LightGBMLarge ...\n",
            "\t0.9525\t = Validation score   (accuracy)\n",
            "\t5.12s\t = Training   runtime\n",
            "\t0.19s\t = Validation runtime\n",
            "Fitting model: WeightedEnsemble_L2 ...\n",
            "\t0.9525\t = Validation score   (accuracy)\n",
            "\t2.17s\t = Training   runtime\n",
            "\t0.01s\t = Validation runtime\n",
            "AutoGluon training complete, total runtime = 176.49s ... Best model: \"WeightedEnsemble_L2\"\n",
            "TabularPredictor saved. To load, use: predictor = TabularPredictor.load(\"AutogluonModels/ag-20230831_090622/\")\n"
          ]
        },
        {
          "name": "stdout",
          "output_type": "stream",
          "text": [
            "                  model  score_val  pred_time_val   fit_time  pred_time_val_marginal  fit_time_marginal  stack_level  can_infer  fit_order\n",
            "0         LightGBMLarge   0.952482       0.190155   5.119686                0.190155           5.119686            1       True         13\n",
            "1   WeightedEnsemble_L2   0.952482       0.195608   7.285686                0.005453           2.166001            2       True         14\n",
            "2              CatBoost   0.951426       0.009238  21.658020                0.009238          21.658020            1       True          7\n",
            "3              LightGBM   0.947202       0.041257   1.539131                0.041257           1.539131            1       True          4\n",
            "4               XGBoost   0.925026       0.060800   2.661443                0.060800           2.661443            1       True         11\n",
            "5      RandomForestEntr   0.923970       0.119370   6.665715                0.119370           6.665715            1       True          6\n",
            "6      RandomForestGini   0.922914       0.167218   6.047153                0.167218           6.047153            1       True          5\n",
            "7        ExtraTreesGini   0.919747       0.118934   1.793706                0.118934           1.793706            1       True          8\n",
            "8        ExtraTreesEntr   0.919747       0.130297   1.543841                0.130297           1.543841            1       True          9\n",
            "9            LightGBMXT   0.918691       1.222921  13.997290                1.222921          13.997290            1       True          3\n",
            "10       KNeighborsDist   0.890180       0.020839   0.023411                0.020839           0.023411            1       True          2\n",
            "11       KNeighborsUnif   0.880676       0.019561   0.020198                0.019561           0.020198            1       True          1\n",
            "12       NeuralNetTorch   0.870116       0.033089  93.369984                0.033089          93.369984            1       True         12\n",
            "13      NeuralNetFastAI   0.813094       0.032729  12.888726                0.032729          12.888726            1       True         10\n"
          ]
        }
      ],
      "source": [
        "predictor_combined = TabularPredictor(\n",
        "    label=\"stroke\",\n",
        "\n",
        ").fit(\n",
        "    train_data=Stroke_data,\n",
        "\n",
        ")\n",
        "greywolf_dataset2=predictor_combined.leaderboard()"
      ],
      "id": "23a3c3ea-34fe-4111-b8bf-cfa69095136a"
    },
    {
      "cell_type": "code",
      "execution_count": null,
      "metadata": {
        "id": "4bb1e3e6-82e2-44c6-bec1-b1147554f8e5"
      },
      "outputs": [],
      "source": [],
      "id": "4bb1e3e6-82e2-44c6-bec1-b1147554f8e5"
    },
    {
      "cell_type": "markdown",
      "metadata": {
        "id": "b813d71e-5724-4053-b7ce-d5f0cde0dd7f"
      },
      "source": [
        "## Dataset3"
      ],
      "id": "b813d71e-5724-4053-b7ce-d5f0cde0dd7f"
    },
    {
      "cell_type": "code",
      "execution_count": null,
      "metadata": {
        "id": "919bf6c2-ac03-4a9f-8860-f3827bb4151e"
      },
      "outputs": [],
      "source": [],
      "id": "919bf6c2-ac03-4a9f-8860-f3827bb4151e"
    },
    {
      "cell_type": "code",
      "execution_count": null,
      "metadata": {
        "id": "732612ce-fa19-4d6b-8c63-381920ca0170"
      },
      "outputs": [],
      "source": [
        "stroke3 = pd.read_csv('stroke/stroke3.csv')"
      ],
      "id": "732612ce-fa19-4d6b-8c63-381920ca0170"
    },
    {
      "cell_type": "code",
      "execution_count": null,
      "metadata": {
        "id": "7a0622cc-96ea-4172-9eaf-4eb7bac682b0"
      },
      "outputs": [],
      "source": [
        "stroke3=preprocess_dataset(stroke3)\n",
        "X = stroke3.drop(['stroke'],axis=1)\n",
        "y = stroke3['stroke']\n",
        "\n",
        "from imblearn.over_sampling import SMOTE\n",
        "# Assuming X and y are your feature matrix and target variable, respectively\n",
        "smote = SMOTE()\n",
        "X, y = smote.fit_resample(X, y)\n",
        "X_train, X_test, y_train, y_test = train_test_split(X, y, test_size=0.2,random_state=42)"
      ],
      "id": "7a0622cc-96ea-4172-9eaf-4eb7bac682b0"
    },
    {
      "cell_type": "code",
      "execution_count": null,
      "metadata": {
        "id": "b67dcfa9-a001-47d0-b1e1-73316ee0bc82",
        "outputId": "a407ae57-64ba-4aa6-948b-f50ebc0c0e4a"
      },
      "outputs": [
        {
          "name": "stderr",
          "output_type": "stream",
          "text": [
            "Iterations: 100%|██████████| 10/10 [1:51:17<00:00, 667.74s/iteration]\n"
          ]
        }
      ],
      "source": [
        "num_iterations = 10\n",
        "results, features, dims, scores = run_gwo_optimization(num_iterations, X_train, y_train, X_test, y_test)"
      ],
      "id": "b67dcfa9-a001-47d0-b1e1-73316ee0bc82"
    },
    {
      "cell_type": "code",
      "execution_count": null,
      "metadata": {
        "id": "dcfd195f-527d-4d22-b80d-163aaee1111c",
        "outputId": "e7f471e0-6e39-430e-ccf3-c7951b5cb987"
      },
      "outputs": [
        {
          "data": {
            "text/plain": [
              "[['bmi'],\n",
              " ['hypertension', 'Residence_type', 'bmi'],\n",
              " ['hypertension', 'Residence_type', 'bmi'],\n",
              " ['heart_disease', 'Residence_type', 'bmi'],\n",
              " ['gender', 'hypertension', 'bmi'],\n",
              " ['Residence_type', 'bmi'],\n",
              " ['age',\n",
              "  'ever_married',\n",
              "  'Residence_type',\n",
              "  'avg_glucose_level',\n",
              "  'bmi',\n",
              "  'smoking_status'],\n",
              " ['ever_married', 'bmi'],\n",
              " ['age',\n",
              "  'ever_married',\n",
              "  'Residence_type',\n",
              "  'avg_glucose_level',\n",
              "  'bmi',\n",
              "  'smoking_status'],\n",
              " ['age',\n",
              "  'ever_married',\n",
              "  'Residence_type',\n",
              "  'avg_glucose_level',\n",
              "  'bmi',\n",
              "  'smoking_status']]"
            ]
          },
          "execution_count": 111,
          "metadata": {},
          "output_type": "execute_result"
        }
      ],
      "source": [
        "features"
      ],
      "id": "dcfd195f-527d-4d22-b80d-163aaee1111c"
    },
    {
      "cell_type": "code",
      "execution_count": null,
      "metadata": {
        "id": "dc181fc9-c325-4d9a-a123-241dbd420fce",
        "outputId": "9331728a-15ad-493f-a1af-5f4cda84f745"
      },
      "outputs": [
        {
          "name": "stderr",
          "output_type": "stream",
          "text": [
            "Iterations: 100%|██████████| 10/10 [1:52:25<00:00, 674.52s/iteration]\n"
          ]
        }
      ],
      "source": [
        "num_iterations = 10\n",
        "results, features, dims, scores = run_gwo_optimization(num_iterations, X_train, y_train, X_test, y_test)"
      ],
      "id": "dc181fc9-c325-4d9a-a123-241dbd420fce"
    },
    {
      "cell_type": "code",
      "execution_count": null,
      "metadata": {
        "id": "bdf92c7e-4d92-4721-a28e-2739e5aa639d",
        "outputId": "bac29aca-2b74-4d22-b450-1c18a97c945c"
      },
      "outputs": [
        {
          "data": {
            "text/plain": [
              "[['age',\n",
              "  'ever_married',\n",
              "  'Residence_type',\n",
              "  'avg_glucose_level',\n",
              "  'bmi',\n",
              "  'smoking_status'],\n",
              " ['bmi'],\n",
              " ['gender', 'ever_married', 'bmi'],\n",
              " ['Residence_type', 'bmi'],\n",
              " ['age',\n",
              "  'ever_married',\n",
              "  'Residence_type',\n",
              "  'avg_glucose_level',\n",
              "  'bmi',\n",
              "  'smoking_status'],\n",
              " ['gender', 'hypertension', 'bmi'],\n",
              " ['heart_disease', 'Residence_type', 'bmi'],\n",
              " ['gender', 'hypertension', 'bmi'],\n",
              " ['bmi'],\n",
              " ['ever_married', 'Residence_type', 'bmi']]"
            ]
          },
          "execution_count": 113,
          "metadata": {},
          "output_type": "execute_result"
        }
      ],
      "source": [
        "features"
      ],
      "id": "bdf92c7e-4d92-4721-a28e-2739e5aa639d"
    },
    {
      "cell_type": "code",
      "execution_count": null,
      "metadata": {
        "id": "8a78a2ec-39e9-4a2b-9a76-02cc24ff88e4",
        "outputId": "ecca4d45-9551-456d-e450-05cfb31d6f57"
      },
      "outputs": [
        {
          "name": "stderr",
          "output_type": "stream",
          "text": [
            "Iterations: 100%|██████████| 10/10 [1:51:31<00:00, 669.15s/iteration]\n"
          ]
        }
      ],
      "source": [
        "num_iterations = 10\n",
        "results, features, dims, scores = run_gwo_optimization(num_iterations, X_train, y_train, X_test, y_test)"
      ],
      "id": "8a78a2ec-39e9-4a2b-9a76-02cc24ff88e4"
    },
    {
      "cell_type": "code",
      "execution_count": null,
      "metadata": {
        "id": "05cafcdc-fbc9-4558-a56d-3b8e1e23e961",
        "outputId": "0db03c10-62aa-4715-c9fd-b9d115b8f4d3"
      },
      "outputs": [
        {
          "data": {
            "text/plain": [
              "[['Residence_type', 'bmi'],\n",
              " ['heart_disease', 'Residence_type', 'bmi'],\n",
              " ['Residence_type', 'bmi'],\n",
              " ['heart_disease', 'Residence_type', 'bmi'],\n",
              " ['age',\n",
              "  'ever_married',\n",
              "  'Residence_type',\n",
              "  'avg_glucose_level',\n",
              "  'bmi',\n",
              "  'smoking_status'],\n",
              " ['gender', 'hypertension', 'bmi'],\n",
              " ['ever_married', 'Residence_type', 'bmi'],\n",
              " ['gender', 'hypertension', 'bmi'],\n",
              " ['hypertension', 'Residence_type', 'bmi'],\n",
              " ['gender', 'bmi']]"
            ]
          },
          "execution_count": 115,
          "metadata": {},
          "output_type": "execute_result"
        }
      ],
      "source": [
        "features"
      ],
      "id": "05cafcdc-fbc9-4558-a56d-3b8e1e23e961"
    },
    {
      "cell_type": "code",
      "execution_count": null,
      "metadata": {
        "colab": {
          "base_uri": "https://localhost:8080/"
        },
        "id": "e802197c-a988-4f25-af94-bc9323772c32",
        "outputId": "363ec531-e620-45eb-bfe3-b649d74d50d8"
      },
      "outputs": [
        {
          "name": "stderr",
          "output_type": "stream",
          "text": [
            "No path specified. Models will be saved in: \"AutogluonModels/ag-20230831_090920/\"\n",
            "Beginning AutoGluon training ...\n",
            "AutoGluon will save models to \"AutogluonModels/ag-20230831_090920/\"\n",
            "AutoGluon Version:  0.8.2\n",
            "Python Version:     3.10.12\n",
            "Operating System:   Linux\n",
            "Platform Machine:   x86_64\n",
            "Platform Version:   #1 SMP Fri Jun 9 10:57:30 UTC 2023\n",
            "Disk Space Avail:   13.46 GB / 16.11 GB (83.6%)\n",
            "Train Data Rows:    85234\n",
            "Train Data Columns: 6\n",
            "Label Column: stroke\n",
            "Preprocessing data ...\n",
            "AutoGluon infers your prediction problem is: 'binary' (because only two unique label-values observed).\n",
            "\t2 unique label values:  [0, 1]\n",
            "\tIf 'binary' is not the correct problem_type, please manually specify the problem_type parameter during predictor init (You may specify problem_type as one of: ['binary', 'multiclass', 'regression'])\n",
            "Selected class <--> label mapping:  class 1 = 1, class 0 = 0\n",
            "Using Feature Generators to preprocess the data ...\n",
            "Fitting AutoMLPipelineFeatureGenerator...\n",
            "\tAvailable Memory:                    11290.68 MB\n",
            "\tTrain Data (Original)  Memory Usage: 4.09 MB (0.0% of available memory)\n",
            "\tInferring data type of each feature based on column values. Set feature_metadata_in to manually specify special dtypes of the features.\n",
            "\tStage 1 Generators:\n",
            "\t\tFitting AsTypeFeatureGenerator...\n",
            "\t\t\tNote: Converting 2 features to boolean dtype as they only contain 2 unique values.\n",
            "\tStage 2 Generators:\n",
            "\t\tFitting FillNaFeatureGenerator...\n",
            "\tStage 3 Generators:\n",
            "\t\tFitting IdentityFeatureGenerator...\n",
            "\tStage 4 Generators:\n",
            "\t\tFitting DropUniqueFeatureGenerator...\n",
            "\tStage 5 Generators:\n",
            "\t\tFitting DropDuplicatesFeatureGenerator...\n",
            "\tTypes of features in original data (raw dtype, special dtypes):\n",
            "\t\t('float', []) : 3 | ['age', 'avg_glucose_level', 'bmi']\n",
            "\t\t('int', [])   : 3 | ['ever_married', 'Residence_type', 'smoking_status']\n",
            "\tTypes of features in processed data (raw dtype, special dtypes):\n",
            "\t\t('float', [])     : 3 | ['age', 'avg_glucose_level', 'bmi']\n",
            "\t\t('int', [])       : 1 | ['smoking_status']\n",
            "\t\t('int', ['bool']) : 2 | ['ever_married', 'Residence_type']\n",
            "\t0.3s = Fit runtime\n",
            "\t6 features in original data used to generate 6 features in processed data.\n",
            "\tTrain Data (Processed) Memory Usage: 2.9 MB (0.0% of available memory)\n",
            "Data preprocessing and feature engineering runtime = 0.39s ...\n",
            "AutoGluon will gauge predictive performance using evaluation metric: 'accuracy'\n",
            "\tTo change this, specify the eval_metric parameter of Predictor()\n",
            "Automatically generating train/validation split with holdout_frac=0.029331018138301617, Train Rows: 82734, Val Rows: 2500\n",
            "User-specified model hyperparameters to be fit:\n",
            "{\n",
            "\t'NN_TORCH': {},\n",
            "\t'GBM': [{'extra_trees': True, 'ag_args': {'name_suffix': 'XT'}}, {}, 'GBMLarge'],\n",
            "\t'CAT': {},\n",
            "\t'XGB': {},\n",
            "\t'FASTAI': {},\n",
            "\t'RF': [{'criterion': 'gini', 'ag_args': {'name_suffix': 'Gini', 'problem_types': ['binary', 'multiclass']}}, {'criterion': 'entropy', 'ag_args': {'name_suffix': 'Entr', 'problem_types': ['binary', 'multiclass']}}, {'criterion': 'squared_error', 'ag_args': {'name_suffix': 'MSE', 'problem_types': ['regression', 'quantile']}}],\n",
            "\t'XT': [{'criterion': 'gini', 'ag_args': {'name_suffix': 'Gini', 'problem_types': ['binary', 'multiclass']}}, {'criterion': 'entropy', 'ag_args': {'name_suffix': 'Entr', 'problem_types': ['binary', 'multiclass']}}, {'criterion': 'squared_error', 'ag_args': {'name_suffix': 'MSE', 'problem_types': ['regression', 'quantile']}}],\n",
            "\t'KNN': [{'weights': 'uniform', 'ag_args': {'name_suffix': 'Unif'}}, {'weights': 'distance', 'ag_args': {'name_suffix': 'Dist'}}],\n",
            "}\n",
            "Fitting 13 L1 models ...\n",
            "Fitting model: KNeighborsUnif ...\n",
            "\t0.9216\t = Validation score   (accuracy)\n",
            "\t0.16s\t = Training   runtime\n",
            "\t0.06s\t = Validation runtime\n",
            "Fitting model: KNeighborsDist ...\n",
            "\t0.9288\t = Validation score   (accuracy)\n",
            "\t0.18s\t = Training   runtime\n",
            "\t0.06s\t = Validation runtime\n",
            "Fitting model: LightGBMXT ...\n"
          ]
        },
        {
          "name": "stdout",
          "output_type": "stream",
          "text": [
            "[1000]\tvalid_set's binary_error: 0.1088\n",
            "[2000]\tvalid_set's binary_error: 0.0784\n",
            "[3000]\tvalid_set's binary_error: 0.068\n",
            "[4000]\tvalid_set's binary_error: 0.0568\n",
            "[5000]\tvalid_set's binary_error: 0.0524\n",
            "[6000]\tvalid_set's binary_error: 0.0484\n",
            "[7000]\tvalid_set's binary_error: 0.0468\n",
            "[8000]\tvalid_set's binary_error: 0.046\n",
            "[9000]\tvalid_set's binary_error: 0.0432\n",
            "[10000]\tvalid_set's binary_error: 0.0408\n"
          ]
        },
        {
          "name": "stderr",
          "output_type": "stream",
          "text": [
            "\t0.9592\t = Validation score   (accuracy)\n",
            "\t145.62s\t = Training   runtime\n",
            "\t6.28s\t = Validation runtime\n",
            "Fitting model: LightGBM ...\n"
          ]
        },
        {
          "name": "stdout",
          "output_type": "stream",
          "text": [
            "[1000]\tvalid_set's binary_error: 0.0256\n",
            "[2000]\tvalid_set's binary_error: 0.0216\n"
          ]
        },
        {
          "name": "stderr",
          "output_type": "stream",
          "text": [
            "\t0.9784\t = Validation score   (accuracy)\n",
            "\t35.16s\t = Training   runtime\n",
            "\t1.18s\t = Validation runtime\n",
            "Fitting model: RandomForestGini ...\n",
            "\t0.976\t = Validation score   (accuracy)\n",
            "\t81.76s\t = Training   runtime\n",
            "\t0.58s\t = Validation runtime\n",
            "Fitting model: RandomForestEntr ...\n",
            "\t0.9752\t = Validation score   (accuracy)\n",
            "\t64.01s\t = Training   runtime\n",
            "\t0.39s\t = Validation runtime\n",
            "Fitting model: CatBoost ...\n",
            "\t0.9796\t = Validation score   (accuracy)\n",
            "\t143.91s\t = Training   runtime\n",
            "\t0.03s\t = Validation runtime\n",
            "Fitting model: ExtraTreesGini ...\n",
            "\t0.9712\t = Validation score   (accuracy)\n",
            "\t16.72s\t = Training   runtime\n",
            "\t0.45s\t = Validation runtime\n",
            "Fitting model: ExtraTreesEntr ...\n",
            "\t0.9716\t = Validation score   (accuracy)\n",
            "\t19.44s\t = Training   runtime\n",
            "\t0.29s\t = Validation runtime\n",
            "Fitting model: NeuralNetFastAI ...\n",
            "\t0.8604\t = Validation score   (accuracy)\n",
            "\t128.59s\t = Training   runtime\n",
            "\t0.07s\t = Validation runtime\n",
            "Fitting model: XGBoost ...\n",
            "\t0.9704\t = Validation score   (accuracy)\n",
            "\t15.29s\t = Training   runtime\n",
            "\t0.17s\t = Validation runtime\n",
            "Fitting model: NeuralNetTorch ...\n",
            "\t0.9092\t = Validation score   (accuracy)\n",
            "\t280.53s\t = Training   runtime\n",
            "\t0.02s\t = Validation runtime\n",
            "Fitting model: LightGBMLarge ...\n",
            "\t0.9764\t = Validation score   (accuracy)\n",
            "\t11.73s\t = Training   runtime\n",
            "\t0.45s\t = Validation runtime\n",
            "Fitting model: WeightedEnsemble_L2 ...\n",
            "\t0.9856\t = Validation score   (accuracy)\n",
            "\t3.06s\t = Training   runtime\n",
            "\t0.01s\t = Validation runtime\n",
            "AutoGluon training complete, total runtime = 975.52s ... Best model: \"WeightedEnsemble_L2\"\n",
            "TabularPredictor saved. To load, use: predictor = TabularPredictor.load(\"AutogluonModels/ag-20230831_090920/\")\n"
          ]
        },
        {
          "name": "stdout",
          "output_type": "stream",
          "text": [
            "                  model  score_val  pred_time_val    fit_time  pred_time_val_marginal  fit_time_marginal  stack_level  can_infer  fit_order\n",
            "0   WeightedEnsemble_L2     0.9856       8.048999  407.047781                0.009389           3.058100            2       True         14\n",
            "1              CatBoost     0.9796       0.028944  143.909738                0.028944         143.909738            1       True          7\n",
            "2              LightGBM     0.9784       1.182194   35.164864                1.182194          35.164864            1       True          4\n",
            "3         LightGBMLarge     0.9764       0.448699   11.730188                0.448699          11.730188            1       True         13\n",
            "4      RandomForestGini     0.9760       0.577690   81.764579                0.577690          81.764579            1       True          5\n",
            "5      RandomForestEntr     0.9752       0.387774   64.006055                0.387774          64.006055            1       True          6\n",
            "6        ExtraTreesEntr     0.9716       0.286727   19.443394                0.286727          19.443394            1       True          9\n",
            "7        ExtraTreesGini     0.9712       0.453474   16.719697                0.453474          16.719697            1       True          8\n",
            "8               XGBoost     0.9704       0.165161   15.287376                0.165161          15.287376            1       True         11\n",
            "9            LightGBMXT     0.9592       6.275537  145.621648                6.275537         145.621648            1       True          3\n",
            "10       KNeighborsDist     0.9288       0.061077    0.180161                0.061077           0.180161            1       True          2\n",
            "11       KNeighborsUnif     0.9216       0.062064    0.163265                0.062064           0.163265            1       True          1\n",
            "12       NeuralNetTorch     0.9092       0.024178  280.533886                0.024178         280.533886            1       True         12\n",
            "13      NeuralNetFastAI     0.8604       0.068176  128.593734                0.068176         128.593734            1       True         10\n"
          ]
        }
      ],
      "source": [
        "Stroke_data =pd.DataFrame(X[['age',\n",
        "  'ever_married',\n",
        "  'Residence_type',\n",
        "  'avg_glucose_level',\n",
        "  'bmi',\n",
        "  'smoking_status']])\n",
        "Stroke_data['stroke']=y\n",
        "predictor_combined = TabularPredictor(\n",
        "    label=\"stroke\",\n",
        "\n",
        ").fit(\n",
        "    train_data=Stroke_data,\n",
        "\n",
        ")\n",
        "greywolf_dataset3=predictor_combined.leaderboard()"
      ],
      "id": "e802197c-a988-4f25-af94-bc9323772c32"
    },
    {
      "cell_type": "code",
      "execution_count": null,
      "metadata": {
        "id": "3ee49d7c-33a4-42d9-99bf-7952b31b6aa8"
      },
      "outputs": [],
      "source": [],
      "id": "3ee49d7c-33a4-42d9-99bf-7952b31b6aa8"
    },
    {
      "cell_type": "markdown",
      "metadata": {
        "id": "cbbc7ba0-1c44-4d93-a344-1fbc2524d98c"
      },
      "source": [
        "## Dataset4"
      ],
      "id": "cbbc7ba0-1c44-4d93-a344-1fbc2524d98c"
    },
    {
      "cell_type": "code",
      "execution_count": null,
      "metadata": {
        "id": "0522b337-4b23-471d-87e4-f0f24abf7348"
      },
      "outputs": [],
      "source": [
        "stroke4 = pd.read_csv('stroke/stroke10.csv')"
      ],
      "id": "0522b337-4b23-471d-87e4-f0f24abf7348"
    },
    {
      "cell_type": "code",
      "execution_count": null,
      "metadata": {
        "id": "89342aaa-19d0-4d96-92b1-15a31c9bf3cd"
      },
      "outputs": [],
      "source": [
        "stroke4=preprocess_dataset(stroke4)\n",
        "X = stroke4.drop(['stroke'],axis=1)\n",
        "y = stroke4['stroke']\n",
        "\n",
        "from imblearn.over_sampling import SMOTE\n",
        "# Assuming X and y are your feature matrix and target variable, respectively\n",
        "smote = SMOTE()\n",
        "X, y = smote.fit_resample(X, y)\n",
        "X_train, X_test, y_train, y_test = train_test_split(X, y, test_size=0.2,random_state=42)"
      ],
      "id": "89342aaa-19d0-4d96-92b1-15a31c9bf3cd"
    },
    {
      "cell_type": "code",
      "execution_count": null,
      "metadata": {
        "id": "a4ce25a3-1308-4957-a0f0-9e38ef20d48b",
        "outputId": "9062c757-1eb9-41aa-f8ca-279294a3e7f4"
      },
      "outputs": [
        {
          "name": "stderr",
          "output_type": "stream",
          "text": [
            "Iterations: 100%|██████████| 10/10 [51:16<00:00, 307.62s/iteration]\n"
          ]
        }
      ],
      "source": [
        "num_iterations = 10\n",
        "results, features, dims, scores = run_gwo_optimization(num_iterations, X_train, y_train, X_test, y_test)"
      ],
      "id": "a4ce25a3-1308-4957-a0f0-9e38ef20d48b"
    },
    {
      "cell_type": "code",
      "execution_count": null,
      "metadata": {
        "id": "6b360997-756d-421c-8652-abedea305d0c",
        "outputId": "9b9592b6-8983-40a1-a0fe-1f1149b2673c"
      },
      "outputs": [
        {
          "data": {
            "text/plain": [
              "[['avg_glucose_level', 'bmi'],\n",
              " ['avg_glucose_level', 'bmi'],\n",
              " ['hypertension', 'avg_glucose_level', 'bmi'],\n",
              " ['heart_disease', 'avg_glucose_level', 'bmi'],\n",
              " ['heart_disease', 'avg_glucose_level', 'bmi'],\n",
              " ['avg_glucose_level', 'bmi'],\n",
              " ['heart_disease', 'avg_glucose_level', 'bmi'],\n",
              " ['heart_disease', 'avg_glucose_level', 'bmi'],\n",
              " ['heart_disease', 'avg_glucose_level', 'bmi'],\n",
              " ['avg_glucose_level', 'bmi']]"
            ]
          },
          "execution_count": 120,
          "metadata": {},
          "output_type": "execute_result"
        }
      ],
      "source": [
        "features"
      ],
      "id": "6b360997-756d-421c-8652-abedea305d0c"
    },
    {
      "cell_type": "code",
      "execution_count": null,
      "metadata": {
        "id": "52e18bea-6f98-4c61-a0f6-0c9cf4753b76",
        "outputId": "76762247-0513-4548-d34e-c1b9bbca6ddd"
      },
      "outputs": [
        {
          "name": "stderr",
          "output_type": "stream",
          "text": [
            "Iterations: 100%|██████████| 10/10 [49:09<00:00, 294.92s/iteration]\n"
          ]
        }
      ],
      "source": [
        "num_iterations = 10\n",
        "results, features, dims, scores = run_gwo_optimization(num_iterations, X_train, y_train, X_test, y_test)"
      ],
      "id": "52e18bea-6f98-4c61-a0f6-0c9cf4753b76"
    },
    {
      "cell_type": "code",
      "execution_count": null,
      "metadata": {
        "id": "492673a7-072e-46d8-9543-a33615e08729",
        "outputId": "d66b6ca0-8da0-4cc1-fed8-3ca532e35017"
      },
      "outputs": [
        {
          "data": {
            "text/plain": [
              "[['work_type', 'avg_glucose_level', 'bmi'],\n",
              " ['work_type', 'avg_glucose_level', 'bmi'],\n",
              " ['hypertension', 'avg_glucose_level', 'bmi'],\n",
              " ['avg_glucose_level', 'bmi'],\n",
              " ['hypertension', 'avg_glucose_level', 'bmi'],\n",
              " ['hypertension', 'avg_glucose_level', 'bmi'],\n",
              " ['ever_married', 'work_type', 'avg_glucose_level', 'smoking_status'],\n",
              " ['avg_glucose_level', 'bmi'],\n",
              " ['avg_glucose_level', 'bmi'],\n",
              " ['hypertension', 'avg_glucose_level', 'bmi']]"
            ]
          },
          "execution_count": 122,
          "metadata": {},
          "output_type": "execute_result"
        }
      ],
      "source": [
        "features"
      ],
      "id": "492673a7-072e-46d8-9543-a33615e08729"
    },
    {
      "cell_type": "code",
      "execution_count": null,
      "metadata": {
        "id": "6b364efb-926f-400b-b388-7ffa6e29afa8",
        "outputId": "2a192402-1575-491e-ddfa-2ae6b9252b80"
      },
      "outputs": [
        {
          "name": "stderr",
          "output_type": "stream",
          "text": [
            "Iterations: 100%|██████████| 10/10 [51:43<00:00, 310.38s/iteration]\n"
          ]
        }
      ],
      "source": [
        "num_iterations = 10\n",
        "results, features, dims, scores = run_gwo_optimization(num_iterations, X_train, y_train, X_test, y_test)"
      ],
      "id": "6b364efb-926f-400b-b388-7ffa6e29afa8"
    },
    {
      "cell_type": "code",
      "execution_count": null,
      "metadata": {
        "id": "95b6d00f-6275-4d58-afec-f3bc3cee2a60",
        "outputId": "5e883fa3-9dac-4351-c6e4-704d96b01001"
      },
      "outputs": [
        {
          "data": {
            "text/plain": [
              "[['hypertension', 'avg_glucose_level', 'bmi'],\n",
              " ['avg_glucose_level', 'bmi'],\n",
              " ['heart_disease', 'avg_glucose_level', 'bmi'],\n",
              " ['ever_married', 'work_type', 'avg_glucose_level', 'smoking_status'],\n",
              " ['hypertension', 'avg_glucose_level', 'bmi'],\n",
              " ['hypertension', 'avg_glucose_level', 'bmi'],\n",
              " ['work_type', 'Residence_type', 'avg_glucose_level', 'bmi'],\n",
              " ['avg_glucose_level', 'bmi'],\n",
              " ['avg_glucose_level', 'bmi'],\n",
              " ['ever_married', 'work_type', 'avg_glucose_level', 'bmi']]"
            ]
          },
          "execution_count": 127,
          "metadata": {},
          "output_type": "execute_result"
        }
      ],
      "source": [
        "features"
      ],
      "id": "95b6d00f-6275-4d58-afec-f3bc3cee2a60"
    },
    {
      "cell_type": "code",
      "execution_count": null,
      "metadata": {
        "colab": {
          "base_uri": "https://localhost:8080/"
        },
        "id": "0b1d61b1-44cb-4785-a12f-fd3c850f51c0",
        "outputId": "d086fa2f-7c93-4b4a-ccc5-60b27f0920f9"
      },
      "outputs": [
        {
          "name": "stderr",
          "output_type": "stream",
          "text": [
            "No path specified. Models will be saved in: \"AutogluonModels/ag-20230831_092536/\"\n",
            "Beginning AutoGluon training ...\n",
            "AutoGluon will save models to \"AutogluonModels/ag-20230831_092536/\"\n",
            "AutoGluon Version:  0.8.2\n",
            "Python Version:     3.10.12\n",
            "Operating System:   Linux\n",
            "Platform Machine:   x86_64\n",
            "Platform Version:   #1 SMP Fri Jun 9 10:57:30 UTC 2023\n",
            "Disk Space Avail:   11.96 GB / 16.11 GB (74.2%)\n",
            "Train Data Rows:    40920\n",
            "Train Data Columns: 2\n",
            "Label Column: stroke\n",
            "Preprocessing data ...\n",
            "AutoGluon infers your prediction problem is: 'binary' (because only two unique label-values observed).\n",
            "\t2 unique label values:  [1, 0]\n",
            "\tIf 'binary' is not the correct problem_type, please manually specify the problem_type parameter during predictor init (You may specify problem_type as one of: ['binary', 'multiclass', 'regression'])\n",
            "Selected class <--> label mapping:  class 1 = 1, class 0 = 0\n",
            "Using Feature Generators to preprocess the data ...\n",
            "Fitting AutoMLPipelineFeatureGenerator...\n",
            "\tAvailable Memory:                    10841.64 MB\n",
            "\tTrain Data (Original)  Memory Usage: 0.65 MB (0.0% of available memory)\n",
            "\tInferring data type of each feature based on column values. Set feature_metadata_in to manually specify special dtypes of the features.\n",
            "\tStage 1 Generators:\n",
            "\t\tFitting AsTypeFeatureGenerator...\n",
            "\tStage 2 Generators:\n",
            "\t\tFitting FillNaFeatureGenerator...\n",
            "\tStage 3 Generators:\n",
            "\t\tFitting IdentityFeatureGenerator...\n",
            "\tStage 4 Generators:\n",
            "\t\tFitting DropUniqueFeatureGenerator...\n",
            "\tStage 5 Generators:\n",
            "\t\tFitting DropDuplicatesFeatureGenerator...\n",
            "\tTypes of features in original data (raw dtype, special dtypes):\n",
            "\t\t('float', []) : 2 | ['avg_glucose_level', 'bmi']\n",
            "\tTypes of features in processed data (raw dtype, special dtypes):\n",
            "\t\t('float', []) : 2 | ['avg_glucose_level', 'bmi']\n",
            "\t0.2s = Fit runtime\n",
            "\t2 features in original data used to generate 2 features in processed data.\n",
            "\tTrain Data (Processed) Memory Usage: 0.65 MB (0.0% of available memory)\n",
            "Data preprocessing and feature engineering runtime = 0.22s ...\n",
            "AutoGluon will gauge predictive performance using evaluation metric: 'accuracy'\n",
            "\tTo change this, specify the eval_metric parameter of Predictor()\n",
            "Automatically generating train/validation split with holdout_frac=0.06109481915933529, Train Rows: 38420, Val Rows: 2500\n",
            "User-specified model hyperparameters to be fit:\n",
            "{\n",
            "\t'NN_TORCH': {},\n",
            "\t'GBM': [{'extra_trees': True, 'ag_args': {'name_suffix': 'XT'}}, {}, 'GBMLarge'],\n",
            "\t'CAT': {},\n",
            "\t'XGB': {},\n",
            "\t'FASTAI': {},\n",
            "\t'RF': [{'criterion': 'gini', 'ag_args': {'name_suffix': 'Gini', 'problem_types': ['binary', 'multiclass']}}, {'criterion': 'entropy', 'ag_args': {'name_suffix': 'Entr', 'problem_types': ['binary', 'multiclass']}}, {'criterion': 'squared_error', 'ag_args': {'name_suffix': 'MSE', 'problem_types': ['regression', 'quantile']}}],\n",
            "\t'XT': [{'criterion': 'gini', 'ag_args': {'name_suffix': 'Gini', 'problem_types': ['binary', 'multiclass']}}, {'criterion': 'entropy', 'ag_args': {'name_suffix': 'Entr', 'problem_types': ['binary', 'multiclass']}}, {'criterion': 'squared_error', 'ag_args': {'name_suffix': 'MSE', 'problem_types': ['regression', 'quantile']}}],\n",
            "\t'KNN': [{'weights': 'uniform', 'ag_args': {'name_suffix': 'Unif'}}, {'weights': 'distance', 'ag_args': {'name_suffix': 'Dist'}}],\n",
            "}\n",
            "Fitting 13 L1 models ...\n",
            "Fitting model: KNeighborsUnif ...\n",
            "\t1.0\t = Validation score   (accuracy)\n",
            "\t0.03s\t = Training   runtime\n",
            "\t0.03s\t = Validation runtime\n",
            "Fitting model: KNeighborsDist ...\n",
            "\t1.0\t = Validation score   (accuracy)\n",
            "\t0.03s\t = Training   runtime\n",
            "\t0.02s\t = Validation runtime\n",
            "Fitting model: LightGBMXT ...\n"
          ]
        },
        {
          "name": "stdout",
          "output_type": "stream",
          "text": [
            "[1000]\tvalid_set's binary_error: 0.1872\n",
            "[2000]\tvalid_set's binary_error: 0.1176\n",
            "[3000]\tvalid_set's binary_error: 0.0976\n",
            "[4000]\tvalid_set's binary_error: 0.0812\n",
            "[5000]\tvalid_set's binary_error: 0.07\n",
            "[6000]\tvalid_set's binary_error: 0.0628\n",
            "[7000]\tvalid_set's binary_error: 0.058\n",
            "[8000]\tvalid_set's binary_error: 0.0528\n",
            "[9000]\tvalid_set's binary_error: 0.0444\n",
            "[10000]\tvalid_set's binary_error: 0.0408\n"
          ]
        },
        {
          "name": "stderr",
          "output_type": "stream",
          "text": [
            "\t0.9596\t = Validation score   (accuracy)\n",
            "\t27.67s\t = Training   runtime\n",
            "\t2.33s\t = Validation runtime\n",
            "Fitting model: LightGBM ...\n",
            "\t0.9992\t = Validation score   (accuracy)\n",
            "\t2.59s\t = Training   runtime\n",
            "\t0.14s\t = Validation runtime\n",
            "Fitting model: RandomForestGini ...\n",
            "\t1.0\t = Validation score   (accuracy)\n",
            "\t15.27s\t = Training   runtime\n",
            "\t0.27s\t = Validation runtime\n",
            "Fitting model: RandomForestEntr ...\n",
            "\t1.0\t = Validation score   (accuracy)\n",
            "\t9.98s\t = Training   runtime\n",
            "\t0.26s\t = Validation runtime\n",
            "Fitting model: CatBoost ...\n",
            "\t1.0\t = Validation score   (accuracy)\n",
            "\t43.83s\t = Training   runtime\n",
            "\t0.02s\t = Validation runtime\n",
            "Fitting model: ExtraTreesGini ...\n",
            "\t1.0\t = Validation score   (accuracy)\n",
            "\t6.03s\t = Training   runtime\n",
            "\t0.35s\t = Validation runtime\n",
            "Fitting model: ExtraTreesEntr ...\n",
            "\t1.0\t = Validation score   (accuracy)\n",
            "\t5.74s\t = Training   runtime\n",
            "\t0.3s\t = Validation runtime\n",
            "Fitting model: NeuralNetFastAI ...\n",
            "\t0.6676\t = Validation score   (accuracy)\n",
            "\t60.34s\t = Training   runtime\n",
            "\t0.06s\t = Validation runtime\n",
            "Fitting model: XGBoost ...\n",
            "\t0.9988\t = Validation score   (accuracy)\n",
            "\t2.74s\t = Training   runtime\n",
            "\t0.11s\t = Validation runtime\n",
            "Fitting model: NeuralNetTorch ...\n",
            "\t0.9064\t = Validation score   (accuracy)\n",
            "\t436.05s\t = Training   runtime\n",
            "\t0.04s\t = Validation runtime\n",
            "Fitting model: LightGBMLarge ...\n",
            "\t0.9992\t = Validation score   (accuracy)\n",
            "\t3.74s\t = Training   runtime\n",
            "\t0.17s\t = Validation runtime\n",
            "Fitting model: WeightedEnsemble_L2 ...\n",
            "\t1.0\t = Validation score   (accuracy)\n",
            "\t3.08s\t = Training   runtime\n",
            "\t0.01s\t = Validation runtime\n",
            "AutoGluon training complete, total runtime = 624.45s ... Best model: \"WeightedEnsemble_L2\"\n",
            "TabularPredictor saved. To load, use: predictor = TabularPredictor.load(\"AutogluonModels/ag-20230831_092536/\")\n"
          ]
        },
        {
          "name": "stdout",
          "output_type": "stream",
          "text": [
            "                  model  score_val  pred_time_val    fit_time  pred_time_val_marginal  fit_time_marginal  stack_level  can_infer  fit_order\n",
            "0              CatBoost     1.0000       0.016037   43.830332                0.016037          43.830332            1       True          7\n",
            "1        KNeighborsDist     1.0000       0.020126    0.034176                0.020126           0.034176            1       True          2\n",
            "2   WeightedEnsemble_L2     1.0000       0.025358   46.912814                0.009321           3.082482            2       True         14\n",
            "3        KNeighborsUnif     1.0000       0.033831    0.031796                0.033831           0.031796            1       True          1\n",
            "4      RandomForestEntr     1.0000       0.262403    9.981746                0.262403           9.981746            1       True          6\n",
            "5      RandomForestGini     1.0000       0.271477   15.266491                0.271477          15.266491            1       True          5\n",
            "6        ExtraTreesEntr     1.0000       0.298725    5.744023                0.298725           5.744023            1       True          9\n",
            "7        ExtraTreesGini     1.0000       0.354191    6.030698                0.354191           6.030698            1       True          8\n",
            "8              LightGBM     0.9992       0.143571    2.593411                0.143571           2.593411            1       True          4\n",
            "9         LightGBMLarge     0.9992       0.169393    3.742433                0.169393           3.742433            1       True         13\n",
            "10              XGBoost     0.9988       0.112278    2.740916                0.112278           2.740916            1       True         11\n",
            "11           LightGBMXT     0.9596       2.331835   27.668519                2.331835          27.668519            1       True          3\n",
            "12       NeuralNetTorch     0.9064       0.039485  436.049201                0.039485         436.049201            1       True         12\n",
            "13      NeuralNetFastAI     0.6676       0.056702   60.337784                0.056702          60.337784            1       True         10\n"
          ]
        }
      ],
      "source": [
        "Stroke_data =pd.DataFrame(X[['avg_glucose_level', 'bmi']])\n",
        "Stroke_data['stroke']=y\n",
        "predictor_combined = TabularPredictor(\n",
        "    label=\"stroke\",\n",
        "\n",
        ").fit(\n",
        "    train_data=Stroke_data,\n",
        "\n",
        ")\n",
        "greywolf_dataset4=predictor_combined.leaderboard()"
      ],
      "id": "0b1d61b1-44cb-4785-a12f-fd3c850f51c0"
    },
    {
      "cell_type": "markdown",
      "metadata": {
        "id": "ca2b396e-9065-4528-bd2f-15a2087dd3aa"
      },
      "source": [
        "## Dataset5"
      ],
      "id": "ca2b396e-9065-4528-bd2f-15a2087dd3aa"
    },
    {
      "cell_type": "code",
      "execution_count": null,
      "metadata": {
        "id": "9850c7dd-9ee0-46b0-9b3a-e4750d6626a4"
      },
      "outputs": [],
      "source": [
        "stroke5 = pd.read_csv('stroke/stroke12.csv')"
      ],
      "id": "9850c7dd-9ee0-46b0-9b3a-e4750d6626a4"
    },
    {
      "cell_type": "code",
      "execution_count": null,
      "metadata": {
        "id": "bf43abf7-6251-4f56-b06e-4a30d426ea2f"
      },
      "outputs": [],
      "source": [
        "stroke5=preprocess_dataset(stroke5)\n",
        "X = stroke5.drop(['stroke'],axis=1)\n",
        "y = stroke5['stroke']\n",
        "\n",
        "from imblearn.over_sampling import SMOTE\n",
        "# Assuming X and y are your feature matrix and target variable, respectively\n",
        "smote = SMOTE()\n",
        "X, y = smote.fit_resample(X, y)\n",
        "X_train, X_test, y_train, y_test = train_test_split(X, y, test_size=0.2,random_state=42)"
      ],
      "id": "bf43abf7-6251-4f56-b06e-4a30d426ea2f"
    },
    {
      "cell_type": "code",
      "execution_count": null,
      "metadata": {
        "id": "9ff5da17-771d-4d5f-95a2-2095c13938cc",
        "outputId": "85dc50ad-2e54-44e6-c0c7-0ba1936d6a85"
      },
      "outputs": [
        {
          "name": "stderr",
          "output_type": "stream",
          "text": [
            "Iterations: 100%|██████████| 20/20 [01:29<00:00,  4.47s/iteration]\n"
          ]
        }
      ],
      "source": [
        "num_iterations = 20\n",
        "results, features, dims, scores = run_gwo_optimization(num_iterations, X_train, y_train, X_test, y_test)\n"
      ],
      "id": "9ff5da17-771d-4d5f-95a2-2095c13938cc"
    },
    {
      "cell_type": "code",
      "execution_count": null,
      "metadata": {
        "id": "5d5be857-157d-4149-ba21-012c04798fcb",
        "outputId": "17d99f09-abee-4e7c-f66e-b632f3b10d56"
      },
      "outputs": [
        {
          "data": {
            "text/plain": [
              "[['age', 'heart_disease', 'Residence_type', 'smoking_status'],\n",
              " ['gender', 'age', 'heart_disease', 'bmi', 'smoking_status'],\n",
              " ['ever_married', 'work_type', 'bmi', 'smoking_status'],\n",
              " ['ever_married', 'work_type', 'bmi', 'smoking_status'],\n",
              " ['ever_married', 'work_type', 'bmi', 'smoking_status'],\n",
              " ['age', 'heart_disease', 'Residence_type', 'smoking_status'],\n",
              " ['ever_married', 'work_type', 'bmi', 'smoking_status'],\n",
              " ['age', 'heart_disease', 'Residence_type', 'smoking_status'],\n",
              " ['gender', 'age', 'heart_disease', 'bmi', 'smoking_status'],\n",
              " ['age', 'heart_disease', 'Residence_type', 'smoking_status'],\n",
              " ['age', 'heart_disease', 'Residence_type', 'smoking_status'],\n",
              " ['ever_married', 'work_type', 'bmi', 'smoking_status'],\n",
              " ['ever_married', 'work_type', 'bmi', 'smoking_status'],\n",
              " ['age', 'heart_disease', 'Residence_type', 'smoking_status'],\n",
              " ['gender', 'age', 'heart_disease', 'bmi', 'smoking_status'],\n",
              " ['gender', 'age', 'heart_disease', 'bmi', 'smoking_status'],\n",
              " ['ever_married', 'work_type', 'bmi', 'smoking_status'],\n",
              " ['gender', 'age', 'heart_disease', 'bmi', 'smoking_status'],\n",
              " ['age', 'heart_disease', 'Residence_type', 'smoking_status'],\n",
              " ['gender', 'age', 'heart_disease', 'bmi', 'smoking_status']]"
            ]
          },
          "execution_count": 131,
          "metadata": {},
          "output_type": "execute_result"
        }
      ],
      "source": [
        "features"
      ],
      "id": "5d5be857-157d-4149-ba21-012c04798fcb"
    },
    {
      "cell_type": "code",
      "execution_count": null,
      "metadata": {
        "id": "656aa626-6358-4339-aace-7021a8e3dbb9",
        "outputId": "7030ce8e-0262-4000-ac93-e3322f389250"
      },
      "outputs": [
        {
          "name": "stderr",
          "output_type": "stream",
          "text": [
            "Iterations: 100%|██████████| 10/10 [00:43<00:00,  4.30s/iteration]\n"
          ]
        }
      ],
      "source": [
        "num_iterations = 10\n",
        "results, features, dims, scores = run_gwo_optimization(num_iterations, X_train, y_train, X_test, y_test)"
      ],
      "id": "656aa626-6358-4339-aace-7021a8e3dbb9"
    },
    {
      "cell_type": "code",
      "execution_count": null,
      "metadata": {
        "id": "fe5f1a5e-1c62-4c69-8104-e1e178b3b45f",
        "outputId": "9dbf3e73-3507-4993-9381-6a06281cbe61"
      },
      "outputs": [
        {
          "data": {
            "text/plain": [
              "[['gender', 'age', 'heart_disease', 'bmi', 'smoking_status'],\n",
              " ['age',\n",
              "  'hypertension',\n",
              "  'heart_disease',\n",
              "  'Residence_type',\n",
              "  'bmi',\n",
              "  'smoking_status'],\n",
              " ['ever_married', 'work_type', 'bmi', 'smoking_status'],\n",
              " ['ever_married', 'work_type', 'bmi', 'smoking_status'],\n",
              " ['gender', 'age', 'heart_disease', 'bmi', 'smoking_status'],\n",
              " ['age', 'heart_disease', 'Residence_type', 'smoking_status'],\n",
              " ['ever_married', 'work_type', 'bmi', 'smoking_status'],\n",
              " ['age', 'heart_disease', 'Residence_type', 'smoking_status'],\n",
              " ['age', 'heart_disease', 'Residence_type', 'smoking_status'],\n",
              " ['gender', 'age', 'heart_disease', 'bmi', 'smoking_status']]"
            ]
          },
          "execution_count": 133,
          "metadata": {},
          "output_type": "execute_result"
        }
      ],
      "source": [
        "features"
      ],
      "id": "fe5f1a5e-1c62-4c69-8104-e1e178b3b45f"
    },
    {
      "cell_type": "code",
      "execution_count": null,
      "metadata": {
        "colab": {
          "base_uri": "https://localhost:8080/"
        },
        "id": "86819138-3606-44b9-8066-5528150a6a0e",
        "outputId": "87a0986e-9701-4211-fa5e-9ec341ecfcfa"
      },
      "outputs": [
        {
          "name": "stderr",
          "output_type": "stream",
          "text": [
            "No path specified. Models will be saved in: \"AutogluonModels/ag-20230831_093601/\"\n",
            "Beginning AutoGluon training ...\n",
            "AutoGluon will save models to \"AutogluonModels/ag-20230831_093601/\"\n",
            "AutoGluon Version:  0.8.2\n",
            "Python Version:     3.10.12\n",
            "Operating System:   Linux\n",
            "Platform Machine:   x86_64\n",
            "Platform Version:   #1 SMP Fri Jun 9 10:57:30 UTC 2023\n",
            "Disk Space Avail:   11.81 GB / 16.11 GB (73.3%)\n",
            "Train Data Rows:    322\n",
            "Train Data Columns: 6\n",
            "Label Column: stroke\n",
            "Preprocessing data ...\n",
            "AutoGluon infers your prediction problem is: 'binary' (because only two unique label-values observed).\n",
            "\t2 unique label values:  [1, 0]\n",
            "\tIf 'binary' is not the correct problem_type, please manually specify the problem_type parameter during predictor init (You may specify problem_type as one of: ['binary', 'multiclass', 'regression'])\n",
            "Selected class <--> label mapping:  class 1 = 1, class 0 = 0\n",
            "Using Feature Generators to preprocess the data ...\n",
            "Fitting AutoMLPipelineFeatureGenerator...\n",
            "\tAvailable Memory:                    10868.71 MB\n",
            "\tTrain Data (Original)  Memory Usage: 0.02 MB (0.0% of available memory)\n",
            "\tInferring data type of each feature based on column values. Set feature_metadata_in to manually specify special dtypes of the features.\n",
            "\tStage 1 Generators:\n",
            "\t\tFitting AsTypeFeatureGenerator...\n",
            "\t\t\tNote: Converting 3 features to boolean dtype as they only contain 2 unique values.\n",
            "\tStage 2 Generators:\n",
            "\t\tFitting FillNaFeatureGenerator...\n",
            "\tStage 3 Generators:\n",
            "\t\tFitting IdentityFeatureGenerator...\n",
            "\tStage 4 Generators:\n",
            "\t\tFitting DropUniqueFeatureGenerator...\n",
            "\tStage 5 Generators:\n",
            "\t\tFitting DropDuplicatesFeatureGenerator...\n",
            "\tTypes of features in original data (raw dtype, special dtypes):\n",
            "\t\t('float', []) : 2 | ['age', 'bmi']\n",
            "\t\t('int', [])   : 4 | ['hypertension', 'heart_disease', 'Residence_type', 'smoking_status']\n",
            "\tTypes of features in processed data (raw dtype, special dtypes):\n",
            "\t\t('float', [])     : 2 | ['age', 'bmi']\n",
            "\t\t('int', [])       : 1 | ['smoking_status']\n",
            "\t\t('int', ['bool']) : 3 | ['hypertension', 'heart_disease', 'Residence_type']\n",
            "\t0.1s = Fit runtime\n",
            "\t6 features in original data used to generate 6 features in processed data.\n",
            "\tTrain Data (Processed) Memory Usage: 0.01 MB (0.0% of available memory)\n",
            "Data preprocessing and feature engineering runtime = 0.15s ...\n",
            "AutoGluon will gauge predictive performance using evaluation metric: 'accuracy'\n",
            "\tTo change this, specify the eval_metric parameter of Predictor()\n",
            "Automatically generating train/validation split with holdout_frac=0.2, Train Rows: 257, Val Rows: 65\n",
            "User-specified model hyperparameters to be fit:\n",
            "{\n",
            "\t'NN_TORCH': {},\n",
            "\t'GBM': [{'extra_trees': True, 'ag_args': {'name_suffix': 'XT'}}, {}, 'GBMLarge'],\n",
            "\t'CAT': {},\n",
            "\t'XGB': {},\n",
            "\t'FASTAI': {},\n",
            "\t'RF': [{'criterion': 'gini', 'ag_args': {'name_suffix': 'Gini', 'problem_types': ['binary', 'multiclass']}}, {'criterion': 'entropy', 'ag_args': {'name_suffix': 'Entr', 'problem_types': ['binary', 'multiclass']}}, {'criterion': 'squared_error', 'ag_args': {'name_suffix': 'MSE', 'problem_types': ['regression', 'quantile']}}],\n",
            "\t'XT': [{'criterion': 'gini', 'ag_args': {'name_suffix': 'Gini', 'problem_types': ['binary', 'multiclass']}}, {'criterion': 'entropy', 'ag_args': {'name_suffix': 'Entr', 'problem_types': ['binary', 'multiclass']}}, {'criterion': 'squared_error', 'ag_args': {'name_suffix': 'MSE', 'problem_types': ['regression', 'quantile']}}],\n",
            "\t'KNN': [{'weights': 'uniform', 'ag_args': {'name_suffix': 'Unif'}}, {'weights': 'distance', 'ag_args': {'name_suffix': 'Dist'}}],\n",
            "}\n",
            "Fitting 13 L1 models ...\n",
            "Fitting model: KNeighborsUnif ...\n",
            "\t0.7692\t = Validation score   (accuracy)\n",
            "\t0.01s\t = Training   runtime\n",
            "\t0.02s\t = Validation runtime\n",
            "Fitting model: KNeighborsDist ...\n",
            "\t0.7538\t = Validation score   (accuracy)\n",
            "\t0.01s\t = Training   runtime\n",
            "\t0.02s\t = Validation runtime\n",
            "Fitting model: LightGBMXT ...\n",
            "\t0.8308\t = Validation score   (accuracy)\n",
            "\t0.24s\t = Training   runtime\n",
            "\t0.0s\t = Validation runtime\n",
            "Fitting model: LightGBM ...\n",
            "\t0.8462\t = Validation score   (accuracy)\n",
            "\t0.24s\t = Training   runtime\n",
            "\t0.0s\t = Validation runtime\n",
            "Fitting model: RandomForestGini ...\n",
            "\t0.7846\t = Validation score   (accuracy)\n",
            "\t0.69s\t = Training   runtime\n",
            "\t0.07s\t = Validation runtime\n",
            "Fitting model: RandomForestEntr ...\n",
            "\t0.7692\t = Validation score   (accuracy)\n",
            "\t0.7s\t = Training   runtime\n",
            "\t0.06s\t = Validation runtime\n",
            "Fitting model: CatBoost ...\n",
            "\t0.8923\t = Validation score   (accuracy)\n",
            "\t0.43s\t = Training   runtime\n",
            "\t0.0s\t = Validation runtime\n",
            "Fitting model: ExtraTreesGini ...\n",
            "\t0.8\t = Validation score   (accuracy)\n",
            "\t0.69s\t = Training   runtime\n",
            "\t0.07s\t = Validation runtime\n",
            "Fitting model: ExtraTreesEntr ...\n",
            "\t0.8\t = Validation score   (accuracy)\n",
            "\t0.86s\t = Training   runtime\n",
            "\t0.07s\t = Validation runtime\n",
            "Fitting model: NeuralNetFastAI ...\n",
            "No improvement since epoch 6: early stopping\n",
            "\t0.8615\t = Validation score   (accuracy)\n",
            "\t0.8s\t = Training   runtime\n",
            "\t0.01s\t = Validation runtime\n",
            "Fitting model: XGBoost ...\n",
            "\t0.8769\t = Validation score   (accuracy)\n",
            "\t0.2s\t = Training   runtime\n",
            "\t0.01s\t = Validation runtime\n",
            "Fitting model: NeuralNetTorch ...\n",
            "\t0.8615\t = Validation score   (accuracy)\n",
            "\t1.68s\t = Training   runtime\n",
            "\t0.01s\t = Validation runtime\n",
            "Fitting model: LightGBMLarge ...\n",
            "\t0.8769\t = Validation score   (accuracy)\n",
            "\t0.42s\t = Training   runtime\n",
            "\t0.0s\t = Validation runtime\n",
            "Fitting model: WeightedEnsemble_L2 ...\n",
            "\t0.8923\t = Validation score   (accuracy)\n",
            "\t1.34s\t = Training   runtime\n",
            "\t0.0s\t = Validation runtime\n",
            "AutoGluon training complete, total runtime = 9.64s ... Best model: \"WeightedEnsemble_L2\"\n",
            "TabularPredictor saved. To load, use: predictor = TabularPredictor.load(\"AutogluonModels/ag-20230831_093601/\")\n"
          ]
        },
        {
          "name": "stdout",
          "output_type": "stream",
          "text": [
            "                  model  score_val  pred_time_val  fit_time  pred_time_val_marginal  fit_time_marginal  stack_level  can_infer  fit_order\n",
            "0              CatBoost   0.892308       0.002084  0.433392                0.002084           0.433392            1       True          7\n",
            "1   WeightedEnsemble_L2   0.892308       0.003529  1.769680                0.001445           1.336288            2       True         14\n",
            "2         LightGBMLarge   0.876923       0.003101  0.423799                0.003101           0.423799            1       True         13\n",
            "3               XGBoost   0.876923       0.006238  0.198725                0.006238           0.198725            1       True         11\n",
            "4        NeuralNetTorch   0.861538       0.013143  1.675428                0.013143           1.675428            1       True         12\n",
            "5       NeuralNetFastAI   0.861538       0.014190  0.804051                0.014190           0.804051            1       True         10\n",
            "6              LightGBM   0.846154       0.002281  0.240602                0.002281           0.240602            1       True          4\n",
            "7            LightGBMXT   0.830769       0.002303  0.239583                0.002303           0.239583            1       True          3\n",
            "8        ExtraTreesGini   0.800000       0.067322  0.693481                0.067322           0.693481            1       True          8\n",
            "9        ExtraTreesEntr   0.800000       0.068074  0.857480                0.068074           0.857480            1       True          9\n",
            "10     RandomForestGini   0.784615       0.067108  0.687173                0.067108           0.687173            1       True          5\n",
            "11       KNeighborsUnif   0.769231       0.021581  0.012733                0.021581           0.012733            1       True          1\n",
            "12     RandomForestEntr   0.769231       0.056237  0.701448                0.056237           0.701448            1       True          6\n",
            "13       KNeighborsDist   0.753846       0.016616  0.009410                0.016616           0.009410            1       True          2\n"
          ]
        }
      ],
      "source": [
        "Stroke_data =pd.DataFrame(X[['age',\n",
        "  'hypertension',\n",
        "  'heart_disease',\n",
        "  'Residence_type',\n",
        "  'bmi',\n",
        "  'smoking_status']])\n",
        "Stroke_data['stroke']=y\n",
        "predictor_combined = TabularPredictor(\n",
        "    label=\"stroke\",\n",
        "\n",
        ").fit(\n",
        "    train_data=Stroke_data,\n",
        "\n",
        ")\n",
        "greywolf_dataset5=predictor_combined.leaderboard()"
      ],
      "id": "86819138-3606-44b9-8066-5528150a6a0e"
    },
    {
      "cell_type": "markdown",
      "metadata": {
        "id": "2c7b59a8-28d2-41ee-b81d-5b2c96dcf9bf"
      },
      "source": [
        "## Dataset6"
      ],
      "id": "2c7b59a8-28d2-41ee-b81d-5b2c96dcf9bf"
    },
    {
      "cell_type": "code",
      "execution_count": null,
      "metadata": {
        "id": "d4c8b6d4-c368-439d-b5d2-ec25af12b849"
      },
      "outputs": [],
      "source": [
        "stroke6 = pd.read_csv('stroke/stroke 13.csv')"
      ],
      "id": "d4c8b6d4-c368-439d-b5d2-ec25af12b849"
    },
    {
      "cell_type": "code",
      "execution_count": null,
      "metadata": {
        "id": "da941e5c-b169-468c-939b-af43a2e2e131"
      },
      "outputs": [],
      "source": [
        "X = stroke6.drop(['target'],axis=1)\n",
        "y = stroke6['target']\n",
        "\n",
        "from imblearn.over_sampling import SMOTE\n",
        "# Assuming X and y are your feature matrix and target variable, respectively\n",
        "smote = SMOTE()\n",
        "X, y = smote.fit_resample(X, y)\n",
        "X_train, X_test, y_train, y_test = train_test_split(X, y, test_size=0.2,random_state=42)"
      ],
      "id": "da941e5c-b169-468c-939b-af43a2e2e131"
    },
    {
      "cell_type": "code",
      "execution_count": null,
      "metadata": {
        "id": "200f3684-9d1b-4cd6-86a9-62caeb0233cf",
        "outputId": "345cca31-d664-4524-9cb0-c140dfd91991"
      },
      "outputs": [
        {
          "name": "stderr",
          "output_type": "stream",
          "text": [
            "Iterations: 100%|██████████| 20/20 [02:36<00:00,  7.82s/iteration]\n"
          ]
        }
      ],
      "source": [
        "num_iterations = 20\n",
        "results, features, dims, scores = run_gwo_optimization(num_iterations, X_train, y_train, X_test, y_test)"
      ],
      "id": "200f3684-9d1b-4cd6-86a9-62caeb0233cf"
    },
    {
      "cell_type": "code",
      "execution_count": null,
      "metadata": {
        "id": "48f9c087-519b-4361-83c7-3510cf881f0f",
        "outputId": "387f7af7-dc9f-4036-aa4c-710ec2a0fdea"
      },
      "outputs": [
        {
          "data": {
            "text/plain": [
              "[['cp', 'fbs', 'restecg', 'exang', 'slope', 'ca', 'thal'],\n",
              " ['age', 'sex', 'cp', 'restecg', 'oldpeak', 'slope', 'ca', 'thal'],\n",
              " ['age', 'sex', 'cp', 'fbs', 'restecg', 'oldpeak', 'slope', 'ca', 'thal'],\n",
              " ['age', 'sex', 'cp', 'restecg', 'oldpeak', 'slope', 'ca', 'thal'],\n",
              " ['age', 'sex', 'cp', 'fbs', 'restecg', 'oldpeak', 'ca', 'thal'],\n",
              " ['cp', 'fbs', 'restecg', 'exang', 'slope', 'ca', 'thal'],\n",
              " ['age', 'sex', 'cp', 'restecg', 'oldpeak', 'slope', 'ca', 'thal'],\n",
              " ['cp', 'fbs', 'restecg', 'slope', 'ca', 'thal'],\n",
              " ['cp', 'fbs', 'restecg', 'exang', 'slope', 'ca', 'thal'],\n",
              " ['sex', 'cp', 'restecg', 'oldpeak', 'slope', 'ca', 'thal'],\n",
              " ['age', 'sex', 'cp', 'restecg', 'oldpeak', 'ca', 'thal'],\n",
              " ['sex', 'cp', 'restecg', 'exang', 'slope', 'ca', 'thal'],\n",
              " ['age', 'sex', 'cp', 'restecg', 'oldpeak', 'slope', 'ca', 'thal'],\n",
              " ['cp', 'restecg', 'exang', 'slope', 'ca', 'thal'],\n",
              " ['age', 'sex', 'cp', 'restecg', 'oldpeak', 'ca', 'thal'],\n",
              " ['age', 'sex', 'cp', 'restecg', 'oldpeak', 'ca', 'thal'],\n",
              " ['age', 'sex', 'cp', 'restecg', 'oldpeak', 'slope', 'ca', 'thal'],\n",
              " ['cp', 'fbs', 'restecg', 'slope', 'ca', 'thal'],\n",
              " ['age', 'sex', 'cp', 'restecg', 'oldpeak', 'slope', 'ca', 'thal'],\n",
              " ['cp', 'restecg', 'exang', 'slope', 'ca', 'thal']]"
            ]
          },
          "execution_count": 137,
          "metadata": {},
          "output_type": "execute_result"
        }
      ],
      "source": [
        "features"
      ],
      "id": "48f9c087-519b-4361-83c7-3510cf881f0f"
    },
    {
      "cell_type": "code",
      "execution_count": null,
      "metadata": {
        "id": "1b885b39-0d7c-4c13-ad93-992c6739301e"
      },
      "outputs": [],
      "source": [],
      "id": "1b885b39-0d7c-4c13-ad93-992c6739301e"
    },
    {
      "cell_type": "code",
      "execution_count": null,
      "metadata": {
        "id": "649bdc29-80d0-4a2a-b1ad-8046cd2df4e6",
        "outputId": "ea175fab-07ce-40d6-c300-76b4b6e4d42b"
      },
      "outputs": [
        {
          "name": "stderr",
          "output_type": "stream",
          "text": [
            "Iterations: 100%|██████████| 10/10 [01:11<00:00,  7.15s/iteration]\n"
          ]
        }
      ],
      "source": [
        "num_iterations = 10\n",
        "results, features, dims, scores = run_gwo_optimization(num_iterations, X_train, y_train, X_test, y_test)"
      ],
      "id": "649bdc29-80d0-4a2a-b1ad-8046cd2df4e6"
    },
    {
      "cell_type": "code",
      "execution_count": null,
      "metadata": {
        "id": "853c6851-4c0a-44f4-a76c-28dbfbeb5f87",
        "outputId": "82259c12-ca2e-4b1c-8e69-47b6e650a829"
      },
      "outputs": [
        {
          "data": {
            "text/plain": [
              "[['age', 'sex', 'cp', 'fbs', 'restecg', 'oldpeak', 'slope', 'ca', 'thal'],\n",
              " ['age', 'sex', 'cp', 'restecg', 'oldpeak', 'ca', 'thal'],\n",
              " ['fbs', 'exang', 'oldpeak', 'slope', 'ca', 'thal'],\n",
              " ['cp', 'fbs', 'restecg', 'exang', 'slope', 'ca', 'thal'],\n",
              " ['cp', 'fbs', 'restecg', 'slope', 'ca', 'thal'],\n",
              " ['age', 'sex', 'cp', 'restecg', 'oldpeak', 'ca', 'thal'],\n",
              " ['age', 'sex', 'cp', 'restecg', 'oldpeak', 'ca', 'thal'],\n",
              " ['cp', 'restecg', 'exang', 'slope', 'ca', 'thal'],\n",
              " ['age', 'sex', 'cp', 'restecg', 'oldpeak', 'slope', 'ca', 'thal'],\n",
              " ['cp', 'restecg', 'exang', 'slope', 'ca', 'thal']]"
            ]
          },
          "execution_count": 139,
          "metadata": {},
          "output_type": "execute_result"
        }
      ],
      "source": [
        "features"
      ],
      "id": "853c6851-4c0a-44f4-a76c-28dbfbeb5f87"
    },
    {
      "cell_type": "code",
      "execution_count": null,
      "metadata": {
        "colab": {
          "base_uri": "https://localhost:8080/"
        },
        "id": "534a4b15-9650-4c85-bddb-a6222b1ed893",
        "outputId": "12e1f58b-5d74-4f4f-b69b-fae8c2f4eb9e"
      },
      "outputs": [
        {
          "name": "stderr",
          "output_type": "stream",
          "text": [
            "No path specified. Models will be saved in: \"AutogluonModels/ag-20230831_093612/\"\n",
            "Beginning AutoGluon training ...\n",
            "AutoGluon will save models to \"AutogluonModels/ag-20230831_093612/\"\n",
            "AutoGluon Version:  0.8.2\n",
            "Python Version:     3.10.12\n",
            "Operating System:   Linux\n",
            "Platform Machine:   x86_64\n",
            "Platform Version:   #1 SMP Fri Jun 9 10:57:30 UTC 2023\n",
            "Disk Space Avail:   11.81 GB / 16.11 GB (73.3%)\n",
            "Train Data Rows:    330\n",
            "Train Data Columns: 9\n",
            "Label Column: stroke\n",
            "Preprocessing data ...\n",
            "AutoGluon infers your prediction problem is: 'binary' (because only two unique label-values observed).\n",
            "\t2 unique label values:  [1, 0]\n",
            "\tIf 'binary' is not the correct problem_type, please manually specify the problem_type parameter during predictor init (You may specify problem_type as one of: ['binary', 'multiclass', 'regression'])\n",
            "Selected class <--> label mapping:  class 1 = 1, class 0 = 0\n",
            "Using Feature Generators to preprocess the data ...\n",
            "Fitting AutoMLPipelineFeatureGenerator...\n",
            "\tAvailable Memory:                    10886.84 MB\n",
            "\tTrain Data (Original)  Memory Usage: 0.02 MB (0.0% of available memory)\n",
            "\tInferring data type of each feature based on column values. Set feature_metadata_in to manually specify special dtypes of the features.\n",
            "\tStage 1 Generators:\n",
            "\t\tFitting AsTypeFeatureGenerator...\n",
            "\t\t\tNote: Converting 2 features to boolean dtype as they only contain 2 unique values.\n",
            "\tStage 2 Generators:\n",
            "\t\tFitting FillNaFeatureGenerator...\n",
            "\tStage 3 Generators:\n",
            "\t\tFitting IdentityFeatureGenerator...\n",
            "\tStage 4 Generators:\n",
            "\t\tFitting DropUniqueFeatureGenerator...\n",
            "\tStage 5 Generators:\n",
            "\t\tFitting DropDuplicatesFeatureGenerator...\n",
            "\tTypes of features in original data (raw dtype, special dtypes):\n",
            "\t\t('float', []) : 1 | ['oldpeak']\n",
            "\t\t('int', [])   : 8 | ['age', 'sex', 'cp', 'fbs', 'restecg', ...]\n",
            "\tTypes of features in processed data (raw dtype, special dtypes):\n",
            "\t\t('float', [])     : 1 | ['oldpeak']\n",
            "\t\t('int', [])       : 6 | ['age', 'cp', 'restecg', 'slope', 'ca', ...]\n",
            "\t\t('int', ['bool']) : 2 | ['sex', 'fbs']\n",
            "\t0.1s = Fit runtime\n",
            "\t9 features in original data used to generate 9 features in processed data.\n",
            "\tTrain Data (Processed) Memory Usage: 0.02 MB (0.0% of available memory)\n",
            "Data preprocessing and feature engineering runtime = 0.14s ...\n",
            "AutoGluon will gauge predictive performance using evaluation metric: 'accuracy'\n",
            "\tTo change this, specify the eval_metric parameter of Predictor()\n",
            "Automatically generating train/validation split with holdout_frac=0.2, Train Rows: 264, Val Rows: 66\n",
            "User-specified model hyperparameters to be fit:\n",
            "{\n",
            "\t'NN_TORCH': {},\n",
            "\t'GBM': [{'extra_trees': True, 'ag_args': {'name_suffix': 'XT'}}, {}, 'GBMLarge'],\n",
            "\t'CAT': {},\n",
            "\t'XGB': {},\n",
            "\t'FASTAI': {},\n",
            "\t'RF': [{'criterion': 'gini', 'ag_args': {'name_suffix': 'Gini', 'problem_types': ['binary', 'multiclass']}}, {'criterion': 'entropy', 'ag_args': {'name_suffix': 'Entr', 'problem_types': ['binary', 'multiclass']}}, {'criterion': 'squared_error', 'ag_args': {'name_suffix': 'MSE', 'problem_types': ['regression', 'quantile']}}],\n",
            "\t'XT': [{'criterion': 'gini', 'ag_args': {'name_suffix': 'Gini', 'problem_types': ['binary', 'multiclass']}}, {'criterion': 'entropy', 'ag_args': {'name_suffix': 'Entr', 'problem_types': ['binary', 'multiclass']}}, {'criterion': 'squared_error', 'ag_args': {'name_suffix': 'MSE', 'problem_types': ['regression', 'quantile']}}],\n",
            "\t'KNN': [{'weights': 'uniform', 'ag_args': {'name_suffix': 'Unif'}}, {'weights': 'distance', 'ag_args': {'name_suffix': 'Dist'}}],\n",
            "}\n",
            "Fitting 13 L1 models ...\n",
            "Fitting model: KNeighborsUnif ...\n",
            "\t0.8333\t = Validation score   (accuracy)\n",
            "\t0.01s\t = Training   runtime\n",
            "\t0.02s\t = Validation runtime\n",
            "Fitting model: KNeighborsDist ...\n",
            "\t0.8485\t = Validation score   (accuracy)\n",
            "\t0.01s\t = Training   runtime\n",
            "\t0.02s\t = Validation runtime\n",
            "Fitting model: LightGBMXT ...\n",
            "\t0.8939\t = Validation score   (accuracy)\n",
            "\t0.33s\t = Training   runtime\n",
            "\t0.0s\t = Validation runtime\n",
            "Fitting model: LightGBM ...\n",
            "\t0.8636\t = Validation score   (accuracy)\n",
            "\t0.36s\t = Training   runtime\n",
            "\t0.0s\t = Validation runtime\n",
            "Fitting model: RandomForestGini ...\n",
            "\t0.8182\t = Validation score   (accuracy)\n",
            "\t0.91s\t = Training   runtime\n",
            "\t0.08s\t = Validation runtime\n",
            "Fitting model: RandomForestEntr ...\n",
            "\t0.8182\t = Validation score   (accuracy)\n",
            "\t0.98s\t = Training   runtime\n",
            "\t0.08s\t = Validation runtime\n",
            "Fitting model: CatBoost ...\n",
            "\t0.8939\t = Validation score   (accuracy)\n",
            "\t0.52s\t = Training   runtime\n",
            "\t0.0s\t = Validation runtime\n",
            "Fitting model: ExtraTreesGini ...\n",
            "\t0.8333\t = Validation score   (accuracy)\n",
            "\t0.9s\t = Training   runtime\n",
            "\t0.08s\t = Validation runtime\n",
            "Fitting model: ExtraTreesEntr ...\n",
            "\t0.8333\t = Validation score   (accuracy)\n",
            "\t0.91s\t = Training   runtime\n",
            "\t0.08s\t = Validation runtime\n",
            "Fitting model: NeuralNetFastAI ...\n",
            "No improvement since epoch 4: early stopping\n",
            "\t0.8939\t = Validation score   (accuracy)\n",
            "\t0.81s\t = Training   runtime\n",
            "\t0.01s\t = Validation runtime\n",
            "Fitting model: XGBoost ...\n",
            "\t0.8485\t = Validation score   (accuracy)\n",
            "\t0.21s\t = Training   runtime\n",
            "\t0.01s\t = Validation runtime\n",
            "Fitting model: NeuralNetTorch ...\n",
            "\t0.8636\t = Validation score   (accuracy)\n",
            "\t1.06s\t = Training   runtime\n",
            "\t0.01s\t = Validation runtime\n",
            "Fitting model: LightGBMLarge ...\n",
            "\t0.8636\t = Validation score   (accuracy)\n",
            "\t0.32s\t = Training   runtime\n",
            "\t0.0s\t = Validation runtime\n",
            "Fitting model: WeightedEnsemble_L2 ...\n",
            "\t0.8939\t = Validation score   (accuracy)\n",
            "\t0.79s\t = Training   runtime\n",
            "\t0.0s\t = Validation runtime\n",
            "AutoGluon training complete, total runtime = 9.55s ... Best model: \"WeightedEnsemble_L2\"\n",
            "TabularPredictor saved. To load, use: predictor = TabularPredictor.load(\"AutogluonModels/ag-20230831_093612/\")\n"
          ]
        },
        {
          "name": "stdout",
          "output_type": "stream",
          "text": [
            "                  model  score_val  pred_time_val  fit_time  pred_time_val_marginal  fit_time_marginal  stack_level  can_infer  fit_order\n",
            "0              CatBoost   0.893939       0.002844  0.523227                0.002844           0.523227            1       True          7\n",
            "1            LightGBMXT   0.893939       0.003334  0.328904                0.003334           0.328904            1       True          3\n",
            "2   WeightedEnsemble_L2   0.893939       0.004204  1.115063                0.000870           0.786158            2       True         14\n",
            "3       NeuralNetFastAI   0.893939       0.014028  0.811162                0.014028           0.811162            1       True         10\n",
            "4         LightGBMLarge   0.863636       0.002306  0.324585                0.002306           0.324585            1       True         13\n",
            "5              LightGBM   0.863636       0.003648  0.355035                0.003648           0.355035            1       True          4\n",
            "6        NeuralNetTorch   0.863636       0.009833  1.059853                0.009833           1.059853            1       True         12\n",
            "7               XGBoost   0.848485       0.006366  0.210951                0.006366           0.210951            1       True         11\n",
            "8        KNeighborsDist   0.848485       0.023168  0.013688                0.023168           0.013688            1       True          2\n",
            "9        KNeighborsUnif   0.833333       0.015579  0.010855                0.015579           0.010855            1       True          1\n",
            "10       ExtraTreesGini   0.833333       0.078139  0.897642                0.078139           0.897642            1       True          8\n",
            "11       ExtraTreesEntr   0.833333       0.079397  0.909942                0.079397           0.909942            1       True          9\n",
            "12     RandomForestEntr   0.818182       0.078646  0.980568                0.078646           0.980568            1       True          6\n",
            "13     RandomForestGini   0.818182       0.078920  0.906296                0.078920           0.906296            1       True          5\n"
          ]
        }
      ],
      "source": [
        "Stroke_data =pd.DataFrame(X[['age', 'sex', 'cp', 'fbs', 'restecg', 'oldpeak', 'slope', 'ca', 'thal']])\n",
        "Stroke_data['stroke']=y\n",
        "predictor_combined = TabularPredictor(\n",
        "    label=\"stroke\",\n",
        "\n",
        ").fit(\n",
        "    train_data=Stroke_data,\n",
        "\n",
        ")\n",
        "greywolf_dataset6=predictor_combined.leaderboard()"
      ],
      "id": "534a4b15-9650-4c85-bddb-a6222b1ed893"
    },
    {
      "cell_type": "markdown",
      "metadata": {
        "id": "2ab09125-1731-4cf4-93e9-902dba886e97"
      },
      "source": [
        "## Dataset7"
      ],
      "id": "2ab09125-1731-4cf4-93e9-902dba886e97"
    },
    {
      "cell_type": "code",
      "execution_count": null,
      "metadata": {
        "id": "c7fa53fe-663a-4cbf-be88-cd6bd40c1def"
      },
      "outputs": [],
      "source": [
        "stroke7 = pd.read_csv('stroke/stroke14.csv')[:1000]"
      ],
      "id": "c7fa53fe-663a-4cbf-be88-cd6bd40c1def"
    },
    {
      "cell_type": "code",
      "execution_count": null,
      "metadata": {
        "id": "zaSunsIR85p4"
      },
      "outputs": [],
      "source": [],
      "id": "zaSunsIR85p4"
    },
    {
      "cell_type": "code",
      "execution_count": null,
      "metadata": {
        "id": "ed2d1249-2445-4eab-b933-7ff1b1e90092"
      },
      "outputs": [],
      "source": [
        "stroke7=preprocess_dataset(stroke7)\n",
        "X = stroke7.drop(['Stroke'],axis=1)\n",
        "y = stroke7['Stroke']\n",
        "\n",
        "from imblearn.over_sampling import SMOTE\n",
        "# Assuming X and y are your feature matrix and target variable, respectively\n",
        "smote = SMOTE()\n",
        "X, y = smote.fit_resample(X, y)\n",
        "X_train, X_test, y_train, y_test = train_test_split(X, y, test_size=0.2,random_state=42)"
      ],
      "id": "ed2d1249-2445-4eab-b933-7ff1b1e90092"
    },
    {
      "cell_type": "code",
      "execution_count": null,
      "metadata": {
        "id": "b6de7255-0fd7-45f0-9f21-7bdb39c0396f",
        "outputId": "397497ab-5b82-427f-b892-3400b6f6ce3b"
      },
      "outputs": [
        {
          "name": "stderr",
          "output_type": "stream",
          "text": [
            "Iterations: 100%|██████████| 20/20 [11:38<00:00, 34.94s/iteration]\n"
          ]
        }
      ],
      "source": [
        "num_iterations = 20\n",
        "results, features, dims, scores = run_gwo_optimization(num_iterations, X_train, y_train, X_test, y_test)"
      ],
      "id": "b6de7255-0fd7-45f0-9f21-7bdb39c0396f"
    },
    {
      "cell_type": "code",
      "execution_count": null,
      "metadata": {
        "id": "5b2e3fe8-df11-4877-bae5-101b87c12191",
        "outputId": "8c3334d8-0807-4bb5-a67f-f3932cee1ab0"
      },
      "outputs": [
        {
          "data": {
            "text/plain": [
              "[['Diabetes_012',\n",
              "  'HighBP',\n",
              "  'HighChol',\n",
              "  'CholCheck',\n",
              "  'BMI',\n",
              "  'PhysicalActivity',\n",
              "  'Fruits',\n",
              "  'Veggies',\n",
              "  'AnyHealthcare',\n",
              "  'NoDocbcCost',\n",
              "  'GenHlth',\n",
              "  'PhysHlth',\n",
              "  'Sex',\n",
              "  'Education'],\n",
              " ['Diabetes_012',\n",
              "  'CholCheck',\n",
              "  'BMI',\n",
              "  'Smoke',\n",
              "  'PhysicalActivity',\n",
              "  'Veggies',\n",
              "  'AlcoholConsump',\n",
              "  'AnyHealthcare',\n",
              "  'NoDocbcCost',\n",
              "  'PhysHlth',\n",
              "  'DiffWalk',\n",
              "  'Education'],\n",
              " ['Diabetes_012',\n",
              "  'CholCheck',\n",
              "  'BMI',\n",
              "  'Smoke',\n",
              "  'PhysicalActivity',\n",
              "  'Fruits',\n",
              "  'Veggies',\n",
              "  'AlcoholConsump',\n",
              "  'AnyHealthcare',\n",
              "  'NoDocbcCost',\n",
              "  'GenHlth',\n",
              "  'PhysHlth',\n",
              "  'Education'],\n",
              " ['Diabetes_012',\n",
              "  'HighBP',\n",
              "  'CholCheck',\n",
              "  'BMI',\n",
              "  'Smoke',\n",
              "  'PhysicalActivity',\n",
              "  'Veggies',\n",
              "  'AnyHealthcare',\n",
              "  'PhysHlth',\n",
              "  'DiffWalk',\n",
              "  'Sex',\n",
              "  'Education'],\n",
              " ['Diabetes_012',\n",
              "  'HighBP',\n",
              "  'BMI',\n",
              "  'Smoke',\n",
              "  'HeartDiseaseorAttack',\n",
              "  'PhysicalActivity',\n",
              "  'Fruits',\n",
              "  'Veggies',\n",
              "  'AnyHealthcare',\n",
              "  'PhysHlth',\n",
              "  'DiffWalk',\n",
              "  'Education'],\n",
              " ['Diabetes_012',\n",
              "  'HighBP',\n",
              "  'CholCheck',\n",
              "  'BMI',\n",
              "  'Smoke',\n",
              "  'HeartDiseaseorAttack',\n",
              "  'PhysicalActivity',\n",
              "  'Fruits',\n",
              "  'Veggies',\n",
              "  'PhysHlth',\n",
              "  'DiffWalk',\n",
              "  'Sex',\n",
              "  'Education'],\n",
              " ['Diabetes_012',\n",
              "  'HighBP',\n",
              "  'BMI',\n",
              "  'Smoke',\n",
              "  'PhysicalActivity',\n",
              "  'Fruits',\n",
              "  'Veggies',\n",
              "  'AlcoholConsump',\n",
              "  'AnyHealthcare',\n",
              "  'GenHlth',\n",
              "  'PhysHlth',\n",
              "  'DiffWalk',\n",
              "  'Sex',\n",
              "  'Education'],\n",
              " ['Diabetes_012',\n",
              "  'HighBP',\n",
              "  'CholCheck',\n",
              "  'BMI',\n",
              "  'Smoke',\n",
              "  'PhysicalActivity',\n",
              "  'Fruits',\n",
              "  'Veggies',\n",
              "  'AlcoholConsump',\n",
              "  'GenHlth',\n",
              "  'PhysHlth',\n",
              "  'DiffWalk',\n",
              "  'Sex',\n",
              "  'Education'],\n",
              " ['Diabetes_012',\n",
              "  'HighChol',\n",
              "  'BMI',\n",
              "  'Smoke',\n",
              "  'HeartDiseaseorAttack',\n",
              "  'PhysicalActivity',\n",
              "  'Fruits',\n",
              "  'Veggies',\n",
              "  'AlcoholConsump',\n",
              "  'NoDocbcCost',\n",
              "  'GenHlth',\n",
              "  'PhysHlth',\n",
              "  'DiffWalk',\n",
              "  'Education'],\n",
              " ['Diabetes_012',\n",
              "  'HighBP',\n",
              "  'HighChol',\n",
              "  'CholCheck',\n",
              "  'Smoke',\n",
              "  'PhysicalActivity',\n",
              "  'Fruits',\n",
              "  'Veggies',\n",
              "  'AlcoholConsump',\n",
              "  'AnyHealthcare',\n",
              "  'NoDocbcCost',\n",
              "  'GenHlth',\n",
              "  'PhysHlth',\n",
              "  'DiffWalk',\n",
              "  'Sex',\n",
              "  'Age',\n",
              "  'Education'],\n",
              " ['Diabetes_012',\n",
              "  'HighBP',\n",
              "  'HighChol',\n",
              "  'Smoke',\n",
              "  'HeartDiseaseorAttack',\n",
              "  'PhysicalActivity',\n",
              "  'Fruits',\n",
              "  'Veggies',\n",
              "  'AnyHealthcare',\n",
              "  'GenHlth',\n",
              "  'DiffWalk',\n",
              "  'Sex',\n",
              "  'Age',\n",
              "  'Education'],\n",
              " ['Diabetes_012',\n",
              "  'HighBP',\n",
              "  'HighChol',\n",
              "  'BMI',\n",
              "  'Smoke',\n",
              "  'HeartDiseaseorAttack',\n",
              "  'PhysicalActivity',\n",
              "  'Fruits',\n",
              "  'Veggies',\n",
              "  'AlcoholConsump',\n",
              "  'AnyHealthcare',\n",
              "  'GenHlth',\n",
              "  'DiffWalk',\n",
              "  'Sex',\n",
              "  'Education'],\n",
              " ['Diabetes_012',\n",
              "  'HighBP',\n",
              "  'CholCheck',\n",
              "  'BMI',\n",
              "  'Smoke',\n",
              "  'PhysicalActivity',\n",
              "  'Veggies',\n",
              "  'AlcoholConsump',\n",
              "  'AnyHealthcare',\n",
              "  'PhysHlth',\n",
              "  'DiffWalk',\n",
              "  'Sex',\n",
              "  'Education'],\n",
              " ['Diabetes_012',\n",
              "  'HighBP',\n",
              "  'HighChol',\n",
              "  'CholCheck',\n",
              "  'BMI',\n",
              "  'Smoke',\n",
              "  'HeartDiseaseorAttack',\n",
              "  'PhysicalActivity',\n",
              "  'Fruits',\n",
              "  'Veggies',\n",
              "  'AlcoholConsump',\n",
              "  'AnyHealthcare',\n",
              "  'NoDocbcCost',\n",
              "  'GenHlth',\n",
              "  'PhysHlth',\n",
              "  'Sex',\n",
              "  'Education'],\n",
              " ['Diabetes_012',\n",
              "  'HighBP',\n",
              "  'HighChol',\n",
              "  'CholCheck',\n",
              "  'Smoke',\n",
              "  'PhysicalActivity',\n",
              "  'Fruits',\n",
              "  'Veggies',\n",
              "  'AlcoholConsump',\n",
              "  'AnyHealthcare',\n",
              "  'NoDocbcCost',\n",
              "  'GenHlth',\n",
              "  'PhysHlth',\n",
              "  'DiffWalk',\n",
              "  'Sex',\n",
              "  'Age',\n",
              "  'Education'],\n",
              " ['Diabetes_012',\n",
              "  'HighChol',\n",
              "  'CholCheck',\n",
              "  'BMI',\n",
              "  'Smoke',\n",
              "  'HeartDiseaseorAttack',\n",
              "  'PhysicalActivity',\n",
              "  'Fruits',\n",
              "  'Veggies',\n",
              "  'AlcoholConsump',\n",
              "  'NoDocbcCost',\n",
              "  'GenHlth',\n",
              "  'PhysHlth',\n",
              "  'Sex',\n",
              "  'Education'],\n",
              " ['Diabetes_012',\n",
              "  'HighBP',\n",
              "  'CholCheck',\n",
              "  'BMI',\n",
              "  'Smoke',\n",
              "  'PhysicalActivity',\n",
              "  'Fruits',\n",
              "  'Veggies',\n",
              "  'GenHlth',\n",
              "  'PhysHlth',\n",
              "  'DiffWalk',\n",
              "  'Sex',\n",
              "  'Education'],\n",
              " ['Diabetes_012',\n",
              "  'Smoke',\n",
              "  'HeartDiseaseorAttack',\n",
              "  'PhysicalActivity',\n",
              "  'Fruits',\n",
              "  'Veggies',\n",
              "  'AlcoholConsump',\n",
              "  'NoDocbcCost',\n",
              "  'GenHlth',\n",
              "  'Age',\n",
              "  'Education'],\n",
              " ['Diabetes_012',\n",
              "  'HighBP',\n",
              "  'HighChol',\n",
              "  'CholCheck',\n",
              "  'Smoke',\n",
              "  'PhysicalActivity',\n",
              "  'Fruits',\n",
              "  'Veggies',\n",
              "  'AlcoholConsump',\n",
              "  'AnyHealthcare',\n",
              "  'NoDocbcCost',\n",
              "  'GenHlth',\n",
              "  'PhysHlth',\n",
              "  'DiffWalk',\n",
              "  'Sex',\n",
              "  'Age',\n",
              "  'Education'],\n",
              " ['Diabetes_012',\n",
              "  'HighBP',\n",
              "  'HighChol',\n",
              "  'CholCheck',\n",
              "  'Smoke',\n",
              "  'PhysicalActivity',\n",
              "  'Fruits',\n",
              "  'Veggies',\n",
              "  'AlcoholConsump',\n",
              "  'AnyHealthcare',\n",
              "  'NoDocbcCost',\n",
              "  'GenHlth',\n",
              "  'PhysHlth',\n",
              "  'DiffWalk',\n",
              "  'Sex',\n",
              "  'Age',\n",
              "  'Education']]"
            ]
          },
          "execution_count": 144,
          "metadata": {},
          "output_type": "execute_result"
        }
      ],
      "source": [
        "features"
      ],
      "id": "5b2e3fe8-df11-4877-bae5-101b87c12191"
    },
    {
      "cell_type": "code",
      "execution_count": null,
      "metadata": {
        "id": "366f37fa-8e57-4689-9367-5efd81442f41"
      },
      "outputs": [],
      "source": [
        "Stroke_data =pd.DataFrame(X[ ['Diabetes_012',\n",
        "  'HighBP',\n",
        "  'HighChol',\n",
        "  'CholCheck',\n",
        "  'BMI',\n",
        "  'Smoke',\n",
        "  'HeartDiseaseorAttack',\n",
        "  'PhysicalActivity',\n",
        "  'Fruits',\n",
        "  'Veggies',\n",
        "  'AlcoholConsump',\n",
        "  'NoDocbcCost',\n",
        "  'PhysHlth',\n",
        "  'DiffWalk',\n",
        "  'Sex',\n",
        "  'Age',\n",
        "  'Education']])\n",
        "Stroke_data['stroke']=y"
      ],
      "id": "366f37fa-8e57-4689-9367-5efd81442f41"
    },
    {
      "cell_type": "code",
      "execution_count": null,
      "metadata": {
        "colab": {
          "base_uri": "https://localhost:8080/"
        },
        "id": "051e4ec1-2548-473e-bb3e-e787c6dfc498",
        "outputId": "9eb6cee1-6df8-4597-b762-588a1d3125f4"
      },
      "outputs": [
        {
          "name": "stderr",
          "output_type": "stream",
          "text": [
            "No path specified. Models will be saved in: \"AutogluonModels/ag-20230831_093624/\"\n",
            "Beginning AutoGluon training ...\n",
            "AutoGluon will save models to \"AutogluonModels/ag-20230831_093624/\"\n",
            "AutoGluon Version:  0.8.2\n",
            "Python Version:     3.10.12\n",
            "Operating System:   Linux\n",
            "Platform Machine:   x86_64\n",
            "Platform Version:   #1 SMP Fri Jun 9 10:57:30 UTC 2023\n",
            "Disk Space Avail:   11.81 GB / 16.11 GB (73.3%)\n",
            "Train Data Rows:    1868\n",
            "Train Data Columns: 17\n",
            "Label Column: stroke\n",
            "Preprocessing data ...\n",
            "AutoGluon infers your prediction problem is: 'binary' (because only two unique label-values observed).\n",
            "\t2 unique label values:  [0, 1]\n",
            "\tIf 'binary' is not the correct problem_type, please manually specify the problem_type parameter during predictor init (You may specify problem_type as one of: ['binary', 'multiclass', 'regression'])\n",
            "Selected class <--> label mapping:  class 1 = 1, class 0 = 0\n",
            "Using Feature Generators to preprocess the data ...\n",
            "Fitting AutoMLPipelineFeatureGenerator...\n",
            "\tAvailable Memory:                    10717.61 MB\n",
            "\tTrain Data (Original)  Memory Usage: 0.25 MB (0.0% of available memory)\n",
            "\tInferring data type of each feature based on column values. Set feature_metadata_in to manually specify special dtypes of the features.\n",
            "\tStage 1 Generators:\n",
            "\t\tFitting AsTypeFeatureGenerator...\n",
            "\t\t\tNote: Converting 12 features to boolean dtype as they only contain 2 unique values.\n",
            "\tStage 2 Generators:\n",
            "\t\tFitting FillNaFeatureGenerator...\n",
            "\tStage 3 Generators:\n",
            "\t\tFitting IdentityFeatureGenerator...\n",
            "\tStage 4 Generators:\n",
            "\t\tFitting DropUniqueFeatureGenerator...\n",
            "\tStage 5 Generators:\n",
            "\t\tFitting DropDuplicatesFeatureGenerator...\n",
            "\tTypes of features in original data (raw dtype, special dtypes):\n",
            "\t\t('int', []) : 17 | ['Diabetes_012', 'HighBP', 'HighChol', 'CholCheck', 'BMI', ...]\n",
            "\tTypes of features in processed data (raw dtype, special dtypes):\n",
            "\t\t('int', [])       :  5 | ['Diabetes_012', 'BMI', 'PhysHlth', 'Age', 'Education']\n",
            "\t\t('int', ['bool']) : 12 | ['HighBP', 'HighChol', 'CholCheck', 'Smoke', 'HeartDiseaseorAttack', ...]\n",
            "\t0.1s = Fit runtime\n",
            "\t17 features in original data used to generate 17 features in processed data.\n",
            "\tTrain Data (Processed) Memory Usage: 0.1 MB (0.0% of available memory)\n",
            "Data preprocessing and feature engineering runtime = 0.17s ...\n",
            "AutoGluon will gauge predictive performance using evaluation metric: 'accuracy'\n",
            "\tTo change this, specify the eval_metric parameter of Predictor()\n",
            "Automatically generating train/validation split with holdout_frac=0.2, Train Rows: 1494, Val Rows: 374\n",
            "User-specified model hyperparameters to be fit:\n",
            "{\n",
            "\t'NN_TORCH': {},\n",
            "\t'GBM': [{'extra_trees': True, 'ag_args': {'name_suffix': 'XT'}}, {}, 'GBMLarge'],\n",
            "\t'CAT': {},\n",
            "\t'XGB': {},\n",
            "\t'FASTAI': {},\n",
            "\t'RF': [{'criterion': 'gini', 'ag_args': {'name_suffix': 'Gini', 'problem_types': ['binary', 'multiclass']}}, {'criterion': 'entropy', 'ag_args': {'name_suffix': 'Entr', 'problem_types': ['binary', 'multiclass']}}, {'criterion': 'squared_error', 'ag_args': {'name_suffix': 'MSE', 'problem_types': ['regression', 'quantile']}}],\n",
            "\t'XT': [{'criterion': 'gini', 'ag_args': {'name_suffix': 'Gini', 'problem_types': ['binary', 'multiclass']}}, {'criterion': 'entropy', 'ag_args': {'name_suffix': 'Entr', 'problem_types': ['binary', 'multiclass']}}, {'criterion': 'squared_error', 'ag_args': {'name_suffix': 'MSE', 'problem_types': ['regression', 'quantile']}}],\n",
            "\t'KNN': [{'weights': 'uniform', 'ag_args': {'name_suffix': 'Unif'}}, {'weights': 'distance', 'ag_args': {'name_suffix': 'Dist'}}],\n",
            "}\n",
            "Fitting 13 L1 models ...\n",
            "Fitting model: KNeighborsUnif ...\n",
            "\t0.7914\t = Validation score   (accuracy)\n",
            "\t0.01s\t = Training   runtime\n",
            "\t0.02s\t = Validation runtime\n",
            "Fitting model: KNeighborsDist ...\n",
            "\t0.8048\t = Validation score   (accuracy)\n",
            "\t0.01s\t = Training   runtime\n",
            "\t0.02s\t = Validation runtime\n",
            "Fitting model: LightGBMXT ...\n"
          ]
        },
        {
          "name": "stdout",
          "output_type": "stream",
          "text": [
            "[1000]\tvalid_set's binary_error: 0.0614973\n"
          ]
        },
        {
          "name": "stderr",
          "output_type": "stream",
          "text": [
            "\t0.9439\t = Validation score   (accuracy)\n",
            "\t0.85s\t = Training   runtime\n",
            "\t0.03s\t = Validation runtime\n",
            "Fitting model: LightGBM ...\n",
            "\t0.9519\t = Validation score   (accuracy)\n",
            "\t0.65s\t = Training   runtime\n",
            "\t0.02s\t = Validation runtime\n",
            "Fitting model: RandomForestGini ...\n",
            "\t0.9412\t = Validation score   (accuracy)\n",
            "\t0.94s\t = Training   runtime\n",
            "\t0.12s\t = Validation runtime\n",
            "Fitting model: RandomForestEntr ...\n",
            "\t0.9358\t = Validation score   (accuracy)\n",
            "\t0.9s\t = Training   runtime\n",
            "\t0.08s\t = Validation runtime\n",
            "Fitting model: CatBoost ...\n",
            "\t0.9492\t = Validation score   (accuracy)\n",
            "\t2.6s\t = Training   runtime\n",
            "\t0.01s\t = Validation runtime\n",
            "Fitting model: ExtraTreesGini ...\n",
            "\t0.9332\t = Validation score   (accuracy)\n",
            "\t1.22s\t = Training   runtime\n",
            "\t0.1s\t = Validation runtime\n",
            "Fitting model: ExtraTreesEntr ...\n",
            "\t0.9305\t = Validation score   (accuracy)\n",
            "\t1.23s\t = Training   runtime\n",
            "\t0.11s\t = Validation runtime\n",
            "Fitting model: NeuralNetFastAI ...\n",
            "\t0.9251\t = Validation score   (accuracy)\n",
            "\t3.07s\t = Training   runtime\n",
            "\t0.02s\t = Validation runtime\n",
            "Fitting model: XGBoost ...\n",
            "\t0.9439\t = Validation score   (accuracy)\n",
            "\t1.36s\t = Training   runtime\n",
            "\t0.04s\t = Validation runtime\n",
            "Fitting model: NeuralNetTorch ...\n",
            "\t0.9171\t = Validation score   (accuracy)\n",
            "\t14.28s\t = Training   runtime\n",
            "\t0.02s\t = Validation runtime\n",
            "Fitting model: LightGBMLarge ...\n",
            "\t0.9519\t = Validation score   (accuracy)\n",
            "\t2.79s\t = Training   runtime\n",
            "\t0.05s\t = Validation runtime\n",
            "Fitting model: WeightedEnsemble_L2 ...\n",
            "\t0.9599\t = Validation score   (accuracy)\n",
            "\t3.14s\t = Training   runtime\n",
            "\t0.0s\t = Validation runtime\n",
            "AutoGluon training complete, total runtime = 36.12s ... Best model: \"WeightedEnsemble_L2\"\n",
            "TabularPredictor saved. To load, use: predictor = TabularPredictor.load(\"AutogluonModels/ag-20230831_093624/\")\n"
          ]
        },
        {
          "name": "stdout",
          "output_type": "stream",
          "text": [
            "                  model  score_val  pred_time_val   fit_time  pred_time_val_marginal  fit_time_marginal  stack_level  can_infer  fit_order\n",
            "0   WeightedEnsemble_L2   0.959893       0.349208  12.657799                0.002772           3.143497            2       True         14\n",
            "1              LightGBM   0.951872       0.016635   0.645374                0.016635           0.645374            1       True          4\n",
            "2         LightGBMLarge   0.951872       0.053612   2.790487                0.053612           2.790487            1       True         13\n",
            "3              CatBoost   0.949198       0.007669   2.603020                0.007669           2.603020            1       True          7\n",
            "4            LightGBMXT   0.943850       0.033194   0.845675                0.033194           0.845675            1       True          3\n",
            "5               XGBoost   0.943850       0.039021   1.359767                0.039021           1.359767            1       True         11\n",
            "6      RandomForestGini   0.941176       0.120954   0.943515                0.120954           0.943515            1       True          5\n",
            "7      RandomForestEntr   0.935829       0.076998   0.904825                0.076998           0.904825            1       True          6\n",
            "8        ExtraTreesGini   0.933155       0.102899   1.218479                0.102899           1.218479            1       True          8\n",
            "9        ExtraTreesEntr   0.930481       0.110224   1.227373                0.110224           1.227373            1       True          9\n",
            "10      NeuralNetFastAI   0.925134       0.019142   3.070772                0.019142           3.070772            1       True         10\n",
            "11       NeuralNetTorch   0.917112       0.017680  14.282631                0.017680          14.282631            1       True         12\n",
            "12       KNeighborsDist   0.804813       0.020316   0.010160                0.020316           0.010160            1       True          2\n",
            "13       KNeighborsUnif   0.791444       0.015255   0.013219                0.015255           0.013219            1       True          1\n"
          ]
        }
      ],
      "source": [
        "predictor_combined = TabularPredictor(\n",
        "    label=\"stroke\",\n",
        "\n",
        ").fit(\n",
        "    train_data=Stroke_data,\n",
        "\n",
        ")\n",
        "greywolf_dataset7=predictor_combined.leaderboard()"
      ],
      "id": "051e4ec1-2548-473e-bb3e-e787c6dfc498"
    },
    {
      "cell_type": "code",
      "execution_count": null,
      "metadata": {
        "id": "a69c7e0c-96fa-42fe-bcfa-fc830aaa0cb7",
        "outputId": "4182e8c7-25e0-4410-f0b2-7eb20bada8a2"
      },
      "outputs": [
        {
          "name": "stderr",
          "output_type": "stream",
          "text": [
            "Iterations: 100%|██████████| 10/10 [05:38<00:00, 33.85s/iteration]\n"
          ]
        }
      ],
      "source": [
        "num_iterations = 10\n",
        "results, features, dims, scores = run_gwo_optimization(num_iterations, X_train, y_train, X_test, y_test)"
      ],
      "id": "a69c7e0c-96fa-42fe-bcfa-fc830aaa0cb7"
    },
    {
      "cell_type": "code",
      "execution_count": null,
      "metadata": {
        "id": "f06cae10-bb78-4607-87d5-e78aacfa5a8d",
        "outputId": "ae92b095-5dfe-462d-ca78-642294711a8a"
      },
      "outputs": [
        {
          "data": {
            "text/plain": [
              "[['Diabetes_012',\n",
              "  'HighBP',\n",
              "  'CholCheck',\n",
              "  'BMI',\n",
              "  'Smoke',\n",
              "  'HeartDiseaseorAttack',\n",
              "  'PhysicalActivity',\n",
              "  'Fruits',\n",
              "  'Veggies',\n",
              "  'AlcoholConsump',\n",
              "  'AnyHealthcare',\n",
              "  'PhysHlth',\n",
              "  'DiffWalk',\n",
              "  'Sex',\n",
              "  'Education'],\n",
              " ['Diabetes_012',\n",
              "  'HighBP',\n",
              "  'BMI',\n",
              "  'Smoke',\n",
              "  'PhysicalActivity',\n",
              "  'Fruits',\n",
              "  'Veggies',\n",
              "  'AlcoholConsump',\n",
              "  'GenHlth',\n",
              "  'PhysHlth',\n",
              "  'DiffWalk',\n",
              "  'Sex',\n",
              "  'Education'],\n",
              " ['Diabetes_012',\n",
              "  'HighBP',\n",
              "  'CholCheck',\n",
              "  'BMI',\n",
              "  'PhysicalActivity',\n",
              "  'Veggies',\n",
              "  'AlcoholConsump',\n",
              "  'AnyHealthcare',\n",
              "  'PhysHlth',\n",
              "  'DiffWalk',\n",
              "  'Education'],\n",
              " ['Diabetes_012',\n",
              "  'CholCheck',\n",
              "  'BMI',\n",
              "  'Smoke',\n",
              "  'PhysicalActivity',\n",
              "  'Veggies',\n",
              "  'AlcoholConsump',\n",
              "  'AnyHealthcare',\n",
              "  'PhysHlth',\n",
              "  'DiffWalk',\n",
              "  'Education'],\n",
              " ['Diabetes_012',\n",
              "  'HighBP',\n",
              "  'HighChol',\n",
              "  'CholCheck',\n",
              "  'HeartDiseaseorAttack',\n",
              "  'PhysicalActivity',\n",
              "  'Fruits',\n",
              "  'Veggies',\n",
              "  'AlcoholConsump',\n",
              "  'AnyHealthcare',\n",
              "  'NoDocbcCost',\n",
              "  'GenHlth',\n",
              "  'PhysHlth',\n",
              "  'DiffWalk',\n",
              "  'Sex',\n",
              "  'Age',\n",
              "  'Education'],\n",
              " ['Diabetes_012',\n",
              "  'CholCheck',\n",
              "  'BMI',\n",
              "  'Smoke',\n",
              "  'HeartDiseaseorAttack',\n",
              "  'PhysicalActivity',\n",
              "  'Fruits',\n",
              "  'Veggies',\n",
              "  'NoDocbcCost',\n",
              "  'GenHlth',\n",
              "  'PhysHlth',\n",
              "  'Education'],\n",
              " ['Diabetes_012',\n",
              "  'CholCheck',\n",
              "  'BMI',\n",
              "  'Smoke',\n",
              "  'HeartDiseaseorAttack',\n",
              "  'PhysicalActivity',\n",
              "  'AlcoholConsump',\n",
              "  'GenHlth',\n",
              "  'PhysHlth',\n",
              "  'DiffWalk',\n",
              "  'Sex',\n",
              "  'Education'],\n",
              " ['Diabetes_012',\n",
              "  'HighBP',\n",
              "  'BMI',\n",
              "  'Smoke',\n",
              "  'HeartDiseaseorAttack',\n",
              "  'PhysicalActivity',\n",
              "  'Fruits',\n",
              "  'Veggies',\n",
              "  'GenHlth',\n",
              "  'PhysHlth',\n",
              "  'DiffWalk',\n",
              "  'Sex',\n",
              "  'Education'],\n",
              " ['Diabetes_012',\n",
              "  'HighBP',\n",
              "  'HighChol',\n",
              "  'Smoke',\n",
              "  'HeartDiseaseorAttack',\n",
              "  'PhysicalActivity',\n",
              "  'Fruits',\n",
              "  'Veggies',\n",
              "  'AlcoholConsump',\n",
              "  'AnyHealthcare',\n",
              "  'GenHlth',\n",
              "  'DiffWalk',\n",
              "  'Sex',\n",
              "  'Age',\n",
              "  'Education'],\n",
              " ['Diabetes_012',\n",
              "  'HighChol',\n",
              "  'CholCheck',\n",
              "  'BMI',\n",
              "  'Smoke',\n",
              "  'PhysicalActivity',\n",
              "  'Veggies',\n",
              "  'AnyHealthcare',\n",
              "  'NoDocbcCost',\n",
              "  'GenHlth',\n",
              "  'PhysHlth',\n",
              "  'DiffWalk',\n",
              "  'Sex',\n",
              "  'Education']]"
            ]
          },
          "execution_count": 146,
          "metadata": {},
          "output_type": "execute_result"
        }
      ],
      "source": [
        "features"
      ],
      "id": "f06cae10-bb78-4607-87d5-e78aacfa5a8d"
    },
    {
      "cell_type": "markdown",
      "metadata": {
        "id": "0eb4bb04-1f89-4951-8e8a-7df562584b06"
      },
      "source": [
        "## Dataset8"
      ],
      "id": "0eb4bb04-1f89-4951-8e8a-7df562584b06"
    },
    {
      "cell_type": "code",
      "execution_count": null,
      "metadata": {
        "id": "45d0f3c8-11ac-4cce-afca-034bbe997442"
      },
      "outputs": [],
      "source": [
        "stroke8 = pd.read_csv('stroke/stroke15.csv')"
      ],
      "id": "45d0f3c8-11ac-4cce-afca-034bbe997442"
    },
    {
      "cell_type": "code",
      "execution_count": null,
      "metadata": {
        "id": "e67cd3a6-395d-49c5-b149-e1794aa8f5ad"
      },
      "outputs": [],
      "source": [
        "stroke8=preprocess_dataset(stroke8)\n",
        "X = stroke8.drop(['stroke'],axis=1)\n",
        "y = stroke8['stroke']\n",
        "\n",
        "from imblearn.over_sampling import SMOTE\n",
        "# Assuming X and y are your feature matrix and target variable, respectively\n",
        "smote = SMOTE()\n",
        "X, y = smote.fit_resample(X, y)\n",
        "X_train, X_test, y_train, y_test = train_test_split(X, y, test_size=0.2,random_state=42)"
      ],
      "id": "e67cd3a6-395d-49c5-b149-e1794aa8f5ad"
    },
    {
      "cell_type": "code",
      "execution_count": null,
      "metadata": {
        "id": "5f4edada-c22d-402e-a0d9-f2fd0baa8d46",
        "outputId": "c2e1e407-789e-47e1-d7a2-cf8904029b34"
      },
      "outputs": [
        {
          "name": "stderr",
          "output_type": "stream",
          "text": [
            "Iterations: 100%|██████████| 20/20 [20:10<00:00, 60.52s/iteration]\n"
          ]
        }
      ],
      "source": [
        "num_iterations = 20\n",
        "results, features, dims, scores = run_gwo_optimization(num_iterations, X_train, y_train, X_test, y_test)"
      ],
      "id": "5f4edada-c22d-402e-a0d9-f2fd0baa8d46"
    },
    {
      "cell_type": "code",
      "execution_count": null,
      "metadata": {
        "id": "92ed6a29-ef8a-4eeb-876c-8491ab88eb3e",
        "outputId": "71d11c25-3dc2-40b3-ca88-7ea6f390c666"
      },
      "outputs": [
        {
          "data": {
            "text/plain": [
              "[['gender', 'age', 'ever_married', 'avg_glucose_level', 'bmi'],\n",
              " ['age', 'ever_married', 'Residence_type', 'avg_glucose_level', 'bmi'],\n",
              " ['gender', 'age', 'ever_married', 'avg_glucose_level', 'bmi'],\n",
              " ['gender', 'age', 'ever_married', 'avg_glucose_level', 'bmi'],\n",
              " ['gender', 'age', 'ever_married', 'avg_glucose_level', 'bmi'],\n",
              " ['age', 'ever_married', 'Residence_type', 'avg_glucose_level', 'bmi'],\n",
              " ['age'],\n",
              " ['age', 'ever_married', 'Residence_type', 'avg_glucose_level', 'bmi'],\n",
              " ['age', 'ever_married', 'Residence_type', 'avg_glucose_level', 'bmi'],\n",
              " ['age', 'heart_disease'],\n",
              " ['age', 'ever_married'],\n",
              " ['gender', 'age', 'ever_married', 'avg_glucose_level', 'bmi'],\n",
              " ['gender', 'age', 'ever_married', 'avg_glucose_level', 'bmi'],\n",
              " ['age', 'ever_married', 'Residence_type', 'avg_glucose_level', 'bmi'],\n",
              " ['age', 'ever_married', 'Residence_type', 'avg_glucose_level', 'bmi'],\n",
              " ['age',\n",
              "  'hypertension',\n",
              "  'ever_married',\n",
              "  'Residence_type',\n",
              "  'avg_glucose_level',\n",
              "  'bmi'],\n",
              " ['age', 'ever_married', 'Residence_type', 'avg_glucose_level', 'bmi'],\n",
              " ['gender', 'age', 'ever_married', 'avg_glucose_level', 'bmi'],\n",
              " ['age', 'ever_married', 'Residence_type', 'avg_glucose_level', 'bmi'],\n",
              " ['age', 'ever_married', 'Residence_type', 'avg_glucose_level', 'bmi']]"
            ]
          },
          "execution_count": 150,
          "metadata": {},
          "output_type": "execute_result"
        }
      ],
      "source": [
        "features"
      ],
      "id": "92ed6a29-ef8a-4eeb-876c-8491ab88eb3e"
    },
    {
      "cell_type": "code",
      "execution_count": null,
      "metadata": {
        "id": "26806080-c557-47d2-a874-00c5656ed2fb",
        "outputId": "a4a5faa6-e7eb-4646-aca0-64fecf83631e"
      },
      "outputs": [
        {
          "name": "stderr",
          "output_type": "stream",
          "text": [
            "Iterations: 100%|██████████| 10/10 [10:17<00:00, 61.73s/iteration]\n"
          ]
        }
      ],
      "source": [
        "num_iterations = 10\n",
        "results, features, dims, scores = run_gwo_optimization(num_iterations, X_train, y_train, X_test, y_test)"
      ],
      "id": "26806080-c557-47d2-a874-00c5656ed2fb"
    },
    {
      "cell_type": "code",
      "execution_count": null,
      "metadata": {
        "id": "ebcb3fd3-71da-4486-9c43-64f338d0d502",
        "outputId": "13a157f5-fc64-4695-954e-dd6e54769812"
      },
      "outputs": [
        {
          "data": {
            "text/plain": [
              "[['age',\n",
              "  'heart_disease',\n",
              "  'ever_married',\n",
              "  'Residence_type',\n",
              "  'avg_glucose_level',\n",
              "  'bmi'],\n",
              " ['age', 'ever_married', 'Residence_type', 'avg_glucose_level', 'bmi'],\n",
              " ['gender', 'age', 'ever_married', 'avg_glucose_level', 'bmi'],\n",
              " ['age', 'ever_married', 'Residence_type', 'avg_glucose_level', 'bmi'],\n",
              " ['age', 'ever_married', 'Residence_type', 'avg_glucose_level', 'bmi'],\n",
              " ['age', 'ever_married', 'Residence_type', 'avg_glucose_level', 'bmi'],\n",
              " ['age', 'ever_married', 'Residence_type', 'avg_glucose_level', 'bmi'],\n",
              " ['age', 'ever_married', 'Residence_type', 'avg_glucose_level', 'bmi'],\n",
              " ['age', 'ever_married', 'Residence_type', 'avg_glucose_level', 'bmi'],\n",
              " ['age', 'ever_married', 'Residence_type', 'avg_glucose_level', 'bmi']]"
            ]
          },
          "execution_count": 153,
          "metadata": {},
          "output_type": "execute_result"
        }
      ],
      "source": [
        "features"
      ],
      "id": "ebcb3fd3-71da-4486-9c43-64f338d0d502"
    },
    {
      "cell_type": "code",
      "execution_count": null,
      "metadata": {
        "id": "3bd52ed3-c321-4bba-81b3-3a4221258efd"
      },
      "outputs": [],
      "source": [
        "Stroke_data =pd.DataFrame(X[['age',\n",
        "  'hypertension',\n",
        "  'ever_married',\n",
        "  'Residence_type',\n",
        "  'avg_glucose_level',\n",
        "  'bmi']])\n",
        "Stroke_data['stroke']=y"
      ],
      "id": "3bd52ed3-c321-4bba-81b3-3a4221258efd"
    },
    {
      "cell_type": "code",
      "execution_count": null,
      "metadata": {
        "colab": {
          "base_uri": "https://localhost:8080/"
        },
        "id": "3609d685-36f0-4d3d-9dc2-0e25bdb412c3",
        "outputId": "17731b5d-2959-4220-da2a-d5498076e680"
      },
      "outputs": [
        {
          "name": "stderr",
          "output_type": "stream",
          "text": [
            "No path specified. Models will be saved in: \"AutogluonModels/ag-20230831_093701/\"\n",
            "Beginning AutoGluon training ...\n",
            "AutoGluon will save models to \"AutogluonModels/ag-20230831_093701/\"\n",
            "AutoGluon Version:  0.8.2\n",
            "Python Version:     3.10.12\n",
            "Operating System:   Linux\n",
            "Platform Machine:   x86_64\n",
            "Platform Version:   #1 SMP Fri Jun 9 10:57:30 UTC 2023\n",
            "Disk Space Avail:   11.78 GB / 16.11 GB (73.1%)\n",
            "Train Data Rows:    9466\n",
            "Train Data Columns: 6\n",
            "Label Column: stroke\n",
            "Preprocessing data ...\n",
            "AutoGluon infers your prediction problem is: 'binary' (because only two unique label-values observed).\n",
            "\t2 unique label values:  [1, 0]\n",
            "\tIf 'binary' is not the correct problem_type, please manually specify the problem_type parameter during predictor init (You may specify problem_type as one of: ['binary', 'multiclass', 'regression'])\n",
            "Selected class <--> label mapping:  class 1 = 1, class 0 = 0\n",
            "Using Feature Generators to preprocess the data ...\n",
            "Fitting AutoMLPipelineFeatureGenerator...\n",
            "\tAvailable Memory:                    10679.55 MB\n",
            "\tTrain Data (Original)  Memory Usage: 0.45 MB (0.0% of available memory)\n",
            "\tInferring data type of each feature based on column values. Set feature_metadata_in to manually specify special dtypes of the features.\n",
            "\tStage 1 Generators:\n",
            "\t\tFitting AsTypeFeatureGenerator...\n",
            "\t\t\tNote: Converting 3 features to boolean dtype as they only contain 2 unique values.\n",
            "\tStage 2 Generators:\n",
            "\t\tFitting FillNaFeatureGenerator...\n",
            "\tStage 3 Generators:\n",
            "\t\tFitting IdentityFeatureGenerator...\n",
            "\tStage 4 Generators:\n",
            "\t\tFitting DropUniqueFeatureGenerator...\n",
            "\tStage 5 Generators:\n",
            "\t\tFitting DropDuplicatesFeatureGenerator...\n",
            "\tTypes of features in original data (raw dtype, special dtypes):\n",
            "\t\t('float', []) : 3 | ['age', 'avg_glucose_level', 'bmi']\n",
            "\t\t('int', [])   : 3 | ['hypertension', 'ever_married', 'Residence_type']\n",
            "\tTypes of features in processed data (raw dtype, special dtypes):\n",
            "\t\t('float', [])     : 3 | ['age', 'avg_glucose_level', 'bmi']\n",
            "\t\t('int', ['bool']) : 3 | ['hypertension', 'ever_married', 'Residence_type']\n",
            "\t0.2s = Fit runtime\n",
            "\t6 features in original data used to generate 6 features in processed data.\n",
            "\tTrain Data (Processed) Memory Usage: 0.26 MB (0.0% of available memory)\n",
            "Data preprocessing and feature engineering runtime = 0.24s ...\n",
            "AutoGluon will gauge predictive performance using evaluation metric: 'accuracy'\n",
            "\tTo change this, specify the eval_metric parameter of Predictor()\n",
            "Automatically generating train/validation split with holdout_frac=0.1, Train Rows: 8519, Val Rows: 947\n",
            "User-specified model hyperparameters to be fit:\n",
            "{\n",
            "\t'NN_TORCH': {},\n",
            "\t'GBM': [{'extra_trees': True, 'ag_args': {'name_suffix': 'XT'}}, {}, 'GBMLarge'],\n",
            "\t'CAT': {},\n",
            "\t'XGB': {},\n",
            "\t'FASTAI': {},\n",
            "\t'RF': [{'criterion': 'gini', 'ag_args': {'name_suffix': 'Gini', 'problem_types': ['binary', 'multiclass']}}, {'criterion': 'entropy', 'ag_args': {'name_suffix': 'Entr', 'problem_types': ['binary', 'multiclass']}}, {'criterion': 'squared_error', 'ag_args': {'name_suffix': 'MSE', 'problem_types': ['regression', 'quantile']}}],\n",
            "\t'XT': [{'criterion': 'gini', 'ag_args': {'name_suffix': 'Gini', 'problem_types': ['binary', 'multiclass']}}, {'criterion': 'entropy', 'ag_args': {'name_suffix': 'Entr', 'problem_types': ['binary', 'multiclass']}}, {'criterion': 'squared_error', 'ag_args': {'name_suffix': 'MSE', 'problem_types': ['regression', 'quantile']}}],\n",
            "\t'KNN': [{'weights': 'uniform', 'ag_args': {'name_suffix': 'Unif'}}, {'weights': 'distance', 'ag_args': {'name_suffix': 'Dist'}}],\n",
            "}\n",
            "Fitting 13 L1 models ...\n",
            "Fitting model: KNeighborsUnif ...\n",
            "\t0.8807\t = Validation score   (accuracy)\n",
            "\t0.04s\t = Training   runtime\n",
            "\t0.04s\t = Validation runtime\n",
            "Fitting model: KNeighborsDist ...\n",
            "\t0.8902\t = Validation score   (accuracy)\n",
            "\t0.03s\t = Training   runtime\n",
            "\t0.03s\t = Validation runtime\n",
            "Fitting model: LightGBMXT ...\n"
          ]
        },
        {
          "name": "stdout",
          "output_type": "stream",
          "text": [
            "[1000]\tvalid_set's binary_error: 0.103485\n",
            "[2000]\tvalid_set's binary_error: 0.0844773\n",
            "[3000]\tvalid_set's binary_error: 0.0834213\n"
          ]
        },
        {
          "name": "stderr",
          "output_type": "stream",
          "text": [
            "\t0.9187\t = Validation score   (accuracy)\n",
            "\t10.87s\t = Training   runtime\n",
            "\t0.47s\t = Validation runtime\n",
            "Fitting model: LightGBM ...\n"
          ]
        },
        {
          "name": "stdout",
          "output_type": "stream",
          "text": [
            "[1000]\tvalid_set's binary_error: 0.0496304\n"
          ]
        },
        {
          "name": "stderr",
          "output_type": "stream",
          "text": [
            "\t0.9525\t = Validation score   (accuracy)\n",
            "\t3.01s\t = Training   runtime\n",
            "\t0.17s\t = Validation runtime\n",
            "Fitting model: RandomForestGini ...\n",
            "\t0.9113\t = Validation score   (accuracy)\n",
            "\t6.19s\t = Training   runtime\n",
            "\t0.21s\t = Validation runtime\n",
            "Fitting model: RandomForestEntr ...\n",
            "\t0.9124\t = Validation score   (accuracy)\n",
            "\t8.92s\t = Training   runtime\n",
            "\t0.24s\t = Validation runtime\n",
            "Fitting model: CatBoost ...\n",
            "\t0.9525\t = Validation score   (accuracy)\n",
            "\t43.83s\t = Training   runtime\n",
            "\t0.02s\t = Validation runtime\n",
            "Fitting model: ExtraTreesGini ...\n",
            "\t0.9029\t = Validation score   (accuracy)\n",
            "\t4.39s\t = Training   runtime\n",
            "\t0.28s\t = Validation runtime\n",
            "Fitting model: ExtraTreesEntr ...\n",
            "\t0.9092\t = Validation score   (accuracy)\n",
            "\t4.13s\t = Training   runtime\n",
            "\t0.33s\t = Validation runtime\n",
            "Fitting model: NeuralNetFastAI ...\n",
            "\t0.8342\t = Validation score   (accuracy)\n",
            "\t23.94s\t = Training   runtime\n",
            "\t0.03s\t = Validation runtime\n",
            "Fitting model: XGBoost ...\n",
            "\t0.9271\t = Validation score   (accuracy)\n",
            "\t1.37s\t = Training   runtime\n",
            "\t0.03s\t = Validation runtime\n",
            "Fitting model: NeuralNetTorch ...\n",
            "\t0.887\t = Validation score   (accuracy)\n",
            "\t81.58s\t = Training   runtime\n",
            "\t0.01s\t = Validation runtime\n",
            "Fitting model: LightGBMLarge ...\n",
            "\t0.9525\t = Validation score   (accuracy)\n",
            "\t6.24s\t = Training   runtime\n",
            "\t0.2s\t = Validation runtime\n",
            "Fitting model: WeightedEnsemble_L2 ...\n",
            "\t0.9525\t = Validation score   (accuracy)\n",
            "\t2.02s\t = Training   runtime\n",
            "\t0.01s\t = Validation runtime\n",
            "AutoGluon training complete, total runtime = 204.34s ... Best model: \"WeightedEnsemble_L2\"\n",
            "TabularPredictor saved. To load, use: predictor = TabularPredictor.load(\"AutogluonModels/ag-20230831_093701/\")\n"
          ]
        }
      ],
      "source": [
        "predictor_combined = TabularPredictor(\n",
        "    label=\"stroke\",\n",
        "\n",
        ").fit(\n",
        "    train_data=Stroke_data,\n",
        "\n",
        ")"
      ],
      "id": "3609d685-36f0-4d3d-9dc2-0e25bdb412c3"
    },
    {
      "cell_type": "markdown",
      "metadata": {
        "id": "80d761a1-ab28-4203-aa28-44659edb7d79"
      },
      "source": [
        "## Particle Swarm Optimization"
      ],
      "id": "80d761a1-ab28-4203-aa28-44659edb7d79"
    },
    {
      "cell_type": "code",
      "execution_count": null,
      "metadata": {
        "id": "63549b39-6ff1-47b4-9ee7-cf2ea0d7998b"
      },
      "outputs": [],
      "source": [
        "from zoofs import ParticleSwarmOptimization\n",
        "def run_pso_optimization(num_iterations, X_train, y_train, X_test, y_test):\n",
        "    results_per_iteration = []\n",
        "    best_feature_lists = []\n",
        "    best_dims = []\n",
        "    best_scores = []\n",
        "\n",
        "    for _ in tqdm(range(num_iterations), desc=\"Iterations\", unit=\"iteration\"):\n",
        "        pso_object = ParticleSwarmOptimization(\n",
        "            objective_function=objective_function_topass,\n",
        "            n_iteration=100,\n",
        "            population_size=11,\n",
        "            logger=None,\n",
        "        )\n",
        "\n",
        "        knn_classifier = KNeighborsClassifier()\n",
        "\n",
        "        pso_object.fit(knn_classifier, X_train, y_train, X_test, y_test, verbose=False)\n",
        "\n",
        "\n",
        "        iteration_results = {\n",
        "            \"results_per_iteration\": pso_object.best_results_per_iteration,\n",
        "            \"best_dim_list\": pso_object.best_dim.tolist(),\n",
        "            \"best_feature_list\": pso_object.best_feature_list,\n",
        "            \"best_score\": pso_object.best_score\n",
        "        }\n",
        "\n",
        "        best_feature_list = pso_object.best_feature_list\n",
        "        best_dim = pso_object.best_dim\n",
        "        best_score = pso_object.best_score\n",
        "\n",
        "        results_per_iteration.append(iteration_results)\n",
        "        best_feature_lists.append(best_feature_list)\n",
        "        best_dims.append(best_dim.tolist())\n",
        "        best_scores.append(best_score)\n",
        "\n",
        "    return results_per_iteration, best_feature_lists, best_dims, best_scores"
      ],
      "id": "63549b39-6ff1-47b4-9ee7-cf2ea0d7998b"
    },
    {
      "cell_type": "code",
      "execution_count": null,
      "metadata": {
        "id": "43849e64-570f-40a7-a4e1-ef4454b8fb1a"
      },
      "outputs": [],
      "source": [
        "stroke=pd.read_csv('stroke4.csv')\n",
        "stroke=preprocess_dataset(stroke)\n",
        "X = stroke.drop(['stroke'],axis=1)\n",
        "y = stroke['stroke']\n",
        "\n",
        "from imblearn.over_sampling import SMOTE\n",
        "# Assuming X and y are your feature matrix and target variable, respectively\n",
        "smote = SMOTE()\n",
        "X, y = smote.fit_resample(X, y)\n",
        "X_train, X_test, y_train, y_test = train_test_split(X, y, test_size=0.2,random_state=42)"
      ],
      "id": "43849e64-570f-40a7-a4e1-ef4454b8fb1a"
    },
    {
      "cell_type": "code",
      "execution_count": null,
      "metadata": {
        "collapsed": true,
        "id": "506e5705-52f8-46dd-bd82-107004f3fb5b",
        "outputId": "064efe5c-ad49-4c67-825a-3703d1cd4fbf"
      },
      "outputs": [
        {
          "name": "stderr",
          "output_type": "stream",
          "text": [
            "Iterations:   0%|          | 0/10 [00:00<?, ?iteration/s]WARNING:root:1 individuals went zero\n",
            "WARNING:root:3 individuals went zero\n",
            "WARNING:root:1 individuals went zero\n",
            "WARNING:root:1 individuals went zero\n",
            "WARNING:root:1 individuals went zero\n",
            "WARNING:root:1 individuals went zero\n",
            "WARNING:root:1 individuals went zero\n",
            "WARNING:root:2 individuals went zero\n",
            "WARNING:root:1 individuals went zero\n",
            "WARNING:root:2 individuals went zero\n",
            "WARNING:root:3 individuals went zero\n",
            "WARNING:root:1 individuals went zero\n",
            "WARNING:root:1 individuals went zero\n",
            "WARNING:root:1 individuals went zero\n",
            "WARNING:root:1 individuals went zero\n",
            "WARNING:root:1 individuals went zero\n",
            "WARNING:root:1 individuals went zero\n",
            "WARNING:root:1 individuals went zero\n",
            "WARNING:root:1 individuals went zero\n",
            "WARNING:root:1 individuals went zero\n",
            "WARNING:root:1 individuals went zero\n",
            "WARNING:root:1 individuals went zero\n",
            "WARNING:root:2 individuals went zero\n",
            "WARNING:root:2 individuals went zero\n",
            "WARNING:root:1 individuals went zero\n",
            "WARNING:root:1 individuals went zero\n",
            "WARNING:root:1 individuals went zero\n",
            "WARNING:root:3 individuals went zero\n",
            "WARNING:root:1 individuals went zero\n",
            "WARNING:root:1 individuals went zero\n",
            "WARNING:root:1 individuals went zero\n",
            "WARNING:root:1 individuals went zero\n",
            "WARNING:root:1 individuals went zero\n",
            "WARNING:root:2 individuals went zero\n",
            "Iterations:  10%|█         | 1/10 [00:40<06:02, 40.33s/iteration]WARNING:root:1 individuals went zero\n",
            "WARNING:root:1 individuals went zero\n",
            "WARNING:root:1 individuals went zero\n",
            "WARNING:root:1 individuals went zero\n",
            "WARNING:root:1 individuals went zero\n",
            "WARNING:root:1 individuals went zero\n",
            "WARNING:root:1 individuals went zero\n",
            "WARNING:root:1 individuals went zero\n",
            "WARNING:root:1 individuals went zero\n",
            "WARNING:root:1 individuals went zero\n",
            "WARNING:root:1 individuals went zero\n",
            "WARNING:root:1 individuals went zero\n",
            "WARNING:root:1 individuals went zero\n",
            "WARNING:root:1 individuals went zero\n",
            "WARNING:root:1 individuals went zero\n",
            "WARNING:root:1 individuals went zero\n",
            "WARNING:root:1 individuals went zero\n",
            "WARNING:root:1 individuals went zero\n",
            "WARNING:root:1 individuals went zero\n",
            "WARNING:root:3 individuals went zero\n",
            "WARNING:root:1 individuals went zero\n",
            "WARNING:root:1 individuals went zero\n",
            "WARNING:root:1 individuals went zero\n",
            "WARNING:root:2 individuals went zero\n",
            "WARNING:root:1 individuals went zero\n",
            "WARNING:root:2 individuals went zero\n",
            "WARNING:root:1 individuals went zero\n",
            "WARNING:root:1 individuals went zero\n",
            "WARNING:root:1 individuals went zero\n",
            "WARNING:root:1 individuals went zero\n",
            "WARNING:root:1 individuals went zero\n",
            "WARNING:root:2 individuals went zero\n",
            "WARNING:root:1 individuals went zero\n",
            "WARNING:root:1 individuals went zero\n",
            "WARNING:root:1 individuals went zero\n",
            "WARNING:root:1 individuals went zero\n",
            "WARNING:root:3 individuals went zero\n",
            "WARNING:root:1 individuals went zero\n",
            "WARNING:root:1 individuals went zero\n",
            "WARNING:root:2 individuals went zero\n",
            "WARNING:root:1 individuals went zero\n",
            "WARNING:root:2 individuals went zero\n",
            "WARNING:root:1 individuals went zero\n",
            "WARNING:root:2 individuals went zero\n",
            "WARNING:root:2 individuals went zero\n",
            "Iterations:  20%|██        | 2/10 [01:17<05:09, 38.73s/iteration]WARNING:root:1 individuals went zero\n",
            "Iterations:  30%|███       | 3/10 [01:57<04:33, 39.07s/iteration]WARNING:root:1 individuals went zero\n",
            "WARNING:root:1 individuals went zero\n",
            "WARNING:root:1 individuals went zero\n",
            "WARNING:root:1 individuals went zero\n",
            "WARNING:root:1 individuals went zero\n",
            "WARNING:root:1 individuals went zero\n",
            "WARNING:root:1 individuals went zero\n",
            "WARNING:root:1 individuals went zero\n",
            "WARNING:root:1 individuals went zero\n",
            "WARNING:root:2 individuals went zero\n",
            "WARNING:root:1 individuals went zero\n",
            "WARNING:root:1 individuals went zero\n",
            "WARNING:root:1 individuals went zero\n",
            "WARNING:root:1 individuals went zero\n",
            "WARNING:root:1 individuals went zero\n",
            "WARNING:root:2 individuals went zero\n",
            "WARNING:root:1 individuals went zero\n",
            "WARNING:root:1 individuals went zero\n",
            "WARNING:root:1 individuals went zero\n",
            "WARNING:root:1 individuals went zero\n",
            "WARNING:root:1 individuals went zero\n",
            "WARNING:root:1 individuals went zero\n",
            "WARNING:root:1 individuals went zero\n",
            "WARNING:root:1 individuals went zero\n",
            "WARNING:root:3 individuals went zero\n",
            "WARNING:root:1 individuals went zero\n",
            "WARNING:root:1 individuals went zero\n",
            "WARNING:root:1 individuals went zero\n",
            "WARNING:root:1 individuals went zero\n",
            "WARNING:root:1 individuals went zero\n",
            "WARNING:root:2 individuals went zero\n",
            "WARNING:root:1 individuals went zero\n",
            "Iterations:  40%|████      | 4/10 [02:31<03:43, 37.24s/iteration]WARNING:root:1 individuals went zero\n",
            "WARNING:root:1 individuals went zero\n",
            "WARNING:root:1 individuals went zero\n",
            "WARNING:root:2 individuals went zero\n",
            "WARNING:root:1 individuals went zero\n",
            "WARNING:root:2 individuals went zero\n",
            "WARNING:root:1 individuals went zero\n",
            "WARNING:root:1 individuals went zero\n",
            "WARNING:root:1 individuals went zero\n",
            "WARNING:root:1 individuals went zero\n",
            "WARNING:root:1 individuals went zero\n",
            "WARNING:root:1 individuals went zero\n",
            "WARNING:root:1 individuals went zero\n",
            "WARNING:root:1 individuals went zero\n",
            "WARNING:root:1 individuals went zero\n",
            "WARNING:root:1 individuals went zero\n",
            "WARNING:root:1 individuals went zero\n",
            "WARNING:root:1 individuals went zero\n",
            "WARNING:root:2 individuals went zero\n",
            "WARNING:root:1 individuals went zero\n",
            "WARNING:root:1 individuals went zero\n",
            "WARNING:root:1 individuals went zero\n",
            "WARNING:root:1 individuals went zero\n",
            "WARNING:root:1 individuals went zero\n",
            "WARNING:root:1 individuals went zero\n",
            "WARNING:root:1 individuals went zero\n",
            "WARNING:root:2 individuals went zero\n",
            "WARNING:root:2 individuals went zero\n",
            "WARNING:root:2 individuals went zero\n",
            "WARNING:root:2 individuals went zero\n",
            "WARNING:root:1 individuals went zero\n",
            "WARNING:root:1 individuals went zero\n",
            "WARNING:root:2 individuals went zero\n",
            "WARNING:root:2 individuals went zero\n",
            "WARNING:root:1 individuals went zero\n",
            "Iterations:  50%|█████     | 5/10 [03:07<03:03, 36.76s/iteration]WARNING:root:1 individuals went zero\n",
            "WARNING:root:1 individuals went zero\n",
            "WARNING:root:1 individuals went zero\n",
            "WARNING:root:2 individuals went zero\n",
            "WARNING:root:2 individuals went zero\n",
            "WARNING:root:1 individuals went zero\n",
            "WARNING:root:1 individuals went zero\n",
            "WARNING:root:1 individuals went zero\n",
            "WARNING:root:1 individuals went zero\n",
            "WARNING:root:1 individuals went zero\n",
            "WARNING:root:2 individuals went zero\n",
            "WARNING:root:1 individuals went zero\n",
            "WARNING:root:1 individuals went zero\n",
            "WARNING:root:1 individuals went zero\n",
            "WARNING:root:1 individuals went zero\n",
            "WARNING:root:1 individuals went zero\n",
            "WARNING:root:1 individuals went zero\n",
            "WARNING:root:1 individuals went zero\n",
            "WARNING:root:1 individuals went zero\n",
            "WARNING:root:1 individuals went zero\n",
            "WARNING:root:2 individuals went zero\n",
            "WARNING:root:1 individuals went zero\n",
            "WARNING:root:1 individuals went zero\n",
            "WARNING:root:1 individuals went zero\n",
            "WARNING:root:1 individuals went zero\n",
            "WARNING:root:1 individuals went zero\n",
            "WARNING:root:1 individuals went zero\n",
            "WARNING:root:1 individuals went zero\n",
            "WARNING:root:1 individuals went zero\n",
            "WARNING:root:1 individuals went zero\n",
            "WARNING:root:4 individuals went zero\n",
            "WARNING:root:1 individuals went zero\n",
            "WARNING:root:1 individuals went zero\n",
            "WARNING:root:1 individuals went zero\n",
            "WARNING:root:1 individuals went zero\n",
            "WARNING:root:1 individuals went zero\n",
            "WARNING:root:1 individuals went zero\n",
            "WARNING:root:1 individuals went zero\n",
            "Iterations:  60%|██████    | 6/10 [03:40<02:21, 35.29s/iteration]WARNING:root:1 individuals went zero\n",
            "WARNING:root:1 individuals went zero\n",
            "WARNING:root:1 individuals went zero\n",
            "WARNING:root:1 individuals went zero\n",
            "WARNING:root:1 individuals went zero\n",
            "WARNING:root:2 individuals went zero\n",
            "WARNING:root:1 individuals went zero\n",
            "WARNING:root:1 individuals went zero\n",
            "WARNING:root:2 individuals went zero\n",
            "WARNING:root:1 individuals went zero\n",
            "WARNING:root:1 individuals went zero\n",
            "WARNING:root:2 individuals went zero\n",
            "Iterations:  70%|███████   | 7/10 [04:15<01:45, 35.17s/iteration]WARNING:root:1 individuals went zero\n",
            "WARNING:root:1 individuals went zero\n",
            "WARNING:root:1 individuals went zero\n",
            "WARNING:root:1 individuals went zero\n",
            "WARNING:root:2 individuals went zero\n",
            "WARNING:root:1 individuals went zero\n",
            "WARNING:root:1 individuals went zero\n",
            "WARNING:root:1 individuals went zero\n",
            "WARNING:root:1 individuals went zero\n",
            "WARNING:root:1 individuals went zero\n",
            "WARNING:root:2 individuals went zero\n",
            "WARNING:root:1 individuals went zero\n",
            "WARNING:root:1 individuals went zero\n",
            "WARNING:root:2 individuals went zero\n",
            "WARNING:root:1 individuals went zero\n",
            "WARNING:root:1 individuals went zero\n",
            "WARNING:root:1 individuals went zero\n",
            "WARNING:root:1 individuals went zero\n",
            "WARNING:root:1 individuals went zero\n",
            "WARNING:root:1 individuals went zero\n",
            "WARNING:root:1 individuals went zero\n",
            "WARNING:root:1 individuals went zero\n",
            "WARNING:root:1 individuals went zero\n",
            "WARNING:root:1 individuals went zero\n",
            "WARNING:root:2 individuals went zero\n",
            "WARNING:root:1 individuals went zero\n",
            "WARNING:root:1 individuals went zero\n",
            "WARNING:root:1 individuals went zero\n",
            "WARNING:root:2 individuals went zero\n",
            "WARNING:root:1 individuals went zero\n",
            "WARNING:root:1 individuals went zero\n",
            "WARNING:root:1 individuals went zero\n",
            "WARNING:root:1 individuals went zero\n",
            "WARNING:root:1 individuals went zero\n",
            "Iterations:  80%|████████  | 8/10 [04:53<01:12, 36.18s/iteration]WARNING:root:1 individuals went zero\n",
            "WARNING:root:1 individuals went zero\n",
            "WARNING:root:1 individuals went zero\n",
            "WARNING:root:1 individuals went zero\n",
            "WARNING:root:2 individuals went zero\n",
            "WARNING:root:1 individuals went zero\n",
            "WARNING:root:1 individuals went zero\n",
            "WARNING:root:1 individuals went zero\n",
            "WARNING:root:1 individuals went zero\n",
            "WARNING:root:1 individuals went zero\n",
            "WARNING:root:1 individuals went zero\n",
            "WARNING:root:1 individuals went zero\n",
            "WARNING:root:1 individuals went zero\n",
            "WARNING:root:1 individuals went zero\n",
            "WARNING:root:1 individuals went zero\n",
            "WARNING:root:2 individuals went zero\n",
            "WARNING:root:2 individuals went zero\n",
            "WARNING:root:1 individuals went zero\n",
            "WARNING:root:1 individuals went zero\n",
            "WARNING:root:1 individuals went zero\n",
            "WARNING:root:2 individuals went zero\n",
            "WARNING:root:2 individuals went zero\n",
            "WARNING:root:1 individuals went zero\n",
            "WARNING:root:1 individuals went zero\n",
            "WARNING:root:1 individuals went zero\n",
            "WARNING:root:1 individuals went zero\n",
            "WARNING:root:1 individuals went zero\n",
            "WARNING:root:2 individuals went zero\n",
            "WARNING:root:1 individuals went zero\n",
            "WARNING:root:1 individuals went zero\n",
            "WARNING:root:1 individuals went zero\n",
            "WARNING:root:2 individuals went zero\n",
            "WARNING:root:1 individuals went zero\n",
            "WARNING:root:1 individuals went zero\n",
            "WARNING:root:1 individuals went zero\n",
            "WARNING:root:1 individuals went zero\n",
            "WARNING:root:1 individuals went zero\n",
            "Iterations:  90%|█████████ | 9/10 [05:23<00:34, 34.24s/iteration]WARNING:root:1 individuals went zero\n",
            "WARNING:root:1 individuals went zero\n",
            "WARNING:root:1 individuals went zero\n",
            "WARNING:root:1 individuals went zero\n",
            "WARNING:root:1 individuals went zero\n",
            "WARNING:root:1 individuals went zero\n",
            "WARNING:root:1 individuals went zero\n",
            "WARNING:root:1 individuals went zero\n",
            "WARNING:root:2 individuals went zero\n",
            "WARNING:root:2 individuals went zero\n",
            "WARNING:root:1 individuals went zero\n",
            "WARNING:root:1 individuals went zero\n",
            "WARNING:root:1 individuals went zero\n",
            "WARNING:root:1 individuals went zero\n",
            "WARNING:root:1 individuals went zero\n",
            "WARNING:root:1 individuals went zero\n",
            "WARNING:root:1 individuals went zero\n",
            "WARNING:root:1 individuals went zero\n",
            "WARNING:root:1 individuals went zero\n",
            "WARNING:root:1 individuals went zero\n",
            "WARNING:root:1 individuals went zero\n",
            "WARNING:root:2 individuals went zero\n",
            "WARNING:root:1 individuals went zero\n",
            "WARNING:root:1 individuals went zero\n",
            "WARNING:root:1 individuals went zero\n",
            "WARNING:root:1 individuals went zero\n",
            "WARNING:root:1 individuals went zero\n",
            "WARNING:root:1 individuals went zero\n",
            "WARNING:root:1 individuals went zero\n",
            "WARNING:root:1 individuals went zero\n",
            "WARNING:root:3 individuals went zero\n",
            "WARNING:root:2 individuals went zero\n",
            "WARNING:root:1 individuals went zero\n",
            "WARNING:root:1 individuals went zero\n",
            "WARNING:root:1 individuals went zero\n",
            "WARNING:root:2 individuals went zero\n",
            "WARNING:root:1 individuals went zero\n",
            "WARNING:root:1 individuals went zero\n",
            "WARNING:root:1 individuals went zero\n",
            "WARNING:root:1 individuals went zero\n",
            "WARNING:root:1 individuals went zero\n",
            "WARNING:root:1 individuals went zero\n",
            "Iterations: 100%|██████████| 10/10 [05:52<00:00, 35.24s/iteration]\n"
          ]
        }
      ],
      "source": [
        "num_iterations = 10\n",
        "results, features, dims, scores = run_pso_optimization(num_iterations, X_train, y_train, X_test, y_test)"
      ],
      "id": "506e5705-52f8-46dd-bd82-107004f3fb5b"
    },
    {
      "cell_type": "code",
      "execution_count": null,
      "metadata": {
        "id": "9321c44b-5343-482b-997a-8799b5ed53dc",
        "outputId": "a77cfdcc-70b8-4bde-e887-6d89ab405a5e"
      },
      "outputs": [
        {
          "data": {
            "text/plain": [
              "[['age'],\n",
              " ['age'],\n",
              " ['age'],\n",
              " ['age'],\n",
              " ['age'],\n",
              " ['age'],\n",
              " ['age'],\n",
              " ['age'],\n",
              " ['age'],\n",
              " ['age']]"
            ]
          },
          "execution_count": 384,
          "metadata": {},
          "output_type": "execute_result"
        }
      ],
      "source": [
        "features"
      ],
      "id": "9321c44b-5343-482b-997a-8799b5ed53dc"
    },
    {
      "cell_type": "code",
      "execution_count": null,
      "metadata": {
        "id": "805932dd-be96-4304-8247-1e2a675e7f65",
        "outputId": "2beec97c-3dd6-4b9b-ab10-92a08af239c3"
      },
      "outputs": [
        {
          "name": "stderr",
          "output_type": "stream",
          "text": [
            "Iterations:  70%|███████   | 7/10 [03:16<01:20, 26.70s/iteration]WARNING:root:1 individuals went zero\n",
            "Iterations:  80%|████████  | 8/10 [03:41<00:52, 26.26s/iteration]WARNING:root:1 individuals went zero\n",
            "Iterations: 100%|██████████| 10/10 [04:38<00:00, 27.81s/iteration]\n"
          ]
        }
      ],
      "source": [
        "num_iterations = 10\n",
        "results, features, dims, scores = run_pso_optimization(num_iterations, X_train, y_train, X_test, y_test)"
      ],
      "id": "805932dd-be96-4304-8247-1e2a675e7f65"
    },
    {
      "cell_type": "code",
      "execution_count": null,
      "metadata": {
        "id": "4da5c33f-35bf-4f70-8f0d-e0a624696e87",
        "outputId": "2f6829c3-3747-4b5b-ef13-e3375ea773be"
      },
      "outputs": [
        {
          "data": {
            "text/plain": [
              "[['age'],\n",
              " ['age'],\n",
              " ['age'],\n",
              " ['age'],\n",
              " ['age'],\n",
              " ['age'],\n",
              " ['age'],\n",
              " ['age'],\n",
              " ['age'],\n",
              " ['age']]"
            ]
          },
          "execution_count": 385,
          "metadata": {},
          "output_type": "execute_result"
        }
      ],
      "source": [
        "features"
      ],
      "id": "4da5c33f-35bf-4f70-8f0d-e0a624696e87"
    },
    {
      "cell_type": "code",
      "execution_count": null,
      "metadata": {
        "collapsed": true,
        "id": "7480307d-2042-4e73-86f7-14b7ecfee782",
        "outputId": "cc806ce6-7658-4644-dd66-f66344869610"
      },
      "outputs": [
        {
          "name": "stderr",
          "output_type": "stream",
          "text": [
            "Iterations:   0%|          | 0/10 [00:00<?, ?iteration/s]WARNING:root:1 individuals went zero\n",
            "WARNING:root:1 individuals went zero\n",
            "WARNING:root:1 individuals went zero\n",
            "WARNING:root:2 individuals went zero\n",
            "WARNING:root:1 individuals went zero\n",
            "WARNING:root:1 individuals went zero\n",
            "WARNING:root:1 individuals went zero\n",
            "WARNING:root:1 individuals went zero\n",
            "WARNING:root:3 individuals went zero\n",
            "WARNING:root:1 individuals went zero\n",
            "WARNING:root:1 individuals went zero\n",
            "WARNING:root:1 individuals went zero\n",
            "WARNING:root:2 individuals went zero\n",
            "WARNING:root:1 individuals went zero\n",
            "WARNING:root:2 individuals went zero\n",
            "WARNING:root:1 individuals went zero\n",
            "WARNING:root:1 individuals went zero\n",
            "WARNING:root:1 individuals went zero\n",
            "WARNING:root:1 individuals went zero\n",
            "WARNING:root:2 individuals went zero\n",
            "WARNING:root:1 individuals went zero\n",
            "WARNING:root:1 individuals went zero\n",
            "WARNING:root:1 individuals went zero\n",
            "WARNING:root:1 individuals went zero\n",
            "WARNING:root:1 individuals went zero\n",
            "WARNING:root:2 individuals went zero\n",
            "WARNING:root:1 individuals went zero\n",
            "WARNING:root:1 individuals went zero\n",
            "WARNING:root:1 individuals went zero\n",
            "WARNING:root:1 individuals went zero\n",
            "WARNING:root:2 individuals went zero\n",
            "WARNING:root:1 individuals went zero\n",
            "WARNING:root:3 individuals went zero\n",
            "WARNING:root:1 individuals went zero\n",
            "WARNING:root:2 individuals went zero\n",
            "WARNING:root:1 individuals went zero\n",
            "WARNING:root:2 individuals went zero\n",
            "WARNING:root:1 individuals went zero\n",
            "WARNING:root:1 individuals went zero\n",
            "WARNING:root:5 individuals went zero\n",
            "WARNING:root:1 individuals went zero\n",
            "WARNING:root:2 individuals went zero\n",
            "WARNING:root:1 individuals went zero\n",
            "WARNING:root:1 individuals went zero\n",
            "WARNING:root:1 individuals went zero\n",
            "WARNING:root:2 individuals went zero\n",
            "WARNING:root:1 individuals went zero\n",
            "WARNING:root:1 individuals went zero\n",
            "WARNING:root:2 individuals went zero\n",
            "Iterations:  10%|█         | 1/10 [00:34<05:09, 34.37s/iteration]WARNING:root:1 individuals went zero\n",
            "WARNING:root:1 individuals went zero\n",
            "WARNING:root:2 individuals went zero\n",
            "WARNING:root:1 individuals went zero\n",
            "WARNING:root:1 individuals went zero\n",
            "WARNING:root:1 individuals went zero\n",
            "WARNING:root:1 individuals went zero\n",
            "WARNING:root:1 individuals went zero\n",
            "WARNING:root:1 individuals went zero\n",
            "WARNING:root:1 individuals went zero\n",
            "WARNING:root:1 individuals went zero\n",
            "WARNING:root:1 individuals went zero\n",
            "WARNING:root:1 individuals went zero\n",
            "WARNING:root:2 individuals went zero\n",
            "WARNING:root:1 individuals went zero\n",
            "WARNING:root:1 individuals went zero\n",
            "WARNING:root:1 individuals went zero\n",
            "WARNING:root:2 individuals went zero\n",
            "WARNING:root:1 individuals went zero\n",
            "WARNING:root:1 individuals went zero\n",
            "WARNING:root:1 individuals went zero\n",
            "WARNING:root:1 individuals went zero\n",
            "WARNING:root:1 individuals went zero\n",
            "WARNING:root:1 individuals went zero\n",
            "WARNING:root:2 individuals went zero\n",
            "WARNING:root:1 individuals went zero\n",
            "WARNING:root:2 individuals went zero\n",
            "WARNING:root:1 individuals went zero\n",
            "WARNING:root:3 individuals went zero\n",
            "WARNING:root:1 individuals went zero\n",
            "WARNING:root:1 individuals went zero\n",
            "WARNING:root:1 individuals went zero\n",
            "WARNING:root:2 individuals went zero\n",
            "WARNING:root:2 individuals went zero\n",
            "WARNING:root:1 individuals went zero\n",
            "WARNING:root:1 individuals went zero\n",
            "WARNING:root:1 individuals went zero\n",
            "WARNING:root:1 individuals went zero\n",
            "WARNING:root:1 individuals went zero\n",
            "WARNING:root:1 individuals went zero\n",
            "WARNING:root:3 individuals went zero\n",
            "WARNING:root:1 individuals went zero\n",
            "WARNING:root:1 individuals went zero\n",
            "WARNING:root:2 individuals went zero\n",
            "WARNING:root:2 individuals went zero\n",
            "WARNING:root:1 individuals went zero\n",
            "WARNING:root:2 individuals went zero\n",
            "Iterations:  30%|███       | 3/10 [01:34<03:33, 30.53s/iteration]WARNING:root:1 individuals went zero\n",
            "WARNING:root:1 individuals went zero\n",
            "WARNING:root:1 individuals went zero\n",
            "WARNING:root:2 individuals went zero\n",
            "WARNING:root:1 individuals went zero\n",
            "WARNING:root:2 individuals went zero\n",
            "WARNING:root:1 individuals went zero\n",
            "WARNING:root:1 individuals went zero\n",
            "WARNING:root:1 individuals went zero\n",
            "WARNING:root:1 individuals went zero\n",
            "WARNING:root:1 individuals went zero\n",
            "WARNING:root:1 individuals went zero\n",
            "WARNING:root:3 individuals went zero\n",
            "WARNING:root:1 individuals went zero\n",
            "WARNING:root:1 individuals went zero\n",
            "WARNING:root:1 individuals went zero\n",
            "WARNING:root:1 individuals went zero\n",
            "WARNING:root:1 individuals went zero\n",
            "WARNING:root:1 individuals went zero\n",
            "WARNING:root:2 individuals went zero\n",
            "WARNING:root:1 individuals went zero\n",
            "WARNING:root:1 individuals went zero\n",
            "WARNING:root:2 individuals went zero\n",
            "WARNING:root:2 individuals went zero\n",
            "WARNING:root:2 individuals went zero\n",
            "WARNING:root:2 individuals went zero\n",
            "WARNING:root:1 individuals went zero\n",
            "WARNING:root:1 individuals went zero\n",
            "WARNING:root:1 individuals went zero\n",
            "WARNING:root:1 individuals went zero\n",
            "WARNING:root:2 individuals went zero\n",
            "WARNING:root:1 individuals went zero\n",
            "WARNING:root:1 individuals went zero\n",
            "WARNING:root:1 individuals went zero\n",
            "WARNING:root:2 individuals went zero\n",
            "WARNING:root:1 individuals went zero\n",
            "WARNING:root:1 individuals went zero\n",
            "WARNING:root:1 individuals went zero\n",
            "WARNING:root:1 individuals went zero\n",
            "WARNING:root:1 individuals went zero\n",
            "WARNING:root:1 individuals went zero\n",
            "WARNING:root:1 individuals went zero\n",
            "Iterations:  40%|████      | 4/10 [02:03<03:01, 30.24s/iteration]WARNING:root:1 individuals went zero\n",
            "WARNING:root:1 individuals went zero\n",
            "WARNING:root:1 individuals went zero\n",
            "WARNING:root:1 individuals went zero\n",
            "WARNING:root:2 individuals went zero\n",
            "WARNING:root:2 individuals went zero\n",
            "WARNING:root:1 individuals went zero\n",
            "WARNING:root:1 individuals went zero\n",
            "WARNING:root:1 individuals went zero\n",
            "WARNING:root:1 individuals went zero\n",
            "WARNING:root:1 individuals went zero\n",
            "WARNING:root:1 individuals went zero\n",
            "WARNING:root:1 individuals went zero\n",
            "WARNING:root:2 individuals went zero\n",
            "WARNING:root:1 individuals went zero\n",
            "WARNING:root:2 individuals went zero\n",
            "WARNING:root:1 individuals went zero\n",
            "WARNING:root:1 individuals went zero\n",
            "WARNING:root:1 individuals went zero\n",
            "WARNING:root:1 individuals went zero\n",
            "WARNING:root:1 individuals went zero\n",
            "WARNING:root:1 individuals went zero\n",
            "WARNING:root:1 individuals went zero\n",
            "WARNING:root:1 individuals went zero\n",
            "WARNING:root:1 individuals went zero\n",
            "WARNING:root:1 individuals went zero\n",
            "WARNING:root:1 individuals went zero\n",
            "WARNING:root:2 individuals went zero\n",
            "WARNING:root:1 individuals went zero\n",
            "WARNING:root:1 individuals went zero\n",
            "WARNING:root:1 individuals went zero\n",
            "WARNING:root:1 individuals went zero\n",
            "WARNING:root:1 individuals went zero\n",
            "WARNING:root:1 individuals went zero\n",
            "WARNING:root:2 individuals went zero\n",
            "WARNING:root:1 individuals went zero\n",
            "Iterations:  50%|█████     | 5/10 [02:39<02:40, 32.16s/iteration]WARNING:root:1 individuals went zero\n",
            "WARNING:root:1 individuals went zero\n",
            "WARNING:root:1 individuals went zero\n",
            "WARNING:root:2 individuals went zero\n",
            "WARNING:root:1 individuals went zero\n",
            "WARNING:root:2 individuals went zero\n",
            "WARNING:root:1 individuals went zero\n",
            "WARNING:root:1 individuals went zero\n",
            "WARNING:root:1 individuals went zero\n",
            "WARNING:root:2 individuals went zero\n",
            "WARNING:root:1 individuals went zero\n",
            "WARNING:root:1 individuals went zero\n",
            "WARNING:root:2 individuals went zero\n",
            "WARNING:root:2 individuals went zero\n",
            "WARNING:root:1 individuals went zero\n",
            "WARNING:root:1 individuals went zero\n",
            "WARNING:root:1 individuals went zero\n",
            "WARNING:root:1 individuals went zero\n",
            "WARNING:root:1 individuals went zero\n",
            "WARNING:root:1 individuals went zero\n",
            "WARNING:root:1 individuals went zero\n",
            "WARNING:root:1 individuals went zero\n",
            "WARNING:root:1 individuals went zero\n",
            "WARNING:root:1 individuals went zero\n",
            "WARNING:root:1 individuals went zero\n",
            "WARNING:root:1 individuals went zero\n",
            "WARNING:root:1 individuals went zero\n",
            "WARNING:root:1 individuals went zero\n",
            "WARNING:root:2 individuals went zero\n",
            "WARNING:root:1 individuals went zero\n",
            "WARNING:root:1 individuals went zero\n",
            "Iterations:  60%|██████    | 6/10 [03:23<02:25, 36.33s/iteration]WARNING:root:1 individuals went zero\n",
            "WARNING:root:1 individuals went zero\n",
            "WARNING:root:1 individuals went zero\n",
            "WARNING:root:1 individuals went zero\n",
            "Iterations:  70%|███████   | 7/10 [04:01<01:50, 36.75s/iteration]WARNING:root:1 individuals went zero\n",
            "WARNING:root:1 individuals went zero\n",
            "WARNING:root:1 individuals went zero\n",
            "WARNING:root:1 individuals went zero\n",
            "WARNING:root:1 individuals went zero\n",
            "WARNING:root:1 individuals went zero\n",
            "WARNING:root:1 individuals went zero\n",
            "WARNING:root:1 individuals went zero\n",
            "WARNING:root:1 individuals went zero\n",
            "WARNING:root:1 individuals went zero\n",
            "WARNING:root:1 individuals went zero\n",
            "WARNING:root:1 individuals went zero\n",
            "WARNING:root:1 individuals went zero\n",
            "WARNING:root:2 individuals went zero\n",
            "WARNING:root:1 individuals went zero\n",
            "WARNING:root:1 individuals went zero\n",
            "WARNING:root:1 individuals went zero\n",
            "WARNING:root:1 individuals went zero\n",
            "WARNING:root:3 individuals went zero\n",
            "WARNING:root:1 individuals went zero\n",
            "WARNING:root:1 individuals went zero\n",
            "WARNING:root:3 individuals went zero\n",
            "WARNING:root:1 individuals went zero\n",
            "WARNING:root:1 individuals went zero\n",
            "WARNING:root:1 individuals went zero\n",
            "WARNING:root:1 individuals went zero\n",
            "WARNING:root:1 individuals went zero\n",
            "WARNING:root:1 individuals went zero\n",
            "WARNING:root:1 individuals went zero\n",
            "WARNING:root:1 individuals went zero\n",
            "WARNING:root:3 individuals went zero\n",
            "WARNING:root:1 individuals went zero\n",
            "WARNING:root:1 individuals went zero\n",
            "WARNING:root:1 individuals went zero\n",
            "WARNING:root:1 individuals went zero\n",
            "WARNING:root:1 individuals went zero\n",
            "WARNING:root:1 individuals went zero\n",
            "WARNING:root:1 individuals went zero\n",
            "WARNING:root:1 individuals went zero\n",
            "WARNING:root:1 individuals went zero\n",
            "WARNING:root:2 individuals went zero\n",
            "Iterations:  80%|████████  | 8/10 [04:37<01:12, 36.34s/iteration]WARNING:root:1 individuals went zero\n",
            "WARNING:root:1 individuals went zero\n",
            "WARNING:root:1 individuals went zero\n",
            "WARNING:root:1 individuals went zero\n",
            "WARNING:root:1 individuals went zero\n",
            "WARNING:root:1 individuals went zero\n",
            "WARNING:root:1 individuals went zero\n",
            "WARNING:root:1 individuals went zero\n",
            "WARNING:root:1 individuals went zero\n",
            "WARNING:root:1 individuals went zero\n",
            "WARNING:root:1 individuals went zero\n",
            "WARNING:root:1 individuals went zero\n",
            "WARNING:root:1 individuals went zero\n",
            "WARNING:root:1 individuals went zero\n",
            "WARNING:root:1 individuals went zero\n",
            "WARNING:root:1 individuals went zero\n",
            "WARNING:root:1 individuals went zero\n",
            "WARNING:root:1 individuals went zero\n",
            "WARNING:root:1 individuals went zero\n",
            "WARNING:root:1 individuals went zero\n",
            "WARNING:root:1 individuals went zero\n",
            "WARNING:root:1 individuals went zero\n",
            "WARNING:root:1 individuals went zero\n",
            "WARNING:root:1 individuals went zero\n",
            "WARNING:root:1 individuals went zero\n",
            "WARNING:root:1 individuals went zero\n",
            "WARNING:root:1 individuals went zero\n",
            "WARNING:root:2 individuals went zero\n",
            "WARNING:root:1 individuals went zero\n",
            "WARNING:root:1 individuals went zero\n",
            "WARNING:root:2 individuals went zero\n",
            "WARNING:root:2 individuals went zero\n",
            "WARNING:root:1 individuals went zero\n",
            "WARNING:root:1 individuals went zero\n",
            "WARNING:root:2 individuals went zero\n",
            "WARNING:root:1 individuals went zero\n",
            "WARNING:root:1 individuals went zero\n",
            "WARNING:root:1 individuals went zero\n",
            "WARNING:root:1 individuals went zero\n",
            "WARNING:root:1 individuals went zero\n",
            "WARNING:root:1 individuals went zero\n",
            "Iterations:  90%|█████████ | 9/10 [05:08<00:34, 34.93s/iteration]WARNING:root:1 individuals went zero\n",
            "WARNING:root:1 individuals went zero\n",
            "WARNING:root:2 individuals went zero\n",
            "WARNING:root:2 individuals went zero\n",
            "WARNING:root:1 individuals went zero\n",
            "WARNING:root:1 individuals went zero\n",
            "WARNING:root:1 individuals went zero\n",
            "WARNING:root:1 individuals went zero\n",
            "WARNING:root:2 individuals went zero\n",
            "WARNING:root:1 individuals went zero\n",
            "WARNING:root:1 individuals went zero\n",
            "WARNING:root:2 individuals went zero\n",
            "WARNING:root:1 individuals went zero\n",
            "WARNING:root:2 individuals went zero\n",
            "WARNING:root:1 individuals went zero\n",
            "WARNING:root:1 individuals went zero\n",
            "WARNING:root:1 individuals went zero\n",
            "WARNING:root:1 individuals went zero\n",
            "WARNING:root:2 individuals went zero\n",
            "WARNING:root:1 individuals went zero\n",
            "WARNING:root:1 individuals went zero\n",
            "WARNING:root:1 individuals went zero\n",
            "WARNING:root:1 individuals went zero\n",
            "WARNING:root:1 individuals went zero\n",
            "WARNING:root:3 individuals went zero\n",
            "WARNING:root:1 individuals went zero\n",
            "WARNING:root:1 individuals went zero\n",
            "WARNING:root:1 individuals went zero\n",
            "WARNING:root:1 individuals went zero\n",
            "WARNING:root:2 individuals went zero\n",
            "Iterations: 100%|██████████| 10/10 [05:45<00:00, 34.58s/iteration]\n"
          ]
        }
      ],
      "source": [
        "num_iterations = 10\n",
        "results, features, dims, scores = run_pso_optimization(num_iterations, X_train, y_train, X_test, y_test)"
      ],
      "id": "7480307d-2042-4e73-86f7-14b7ecfee782"
    },
    {
      "cell_type": "code",
      "execution_count": null,
      "metadata": {
        "id": "6e396c41-c785-4a49-9500-e289015c77cf",
        "outputId": "1c61043d-f5de-4c27-cf43-556743fc4fa7"
      },
      "outputs": [
        {
          "data": {
            "text/plain": [
              "[['age'],\n",
              " ['age'],\n",
              " ['gender', 'age', 'ever_married'],\n",
              " ['age'],\n",
              " ['age'],\n",
              " ['age'],\n",
              " ['age'],\n",
              " ['age'],\n",
              " ['age'],\n",
              " ['age']]"
            ]
          },
          "execution_count": 168,
          "metadata": {},
          "output_type": "execute_result"
        }
      ],
      "source": [
        "features"
      ],
      "id": "6e396c41-c785-4a49-9500-e289015c77cf"
    },
    {
      "cell_type": "code",
      "execution_count": null,
      "metadata": {
        "id": "30098d2f-9e92-4def-8c61-b5be3611d804"
      },
      "outputs": [],
      "source": [
        "Stroke_data =pd.DataFrame(X[ ['gender', 'age', 'ever_married']])\n",
        "Stroke_data['stroke']=y"
      ],
      "id": "30098d2f-9e92-4def-8c61-b5be3611d804"
    },
    {
      "cell_type": "code",
      "execution_count": null,
      "metadata": {
        "colab": {
          "base_uri": "https://localhost:8080/"
        },
        "id": "10375a61-1ead-4dff-a391-7c38941c44ab",
        "outputId": "4427faea-0d43-46e1-91e0-698dbc916c9f"
      },
      "outputs": [
        {
          "name": "stderr",
          "output_type": "stream",
          "text": [
            "No path specified. Models will be saved in: \"AutogluonModels/ag-20230831_094026/\"\n",
            "Beginning AutoGluon training ...\n",
            "AutoGluon will save models to \"AutogluonModels/ag-20230831_094026/\"\n",
            "AutoGluon Version:  0.8.2\n",
            "Python Version:     3.10.12\n",
            "Operating System:   Linux\n",
            "Platform Machine:   x86_64\n",
            "Platform Version:   #1 SMP Fri Jun 9 10:57:30 UTC 2023\n",
            "Disk Space Avail:   11.47 GB / 16.11 GB (71.2%)\n",
            "Train Data Rows:    9722\n",
            "Train Data Columns: 3\n",
            "Label Column: stroke\n",
            "Preprocessing data ...\n",
            "AutoGluon infers your prediction problem is: 'binary' (because only two unique label-values observed).\n",
            "\t2 unique label values:  [1, 0]\n",
            "\tIf 'binary' is not the correct problem_type, please manually specify the problem_type parameter during predictor init (You may specify problem_type as one of: ['binary', 'multiclass', 'regression'])\n",
            "Selected class <--> label mapping:  class 1 = 1, class 0 = 0\n",
            "Using Feature Generators to preprocess the data ...\n",
            "Fitting AutoMLPipelineFeatureGenerator...\n",
            "\tAvailable Memory:                    10773.5 MB\n",
            "\tTrain Data (Original)  Memory Usage: 0.23 MB (0.0% of available memory)\n",
            "\tInferring data type of each feature based on column values. Set feature_metadata_in to manually specify special dtypes of the features.\n",
            "\tStage 1 Generators:\n",
            "\t\tFitting AsTypeFeatureGenerator...\n",
            "\t\t\tNote: Converting 1 features to boolean dtype as they only contain 2 unique values.\n",
            "\tStage 2 Generators:\n",
            "\t\tFitting FillNaFeatureGenerator...\n",
            "\tStage 3 Generators:\n",
            "\t\tFitting IdentityFeatureGenerator...\n",
            "\tStage 4 Generators:\n",
            "\t\tFitting DropUniqueFeatureGenerator...\n",
            "\tStage 5 Generators:\n",
            "\t\tFitting DropDuplicatesFeatureGenerator...\n",
            "\tTypes of features in original data (raw dtype, special dtypes):\n",
            "\t\t('float', []) : 1 | ['age']\n",
            "\t\t('int', [])   : 2 | ['gender', 'ever_married']\n",
            "\tTypes of features in processed data (raw dtype, special dtypes):\n",
            "\t\t('float', [])     : 1 | ['age']\n",
            "\t\t('int', [])       : 1 | ['gender']\n",
            "\t\t('int', ['bool']) : 1 | ['ever_married']\n",
            "\t0.1s = Fit runtime\n",
            "\t3 features in original data used to generate 3 features in processed data.\n",
            "\tTrain Data (Processed) Memory Usage: 0.17 MB (0.0% of available memory)\n",
            "Data preprocessing and feature engineering runtime = 0.16s ...\n",
            "AutoGluon will gauge predictive performance using evaluation metric: 'accuracy'\n",
            "\tTo change this, specify the eval_metric parameter of Predictor()\n",
            "Automatically generating train/validation split with holdout_frac=0.1, Train Rows: 8749, Val Rows: 973\n",
            "User-specified model hyperparameters to be fit:\n",
            "{\n",
            "\t'NN_TORCH': {},\n",
            "\t'GBM': [{'extra_trees': True, 'ag_args': {'name_suffix': 'XT'}}, {}, 'GBMLarge'],\n",
            "\t'CAT': {},\n",
            "\t'XGB': {},\n",
            "\t'FASTAI': {},\n",
            "\t'RF': [{'criterion': 'gini', 'ag_args': {'name_suffix': 'Gini', 'problem_types': ['binary', 'multiclass']}}, {'criterion': 'entropy', 'ag_args': {'name_suffix': 'Entr', 'problem_types': ['binary', 'multiclass']}}, {'criterion': 'squared_error', 'ag_args': {'name_suffix': 'MSE', 'problem_types': ['regression', 'quantile']}}],\n",
            "\t'XT': [{'criterion': 'gini', 'ag_args': {'name_suffix': 'Gini', 'problem_types': ['binary', 'multiclass']}}, {'criterion': 'entropy', 'ag_args': {'name_suffix': 'Entr', 'problem_types': ['binary', 'multiclass']}}, {'criterion': 'squared_error', 'ag_args': {'name_suffix': 'MSE', 'problem_types': ['regression', 'quantile']}}],\n",
            "\t'KNN': [{'weights': 'uniform', 'ag_args': {'name_suffix': 'Unif'}}, {'weights': 'distance', 'ag_args': {'name_suffix': 'Dist'}}],\n",
            "}\n",
            "Fitting 13 L1 models ...\n",
            "Fitting model: KNeighborsUnif ...\n",
            "\t0.9281\t = Validation score   (accuracy)\n",
            "\t0.02s\t = Training   runtime\n",
            "\t0.03s\t = Validation runtime\n",
            "Fitting model: KNeighborsDist ...\n",
            "\t0.9373\t = Validation score   (accuracy)\n",
            "\t0.02s\t = Training   runtime\n",
            "\t0.02s\t = Validation runtime\n",
            "Fitting model: LightGBMXT ...\n"
          ]
        },
        {
          "name": "stdout",
          "output_type": "stream",
          "text": [
            "[1000]\tvalid_set's binary_error: 0.186023\n"
          ]
        },
        {
          "name": "stderr",
          "output_type": "stream",
          "text": [
            "\t0.816\t = Validation score   (accuracy)\n",
            "\t2.05s\t = Training   runtime\n",
            "\t0.11s\t = Validation runtime\n",
            "Fitting model: LightGBM ...\n",
            "\t0.9188\t = Validation score   (accuracy)\n",
            "\t1.08s\t = Training   runtime\n",
            "\t0.02s\t = Validation runtime\n",
            "Fitting model: RandomForestGini ...\n",
            "\t0.9322\t = Validation score   (accuracy)\n",
            "\t2.75s\t = Training   runtime\n",
            "\t0.14s\t = Validation runtime\n",
            "Fitting model: RandomForestEntr ...\n",
            "\t0.9332\t = Validation score   (accuracy)\n",
            "\t2.71s\t = Training   runtime\n",
            "\t0.13s\t = Validation runtime\n",
            "Fitting model: CatBoost ...\n",
            "\t0.9342\t = Validation score   (accuracy)\n",
            "\t3.28s\t = Training   runtime\n",
            "\t0.0s\t = Validation runtime\n",
            "Fitting model: ExtraTreesGini ...\n",
            "\t0.9353\t = Validation score   (accuracy)\n",
            "\t1.22s\t = Training   runtime\n",
            "\t0.13s\t = Validation runtime\n",
            "Fitting model: ExtraTreesEntr ...\n",
            "\t0.9332\t = Validation score   (accuracy)\n",
            "\t1.66s\t = Training   runtime\n",
            "\t0.16s\t = Validation runtime\n",
            "Fitting model: NeuralNetFastAI ...\n",
            "No improvement since epoch 1: early stopping\n",
            "\t0.7955\t = Validation score   (accuracy)\n",
            "\t12.86s\t = Training   runtime\n",
            "\t0.02s\t = Validation runtime\n",
            "Fitting model: XGBoost ...\n",
            "\t0.8962\t = Validation score   (accuracy)\n",
            "\t0.68s\t = Training   runtime\n",
            "\t0.02s\t = Validation runtime\n",
            "Fitting model: NeuralNetTorch ...\n",
            "\t0.7945\t = Validation score   (accuracy)\n",
            "\t28.26s\t = Training   runtime\n",
            "\t0.01s\t = Validation runtime\n",
            "Fitting model: LightGBMLarge ...\n",
            "\t0.9178\t = Validation score   (accuracy)\n",
            "\t1.28s\t = Training   runtime\n",
            "\t0.02s\t = Validation runtime\n",
            "Fitting model: WeightedEnsemble_L2 ...\n",
            "\t0.9424\t = Validation score   (accuracy)\n",
            "\t1.3s\t = Training   runtime\n",
            "\t0.0s\t = Validation runtime\n",
            "AutoGluon training complete, total runtime = 61.82s ... Best model: \"WeightedEnsemble_L2\"\n",
            "TabularPredictor saved. To load, use: predictor = TabularPredictor.load(\"AutogluonModels/ag-20230831_094026/\")\n"
          ]
        },
        {
          "name": "stdout",
          "output_type": "stream",
          "text": [
            "                  model  score_val  pred_time_val   fit_time  pred_time_val_marginal  fit_time_marginal  stack_level  can_infer  fit_order\n",
            "0   WeightedEnsemble_L2   0.942446       0.164654   4.066536                0.002551           1.300472            2       True         14\n",
            "1        KNeighborsDist   0.937307       0.020681   0.019664                0.020681           0.019664            1       True          2\n",
            "2        ExtraTreesGini   0.935252       0.130026   1.218271                0.130026           1.218271            1       True          8\n",
            "3              CatBoost   0.934224       0.004283   3.282522                0.004283           3.282522            1       True          7\n",
            "4      RandomForestEntr   0.933196       0.130409   2.711155                0.130409           2.711155            1       True          6\n",
            "5        ExtraTreesEntr   0.933196       0.161692   1.663985                0.161692           1.663985            1       True          9\n",
            "6      RandomForestGini   0.932169       0.141422   2.746400                0.141422           2.746400            1       True          5\n",
            "7        KNeighborsUnif   0.928058       0.029637   0.018830                0.029637           0.018830            1       True          1\n",
            "8              LightGBM   0.918808       0.024599   1.083808                0.024599           1.083808            1       True          4\n",
            "9         LightGBMLarge   0.917780       0.015988   1.281158                0.015988           1.281158            1       True         13\n",
            "10              XGBoost   0.896197       0.021651   0.679375                0.021651           0.679375            1       True         11\n",
            "11           LightGBMXT   0.816033       0.105366   2.046114                0.105366           2.046114            1       True          3\n",
            "12      NeuralNetFastAI   0.795478       0.021203  12.859364                0.021203          12.859364            1       True         10\n",
            "13       NeuralNetTorch   0.794450       0.012626  28.259958                0.012626          28.259958            1       True         12\n"
          ]
        }
      ],
      "source": [
        "predictor = TabularPredictor(\n",
        "    label=\"stroke\",\n",
        "\n",
        ").fit(\n",
        "    train_data=Stroke_data,\n",
        "\n",
        ")\n",
        "pso_dataset1=predictor.leaderboard()"
      ],
      "id": "10375a61-1ead-4dff-a391-7c38941c44ab"
    },
    {
      "cell_type": "code",
      "execution_count": null,
      "metadata": {
        "id": "5cd6b579-cfea-456d-9423-b6ab4afb7b0c"
      },
      "outputs": [],
      "source": [],
      "id": "5cd6b579-cfea-456d-9423-b6ab4afb7b0c"
    },
    {
      "cell_type": "code",
      "execution_count": null,
      "metadata": {
        "id": "b1b9d9e4-e708-4dd3-b4f6-cec1397de267"
      },
      "outputs": [],
      "source": [],
      "id": "b1b9d9e4-e708-4dd3-b4f6-cec1397de267"
    },
    {
      "cell_type": "code",
      "execution_count": null,
      "metadata": {
        "id": "90b04d6d-69ef-487b-bd57-5313b0cfcd27"
      },
      "outputs": [],
      "source": [],
      "id": "90b04d6d-69ef-487b-bd57-5313b0cfcd27"
    },
    {
      "cell_type": "markdown",
      "metadata": {
        "id": "1d4f0141-2760-42a8-8dfa-ff20249f1e95"
      },
      "source": [
        "## Dataset 2"
      ],
      "id": "1d4f0141-2760-42a8-8dfa-ff20249f1e95"
    },
    {
      "cell_type": "code",
      "execution_count": null,
      "metadata": {
        "id": "0df7ea61-4b63-4c14-ba53-b815fb23bc5d"
      },
      "outputs": [],
      "source": [
        "stroke2 = pd.read_csv('stroke/stroke2.csv')\n",
        "stroke2=preprocess_dataset(stroke2)\n",
        "X = stroke2.drop(['stroke'],axis=1)\n",
        "y = stroke2['stroke']\n",
        "\n",
        "from imblearn.over_sampling import SMOTE\n",
        "# Assuming X and y are your feature matrix and target variable, respectively\n",
        "smote = SMOTE()\n",
        "X, y = smote.fit_resample(X, y)\n",
        "X_train, X_test, y_train, y_test = train_test_split(X, y, test_size=0.2,random_state=42)"
      ],
      "id": "0df7ea61-4b63-4c14-ba53-b815fb23bc5d"
    },
    {
      "cell_type": "code",
      "execution_count": null,
      "metadata": {
        "id": "2d74afee-68b7-4b3f-bafc-a8d44981f65f",
        "outputId": "3607fc11-6404-46f5-9cfd-f4f200286bd8"
      },
      "outputs": [
        {
          "name": "stderr",
          "output_type": "stream",
          "text": [
            "Iterations:   0%|          | 0/10 [00:00<?, ?iteration/s]WARNING:root:1 individuals went zero\n",
            "WARNING:root:1 individuals went zero\n",
            "WARNING:root:1 individuals went zero\n",
            "WARNING:root:1 individuals went zero\n",
            "Iterations:  10%|█         | 1/10 [00:27<04:06, 27.41s/iteration]WARNING:root:1 individuals went zero\n",
            "WARNING:root:1 individuals went zero\n",
            "WARNING:root:1 individuals went zero\n",
            "WARNING:root:1 individuals went zero\n",
            "Iterations:  20%|██        | 2/10 [00:58<03:55, 29.39s/iteration]WARNING:root:1 individuals went zero\n",
            "WARNING:root:1 individuals went zero\n",
            "WARNING:root:1 individuals went zero\n",
            "WARNING:root:1 individuals went zero\n",
            "WARNING:root:1 individuals went zero\n",
            "Iterations:  30%|███       | 3/10 [01:29<03:33, 30.43s/iteration]WARNING:root:1 individuals went zero\n",
            "WARNING:root:1 individuals went zero\n",
            "WARNING:root:1 individuals went zero\n",
            "Iterations:  40%|████      | 4/10 [01:53<02:47, 27.94s/iteration]WARNING:root:1 individuals went zero\n",
            "WARNING:root:1 individuals went zero\n",
            "WARNING:root:1 individuals went zero\n",
            "WARNING:root:1 individuals went zero\n",
            "WARNING:root:1 individuals went zero\n",
            "WARNING:root:1 individuals went zero\n",
            "WARNING:root:1 individuals went zero\n",
            "WARNING:root:1 individuals went zero\n",
            "WARNING:root:1 individuals went zero\n",
            "Iterations:  50%|█████     | 5/10 [02:26<02:27, 29.42s/iteration]WARNING:root:1 individuals went zero\n",
            "WARNING:root:1 individuals went zero\n",
            "WARNING:root:1 individuals went zero\n",
            "WARNING:root:1 individuals went zero\n",
            "WARNING:root:1 individuals went zero\n",
            "WARNING:root:1 individuals went zero\n",
            "WARNING:root:2 individuals went zero\n",
            "WARNING:root:1 individuals went zero\n",
            "Iterations:  60%|██████    | 6/10 [02:54<01:56, 29.07s/iteration]WARNING:root:1 individuals went zero\n",
            "WARNING:root:1 individuals went zero\n",
            "WARNING:root:1 individuals went zero\n",
            "WARNING:root:1 individuals went zero\n",
            "WARNING:root:1 individuals went zero\n",
            "WARNING:root:1 individuals went zero\n",
            "WARNING:root:1 individuals went zero\n",
            "WARNING:root:1 individuals went zero\n",
            "Iterations:  70%|███████   | 7/10 [03:23<01:27, 29.23s/iteration]WARNING:root:1 individuals went zero\n",
            "WARNING:root:1 individuals went zero\n",
            "WARNING:root:1 individuals went zero\n",
            "WARNING:root:1 individuals went zero\n",
            "WARNING:root:1 individuals went zero\n",
            "WARNING:root:1 individuals went zero\n",
            "Iterations:  80%|████████  | 8/10 [03:57<01:00, 30.49s/iteration]WARNING:root:1 individuals went zero\n",
            "WARNING:root:1 individuals went zero\n",
            "WARNING:root:1 individuals went zero\n",
            "WARNING:root:1 individuals went zero\n",
            "WARNING:root:1 individuals went zero\n",
            "Iterations:  90%|█████████ | 9/10 [04:25<00:29, 29.96s/iteration]WARNING:root:1 individuals went zero\n",
            "WARNING:root:1 individuals went zero\n",
            "WARNING:root:1 individuals went zero\n",
            "WARNING:root:1 individuals went zero\n",
            "Iterations: 100%|██████████| 10/10 [04:57<00:00, 29.75s/iteration]\n"
          ]
        }
      ],
      "source": [
        "num_iterations = 10\n",
        "results, features, dims, scores = run_pso_optimization(num_iterations, X_train, y_train, X_test, y_test)"
      ],
      "id": "2d74afee-68b7-4b3f-bafc-a8d44981f65f"
    },
    {
      "cell_type": "code",
      "execution_count": null,
      "metadata": {
        "id": "80883b14-a38b-4190-b722-bdeccc5143a0",
        "outputId": "b901d22e-4b77-4cf5-f2e8-1c5126afe2a6"
      },
      "outputs": [
        {
          "data": {
            "text/plain": [
              "[['age', 'work_type'],\n",
              " ['age', 'work_type'],\n",
              " ['age', 'work_type'],\n",
              " ['age', 'work_type'],\n",
              " ['age', 'work_type'],\n",
              " ['age', 'work_type'],\n",
              " ['age', 'work_type'],\n",
              " ['age', 'work_type'],\n",
              " ['age', 'work_type'],\n",
              " ['age', 'work_type']]"
            ]
          },
          "execution_count": 454,
          "metadata": {},
          "output_type": "execute_result"
        }
      ],
      "source": [
        "features"
      ],
      "id": "80883b14-a38b-4190-b722-bdeccc5143a0"
    },
    {
      "cell_type": "code",
      "execution_count": null,
      "metadata": {
        "id": "bab6fafd-d667-4320-b676-78580975258f",
        "outputId": "0be0de17-ef38-4e75-f527-e8403a80d4e8"
      },
      "outputs": [
        {
          "name": "stderr",
          "output_type": "stream",
          "text": [
            "Iterations:   0%|          | 0/10 [00:00<?, ?iteration/s]WARNING:root:1 individuals went zero\n",
            "WARNING:root:1 individuals went zero\n",
            "WARNING:root:1 individuals went zero\n",
            "WARNING:root:1 individuals went zero\n",
            "WARNING:root:1 individuals went zero\n",
            "Iterations:  10%|█         | 1/10 [00:30<04:37, 30.87s/iteration]WARNING:root:1 individuals went zero\n",
            "WARNING:root:1 individuals went zero\n",
            "WARNING:root:1 individuals went zero\n",
            "WARNING:root:1 individuals went zero\n",
            "Iterations:  20%|██        | 2/10 [00:57<03:46, 28.26s/iteration]WARNING:root:1 individuals went zero\n",
            "WARNING:root:1 individuals went zero\n",
            "WARNING:root:3 individuals went zero\n",
            "WARNING:root:1 individuals went zero\n",
            "WARNING:root:1 individuals went zero\n",
            "WARNING:root:2 individuals went zero\n",
            "WARNING:root:1 individuals went zero\n",
            "WARNING:root:1 individuals went zero\n",
            "WARNING:root:1 individuals went zero\n",
            "WARNING:root:1 individuals went zero\n",
            "WARNING:root:1 individuals went zero\n",
            "Iterations:  30%|███       | 3/10 [01:26<03:19, 28.51s/iteration]WARNING:root:1 individuals went zero\n",
            "WARNING:root:1 individuals went zero\n",
            "WARNING:root:1 individuals went zero\n",
            "WARNING:root:1 individuals went zero\n",
            "Iterations:  40%|████      | 4/10 [01:58<03:00, 30.06s/iteration]WARNING:root:1 individuals went zero\n",
            "WARNING:root:1 individuals went zero\n",
            "WARNING:root:1 individuals went zero\n",
            "WARNING:root:1 individuals went zero\n",
            "WARNING:root:1 individuals went zero\n",
            "WARNING:root:1 individuals went zero\n",
            "Iterations:  50%|█████     | 5/10 [02:28<02:30, 30.06s/iteration]WARNING:root:1 individuals went zero\n",
            "Iterations:  60%|██████    | 6/10 [02:58<02:00, 30.15s/iteration]WARNING:root:1 individuals went zero\n",
            "WARNING:root:1 individuals went zero\n",
            "Iterations:  70%|███████   | 7/10 [03:30<01:31, 30.52s/iteration]WARNING:root:1 individuals went zero\n",
            "WARNING:root:1 individuals went zero\n",
            "WARNING:root:1 individuals went zero\n",
            "WARNING:root:1 individuals went zero\n",
            "Iterations:  80%|████████  | 8/10 [04:04<01:03, 31.85s/iteration]WARNING:root:1 individuals went zero\n",
            "WARNING:root:1 individuals went zero\n",
            "WARNING:root:1 individuals went zero\n",
            "WARNING:root:1 individuals went zero\n",
            "WARNING:root:1 individuals went zero\n",
            "WARNING:root:1 individuals went zero\n",
            "WARNING:root:1 individuals went zero\n",
            "Iterations:  90%|█████████ | 9/10 [04:33<00:30, 30.86s/iteration]WARNING:root:1 individuals went zero\n",
            "WARNING:root:1 individuals went zero\n",
            "WARNING:root:1 individuals went zero\n",
            "WARNING:root:1 individuals went zero\n",
            "WARNING:root:1 individuals went zero\n",
            "WARNING:root:1 individuals went zero\n",
            "WARNING:root:1 individuals went zero\n",
            "WARNING:root:1 individuals went zero\n",
            "WARNING:root:1 individuals went zero\n",
            "Iterations: 100%|██████████| 10/10 [05:05<00:00, 30.53s/iteration]\n"
          ]
        }
      ],
      "source": [
        "num_iterations = 10\n",
        "results, features, dims, scores = run_pso_optimization(num_iterations, X_train, y_train, X_test, y_test)"
      ],
      "id": "bab6fafd-d667-4320-b676-78580975258f"
    },
    {
      "cell_type": "code",
      "execution_count": null,
      "metadata": {
        "id": "2439a588-3b1c-439f-9ce9-7df90996e18a",
        "outputId": "4d41c609-fd2d-48b9-e691-0564a23b7853"
      },
      "outputs": [
        {
          "data": {
            "text/plain": [
              "[['age', 'work_type'],\n",
              " ['age', 'work_type'],\n",
              " ['age', 'work_type'],\n",
              " ['age', 'work_type'],\n",
              " ['age', 'work_type'],\n",
              " ['age', 'work_type'],\n",
              " ['age', 'work_type'],\n",
              " ['age', 'work_type'],\n",
              " ['age', 'work_type'],\n",
              " ['age', 'work_type']]"
            ]
          },
          "execution_count": 453,
          "metadata": {},
          "output_type": "execute_result"
        }
      ],
      "source": [
        "features"
      ],
      "id": "2439a588-3b1c-439f-9ce9-7df90996e18a"
    },
    {
      "cell_type": "code",
      "execution_count": null,
      "metadata": {
        "id": "4635d571-4c39-4c6e-93d7-d315359608fa",
        "outputId": "56e5dba1-716c-43de-b5fa-013497e5959e"
      },
      "outputs": [
        {
          "name": "stderr",
          "output_type": "stream",
          "text": [
            "Iterations:   0%|          | 0/10 [00:00<?, ?iteration/s]WARNING:root:1 individuals went zero\n",
            "WARNING:root:1 individuals went zero\n",
            "WARNING:root:1 individuals went zero\n",
            "WARNING:root:1 individuals went zero\n",
            "WARNING:root:1 individuals went zero\n",
            "WARNING:root:1 individuals went zero\n",
            "WARNING:root:1 individuals went zero\n",
            "WARNING:root:1 individuals went zero\n",
            "WARNING:root:1 individuals went zero\n",
            "Iterations:  10%|█         | 1/10 [00:31<04:39, 31.05s/iteration]WARNING:root:1 individuals went zero\n",
            "WARNING:root:1 individuals went zero\n",
            "WARNING:root:1 individuals went zero\n",
            "WARNING:root:3 individuals went zero\n",
            "WARNING:root:1 individuals went zero\n",
            "WARNING:root:1 individuals went zero\n",
            "WARNING:root:1 individuals went zero\n",
            "WARNING:root:1 individuals went zero\n",
            "WARNING:root:1 individuals went zero\n",
            "Iterations:  20%|██        | 2/10 [01:02<04:12, 31.57s/iteration]WARNING:root:1 individuals went zero\n",
            "WARNING:root:1 individuals went zero\n",
            "WARNING:root:1 individuals went zero\n",
            "WARNING:root:1 individuals went zero\n",
            "WARNING:root:1 individuals went zero\n",
            "WARNING:root:1 individuals went zero\n",
            "WARNING:root:1 individuals went zero\n",
            "WARNING:root:1 individuals went zero\n",
            "Iterations:  30%|███       | 3/10 [01:28<03:20, 28.70s/iteration]WARNING:root:1 individuals went zero\n",
            "WARNING:root:1 individuals went zero\n",
            "WARNING:root:1 individuals went zero\n",
            "WARNING:root:1 individuals went zero\n",
            "WARNING:root:1 individuals went zero\n",
            "WARNING:root:1 individuals went zero\n",
            "WARNING:root:1 individuals went zero\n",
            "Iterations:  40%|████      | 4/10 [01:59<02:57, 29.56s/iteration]WARNING:root:1 individuals went zero\n",
            "WARNING:root:1 individuals went zero\n",
            "WARNING:root:1 individuals went zero\n",
            "WARNING:root:1 individuals went zero\n",
            "WARNING:root:1 individuals went zero\n",
            "WARNING:root:1 individuals went zero\n",
            "WARNING:root:1 individuals went zero\n",
            "Iterations:  60%|██████    | 6/10 [03:04<02:06, 31.65s/iteration]WARNING:root:1 individuals went zero\n",
            "WARNING:root:1 individuals went zero\n",
            "WARNING:root:1 individuals went zero\n",
            "WARNING:root:1 individuals went zero\n",
            "WARNING:root:1 individuals went zero\n",
            "WARNING:root:1 individuals went zero\n",
            "Iterations:  70%|███████   | 7/10 [03:34<01:32, 30.84s/iteration]WARNING:root:1 individuals went zero\n",
            "WARNING:root:4 individuals went zero\n",
            "WARNING:root:1 individuals went zero\n",
            "WARNING:root:2 individuals went zero\n",
            "WARNING:root:1 individuals went zero\n",
            "WARNING:root:1 individuals went zero\n",
            "WARNING:root:1 individuals went zero\n",
            "Iterations:  80%|████████  | 8/10 [04:06<01:02, 31.35s/iteration]WARNING:root:2 individuals went zero\n",
            "WARNING:root:1 individuals went zero\n",
            "WARNING:root:1 individuals went zero\n",
            "WARNING:root:1 individuals went zero\n",
            "Iterations:  90%|█████████ | 9/10 [04:39<00:31, 31.82s/iteration]WARNING:root:1 individuals went zero\n",
            "WARNING:root:1 individuals went zero\n",
            "WARNING:root:1 individuals went zero\n",
            "WARNING:root:1 individuals went zero\n",
            "WARNING:root:1 individuals went zero\n",
            "Iterations: 100%|██████████| 10/10 [05:12<00:00, 31.28s/iteration]\n"
          ]
        }
      ],
      "source": [
        "num_iterations = 10\n",
        "results, features, dims, scores = run_pso_optimization(num_iterations, X_train, y_train, X_test, y_test)"
      ],
      "id": "4635d571-4c39-4c6e-93d7-d315359608fa"
    },
    {
      "cell_type": "code",
      "execution_count": null,
      "metadata": {
        "id": "f5156ef9-0c89-4d07-ad24-48ae52dab7ec",
        "outputId": "04a7497c-5a48-47b2-856b-ff49d67d2b69"
      },
      "outputs": [
        {
          "data": {
            "text/plain": [
              "[['age', 'work_type'],\n",
              " ['age', 'work_type'],\n",
              " ['age', 'work_type'],\n",
              " ['age', 'work_type'],\n",
              " ['age', 'work_type'],\n",
              " ['age', 'work_type'],\n",
              " ['age', 'work_type'],\n",
              " ['age', 'work_type'],\n",
              " ['age', 'work_type'],\n",
              " ['age', 'work_type']]"
            ]
          },
          "execution_count": 450,
          "metadata": {},
          "output_type": "execute_result"
        }
      ],
      "source": [
        "features"
      ],
      "id": "f5156ef9-0c89-4d07-ad24-48ae52dab7ec"
    },
    {
      "cell_type": "code",
      "execution_count": null,
      "metadata": {
        "colab": {
          "base_uri": "https://localhost:8080/"
        },
        "id": "a998e062-cb19-4be3-9ed8-d5c276e83c38",
        "outputId": "292c0d9b-01b3-4ec7-d48f-0cb6c6040ac8"
      },
      "outputs": [
        {
          "name": "stderr",
          "output_type": "stream",
          "text": [
            "No path specified. Models will be saved in: \"AutogluonModels/ag-20230831_094128/\"\n",
            "Beginning AutoGluon training ...\n",
            "AutoGluon will save models to \"AutogluonModels/ag-20230831_094128/\"\n",
            "AutoGluon Version:  0.8.2\n",
            "Python Version:     3.10.12\n",
            "Operating System:   Linux\n",
            "Platform Machine:   x86_64\n",
            "Platform Version:   #1 SMP Fri Jun 9 10:57:30 UTC 2023\n",
            "Disk Space Avail:   11.47 GB / 16.11 GB (71.2%)\n",
            "Train Data Rows:    9466\n",
            "Train Data Columns: 2\n",
            "Label Column: stroke\n",
            "Preprocessing data ...\n",
            "AutoGluon infers your prediction problem is: 'binary' (because only two unique label-values observed).\n",
            "\t2 unique label values:  [1, 0]\n",
            "\tIf 'binary' is not the correct problem_type, please manually specify the problem_type parameter during predictor init (You may specify problem_type as one of: ['binary', 'multiclass', 'regression'])\n",
            "Selected class <--> label mapping:  class 1 = 1, class 0 = 0\n",
            "Using Feature Generators to preprocess the data ...\n",
            "Fitting AutoMLPipelineFeatureGenerator...\n",
            "\tAvailable Memory:                    10777.14 MB\n",
            "\tTrain Data (Original)  Memory Usage: 0.15 MB (0.0% of available memory)\n",
            "\tInferring data type of each feature based on column values. Set feature_metadata_in to manually specify special dtypes of the features.\n",
            "\tStage 1 Generators:\n",
            "\t\tFitting AsTypeFeatureGenerator...\n",
            "\tStage 2 Generators:\n",
            "\t\tFitting FillNaFeatureGenerator...\n",
            "\tStage 3 Generators:\n",
            "\t\tFitting IdentityFeatureGenerator...\n",
            "\tStage 4 Generators:\n",
            "\t\tFitting DropUniqueFeatureGenerator...\n",
            "\tStage 5 Generators:\n",
            "\t\tFitting DropDuplicatesFeatureGenerator...\n",
            "\tTypes of features in original data (raw dtype, special dtypes):\n",
            "\t\t('float', []) : 1 | ['age']\n",
            "\t\t('int', [])   : 1 | ['work_type']\n",
            "\tTypes of features in processed data (raw dtype, special dtypes):\n",
            "\t\t('float', []) : 1 | ['age']\n",
            "\t\t('int', [])   : 1 | ['work_type']\n",
            "\t0.1s = Fit runtime\n",
            "\t2 features in original data used to generate 2 features in processed data.\n",
            "\tTrain Data (Processed) Memory Usage: 0.15 MB (0.0% of available memory)\n",
            "Data preprocessing and feature engineering runtime = 0.13s ...\n",
            "AutoGluon will gauge predictive performance using evaluation metric: 'accuracy'\n",
            "\tTo change this, specify the eval_metric parameter of Predictor()\n",
            "Automatically generating train/validation split with holdout_frac=0.1, Train Rows: 8519, Val Rows: 947\n",
            "User-specified model hyperparameters to be fit:\n",
            "{\n",
            "\t'NN_TORCH': {},\n",
            "\t'GBM': [{'extra_trees': True, 'ag_args': {'name_suffix': 'XT'}}, {}, 'GBMLarge'],\n",
            "\t'CAT': {},\n",
            "\t'XGB': {},\n",
            "\t'FASTAI': {},\n",
            "\t'RF': [{'criterion': 'gini', 'ag_args': {'name_suffix': 'Gini', 'problem_types': ['binary', 'multiclass']}}, {'criterion': 'entropy', 'ag_args': {'name_suffix': 'Entr', 'problem_types': ['binary', 'multiclass']}}, {'criterion': 'squared_error', 'ag_args': {'name_suffix': 'MSE', 'problem_types': ['regression', 'quantile']}}],\n",
            "\t'XT': [{'criterion': 'gini', 'ag_args': {'name_suffix': 'Gini', 'problem_types': ['binary', 'multiclass']}}, {'criterion': 'entropy', 'ag_args': {'name_suffix': 'Entr', 'problem_types': ['binary', 'multiclass']}}, {'criterion': 'squared_error', 'ag_args': {'name_suffix': 'MSE', 'problem_types': ['regression', 'quantile']}}],\n",
            "\t'KNN': [{'weights': 'uniform', 'ag_args': {'name_suffix': 'Unif'}}, {'weights': 'distance', 'ag_args': {'name_suffix': 'Dist'}}],\n",
            "}\n",
            "Fitting 13 L1 models ...\n",
            "Fitting model: KNeighborsUnif ...\n",
            "\t0.9124\t = Validation score   (accuracy)\n",
            "\t0.02s\t = Training   runtime\n",
            "\t0.02s\t = Validation runtime\n",
            "Fitting model: KNeighborsDist ...\n",
            "\t0.925\t = Validation score   (accuracy)\n",
            "\t0.01s\t = Training   runtime\n",
            "\t0.02s\t = Validation runtime\n",
            "Fitting model: LightGBMXT ...\n",
            "\t0.7761\t = Validation score   (accuracy)\n",
            "\t0.58s\t = Training   runtime\n",
            "\t0.02s\t = Validation runtime\n",
            "Fitting model: LightGBM ...\n",
            "\t0.9356\t = Validation score   (accuracy)\n",
            "\t0.8s\t = Training   runtime\n",
            "\t0.03s\t = Validation runtime\n",
            "Fitting model: RandomForestGini ...\n",
            "\t0.9461\t = Validation score   (accuracy)\n",
            "\t3.31s\t = Training   runtime\n",
            "\t0.14s\t = Validation runtime\n",
            "Fitting model: RandomForestEntr ...\n",
            "\t0.9461\t = Validation score   (accuracy)\n",
            "\t4.43s\t = Training   runtime\n",
            "\t0.18s\t = Validation runtime\n",
            "Fitting model: CatBoost ...\n",
            "\t0.9388\t = Validation score   (accuracy)\n",
            "\t7.1s\t = Training   runtime\n",
            "\t0.01s\t = Validation runtime\n",
            "Fitting model: ExtraTreesGini ...\n",
            "\t0.944\t = Validation score   (accuracy)\n",
            "\t1.98s\t = Training   runtime\n",
            "\t0.15s\t = Validation runtime\n",
            "Fitting model: ExtraTreesEntr ...\n",
            "\t0.943\t = Validation score   (accuracy)\n",
            "\t2.02s\t = Training   runtime\n",
            "\t0.18s\t = Validation runtime\n",
            "Fitting model: NeuralNetFastAI ...\n",
            "\t0.7656\t = Validation score   (accuracy)\n",
            "\t22.69s\t = Training   runtime\n",
            "\t0.02s\t = Validation runtime\n",
            "Fitting model: XGBoost ...\n",
            "\t0.8553\t = Validation score   (accuracy)\n",
            "\t0.9s\t = Training   runtime\n",
            "\t0.03s\t = Validation runtime\n",
            "Fitting model: NeuralNetTorch ...\n",
            "\t0.7645\t = Validation score   (accuracy)\n",
            "\t11.83s\t = Training   runtime\n",
            "\t0.02s\t = Validation runtime\n",
            "Fitting model: LightGBMLarge ...\n",
            "\t0.9345\t = Validation score   (accuracy)\n",
            "\t1.98s\t = Training   runtime\n",
            "\t0.03s\t = Validation runtime\n",
            "Fitting model: WeightedEnsemble_L2 ...\n",
            "\t0.9504\t = Validation score   (accuracy)\n",
            "\t2.01s\t = Training   runtime\n",
            "\t0.0s\t = Validation runtime\n",
            "AutoGluon training complete, total runtime = 62.32s ... Best model: \"WeightedEnsemble_L2\"\n",
            "TabularPredictor saved. To load, use: predictor = TabularPredictor.load(\"AutogluonModels/ag-20230831_094128/\")\n"
          ]
        },
        {
          "name": "stdout",
          "output_type": "stream",
          "text": [
            "                  model  score_val  pred_time_val   fit_time  pred_time_val_marginal  fit_time_marginal  stack_level  can_infer  fit_order\n",
            "0   WeightedEnsemble_L2   0.950370       0.330916  16.377178                0.004412           2.006485            2       True         14\n",
            "1      RandomForestGini   0.946146       0.142665   3.308324                0.142665           3.308324            1       True          5\n",
            "2      RandomForestEntr   0.946146       0.175418   4.433145                0.175418           4.433145            1       True          6\n",
            "3        ExtraTreesGini   0.944034       0.145098   1.982419                0.145098           1.982419            1       True          8\n",
            "4        ExtraTreesEntr   0.942978       0.178519   2.020359                0.178519           2.020359            1       True          9\n",
            "5              CatBoost   0.938754       0.010032   7.102748                0.010032           7.102748            1       True          7\n",
            "6              LightGBM   0.935586       0.027524   0.797891                0.027524           0.797891            1       True          4\n",
            "7         LightGBMLarge   0.934530       0.028709   1.977202                0.028709           1.977202            1       True         13\n",
            "8        KNeighborsDist   0.925026       0.016928   0.011954                0.016928           0.011954            1       True          2\n",
            "9        KNeighborsUnif   0.912355       0.017221   0.016116                0.017221           0.016116            1       True          1\n",
            "10              XGBoost   0.855333       0.029322   0.895316                0.029322           0.895316            1       True         11\n",
            "11           LightGBMXT   0.776135       0.019294   0.583443                0.019294           0.583443            1       True          3\n",
            "12      NeuralNetFastAI   0.765576       0.020226  22.686987                0.020226          22.686987            1       True         10\n",
            "13       NeuralNetTorch   0.764520       0.015426  11.831943                0.015426          11.831943            1       True         12\n"
          ]
        }
      ],
      "source": [
        "Stroke_data =pd.DataFrame(X[['age', 'work_type']])\n",
        "Stroke_data['stroke']=y\n",
        "predictor= TabularPredictor(\n",
        "    label=\"stroke\",\n",
        "\n",
        ").fit(\n",
        "    train_data=Stroke_data,\n",
        "\n",
        ")\n",
        "pso_dataset2= predictor.leaderboard()"
      ],
      "id": "a998e062-cb19-4be3-9ed8-d5c276e83c38"
    },
    {
      "cell_type": "markdown",
      "metadata": {
        "id": "5b9cb4f3-ffbd-4319-966c-9fee0394b6f4"
      },
      "source": [
        "## Dataset 3"
      ],
      "id": "5b9cb4f3-ffbd-4319-966c-9fee0394b6f4"
    },
    {
      "cell_type": "code",
      "execution_count": null,
      "metadata": {
        "id": "a415507e-6494-4aee-8851-9c42b7fae92d"
      },
      "outputs": [],
      "source": [],
      "id": "a415507e-6494-4aee-8851-9c42b7fae92d"
    },
    {
      "cell_type": "code",
      "execution_count": null,
      "metadata": {
        "id": "04649f9a-5188-4080-9bbe-5fbc1065dbe9"
      },
      "outputs": [],
      "source": [
        "stroke3 = pd.read_csv('stroke/stroke3.csv')\n",
        "stroke3=preprocess_dataset(stroke3)\n",
        "X = stroke3.drop(['stroke'],axis=1)\n",
        "y = stroke3['stroke']\n",
        "\n",
        "from imblearn.over_sampling import SMOTE\n",
        "# Assuming X and y are your feature matrix and target variable, respectively\n",
        "smote = SMOTE()\n",
        "X, y = smote.fit_resample(X, y)\n",
        "X_train, X_test, y_train, y_test = train_test_split(X, y, test_size=0.2,random_state=42)"
      ],
      "id": "04649f9a-5188-4080-9bbe-5fbc1065dbe9"
    },
    {
      "cell_type": "code",
      "execution_count": null,
      "metadata": {
        "id": "e32b1a63-294e-4587-b86b-c23be84dca49",
        "outputId": "c8dd554a-7582-4d04-eb5a-f82dce05a413"
      },
      "outputs": [
        {
          "name": "stderr",
          "output_type": "stream",
          "text": [
            "Iterations:   0%|          | 0/10 [00:00<?, ?iteration/s]WARNING:root:1 individuals went zero\n",
            "WARNING:root:1 individuals went zero\n",
            "WARNING:root:1 individuals went zero\n",
            "WARNING:root:1 individuals went zero\n",
            "WARNING:root:1 individuals went zero\n",
            "WARNING:root:1 individuals went zero\n",
            "Iterations:  10%|█         | 1/10 [06:33<58:58, 393.13s/iteration]WARNING:root:1 individuals went zero\n",
            "Iterations:  20%|██        | 2/10 [13:30<54:18, 407.31s/iteration]WARNING:root:2 individuals went zero\n",
            "WARNING:root:1 individuals went zero\n",
            "WARNING:root:1 individuals went zero\n",
            "Iterations:  30%|███       | 3/10 [19:47<45:55, 393.59s/iteration]WARNING:root:1 individuals went zero\n",
            "WARNING:root:1 individuals went zero\n",
            "WARNING:root:1 individuals went zero\n",
            "WARNING:root:2 individuals went zero\n",
            "Iterations:  40%|████      | 4/10 [27:53<43:00, 430.01s/iteration]WARNING:root:1 individuals went zero\n",
            "WARNING:root:1 individuals went zero\n",
            "WARNING:root:2 individuals went zero\n",
            "WARNING:root:2 individuals went zero\n",
            "WARNING:root:1 individuals went zero\n",
            "WARNING:root:1 individuals went zero\n",
            "WARNING:root:1 individuals went zero\n",
            "Iterations:  50%|█████     | 5/10 [36:21<38:10, 458.18s/iteration]WARNING:root:1 individuals went zero\n",
            "WARNING:root:1 individuals went zero\n",
            "WARNING:root:1 individuals went zero\n",
            "WARNING:root:1 individuals went zero\n",
            "WARNING:root:1 individuals went zero\n",
            "WARNING:root:1 individuals went zero\n",
            "WARNING:root:1 individuals went zero\n",
            "WARNING:root:1 individuals went zero\n",
            "WARNING:root:1 individuals went zero\n",
            "WARNING:root:1 individuals went zero\n",
            "WARNING:root:1 individuals went zero\n",
            "Iterations:  60%|██████    | 6/10 [42:52<29:00, 435.23s/iteration]WARNING:root:1 individuals went zero\n",
            "WARNING:root:1 individuals went zero\n",
            "WARNING:root:1 individuals went zero\n",
            "WARNING:root:1 individuals went zero\n",
            "WARNING:root:1 individuals went zero\n",
            "Iterations:  70%|███████   | 7/10 [48:55<20:35, 411.74s/iteration]WARNING:root:1 individuals went zero\n",
            "Iterations:  80%|████████  | 8/10 [56:05<13:54, 417.43s/iteration]WARNING:root:1 individuals went zero\n",
            "WARNING:root:1 individuals went zero\n",
            "WARNING:root:1 individuals went zero\n",
            "WARNING:root:1 individuals went zero\n",
            "WARNING:root:1 individuals went zero\n",
            "WARNING:root:1 individuals went zero\n",
            "WARNING:root:1 individuals went zero\n",
            "WARNING:root:1 individuals went zero\n",
            "WARNING:root:1 individuals went zero\n",
            "WARNING:root:1 individuals went zero\n",
            "Iterations:  90%|█████████ | 9/10 [1:03:59<07:15, 435.24s/iteration]WARNING:root:1 individuals went zero\n",
            "WARNING:root:2 individuals went zero\n",
            "WARNING:root:1 individuals went zero\n",
            "WARNING:root:1 individuals went zero\n",
            "WARNING:root:1 individuals went zero\n",
            "WARNING:root:1 individuals went zero\n",
            "WARNING:root:1 individuals went zero\n",
            "WARNING:root:1 individuals went zero\n",
            "WARNING:root:1 individuals went zero\n",
            "WARNING:root:2 individuals went zero\n",
            "WARNING:root:1 individuals went zero\n",
            "WARNING:root:1 individuals went zero\n",
            "Iterations: 100%|██████████| 10/10 [1:13:06<00:00, 438.61s/iteration]\n"
          ]
        }
      ],
      "source": [
        "num_iterations = 10\n",
        "results, features, dims, scores = run_pso_optimization(num_iterations, X_train, y_train, X_test, y_test)"
      ],
      "id": "e32b1a63-294e-4587-b86b-c23be84dca49"
    },
    {
      "cell_type": "code",
      "execution_count": null,
      "metadata": {
        "id": "7b3ef958-64cd-4d6b-9478-708b628a89af",
        "outputId": "f4541590-7e89-4bc6-ef48-a3caa332ee5e"
      },
      "outputs": [
        {
          "data": {
            "text/plain": [
              "[['heart_disease', 'bmi'],\n",
              " ['heart_disease', 'bmi'],\n",
              " ['heart_disease', 'bmi'],\n",
              " ['heart_disease', 'bmi'],\n",
              " ['heart_disease', 'bmi'],\n",
              " ['heart_disease', 'bmi'],\n",
              " ['age', 'work_type'],\n",
              " ['gender', 'bmi'],\n",
              " ['heart_disease', 'bmi'],\n",
              " ['heart_disease', 'bmi']]"
            ]
          },
          "execution_count": 178,
          "metadata": {},
          "output_type": "execute_result"
        }
      ],
      "source": [
        "features"
      ],
      "id": "7b3ef958-64cd-4d6b-9478-708b628a89af"
    },
    {
      "cell_type": "code",
      "execution_count": null,
      "metadata": {
        "id": "ed0aee4d-bacd-4446-8e11-dce08cd7215b",
        "outputId": "d8e99ff5-0f09-4e83-af1a-271237edc523"
      },
      "outputs": [
        {
          "name": "stderr",
          "output_type": "stream",
          "text": [
            "Iterations:   0%|          | 0/10 [00:00<?, ?iteration/s]WARNING:root:1 individuals went zero\n",
            "WARNING:root:1 individuals went zero\n",
            "Iterations:  10%|█         | 1/10 [08:30<1:16:38, 510.95s/iteration]WARNING:root:1 individuals went zero\n",
            "Iterations:  20%|██        | 2/10 [17:01<1:08:04, 510.57s/iteration]WARNING:root:2 individuals went zero\n",
            "WARNING:root:1 individuals went zero\n",
            "WARNING:root:1 individuals went zero\n",
            "WARNING:root:1 individuals went zero\n",
            "Iterations:  30%|███       | 3/10 [24:09<55:10, 472.87s/iteration]  WARNING:root:1 individuals went zero\n",
            "WARNING:root:1 individuals went zero\n",
            "WARNING:root:1 individuals went zero\n",
            "WARNING:root:1 individuals went zero\n",
            "WARNING:root:1 individuals went zero\n",
            "Iterations:  40%|████      | 4/10 [31:03<44:59, 449.90s/iteration]WARNING:root:1 individuals went zero\n",
            "WARNING:root:1 individuals went zero\n",
            "WARNING:root:2 individuals went zero\n",
            "WARNING:root:1 individuals went zero\n",
            "WARNING:root:1 individuals went zero\n",
            "WARNING:root:1 individuals went zero\n",
            "WARNING:root:1 individuals went zero\n",
            "WARNING:root:1 individuals went zero\n",
            "WARNING:root:1 individuals went zero\n",
            "WARNING:root:1 individuals went zero\n",
            "WARNING:root:1 individuals went zero\n",
            "WARNING:root:1 individuals went zero\n",
            "WARNING:root:1 individuals went zero\n",
            "WARNING:root:1 individuals went zero\n",
            "Iterations:  50%|█████     | 5/10 [38:13<36:53, 442.61s/iteration]WARNING:root:1 individuals went zero\n",
            "WARNING:root:1 individuals went zero\n",
            "WARNING:root:1 individuals went zero\n",
            "WARNING:root:1 individuals went zero\n",
            "Iterations:  60%|██████    | 6/10 [49:04<34:13, 513.39s/iteration]WARNING:root:1 individuals went zero\n",
            "WARNING:root:1 individuals went zero\n",
            "WARNING:root:1 individuals went zero\n",
            "Iterations:  70%|███████   | 7/10 [58:34<26:35, 531.78s/iteration]WARNING:root:1 individuals went zero\n",
            "WARNING:root:1 individuals went zero\n",
            "WARNING:root:1 individuals went zero\n",
            "WARNING:root:1 individuals went zero\n",
            "WARNING:root:1 individuals went zero\n",
            "WARNING:root:1 individuals went zero\n",
            "WARNING:root:1 individuals went zero\n",
            "Iterations:  80%|████████  | 8/10 [1:08:58<18:42, 561.20s/iteration]WARNING:root:1 individuals went zero\n",
            "WARNING:root:1 individuals went zero\n",
            "WARNING:root:1 individuals went zero\n",
            "WARNING:root:1 individuals went zero\n",
            "WARNING:root:1 individuals went zero\n",
            "Iterations:  90%|█████████ | 9/10 [1:16:58<08:56, 536.04s/iteration]WARNING:root:1 individuals went zero\n",
            "WARNING:root:1 individuals went zero\n",
            "WARNING:root:1 individuals went zero\n",
            "WARNING:root:1 individuals went zero\n",
            "WARNING:root:1 individuals went zero\n",
            "WARNING:root:1 individuals went zero\n",
            "WARNING:root:1 individuals went zero\n",
            "Iterations: 100%|██████████| 10/10 [1:25:34<00:00, 513.40s/iteration]\n"
          ]
        }
      ],
      "source": [
        "num_iterations = 10\n",
        "results, features, dims, scores = run_pso_optimization(num_iterations, X_train, y_train, X_test, y_test)"
      ],
      "id": "ed0aee4d-bacd-4446-8e11-dce08cd7215b"
    },
    {
      "cell_type": "code",
      "execution_count": null,
      "metadata": {
        "id": "c7201026-ba75-4099-8fe7-693702321f76",
        "outputId": "fe4976bb-6643-4410-af1d-c9c26426478b"
      },
      "outputs": [
        {
          "data": {
            "text/plain": [
              "[['heart_disease', 'bmi'],\n",
              " ['heart_disease', 'bmi'],\n",
              " ['heart_disease', 'bmi'],\n",
              " ['heart_disease', 'bmi'],\n",
              " ['heart_disease', 'bmi'],\n",
              " ['heart_disease', 'bmi'],\n",
              " ['heart_disease', 'bmi'],\n",
              " ['heart_disease', 'bmi'],\n",
              " ['heart_disease', 'bmi'],\n",
              " ['heart_disease', 'bmi']]"
            ]
          },
          "execution_count": 478,
          "metadata": {},
          "output_type": "execute_result"
        }
      ],
      "source": [
        "features"
      ],
      "id": "c7201026-ba75-4099-8fe7-693702321f76"
    },
    {
      "cell_type": "code",
      "execution_count": null,
      "metadata": {
        "id": "60abb669-263c-444a-a524-65a28b6d2e91",
        "outputId": "06d2b3c9-fe0c-443f-d119-bbb5349bad9c"
      },
      "outputs": [
        {
          "name": "stderr",
          "output_type": "stream",
          "text": [
            "Iterations:   0%|          | 0/10 [00:00<?, ?iteration/s]WARNING:root:1 individuals went zero\n",
            "WARNING:root:1 individuals went zero\n",
            "WARNING:root:1 individuals went zero\n",
            "WARNING:root:1 individuals went zero\n",
            "WARNING:root:1 individuals went zero\n",
            "WARNING:root:1 individuals went zero\n",
            "WARNING:root:1 individuals went zero\n",
            "WARNING:root:1 individuals went zero\n",
            "WARNING:root:2 individuals went zero\n",
            "WARNING:root:1 individuals went zero\n",
            "WARNING:root:1 individuals went zero\n",
            "WARNING:root:1 individuals went zero\n",
            "WARNING:root:1 individuals went zero\n",
            "Iterations:  10%|█         | 1/10 [09:04<1:21:36, 544.08s/iteration]WARNING:root:1 individuals went zero\n",
            "WARNING:root:1 individuals went zero\n",
            "WARNING:root:1 individuals went zero\n",
            "WARNING:root:1 individuals went zero\n",
            "WARNING:root:1 individuals went zero\n",
            "WARNING:root:1 individuals went zero\n",
            "WARNING:root:1 individuals went zero\n",
            "WARNING:root:1 individuals went zero\n",
            "Iterations:  20%|██        | 2/10 [15:36<1:00:40, 455.02s/iteration]WARNING:root:2 individuals went zero\n",
            "WARNING:root:1 individuals went zero\n",
            "WARNING:root:1 individuals went zero\n",
            "WARNING:root:1 individuals went zero\n",
            "WARNING:root:1 individuals went zero\n",
            "WARNING:root:1 individuals went zero\n",
            "WARNING:root:1 individuals went zero\n",
            "WARNING:root:1 individuals went zero\n",
            "WARNING:root:2 individuals went zero\n",
            "Iterations:  40%|████      | 4/10 [31:23<45:30, 455.14s/iteration]  WARNING:root:1 individuals went zero\n",
            "WARNING:root:1 individuals went zero\n",
            "WARNING:root:1 individuals went zero\n",
            "WARNING:root:1 individuals went zero\n",
            "WARNING:root:1 individuals went zero\n",
            "WARNING:root:1 individuals went zero\n",
            "WARNING:root:1 individuals went zero\n",
            "Iterations:  50%|█████     | 5/10 [39:45<39:19, 471.94s/iteration]WARNING:root:2 individuals went zero\n",
            "WARNING:root:1 individuals went zero\n",
            "WARNING:root:1 individuals went zero\n",
            "Iterations:  60%|██████    | 6/10 [49:01<33:22, 500.70s/iteration]WARNING:root:1 individuals went zero\n",
            "WARNING:root:1 individuals went zero\n",
            "WARNING:root:1 individuals went zero\n",
            "WARNING:root:1 individuals went zero\n",
            "WARNING:root:1 individuals went zero\n",
            "WARNING:root:1 individuals went zero\n",
            "WARNING:root:1 individuals went zero\n",
            "WARNING:root:1 individuals went zero\n",
            "WARNING:root:1 individuals went zero\n",
            "WARNING:root:1 individuals went zero\n",
            "WARNING:root:1 individuals went zero\n",
            "Iterations:  70%|███████   | 7/10 [56:43<24:24, 488.16s/iteration]WARNING:root:1 individuals went zero\n",
            "WARNING:root:1 individuals went zero\n",
            "Iterations:  80%|████████  | 8/10 [1:03:55<15:40, 470.22s/iteration]WARNING:root:1 individuals went zero\n",
            "WARNING:root:1 individuals went zero\n",
            "WARNING:root:1 individuals went zero\n",
            "WARNING:root:1 individuals went zero\n",
            "WARNING:root:1 individuals went zero\n",
            "Iterations:  90%|█████████ | 9/10 [1:11:23<07:43, 463.11s/iteration]WARNING:root:1 individuals went zero\n",
            "Iterations: 100%|██████████| 10/10 [1:18:53<00:00, 473.39s/iteration]\n"
          ]
        }
      ],
      "source": [
        "num_iterations = 10\n",
        "results, features, dims, scores = run_pso_optimization(num_iterations, X_train, y_train, X_test, y_test)"
      ],
      "id": "60abb669-263c-444a-a524-65a28b6d2e91"
    },
    {
      "cell_type": "code",
      "execution_count": null,
      "metadata": {
        "id": "4fa9aaad-6b6e-46c6-96d4-30b45e79e79f",
        "outputId": "50036d1d-f724-4d91-941f-be0ab1c23686"
      },
      "outputs": [
        {
          "data": {
            "text/plain": [
              "[['heart_disease', 'bmi'],\n",
              " ['heart_disease', 'bmi'],\n",
              " ['heart_disease', 'bmi'],\n",
              " ['heart_disease', 'bmi'],\n",
              " ['heart_disease', 'bmi'],\n",
              " ['heart_disease', 'bmi'],\n",
              " ['heart_disease', 'bmi'],\n",
              " ['heart_disease', 'bmi'],\n",
              " ['heart_disease', 'bmi'],\n",
              " ['heart_disease', 'bmi']]"
            ]
          },
          "execution_count": 479,
          "metadata": {},
          "output_type": "execute_result"
        }
      ],
      "source": [
        "features"
      ],
      "id": "4fa9aaad-6b6e-46c6-96d4-30b45e79e79f"
    },
    {
      "cell_type": "code",
      "execution_count": null,
      "metadata": {
        "colab": {
          "base_uri": "https://localhost:8080/"
        },
        "id": "8bd90944-c164-4e7d-b690-f76e7be60ed6",
        "outputId": "c6e8a296-a116-4654-a377-2c6171e5edf3"
      },
      "outputs": [
        {
          "name": "stderr",
          "output_type": "stream",
          "text": [
            "No path specified. Models will be saved in: \"AutogluonModels/ag-20230831_094230/\"\n",
            "Beginning AutoGluon training ...\n",
            "AutoGluon will save models to \"AutogluonModels/ag-20230831_094230/\"\n",
            "AutoGluon Version:  0.8.2\n",
            "Python Version:     3.10.12\n",
            "Operating System:   Linux\n",
            "Platform Machine:   x86_64\n",
            "Platform Version:   #1 SMP Fri Jun 9 10:57:30 UTC 2023\n",
            "Disk Space Avail:   11.34 GB / 16.11 GB (70.4%)\n",
            "Train Data Rows:    85234\n",
            "Train Data Columns: 2\n",
            "Label Column: stroke\n",
            "Preprocessing data ...\n",
            "AutoGluon infers your prediction problem is: 'binary' (because only two unique label-values observed).\n",
            "\t2 unique label values:  [0, 1]\n",
            "\tIf 'binary' is not the correct problem_type, please manually specify the problem_type parameter during predictor init (You may specify problem_type as one of: ['binary', 'multiclass', 'regression'])\n",
            "Selected class <--> label mapping:  class 1 = 1, class 0 = 0\n",
            "Using Feature Generators to preprocess the data ...\n",
            "Fitting AutoMLPipelineFeatureGenerator...\n",
            "\tAvailable Memory:                    10774.05 MB\n",
            "\tTrain Data (Original)  Memory Usage: 1.36 MB (0.0% of available memory)\n",
            "\tInferring data type of each feature based on column values. Set feature_metadata_in to manually specify special dtypes of the features.\n",
            "\tStage 1 Generators:\n",
            "\t\tFitting AsTypeFeatureGenerator...\n",
            "\t\t\tNote: Converting 1 features to boolean dtype as they only contain 2 unique values.\n",
            "\tStage 2 Generators:\n",
            "\t\tFitting FillNaFeatureGenerator...\n",
            "\tStage 3 Generators:\n",
            "\t\tFitting IdentityFeatureGenerator...\n",
            "\tStage 4 Generators:\n",
            "\t\tFitting DropUniqueFeatureGenerator...\n",
            "\tStage 5 Generators:\n",
            "\t\tFitting DropDuplicatesFeatureGenerator...\n",
            "\tTypes of features in original data (raw dtype, special dtypes):\n",
            "\t\t('float', []) : 1 | ['bmi']\n",
            "\t\t('int', [])   : 1 | ['heart_disease']\n",
            "\tTypes of features in processed data (raw dtype, special dtypes):\n",
            "\t\t('float', [])     : 1 | ['bmi']\n",
            "\t\t('int', ['bool']) : 1 | ['heart_disease']\n",
            "\t0.3s = Fit runtime\n",
            "\t2 features in original data used to generate 2 features in processed data.\n",
            "\tTrain Data (Processed) Memory Usage: 0.77 MB (0.0% of available memory)\n",
            "Data preprocessing and feature engineering runtime = 0.34s ...\n",
            "AutoGluon will gauge predictive performance using evaluation metric: 'accuracy'\n",
            "\tTo change this, specify the eval_metric parameter of Predictor()\n",
            "Automatically generating train/validation split with holdout_frac=0.029331018138301617, Train Rows: 82734, Val Rows: 2500\n",
            "User-specified model hyperparameters to be fit:\n",
            "{\n",
            "\t'NN_TORCH': {},\n",
            "\t'GBM': [{'extra_trees': True, 'ag_args': {'name_suffix': 'XT'}}, {}, 'GBMLarge'],\n",
            "\t'CAT': {},\n",
            "\t'XGB': {},\n",
            "\t'FASTAI': {},\n",
            "\t'RF': [{'criterion': 'gini', 'ag_args': {'name_suffix': 'Gini', 'problem_types': ['binary', 'multiclass']}}, {'criterion': 'entropy', 'ag_args': {'name_suffix': 'Entr', 'problem_types': ['binary', 'multiclass']}}, {'criterion': 'squared_error', 'ag_args': {'name_suffix': 'MSE', 'problem_types': ['regression', 'quantile']}}],\n",
            "\t'XT': [{'criterion': 'gini', 'ag_args': {'name_suffix': 'Gini', 'problem_types': ['binary', 'multiclass']}}, {'criterion': 'entropy', 'ag_args': {'name_suffix': 'Entr', 'problem_types': ['binary', 'multiclass']}}, {'criterion': 'squared_error', 'ag_args': {'name_suffix': 'MSE', 'problem_types': ['regression', 'quantile']}}],\n",
            "\t'KNN': [{'weights': 'uniform', 'ag_args': {'name_suffix': 'Unif'}}, {'weights': 'distance', 'ag_args': {'name_suffix': 'Dist'}}],\n",
            "}\n",
            "Fitting 13 L1 models ...\n",
            "Fitting model: KNeighborsUnif ...\n",
            "\t0.9564\t = Validation score   (accuracy)\n",
            "\t0.07s\t = Training   runtime\n",
            "\t0.05s\t = Validation runtime\n",
            "Fitting model: KNeighborsDist ...\n",
            "\t0.9588\t = Validation score   (accuracy)\n",
            "\t0.07s\t = Training   runtime\n",
            "\t0.04s\t = Validation runtime\n",
            "Fitting model: LightGBMXT ...\n",
            "\t0.6388\t = Validation score   (accuracy)\n",
            "\t1.02s\t = Training   runtime\n",
            "\t0.02s\t = Validation runtime\n",
            "Fitting model: LightGBM ...\n",
            "\t0.6816\t = Validation score   (accuracy)\n",
            "\t1.26s\t = Training   runtime\n",
            "\t0.03s\t = Validation runtime\n",
            "Fitting model: RandomForestGini ...\n",
            "\t0.9612\t = Validation score   (accuracy)\n",
            "\t140.64s\t = Training   runtime\n",
            "\t0.38s\t = Validation runtime\n",
            "Fitting model: RandomForestEntr ...\n",
            "\t0.9612\t = Validation score   (accuracy)\n",
            "\t172.27s\t = Training   runtime\n",
            "\t0.23s\t = Validation runtime\n",
            "Fitting model: CatBoost ...\n",
            "\t0.6672\t = Validation score   (accuracy)\n",
            "\t4.54s\t = Training   runtime\n",
            "\t0.02s\t = Validation runtime\n",
            "Fitting model: ExtraTreesGini ...\n",
            "\t0.9604\t = Validation score   (accuracy)\n",
            "\t13.05s\t = Training   runtime\n",
            "\t0.22s\t = Validation runtime\n",
            "Fitting model: ExtraTreesEntr ...\n",
            "\t0.9608\t = Validation score   (accuracy)\n",
            "\t7.19s\t = Training   runtime\n",
            "\t0.24s\t = Validation runtime\n",
            "Fitting model: NeuralNetFastAI ...\n",
            "No improvement since epoch 5: early stopping\n",
            "\t0.6408\t = Validation score   (accuracy)\n",
            "\t114.28s\t = Training   runtime\n",
            "\t0.04s\t = Validation runtime\n",
            "Fitting model: XGBoost ...\n",
            "\t0.6592\t = Validation score   (accuracy)\n",
            "\t0.96s\t = Training   runtime\n",
            "\t0.02s\t = Validation runtime\n",
            "Fitting model: NeuralNetTorch ...\n",
            "\t0.64\t = Validation score   (accuracy)\n",
            "\t83.4s\t = Training   runtime\n",
            "\t0.02s\t = Validation runtime\n",
            "Fitting model: LightGBMLarge ...\n",
            "\t0.6796\t = Validation score   (accuracy)\n",
            "\t0.61s\t = Training   runtime\n",
            "\t0.01s\t = Validation runtime\n",
            "Fitting model: WeightedEnsemble_L2 ...\n",
            "\t0.962\t = Validation score   (accuracy)\n",
            "\t3.05s\t = Training   runtime\n",
            "\t0.01s\t = Validation runtime\n",
            "AutoGluon training complete, total runtime = 547.94s ... Best model: \"WeightedEnsemble_L2\"\n",
            "TabularPredictor saved. To load, use: predictor = TabularPredictor.load(\"AutogluonModels/ag-20230831_094230/\")\n"
          ]
        },
        {
          "name": "stdout",
          "output_type": "stream",
          "text": [
            "                  model  score_val  pred_time_val    fit_time  pred_time_val_marginal  fit_time_marginal  stack_level  can_infer  fit_order\n",
            "0   WeightedEnsemble_L2     0.9620       0.662021  150.946275                0.010287           3.048929            2       True         14\n",
            "1      RandomForestEntr     0.9612       0.226183  172.265354                0.226183         172.265354            1       True          6\n",
            "2      RandomForestGini     0.9612       0.375403  140.638609                0.375403         140.638609            1       True          5\n",
            "3        ExtraTreesEntr     0.9608       0.239559    7.189367                0.239559           7.189367            1       True          9\n",
            "4        ExtraTreesGini     0.9604       0.222564   13.051687                0.222564          13.051687            1       True          8\n",
            "5        KNeighborsDist     0.9588       0.036772    0.069371                0.036772           0.069371            1       True          2\n",
            "6        KNeighborsUnif     0.9564       0.046888    0.066010                0.046888           0.066010            1       True          1\n",
            "7              LightGBM     0.6816       0.025493    1.261137                0.025493           1.261137            1       True          4\n",
            "8         LightGBMLarge     0.6796       0.007861    0.607516                0.007861           0.607516            1       True         13\n",
            "9              CatBoost     0.6672       0.015726    4.539634                0.015726           4.539634            1       True          7\n",
            "10              XGBoost     0.6592       0.023989    0.957577                0.023989           0.957577            1       True         11\n",
            "11      NeuralNetFastAI     0.6408       0.043378  114.282337                0.043378         114.282337            1       True         10\n",
            "12       NeuralNetTorch     0.6400       0.019036   83.399177                0.019036          83.399177            1       True         12\n",
            "13           LightGBMXT     0.6388       0.021276    1.017571                0.021276           1.017571            1       True          3\n"
          ]
        }
      ],
      "source": [
        "Stroke_data =pd.DataFrame(X[['heart_disease', 'bmi']])\n",
        "Stroke_data['stroke']=y\n",
        "predictor_combined = TabularPredictor(\n",
        "    label=\"stroke\",\n",
        "\n",
        ").fit(\n",
        "    train_data=Stroke_data,\n",
        "\n",
        ")\n",
        "pso_dataset3=predictor_combined.leaderboard()"
      ],
      "id": "8bd90944-c164-4e7d-b690-f76e7be60ed6"
    },
    {
      "cell_type": "code",
      "execution_count": null,
      "metadata": {
        "id": "251debd4-20dd-4fc3-8dfd-bb1e3e9164cd",
        "outputId": "7be1e5f1-7e56-4ae1-d296-e93927f43efb"
      },
      "outputs": [
        {
          "data": {
            "text/html": [
              "<div>\n",
              "<style scoped>\n",
              "    .dataframe tbody tr th:only-of-type {\n",
              "        vertical-align: middle;\n",
              "    }\n",
              "\n",
              "    .dataframe tbody tr th {\n",
              "        vertical-align: top;\n",
              "    }\n",
              "\n",
              "    .dataframe thead th {\n",
              "        text-align: right;\n",
              "    }\n",
              "</style>\n",
              "<table border=\"1\" class=\"dataframe\">\n",
              "  <thead>\n",
              "    <tr style=\"text-align: right;\">\n",
              "      <th></th>\n",
              "      <th>model</th>\n",
              "      <th>score_val</th>\n",
              "      <th>pred_time_val</th>\n",
              "      <th>fit_time</th>\n",
              "      <th>pred_time_val_marginal</th>\n",
              "      <th>fit_time_marginal</th>\n",
              "      <th>stack_level</th>\n",
              "      <th>can_infer</th>\n",
              "      <th>fit_order</th>\n",
              "    </tr>\n",
              "  </thead>\n",
              "  <tbody>\n",
              "    <tr>\n",
              "      <th>0</th>\n",
              "      <td>WeightedEnsemble_L2</td>\n",
              "      <td>0.9864</td>\n",
              "      <td>2.997245</td>\n",
              "      <td>213.988587</td>\n",
              "      <td>0.005984</td>\n",
              "      <td>1.924497</td>\n",
              "      <td>2</td>\n",
              "      <td>True</td>\n",
              "      <td>14</td>\n",
              "    </tr>\n",
              "    <tr>\n",
              "      <th>1</th>\n",
              "      <td>CatBoost</td>\n",
              "      <td>0.9796</td>\n",
              "      <td>0.000000</td>\n",
              "      <td>94.555132</td>\n",
              "      <td>0.000000</td>\n",
              "      <td>94.555132</td>\n",
              "      <td>1</td>\n",
              "      <td>True</td>\n",
              "      <td>7</td>\n",
              "    </tr>\n",
              "    <tr>\n",
              "      <th>2</th>\n",
              "      <td>LightGBM</td>\n",
              "      <td>0.9784</td>\n",
              "      <td>0.146369</td>\n",
              "      <td>9.505940</td>\n",
              "      <td>0.146369</td>\n",
              "      <td>9.505940</td>\n",
              "      <td>1</td>\n",
              "      <td>True</td>\n",
              "      <td>4</td>\n",
              "    </tr>\n",
              "    <tr>\n",
              "      <th>3</th>\n",
              "      <td>LightGBMLarge</td>\n",
              "      <td>0.9764</td>\n",
              "      <td>0.092980</td>\n",
              "      <td>6.129706</td>\n",
              "      <td>0.092980</td>\n",
              "      <td>6.129706</td>\n",
              "      <td>1</td>\n",
              "      <td>True</td>\n",
              "      <td>13</td>\n",
              "    </tr>\n",
              "    <tr>\n",
              "      <th>4</th>\n",
              "      <td>RandomForestGini</td>\n",
              "      <td>0.9760</td>\n",
              "      <td>0.135777</td>\n",
              "      <td>17.320184</td>\n",
              "      <td>0.135777</td>\n",
              "      <td>17.320184</td>\n",
              "      <td>1</td>\n",
              "      <td>True</td>\n",
              "      <td>5</td>\n",
              "    </tr>\n",
              "    <tr>\n",
              "      <th>5</th>\n",
              "      <td>RandomForestEntr</td>\n",
              "      <td>0.9756</td>\n",
              "      <td>0.145125</td>\n",
              "      <td>22.130347</td>\n",
              "      <td>0.145125</td>\n",
              "      <td>22.130347</td>\n",
              "      <td>1</td>\n",
              "      <td>True</td>\n",
              "      <td>6</td>\n",
              "    </tr>\n",
              "    <tr>\n",
              "      <th>6</th>\n",
              "      <td>ExtraTreesGini</td>\n",
              "      <td>0.9720</td>\n",
              "      <td>0.100980</td>\n",
              "      <td>4.508280</td>\n",
              "      <td>0.100980</td>\n",
              "      <td>4.508280</td>\n",
              "      <td>1</td>\n",
              "      <td>True</td>\n",
              "      <td>8</td>\n",
              "    </tr>\n",
              "    <tr>\n",
              "      <th>7</th>\n",
              "      <td>ExtraTreesEntr</td>\n",
              "      <td>0.9708</td>\n",
              "      <td>0.090685</td>\n",
              "      <td>4.718034</td>\n",
              "      <td>0.090685</td>\n",
              "      <td>4.718034</td>\n",
              "      <td>1</td>\n",
              "      <td>True</td>\n",
              "      <td>9</td>\n",
              "    </tr>\n",
              "    <tr>\n",
              "      <th>8</th>\n",
              "      <td>XGBoost</td>\n",
              "      <td>0.9684</td>\n",
              "      <td>0.116609</td>\n",
              "      <td>9.026807</td>\n",
              "      <td>0.116609</td>\n",
              "      <td>9.026807</td>\n",
              "      <td>1</td>\n",
              "      <td>True</td>\n",
              "      <td>11</td>\n",
              "    </tr>\n",
              "    <tr>\n",
              "      <th>9</th>\n",
              "      <td>LightGBMXT</td>\n",
              "      <td>0.9592</td>\n",
              "      <td>2.233476</td>\n",
              "      <td>48.832841</td>\n",
              "      <td>2.233476</td>\n",
              "      <td>48.832841</td>\n",
              "      <td>1</td>\n",
              "      <td>True</td>\n",
              "      <td>3</td>\n",
              "    </tr>\n",
              "    <tr>\n",
              "      <th>10</th>\n",
              "      <td>KNeighborsDist</td>\n",
              "      <td>0.9288</td>\n",
              "      <td>0.019946</td>\n",
              "      <td>0.054853</td>\n",
              "      <td>0.019946</td>\n",
              "      <td>0.054853</td>\n",
              "      <td>1</td>\n",
              "      <td>True</td>\n",
              "      <td>2</td>\n",
              "    </tr>\n",
              "    <tr>\n",
              "      <th>11</th>\n",
              "      <td>NeuralNetTorch</td>\n",
              "      <td>0.9260</td>\n",
              "      <td>0.024274</td>\n",
              "      <td>729.835750</td>\n",
              "      <td>0.024274</td>\n",
              "      <td>729.835750</td>\n",
              "      <td>1</td>\n",
              "      <td>True</td>\n",
              "      <td>12</td>\n",
              "    </tr>\n",
              "    <tr>\n",
              "      <th>12</th>\n",
              "      <td>KNeighborsUnif</td>\n",
              "      <td>0.9216</td>\n",
              "      <td>0.021199</td>\n",
              "      <td>0.063830</td>\n",
              "      <td>0.021199</td>\n",
              "      <td>0.063830</td>\n",
              "      <td>1</td>\n",
              "      <td>True</td>\n",
              "      <td>1</td>\n",
              "    </tr>\n",
              "    <tr>\n",
              "      <th>13</th>\n",
              "      <td>NeuralNetFastAI</td>\n",
              "      <td>0.8596</td>\n",
              "      <td>0.057817</td>\n",
              "      <td>111.545754</td>\n",
              "      <td>0.057817</td>\n",
              "      <td>111.545754</td>\n",
              "      <td>1</td>\n",
              "      <td>True</td>\n",
              "      <td>10</td>\n",
              "    </tr>\n",
              "  </tbody>\n",
              "</table>\n",
              "</div>"
            ],
            "text/plain": [
              "                  model  score_val  pred_time_val    fit_time  \\\n",
              "0   WeightedEnsemble_L2     0.9864       2.997245  213.988587   \n",
              "1              CatBoost     0.9796       0.000000   94.555132   \n",
              "2              LightGBM     0.9784       0.146369    9.505940   \n",
              "3         LightGBMLarge     0.9764       0.092980    6.129706   \n",
              "4      RandomForestGini     0.9760       0.135777   17.320184   \n",
              "5      RandomForestEntr     0.9756       0.145125   22.130347   \n",
              "6        ExtraTreesGini     0.9720       0.100980    4.508280   \n",
              "7        ExtraTreesEntr     0.9708       0.090685    4.718034   \n",
              "8               XGBoost     0.9684       0.116609    9.026807   \n",
              "9            LightGBMXT     0.9592       2.233476   48.832841   \n",
              "10       KNeighborsDist     0.9288       0.019946    0.054853   \n",
              "11       NeuralNetTorch     0.9260       0.024274  729.835750   \n",
              "12       KNeighborsUnif     0.9216       0.021199    0.063830   \n",
              "13      NeuralNetFastAI     0.8596       0.057817  111.545754   \n",
              "\n",
              "    pred_time_val_marginal  fit_time_marginal  stack_level  can_infer  \\\n",
              "0                 0.005984           1.924497            2       True   \n",
              "1                 0.000000          94.555132            1       True   \n",
              "2                 0.146369           9.505940            1       True   \n",
              "3                 0.092980           6.129706            1       True   \n",
              "4                 0.135777          17.320184            1       True   \n",
              "5                 0.145125          22.130347            1       True   \n",
              "6                 0.100980           4.508280            1       True   \n",
              "7                 0.090685           4.718034            1       True   \n",
              "8                 0.116609           9.026807            1       True   \n",
              "9                 2.233476          48.832841            1       True   \n",
              "10                0.019946           0.054853            1       True   \n",
              "11                0.024274         729.835750            1       True   \n",
              "12                0.021199           0.063830            1       True   \n",
              "13                0.057817         111.545754            1       True   \n",
              "\n",
              "    fit_order  \n",
              "0          14  \n",
              "1           7  \n",
              "2           4  \n",
              "3          13  \n",
              "4           5  \n",
              "5           6  \n",
              "6           8  \n",
              "7           9  \n",
              "8          11  \n",
              "9           3  \n",
              "10          2  \n",
              "11         12  \n",
              "12          1  \n",
              "13         10  "
            ]
          },
          "execution_count": 481,
          "metadata": {},
          "output_type": "execute_result"
        }
      ],
      "source": [],
      "id": "251debd4-20dd-4fc3-8dfd-bb1e3e9164cd"
    },
    {
      "cell_type": "markdown",
      "metadata": {
        "id": "cbf739b1-7b54-4cc2-8fc6-1cdb24caabc0"
      },
      "source": [
        "## Dataset 4"
      ],
      "id": "cbf739b1-7b54-4cc2-8fc6-1cdb24caabc0"
    },
    {
      "cell_type": "code",
      "execution_count": null,
      "metadata": {
        "id": "46a31911-b024-4401-9aa8-21628c294443"
      },
      "outputs": [],
      "source": [
        "stroke4 = pd.read_csv('stroke/stroke10.csv')\n",
        "stroke4=preprocess_dataset(stroke4)\n",
        "X = stroke4.drop(['stroke'],axis=1)\n",
        "y = stroke4['stroke']\n",
        "\n",
        "from imblearn.over_sampling import SMOTE\n",
        "# Assuming X and y are your feature matrix and target variable, respectively\n",
        "smote = SMOTE()\n",
        "X, y = smote.fit_resample(X, y)\n",
        "X_train, X_test, y_train, y_test = train_test_split(X, y, test_size=0.2,random_state=42)"
      ],
      "id": "46a31911-b024-4401-9aa8-21628c294443"
    },
    {
      "cell_type": "code",
      "execution_count": null,
      "metadata": {
        "id": "f2c5bdaf-7de6-4425-abb7-59858a4acc04",
        "outputId": "10d25589-805f-4cbc-e6d6-7003c84842d0"
      },
      "outputs": [
        {
          "name": "stderr",
          "output_type": "stream",
          "text": [
            "Iterations:   0%|          | 0/10 [00:00<?, ?iteration/s]WARNING:root:1 individuals went zero\n",
            "WARNING:root:1 individuals went zero\n",
            "WARNING:root:1 individuals went zero\n",
            "Iterations:  10%|█         | 1/10 [02:04<18:41, 124.66s/iteration]WARNING:root:1 individuals went zero\n",
            "WARNING:root:1 individuals went zero\n",
            "WARNING:root:1 individuals went zero\n",
            "WARNING:root:1 individuals went zero\n",
            "WARNING:root:1 individuals went zero\n",
            "WARNING:root:1 individuals went zero\n",
            "Iterations:  20%|██        | 2/10 [04:13<16:54, 126.84s/iteration]WARNING:root:1 individuals went zero\n",
            "WARNING:root:1 individuals went zero\n",
            "Iterations:  30%|███       | 3/10 [06:24<15:01, 128.74s/iteration]WARNING:root:1 individuals went zero\n",
            "WARNING:root:1 individuals went zero\n",
            "WARNING:root:1 individuals went zero\n",
            "WARNING:root:1 individuals went zero\n",
            "WARNING:root:1 individuals went zero\n",
            "WARNING:root:1 individuals went zero\n",
            "WARNING:root:1 individuals went zero\n",
            "WARNING:root:1 individuals went zero\n",
            "WARNING:root:1 individuals went zero\n",
            "Iterations:  40%|████      | 4/10 [08:41<13:12, 132.08s/iteration]WARNING:root:1 individuals went zero\n",
            "Iterations:  50%|█████     | 5/10 [10:45<10:45, 129.12s/iteration]WARNING:root:1 individuals went zero\n",
            "WARNING:root:1 individuals went zero\n",
            "WARNING:root:1 individuals went zero\n",
            "WARNING:root:1 individuals went zero\n",
            "WARNING:root:1 individuals went zero\n",
            "WARNING:root:1 individuals went zero\n",
            "WARNING:root:1 individuals went zero\n",
            "WARNING:root:1 individuals went zero\n",
            "WARNING:root:1 individuals went zero\n",
            "WARNING:root:1 individuals went zero\n",
            "Iterations:  60%|██████    | 6/10 [12:40<08:18, 124.52s/iteration]WARNING:root:1 individuals went zero\n",
            "WARNING:root:1 individuals went zero\n",
            "WARNING:root:1 individuals went zero\n",
            "WARNING:root:1 individuals went zero\n",
            "Iterations:  70%|███████   | 7/10 [15:24<06:51, 137.20s/iteration]WARNING:root:1 individuals went zero\n",
            "WARNING:root:1 individuals went zero\n",
            "WARNING:root:1 individuals went zero\n",
            "WARNING:root:1 individuals went zero\n",
            "WARNING:root:1 individuals went zero\n",
            "Iterations:  90%|█████████ | 9/10 [19:58<02:16, 136.05s/iteration]WARNING:root:1 individuals went zero\n",
            "WARNING:root:1 individuals went zero\n",
            "WARNING:root:1 individuals went zero\n",
            "Iterations: 100%|██████████| 10/10 [22:15<00:00, 133.55s/iteration]\n"
          ]
        }
      ],
      "source": [
        "num_iterations = 10\n",
        "results, features, dims, scores = run_pso_optimization(num_iterations, X_train, y_train, X_test, y_test)"
      ],
      "id": "f2c5bdaf-7de6-4425-abb7-59858a4acc04"
    },
    {
      "cell_type": "code",
      "execution_count": null,
      "metadata": {
        "id": "07672c7f-7846-4202-af53-c229c1e32efd",
        "outputId": "e34a100d-f72c-4c05-8728-f6601565b770"
      },
      "outputs": [
        {
          "data": {
            "text/plain": [
              "[['avg_glucose_level', 'bmi'],\n",
              " ['avg_glucose_level', 'bmi'],\n",
              " ['avg_glucose_level', 'bmi'],\n",
              " ['avg_glucose_level', 'bmi'],\n",
              " ['avg_glucose_level', 'bmi'],\n",
              " ['avg_glucose_level', 'bmi'],\n",
              " ['avg_glucose_level', 'bmi'],\n",
              " ['avg_glucose_level', 'bmi'],\n",
              " ['ever_married', 'work_type', 'avg_glucose_level', 'smoking_status'],\n",
              " ['avg_glucose_level', 'bmi']]"
            ]
          },
          "execution_count": 186,
          "metadata": {},
          "output_type": "execute_result"
        }
      ],
      "source": [
        "features"
      ],
      "id": "07672c7f-7846-4202-af53-c229c1e32efd"
    },
    {
      "cell_type": "code",
      "execution_count": null,
      "metadata": {
        "id": "55d865e5-65ce-4fa0-ae19-2545235cc5a7",
        "outputId": "a76f2934-8e5c-43e6-d058-6da14c44ca98"
      },
      "outputs": [
        {
          "name": "stderr",
          "output_type": "stream",
          "text": [
            "Iterations:   0%|          | 0/10 [00:00<?, ?iteration/s]WARNING:root:2 individuals went zero\n",
            "WARNING:root:1 individuals went zero\n",
            "WARNING:root:1 individuals went zero\n",
            "WARNING:root:1 individuals went zero\n",
            "WARNING:root:1 individuals went zero\n",
            "Iterations:  10%|█         | 1/10 [02:00<18:04, 120.55s/iteration]WARNING:root:1 individuals went zero\n",
            "WARNING:root:1 individuals went zero\n",
            "WARNING:root:1 individuals went zero\n",
            "WARNING:root:1 individuals went zero\n",
            "Iterations:  20%|██        | 2/10 [03:51<15:21, 115.15s/iteration]WARNING:root:1 individuals went zero\n",
            "WARNING:root:1 individuals went zero\n",
            "WARNING:root:1 individuals went zero\n",
            "WARNING:root:1 individuals went zero\n",
            "WARNING:root:1 individuals went zero\n",
            "Iterations:  30%|███       | 3/10 [06:13<14:49, 127.09s/iteration]WARNING:root:1 individuals went zero\n",
            "WARNING:root:1 individuals went zero\n",
            "WARNING:root:1 individuals went zero\n",
            "Iterations:  40%|████      | 4/10 [08:32<13:10, 131.71s/iteration]WARNING:root:1 individuals went zero\n",
            "WARNING:root:1 individuals went zero\n",
            "WARNING:root:1 individuals went zero\n",
            "WARNING:root:2 individuals went zero\n",
            "WARNING:root:1 individuals went zero\n",
            "Iterations:  50%|█████     | 5/10 [10:34<10:41, 128.25s/iteration]WARNING:root:1 individuals went zero\n",
            "WARNING:root:1 individuals went zero\n",
            "WARNING:root:1 individuals went zero\n",
            "WARNING:root:1 individuals went zero\n",
            "WARNING:root:1 individuals went zero\n",
            "Iterations:  60%|██████    | 6/10 [12:34<08:21, 125.48s/iteration]WARNING:root:1 individuals went zero\n",
            "WARNING:root:1 individuals went zero\n",
            "WARNING:root:1 individuals went zero\n",
            "WARNING:root:1 individuals went zero\n",
            "WARNING:root:1 individuals went zero\n",
            "WARNING:root:1 individuals went zero\n",
            "Iterations:  70%|███████   | 7/10 [14:40<06:17, 125.87s/iteration]WARNING:root:1 individuals went zero\n",
            "WARNING:root:1 individuals went zero\n",
            "WARNING:root:1 individuals went zero\n",
            "WARNING:root:1 individuals went zero\n",
            "Iterations:  80%|████████  | 8/10 [16:59<04:19, 129.83s/iteration]WARNING:root:1 individuals went zero\n",
            "WARNING:root:1 individuals went zero\n",
            "WARNING:root:1 individuals went zero\n",
            "WARNING:root:1 individuals went zero\n",
            "WARNING:root:1 individuals went zero\n",
            "WARNING:root:1 individuals went zero\n",
            "WARNING:root:2 individuals went zero\n",
            "Iterations:  90%|█████████ | 9/10 [19:16<02:12, 132.04s/iteration]WARNING:root:1 individuals went zero\n",
            "WARNING:root:1 individuals went zero\n",
            "WARNING:root:1 individuals went zero\n",
            "WARNING:root:1 individuals went zero\n",
            "WARNING:root:1 individuals went zero\n",
            "WARNING:root:1 individuals went zero\n",
            "WARNING:root:1 individuals went zero\n",
            "WARNING:root:1 individuals went zero\n",
            "WARNING:root:1 individuals went zero\n",
            "Iterations: 100%|██████████| 10/10 [22:07<00:00, 132.74s/iteration]\n"
          ]
        }
      ],
      "source": [
        "num_iterations = 10\n",
        "results, features, dims, scores = run_pso_optimization(num_iterations, X_train, y_train, X_test, y_test)"
      ],
      "id": "55d865e5-65ce-4fa0-ae19-2545235cc5a7"
    },
    {
      "cell_type": "code",
      "execution_count": null,
      "metadata": {
        "id": "ba45b342-94da-42a6-8288-fe5308ded188",
        "outputId": "9b57dc20-6b09-4e10-c41b-560578167e8c"
      },
      "outputs": [
        {
          "data": {
            "text/plain": [
              "[['avg_glucose_level', 'bmi'],\n",
              " ['avg_glucose_level', 'bmi'],\n",
              " ['avg_glucose_level', 'bmi'],\n",
              " ['avg_glucose_level', 'bmi'],\n",
              " ['avg_glucose_level', 'bmi'],\n",
              " ['avg_glucose_level', 'bmi'],\n",
              " ['avg_glucose_level', 'bmi'],\n",
              " ['avg_glucose_level', 'bmi'],\n",
              " ['avg_glucose_level', 'bmi'],\n",
              " ['avg_glucose_level', 'bmi']]"
            ]
          },
          "execution_count": 188,
          "metadata": {},
          "output_type": "execute_result"
        }
      ],
      "source": [
        "features"
      ],
      "id": "ba45b342-94da-42a6-8288-fe5308ded188"
    },
    {
      "cell_type": "code",
      "execution_count": null,
      "metadata": {
        "id": "528fc859-1772-4df9-a404-ca87e167391a",
        "outputId": "98c4970b-f97f-4907-9c77-a4084af2e6d5"
      },
      "outputs": [
        {
          "name": "stderr",
          "output_type": "stream",
          "text": [
            "Iterations:   0%|          | 0/10 [00:00<?, ?iteration/s]WARNING:root:1 individuals went zero\n",
            "WARNING:root:1 individuals went zero\n",
            "WARNING:root:1 individuals went zero\n",
            "WARNING:root:1 individuals went zero\n",
            "WARNING:root:1 individuals went zero\n",
            "Iterations:  10%|█         | 1/10 [02:05<18:53, 126.00s/iteration]WARNING:root:1 individuals went zero\n",
            "WARNING:root:1 individuals went zero\n",
            "WARNING:root:1 individuals went zero\n",
            "WARNING:root:1 individuals went zero\n",
            "Iterations:  30%|███       | 3/10 [06:18<14:43, 126.28s/iteration]WARNING:root:1 individuals went zero\n",
            "WARNING:root:1 individuals went zero\n",
            "WARNING:root:1 individuals went zero\n",
            "WARNING:root:1 individuals went zero\n",
            "WARNING:root:1 individuals went zero\n",
            "Iterations:  40%|████      | 4/10 [08:23<12:34, 125.77s/iteration]WARNING:root:1 individuals went zero\n",
            "WARNING:root:1 individuals went zero\n",
            "WARNING:root:1 individuals went zero\n",
            "WARNING:root:1 individuals went zero\n",
            "WARNING:root:1 individuals went zero\n",
            "Iterations:  50%|█████     | 5/10 [10:14<10:01, 120.34s/iteration]WARNING:root:1 individuals went zero\n",
            "WARNING:root:1 individuals went zero\n",
            "WARNING:root:1 individuals went zero\n",
            "Iterations:  60%|██████    | 6/10 [12:39<08:35, 128.79s/iteration]WARNING:root:1 individuals went zero\n",
            "WARNING:root:1 individuals went zero\n",
            "WARNING:root:1 individuals went zero\n",
            "WARNING:root:1 individuals went zero\n",
            "WARNING:root:1 individuals went zero\n",
            "WARNING:root:1 individuals went zero\n",
            "Iterations:  80%|████████  | 8/10 [16:50<04:14, 127.09s/iteration]WARNING:root:1 individuals went zero\n",
            "WARNING:root:1 individuals went zero\n",
            "WARNING:root:1 individuals went zero\n",
            "WARNING:root:1 individuals went zero\n",
            "Iterations:  90%|█████████ | 9/10 [18:40<02:01, 121.79s/iteration]WARNING:root:1 individuals went zero\n",
            "WARNING:root:1 individuals went zero\n",
            "Iterations: 100%|██████████| 10/10 [20:50<00:00, 125.07s/iteration]\n"
          ]
        }
      ],
      "source": [
        "num_iterations = 10\n",
        "results, features, dims, scores = run_pso_optimization(num_iterations, X_train, y_train, X_test, y_test)"
      ],
      "id": "528fc859-1772-4df9-a404-ca87e167391a"
    },
    {
      "cell_type": "code",
      "execution_count": null,
      "metadata": {
        "colab": {
          "base_uri": "https://localhost:8080/"
        },
        "id": "b9e588a1-902d-4f2e-a7f7-a18fd4362500",
        "outputId": "02083ae1-7ef0-438c-ca98-5e84a13fb8e9"
      },
      "outputs": [
        {
          "name": "stderr",
          "output_type": "stream",
          "text": [
            "No path specified. Models will be saved in: \"AutogluonModels/ag-20230831_095139/\"\n",
            "Beginning AutoGluon training ...\n",
            "AutoGluon will save models to \"AutogluonModels/ag-20230831_095139/\"\n",
            "AutoGluon Version:  0.8.2\n",
            "Python Version:     3.10.12\n",
            "Operating System:   Linux\n",
            "Platform Machine:   x86_64\n",
            "Platform Version:   #1 SMP Fri Jun 9 10:57:30 UTC 2023\n",
            "Disk Space Avail:   10.86 GB / 16.11 GB (67.4%)\n",
            "Train Data Rows:    40920\n",
            "Train Data Columns: 2\n",
            "Label Column: stroke\n",
            "Preprocessing data ...\n",
            "AutoGluon infers your prediction problem is: 'binary' (because only two unique label-values observed).\n",
            "\t2 unique label values:  [1, 0]\n",
            "\tIf 'binary' is not the correct problem_type, please manually specify the problem_type parameter during predictor init (You may specify problem_type as one of: ['binary', 'multiclass', 'regression'])\n",
            "Selected class <--> label mapping:  class 1 = 1, class 0 = 0\n",
            "Using Feature Generators to preprocess the data ...\n",
            "Fitting AutoMLPipelineFeatureGenerator...\n",
            "\tAvailable Memory:                    10760.65 MB\n",
            "\tTrain Data (Original)  Memory Usage: 0.65 MB (0.0% of available memory)\n",
            "\tInferring data type of each feature based on column values. Set feature_metadata_in to manually specify special dtypes of the features.\n",
            "\tStage 1 Generators:\n",
            "\t\tFitting AsTypeFeatureGenerator...\n",
            "\tStage 2 Generators:\n",
            "\t\tFitting FillNaFeatureGenerator...\n",
            "\tStage 3 Generators:\n",
            "\t\tFitting IdentityFeatureGenerator...\n",
            "\tStage 4 Generators:\n",
            "\t\tFitting DropUniqueFeatureGenerator...\n",
            "\tStage 5 Generators:\n",
            "\t\tFitting DropDuplicatesFeatureGenerator...\n",
            "\tTypes of features in original data (raw dtype, special dtypes):\n",
            "\t\t('float', []) : 2 | ['avg_glucose_level', 'bmi']\n",
            "\tTypes of features in processed data (raw dtype, special dtypes):\n",
            "\t\t('float', []) : 2 | ['avg_glucose_level', 'bmi']\n",
            "\t0.2s = Fit runtime\n",
            "\t2 features in original data used to generate 2 features in processed data.\n",
            "\tTrain Data (Processed) Memory Usage: 0.65 MB (0.0% of available memory)\n",
            "Data preprocessing and feature engineering runtime = 0.21s ...\n",
            "AutoGluon will gauge predictive performance using evaluation metric: 'accuracy'\n",
            "\tTo change this, specify the eval_metric parameter of Predictor()\n",
            "Automatically generating train/validation split with holdout_frac=0.06109481915933529, Train Rows: 38420, Val Rows: 2500\n",
            "User-specified model hyperparameters to be fit:\n",
            "{\n",
            "\t'NN_TORCH': {},\n",
            "\t'GBM': [{'extra_trees': True, 'ag_args': {'name_suffix': 'XT'}}, {}, 'GBMLarge'],\n",
            "\t'CAT': {},\n",
            "\t'XGB': {},\n",
            "\t'FASTAI': {},\n",
            "\t'RF': [{'criterion': 'gini', 'ag_args': {'name_suffix': 'Gini', 'problem_types': ['binary', 'multiclass']}}, {'criterion': 'entropy', 'ag_args': {'name_suffix': 'Entr', 'problem_types': ['binary', 'multiclass']}}, {'criterion': 'squared_error', 'ag_args': {'name_suffix': 'MSE', 'problem_types': ['regression', 'quantile']}}],\n",
            "\t'XT': [{'criterion': 'gini', 'ag_args': {'name_suffix': 'Gini', 'problem_types': ['binary', 'multiclass']}}, {'criterion': 'entropy', 'ag_args': {'name_suffix': 'Entr', 'problem_types': ['binary', 'multiclass']}}, {'criterion': 'squared_error', 'ag_args': {'name_suffix': 'MSE', 'problem_types': ['regression', 'quantile']}}],\n",
            "\t'KNN': [{'weights': 'uniform', 'ag_args': {'name_suffix': 'Unif'}}, {'weights': 'distance', 'ag_args': {'name_suffix': 'Dist'}}],\n",
            "}\n",
            "Fitting 13 L1 models ...\n",
            "Fitting model: KNeighborsUnif ...\n",
            "\t1.0\t = Validation score   (accuracy)\n",
            "\t0.05s\t = Training   runtime\n",
            "\t0.04s\t = Validation runtime\n",
            "Fitting model: KNeighborsDist ...\n",
            "\t1.0\t = Validation score   (accuracy)\n",
            "\t0.05s\t = Training   runtime\n",
            "\t0.04s\t = Validation runtime\n",
            "Fitting model: LightGBMXT ...\n"
          ]
        },
        {
          "name": "stdout",
          "output_type": "stream",
          "text": [
            "[1000]\tvalid_set's binary_error: 0.1872\n",
            "[2000]\tvalid_set's binary_error: 0.1176\n",
            "[3000]\tvalid_set's binary_error: 0.0976\n",
            "[4000]\tvalid_set's binary_error: 0.0812\n",
            "[5000]\tvalid_set's binary_error: 0.07\n",
            "[6000]\tvalid_set's binary_error: 0.0628\n",
            "[7000]\tvalid_set's binary_error: 0.058\n",
            "[8000]\tvalid_set's binary_error: 0.0528\n",
            "[9000]\tvalid_set's binary_error: 0.0444\n",
            "[10000]\tvalid_set's binary_error: 0.0408\n"
          ]
        },
        {
          "name": "stderr",
          "output_type": "stream",
          "text": [
            "\t0.9596\t = Validation score   (accuracy)\n",
            "\t29.55s\t = Training   runtime\n",
            "\t3.07s\t = Validation runtime\n",
            "Fitting model: LightGBM ...\n",
            "\t0.9992\t = Validation score   (accuracy)\n",
            "\t2.79s\t = Training   runtime\n",
            "\t0.15s\t = Validation runtime\n",
            "Fitting model: RandomForestGini ...\n",
            "\t1.0\t = Validation score   (accuracy)\n",
            "\t8.16s\t = Training   runtime\n",
            "\t0.26s\t = Validation runtime\n",
            "Fitting model: RandomForestEntr ...\n",
            "\t1.0\t = Validation score   (accuracy)\n",
            "\t18.09s\t = Training   runtime\n",
            "\t0.28s\t = Validation runtime\n",
            "Fitting model: CatBoost ...\n",
            "\t1.0\t = Validation score   (accuracy)\n",
            "\t50.83s\t = Training   runtime\n",
            "\t0.01s\t = Validation runtime\n",
            "Fitting model: ExtraTreesGini ...\n",
            "\t1.0\t = Validation score   (accuracy)\n",
            "\t2.88s\t = Training   runtime\n",
            "\t0.2s\t = Validation runtime\n",
            "Fitting model: ExtraTreesEntr ...\n",
            "\t1.0\t = Validation score   (accuracy)\n",
            "\t5.11s\t = Training   runtime\n",
            "\t0.31s\t = Validation runtime\n",
            "Fitting model: NeuralNetFastAI ...\n",
            "\t0.6676\t = Validation score   (accuracy)\n",
            "\t56.96s\t = Training   runtime\n",
            "\t0.07s\t = Validation runtime\n",
            "Fitting model: XGBoost ...\n",
            "\t0.9988\t = Validation score   (accuracy)\n",
            "\t2.81s\t = Training   runtime\n",
            "\t0.11s\t = Validation runtime\n",
            "Fitting model: NeuralNetTorch ...\n",
            "\t0.9064\t = Validation score   (accuracy)\n",
            "\t426.21s\t = Training   runtime\n",
            "\t0.04s\t = Validation runtime\n",
            "Fitting model: LightGBMLarge ...\n",
            "\t0.9992\t = Validation score   (accuracy)\n",
            "\t3.64s\t = Training   runtime\n",
            "\t0.17s\t = Validation runtime\n",
            "Fitting model: WeightedEnsemble_L2 ...\n",
            "\t1.0\t = Validation score   (accuracy)\n",
            "\t3.06s\t = Training   runtime\n",
            "\t0.01s\t = Validation runtime\n",
            "AutoGluon training complete, total runtime = 618.56s ... Best model: \"WeightedEnsemble_L2\"\n",
            "TabularPredictor saved. To load, use: predictor = TabularPredictor.load(\"AutogluonModels/ag-20230831_095139/\")\n"
          ]
        },
        {
          "name": "stdout",
          "output_type": "stream",
          "text": [
            "                  model  score_val  pred_time_val    fit_time  pred_time_val_marginal  fit_time_marginal  stack_level  can_infer  fit_order\n",
            "0              CatBoost     1.0000       0.011013   50.831186                0.011013          50.831186            1       True          7\n",
            "1   WeightedEnsemble_L2     1.0000       0.020661   53.895217                0.009648           3.064031            2       True         14\n",
            "2        KNeighborsDist     1.0000       0.042441    0.052078                0.042441           0.052078            1       True          2\n",
            "3        KNeighborsUnif     1.0000       0.043527    0.049289                0.043527           0.049289            1       True          1\n",
            "4        ExtraTreesGini     1.0000       0.197235    2.883471                0.197235           2.883471            1       True          8\n",
            "5      RandomForestGini     1.0000       0.260288    8.159796                0.260288           8.159796            1       True          5\n",
            "6      RandomForestEntr     1.0000       0.283157   18.091717                0.283157          18.091717            1       True          6\n",
            "7        ExtraTreesEntr     1.0000       0.305244    5.114830                0.305244           5.114830            1       True          9\n",
            "8              LightGBM     0.9992       0.154553    2.787280                0.154553           2.787280            1       True          4\n",
            "9         LightGBMLarge     0.9992       0.174777    3.642408                0.174777           3.642408            1       True         13\n",
            "10              XGBoost     0.9988       0.114800    2.809422                0.114800           2.809422            1       True         11\n",
            "11           LightGBMXT     0.9596       3.074219   29.549613                3.074219          29.549613            1       True          3\n",
            "12       NeuralNetTorch     0.9064       0.035178  426.209840                0.035178         426.209840            1       True         12\n",
            "13      NeuralNetFastAI     0.6676       0.065959   56.961996                0.065959          56.961996            1       True         10\n"
          ]
        }
      ],
      "source": [
        "Stroke_data =pd.DataFrame(X[['avg_glucose_level', 'bmi']])\n",
        "Stroke_data['stroke']=y\n",
        "\n",
        "predictor_combined = TabularPredictor(\n",
        "    label=\"stroke\",\n",
        "\n",
        ").fit(\n",
        "    train_data=Stroke_data,\n",
        "\n",
        ")\n",
        "pso_dataset4=predictor_combined.leaderboard()"
      ],
      "id": "b9e588a1-902d-4f2e-a7f7-a18fd4362500"
    },
    {
      "cell_type": "markdown",
      "metadata": {
        "id": "1df49947-36d9-4296-bae0-f5782e987d96"
      },
      "source": [
        "## Dataset5"
      ],
      "id": "1df49947-36d9-4296-bae0-f5782e987d96"
    },
    {
      "cell_type": "code",
      "execution_count": null,
      "metadata": {
        "id": "820553b9-da4f-4cf2-bd96-723102ac8d89"
      },
      "outputs": [],
      "source": [
        "stroke5 = pd.read_csv('stroke/stroke12.csv')\n",
        "stroke5=preprocess_dataset(stroke5)\n",
        "X = stroke5.drop(['stroke'],axis=1)\n",
        "y = stroke5['stroke']\n",
        "\n",
        "from imblearn.over_sampling import SMOTE\n",
        "# Assuming X and y are your feature matrix and target variable, respectively\n",
        "smote = SMOTE()\n",
        "X, y = smote.fit_resample(X, y)\n",
        "X_train, X_test, y_train, y_test = train_test_split(X, y, test_size=0.2,random_state=42)"
      ],
      "id": "820553b9-da4f-4cf2-bd96-723102ac8d89"
    },
    {
      "cell_type": "code",
      "execution_count": null,
      "metadata": {
        "id": "9b3ca2d2-85a4-459e-a121-546723ecd287",
        "outputId": "6d4b325e-9d4e-4379-bc4e-adbc6e18c3b2"
      },
      "outputs": [
        {
          "name": "stderr",
          "output_type": "stream",
          "text": [
            "Iterations: 100%|██████████| 10/10 [00:22<00:00,  2.26s/iteration]\n"
          ]
        }
      ],
      "source": [
        "num_iterations = 10\n",
        "results, features, dims, scores = run_pso_optimization(num_iterations, X_train, y_train, X_test, y_test)"
      ],
      "id": "9b3ca2d2-85a4-459e-a121-546723ecd287"
    },
    {
      "cell_type": "code",
      "execution_count": null,
      "metadata": {
        "id": "1d9a4189-a6c4-435f-96df-508e76a3bc6f",
        "outputId": "c5f8d448-6dcf-4043-8d95-fc96377fc073"
      },
      "outputs": [
        {
          "data": {
            "text/plain": [
              "[['hypertension', 'ever_married', 'bmi', 'smoking_status'],\n",
              " ['gender',\n",
              "  'age',\n",
              "  'hypertension',\n",
              "  'ever_married',\n",
              "  'work_type',\n",
              "  'Residence_type'],\n",
              " ['gender',\n",
              "  'age',\n",
              "  'hypertension',\n",
              "  'heart_disease',\n",
              "  'work_type',\n",
              "  'Residence_type',\n",
              "  'bmi',\n",
              "  'smoking_status'],\n",
              " ['gender',\n",
              "  'age',\n",
              "  'hypertension',\n",
              "  'heart_disease',\n",
              "  'work_type',\n",
              "  'Residence_type',\n",
              "  'bmi',\n",
              "  'smoking_status'],\n",
              " ['gender',\n",
              "  'age',\n",
              "  'hypertension',\n",
              "  'heart_disease',\n",
              "  'work_type',\n",
              "  'Residence_type',\n",
              "  'bmi',\n",
              "  'smoking_status'],\n",
              " ['hypertension', 'ever_married', 'bmi', 'smoking_status'],\n",
              " ['gender',\n",
              "  'age',\n",
              "  'hypertension',\n",
              "  'heart_disease',\n",
              "  'work_type',\n",
              "  'Residence_type',\n",
              "  'bmi',\n",
              "  'smoking_status'],\n",
              " ['hypertension', 'ever_married', 'bmi', 'smoking_status'],\n",
              " ['hypertension', 'ever_married', 'bmi', 'smoking_status'],\n",
              " ['gender',\n",
              "  'age',\n",
              "  'hypertension',\n",
              "  'heart_disease',\n",
              "  'work_type',\n",
              "  'Residence_type',\n",
              "  'bmi',\n",
              "  'smoking_status']]"
            ]
          },
          "execution_count": 194,
          "metadata": {},
          "output_type": "execute_result"
        }
      ],
      "source": [
        "features"
      ],
      "id": "1d9a4189-a6c4-435f-96df-508e76a3bc6f"
    },
    {
      "cell_type": "code",
      "execution_count": null,
      "metadata": {
        "id": "8526a0d1-f7da-4629-9dba-d662387fdcc3",
        "outputId": "7614c6b3-f3d8-46a2-f2fb-9b7d7decd0aa"
      },
      "outputs": [
        {
          "name": "stderr",
          "output_type": "stream",
          "text": [
            "Iterations:   0%|          | 0/10 [00:00<?, ?iteration/s]WARNING:root:1 individuals went zero\n",
            "WARNING:root:1 individuals went zero\n",
            "Iterations:  40%|████      | 4/10 [00:08<00:13,  2.17s/iteration]WARNING:root:1 individuals went zero\n",
            "Iterations: 100%|██████████| 10/10 [00:22<00:00,  2.20s/iteration]\n"
          ]
        }
      ],
      "source": [
        "num_iterations = 10\n",
        "results, features, dims, scores = run_pso_optimization(num_iterations, X_train, y_train, X_test, y_test)"
      ],
      "id": "8526a0d1-f7da-4629-9dba-d662387fdcc3"
    },
    {
      "cell_type": "code",
      "execution_count": null,
      "metadata": {
        "id": "6435048f-9c88-4d6f-851d-0c790b9fdf6f",
        "outputId": "8d0d5bec-a3be-4fd9-be1a-0706f96cc9c6"
      },
      "outputs": [
        {
          "data": {
            "text/plain": [
              "[['work_type', 'bmi', 'smoking_status'],\n",
              " ['hypertension', 'ever_married', 'bmi', 'smoking_status'],\n",
              " ['hypertension', 'ever_married', 'bmi', 'smoking_status'],\n",
              " ['gender',\n",
              "  'age',\n",
              "  'hypertension',\n",
              "  'heart_disease',\n",
              "  'work_type',\n",
              "  'Residence_type',\n",
              "  'bmi',\n",
              "  'smoking_status'],\n",
              " ['gender',\n",
              "  'age',\n",
              "  'hypertension',\n",
              "  'heart_disease',\n",
              "  'work_type',\n",
              "  'Residence_type',\n",
              "  'bmi',\n",
              "  'smoking_status'],\n",
              " ['hypertension', 'ever_married', 'bmi', 'smoking_status'],\n",
              " ['gender',\n",
              "  'age',\n",
              "  'hypertension',\n",
              "  'heart_disease',\n",
              "  'work_type',\n",
              "  'Residence_type',\n",
              "  'bmi',\n",
              "  'smoking_status'],\n",
              " ['hypertension', 'ever_married', 'bmi', 'smoking_status'],\n",
              " ['gender',\n",
              "  'age',\n",
              "  'hypertension',\n",
              "  'heart_disease',\n",
              "  'work_type',\n",
              "  'Residence_type',\n",
              "  'bmi',\n",
              "  'smoking_status'],\n",
              " ['work_type', 'bmi', 'smoking_status']]"
            ]
          },
          "execution_count": 196,
          "metadata": {},
          "output_type": "execute_result"
        }
      ],
      "source": [
        "features"
      ],
      "id": "6435048f-9c88-4d6f-851d-0c790b9fdf6f"
    },
    {
      "cell_type": "code",
      "execution_count": null,
      "metadata": {
        "id": "dc2acd2a-7478-4fdb-a0b5-09ca600d07af",
        "outputId": "af26548e-9959-4d46-f21b-7566222e5994"
      },
      "outputs": [
        {
          "name": "stderr",
          "output_type": "stream",
          "text": [
            "Iterations:  40%|████      | 4/10 [00:09<00:14,  2.47s/iteration]WARNING:root:1 individuals went zero\n",
            "Iterations:  70%|███████   | 7/10 [00:15<00:06,  2.10s/iteration]WARNING:root:1 individuals went zero\n",
            "WARNING:root:1 individuals went zero\n",
            "Iterations: 100%|██████████| 10/10 [00:22<00:00,  2.25s/iteration]\n"
          ]
        }
      ],
      "source": [
        "num_iterations = 10\n",
        "results, features, dims, scores = run_pso_optimization(num_iterations, X_train, y_train, X_test, y_test)"
      ],
      "id": "dc2acd2a-7478-4fdb-a0b5-09ca600d07af"
    },
    {
      "cell_type": "code",
      "execution_count": null,
      "metadata": {
        "id": "519e0d2b-3728-454a-adcb-f9594fce0e32",
        "outputId": "73f77c94-42b4-4946-d55b-3d7ae568a5ee"
      },
      "outputs": [
        {
          "data": {
            "text/plain": [
              "[['gender',\n",
              "  'age',\n",
              "  'hypertension',\n",
              "  'heart_disease',\n",
              "  'work_type',\n",
              "  'Residence_type',\n",
              "  'bmi',\n",
              "  'smoking_status'],\n",
              " ['gender',\n",
              "  'age',\n",
              "  'hypertension',\n",
              "  'heart_disease',\n",
              "  'work_type',\n",
              "  'Residence_type',\n",
              "  'bmi',\n",
              "  'smoking_status'],\n",
              " ['hypertension', 'ever_married', 'bmi', 'smoking_status'],\n",
              " ['gender',\n",
              "  'age',\n",
              "  'hypertension',\n",
              "  'heart_disease',\n",
              "  'work_type',\n",
              "  'Residence_type',\n",
              "  'bmi',\n",
              "  'smoking_status'],\n",
              " ['hypertension', 'ever_married', 'bmi', 'smoking_status'],\n",
              " ['gender',\n",
              "  'age',\n",
              "  'hypertension',\n",
              "  'heart_disease',\n",
              "  'work_type',\n",
              "  'Residence_type',\n",
              "  'bmi',\n",
              "  'smoking_status'],\n",
              " ['gender',\n",
              "  'age',\n",
              "  'hypertension',\n",
              "  'heart_disease',\n",
              "  'work_type',\n",
              "  'Residence_type',\n",
              "  'bmi',\n",
              "  'smoking_status'],\n",
              " ['work_type', 'bmi', 'smoking_status'],\n",
              " ['gender',\n",
              "  'age',\n",
              "  'hypertension',\n",
              "  'heart_disease',\n",
              "  'work_type',\n",
              "  'Residence_type',\n",
              "  'bmi',\n",
              "  'smoking_status'],\n",
              " ['gender',\n",
              "  'age',\n",
              "  'hypertension',\n",
              "  'heart_disease',\n",
              "  'work_type',\n",
              "  'Residence_type',\n",
              "  'bmi',\n",
              "  'smoking_status']]"
            ]
          },
          "execution_count": 198,
          "metadata": {},
          "output_type": "execute_result"
        }
      ],
      "source": [
        "features"
      ],
      "id": "519e0d2b-3728-454a-adcb-f9594fce0e32"
    },
    {
      "cell_type": "code",
      "execution_count": null,
      "metadata": {
        "colab": {
          "base_uri": "https://localhost:8080/"
        },
        "id": "7b8cb5c7-cf95-49b9-84bb-21b0475e42a9",
        "outputId": "b6aa3846-1cab-40a2-c136-92d0bd80d0e0"
      },
      "outputs": [
        {
          "name": "stderr",
          "output_type": "stream",
          "text": [
            "No path specified. Models will be saved in: \"AutogluonModels/ag-20230831_100158/\"\n",
            "Beginning AutoGluon training ...\n",
            "AutoGluon will save models to \"AutogluonModels/ag-20230831_100158/\"\n",
            "AutoGluon Version:  0.8.2\n",
            "Python Version:     3.10.12\n",
            "Operating System:   Linux\n",
            "Platform Machine:   x86_64\n",
            "Platform Version:   #1 SMP Fri Jun 9 10:57:30 UTC 2023\n",
            "Disk Space Avail:   10.72 GB / 16.11 GB (66.6%)\n",
            "Train Data Rows:    322\n",
            "Train Data Columns: 8\n",
            "Label Column: stroke\n",
            "Preprocessing data ...\n",
            "AutoGluon infers your prediction problem is: 'binary' (because only two unique label-values observed).\n",
            "\t2 unique label values:  [1, 0]\n",
            "\tIf 'binary' is not the correct problem_type, please manually specify the problem_type parameter during predictor init (You may specify problem_type as one of: ['binary', 'multiclass', 'regression'])\n",
            "Selected class <--> label mapping:  class 1 = 1, class 0 = 0\n",
            "Using Feature Generators to preprocess the data ...\n",
            "Fitting AutoMLPipelineFeatureGenerator...\n",
            "\tAvailable Memory:                    10749.45 MB\n",
            "\tTrain Data (Original)  Memory Usage: 0.02 MB (0.0% of available memory)\n",
            "\tInferring data type of each feature based on column values. Set feature_metadata_in to manually specify special dtypes of the features.\n",
            "\tStage 1 Generators:\n",
            "\t\tFitting AsTypeFeatureGenerator...\n",
            "\t\t\tNote: Converting 4 features to boolean dtype as they only contain 2 unique values.\n",
            "\tStage 2 Generators:\n",
            "\t\tFitting FillNaFeatureGenerator...\n",
            "\tStage 3 Generators:\n",
            "\t\tFitting IdentityFeatureGenerator...\n",
            "\tStage 4 Generators:\n",
            "\t\tFitting DropUniqueFeatureGenerator...\n",
            "\tStage 5 Generators:\n",
            "\t\tFitting DropDuplicatesFeatureGenerator...\n",
            "\tTypes of features in original data (raw dtype, special dtypes):\n",
            "\t\t('float', []) : 2 | ['age', 'bmi']\n",
            "\t\t('int', [])   : 6 | ['gender', 'hypertension', 'heart_disease', 'work_type', 'Residence_type', ...]\n",
            "\tTypes of features in processed data (raw dtype, special dtypes):\n",
            "\t\t('float', [])     : 2 | ['age', 'bmi']\n",
            "\t\t('int', [])       : 2 | ['work_type', 'smoking_status']\n",
            "\t\t('int', ['bool']) : 4 | ['gender', 'hypertension', 'heart_disease', 'Residence_type']\n",
            "\t0.1s = Fit runtime\n",
            "\t8 features in original data used to generate 8 features in processed data.\n",
            "\tTrain Data (Processed) Memory Usage: 0.01 MB (0.0% of available memory)\n",
            "Data preprocessing and feature engineering runtime = 0.14s ...\n",
            "AutoGluon will gauge predictive performance using evaluation metric: 'accuracy'\n",
            "\tTo change this, specify the eval_metric parameter of Predictor()\n",
            "Automatically generating train/validation split with holdout_frac=0.2, Train Rows: 257, Val Rows: 65\n",
            "User-specified model hyperparameters to be fit:\n",
            "{\n",
            "\t'NN_TORCH': {},\n",
            "\t'GBM': [{'extra_trees': True, 'ag_args': {'name_suffix': 'XT'}}, {}, 'GBMLarge'],\n",
            "\t'CAT': {},\n",
            "\t'XGB': {},\n",
            "\t'FASTAI': {},\n",
            "\t'RF': [{'criterion': 'gini', 'ag_args': {'name_suffix': 'Gini', 'problem_types': ['binary', 'multiclass']}}, {'criterion': 'entropy', 'ag_args': {'name_suffix': 'Entr', 'problem_types': ['binary', 'multiclass']}}, {'criterion': 'squared_error', 'ag_args': {'name_suffix': 'MSE', 'problem_types': ['regression', 'quantile']}}],\n",
            "\t'XT': [{'criterion': 'gini', 'ag_args': {'name_suffix': 'Gini', 'problem_types': ['binary', 'multiclass']}}, {'criterion': 'entropy', 'ag_args': {'name_suffix': 'Entr', 'problem_types': ['binary', 'multiclass']}}, {'criterion': 'squared_error', 'ag_args': {'name_suffix': 'MSE', 'problem_types': ['regression', 'quantile']}}],\n",
            "\t'KNN': [{'weights': 'uniform', 'ag_args': {'name_suffix': 'Unif'}}, {'weights': 'distance', 'ag_args': {'name_suffix': 'Dist'}}],\n",
            "}\n",
            "Fitting 13 L1 models ...\n",
            "Fitting model: KNeighborsUnif ...\n",
            "\t0.7692\t = Validation score   (accuracy)\n",
            "\t0.02s\t = Training   runtime\n",
            "\t0.03s\t = Validation runtime\n",
            "Fitting model: KNeighborsDist ...\n",
            "\t0.7231\t = Validation score   (accuracy)\n",
            "\t0.02s\t = Training   runtime\n",
            "\t0.02s\t = Validation runtime\n",
            "Fitting model: LightGBMXT ...\n",
            "\t0.8462\t = Validation score   (accuracy)\n",
            "\t0.33s\t = Training   runtime\n",
            "\t0.0s\t = Validation runtime\n",
            "Fitting model: LightGBM ...\n",
            "\t0.8615\t = Validation score   (accuracy)\n",
            "\t0.34s\t = Training   runtime\n",
            "\t0.0s\t = Validation runtime\n",
            "Fitting model: RandomForestGini ...\n",
            "\t0.7538\t = Validation score   (accuracy)\n",
            "\t0.87s\t = Training   runtime\n",
            "\t0.09s\t = Validation runtime\n",
            "Fitting model: RandomForestEntr ...\n",
            "\t0.7538\t = Validation score   (accuracy)\n",
            "\t0.91s\t = Training   runtime\n",
            "\t0.12s\t = Validation runtime\n",
            "Fitting model: CatBoost ...\n",
            "\t0.8615\t = Validation score   (accuracy)\n",
            "\t0.6s\t = Training   runtime\n",
            "\t0.0s\t = Validation runtime\n",
            "Fitting model: ExtraTreesGini ...\n",
            "\t0.7385\t = Validation score   (accuracy)\n",
            "\t0.87s\t = Training   runtime\n",
            "\t0.08s\t = Validation runtime\n",
            "Fitting model: ExtraTreesEntr ...\n",
            "\t0.7692\t = Validation score   (accuracy)\n",
            "\t0.9s\t = Training   runtime\n",
            "\t0.07s\t = Validation runtime\n",
            "Fitting model: NeuralNetFastAI ...\n",
            "No improvement since epoch 3: early stopping\n",
            "\t0.8462\t = Validation score   (accuracy)\n",
            "\t0.47s\t = Training   runtime\n",
            "\t0.01s\t = Validation runtime\n",
            "Fitting model: XGBoost ...\n",
            "\t0.8769\t = Validation score   (accuracy)\n",
            "\t0.14s\t = Training   runtime\n",
            "\t0.0s\t = Validation runtime\n",
            "Fitting model: NeuralNetTorch ...\n",
            "\t0.8154\t = Validation score   (accuracy)\n",
            "\t0.69s\t = Training   runtime\n",
            "\t0.01s\t = Validation runtime\n",
            "Fitting model: LightGBMLarge ...\n",
            "\t0.8\t = Validation score   (accuracy)\n",
            "\t0.3s\t = Training   runtime\n",
            "\t0.0s\t = Validation runtime\n",
            "Fitting model: WeightedEnsemble_L2 ...\n",
            "\t0.8923\t = Validation score   (accuracy)\n",
            "\t0.78s\t = Training   runtime\n",
            "\t0.0s\t = Validation runtime\n",
            "AutoGluon training complete, total runtime = 8.59s ... Best model: \"WeightedEnsemble_L2\"\n",
            "TabularPredictor saved. To load, use: predictor = TabularPredictor.load(\"AutogluonModels/ag-20230831_100158/\")\n"
          ]
        },
        {
          "name": "stdout",
          "output_type": "stream",
          "text": [
            "                  model  score_val  pred_time_val  fit_time  pred_time_val_marginal  fit_time_marginal  stack_level  can_infer  fit_order\n",
            "0   WeightedEnsemble_L2   0.892308       0.008489  1.243879                0.000855           0.776482            2       True         14\n",
            "1               XGBoost   0.876923       0.004332  0.141342                0.004332           0.141342            1       True         11\n",
            "2              CatBoost   0.861538       0.002891  0.601138                0.002891           0.601138            1       True          7\n",
            "3              LightGBM   0.861538       0.003448  0.336250                0.003448           0.336250            1       True          4\n",
            "4            LightGBMXT   0.846154       0.003302  0.326055                0.003302           0.326055            1       True          3\n",
            "5       NeuralNetFastAI   0.846154       0.009136  0.472765                0.009136           0.472765            1       True         10\n",
            "6        NeuralNetTorch   0.815385       0.009838  0.686383                0.009838           0.686383            1       True         12\n",
            "7         LightGBMLarge   0.800000       0.002254  0.296908                0.002254           0.296908            1       True         13\n",
            "8        KNeighborsUnif   0.769231       0.026554  0.021298                0.026554           0.021298            1       True          1\n",
            "9        ExtraTreesEntr   0.769231       0.067529  0.895312                0.067529           0.895312            1       True          9\n",
            "10     RandomForestGini   0.753846       0.094286  0.871189                0.094286           0.871189            1       True          5\n",
            "11     RandomForestEntr   0.753846       0.122347  0.911613                0.122347           0.911613            1       True          6\n",
            "12       ExtraTreesGini   0.738462       0.078701  0.867680                0.078701           0.867680            1       True          8\n",
            "13       KNeighborsDist   0.723077       0.017697  0.015742                0.017697           0.015742            1       True          2\n"
          ]
        }
      ],
      "source": [
        "Stroke_data =pd.DataFrame(X[['gender',\n",
        "  'age',\n",
        "  'hypertension',\n",
        "  'heart_disease',\n",
        "  'work_type',\n",
        "  'Residence_type',\n",
        "  'bmi',\n",
        "  'smoking_status']])\n",
        "Stroke_data['stroke']=y\n",
        "\n",
        "predictor_combined = TabularPredictor(\n",
        "    label=\"stroke\",\n",
        "\n",
        ").fit(\n",
        "    train_data=Stroke_data,\n",
        "\n",
        ")\n",
        "pso_dataset5=predictor_combined.leaderboard()"
      ],
      "id": "7b8cb5c7-cf95-49b9-84bb-21b0475e42a9"
    },
    {
      "cell_type": "markdown",
      "metadata": {
        "id": "6e620c0a-dfb6-491e-aa97-207f2d9df700"
      },
      "source": [
        "## Dataset 6"
      ],
      "id": "6e620c0a-dfb6-491e-aa97-207f2d9df700"
    },
    {
      "cell_type": "code",
      "execution_count": null,
      "metadata": {
        "id": "730fad79-a884-4bf4-869d-80f3a17a8a67"
      },
      "outputs": [],
      "source": [
        "stroke6 = pd.read_csv('stroke/stroke 13.csv')\n",
        "X = stroke6.drop(['target'],axis=1)\n",
        "y = stroke6['target']\n",
        "\n",
        "from imblearn.over_sampling import SMOTE\n",
        "# Assuming X and y are your feature matrix and target variable, respectively\n",
        "smote = SMOTE()\n",
        "X, y = smote.fit_resample(X, y)\n",
        "X_train, X_test, y_train, y_test = train_test_split(X, y, test_size=0.2,random_state=42)"
      ],
      "id": "730fad79-a884-4bf4-869d-80f3a17a8a67"
    },
    {
      "cell_type": "code",
      "execution_count": null,
      "metadata": {
        "id": "86851587-052d-49fc-9aea-4ce2bf244bf8",
        "outputId": "72da3981-3212-4833-ce3e-b3c6889f76c7"
      },
      "outputs": [
        {
          "name": "stderr",
          "output_type": "stream",
          "text": [
            "Iterations: 100%|██████████| 10/10 [00:38<00:00,  3.88s/iteration]\n"
          ]
        }
      ],
      "source": [
        "num_iterations = 10\n",
        "results, features, dims, scores = run_pso_optimization(num_iterations, X_train, y_train, X_test, y_test)"
      ],
      "id": "86851587-052d-49fc-9aea-4ce2bf244bf8"
    },
    {
      "cell_type": "code",
      "execution_count": null,
      "metadata": {
        "id": "79d9bfdf-9b35-43b3-9952-28462b282c6f",
        "outputId": "4e140324-c09d-413b-b26f-4488930ef25b"
      },
      "outputs": [
        {
          "data": {
            "text/plain": [
              "[['cp', 'oldpeak', 'slope', 'ca'],\n",
              " ['cp', 'oldpeak', 'slope', 'ca'],\n",
              " ['cp', 'restecg', 'exang', 'slope', 'ca', 'thal'],\n",
              " ['cp', 'oldpeak', 'slope', 'ca'],\n",
              " ['cp', 'oldpeak', 'slope', 'ca'],\n",
              " ['cp', 'oldpeak', 'slope', 'ca'],\n",
              " ['cp', 'oldpeak', 'slope', 'ca'],\n",
              " ['cp', 'restecg', 'exang', 'slope', 'ca', 'thal'],\n",
              " ['cp', 'oldpeak', 'slope', 'ca'],\n",
              " ['cp', 'oldpeak', 'slope', 'ca']]"
            ]
          },
          "execution_count": 201,
          "metadata": {},
          "output_type": "execute_result"
        }
      ],
      "source": [
        "features"
      ],
      "id": "79d9bfdf-9b35-43b3-9952-28462b282c6f"
    },
    {
      "cell_type": "code",
      "execution_count": null,
      "metadata": {
        "id": "d2348994-2bc8-4661-a493-0de3b3ff4b53",
        "outputId": "62ccbf62-84e1-4c29-c793-c3408e8bf1be"
      },
      "outputs": [
        {
          "name": "stderr",
          "output_type": "stream",
          "text": [
            "Iterations:  50%|█████     | 5/10 [00:18<00:18,  3.66s/iteration]WARNING:root:1 individuals went zero\n",
            "Iterations: 100%|██████████| 10/10 [00:35<00:00,  3.59s/iteration]\n"
          ]
        }
      ],
      "source": [
        "num_iterations = 10\n",
        "results, features, dims, scores = run_pso_optimization(num_iterations, X_train, y_train, X_test, y_test)"
      ],
      "id": "d2348994-2bc8-4661-a493-0de3b3ff4b53"
    },
    {
      "cell_type": "code",
      "execution_count": null,
      "metadata": {
        "id": "b4647ac6-8e5d-404d-bb6a-df2c569bb004",
        "outputId": "84886855-fc9e-4dba-be90-e94ca82cbfcc"
      },
      "outputs": [
        {
          "data": {
            "text/plain": [
              "[['cp', 'oldpeak', 'slope', 'ca'],\n",
              " ['cp', 'oldpeak', 'slope', 'ca'],\n",
              " ['fbs', 'exang', 'oldpeak', 'slope', 'ca', 'thal'],\n",
              " ['cp', 'oldpeak', 'slope', 'ca'],\n",
              " ['cp', 'oldpeak', 'slope', 'ca'],\n",
              " ['cp', 'oldpeak', 'slope', 'ca'],\n",
              " ['fbs', 'exang', 'oldpeak', 'slope', 'ca', 'thal'],\n",
              " ['cp', 'oldpeak', 'slope', 'ca'],\n",
              " ['cp', 'oldpeak', 'slope', 'ca'],\n",
              " ['fbs', 'exang', 'oldpeak', 'slope', 'ca', 'thal']]"
            ]
          },
          "execution_count": 203,
          "metadata": {},
          "output_type": "execute_result"
        }
      ],
      "source": [
        "features"
      ],
      "id": "b4647ac6-8e5d-404d-bb6a-df2c569bb004"
    },
    {
      "cell_type": "code",
      "execution_count": null,
      "metadata": {
        "id": "83c21246-c151-411a-a9fd-a098d4aaf8e7",
        "outputId": "7d009121-8d9a-4a3b-c62f-827aef203f2f"
      },
      "outputs": [
        {
          "name": "stderr",
          "output_type": "stream",
          "text": [
            "Iterations:   0%|          | 0/10 [00:00<?, ?iteration/s]WARNING:root:1 individuals went zero\n",
            "Iterations: 100%|██████████| 10/10 [00:37<00:00,  3.73s/iteration]\n"
          ]
        }
      ],
      "source": [
        "num_iterations = 10\n",
        "results, features, dims, scores = run_pso_optimization(num_iterations, X_train, y_train, X_test, y_test)"
      ],
      "id": "83c21246-c151-411a-a9fd-a098d4aaf8e7"
    },
    {
      "cell_type": "code",
      "execution_count": null,
      "metadata": {
        "id": "f37a2bba-19df-4966-8407-fb5b6b4867b0",
        "outputId": "1ade2fce-7a80-40ec-b6e7-6072e794bc61"
      },
      "outputs": [
        {
          "data": {
            "text/plain": [
              "[['cp', 'oldpeak', 'slope', 'ca'],\n",
              " ['cp', 'oldpeak', 'slope', 'ca'],\n",
              " ['cp', 'oldpeak', 'slope', 'ca'],\n",
              " ['cp', 'oldpeak', 'slope', 'ca'],\n",
              " ['cp', 'oldpeak', 'slope', 'ca'],\n",
              " ['fbs', 'exang', 'oldpeak', 'slope', 'ca', 'thal'],\n",
              " ['cp', 'oldpeak', 'slope', 'ca'],\n",
              " ['cp', 'oldpeak', 'slope', 'ca'],\n",
              " ['cp', 'oldpeak', 'slope', 'ca'],\n",
              " ['cp', 'fbs', 'oldpeak', 'slope', 'ca']]"
            ]
          },
          "execution_count": 205,
          "metadata": {},
          "output_type": "execute_result"
        }
      ],
      "source": [
        "features"
      ],
      "id": "f37a2bba-19df-4966-8407-fb5b6b4867b0"
    },
    {
      "cell_type": "code",
      "execution_count": null,
      "metadata": {
        "colab": {
          "base_uri": "https://localhost:8080/"
        },
        "id": "11869c6a-fbd7-470b-a1e4-4a6f59da94cf",
        "outputId": "ff3f5427-92aa-40d9-817b-85809d02fe9e"
      },
      "outputs": [
        {
          "name": "stderr",
          "output_type": "stream",
          "text": [
            "No path specified. Models will be saved in: \"AutogluonModels/ag-20230831_100207/\"\n",
            "Beginning AutoGluon training ...\n",
            "AutoGluon will save models to \"AutogluonModels/ag-20230831_100207/\"\n",
            "AutoGluon Version:  0.8.2\n",
            "Python Version:     3.10.12\n",
            "Operating System:   Linux\n",
            "Platform Machine:   x86_64\n",
            "Platform Version:   #1 SMP Fri Jun 9 10:57:30 UTC 2023\n",
            "Disk Space Avail:   10.72 GB / 16.11 GB (66.6%)\n",
            "Train Data Rows:    330\n",
            "Train Data Columns: 4\n",
            "Label Column: stroke\n",
            "Preprocessing data ...\n",
            "AutoGluon infers your prediction problem is: 'binary' (because only two unique label-values observed).\n",
            "\t2 unique label values:  [1, 0]\n",
            "\tIf 'binary' is not the correct problem_type, please manually specify the problem_type parameter during predictor init (You may specify problem_type as one of: ['binary', 'multiclass', 'regression'])\n",
            "Selected class <--> label mapping:  class 1 = 1, class 0 = 0\n",
            "Using Feature Generators to preprocess the data ...\n",
            "Fitting AutoMLPipelineFeatureGenerator...\n",
            "\tAvailable Memory:                    10773.79 MB\n",
            "\tTrain Data (Original)  Memory Usage: 0.01 MB (0.0% of available memory)\n",
            "\tInferring data type of each feature based on column values. Set feature_metadata_in to manually specify special dtypes of the features.\n",
            "\tStage 1 Generators:\n",
            "\t\tFitting AsTypeFeatureGenerator...\n",
            "\tStage 2 Generators:\n",
            "\t\tFitting FillNaFeatureGenerator...\n",
            "\tStage 3 Generators:\n",
            "\t\tFitting IdentityFeatureGenerator...\n",
            "\tStage 4 Generators:\n",
            "\t\tFitting DropUniqueFeatureGenerator...\n",
            "\tStage 5 Generators:\n",
            "\t\tFitting DropDuplicatesFeatureGenerator...\n",
            "\tTypes of features in original data (raw dtype, special dtypes):\n",
            "\t\t('float', []) : 1 | ['oldpeak']\n",
            "\t\t('int', [])   : 3 | ['cp', 'slope', 'ca']\n",
            "\tTypes of features in processed data (raw dtype, special dtypes):\n",
            "\t\t('float', []) : 1 | ['oldpeak']\n",
            "\t\t('int', [])   : 3 | ['cp', 'slope', 'ca']\n",
            "\t0.1s = Fit runtime\n",
            "\t4 features in original data used to generate 4 features in processed data.\n",
            "\tTrain Data (Processed) Memory Usage: 0.01 MB (0.0% of available memory)\n",
            "Data preprocessing and feature engineering runtime = 0.12s ...\n",
            "AutoGluon will gauge predictive performance using evaluation metric: 'accuracy'\n",
            "\tTo change this, specify the eval_metric parameter of Predictor()\n",
            "Automatically generating train/validation split with holdout_frac=0.2, Train Rows: 264, Val Rows: 66\n",
            "User-specified model hyperparameters to be fit:\n",
            "{\n",
            "\t'NN_TORCH': {},\n",
            "\t'GBM': [{'extra_trees': True, 'ag_args': {'name_suffix': 'XT'}}, {}, 'GBMLarge'],\n",
            "\t'CAT': {},\n",
            "\t'XGB': {},\n",
            "\t'FASTAI': {},\n",
            "\t'RF': [{'criterion': 'gini', 'ag_args': {'name_suffix': 'Gini', 'problem_types': ['binary', 'multiclass']}}, {'criterion': 'entropy', 'ag_args': {'name_suffix': 'Entr', 'problem_types': ['binary', 'multiclass']}}, {'criterion': 'squared_error', 'ag_args': {'name_suffix': 'MSE', 'problem_types': ['regression', 'quantile']}}],\n",
            "\t'XT': [{'criterion': 'gini', 'ag_args': {'name_suffix': 'Gini', 'problem_types': ['binary', 'multiclass']}}, {'criterion': 'entropy', 'ag_args': {'name_suffix': 'Entr', 'problem_types': ['binary', 'multiclass']}}, {'criterion': 'squared_error', 'ag_args': {'name_suffix': 'MSE', 'problem_types': ['regression', 'quantile']}}],\n",
            "\t'KNN': [{'weights': 'uniform', 'ag_args': {'name_suffix': 'Unif'}}, {'weights': 'distance', 'ag_args': {'name_suffix': 'Dist'}}],\n",
            "}\n",
            "Fitting 13 L1 models ...\n",
            "Fitting model: KNeighborsUnif ...\n",
            "\t0.8939\t = Validation score   (accuracy)\n",
            "\t0.01s\t = Training   runtime\n",
            "\t0.02s\t = Validation runtime\n",
            "Fitting model: KNeighborsDist ...\n",
            "\t0.8485\t = Validation score   (accuracy)\n",
            "\t0.01s\t = Training   runtime\n",
            "\t0.02s\t = Validation runtime\n",
            "Fitting model: LightGBMXT ...\n",
            "\t0.9242\t = Validation score   (accuracy)\n",
            "\t0.25s\t = Training   runtime\n",
            "\t0.0s\t = Validation runtime\n",
            "Fitting model: LightGBM ...\n",
            "\t0.9545\t = Validation score   (accuracy)\n",
            "\t0.25s\t = Training   runtime\n",
            "\t0.0s\t = Validation runtime\n",
            "Fitting model: RandomForestGini ...\n",
            "\t0.803\t = Validation score   (accuracy)\n",
            "\t0.68s\t = Training   runtime\n",
            "\t0.05s\t = Validation runtime\n",
            "Fitting model: RandomForestEntr ...\n",
            "\t0.803\t = Validation score   (accuracy)\n",
            "\t0.67s\t = Training   runtime\n",
            "\t0.08s\t = Validation runtime\n",
            "Fitting model: CatBoost ...\n",
            "\t0.9697\t = Validation score   (accuracy)\n",
            "\t0.28s\t = Training   runtime\n",
            "\t0.0s\t = Validation runtime\n",
            "Fitting model: ExtraTreesGini ...\n",
            "\t0.8333\t = Validation score   (accuracy)\n",
            "\t0.67s\t = Training   runtime\n",
            "\t0.07s\t = Validation runtime\n",
            "Fitting model: ExtraTreesEntr ...\n",
            "\t0.8485\t = Validation score   (accuracy)\n",
            "\t0.72s\t = Training   runtime\n",
            "\t0.08s\t = Validation runtime\n",
            "Fitting model: NeuralNetFastAI ...\n",
            "No improvement since epoch 3: early stopping\n",
            "\t0.9545\t = Validation score   (accuracy)\n",
            "\t0.5s\t = Training   runtime\n",
            "\t0.01s\t = Validation runtime\n",
            "Fitting model: XGBoost ...\n",
            "\t0.8636\t = Validation score   (accuracy)\n",
            "\t0.13s\t = Training   runtime\n",
            "\t0.0s\t = Validation runtime\n",
            "Fitting model: NeuralNetTorch ...\n",
            "\t0.9091\t = Validation score   (accuracy)\n",
            "\t0.89s\t = Training   runtime\n",
            "\t0.01s\t = Validation runtime\n",
            "Fitting model: LightGBMLarge ...\n",
            "\t0.9091\t = Validation score   (accuracy)\n",
            "\t0.28s\t = Training   runtime\n",
            "\t0.0s\t = Validation runtime\n",
            "Fitting model: WeightedEnsemble_L2 ...\n",
            "\t0.9697\t = Validation score   (accuracy)\n",
            "\t1.0s\t = Training   runtime\n",
            "\t0.0s\t = Validation runtime\n",
            "AutoGluon training complete, total runtime = 7.62s ... Best model: \"WeightedEnsemble_L2\"\n",
            "TabularPredictor saved. To load, use: predictor = TabularPredictor.load(\"AutogluonModels/ag-20230831_100207/\")\n"
          ]
        },
        {
          "name": "stdout",
          "output_type": "stream",
          "text": [
            "                  model  score_val  pred_time_val  fit_time  pred_time_val_marginal  fit_time_marginal  stack_level  can_infer  fit_order\n",
            "0              CatBoost   0.969697       0.001785  0.284636                0.001785           0.284636            1       True          7\n",
            "1   WeightedEnsemble_L2   0.969697       0.003163  1.287324                0.001378           1.002688            2       True         14\n",
            "2              LightGBM   0.954545       0.002286  0.245571                0.002286           0.245571            1       True          4\n",
            "3       NeuralNetFastAI   0.954545       0.009068  0.497811                0.009068           0.497811            1       True         10\n",
            "4            LightGBMXT   0.924242       0.002276  0.250988                0.002276           0.250988            1       True          3\n",
            "5         LightGBMLarge   0.909091       0.002497  0.282984                0.002497           0.282984            1       True         13\n",
            "6        NeuralNetTorch   0.909091       0.009386  0.886773                0.009386           0.886773            1       True         12\n",
            "7        KNeighborsUnif   0.893939       0.020797  0.008473                0.020797           0.008473            1       True          1\n",
            "8               XGBoost   0.863636       0.004090  0.126635                0.004090           0.126635            1       True         11\n",
            "9        KNeighborsDist   0.848485       0.015202  0.007817                0.015202           0.007817            1       True          2\n",
            "10       ExtraTreesEntr   0.848485       0.077070  0.717734                0.077070           0.717734            1       True          9\n",
            "11       ExtraTreesGini   0.833333       0.067663  0.671294                0.067663           0.671294            1       True          8\n",
            "12     RandomForestGini   0.803030       0.045862  0.677577                0.045862           0.677577            1       True          5\n",
            "13     RandomForestEntr   0.803030       0.080602  0.673007                0.080602           0.673007            1       True          6\n"
          ]
        }
      ],
      "source": [
        "Stroke_data =pd.DataFrame(X[['cp', 'oldpeak', 'slope', 'ca']])\n",
        "Stroke_data['stroke']=y\n",
        "predictor_combined = TabularPredictor(\n",
        "    label=\"stroke\",\n",
        "\n",
        ").fit(\n",
        "    train_data=Stroke_data,\n",
        "\n",
        ")\n",
        "pso_dataset6=predictor_combined.leaderboard()"
      ],
      "id": "11869c6a-fbd7-470b-a1e4-4a6f59da94cf"
    },
    {
      "cell_type": "markdown",
      "metadata": {
        "id": "aac13f69-7691-4350-b3e9-155134671f20"
      },
      "source": [
        "## Dataset 7"
      ],
      "id": "aac13f69-7691-4350-b3e9-155134671f20"
    },
    {
      "cell_type": "code",
      "execution_count": null,
      "metadata": {
        "id": "dc896762-da46-4063-9236-e0653e843123"
      },
      "outputs": [],
      "source": [
        "stroke7 = pd.read_csv('stroke/stroke14.csv')[:1000]\n",
        "stroke7=preprocess_dataset(stroke7)\n",
        "X = stroke7.drop(['Stroke'],axis=1)\n",
        "y = stroke7['Stroke']\n",
        "\n",
        "from imblearn.over_sampling import SMOTE\n",
        "# Assuming X and y are your feature matrix and target variable, respectively\n",
        "smote = SMOTE()\n",
        "X, y = smote.fit_resample(X, y)\n",
        "X_train, X_test, y_train, y_test = train_test_split(X, y, test_size=0.2,random_state=42)"
      ],
      "id": "dc896762-da46-4063-9236-e0653e843123"
    },
    {
      "cell_type": "code",
      "execution_count": null,
      "metadata": {
        "id": "cfb3d52c-ebb6-4f7c-b1bc-e161ca344e61",
        "outputId": "edf41ccd-40c9-4b1e-8e05-eec8ad4b8a92"
      },
      "outputs": [
        {
          "name": "stderr",
          "output_type": "stream",
          "text": [
            "Iterations: 100%|██████████| 10/10 [04:21<00:00, 26.13s/iteration]\n"
          ]
        }
      ],
      "source": [
        "num_iterations = 10\n",
        "results, features, dims, scores = run_pso_optimization(num_iterations, X_train, y_train, X_test, y_test)"
      ],
      "id": "cfb3d52c-ebb6-4f7c-b1bc-e161ca344e61"
    },
    {
      "cell_type": "code",
      "execution_count": null,
      "metadata": {
        "id": "08bab9a4-505b-4099-adcd-3435ce9ae319",
        "outputId": "9ef2562a-bbbe-4709-a4d4-42007559f46a"
      },
      "outputs": [
        {
          "data": {
            "text/plain": [
              "[['Diabetes_012',\n",
              "  'HighChol',\n",
              "  'BMI',\n",
              "  'Smoke',\n",
              "  'PhysicalActivity',\n",
              "  'Fruits',\n",
              "  'Veggies',\n",
              "  'AnyHealthcare',\n",
              "  'DiffWalk',\n",
              "  'Sex',\n",
              "  'Age'],\n",
              " ['Diabetes_012',\n",
              "  'HighBP',\n",
              "  'HighChol',\n",
              "  'BMI',\n",
              "  'Smoke',\n",
              "  'Veggies',\n",
              "  'AnyHealthcare',\n",
              "  'MentHlth',\n",
              "  'PhysHlth',\n",
              "  'DiffWalk',\n",
              "  'Education'],\n",
              " ['Diabetes_012',\n",
              "  'HighBP',\n",
              "  'BMI',\n",
              "  'Smoke',\n",
              "  'HeartDiseaseorAttack',\n",
              "  'PhysicalActivity',\n",
              "  'Fruits',\n",
              "  'AnyHealthcare',\n",
              "  'GenHlth',\n",
              "  'Education'],\n",
              " ['Diabetes_012',\n",
              "  'HighBP',\n",
              "  'BMI',\n",
              "  'Smoke',\n",
              "  'Fruits',\n",
              "  'AnyHealthcare',\n",
              "  'GenHlth',\n",
              "  'PhysHlth',\n",
              "  'DiffWalk',\n",
              "  'Sex',\n",
              "  'Education'],\n",
              " ['HighBP',\n",
              "  'BMI',\n",
              "  'Smoke',\n",
              "  'HeartDiseaseorAttack',\n",
              "  'PhysicalActivity',\n",
              "  'Fruits',\n",
              "  'Veggies',\n",
              "  'AnyHealthcare',\n",
              "  'GenHlth',\n",
              "  'MentHlth',\n",
              "  'Education'],\n",
              " ['Diabetes_012',\n",
              "  'BMI',\n",
              "  'Smoke',\n",
              "  'PhysicalActivity',\n",
              "  'Fruits',\n",
              "  'Veggies',\n",
              "  'AnyHealthcare',\n",
              "  'NoDocbcCost',\n",
              "  'DiffWalk',\n",
              "  'Sex',\n",
              "  'Age',\n",
              "  'Education'],\n",
              " ['Diabetes_012',\n",
              "  'BMI',\n",
              "  'Smoke',\n",
              "  'Fruits',\n",
              "  'Veggies',\n",
              "  'AnyHealthcare',\n",
              "  'MentHlth',\n",
              "  'PhysHlth',\n",
              "  'DiffWalk',\n",
              "  'Education'],\n",
              " ['Diabetes_012',\n",
              "  'BMI',\n",
              "  'Smoke',\n",
              "  'Fruits',\n",
              "  'Veggies',\n",
              "  'AnyHealthcare',\n",
              "  'MentHlth',\n",
              "  'PhysHlth',\n",
              "  'DiffWalk',\n",
              "  'Education'],\n",
              " ['Diabetes_012',\n",
              "  'HighBP',\n",
              "  'HighChol',\n",
              "  'BMI',\n",
              "  'Smoke',\n",
              "  'HeartDiseaseorAttack',\n",
              "  'PhysicalActivity',\n",
              "  'Veggies',\n",
              "  'AnyHealthcare',\n",
              "  'GenHlth',\n",
              "  'Age',\n",
              "  'Education'],\n",
              " ['Diabetes_012',\n",
              "  'HighBP',\n",
              "  'BMI',\n",
              "  'Smoke',\n",
              "  'HeartDiseaseorAttack',\n",
              "  'PhysicalActivity',\n",
              "  'Fruits',\n",
              "  'AnyHealthcare',\n",
              "  'GenHlth',\n",
              "  'Education']]"
            ]
          },
          "execution_count": 208,
          "metadata": {},
          "output_type": "execute_result"
        }
      ],
      "source": [
        "features"
      ],
      "id": "08bab9a4-505b-4099-adcd-3435ce9ae319"
    },
    {
      "cell_type": "code",
      "execution_count": null,
      "metadata": {
        "id": "baf98eb2-595b-47b9-9486-1a356474912c",
        "outputId": "d920b2e3-2189-445b-e0b0-7fb56d12dcb9"
      },
      "outputs": [
        {
          "name": "stderr",
          "output_type": "stream",
          "text": [
            "Iterations: 100%|██████████| 10/10 [04:16<00:00, 25.68s/iteration]\n"
          ]
        }
      ],
      "source": [
        "num_iterations = 10\n",
        "results, features, dims, scores = run_pso_optimization(num_iterations, X_train, y_train, X_test, y_test)"
      ],
      "id": "baf98eb2-595b-47b9-9486-1a356474912c"
    },
    {
      "cell_type": "code",
      "execution_count": null,
      "metadata": {
        "id": "e6b167ed-cf6e-4ad9-beda-04209fd504a4",
        "outputId": "3c3e2540-4d6b-45af-eb16-8ea1f11fac24"
      },
      "outputs": [
        {
          "data": {
            "text/plain": [
              "[['Diabetes_012',\n",
              "  'HighBP',\n",
              "  'BMI',\n",
              "  'Smoke',\n",
              "  'PhysicalActivity',\n",
              "  'Veggies',\n",
              "  'AnyHealthcare',\n",
              "  'GenHlth',\n",
              "  'MentHlth',\n",
              "  'PhysHlth',\n",
              "  'DiffWalk'],\n",
              " ['Diabetes_012',\n",
              "  'HighBP',\n",
              "  'HighChol',\n",
              "  'BMI',\n",
              "  'Smoke',\n",
              "  'HeartDiseaseorAttack',\n",
              "  'PhysicalActivity',\n",
              "  'Fruits',\n",
              "  'AnyHealthcare',\n",
              "  'MentHlth',\n",
              "  'PhysHlth',\n",
              "  'DiffWalk',\n",
              "  'Education'],\n",
              " ['Diabetes_012',\n",
              "  'HighBP',\n",
              "  'CholCheck',\n",
              "  'BMI',\n",
              "  'Smoke',\n",
              "  'PhysicalActivity',\n",
              "  'Fruits',\n",
              "  'Veggies',\n",
              "  'AnyHealthcare',\n",
              "  'NoDocbcCost',\n",
              "  'GenHlth',\n",
              "  'PhysHlth',\n",
              "  'DiffWalk',\n",
              "  'Education'],\n",
              " ['Diabetes_012',\n",
              "  'HighBP',\n",
              "  'HighChol',\n",
              "  'BMI',\n",
              "  'Smoke',\n",
              "  'Veggies',\n",
              "  'AnyHealthcare',\n",
              "  'MentHlth',\n",
              "  'PhysHlth',\n",
              "  'DiffWalk',\n",
              "  'Education'],\n",
              " ['Diabetes_012',\n",
              "  'HighBP',\n",
              "  'BMI',\n",
              "  'Smoke',\n",
              "  'PhysicalActivity',\n",
              "  'Veggies',\n",
              "  'AnyHealthcare',\n",
              "  'PhysHlth',\n",
              "  'DiffWalk',\n",
              "  'Sex',\n",
              "  'Education'],\n",
              " ['Diabetes_012',\n",
              "  'HighBP',\n",
              "  'HighChol',\n",
              "  'BMI',\n",
              "  'Smoke',\n",
              "  'PhysicalActivity',\n",
              "  'Fruits',\n",
              "  'Veggies',\n",
              "  'AnyHealthcare',\n",
              "  'NoDocbcCost',\n",
              "  'DiffWalk',\n",
              "  'Age'],\n",
              " ['Diabetes_012',\n",
              "  'HighBP',\n",
              "  'BMI',\n",
              "  'Smoke',\n",
              "  'PhysicalActivity',\n",
              "  'Veggies',\n",
              "  'AnyHealthcare',\n",
              "  'PhysHlth',\n",
              "  'DiffWalk',\n",
              "  'Sex',\n",
              "  'Education'],\n",
              " ['Diabetes_012',\n",
              "  'HighBP',\n",
              "  'BMI',\n",
              "  'Smoke',\n",
              "  'HeartDiseaseorAttack',\n",
              "  'PhysicalActivity',\n",
              "  'Fruits',\n",
              "  'AnyHealthcare',\n",
              "  'NoDocbcCost',\n",
              "  'PhysHlth',\n",
              "  'Education'],\n",
              " ['Diabetes_012',\n",
              "  'HighBP',\n",
              "  'HighChol',\n",
              "  'BMI',\n",
              "  'Smoke',\n",
              "  'HeartDiseaseorAttack',\n",
              "  'PhysicalActivity',\n",
              "  'Fruits',\n",
              "  'AnyHealthcare',\n",
              "  'MentHlth',\n",
              "  'PhysHlth',\n",
              "  'DiffWalk',\n",
              "  'Education'],\n",
              " ['Diabetes_012',\n",
              "  'HighBP',\n",
              "  'HighChol',\n",
              "  'BMI',\n",
              "  'Smoke',\n",
              "  'HeartDiseaseorAttack',\n",
              "  'PhysicalActivity',\n",
              "  'Fruits',\n",
              "  'AnyHealthcare',\n",
              "  'MentHlth',\n",
              "  'PhysHlth',\n",
              "  'DiffWalk',\n",
              "  'Education']]"
            ]
          },
          "execution_count": 210,
          "metadata": {},
          "output_type": "execute_result"
        }
      ],
      "source": [
        "features"
      ],
      "id": "e6b167ed-cf6e-4ad9-beda-04209fd504a4"
    },
    {
      "cell_type": "code",
      "execution_count": null,
      "metadata": {
        "id": "c644ec60-5330-432e-b941-179df4411c66",
        "outputId": "7cba9238-6521-4146-e8b6-e69cd85b8693"
      },
      "outputs": [
        {
          "name": "stderr",
          "output_type": "stream",
          "text": [
            "Iterations: 100%|██████████| 10/10 [04:17<00:00, 25.79s/iteration]\n"
          ]
        }
      ],
      "source": [
        "num_iterations = 10\n",
        "results, features, dims, scores = run_pso_optimization(num_iterations, X_train, y_train, X_test, y_test)"
      ],
      "id": "c644ec60-5330-432e-b941-179df4411c66"
    },
    {
      "cell_type": "code",
      "execution_count": null,
      "metadata": {
        "id": "1bc6ff13-ec5c-4e3c-aa27-aac3bb9f92cc",
        "outputId": "6a78632c-d232-4cf9-f7df-456fd1c0487c"
      },
      "outputs": [
        {
          "data": {
            "text/plain": [
              "[['Diabetes_012',\n",
              "  'HighBP',\n",
              "  'HighChol',\n",
              "  'BMI',\n",
              "  'Smoke',\n",
              "  'HeartDiseaseorAttack',\n",
              "  'PhysicalActivity',\n",
              "  'Fruits',\n",
              "  'Veggies',\n",
              "  'AnyHealthcare',\n",
              "  'NoDocbcCost',\n",
              "  'Sex',\n",
              "  'Age'],\n",
              " ['Diabetes_012',\n",
              "  'BMI',\n",
              "  'Smoke',\n",
              "  'Fruits',\n",
              "  'Veggies',\n",
              "  'AnyHealthcare',\n",
              "  'MentHlth',\n",
              "  'PhysHlth',\n",
              "  'DiffWalk',\n",
              "  'Education'],\n",
              " ['Diabetes_012',\n",
              "  'HighChol',\n",
              "  'BMI',\n",
              "  'Smoke',\n",
              "  'PhysicalActivity',\n",
              "  'Fruits',\n",
              "  'Veggies',\n",
              "  'AnyHealthcare',\n",
              "  'DiffWalk',\n",
              "  'Sex',\n",
              "  'Age'],\n",
              " ['Diabetes_012',\n",
              "  'HighBP',\n",
              "  'HighChol',\n",
              "  'BMI',\n",
              "  'Smoke',\n",
              "  'Veggies',\n",
              "  'AnyHealthcare',\n",
              "  'MentHlth',\n",
              "  'PhysHlth',\n",
              "  'DiffWalk',\n",
              "  'Education'],\n",
              " ['Diabetes_012',\n",
              "  'HighBP',\n",
              "  'HighChol',\n",
              "  'BMI',\n",
              "  'Smoke',\n",
              "  'HeartDiseaseorAttack',\n",
              "  'PhysicalActivity',\n",
              "  'Fruits',\n",
              "  'AnyHealthcare',\n",
              "  'MentHlth',\n",
              "  'PhysHlth',\n",
              "  'DiffWalk',\n",
              "  'Education'],\n",
              " ['Diabetes_012',\n",
              "  'HighBP',\n",
              "  'BMI',\n",
              "  'PhysicalActivity',\n",
              "  'Fruits',\n",
              "  'Veggies',\n",
              "  'AnyHealthcare',\n",
              "  'DiffWalk',\n",
              "  'Sex',\n",
              "  'Age'],\n",
              " ['Diabetes_012',\n",
              "  'HighBP',\n",
              "  'HighChol',\n",
              "  'BMI',\n",
              "  'Smoke',\n",
              "  'Veggies',\n",
              "  'AnyHealthcare',\n",
              "  'MentHlth',\n",
              "  'PhysHlth',\n",
              "  'DiffWalk',\n",
              "  'Education'],\n",
              " ['Diabetes_012',\n",
              "  'HighBP',\n",
              "  'BMI',\n",
              "  'Smoke',\n",
              "  'HeartDiseaseorAttack',\n",
              "  'PhysicalActivity',\n",
              "  'AnyHealthcare',\n",
              "  'PhysHlth',\n",
              "  'Sex',\n",
              "  'Education'],\n",
              " ['Diabetes_012',\n",
              "  'HighBP',\n",
              "  'CholCheck',\n",
              "  'BMI',\n",
              "  'Smoke',\n",
              "  'PhysicalActivity',\n",
              "  'Fruits',\n",
              "  'Veggies',\n",
              "  'AnyHealthcare',\n",
              "  'NoDocbcCost',\n",
              "  'GenHlth',\n",
              "  'PhysHlth',\n",
              "  'DiffWalk',\n",
              "  'Education'],\n",
              " ['Diabetes_012',\n",
              "  'BMI',\n",
              "  'Smoke',\n",
              "  'Fruits',\n",
              "  'Veggies',\n",
              "  'AnyHealthcare',\n",
              "  'MentHlth',\n",
              "  'PhysHlth',\n",
              "  'DiffWalk',\n",
              "  'Education']]"
            ]
          },
          "execution_count": 212,
          "metadata": {},
          "output_type": "execute_result"
        }
      ],
      "source": [
        "features"
      ],
      "id": "1bc6ff13-ec5c-4e3c-aa27-aac3bb9f92cc"
    },
    {
      "cell_type": "code",
      "execution_count": null,
      "metadata": {
        "colab": {
          "base_uri": "https://localhost:8080/"
        },
        "id": "82f8da8c-78b4-4801-ae18-60085c2ed87b",
        "outputId": "ca63aa29-2752-4151-c510-352775e5fe1d"
      },
      "outputs": [
        {
          "name": "stderr",
          "output_type": "stream",
          "text": [
            "No path specified. Models will be saved in: \"AutogluonModels/ag-20230831_100219/\"\n",
            "Beginning AutoGluon training ...\n",
            "AutoGluon will save models to \"AutogluonModels/ag-20230831_100219/\"\n",
            "AutoGluon Version:  0.8.2\n",
            "Python Version:     3.10.12\n",
            "Operating System:   Linux\n",
            "Platform Machine:   x86_64\n",
            "Platform Version:   #1 SMP Fri Jun 9 10:57:30 UTC 2023\n",
            "Disk Space Avail:   10.72 GB / 16.11 GB (66.6%)\n",
            "Train Data Rows:    1868\n",
            "Train Data Columns: 17\n",
            "Label Column: stroke\n",
            "Preprocessing data ...\n",
            "AutoGluon infers your prediction problem is: 'binary' (because only two unique label-values observed).\n",
            "\t2 unique label values:  [0, 1]\n",
            "\tIf 'binary' is not the correct problem_type, please manually specify the problem_type parameter during predictor init (You may specify problem_type as one of: ['binary', 'multiclass', 'regression'])\n",
            "Selected class <--> label mapping:  class 1 = 1, class 0 = 0\n",
            "Using Feature Generators to preprocess the data ...\n",
            "Fitting AutoMLPipelineFeatureGenerator...\n",
            "\tAvailable Memory:                    10736.14 MB\n",
            "\tTrain Data (Original)  Memory Usage: 0.25 MB (0.0% of available memory)\n",
            "\tInferring data type of each feature based on column values. Set feature_metadata_in to manually specify special dtypes of the features.\n",
            "\tStage 1 Generators:\n",
            "\t\tFitting AsTypeFeatureGenerator...\n",
            "\t\t\tNote: Converting 12 features to boolean dtype as they only contain 2 unique values.\n",
            "\tStage 2 Generators:\n",
            "\t\tFitting FillNaFeatureGenerator...\n",
            "\tStage 3 Generators:\n",
            "\t\tFitting IdentityFeatureGenerator...\n",
            "\tStage 4 Generators:\n",
            "\t\tFitting DropUniqueFeatureGenerator...\n",
            "\tStage 5 Generators:\n",
            "\t\tFitting DropDuplicatesFeatureGenerator...\n",
            "\tTypes of features in original data (raw dtype, special dtypes):\n",
            "\t\t('int', []) : 17 | ['Diabetes_012', 'HighBP', 'HighChol', 'CholCheck', 'BMI', ...]\n",
            "\tTypes of features in processed data (raw dtype, special dtypes):\n",
            "\t\t('int', [])       :  5 | ['Diabetes_012', 'BMI', 'PhysHlth', 'Age', 'Education']\n",
            "\t\t('int', ['bool']) : 12 | ['HighBP', 'HighChol', 'CholCheck', 'Smoke', 'HeartDiseaseorAttack', ...]\n",
            "\t0.1s = Fit runtime\n",
            "\t17 features in original data used to generate 17 features in processed data.\n",
            "\tTrain Data (Processed) Memory Usage: 0.1 MB (0.0% of available memory)\n",
            "Data preprocessing and feature engineering runtime = 0.18s ...\n",
            "AutoGluon will gauge predictive performance using evaluation metric: 'accuracy'\n",
            "\tTo change this, specify the eval_metric parameter of Predictor()\n",
            "Automatically generating train/validation split with holdout_frac=0.2, Train Rows: 1494, Val Rows: 374\n",
            "User-specified model hyperparameters to be fit:\n",
            "{\n",
            "\t'NN_TORCH': {},\n",
            "\t'GBM': [{'extra_trees': True, 'ag_args': {'name_suffix': 'XT'}}, {}, 'GBMLarge'],\n",
            "\t'CAT': {},\n",
            "\t'XGB': {},\n",
            "\t'FASTAI': {},\n",
            "\t'RF': [{'criterion': 'gini', 'ag_args': {'name_suffix': 'Gini', 'problem_types': ['binary', 'multiclass']}}, {'criterion': 'entropy', 'ag_args': {'name_suffix': 'Entr', 'problem_types': ['binary', 'multiclass']}}, {'criterion': 'squared_error', 'ag_args': {'name_suffix': 'MSE', 'problem_types': ['regression', 'quantile']}}],\n",
            "\t'XT': [{'criterion': 'gini', 'ag_args': {'name_suffix': 'Gini', 'problem_types': ['binary', 'multiclass']}}, {'criterion': 'entropy', 'ag_args': {'name_suffix': 'Entr', 'problem_types': ['binary', 'multiclass']}}, {'criterion': 'squared_error', 'ag_args': {'name_suffix': 'MSE', 'problem_types': ['regression', 'quantile']}}],\n",
            "\t'KNN': [{'weights': 'uniform', 'ag_args': {'name_suffix': 'Unif'}}, {'weights': 'distance', 'ag_args': {'name_suffix': 'Dist'}}],\n",
            "}\n",
            "Fitting 13 L1 models ...\n",
            "Fitting model: KNeighborsUnif ...\n",
            "\t0.7914\t = Validation score   (accuracy)\n",
            "\t0.02s\t = Training   runtime\n",
            "\t0.02s\t = Validation runtime\n",
            "Fitting model: KNeighborsDist ...\n",
            "\t0.8048\t = Validation score   (accuracy)\n",
            "\t0.02s\t = Training   runtime\n",
            "\t0.02s\t = Validation runtime\n",
            "Fitting model: LightGBMXT ...\n"
          ]
        },
        {
          "name": "stdout",
          "output_type": "stream",
          "text": [
            "[1000]\tvalid_set's binary_error: 0.0614973\n"
          ]
        },
        {
          "name": "stderr",
          "output_type": "stream",
          "text": [
            "\t0.9439\t = Validation score   (accuracy)\n",
            "\t1.35s\t = Training   runtime\n",
            "\t0.05s\t = Validation runtime\n",
            "Fitting model: LightGBM ...\n",
            "\t0.9519\t = Validation score   (accuracy)\n",
            "\t0.95s\t = Training   runtime\n",
            "\t0.02s\t = Validation runtime\n",
            "Fitting model: RandomForestGini ...\n",
            "\t0.9412\t = Validation score   (accuracy)\n",
            "\t1.31s\t = Training   runtime\n",
            "\t0.11s\t = Validation runtime\n",
            "Fitting model: RandomForestEntr ...\n",
            "\t0.9358\t = Validation score   (accuracy)\n",
            "\t1.37s\t = Training   runtime\n",
            "\t0.11s\t = Validation runtime\n",
            "Fitting model: CatBoost ...\n",
            "\t0.9492\t = Validation score   (accuracy)\n",
            "\t3.1s\t = Training   runtime\n",
            "\t0.0s\t = Validation runtime\n",
            "Fitting model: ExtraTreesGini ...\n",
            "\t0.9332\t = Validation score   (accuracy)\n",
            "\t0.86s\t = Training   runtime\n",
            "\t0.11s\t = Validation runtime\n",
            "Fitting model: ExtraTreesEntr ...\n",
            "\t0.9305\t = Validation score   (accuracy)\n",
            "\t0.81s\t = Training   runtime\n",
            "\t0.09s\t = Validation runtime\n",
            "Fitting model: NeuralNetFastAI ...\n",
            "\t0.9251\t = Validation score   (accuracy)\n",
            "\t1.94s\t = Training   runtime\n",
            "\t0.01s\t = Validation runtime\n",
            "Fitting model: XGBoost ...\n",
            "\t0.9439\t = Validation score   (accuracy)\n",
            "\t0.84s\t = Training   runtime\n",
            "\t0.03s\t = Validation runtime\n",
            "Fitting model: NeuralNetTorch ...\n",
            "\t0.9171\t = Validation score   (accuracy)\n",
            "\t8.48s\t = Training   runtime\n",
            "\t0.02s\t = Validation runtime\n",
            "Fitting model: LightGBMLarge ...\n",
            "\t0.9519\t = Validation score   (accuracy)\n",
            "\t1.83s\t = Training   runtime\n",
            "\t0.03s\t = Validation runtime\n",
            "Fitting model: WeightedEnsemble_L2 ...\n",
            "\t0.9599\t = Validation score   (accuracy)\n",
            "\t1.6s\t = Training   runtime\n",
            "\t0.0s\t = Validation runtime\n",
            "AutoGluon training complete, total runtime = 27.16s ... Best model: \"WeightedEnsemble_L2\"\n",
            "TabularPredictor saved. To load, use: predictor = TabularPredictor.load(\"AutogluonModels/ag-20230831_100219/\")\n"
          ]
        },
        {
          "name": "stdout",
          "output_type": "stream",
          "text": [
            "                  model  score_val  pred_time_val  fit_time  pred_time_val_marginal  fit_time_marginal  stack_level  can_infer  fit_order\n",
            "0   WeightedEnsemble_L2   0.959893       0.339494  9.838848                0.003123           1.596522            2       True         14\n",
            "1              LightGBM   0.951872       0.021560  0.950353                0.021560           0.950353            1       True          4\n",
            "2         LightGBMLarge   0.951872       0.031540  1.833542                0.031540           1.833542            1       True         13\n",
            "3              CatBoost   0.949198       0.003286  3.102116                0.003286           3.102116            1       True          7\n",
            "4               XGBoost   0.943850       0.029260  0.837781                0.029260           0.837781            1       True         11\n",
            "5            LightGBMXT   0.943850       0.051782  1.345253                0.051782           1.345253            1       True          3\n",
            "6      RandomForestGini   0.941176       0.110267  1.311792                0.110267           1.311792            1       True          5\n",
            "7      RandomForestEntr   0.935829       0.112460  1.365094                0.112460           1.365094            1       True          6\n",
            "8        ExtraTreesGini   0.933155       0.108274  0.856539                0.108274           0.856539            1       True          8\n",
            "9        ExtraTreesEntr   0.930481       0.087498  0.814875                0.087498           0.814875            1       True          9\n",
            "10      NeuralNetFastAI   0.925134       0.012949  1.944847                0.012949           1.944847            1       True         10\n",
            "11       NeuralNetTorch   0.917112       0.015121  8.482442                0.015121           8.482442            1       True         12\n",
            "12       KNeighborsDist   0.804813       0.019076  0.016732                0.019076           0.016732            1       True          2\n",
            "13       KNeighborsUnif   0.791444       0.022056  0.017131                0.022056           0.017131            1       True          1\n"
          ]
        }
      ],
      "source": [
        "Stroke_data =pd.DataFrame(X[ ['Diabetes_012',\n",
        "  'HighBP',\n",
        "  'HighChol',\n",
        "  'CholCheck',\n",
        "  'BMI',\n",
        "  'Smoke',\n",
        "  'HeartDiseaseorAttack',\n",
        "  'PhysicalActivity',\n",
        "  'Fruits',\n",
        "  'Veggies',\n",
        "  'AlcoholConsump',\n",
        "  'NoDocbcCost',\n",
        "  'PhysHlth',\n",
        "  'DiffWalk',\n",
        "  'Sex',\n",
        "  'Age',\n",
        "  'Education']])\n",
        "Stroke_data['stroke']=y\n",
        "predictor_combined = TabularPredictor(\n",
        "    label=\"stroke\",\n",
        "\n",
        ").fit(\n",
        "    train_data=Stroke_data,\n",
        "\n",
        ")\n",
        "pso_dataset7=predictor_combined.leaderboard()"
      ],
      "id": "82f8da8c-78b4-4801-ae18-60085c2ed87b"
    },
    {
      "cell_type": "markdown",
      "metadata": {
        "id": "33a0b3aa-9c30-4a4b-bc04-45c9d44376e7"
      },
      "source": [
        "## Dataset 8"
      ],
      "id": "33a0b3aa-9c30-4a4b-bc04-45c9d44376e7"
    },
    {
      "cell_type": "code",
      "execution_count": null,
      "metadata": {
        "id": "4eb06dda-5e8d-4479-9ebd-4176f6c6e2cf"
      },
      "outputs": [],
      "source": [
        "stroke8 = pd.read_csv('stroke/stroke15.csv')\n",
        "troke8=preprocess_dataset(stroke8)\n",
        "X = stroke8.drop(['stroke'],axis=1)\n",
        "y = stroke8['stroke']\n",
        "\n",
        "from imblearn.over_sampling import SMOTE\n",
        "# Assuming X and y are your feature matrix and target variable, respectively\n",
        "smote = SMOTE()\n",
        "X, y = smote.fit_resample(X, y)\n",
        "X_train, X_test, y_train, y_test = train_test_split(X, y, test_size=0.2,random_state=42)"
      ],
      "id": "4eb06dda-5e8d-4479-9ebd-4176f6c6e2cf"
    },
    {
      "cell_type": "code",
      "execution_count": null,
      "metadata": {
        "id": "07494113-cec9-40a5-879e-2db21a8d2607",
        "outputId": "7a8f19b2-3799-4424-ffa8-0cb8c16b021d"
      },
      "outputs": [
        {
          "name": "stderr",
          "output_type": "stream",
          "text": [
            "Iterations:  20%|██        | 2/10 [00:51<03:26, 25.77s/iteration]WARNING:root:1 individuals went zero\n",
            "WARNING:root:1 individuals went zero\n",
            "WARNING:root:1 individuals went zero\n",
            "WARNING:root:1 individuals went zero\n",
            "WARNING:root:1 individuals went zero\n",
            "WARNING:root:1 individuals went zero\n",
            "WARNING:root:1 individuals went zero\n",
            "WARNING:root:1 individuals went zero\n",
            "WARNING:root:2 individuals went zero\n",
            "WARNING:root:2 individuals went zero\n",
            "WARNING:root:1 individuals went zero\n",
            "WARNING:root:1 individuals went zero\n",
            "WARNING:root:2 individuals went zero\n",
            "WARNING:root:1 individuals went zero\n",
            "WARNING:root:1 individuals went zero\n",
            "WARNING:root:1 individuals went zero\n",
            "WARNING:root:2 individuals went zero\n",
            "WARNING:root:1 individuals went zero\n",
            "WARNING:root:1 individuals went zero\n",
            "WARNING:root:1 individuals went zero\n",
            "WARNING:root:2 individuals went zero\n",
            "WARNING:root:1 individuals went zero\n",
            "WARNING:root:2 individuals went zero\n",
            "WARNING:root:1 individuals went zero\n",
            "WARNING:root:1 individuals went zero\n",
            "WARNING:root:2 individuals went zero\n",
            "WARNING:root:1 individuals went zero\n",
            "WARNING:root:1 individuals went zero\n",
            "WARNING:root:1 individuals went zero\n",
            "WARNING:root:1 individuals went zero\n",
            "WARNING:root:1 individuals went zero\n",
            "WARNING:root:1 individuals went zero\n",
            "WARNING:root:2 individuals went zero\n",
            "WARNING:root:4 individuals went zero\n",
            "Iterations:  80%|████████  | 8/10 [03:31<00:51, 25.93s/iteration]WARNING:root:1 individuals went zero\n",
            "WARNING:root:1 individuals went zero\n",
            "WARNING:root:1 individuals went zero\n",
            "WARNING:root:1 individuals went zero\n",
            "WARNING:root:1 individuals went zero\n",
            "WARNING:root:1 individuals went zero\n",
            "WARNING:root:1 individuals went zero\n",
            "WARNING:root:1 individuals went zero\n",
            "WARNING:root:1 individuals went zero\n",
            "WARNING:root:1 individuals went zero\n",
            "WARNING:root:1 individuals went zero\n",
            "WARNING:root:2 individuals went zero\n",
            "WARNING:root:1 individuals went zero\n",
            "WARNING:root:1 individuals went zero\n",
            "WARNING:root:2 individuals went zero\n",
            "WARNING:root:2 individuals went zero\n",
            "WARNING:root:1 individuals went zero\n",
            "WARNING:root:2 individuals went zero\n",
            "WARNING:root:2 individuals went zero\n",
            "WARNING:root:1 individuals went zero\n",
            "WARNING:root:1 individuals went zero\n",
            "WARNING:root:1 individuals went zero\n",
            "WARNING:root:1 individuals went zero\n",
            "WARNING:root:1 individuals went zero\n",
            "WARNING:root:1 individuals went zero\n",
            "WARNING:root:1 individuals went zero\n",
            "WARNING:root:2 individuals went zero\n",
            "WARNING:root:1 individuals went zero\n",
            "WARNING:root:1 individuals went zero\n",
            "WARNING:root:1 individuals went zero\n",
            "WARNING:root:1 individuals went zero\n",
            "WARNING:root:1 individuals went zero\n",
            "Iterations:  90%|█████████ | 9/10 [04:03<00:27, 27.92s/iteration]WARNING:root:1 individuals went zero\n",
            "WARNING:root:1 individuals went zero\n",
            "WARNING:root:1 individuals went zero\n",
            "WARNING:root:1 individuals went zero\n",
            "WARNING:root:1 individuals went zero\n",
            "WARNING:root:1 individuals went zero\n",
            "WARNING:root:1 individuals went zero\n",
            "WARNING:root:1 individuals went zero\n",
            "WARNING:root:1 individuals went zero\n",
            "WARNING:root:2 individuals went zero\n",
            "WARNING:root:3 individuals went zero\n",
            "WARNING:root:1 individuals went zero\n",
            "WARNING:root:2 individuals went zero\n",
            "WARNING:root:1 individuals went zero\n",
            "WARNING:root:1 individuals went zero\n",
            "WARNING:root:1 individuals went zero\n",
            "WARNING:root:1 individuals went zero\n",
            "WARNING:root:1 individuals went zero\n",
            "WARNING:root:1 individuals went zero\n",
            "WARNING:root:1 individuals went zero\n",
            "WARNING:root:2 individuals went zero\n",
            "WARNING:root:1 individuals went zero\n",
            "WARNING:root:2 individuals went zero\n",
            "WARNING:root:1 individuals went zero\n",
            "WARNING:root:1 individuals went zero\n",
            "WARNING:root:1 individuals went zero\n",
            "WARNING:root:1 individuals went zero\n",
            "WARNING:root:2 individuals went zero\n",
            "Iterations: 100%|██████████| 10/10 [04:31<00:00, 27.16s/iteration]\n"
          ]
        }
      ],
      "source": [
        "num_iterations = 10\n",
        "results, features, dims, scores = run_pso_optimization(num_iterations, X_train, y_train, X_test, y_test)"
      ],
      "id": "07494113-cec9-40a5-879e-2db21a8d2607"
    },
    {
      "cell_type": "code",
      "execution_count": null,
      "metadata": {
        "id": "7d525b10-fd6d-48ad-9514-9805ba188858",
        "outputId": "0fc6323a-65e0-4ce6-ff27-2cc27765b8e8"
      },
      "outputs": [
        {
          "data": {
            "text/plain": [
              "[['age',\n",
              "  'hypertension',\n",
              "  'heart_disease',\n",
              "  'avg_glucose_level',\n",
              "  'bmi',\n",
              "  'smoking_status'],\n",
              " ['age',\n",
              "  'hypertension',\n",
              "  'heart_disease',\n",
              "  'avg_glucose_level',\n",
              "  'smoking_status'],\n",
              " ['age',\n",
              "  'heart_disease',\n",
              "  'work_type',\n",
              "  'avg_glucose_level',\n",
              "  'bmi',\n",
              "  'smoking_status'],\n",
              " ['age',\n",
              "  'hypertension',\n",
              "  'work_type',\n",
              "  'Residence_type',\n",
              "  'avg_glucose_level',\n",
              "  'bmi',\n",
              "  'smoking_status'],\n",
              " ['age',\n",
              "  'hypertension',\n",
              "  'work_type',\n",
              "  'avg_glucose_level',\n",
              "  'bmi',\n",
              "  'smoking_status'],\n",
              " ['age',\n",
              "  'hypertension',\n",
              "  'work_type',\n",
              "  'avg_glucose_level',\n",
              "  'bmi',\n",
              "  'smoking_status'],\n",
              " ['gender', 'age', 'ever_married', 'Residence_type', 'avg_glucose_level'],\n",
              " ['age', 'hypertension', 'work_type'],\n",
              " ['age', 'ever_married'],\n",
              " ['age',\n",
              "  'heart_disease',\n",
              "  'ever_married',\n",
              "  'work_type',\n",
              "  'Residence_type',\n",
              "  'avg_glucose_level',\n",
              "  'smoking_status']]"
            ]
          },
          "execution_count": 301,
          "metadata": {},
          "output_type": "execute_result"
        }
      ],
      "source": [
        "features"
      ],
      "id": "7d525b10-fd6d-48ad-9514-9805ba188858"
    },
    {
      "cell_type": "code",
      "execution_count": null,
      "metadata": {
        "id": "5644b23e-ab8a-4d1f-8cb9-41667a0b1fb0",
        "outputId": "0b360926-ded6-4a92-a435-6c297598a250"
      },
      "outputs": [
        {
          "name": "stderr",
          "output_type": "stream",
          "text": [
            "Iterations:   0%|          | 0/10 [00:00<?, ?iteration/s]WARNING:root:1 individuals went zero\n",
            "WARNING:root:1 individuals went zero\n",
            "WARNING:root:1 individuals went zero\n",
            "WARNING:root:2 individuals went zero\n",
            "WARNING:root:1 individuals went zero\n",
            "WARNING:root:1 individuals went zero\n",
            "WARNING:root:1 individuals went zero\n",
            "WARNING:root:2 individuals went zero\n",
            "WARNING:root:1 individuals went zero\n",
            "WARNING:root:2 individuals went zero\n",
            "WARNING:root:1 individuals went zero\n",
            "WARNING:root:1 individuals went zero\n",
            "WARNING:root:1 individuals went zero\n",
            "WARNING:root:2 individuals went zero\n",
            "WARNING:root:1 individuals went zero\n",
            "WARNING:root:1 individuals went zero\n",
            "WARNING:root:2 individuals went zero\n",
            "WARNING:root:1 individuals went zero\n",
            "WARNING:root:1 individuals went zero\n",
            "WARNING:root:1 individuals went zero\n",
            "WARNING:root:1 individuals went zero\n",
            "WARNING:root:2 individuals went zero\n",
            "WARNING:root:2 individuals went zero\n",
            "WARNING:root:2 individuals went zero\n",
            "WARNING:root:1 individuals went zero\n",
            "WARNING:root:3 individuals went zero\n",
            "WARNING:root:1 individuals went zero\n",
            "WARNING:root:2 individuals went zero\n",
            "WARNING:root:1 individuals went zero\n",
            "WARNING:root:1 individuals went zero\n",
            "WARNING:root:2 individuals went zero\n",
            "WARNING:root:1 individuals went zero\n",
            "WARNING:root:1 individuals went zero\n",
            "Iterations:  20%|██        | 2/10 [00:55<03:37, 27.24s/iteration]WARNING:root:1 individuals went zero\n",
            "WARNING:root:1 individuals went zero\n",
            "WARNING:root:1 individuals went zero\n",
            "WARNING:root:1 individuals went zero\n",
            "WARNING:root:1 individuals went zero\n",
            "WARNING:root:1 individuals went zero\n",
            "WARNING:root:1 individuals went zero\n",
            "WARNING:root:1 individuals went zero\n",
            "WARNING:root:1 individuals went zero\n",
            "WARNING:root:1 individuals went zero\n",
            "WARNING:root:1 individuals went zero\n",
            "WARNING:root:1 individuals went zero\n",
            "WARNING:root:1 individuals went zero\n",
            "WARNING:root:1 individuals went zero\n",
            "WARNING:root:1 individuals went zero\n",
            "Iterations:  30%|███       | 3/10 [01:34<03:48, 32.70s/iteration]WARNING:root:1 individuals went zero\n",
            "WARNING:root:1 individuals went zero\n",
            "WARNING:root:1 individuals went zero\n",
            "WARNING:root:1 individuals went zero\n",
            "WARNING:root:2 individuals went zero\n",
            "WARNING:root:2 individuals went zero\n",
            "WARNING:root:1 individuals went zero\n",
            "WARNING:root:1 individuals went zero\n",
            "WARNING:root:1 individuals went zero\n",
            "WARNING:root:1 individuals went zero\n",
            "WARNING:root:1 individuals went zero\n",
            "WARNING:root:1 individuals went zero\n",
            "WARNING:root:1 individuals went zero\n",
            "WARNING:root:2 individuals went zero\n",
            "WARNING:root:2 individuals went zero\n",
            "WARNING:root:1 individuals went zero\n",
            "WARNING:root:3 individuals went zero\n",
            "WARNING:root:1 individuals went zero\n",
            "WARNING:root:1 individuals went zero\n",
            "WARNING:root:1 individuals went zero\n",
            "WARNING:root:1 individuals went zero\n",
            "WARNING:root:1 individuals went zero\n",
            "WARNING:root:3 individuals went zero\n",
            "WARNING:root:2 individuals went zero\n",
            "WARNING:root:1 individuals went zero\n",
            "WARNING:root:3 individuals went zero\n",
            "WARNING:root:1 individuals went zero\n",
            "WARNING:root:3 individuals went zero\n",
            "WARNING:root:2 individuals went zero\n",
            "Iterations:  50%|█████     | 5/10 [02:40<02:40, 32.09s/iteration]WARNING:root:1 individuals went zero\n",
            "WARNING:root:1 individuals went zero\n",
            "WARNING:root:1 individuals went zero\n",
            "WARNING:root:1 individuals went zero\n",
            "WARNING:root:1 individuals went zero\n",
            "WARNING:root:2 individuals went zero\n",
            "WARNING:root:1 individuals went zero\n",
            "WARNING:root:1 individuals went zero\n",
            "WARNING:root:2 individuals went zero\n",
            "WARNING:root:1 individuals went zero\n",
            "WARNING:root:1 individuals went zero\n",
            "WARNING:root:1 individuals went zero\n",
            "WARNING:root:1 individuals went zero\n",
            "WARNING:root:1 individuals went zero\n",
            "WARNING:root:2 individuals went zero\n",
            "WARNING:root:1 individuals went zero\n",
            "WARNING:root:1 individuals went zero\n",
            "WARNING:root:3 individuals went zero\n",
            "WARNING:root:2 individuals went zero\n",
            "WARNING:root:1 individuals went zero\n",
            "WARNING:root:1 individuals went zero\n",
            "Iterations:  60%|██████    | 6/10 [03:15<02:12, 33.07s/iteration]WARNING:root:1 individuals went zero\n",
            "WARNING:root:1 individuals went zero\n",
            "WARNING:root:1 individuals went zero\n",
            "WARNING:root:1 individuals went zero\n",
            "WARNING:root:1 individuals went zero\n",
            "WARNING:root:1 individuals went zero\n",
            "WARNING:root:1 individuals went zero\n",
            "WARNING:root:1 individuals went zero\n",
            "WARNING:root:1 individuals went zero\n",
            "WARNING:root:2 individuals went zero\n",
            "WARNING:root:1 individuals went zero\n",
            "WARNING:root:1 individuals went zero\n",
            "WARNING:root:1 individuals went zero\n",
            "WARNING:root:1 individuals went zero\n",
            "WARNING:root:1 individuals went zero\n",
            "WARNING:root:1 individuals went zero\n",
            "WARNING:root:1 individuals went zero\n",
            "WARNING:root:2 individuals went zero\n",
            "WARNING:root:1 individuals went zero\n",
            "WARNING:root:1 individuals went zero\n",
            "WARNING:root:1 individuals went zero\n",
            "WARNING:root:3 individuals went zero\n",
            "WARNING:root:1 individuals went zero\n",
            "WARNING:root:1 individuals went zero\n",
            "WARNING:root:1 individuals went zero\n",
            "WARNING:root:1 individuals went zero\n",
            "WARNING:root:1 individuals went zero\n",
            "WARNING:root:1 individuals went zero\n",
            "WARNING:root:2 individuals went zero\n",
            "WARNING:root:1 individuals went zero\n",
            "WARNING:root:1 individuals went zero\n",
            "Iterations: 100%|██████████| 10/10 [05:06<00:00, 30.69s/iteration]\n"
          ]
        }
      ],
      "source": [
        "num_iterations = 10\n",
        "results, features, dims, scores = run_pso_optimization(num_iterations, X_train, y_train, X_test, y_test)"
      ],
      "id": "5644b23e-ab8a-4d1f-8cb9-41667a0b1fb0"
    },
    {
      "cell_type": "code",
      "execution_count": null,
      "metadata": {
        "id": "dc87e1c6-1540-4b73-8bf7-b75ed9725ccf",
        "outputId": "27c1127b-ce67-42de-a9a2-39367b98311a"
      },
      "outputs": [
        {
          "data": {
            "text/plain": [
              "[['age'],\n",
              " ['gender',\n",
              "  'age',\n",
              "  'ever_married',\n",
              "  'Residence_type',\n",
              "  'avg_glucose_level',\n",
              "  'bmi'],\n",
              " ['age'],\n",
              " ['age'],\n",
              " ['gender',\n",
              "  'age',\n",
              "  'ever_married',\n",
              "  'Residence_type',\n",
              "  'avg_glucose_level',\n",
              "  'bmi'],\n",
              " ['age'],\n",
              " ['age'],\n",
              " ['gender',\n",
              "  'age',\n",
              "  'ever_married',\n",
              "  'Residence_type',\n",
              "  'avg_glucose_level',\n",
              "  'bmi'],\n",
              " ['gender', 'age'],\n",
              " ['gender',\n",
              "  'age',\n",
              "  'ever_married',\n",
              "  'Residence_type',\n",
              "  'avg_glucose_level',\n",
              "  'bmi']]"
            ]
          },
          "execution_count": 218,
          "metadata": {},
          "output_type": "execute_result"
        }
      ],
      "source": [
        "features"
      ],
      "id": "dc87e1c6-1540-4b73-8bf7-b75ed9725ccf"
    },
    {
      "cell_type": "code",
      "execution_count": null,
      "metadata": {
        "id": "1d7a0595-c018-4e30-ad47-20310ab0dee5",
        "outputId": "15b009a4-c1c2-4481-c8ff-3b7b92cd9364"
      },
      "outputs": [
        {
          "name": "stderr",
          "output_type": "stream",
          "text": [
            "Iterations:  20%|██        | 2/10 [00:58<03:52, 29.06s/iteration]WARNING:root:1 individuals went zero\n",
            "WARNING:root:1 individuals went zero\n",
            "WARNING:root:1 individuals went zero\n",
            "Iterations:  40%|████      | 4/10 [02:04<03:11, 31.98s/iteration]WARNING:root:1 individuals went zero\n",
            "WARNING:root:1 individuals went zero\n",
            "WARNING:root:1 individuals went zero\n",
            "Iterations:  50%|█████     | 5/10 [02:42<02:50, 34.14s/iteration]WARNING:root:2 individuals went zero\n",
            "Iterations:  60%|██████    | 6/10 [03:24<02:27, 36.96s/iteration]WARNING:root:1 individuals went zero\n",
            "WARNING:root:2 individuals went zero\n",
            "WARNING:root:1 individuals went zero\n",
            "WARNING:root:1 individuals went zero\n",
            "Iterations:  90%|█████████ | 9/10 [05:11<00:35, 35.40s/iteration]WARNING:root:1 individuals went zero\n",
            "Iterations: 100%|██████████| 10/10 [05:44<00:00, 34.45s/iteration]\n"
          ]
        }
      ],
      "source": [
        "num_iterations = 10\n",
        "results, features, dims, scores = run_pso_optimization(num_iterations, X_train, y_train, X_test, y_test)"
      ],
      "id": "1d7a0595-c018-4e30-ad47-20310ab0dee5"
    },
    {
      "cell_type": "code",
      "execution_count": null,
      "metadata": {
        "id": "6b643dd3-f0e6-4130-a6ef-e44091f58d34",
        "outputId": "8de8c631-edfd-408a-d3ae-734a97815e58"
      },
      "outputs": [
        {
          "data": {
            "text/plain": [
              "[['age'],\n",
              " ['age'],\n",
              " ['gender',\n",
              "  'age',\n",
              "  'ever_married',\n",
              "  'Residence_type',\n",
              "  'avg_glucose_level',\n",
              "  'bmi'],\n",
              " ['gender',\n",
              "  'age',\n",
              "  'ever_married',\n",
              "  'Residence_type',\n",
              "  'avg_glucose_level',\n",
              "  'bmi'],\n",
              " ['gender',\n",
              "  'age',\n",
              "  'ever_married',\n",
              "  'Residence_type',\n",
              "  'avg_glucose_level',\n",
              "  'bmi'],\n",
              " ['age'],\n",
              " ['age'],\n",
              " ['age'],\n",
              " ['gender',\n",
              "  'age',\n",
              "  'ever_married',\n",
              "  'Residence_type',\n",
              "  'avg_glucose_level',\n",
              "  'bmi'],\n",
              " ['age']]"
            ]
          },
          "execution_count": 220,
          "metadata": {},
          "output_type": "execute_result"
        }
      ],
      "source": [
        "features"
      ],
      "id": "6b643dd3-f0e6-4130-a6ef-e44091f58d34"
    },
    {
      "cell_type": "code",
      "execution_count": null,
      "metadata": {
        "id": "3d9acfb6-b50a-48d6-aeee-51960286c797",
        "outputId": "cb3056c0-cd60-40ac-a5cd-564e77095230"
      },
      "outputs": [
        {
          "name": "stderr",
          "output_type": "stream",
          "text": [
            "Iterations:   0%|          | 0/10 [00:00<?, ?iteration/s]WARNING:root:1 individuals went zero\n",
            "WARNING:root:1 individuals went zero\n",
            "WARNING:root:1 individuals went zero\n",
            "WARNING:root:1 individuals went zero\n",
            "WARNING:root:2 individuals went zero\n",
            "WARNING:root:1 individuals went zero\n",
            "WARNING:root:1 individuals went zero\n",
            "WARNING:root:1 individuals went zero\n",
            "WARNING:root:1 individuals went zero\n",
            "WARNING:root:2 individuals went zero\n",
            "WARNING:root:1 individuals went zero\n",
            "WARNING:root:1 individuals went zero\n",
            "WARNING:root:1 individuals went zero\n",
            "WARNING:root:1 individuals went zero\n",
            "WARNING:root:2 individuals went zero\n",
            "WARNING:root:2 individuals went zero\n",
            "WARNING:root:1 individuals went zero\n",
            "WARNING:root:3 individuals went zero\n",
            "WARNING:root:1 individuals went zero\n",
            "WARNING:root:1 individuals went zero\n",
            "WARNING:root:1 individuals went zero\n",
            "WARNING:root:1 individuals went zero\n",
            "WARNING:root:1 individuals went zero\n",
            "WARNING:root:1 individuals went zero\n",
            "WARNING:root:1 individuals went zero\n",
            "WARNING:root:1 individuals went zero\n",
            "WARNING:root:1 individuals went zero\n",
            "WARNING:root:1 individuals went zero\n",
            "WARNING:root:1 individuals went zero\n",
            "WARNING:root:1 individuals went zero\n",
            "WARNING:root:1 individuals went zero\n",
            "WARNING:root:1 individuals went zero\n",
            "WARNING:root:1 individuals went zero\n",
            "WARNING:root:2 individuals went zero\n",
            "WARNING:root:1 individuals went zero\n",
            "WARNING:root:1 individuals went zero\n",
            "WARNING:root:1 individuals went zero\n",
            "WARNING:root:1 individuals went zero\n",
            "WARNING:root:1 individuals went zero\n",
            "WARNING:root:2 individuals went zero\n",
            "WARNING:root:1 individuals went zero\n",
            "Iterations:  40%|████      | 4/10 [01:44<02:32, 25.38s/iteration]WARNING:root:2 individuals went zero\n",
            "WARNING:root:1 individuals went zero\n",
            "WARNING:root:1 individuals went zero\n",
            "WARNING:root:2 individuals went zero\n",
            "WARNING:root:2 individuals went zero\n",
            "WARNING:root:1 individuals went zero\n",
            "WARNING:root:1 individuals went zero\n",
            "WARNING:root:2 individuals went zero\n",
            "WARNING:root:1 individuals went zero\n",
            "WARNING:root:1 individuals went zero\n",
            "WARNING:root:2 individuals went zero\n",
            "WARNING:root:2 individuals went zero\n",
            "WARNING:root:1 individuals went zero\n",
            "WARNING:root:1 individuals went zero\n",
            "WARNING:root:1 individuals went zero\n",
            "WARNING:root:2 individuals went zero\n",
            "WARNING:root:2 individuals went zero\n",
            "WARNING:root:1 individuals went zero\n",
            "WARNING:root:2 individuals went zero\n",
            "WARNING:root:1 individuals went zero\n",
            "WARNING:root:1 individuals went zero\n",
            "WARNING:root:1 individuals went zero\n",
            "Iterations:  50%|█████     | 5/10 [02:23<02:31, 30.26s/iteration]WARNING:root:1 individuals went zero\n",
            "WARNING:root:1 individuals went zero\n",
            "WARNING:root:1 individuals went zero\n",
            "WARNING:root:1 individuals went zero\n",
            "Iterations: 100%|██████████| 10/10 [04:54<00:00, 29.42s/iteration]\n"
          ]
        }
      ],
      "source": [
        "num_iterations = 10\n",
        "results, features, dims, scores = run_pso_optimization(num_iterations, X_train, y_train, X_test, y_test)"
      ],
      "id": "3d9acfb6-b50a-48d6-aeee-51960286c797"
    },
    {
      "cell_type": "code",
      "execution_count": null,
      "metadata": {
        "id": "8e405c6b-4852-4cc8-9f33-ceae3261dcca"
      },
      "outputs": [],
      "source": [],
      "id": "8e405c6b-4852-4cc8-9f33-ceae3261dcca"
    },
    {
      "cell_type": "code",
      "execution_count": null,
      "metadata": {
        "id": "3745ff53-9a66-4e82-8d4a-2b0ba4171914",
        "outputId": "b0f00b59-b533-406d-c29c-31db4ecd697f"
      },
      "outputs": [
        {
          "data": {
            "text/plain": [
              "[['age'],\n",
              " ['gender',\n",
              "  'age',\n",
              "  'ever_married',\n",
              "  'Residence_type',\n",
              "  'avg_glucose_level',\n",
              "  'bmi'],\n",
              " ['gender',\n",
              "  'age',\n",
              "  'ever_married',\n",
              "  'Residence_type',\n",
              "  'avg_glucose_level',\n",
              "  'bmi'],\n",
              " ['gender',\n",
              "  'age',\n",
              "  'ever_married',\n",
              "  'Residence_type',\n",
              "  'avg_glucose_level',\n",
              "  'bmi'],\n",
              " ['age'],\n",
              " ['age'],\n",
              " ['gender',\n",
              "  'age',\n",
              "  'ever_married',\n",
              "  'Residence_type',\n",
              "  'avg_glucose_level',\n",
              "  'bmi'],\n",
              " ['gender',\n",
              "  'age',\n",
              "  'ever_married',\n",
              "  'Residence_type',\n",
              "  'avg_glucose_level',\n",
              "  'bmi'],\n",
              " ['gender',\n",
              "  'age',\n",
              "  'ever_married',\n",
              "  'Residence_type',\n",
              "  'avg_glucose_level',\n",
              "  'bmi'],\n",
              " ['gender',\n",
              "  'age',\n",
              "  'ever_married',\n",
              "  'Residence_type',\n",
              "  'avg_glucose_level',\n",
              "  'bmi']]"
            ]
          },
          "execution_count": 222,
          "metadata": {},
          "output_type": "execute_result"
        }
      ],
      "source": [
        "features"
      ],
      "id": "3745ff53-9a66-4e82-8d4a-2b0ba4171914"
    },
    {
      "cell_type": "code",
      "execution_count": null,
      "metadata": {
        "id": "fc3610a3-46e5-45cd-8bcb-214c7e4bda4d"
      },
      "outputs": [],
      "source": [
        "Stroke_data =pd.DataFrame(X[['gender',\n",
        "  'age',\n",
        "  'ever_married',\n",
        "  'Residence_type',\n",
        "  'avg_glucose_level',\n",
        "  'bmi']])\n",
        "Stroke_data['stroke']=y"
      ],
      "id": "fc3610a3-46e5-45cd-8bcb-214c7e4bda4d"
    },
    {
      "cell_type": "code",
      "execution_count": null,
      "metadata": {
        "colab": {
          "base_uri": "https://localhost:8080/"
        },
        "id": "1d99f9b4-b909-4350-ba05-aea9ac3a316b",
        "outputId": "9d773d4c-d1d8-4b63-a80a-fc43369a6cb0"
      },
      "outputs": [
        {
          "name": "stderr",
          "output_type": "stream",
          "text": [
            "No path specified. Models will be saved in: \"AutogluonModels/ag-20230831_100246/\"\n",
            "Beginning AutoGluon training ...\n",
            "AutoGluon will save models to \"AutogluonModels/ag-20230831_100246/\"\n",
            "AutoGluon Version:  0.8.2\n",
            "Python Version:     3.10.12\n",
            "Operating System:   Linux\n",
            "Platform Machine:   x86_64\n",
            "Platform Version:   #1 SMP Fri Jun 9 10:57:30 UTC 2023\n",
            "Disk Space Avail:   10.72 GB / 16.11 GB (66.6%)\n",
            "Train Data Rows:    9466\n",
            "Train Data Columns: 6\n",
            "Label Column: stroke\n",
            "Preprocessing data ...\n",
            "AutoGluon infers your prediction problem is: 'binary' (because only two unique label-values observed).\n",
            "\t2 unique label values:  [1, 0]\n",
            "\tIf 'binary' is not the correct problem_type, please manually specify the problem_type parameter during predictor init (You may specify problem_type as one of: ['binary', 'multiclass', 'regression'])\n",
            "Selected class <--> label mapping:  class 1 = 1, class 0 = 0\n",
            "Using Feature Generators to preprocess the data ...\n",
            "Fitting AutoMLPipelineFeatureGenerator...\n",
            "\tAvailable Memory:                    10729.19 MB\n",
            "\tTrain Data (Original)  Memory Usage: 0.45 MB (0.0% of available memory)\n",
            "\tInferring data type of each feature based on column values. Set feature_metadata_in to manually specify special dtypes of the features.\n",
            "\tStage 1 Generators:\n",
            "\t\tFitting AsTypeFeatureGenerator...\n",
            "\t\t\tNote: Converting 3 features to boolean dtype as they only contain 2 unique values.\n",
            "\tStage 2 Generators:\n",
            "\t\tFitting FillNaFeatureGenerator...\n",
            "\tStage 3 Generators:\n",
            "\t\tFitting IdentityFeatureGenerator...\n",
            "\tStage 4 Generators:\n",
            "\t\tFitting DropUniqueFeatureGenerator...\n",
            "\tStage 5 Generators:\n",
            "\t\tFitting DropDuplicatesFeatureGenerator...\n",
            "\tTypes of features in original data (raw dtype, special dtypes):\n",
            "\t\t('float', []) : 3 | ['age', 'avg_glucose_level', 'bmi']\n",
            "\t\t('int', [])   : 3 | ['gender', 'ever_married', 'Residence_type']\n",
            "\tTypes of features in processed data (raw dtype, special dtypes):\n",
            "\t\t('float', [])     : 3 | ['age', 'avg_glucose_level', 'bmi']\n",
            "\t\t('int', ['bool']) : 3 | ['gender', 'ever_married', 'Residence_type']\n",
            "\t0.1s = Fit runtime\n",
            "\t6 features in original data used to generate 6 features in processed data.\n",
            "\tTrain Data (Processed) Memory Usage: 0.26 MB (0.0% of available memory)\n",
            "Data preprocessing and feature engineering runtime = 0.17s ...\n",
            "AutoGluon will gauge predictive performance using evaluation metric: 'accuracy'\n",
            "\tTo change this, specify the eval_metric parameter of Predictor()\n",
            "Automatically generating train/validation split with holdout_frac=0.1, Train Rows: 8519, Val Rows: 947\n",
            "User-specified model hyperparameters to be fit:\n",
            "{\n",
            "\t'NN_TORCH': {},\n",
            "\t'GBM': [{'extra_trees': True, 'ag_args': {'name_suffix': 'XT'}}, {}, 'GBMLarge'],\n",
            "\t'CAT': {},\n",
            "\t'XGB': {},\n",
            "\t'FASTAI': {},\n",
            "\t'RF': [{'criterion': 'gini', 'ag_args': {'name_suffix': 'Gini', 'problem_types': ['binary', 'multiclass']}}, {'criterion': 'entropy', 'ag_args': {'name_suffix': 'Entr', 'problem_types': ['binary', 'multiclass']}}, {'criterion': 'squared_error', 'ag_args': {'name_suffix': 'MSE', 'problem_types': ['regression', 'quantile']}}],\n",
            "\t'XT': [{'criterion': 'gini', 'ag_args': {'name_suffix': 'Gini', 'problem_types': ['binary', 'multiclass']}}, {'criterion': 'entropy', 'ag_args': {'name_suffix': 'Entr', 'problem_types': ['binary', 'multiclass']}}, {'criterion': 'squared_error', 'ag_args': {'name_suffix': 'MSE', 'problem_types': ['regression', 'quantile']}}],\n",
            "\t'KNN': [{'weights': 'uniform', 'ag_args': {'name_suffix': 'Unif'}}, {'weights': 'distance', 'ag_args': {'name_suffix': 'Dist'}}],\n",
            "}\n",
            "Fitting 13 L1 models ...\n",
            "Fitting model: KNeighborsUnif ...\n",
            "\t0.8807\t = Validation score   (accuracy)\n",
            "\t0.02s\t = Training   runtime\n",
            "\t0.02s\t = Validation runtime\n",
            "Fitting model: KNeighborsDist ...\n",
            "\t0.8902\t = Validation score   (accuracy)\n",
            "\t0.03s\t = Training   runtime\n",
            "\t0.02s\t = Validation runtime\n",
            "Fitting model: LightGBMXT ...\n"
          ]
        },
        {
          "name": "stdout",
          "output_type": "stream",
          "text": [
            "[1000]\tvalid_set's binary_error: 0.106653\n",
            "[2000]\tvalid_set's binary_error: 0.0908131\n"
          ]
        },
        {
          "name": "stderr",
          "output_type": "stream",
          "text": [
            "\t0.9102\t = Validation score   (accuracy)\n",
            "\t4.57s\t = Training   runtime\n",
            "\t0.27s\t = Validation runtime\n",
            "Fitting model: LightGBM ...\n",
            "\t0.9472\t = Validation score   (accuracy)\n",
            "\t1.55s\t = Training   runtime\n",
            "\t0.04s\t = Validation runtime\n",
            "Fitting model: RandomForestGini ...\n",
            "\t0.9113\t = Validation score   (accuracy)\n",
            "\t2.65s\t = Training   runtime\n",
            "\t0.14s\t = Validation runtime\n",
            "Fitting model: RandomForestEntr ...\n",
            "\t0.9145\t = Validation score   (accuracy)\n",
            "\t3.26s\t = Training   runtime\n",
            "\t0.12s\t = Validation runtime\n",
            "Fitting model: CatBoost ...\n",
            "\t0.943\t = Validation score   (accuracy)\n",
            "\t17.59s\t = Training   runtime\n",
            "\t0.01s\t = Validation runtime\n",
            "Fitting model: ExtraTreesGini ...\n",
            "\t0.9102\t = Validation score   (accuracy)\n",
            "\t1.49s\t = Training   runtime\n",
            "\t0.14s\t = Validation runtime\n",
            "Fitting model: ExtraTreesEntr ...\n",
            "\t0.9029\t = Validation score   (accuracy)\n",
            "\t2.09s\t = Training   runtime\n",
            "\t0.21s\t = Validation runtime\n",
            "Fitting model: NeuralNetFastAI ...\n",
            "\t0.8553\t = Validation score   (accuracy)\n",
            "\t18.06s\t = Training   runtime\n",
            "\t0.04s\t = Validation runtime\n",
            "Fitting model: XGBoost ...\n",
            "\t0.9282\t = Validation score   (accuracy)\n",
            "\t2.19s\t = Training   runtime\n",
            "\t0.05s\t = Validation runtime\n",
            "Fitting model: NeuralNetTorch ...\n",
            "\t0.8881\t = Validation score   (accuracy)\n",
            "\t55.25s\t = Training   runtime\n",
            "\t0.02s\t = Validation runtime\n",
            "Fitting model: LightGBMLarge ...\n",
            "\t0.9514\t = Validation score   (accuracy)\n",
            "\t3.8s\t = Training   runtime\n",
            "\t0.12s\t = Validation runtime\n",
            "Fitting model: WeightedEnsemble_L2 ...\n",
            "\t0.9514\t = Validation score   (accuracy)\n",
            "\t1.38s\t = Training   runtime\n",
            "\t0.0s\t = Validation runtime\n",
            "AutoGluon training complete, total runtime = 118.79s ... Best model: \"WeightedEnsemble_L2\"\n",
            "TabularPredictor saved. To load, use: predictor = TabularPredictor.load(\"AutogluonModels/ag-20230831_100246/\")\n"
          ]
        }
      ],
      "source": [
        "predictor_combined = TabularPredictor(\n",
        "    label=\"stroke\",\n",
        "\n",
        ").fit(\n",
        "    train_data=Stroke_data,\n",
        "\n",
        ")"
      ],
      "id": "1d99f9b4-b909-4350-ba05-aea9ac3a316b"
    },
    {
      "cell_type": "code",
      "execution_count": null,
      "metadata": {
        "colab": {
          "base_uri": "https://localhost:8080/"
        },
        "id": "6a6b9bd3-3eb0-4ba3-8f4e-4a7313c864de",
        "outputId": "abc32867-ad25-4913-d309-5b87c5f77d7e"
      },
      "outputs": [
        {
          "name": "stdout",
          "output_type": "stream",
          "text": [
            "                  model  score_val  pred_time_val   fit_time  pred_time_val_marginal  fit_time_marginal  stack_level  can_infer  fit_order\n",
            "0         LightGBMLarge   0.951426       0.121720   3.804936                0.121720           3.804936            1       True         13\n",
            "1   WeightedEnsemble_L2   0.951426       0.126253   5.187765                0.004533           1.382828            2       True         14\n",
            "2              LightGBM   0.947202       0.041934   1.547754                0.041934           1.547754            1       True          4\n",
            "3              CatBoost   0.942978       0.005166  17.592567                0.005166          17.592567            1       True          7\n",
            "4               XGBoost   0.928194       0.051578   2.185023                0.051578           2.185023            1       True         11\n",
            "5      RandomForestEntr   0.914467       0.119870   3.261578                0.119870           3.261578            1       True          6\n",
            "6      RandomForestGini   0.911299       0.141159   2.645525                0.141159           2.645525            1       True          5\n",
            "7        ExtraTreesGini   0.910243       0.141927   1.487545                0.141927           1.487545            1       True          8\n",
            "8            LightGBMXT   0.910243       0.271214   4.567949                0.271214           4.567949            1       True          3\n",
            "9        ExtraTreesEntr   0.902851       0.205050   2.090607                0.205050           2.090607            1       True          9\n",
            "10       KNeighborsDist   0.890180       0.021092   0.025372                0.021092           0.025372            1       True          2\n",
            "11       NeuralNetTorch   0.888068       0.022432  55.249885                0.022432          55.249885            1       True         12\n",
            "12       KNeighborsUnif   0.880676       0.020778   0.020816                0.020778           0.020816            1       True          1\n",
            "13      NeuralNetFastAI   0.855333       0.037132  18.061717                0.037132          18.061717            1       True         10\n"
          ]
        }
      ],
      "source": [
        "pso_dataset8=predictor_combined.leaderboard()"
      ],
      "id": "6a6b9bd3-3eb0-4ba3-8f4e-4a7313c864de"
    },
    {
      "cell_type": "markdown",
      "metadata": {
        "id": "8ae39b66-0126-4d4c-820c-98c0df7e8dac"
      },
      "source": [
        "## Genetic Optimization"
      ],
      "id": "8ae39b66-0126-4d4c-820c-98c0df7e8dac"
    },
    {
      "cell_type": "code",
      "execution_count": null,
      "metadata": {
        "id": "42e25c02-5370-4ff8-abbd-cf68156750b7"
      },
      "outputs": [],
      "source": [
        "from zoofs import GeneticOptimization\n",
        "def run_go_optimization(num_iterations, X_train, y_train, X_test, y_test):\n",
        "    results_per_iteration = []\n",
        "    best_feature_lists = []\n",
        "    best_dims = []\n",
        "    best_scores = []\n",
        "\n",
        "    for _ in tqdm(range(num_iterations), desc=\"Iterations\", unit=\"iteration\"):\n",
        "        pso_object = GeneticOptimization(\n",
        "            objective_function=objective_function_topass,\n",
        "            n_iteration=100,\n",
        "            population_size=10,\n",
        "            logger=None,\n",
        "        )\n",
        "\n",
        "        knn_classifier = KNeighborsClassifier()\n",
        "\n",
        "        pso_object.fit(knn_classifier, X_train, y_train, X_test, y_test, verbose=False)\n",
        "\n",
        "\n",
        "        iteration_results = {\n",
        "            \"results_per_iteration\": pso_object.best_results_per_iteration,\n",
        "            \"best_dim_list\": pso_object.best_dim.tolist(),\n",
        "            \"best_feature_list\": pso_object.best_feature_list,\n",
        "            \"best_score\": pso_object.best_score\n",
        "        }\n",
        "\n",
        "        best_feature_list = pso_object.best_feature_list\n",
        "        best_dim = pso_object.best_dim\n",
        "        best_score = pso_object.best_score\n",
        "\n",
        "        results_per_iteration.append(iteration_results)\n",
        "        best_feature_lists.append(best_feature_list)\n",
        "        best_dims.append(best_dim.tolist())\n",
        "        best_scores.append(best_score)\n",
        "\n",
        "    return results_per_iteration, best_feature_lists, best_dims, best_scores"
      ],
      "id": "42e25c02-5370-4ff8-abbd-cf68156750b7"
    },
    {
      "cell_type": "markdown",
      "metadata": {
        "id": "bd54ac7c-da31-4bad-a102-ee09601563c5"
      },
      "source": [
        "##  Dataset 1"
      ],
      "id": "bd54ac7c-da31-4bad-a102-ee09601563c5"
    },
    {
      "cell_type": "code",
      "execution_count": null,
      "metadata": {
        "id": "084c8c44-450f-44cf-9641-30e8efdc7166"
      },
      "outputs": [],
      "source": [],
      "id": "084c8c44-450f-44cf-9641-30e8efdc7166"
    },
    {
      "cell_type": "code",
      "execution_count": null,
      "metadata": {
        "id": "505a6214-c9c9-425d-bf04-b7c63f89d728"
      },
      "outputs": [],
      "source": [
        "stroke=pd.read_csv('stroke4.csv')\n",
        "stroke=preprocess_dataset(stroke)\n",
        "X = stroke.drop(['stroke'],axis=1)\n",
        "y = stroke['stroke']\n",
        "\n",
        "from imblearn.over_sampling import SMOTE\n",
        "# Assuming X and y are your feature matrix and target variable, respectively\n",
        "smote = SMOTE()\n",
        "X, y = smote.fit_resample(X, y)\n",
        "X_train, X_test, y_train, y_test = train_test_split(X, y, test_size=0.2,random_state=42)"
      ],
      "id": "505a6214-c9c9-425d-bf04-b7c63f89d728"
    },
    {
      "cell_type": "code",
      "execution_count": null,
      "metadata": {
        "id": "b632dce8-4170-4cb0-9e6b-85128a56acdf",
        "outputId": "1b857b69-6011-4cfe-e318-d3878f0e6522"
      },
      "outputs": [
        {
          "name": "stderr",
          "output_type": "stream",
          "text": [
            "Iterations: 100%|██████████| 10/10 [00:40<00:00,  4.04s/iteration]\n"
          ]
        }
      ],
      "source": [
        "num_iterations = 10\n",
        "results, features, dims, scores = run_go_optimization(num_iterations, X_train, y_train, X_test, y_test)"
      ],
      "id": "b632dce8-4170-4cb0-9e6b-85128a56acdf"
    },
    {
      "cell_type": "code",
      "execution_count": null,
      "metadata": {
        "id": "1c4a55e0-ec47-4dbb-80ac-79ad2a7902da",
        "outputId": "97bca15e-1bfb-4c1f-f5cd-f0cd8a8657d1"
      },
      "outputs": [
        {
          "data": {
            "text/plain": [
              "[['age',\n",
              "  'heart_disease',\n",
              "  'Residence_type',\n",
              "  'avg_glucose_level',\n",
              "  'bmi',\n",
              "  'smoking_status'],\n",
              " ['gender',\n",
              "  'age',\n",
              "  'ever_married',\n",
              "  'avg_glucose_level',\n",
              "  'bmi',\n",
              "  'smoking_status'],\n",
              " ['age', 'hypertension', 'ever_married'],\n",
              " ['age',\n",
              "  'heart_disease',\n",
              "  'ever_married',\n",
              "  'Residence_type',\n",
              "  'avg_glucose_level',\n",
              "  'bmi',\n",
              "  'smoking_status'],\n",
              " ['age',\n",
              "  'hypertension',\n",
              "  'ever_married',\n",
              "  'work_type',\n",
              "  'avg_glucose_level',\n",
              "  'bmi'],\n",
              " ['gender',\n",
              "  'age',\n",
              "  'ever_married',\n",
              "  'work_type',\n",
              "  'Residence_type',\n",
              "  'avg_glucose_level',\n",
              "  'bmi'],\n",
              " ['age', 'ever_married', 'Residence_type'],\n",
              " ['gender',\n",
              "  'age',\n",
              "  'hypertension',\n",
              "  'heart_disease',\n",
              "  'ever_married',\n",
              "  'Residence_type',\n",
              "  'avg_glucose_level',\n",
              "  'bmi',\n",
              "  'smoking_status'],\n",
              " ['age', 'hypertension', 'ever_married'],\n",
              " ['age', 'hypertension', 'heart_disease']]"
            ]
          },
          "execution_count": 320,
          "metadata": {},
          "output_type": "execute_result"
        }
      ],
      "source": [
        "features"
      ],
      "id": "1c4a55e0-ec47-4dbb-80ac-79ad2a7902da"
    },
    {
      "cell_type": "code",
      "execution_count": null,
      "metadata": {
        "id": "27f314a9-60e3-4aef-9e9a-34f24044c9fe",
        "outputId": "f0122e5b-4193-4b4e-db37-250f75215354"
      },
      "outputs": [
        {
          "name": "stderr",
          "output_type": "stream",
          "text": [
            "Iterations: 100%|██████████| 10/10 [00:40<00:00,  4.09s/iteration]\n"
          ]
        }
      ],
      "source": [
        "num_iterations = 10\n",
        "results, features, dims, scores = run_go_optimization(num_iterations, X_train, y_train, X_test, y_test)"
      ],
      "id": "27f314a9-60e3-4aef-9e9a-34f24044c9fe"
    },
    {
      "cell_type": "code",
      "execution_count": null,
      "metadata": {
        "id": "9e56bed1-cb84-4680-9a8f-e4aa8fe2112b",
        "outputId": "7e5dcdbc-0449-48fd-f2ab-54bbad1f4c0c"
      },
      "outputs": [
        {
          "data": {
            "text/plain": [
              "[['gender',\n",
              "  'age',\n",
              "  'hypertension',\n",
              "  'heart_disease',\n",
              "  'ever_married',\n",
              "  'avg_glucose_level',\n",
              "  'bmi'],\n",
              " ['age'],\n",
              " ['age'],\n",
              " ['age', 'ever_married', 'avg_glucose_level', 'bmi'],\n",
              " ['gender', 'age'],\n",
              " ['age', 'hypertension', 'Residence_type', 'avg_glucose_level', 'bmi'],\n",
              " ['age', 'heart_disease', 'ever_married', 'work_type'],\n",
              " ['age', 'ever_married', 'work_type', 'avg_glucose_level', 'bmi'],\n",
              " ['gender',\n",
              "  'age',\n",
              "  'Residence_type',\n",
              "  'avg_glucose_level',\n",
              "  'bmi',\n",
              "  'smoking_status'],\n",
              " ['age', 'avg_glucose_level', 'bmi']]"
            ]
          },
          "execution_count": 232,
          "metadata": {},
          "output_type": "execute_result"
        }
      ],
      "source": [
        "features"
      ],
      "id": "9e56bed1-cb84-4680-9a8f-e4aa8fe2112b"
    },
    {
      "cell_type": "code",
      "execution_count": null,
      "metadata": {
        "id": "0e992cf2-ab11-4507-8041-41ddaa8d74ae",
        "outputId": "ebdd992d-1272-4fb2-98d6-9e591ee950f4"
      },
      "outputs": [
        {
          "name": "stderr",
          "output_type": "stream",
          "text": [
            "Iterations: 100%|██████████| 10/10 [00:37<00:00,  3.72s/iteration]\n"
          ]
        }
      ],
      "source": [
        "num_iterations = 10\n",
        "results, features, dims, scores = run_go_optimization(num_iterations, X_train, y_train, X_test, y_test)"
      ],
      "id": "0e992cf2-ab11-4507-8041-41ddaa8d74ae"
    },
    {
      "cell_type": "code",
      "execution_count": null,
      "metadata": {
        "id": "017ec65f-15da-4d2b-a542-e52280904328",
        "outputId": "4fa83d09-5ce9-4414-f7e7-5270707b2190"
      },
      "outputs": [
        {
          "data": {
            "text/plain": [
              "[['gender', 'age', 'ever_married', 'work_type'],\n",
              " ['gender',\n",
              "  'age',\n",
              "  'heart_disease',\n",
              "  'ever_married',\n",
              "  'Residence_type',\n",
              "  'avg_glucose_level',\n",
              "  'bmi'],\n",
              " ['age', 'ever_married', 'avg_glucose_level', 'bmi'],\n",
              " ['age', 'hypertension', 'Residence_type', 'avg_glucose_level', 'bmi'],\n",
              " ['gender', 'age', 'work_type', 'Residence_type', 'avg_glucose_level', 'bmi'],\n",
              " ['age', 'hypertension'],\n",
              " ['gender', 'age', 'hypertension', 'ever_married', 'avg_glucose_level', 'bmi'],\n",
              " ['gender', 'age', 'heart_disease', 'work_type', 'smoking_status'],\n",
              " ['age', 'avg_glucose_level', 'bmi'],\n",
              " ['age', 'hypertension', 'heart_disease']]"
            ]
          },
          "execution_count": 234,
          "metadata": {},
          "output_type": "execute_result"
        }
      ],
      "source": [
        "features"
      ],
      "id": "017ec65f-15da-4d2b-a542-e52280904328"
    },
    {
      "cell_type": "code",
      "execution_count": null,
      "metadata": {
        "colab": {
          "base_uri": "https://localhost:8080/"
        },
        "id": "3e67768a-2b99-434f-b17d-e313a52294d8",
        "outputId": "fb519646-2d30-493a-f040-cad2753f1228"
      },
      "outputs": [
        {
          "name": "stderr",
          "output_type": "stream",
          "text": [
            "No path specified. Models will be saved in: \"AutogluonModels/ag-20230831_100445/\"\n",
            "Beginning AutoGluon training ...\n",
            "AutoGluon will save models to \"AutogluonModels/ag-20230831_100445/\"\n",
            "AutoGluon Version:  0.8.2\n",
            "Python Version:     3.10.12\n",
            "Operating System:   Linux\n",
            "Platform Machine:   x86_64\n",
            "Platform Version:   #1 SMP Fri Jun 9 10:57:30 UTC 2023\n",
            "Disk Space Avail:   10.40 GB / 16.11 GB (64.6%)\n",
            "Train Data Rows:    9722\n",
            "Train Data Columns: 7\n",
            "Label Column: stroke\n",
            "Preprocessing data ...\n",
            "AutoGluon infers your prediction problem is: 'binary' (because only two unique label-values observed).\n",
            "\t2 unique label values:  [1, 0]\n",
            "\tIf 'binary' is not the correct problem_type, please manually specify the problem_type parameter during predictor init (You may specify problem_type as one of: ['binary', 'multiclass', 'regression'])\n",
            "Selected class <--> label mapping:  class 1 = 1, class 0 = 0\n",
            "Using Feature Generators to preprocess the data ...\n",
            "Fitting AutoMLPipelineFeatureGenerator...\n",
            "\tAvailable Memory:                    10711.63 MB\n",
            "\tTrain Data (Original)  Memory Usage: 0.54 MB (0.0% of available memory)\n",
            "\tInferring data type of each feature based on column values. Set feature_metadata_in to manually specify special dtypes of the features.\n",
            "\tStage 1 Generators:\n",
            "\t\tFitting AsTypeFeatureGenerator...\n",
            "\t\t\tNote: Converting 3 features to boolean dtype as they only contain 2 unique values.\n",
            "\tStage 2 Generators:\n",
            "\t\tFitting FillNaFeatureGenerator...\n",
            "\tStage 3 Generators:\n",
            "\t\tFitting IdentityFeatureGenerator...\n",
            "\tStage 4 Generators:\n",
            "\t\tFitting DropUniqueFeatureGenerator...\n",
            "\tStage 5 Generators:\n",
            "\t\tFitting DropDuplicatesFeatureGenerator...\n",
            "\tTypes of features in original data (raw dtype, special dtypes):\n",
            "\t\t('float', []) : 3 | ['age', 'avg_glucose_level', 'bmi']\n",
            "\t\t('int', [])   : 4 | ['gender', 'heart_disease', 'ever_married', 'Residence_type']\n",
            "\tTypes of features in processed data (raw dtype, special dtypes):\n",
            "\t\t('float', [])     : 3 | ['age', 'avg_glucose_level', 'bmi']\n",
            "\t\t('int', [])       : 1 | ['gender']\n",
            "\t\t('int', ['bool']) : 3 | ['heart_disease', 'ever_married', 'Residence_type']\n",
            "\t0.1s = Fit runtime\n",
            "\t7 features in original data used to generate 7 features in processed data.\n",
            "\tTrain Data (Processed) Memory Usage: 0.34 MB (0.0% of available memory)\n",
            "Data preprocessing and feature engineering runtime = 0.16s ...\n",
            "AutoGluon will gauge predictive performance using evaluation metric: 'accuracy'\n",
            "\tTo change this, specify the eval_metric parameter of Predictor()\n",
            "Automatically generating train/validation split with holdout_frac=0.1, Train Rows: 8749, Val Rows: 973\n",
            "User-specified model hyperparameters to be fit:\n",
            "{\n",
            "\t'NN_TORCH': {},\n",
            "\t'GBM': [{'extra_trees': True, 'ag_args': {'name_suffix': 'XT'}}, {}, 'GBMLarge'],\n",
            "\t'CAT': {},\n",
            "\t'XGB': {},\n",
            "\t'FASTAI': {},\n",
            "\t'RF': [{'criterion': 'gini', 'ag_args': {'name_suffix': 'Gini', 'problem_types': ['binary', 'multiclass']}}, {'criterion': 'entropy', 'ag_args': {'name_suffix': 'Entr', 'problem_types': ['binary', 'multiclass']}}, {'criterion': 'squared_error', 'ag_args': {'name_suffix': 'MSE', 'problem_types': ['regression', 'quantile']}}],\n",
            "\t'XT': [{'criterion': 'gini', 'ag_args': {'name_suffix': 'Gini', 'problem_types': ['binary', 'multiclass']}}, {'criterion': 'entropy', 'ag_args': {'name_suffix': 'Entr', 'problem_types': ['binary', 'multiclass']}}, {'criterion': 'squared_error', 'ag_args': {'name_suffix': 'MSE', 'problem_types': ['regression', 'quantile']}}],\n",
            "\t'KNN': [{'weights': 'uniform', 'ag_args': {'name_suffix': 'Unif'}}, {'weights': 'distance', 'ag_args': {'name_suffix': 'Dist'}}],\n",
            "}\n",
            "Fitting 13 L1 models ...\n",
            "Fitting model: KNeighborsUnif ...\n",
            "\t0.8952\t = Validation score   (accuracy)\n",
            "\t0.02s\t = Training   runtime\n",
            "\t0.02s\t = Validation runtime\n",
            "Fitting model: KNeighborsDist ...\n",
            "\t0.9065\t = Validation score   (accuracy)\n",
            "\t0.03s\t = Training   runtime\n",
            "\t0.02s\t = Validation runtime\n",
            "Fitting model: LightGBMXT ...\n"
          ]
        },
        {
          "name": "stdout",
          "output_type": "stream",
          "text": [
            "[1000]\tvalid_set's binary_error: 0.0709147\n",
            "[2000]\tvalid_set's binary_error: 0.0596095\n"
          ]
        },
        {
          "name": "stderr",
          "output_type": "stream",
          "text": [
            "\t0.9414\t = Validation score   (accuracy)\n",
            "\t5.54s\t = Training   runtime\n",
            "\t0.35s\t = Validation runtime\n",
            "Fitting model: LightGBM ...\n"
          ]
        },
        {
          "name": "stdout",
          "output_type": "stream",
          "text": [
            "[1000]\tvalid_set's binary_error: 0.0359712\n"
          ]
        },
        {
          "name": "stderr",
          "output_type": "stream",
          "text": [
            "\t0.9681\t = Validation score   (accuracy)\n",
            "\t2.67s\t = Training   runtime\n",
            "\t0.15s\t = Validation runtime\n",
            "Fitting model: RandomForestGini ...\n",
            "\t0.9435\t = Validation score   (accuracy)\n",
            "\t4.48s\t = Training   runtime\n",
            "\t0.13s\t = Validation runtime\n",
            "Fitting model: RandomForestEntr ...\n",
            "\t0.9445\t = Validation score   (accuracy)\n",
            "\t3.09s\t = Training   runtime\n",
            "\t0.14s\t = Validation runtime\n",
            "Fitting model: CatBoost ...\n",
            "\t0.9692\t = Validation score   (accuracy)\n",
            "\t4.79s\t = Training   runtime\n",
            "\t0.0s\t = Validation runtime\n",
            "Fitting model: ExtraTreesGini ...\n",
            "\t0.9486\t = Validation score   (accuracy)\n",
            "\t2.01s\t = Training   runtime\n",
            "\t0.2s\t = Validation runtime\n",
            "Fitting model: ExtraTreesEntr ...\n",
            "\t0.9455\t = Validation score   (accuracy)\n",
            "\t2.96s\t = Training   runtime\n",
            "\t0.21s\t = Validation runtime\n",
            "Fitting model: NeuralNetFastAI ...\n",
            "\t0.8777\t = Validation score   (accuracy)\n",
            "\t13.79s\t = Training   runtime\n",
            "\t0.02s\t = Validation runtime\n",
            "Fitting model: XGBoost ...\n",
            "\t0.9599\t = Validation score   (accuracy)\n",
            "\t1.61s\t = Training   runtime\n",
            "\t0.04s\t = Validation runtime\n",
            "Fitting model: NeuralNetTorch ...\n",
            "\t0.9209\t = Validation score   (accuracy)\n",
            "\t71.33s\t = Training   runtime\n",
            "\t0.02s\t = Validation runtime\n",
            "Fitting model: LightGBMLarge ...\n",
            "\t0.9702\t = Validation score   (accuracy)\n",
            "\t2.05s\t = Training   runtime\n",
            "\t0.04s\t = Validation runtime\n",
            "Fitting model: WeightedEnsemble_L2 ...\n",
            "\t0.9764\t = Validation score   (accuracy)\n",
            "\t1.29s\t = Training   runtime\n",
            "\t0.0s\t = Validation runtime\n",
            "AutoGluon training complete, total runtime = 121.01s ... Best model: \"WeightedEnsemble_L2\"\n",
            "TabularPredictor saved. To load, use: predictor = TabularPredictor.load(\"AutogluonModels/ag-20230831_100445/\")\n"
          ]
        },
        {
          "name": "stdout",
          "output_type": "stream",
          "text": [
            "                  model  score_val  pred_time_val   fit_time  pred_time_val_marginal  fit_time_marginal  stack_level  can_infer  fit_order\n",
            "0   WeightedEnsemble_L2   0.976362       0.579742  19.842621                0.002693           1.285698            2       True         14\n",
            "1         LightGBMLarge   0.970195       0.042386   2.049837                0.042386           2.049837            1       True         13\n",
            "2              CatBoost   0.969168       0.004647   4.792188                0.004647           4.792188            1       True          7\n",
            "3              LightGBM   0.968140       0.146112   2.668239                0.146112           2.668239            1       True          4\n",
            "4               XGBoost   0.959918       0.041685   1.611845                0.041685           1.611845            1       True         11\n",
            "5        ExtraTreesGini   0.948613       0.202188   2.011968                0.202188           2.011968            1       True          8\n",
            "6        ExtraTreesEntr   0.945529       0.213069   2.958351                0.213069           2.958351            1       True          9\n",
            "7      RandomForestEntr   0.944502       0.139104   3.088072                0.139104           3.088072            1       True          6\n",
            "8      RandomForestGini   0.943474       0.129150   4.476463                0.129150           4.476463            1       True          5\n",
            "9            LightGBMXT   0.941418       0.351851   5.544391                0.351851           5.544391            1       True          3\n",
            "10       NeuralNetTorch   0.920863       0.016985  71.332861                0.016985          71.332861            1       True         12\n",
            "11       KNeighborsDist   0.906475       0.019945   0.025133                0.019945           0.025133            1       True          2\n",
            "12       KNeighborsUnif   0.895170       0.023890   0.021720                0.023890           0.021720            1       True          1\n",
            "13      NeuralNetFastAI   0.877698       0.023246  13.794967                0.023246          13.794967            1       True         10\n"
          ]
        }
      ],
      "source": [
        "Stroke_data =pd.DataFrame(X[ ['gender',\n",
        "  'age',\n",
        "  'heart_disease',\n",
        "  'ever_married',\n",
        "  'Residence_type',\n",
        "  'avg_glucose_level',\n",
        "  'bmi']])\n",
        "Stroke_data['stroke']=y\n",
        "predictor = TabularPredictor(\n",
        "    label=\"stroke\",\n",
        "\n",
        ").fit(\n",
        "    train_data=Stroke_data,\n",
        "\n",
        ")\n",
        "go_dataset1=predictor.leaderboard()"
      ],
      "id": "3e67768a-2b99-434f-b17d-e313a52294d8"
    },
    {
      "cell_type": "code",
      "execution_count": null,
      "metadata": {
        "id": "ffe7ef85-f4e7-4023-9809-12870da20a5b"
      },
      "outputs": [],
      "source": [],
      "id": "ffe7ef85-f4e7-4023-9809-12870da20a5b"
    },
    {
      "cell_type": "code",
      "execution_count": null,
      "metadata": {
        "id": "bf0f4af9-5339-4801-b0a7-1a3baa6e9e3b"
      },
      "outputs": [],
      "source": [],
      "id": "bf0f4af9-5339-4801-b0a7-1a3baa6e9e3b"
    },
    {
      "cell_type": "markdown",
      "metadata": {
        "id": "0e4c8626-07c8-4843-a3a3-3df6fa81abc0"
      },
      "source": [
        "## Dataset 2"
      ],
      "id": "0e4c8626-07c8-4843-a3a3-3df6fa81abc0"
    },
    {
      "cell_type": "code",
      "execution_count": null,
      "metadata": {
        "id": "cb4a07c0-28cf-4666-9a37-57d9511d612d"
      },
      "outputs": [],
      "source": [
        "stroke2 = pd.read_csv('stroke/stroke2.csv')\n",
        "stroke2=preprocess_dataset(stroke2)\n",
        "X = stroke2.drop(['stroke'],axis=1)\n",
        "y = stroke2['stroke']\n",
        "\n",
        "from imblearn.over_sampling import SMOTE\n",
        "# Assuming X and y are your feature matrix and target variable, respectively\n",
        "smote = SMOTE()\n",
        "X, y = smote.fit_resample(X, y)\n",
        "X_train, X_test, y_train, y_test = train_test_split(X, y, test_size=0.2,random_state=42)"
      ],
      "id": "cb4a07c0-28cf-4666-9a37-57d9511d612d"
    },
    {
      "cell_type": "code",
      "execution_count": null,
      "metadata": {
        "id": "1a88454c-b84b-4180-9eaa-039ca6b888f6",
        "outputId": "22d11b2f-0ad9-4845-db88-660ad5d98cd4"
      },
      "outputs": [
        {
          "name": "stderr",
          "output_type": "stream",
          "text": [
            "Iterations: 100%|██████████| 10/10 [00:44<00:00,  4.47s/iteration]\n"
          ]
        }
      ],
      "source": [
        "num_iterations = 10\n",
        "results, features, dims, scores = run_go_optimization(num_iterations, X_train, y_train, X_test, y_test)"
      ],
      "id": "1a88454c-b84b-4180-9eaa-039ca6b888f6"
    },
    {
      "cell_type": "code",
      "execution_count": null,
      "metadata": {
        "id": "7d3eff16-f03d-403f-b1e8-1d934e8d0858",
        "outputId": "f4f05629-a92a-48c1-dd35-cf150337b9a7"
      },
      "outputs": [
        {
          "data": {
            "text/plain": [
              "[['age',\n",
              "  'heart_disease',\n",
              "  'ever_married',\n",
              "  'work_type',\n",
              "  'avg_glucose_level',\n",
              "  'bmi',\n",
              "  'smoking_status'],\n",
              " ['age', 'ever_married', 'work_type', 'avg_glucose_level', 'bmi'],\n",
              " ['age', 'ever_married', 'avg_glucose_level', 'bmi'],\n",
              " ['gender',\n",
              "  'age',\n",
              "  'hypertension',\n",
              "  'ever_married',\n",
              "  'work_type',\n",
              "  'avg_glucose_level',\n",
              "  'bmi'],\n",
              " ['age', 'ever_married', 'Residence_type', 'avg_glucose_level', 'bmi'],\n",
              " ['age', 'ever_married', 'avg_glucose_level', 'bmi'],\n",
              " ['age', 'hypertension', 'ever_married', 'avg_glucose_level', 'bmi'],\n",
              " ['age',\n",
              "  'hypertension',\n",
              "  'Residence_type',\n",
              "  'avg_glucose_level',\n",
              "  'bmi',\n",
              "  'smoking_status'],\n",
              " ['age', 'avg_glucose_level', 'bmi'],\n",
              " ['gender',\n",
              "  'age',\n",
              "  'heart_disease',\n",
              "  'ever_married',\n",
              "  'avg_glucose_level',\n",
              "  'bmi']]"
            ]
          },
          "execution_count": 465,
          "metadata": {},
          "output_type": "execute_result"
        }
      ],
      "source": [
        "features"
      ],
      "id": "7d3eff16-f03d-403f-b1e8-1d934e8d0858"
    },
    {
      "cell_type": "code",
      "execution_count": null,
      "metadata": {
        "id": "b5b64982-3e0f-4f3f-988d-32a8994e27c4",
        "outputId": "8ab13b04-23ed-4ffd-fd19-b10980d58a61"
      },
      "outputs": [
        {
          "name": "stderr",
          "output_type": "stream",
          "text": [
            "Iterations: 100%|██████████| 10/10 [00:44<00:00,  4.44s/iteration]\n"
          ]
        }
      ],
      "source": [
        "num_iterations = 10\n",
        "results, features, dims, scores = run_go_optimization(num_iterations, X_train, y_train, X_test, y_test)"
      ],
      "id": "b5b64982-3e0f-4f3f-988d-32a8994e27c4"
    },
    {
      "cell_type": "code",
      "execution_count": null,
      "metadata": {
        "id": "f682b472-92ff-464c-a515-d636d3b76e0e",
        "outputId": "2e757b28-2925-4018-ddeb-d45225b4cddd"
      },
      "outputs": [
        {
          "data": {
            "text/plain": [
              "[['age',\n",
              "  'heart_disease',\n",
              "  'ever_married',\n",
              "  'work_type',\n",
              "  'avg_glucose_level',\n",
              "  'bmi',\n",
              "  'smoking_status'],\n",
              " ['age', 'ever_married', 'work_type', 'avg_glucose_level', 'bmi'],\n",
              " ['age', 'ever_married', 'avg_glucose_level', 'bmi'],\n",
              " ['gender',\n",
              "  'age',\n",
              "  'hypertension',\n",
              "  'ever_married',\n",
              "  'work_type',\n",
              "  'avg_glucose_level',\n",
              "  'bmi'],\n",
              " ['age', 'ever_married', 'Residence_type', 'avg_glucose_level', 'bmi'],\n",
              " ['age', 'ever_married', 'avg_glucose_level', 'bmi'],\n",
              " ['age', 'hypertension', 'ever_married', 'avg_glucose_level', 'bmi'],\n",
              " ['age',\n",
              "  'hypertension',\n",
              "  'Residence_type',\n",
              "  'avg_glucose_level',\n",
              "  'bmi',\n",
              "  'smoking_status'],\n",
              " ['age', 'avg_glucose_level', 'bmi'],\n",
              " ['gender',\n",
              "  'age',\n",
              "  'heart_disease',\n",
              "  'ever_married',\n",
              "  'avg_glucose_level',\n",
              "  'bmi']]"
            ]
          },
          "execution_count": 466,
          "metadata": {},
          "output_type": "execute_result"
        }
      ],
      "source": [
        "features"
      ],
      "id": "f682b472-92ff-464c-a515-d636d3b76e0e"
    },
    {
      "cell_type": "code",
      "execution_count": null,
      "metadata": {
        "id": "698bfa81-ae98-4851-8d00-5cad9c02675c",
        "outputId": "c68d9f87-29f2-448f-8b27-fafb899efdee"
      },
      "outputs": [
        {
          "name": "stderr",
          "output_type": "stream",
          "text": [
            "Iterations: 100%|██████████| 10/10 [00:34<00:00,  3.50s/iteration]\n"
          ]
        }
      ],
      "source": [
        "num_iterations = 10\n",
        "results, features, dims, scores = run_go_optimization(num_iterations, X_train, y_train, X_test, y_test)"
      ],
      "id": "698bfa81-ae98-4851-8d00-5cad9c02675c"
    },
    {
      "cell_type": "code",
      "execution_count": null,
      "metadata": {
        "id": "fdc3b633-94f1-47f2-848a-70148264d944",
        "outputId": "8662a646-e15f-48d8-aee7-62548b07c483"
      },
      "outputs": [
        {
          "data": {
            "text/plain": [
              "[['age',\n",
              "  'heart_disease',\n",
              "  'ever_married',\n",
              "  'work_type',\n",
              "  'avg_glucose_level',\n",
              "  'bmi',\n",
              "  'smoking_status'],\n",
              " ['age', 'ever_married', 'work_type', 'avg_glucose_level', 'bmi'],\n",
              " ['age', 'ever_married', 'avg_glucose_level', 'bmi'],\n",
              " ['gender',\n",
              "  'age',\n",
              "  'hypertension',\n",
              "  'ever_married',\n",
              "  'work_type',\n",
              "  'avg_glucose_level',\n",
              "  'bmi'],\n",
              " ['age', 'ever_married', 'Residence_type', 'avg_glucose_level', 'bmi'],\n",
              " ['age', 'ever_married', 'avg_glucose_level', 'bmi'],\n",
              " ['age', 'hypertension', 'ever_married', 'avg_glucose_level', 'bmi'],\n",
              " ['age',\n",
              "  'hypertension',\n",
              "  'Residence_type',\n",
              "  'avg_glucose_level',\n",
              "  'bmi',\n",
              "  'smoking_status'],\n",
              " ['age', 'avg_glucose_level', 'bmi'],\n",
              " ['gender',\n",
              "  'age',\n",
              "  'heart_disease',\n",
              "  'ever_married',\n",
              "  'avg_glucose_level',\n",
              "  'bmi']]"
            ]
          },
          "execution_count": 467,
          "metadata": {},
          "output_type": "execute_result"
        }
      ],
      "source": [
        "features"
      ],
      "id": "fdc3b633-94f1-47f2-848a-70148264d944"
    },
    {
      "cell_type": "code",
      "execution_count": null,
      "metadata": {
        "colab": {
          "base_uri": "https://localhost:8080/"
        },
        "id": "3bbaff52-62e0-42bd-bf28-64738482d30f",
        "outputId": "231fd4db-5a58-4ae3-c31f-a0da5b650749"
      },
      "outputs": [
        {
          "name": "stderr",
          "output_type": "stream",
          "text": [
            "No path specified. Models will be saved in: \"AutogluonModels/ag-20230831_100646/\"\n",
            "Beginning AutoGluon training ...\n",
            "AutoGluon will save models to \"AutogluonModels/ag-20230831_100646/\"\n",
            "AutoGluon Version:  0.8.2\n",
            "Python Version:     3.10.12\n",
            "Operating System:   Linux\n",
            "Platform Machine:   x86_64\n",
            "Platform Version:   #1 SMP Fri Jun 9 10:57:30 UTC 2023\n",
            "Disk Space Avail:   10.15 GB / 16.11 GB (63.0%)\n",
            "Train Data Rows:    9466\n",
            "Train Data Columns: 7\n",
            "Label Column: stroke\n",
            "Preprocessing data ...\n",
            "AutoGluon infers your prediction problem is: 'binary' (because only two unique label-values observed).\n",
            "\t2 unique label values:  [1, 0]\n",
            "\tIf 'binary' is not the correct problem_type, please manually specify the problem_type parameter during predictor init (You may specify problem_type as one of: ['binary', 'multiclass', 'regression'])\n",
            "Selected class <--> label mapping:  class 1 = 1, class 0 = 0\n",
            "Using Feature Generators to preprocess the data ...\n",
            "Fitting AutoMLPipelineFeatureGenerator...\n",
            "\tAvailable Memory:                    10713.3 MB\n",
            "\tTrain Data (Original)  Memory Usage: 0.53 MB (0.0% of available memory)\n",
            "\tInferring data type of each feature based on column values. Set feature_metadata_in to manually specify special dtypes of the features.\n",
            "\tStage 1 Generators:\n",
            "\t\tFitting AsTypeFeatureGenerator...\n",
            "\t\t\tNote: Converting 2 features to boolean dtype as they only contain 2 unique values.\n",
            "\tStage 2 Generators:\n",
            "\t\tFitting FillNaFeatureGenerator...\n",
            "\tStage 3 Generators:\n",
            "\t\tFitting IdentityFeatureGenerator...\n",
            "\tStage 4 Generators:\n",
            "\t\tFitting DropUniqueFeatureGenerator...\n",
            "\tStage 5 Generators:\n",
            "\t\tFitting DropDuplicatesFeatureGenerator...\n",
            "\tTypes of features in original data (raw dtype, special dtypes):\n",
            "\t\t('float', []) : 3 | ['age', 'avg_glucose_level', 'bmi']\n",
            "\t\t('int', [])   : 4 | ['heart_disease', 'ever_married', 'work_type', 'smoking_status']\n",
            "\tTypes of features in processed data (raw dtype, special dtypes):\n",
            "\t\t('float', [])     : 3 | ['age', 'avg_glucose_level', 'bmi']\n",
            "\t\t('int', [])       : 2 | ['work_type', 'smoking_status']\n",
            "\t\t('int', ['bool']) : 2 | ['heart_disease', 'ever_married']\n",
            "\t0.1s = Fit runtime\n",
            "\t7 features in original data used to generate 7 features in processed data.\n",
            "\tTrain Data (Processed) Memory Usage: 0.4 MB (0.0% of available memory)\n",
            "Data preprocessing and feature engineering runtime = 0.15s ...\n",
            "AutoGluon will gauge predictive performance using evaluation metric: 'accuracy'\n",
            "\tTo change this, specify the eval_metric parameter of Predictor()\n",
            "Automatically generating train/validation split with holdout_frac=0.1, Train Rows: 8519, Val Rows: 947\n",
            "User-specified model hyperparameters to be fit:\n",
            "{\n",
            "\t'NN_TORCH': {},\n",
            "\t'GBM': [{'extra_trees': True, 'ag_args': {'name_suffix': 'XT'}}, {}, 'GBMLarge'],\n",
            "\t'CAT': {},\n",
            "\t'XGB': {},\n",
            "\t'FASTAI': {},\n",
            "\t'RF': [{'criterion': 'gini', 'ag_args': {'name_suffix': 'Gini', 'problem_types': ['binary', 'multiclass']}}, {'criterion': 'entropy', 'ag_args': {'name_suffix': 'Entr', 'problem_types': ['binary', 'multiclass']}}, {'criterion': 'squared_error', 'ag_args': {'name_suffix': 'MSE', 'problem_types': ['regression', 'quantile']}}],\n",
            "\t'XT': [{'criterion': 'gini', 'ag_args': {'name_suffix': 'Gini', 'problem_types': ['binary', 'multiclass']}}, {'criterion': 'entropy', 'ag_args': {'name_suffix': 'Entr', 'problem_types': ['binary', 'multiclass']}}, {'criterion': 'squared_error', 'ag_args': {'name_suffix': 'MSE', 'problem_types': ['regression', 'quantile']}}],\n",
            "\t'KNN': [{'weights': 'uniform', 'ag_args': {'name_suffix': 'Unif'}}, {'weights': 'distance', 'ag_args': {'name_suffix': 'Dist'}}],\n",
            "}\n",
            "Fitting 13 L1 models ...\n",
            "Fitting model: KNeighborsUnif ...\n",
            "\t0.8775\t = Validation score   (accuracy)\n",
            "\t0.02s\t = Training   runtime\n",
            "\t0.02s\t = Validation runtime\n",
            "Fitting model: KNeighborsDist ...\n",
            "\t0.8849\t = Validation score   (accuracy)\n",
            "\t0.02s\t = Training   runtime\n",
            "\t0.02s\t = Validation runtime\n",
            "Fitting model: LightGBMXT ...\n"
          ]
        },
        {
          "name": "stdout",
          "output_type": "stream",
          "text": [
            "[1000]\tvalid_set's binary_error: 0.0992608\n",
            "[2000]\tvalid_set's binary_error: 0.0749736\n",
            "[3000]\tvalid_set's binary_error: 0.0675818\n"
          ]
        },
        {
          "name": "stderr",
          "output_type": "stream",
          "text": [
            "\t0.9356\t = Validation score   (accuracy)\n",
            "\t7.21s\t = Training   runtime\n",
            "\t0.49s\t = Validation runtime\n",
            "Fitting model: LightGBM ...\n"
          ]
        },
        {
          "name": "stdout",
          "output_type": "stream",
          "text": [
            "[1000]\tvalid_set's binary_error: 0.0422386\n"
          ]
        },
        {
          "name": "stderr",
          "output_type": "stream",
          "text": [
            "\t0.9609\t = Validation score   (accuracy)\n",
            "\t2.95s\t = Training   runtime\n",
            "\t0.15s\t = Validation runtime\n",
            "Fitting model: RandomForestGini ...\n",
            "\t0.9314\t = Validation score   (accuracy)\n",
            "\t5.15s\t = Training   runtime\n",
            "\t0.19s\t = Validation runtime\n",
            "Fitting model: RandomForestEntr ...\n",
            "\t0.9271\t = Validation score   (accuracy)\n",
            "\t5.99s\t = Training   runtime\n",
            "\t0.22s\t = Validation runtime\n",
            "Fitting model: CatBoost ...\n",
            "\t0.9546\t = Validation score   (accuracy)\n",
            "\t15.4s\t = Training   runtime\n",
            "\t0.01s\t = Validation runtime\n",
            "Fitting model: ExtraTreesGini ...\n",
            "\t0.9229\t = Validation score   (accuracy)\n",
            "\t1.5s\t = Training   runtime\n",
            "\t0.13s\t = Validation runtime\n",
            "Fitting model: ExtraTreesEntr ...\n",
            "\t0.9282\t = Validation score   (accuracy)\n",
            "\t1.54s\t = Training   runtime\n",
            "\t0.14s\t = Validation runtime\n",
            "Fitting model: NeuralNetFastAI ...\n",
            "\t0.8659\t = Validation score   (accuracy)\n",
            "\t14.34s\t = Training   runtime\n",
            "\t0.03s\t = Validation runtime\n",
            "Fitting model: XGBoost ...\n",
            "\t0.9335\t = Validation score   (accuracy)\n",
            "\t2.6s\t = Training   runtime\n",
            "\t0.07s\t = Validation runtime\n",
            "Fitting model: NeuralNetTorch ...\n",
            "\t0.8923\t = Validation score   (accuracy)\n",
            "\t42.99s\t = Training   runtime\n",
            "\t0.02s\t = Validation runtime\n",
            "Fitting model: LightGBMLarge ...\n",
            "\t0.9652\t = Validation score   (accuracy)\n",
            "\t4.98s\t = Training   runtime\n",
            "\t0.2s\t = Validation runtime\n",
            "Fitting model: WeightedEnsemble_L2 ...\n",
            "\t0.9652\t = Validation score   (accuracy)\n",
            "\t2.04s\t = Training   runtime\n",
            "\t0.01s\t = Validation runtime\n",
            "AutoGluon training complete, total runtime = 113.41s ... Best model: \"WeightedEnsemble_L2\"\n",
            "TabularPredictor saved. To load, use: predictor = TabularPredictor.load(\"AutogluonModels/ag-20230831_100646/\")\n"
          ]
        },
        {
          "name": "stdout",
          "output_type": "stream",
          "text": [
            "                  model  score_val  pred_time_val   fit_time  pred_time_val_marginal  fit_time_marginal  stack_level  can_infer  fit_order\n",
            "0         LightGBMLarge   0.965153       0.197789   4.976889                0.197789           4.976889            1       True         13\n",
            "1   WeightedEnsemble_L2   0.965153       0.203431   7.015913                0.005641           2.039025            2       True         14\n",
            "2              LightGBM   0.960929       0.145942   2.947429                0.145942           2.947429            1       True          4\n",
            "3              CatBoost   0.954593       0.009656  15.397030                0.009656          15.397030            1       True          7\n",
            "4            LightGBMXT   0.935586       0.486515   7.214920                0.486515           7.214920            1       True          3\n",
            "5               XGBoost   0.933474       0.068155   2.597219                0.068155           2.597219            1       True         11\n",
            "6      RandomForestGini   0.931362       0.192232   5.150820                0.192232           5.150820            1       True          5\n",
            "7        ExtraTreesEntr   0.928194       0.142942   1.535146                0.142942           1.535146            1       True          9\n",
            "8      RandomForestEntr   0.927138       0.220720   5.988814                0.220720           5.988814            1       True          6\n",
            "9        ExtraTreesGini   0.922914       0.130018   1.503768                0.130018           1.503768            1       True          8\n",
            "10       NeuralNetTorch   0.892291       0.022171  42.986094                0.022171          42.986094            1       True         12\n",
            "11       KNeighborsDist   0.884900       0.018374   0.019830                0.018374           0.019830            1       True          2\n",
            "12       KNeighborsUnif   0.877508       0.018426   0.017942                0.018426           0.017942            1       True          1\n",
            "13      NeuralNetFastAI   0.865892       0.032862  14.342853                0.032862          14.342853            1       True         10\n"
          ]
        }
      ],
      "source": [
        "Stroke_data =pd.DataFrame(X[['age',\n",
        "  'heart_disease',\n",
        "  'ever_married',\n",
        "  'work_type',\n",
        "  'avg_glucose_level',\n",
        "  'bmi',\n",
        "  'smoking_status']])\n",
        "Stroke_data['stroke']=y\n",
        "predictor= TabularPredictor(\n",
        "    label=\"stroke\",\n",
        "\n",
        ").fit(\n",
        "    train_data=Stroke_data,\n",
        "\n",
        ")\n",
        "go_dataset2= predictor.leaderboard()"
      ],
      "id": "3bbaff52-62e0-42bd-bf28-64738482d30f"
    },
    {
      "cell_type": "markdown",
      "metadata": {
        "id": "4632781e-7b02-4cca-a0c6-77325ba34c6d"
      },
      "source": [
        "## Dataset 3"
      ],
      "id": "4632781e-7b02-4cca-a0c6-77325ba34c6d"
    },
    {
      "cell_type": "code",
      "execution_count": null,
      "metadata": {
        "id": "71c7a502-2a68-4783-9b8e-28abe0fa9ce4"
      },
      "outputs": [],
      "source": [
        "stroke3 = pd.read_csv('stroke/stroke3.csv')\n",
        "stroke3=preprocess_dataset(stroke3)\n",
        "X = stroke3.drop(['stroke'],axis=1)\n",
        "y = stroke3['stroke']\n",
        "\n",
        "from imblearn.over_sampling import SMOTE\n",
        "# Assuming X and y are your feature matrix and target variable, respectively\n",
        "smote = SMOTE()\n",
        "X, y = smote.fit_resample(X, y)\n",
        "X_train, X_test, y_train, y_test = train_test_split(X, y, test_size=0.2,random_state=42)"
      ],
      "id": "71c7a502-2a68-4783-9b8e-28abe0fa9ce4"
    },
    {
      "cell_type": "code",
      "execution_count": null,
      "metadata": {
        "id": "a78a7242-b5c5-41f9-b1c6-986098494794",
        "outputId": "6e74949f-1930-4b45-8dde-55b720d9f103"
      },
      "outputs": [
        {
          "name": "stderr",
          "output_type": "stream",
          "text": [
            "Iterations: 100%|██████████| 10/10 [07:08<00:00, 42.80s/iteration]\n"
          ]
        }
      ],
      "source": [
        "num_iterations = 10\n",
        "results, features, dims, scores = run_go_optimization(num_iterations, X_train, y_train, X_test, y_test)"
      ],
      "id": "a78a7242-b5c5-41f9-b1c6-986098494794"
    },
    {
      "cell_type": "code",
      "execution_count": null,
      "metadata": {
        "id": "31857081-5cb4-4440-8488-ea4379bef203",
        "outputId": "6803df9b-1958-4053-fb2a-452b807fcddc"
      },
      "outputs": [
        {
          "data": {
            "text/plain": [
              "[['gender',\n",
              "  'age',\n",
              "  'ever_married',\n",
              "  'work_type',\n",
              "  'avg_glucose_level',\n",
              "  'bmi',\n",
              "  'smoking_status'],\n",
              " ['gender',\n",
              "  'age',\n",
              "  'ever_married',\n",
              "  'Residence_type',\n",
              "  'avg_glucose_level',\n",
              "  'bmi',\n",
              "  'smoking_status'],\n",
              " ['gender', 'age', 'hypertension', 'ever_married'],\n",
              " ['age',\n",
              "  'work_type',\n",
              "  'Residence_type',\n",
              "  'avg_glucose_level',\n",
              "  'bmi',\n",
              "  'smoking_status'],\n",
              " ['age',\n",
              "  'ever_married',\n",
              "  'Residence_type',\n",
              "  'avg_glucose_level',\n",
              "  'bmi',\n",
              "  'smoking_status'],\n",
              " ['age',\n",
              "  'ever_married',\n",
              "  'Residence_type',\n",
              "  'avg_glucose_level',\n",
              "  'bmi',\n",
              "  'smoking_status'],\n",
              " ['age',\n",
              "  'ever_married',\n",
              "  'work_type',\n",
              "  'avg_glucose_level',\n",
              "  'bmi',\n",
              "  'smoking_status'],\n",
              " ['age', 'hypertension', 'ever_married'],\n",
              " ['age', 'heart_disease', 'work_type', 'Residence_type'],\n",
              " ['gender',\n",
              "  'age',\n",
              "  'ever_married',\n",
              "  'Residence_type',\n",
              "  'avg_glucose_level',\n",
              "  'bmi',\n",
              "  'smoking_status']]"
            ]
          },
          "execution_count": 248,
          "metadata": {},
          "output_type": "execute_result"
        }
      ],
      "source": [
        "features"
      ],
      "id": "31857081-5cb4-4440-8488-ea4379bef203"
    },
    {
      "cell_type": "code",
      "execution_count": null,
      "metadata": {
        "id": "7f9507a8-2204-42b5-bac6-386501b271ae",
        "outputId": "3ce3bc52-1019-4afa-fd1f-a54406654a54"
      },
      "outputs": [
        {
          "name": "stderr",
          "output_type": "stream",
          "text": [
            "Iterations: 100%|██████████| 10/10 [07:37<00:00, 45.74s/iteration]\n"
          ]
        }
      ],
      "source": [
        "num_iterations = 10\n",
        "results, features, dims, scores = run_go_optimization(num_iterations, X_train, y_train, X_test, y_test)"
      ],
      "id": "7f9507a8-2204-42b5-bac6-386501b271ae"
    },
    {
      "cell_type": "code",
      "execution_count": null,
      "metadata": {
        "id": "891f6dfb-1738-4adb-bac9-c0b1cca27904",
        "outputId": "1bb6d6af-9f82-4ee7-b7ea-a2e06efaffd7"
      },
      "outputs": [
        {
          "data": {
            "text/plain": [
              "[['gender', 'age', 'avg_glucose_level', 'bmi', 'smoking_status'],\n",
              " ['age', 'work_type', 'avg_glucose_level', 'bmi', 'smoking_status'],\n",
              " ['gender', 'age', 'hypertension', 'work_type'],\n",
              " ['gender', 'bmi'],\n",
              " ['age', 'ever_married', 'avg_glucose_level', 'bmi', 'smoking_status'],\n",
              " ['gender',\n",
              "  'age',\n",
              "  'hypertension',\n",
              "  'Residence_type',\n",
              "  'avg_glucose_level',\n",
              "  'bmi',\n",
              "  'smoking_status'],\n",
              " ['gender', 'age', 'heart_disease', 'Residence_type'],\n",
              " ['gender', 'age', 'Residence_type'],\n",
              " ['age',\n",
              "  'hypertension',\n",
              "  'ever_married',\n",
              "  'work_type',\n",
              "  'Residence_type',\n",
              "  'avg_glucose_level',\n",
              "  'bmi'],\n",
              " ['gender', 'hypertension', 'heart_disease', 'bmi']]"
            ]
          },
          "execution_count": 250,
          "metadata": {},
          "output_type": "execute_result"
        }
      ],
      "source": [
        "features"
      ],
      "id": "891f6dfb-1738-4adb-bac9-c0b1cca27904"
    },
    {
      "cell_type": "code",
      "execution_count": null,
      "metadata": {
        "id": "7528c4d0-7de6-4d31-a132-756a618a1eb9",
        "outputId": "b998bfc5-1cdd-47b8-e999-affeb319d522"
      },
      "outputs": [
        {
          "name": "stderr",
          "output_type": "stream",
          "text": [
            "Iterations: 100%|██████████| 10/10 [07:40<00:00, 46.01s/iteration]\n"
          ]
        }
      ],
      "source": [
        "num_iterations = 10\n",
        "results, features, dims, scores = run_go_optimization(num_iterations, X_train, y_train, X_test, y_test)"
      ],
      "id": "7528c4d0-7de6-4d31-a132-756a618a1eb9"
    },
    {
      "cell_type": "code",
      "execution_count": null,
      "metadata": {
        "id": "1448070f-f5ee-4908-85f5-d9c265edd233",
        "outputId": "60e96fa9-fc64-4cac-e129-5d5a7d93ac67"
      },
      "outputs": [
        {
          "data": {
            "text/plain": [
              "[['age',\n",
              "  'hypertension',\n",
              "  'ever_married',\n",
              "  'avg_glucose_level',\n",
              "  'bmi',\n",
              "  'smoking_status'],\n",
              " ['age', 'avg_glucose_level', 'bmi', 'smoking_status'],\n",
              " ['Residence_type', 'bmi'],\n",
              " ['bmi'],\n",
              " ['age', 'ever_married', 'work_type', 'Residence_type'],\n",
              " ['work_type', 'bmi'],\n",
              " ['gender', 'age', 'work_type'],\n",
              " ['gender',\n",
              "  'age',\n",
              "  'heart_disease',\n",
              "  'ever_married',\n",
              "  'Residence_type',\n",
              "  'avg_glucose_level',\n",
              "  'bmi'],\n",
              " ['age',\n",
              "  'ever_married',\n",
              "  'work_type',\n",
              "  'Residence_type',\n",
              "  'avg_glucose_level',\n",
              "  'bmi'],\n",
              " ['gender',\n",
              "  'age',\n",
              "  'ever_married',\n",
              "  'Residence_type',\n",
              "  'avg_glucose_level',\n",
              "  'bmi']]"
            ]
          },
          "execution_count": 253,
          "metadata": {},
          "output_type": "execute_result"
        }
      ],
      "source": [
        "features"
      ],
      "id": "1448070f-f5ee-4908-85f5-d9c265edd233"
    },
    {
      "cell_type": "code",
      "execution_count": null,
      "metadata": {
        "colab": {
          "background_save": true,
          "base_uri": "https://localhost:8080/"
        },
        "id": "f3108ec3-afa6-4a37-b807-f7b8aa4526ca",
        "outputId": "ff829acb-836e-476e-c9f3-7b3eb5e13e26"
      },
      "outputs": [
        {
          "name": "stderr",
          "output_type": "stream",
          "text": [
            "No path specified. Models will be saved in: \"AutogluonModels/ag-20230831_100840/\"\n",
            "Beginning AutoGluon training ...\n",
            "AutoGluon will save models to \"AutogluonModels/ag-20230831_100840/\"\n",
            "AutoGluon Version:  0.8.2\n",
            "Python Version:     3.10.12\n",
            "Operating System:   Linux\n",
            "Platform Machine:   x86_64\n",
            "Platform Version:   #1 SMP Fri Jun 9 10:57:30 UTC 2023\n",
            "Disk Space Avail:   9.91 GB / 16.11 GB (61.5%)\n",
            "\tWARNING: Available disk space is low and there is a risk that AutoGluon will run out of disk during fit, causing an exception. \n",
            "\tWe recommend a minimum available disk space of 10 GB, and large datasets may require more.\n",
            "Train Data Rows:    85234\n",
            "Train Data Columns: 6\n",
            "Label Column: stroke\n",
            "Preprocessing data ...\n",
            "AutoGluon infers your prediction problem is: 'binary' (because only two unique label-values observed).\n",
            "\t2 unique label values:  [0, 1]\n",
            "\tIf 'binary' is not the correct problem_type, please manually specify the problem_type parameter during predictor init (You may specify problem_type as one of: ['binary', 'multiclass', 'regression'])\n",
            "Selected class <--> label mapping:  class 1 = 1, class 0 = 0\n",
            "Using Feature Generators to preprocess the data ...\n",
            "Fitting AutoMLPipelineFeatureGenerator...\n",
            "\tAvailable Memory:                    10713.28 MB\n",
            "\tTrain Data (Original)  Memory Usage: 4.09 MB (0.0% of available memory)\n",
            "\tInferring data type of each feature based on column values. Set feature_metadata_in to manually specify special dtypes of the features.\n",
            "\tStage 1 Generators:\n",
            "\t\tFitting AsTypeFeatureGenerator...\n",
            "\t\t\tNote: Converting 2 features to boolean dtype as they only contain 2 unique values.\n",
            "\tStage 2 Generators:\n",
            "\t\tFitting FillNaFeatureGenerator...\n",
            "\tStage 3 Generators:\n",
            "\t\tFitting IdentityFeatureGenerator...\n",
            "\tStage 4 Generators:\n",
            "\t\tFitting DropUniqueFeatureGenerator...\n",
            "\tStage 5 Generators:\n",
            "\t\tFitting DropDuplicatesFeatureGenerator...\n",
            "\tTypes of features in original data (raw dtype, special dtypes):\n",
            "\t\t('float', []) : 3 | ['age', 'avg_glucose_level', 'bmi']\n",
            "\t\t('int', [])   : 3 | ['gender', 'ever_married', 'Residence_type']\n",
            "\tTypes of features in processed data (raw dtype, special dtypes):\n",
            "\t\t('float', [])     : 3 | ['age', 'avg_glucose_level', 'bmi']\n",
            "\t\t('int', [])       : 1 | ['gender']\n",
            "\t\t('int', ['bool']) : 2 | ['ever_married', 'Residence_type']\n",
            "\t0.3s = Fit runtime\n",
            "\t6 features in original data used to generate 6 features in processed data.\n",
            "\tTrain Data (Processed) Memory Usage: 2.9 MB (0.0% of available memory)\n",
            "Data preprocessing and feature engineering runtime = 0.36s ...\n",
            "AutoGluon will gauge predictive performance using evaluation metric: 'accuracy'\n",
            "\tTo change this, specify the eval_metric parameter of Predictor()\n",
            "Automatically generating train/validation split with holdout_frac=0.029331018138301617, Train Rows: 82734, Val Rows: 2500\n",
            "User-specified model hyperparameters to be fit:\n",
            "{\n",
            "\t'NN_TORCH': {},\n",
            "\t'GBM': [{'extra_trees': True, 'ag_args': {'name_suffix': 'XT'}}, {}, 'GBMLarge'],\n",
            "\t'CAT': {},\n",
            "\t'XGB': {},\n",
            "\t'FASTAI': {},\n",
            "\t'RF': [{'criterion': 'gini', 'ag_args': {'name_suffix': 'Gini', 'problem_types': ['binary', 'multiclass']}}, {'criterion': 'entropy', 'ag_args': {'name_suffix': 'Entr', 'problem_types': ['binary', 'multiclass']}}, {'criterion': 'squared_error', 'ag_args': {'name_suffix': 'MSE', 'problem_types': ['regression', 'quantile']}}],\n",
            "\t'XT': [{'criterion': 'gini', 'ag_args': {'name_suffix': 'Gini', 'problem_types': ['binary', 'multiclass']}}, {'criterion': 'entropy', 'ag_args': {'name_suffix': 'Entr', 'problem_types': ['binary', 'multiclass']}}, {'criterion': 'squared_error', 'ag_args': {'name_suffix': 'MSE', 'problem_types': ['regression', 'quantile']}}],\n",
            "\t'KNN': [{'weights': 'uniform', 'ag_args': {'name_suffix': 'Unif'}}, {'weights': 'distance', 'ag_args': {'name_suffix': 'Dist'}}],\n",
            "}\n",
            "Fitting 13 L1 models ...\n",
            "Fitting model: KNeighborsUnif ...\n",
            "\t0.9136\t = Validation score   (accuracy)\n",
            "\t0.15s\t = Training   runtime\n",
            "\t0.05s\t = Validation runtime\n",
            "Fitting model: KNeighborsDist ...\n",
            "\t0.9212\t = Validation score   (accuracy)\n",
            "\t0.15s\t = Training   runtime\n",
            "\t0.05s\t = Validation runtime\n",
            "Fitting model: LightGBMXT ...\n"
          ]
        },
        {
          "name": "stdout",
          "output_type": "stream",
          "text": [
            "[1000]\tvalid_set's binary_error: 0.1108\n",
            "[2000]\tvalid_set's binary_error: 0.0852\n",
            "[3000]\tvalid_set's binary_error: 0.0712\n",
            "[4000]\tvalid_set's binary_error: 0.0624\n",
            "[5000]\tvalid_set's binary_error: 0.0568\n",
            "[6000]\tvalid_set's binary_error: 0.0528\n",
            "[7000]\tvalid_set's binary_error: 0.0504\n",
            "[8000]\tvalid_set's binary_error: 0.0476\n",
            "[9000]\tvalid_set's binary_error: 0.044\n",
            "[10000]\tvalid_set's binary_error: 0.0412\n"
          ]
        },
        {
          "name": "stderr",
          "output_type": "stream",
          "text": [
            "\t0.9596\t = Validation score   (accuracy)\n",
            "\t92.42s\t = Training   runtime\n",
            "\t4.75s\t = Validation runtime\n",
            "Fitting model: LightGBM ...\n"
          ]
        },
        {
          "name": "stdout",
          "output_type": "stream",
          "text": [
            "[1000]\tvalid_set's binary_error: 0.028\n",
            "[2000]\tvalid_set's binary_error: 0.0232\n"
          ]
        },
        {
          "name": "stderr",
          "output_type": "stream",
          "text": [
            "\t0.978\t = Validation score   (accuracy)\n",
            "\t19.35s\t = Training   runtime\n",
            "\t0.66s\t = Validation runtime\n",
            "Fitting model: RandomForestGini ...\n",
            "\t0.9744\t = Validation score   (accuracy)\n",
            "\t38.18s\t = Training   runtime\n",
            "\t0.25s\t = Validation runtime\n",
            "Fitting model: RandomForestEntr ...\n",
            "\t0.9716\t = Validation score   (accuracy)\n",
            "\t55.62s\t = Training   runtime\n",
            "\t0.42s\t = Validation runtime\n",
            "Fitting model: CatBoost ...\n",
            "\t0.9804\t = Validation score   (accuracy)\n",
            "\t188.1s\t = Training   runtime\n",
            "\t0.02s\t = Validation runtime\n",
            "Fitting model: ExtraTreesGini ...\n",
            "\t0.9688\t = Validation score   (accuracy)\n",
            "\t17.92s\t = Training   runtime\n",
            "\t0.29s\t = Validation runtime\n",
            "Fitting model: ExtraTreesEntr ...\n",
            "\t0.9716\t = Validation score   (accuracy)\n",
            "\t19.58s\t = Training   runtime\n",
            "\t0.28s\t = Validation runtime\n",
            "Fitting model: NeuralNetFastAI ...\n",
            "\t0.854\t = Validation score   (accuracy)\n",
            "\t121.63s\t = Training   runtime\n",
            "\t0.07s\t = Validation runtime\n",
            "Fitting model: XGBoost ...\n",
            "\t0.964\t = Validation score   (accuracy)\n",
            "\t15.37s\t = Training   runtime\n",
            "\t0.17s\t = Validation runtime\n",
            "Fitting model: NeuralNetTorch ...\n",
            "\t0.9196\t = Validation score   (accuracy)\n",
            "\t749.99s\t = Training   runtime\n",
            "\t0.02s\t = Validation runtime\n",
            "Fitting model: LightGBMLarge ...\n"
          ]
        },
        {
          "name": "stdout",
          "output_type": "stream",
          "text": [
            "[1000]\tvalid_set's binary_error: 0.0224\n"
          ]
        },
        {
          "name": "stderr",
          "output_type": "stream",
          "text": [
            "\t0.98\t = Validation score   (accuracy)\n",
            "\t21.4s\t = Training   runtime\n",
            "\t0.72s\t = Validation runtime\n",
            "Fitting model: WeightedEnsemble_L2 ...\n",
            "\t0.9868\t = Validation score   (accuracy)\n",
            "\t1.84s\t = Training   runtime\n",
            "\t0.01s\t = Validation runtime\n",
            "AutoGluon training complete, total runtime = 1365.33s ... Best model: \"WeightedEnsemble_L2\"\n",
            "TabularPredictor saved. To load, use: predictor = TabularPredictor.load(\"AutogluonModels/ag-20230831_100840/\")\n"
          ]
        },
        {
          "name": "stdout",
          "output_type": "stream",
          "text": [
            "                  model  score_val  pred_time_val    fit_time  pred_time_val_marginal  fit_time_marginal  stack_level  can_infer  fit_order\n",
            "0   WeightedEnsemble_L2     0.9868       2.100254  302.154734                0.005072           1.840126            2       True         14\n",
            "1              CatBoost     0.9804       0.016286  188.095904                0.016286         188.095904            1       True          7\n",
            "2         LightGBMLarge     0.9800       0.715853   21.395991                0.715853          21.395991            1       True         13\n",
            "3              LightGBM     0.9780       0.655655   19.349162                0.655655          19.349162            1       True          4\n",
            "4      RandomForestGini     0.9744       0.248095   38.184561                0.248095          38.184561            1       True          5\n",
            "5        ExtraTreesEntr     0.9716       0.284350   19.584908                0.284350          19.584908            1       True          9\n",
            "6      RandomForestEntr     0.9716       0.419559   55.622149                0.419559          55.622149            1       True          6\n",
            "7        ExtraTreesGini     0.9688       0.285092   17.921491                0.285092          17.921491            1       True          8\n",
            "8               XGBoost     0.9640       0.174201   15.367500                0.174201          15.367500            1       True         11\n",
            "9            LightGBMXT     0.9596       4.749738   92.421537                4.749738          92.421537            1       True          3\n",
            "10       KNeighborsDist     0.9212       0.046699    0.153764                0.046699           0.153764            1       True          2\n",
            "11       NeuralNetTorch     0.9196       0.024107  749.986482                0.024107         749.986482            1       True         12\n",
            "12       KNeighborsUnif     0.9136       0.047589    0.145353                0.047589           0.145353            1       True          1\n",
            "13      NeuralNetFastAI     0.8540       0.066913  121.626597                0.066913         121.626597            1       True         10\n"
          ]
        }
      ],
      "source": [
        "Stroke_data =pd.DataFrame(X[ ['gender',\n",
        "  'age',\n",
        "  'ever_married',\n",
        "  'Residence_type',\n",
        "  'avg_glucose_level',\n",
        "  'bmi']])\n",
        "Stroke_data['stroke']=y\n",
        "predictor_combined = TabularPredictor(\n",
        "    label=\"stroke\",\n",
        "\n",
        ").fit(\n",
        "    train_data=Stroke_data,\n",
        "\n",
        ")\n",
        "go_dataset3=predictor_combined.leaderboard()"
      ],
      "id": "f3108ec3-afa6-4a37-b807-f7b8aa4526ca"
    },
    {
      "cell_type": "markdown",
      "metadata": {
        "id": "76b619df-f119-49ea-8e73-fd012d7541b5"
      },
      "source": [
        "## Dataset 4"
      ],
      "id": "76b619df-f119-49ea-8e73-fd012d7541b5"
    },
    {
      "cell_type": "code",
      "execution_count": null,
      "metadata": {
        "colab": {
          "background_save": true
        },
        "id": "f213ae72-9e89-4421-85b1-1a6971c5799f"
      },
      "outputs": [],
      "source": [
        "stroke4 = pd.read_csv('stroke/stroke10.csv')\n",
        "stroke4=preprocess_dataset(stroke4)\n",
        "X = stroke4.drop(['stroke'],axis=1)\n",
        "y = stroke4['stroke']\n",
        "\n",
        "from imblearn.over_sampling import SMOTE\n",
        "# Assuming X and y are your feature matrix and target variable, respectively\n",
        "smote = SMOTE()\n",
        "X, y = smote.fit_resample(X, y)\n",
        "X_train, X_test, y_train, y_test = train_test_split(X, y, test_size=0.2,random_state=42)"
      ],
      "id": "f213ae72-9e89-4421-85b1-1a6971c5799f"
    },
    {
      "cell_type": "code",
      "execution_count": null,
      "metadata": {
        "id": "ae4de14a-8050-4068-b679-68ecbace95e1",
        "outputId": "70903346-71c1-4b0d-8bc9-77967066d70b"
      },
      "outputs": [
        {
          "name": "stderr",
          "output_type": "stream",
          "text": [
            "Iterations: 100%|██████████| 10/10 [02:35<00:00, 15.50s/iteration]\n"
          ]
        }
      ],
      "source": [
        "num_iterations = 10\n",
        "results, features, dims, scores = run_go_optimization(num_iterations, X_train, y_train, X_test, y_test)"
      ],
      "id": "ae4de14a-8050-4068-b679-68ecbace95e1"
    },
    {
      "cell_type": "code",
      "execution_count": null,
      "metadata": {
        "id": "ec4aef50-f12d-42bc-83b7-416c5c2fe6f0",
        "outputId": "3595361b-c4d4-44f7-88b0-8edd495b0dde"
      },
      "outputs": [
        {
          "data": {
            "text/plain": [
              "[['heart_disease', 'work_type', 'Residence_type', 'avg_glucose_level', 'bmi'],\n",
              " ['ever_married',\n",
              "  'Residence_type',\n",
              "  'avg_glucose_level',\n",
              "  'bmi',\n",
              "  'smoking_status'],\n",
              " ['ever_married', 'work_type', 'avg_glucose_level', 'bmi'],\n",
              " ['heart_disease',\n",
              "  'ever_married',\n",
              "  'work_type',\n",
              "  'avg_glucose_level',\n",
              "  'smoking_status'],\n",
              " ['heart_disease', 'Residence_type', 'avg_glucose_level', 'bmi'],\n",
              " ['heart_disease', 'avg_glucose_level', 'bmi'],\n",
              " ['heart_disease',\n",
              "  'ever_married',\n",
              "  'Residence_type',\n",
              "  'avg_glucose_level',\n",
              "  'bmi'],\n",
              " ['sex', 'avg_glucose_level', 'bmi'],\n",
              " ['heart_disease', 'Residence_type', 'avg_glucose_level', 'bmi'],\n",
              " ['sex',\n",
              "  'hypertension',\n",
              "  'heart_disease',\n",
              "  'ever_married',\n",
              "  'work_type',\n",
              "  'avg_glucose_level',\n",
              "  'bmi',\n",
              "  'smoking_status']]"
            ]
          },
          "execution_count": 256,
          "metadata": {},
          "output_type": "execute_result"
        }
      ],
      "source": [
        "features"
      ],
      "id": "ec4aef50-f12d-42bc-83b7-416c5c2fe6f0"
    },
    {
      "cell_type": "code",
      "execution_count": null,
      "metadata": {
        "id": "16ac6bea-35f2-4a63-917a-c4399e7bdfe2",
        "outputId": "decfa199-0513-4b65-dd5d-90efc2ccac85"
      },
      "outputs": [
        {
          "name": "stderr",
          "output_type": "stream",
          "text": [
            "Iterations: 100%|██████████| 10/10 [02:36<00:00, 15.65s/iteration]\n"
          ]
        }
      ],
      "source": [
        "num_iterations = 10\n",
        "results, features, dims, scores = run_go_optimization(num_iterations, X_train, y_train, X_test, y_test)"
      ],
      "id": "16ac6bea-35f2-4a63-917a-c4399e7bdfe2"
    },
    {
      "cell_type": "code",
      "execution_count": null,
      "metadata": {
        "id": "03aa1471-e0db-4592-8aba-988394dceb8f",
        "outputId": "e2199a92-d21b-4800-aa61-f910c8bb10fd"
      },
      "outputs": [
        {
          "data": {
            "text/plain": [
              "[['work_type', 'avg_glucose_level', 'smoking_status'],\n",
              " ['heart_disease', 'avg_glucose_level', 'bmi'],\n",
              " ['hypertension', 'work_type', 'avg_glucose_level', 'bmi', 'smoking_status'],\n",
              " ['sex',\n",
              "  'hypertension',\n",
              "  'ever_married',\n",
              "  'work_type',\n",
              "  'avg_glucose_level',\n",
              "  'bmi',\n",
              "  'smoking_status'],\n",
              " ['hypertension', 'work_type', 'avg_glucose_level', 'bmi'],\n",
              " ['work_type', 'avg_glucose_level', 'bmi', 'smoking_status'],\n",
              " ['work_type', 'avg_glucose_level', 'bmi', 'smoking_status'],\n",
              " ['heart_disease', 'avg_glucose_level', 'bmi'],\n",
              " ['ever_married', 'work_type', 'avg_glucose_level', 'smoking_status'],\n",
              " ['heart_disease', 'work_type', 'avg_glucose_level', 'bmi']]"
            ]
          },
          "execution_count": 258,
          "metadata": {},
          "output_type": "execute_result"
        }
      ],
      "source": [
        "features"
      ],
      "id": "03aa1471-e0db-4592-8aba-988394dceb8f"
    },
    {
      "cell_type": "code",
      "execution_count": null,
      "metadata": {
        "id": "cec162e9-c5e3-4dd5-b3ea-702860f2e8bb",
        "outputId": "058da580-db79-4f38-afcd-fcb7a2277d2d"
      },
      "outputs": [
        {
          "name": "stderr",
          "output_type": "stream",
          "text": [
            "Iterations: 100%|██████████| 10/10 [02:21<00:00, 14.15s/iteration]\n"
          ]
        }
      ],
      "source": [
        "num_iterations = 10\n",
        "results, features, dims, scores = run_go_optimization(num_iterations, X_train, y_train, X_test, y_test)"
      ],
      "id": "cec162e9-c5e3-4dd5-b3ea-702860f2e8bb"
    },
    {
      "cell_type": "code",
      "execution_count": null,
      "metadata": {
        "id": "c57a3672-2b50-4772-9192-509a491fc5b3",
        "outputId": "8229e51a-faec-4537-d71f-fd73a0028d70"
      },
      "outputs": [
        {
          "data": {
            "text/plain": [
              "[['ever_married', 'work_type', 'Residence_type', 'avg_glucose_level'],\n",
              " ['hypertension', 'avg_glucose_level', 'bmi'],\n",
              " ['hypertension', 'heart_disease', 'avg_glucose_level', 'bmi'],\n",
              " ['avg_glucose_level', 'bmi', 'smoking_status'],\n",
              " ['ever_married', 'work_type', 'avg_glucose_level'],\n",
              " ['heart_disease',\n",
              "  'ever_married',\n",
              "  'work_type',\n",
              "  'avg_glucose_level',\n",
              "  'smoking_status'],\n",
              " ['ever_married', 'work_type', 'avg_glucose_level', 'bmi', 'smoking_status'],\n",
              " ['work_type', 'Residence_type', 'avg_glucose_level', 'bmi'],\n",
              " ['sex',\n",
              "  'hypertension',\n",
              "  'ever_married',\n",
              "  'avg_glucose_level',\n",
              "  'smoking_status'],\n",
              " ['heart_disease', 'work_type', 'Residence_type', 'avg_glucose_level']]"
            ]
          },
          "execution_count": 260,
          "metadata": {},
          "output_type": "execute_result"
        }
      ],
      "source": [
        "features"
      ],
      "id": "c57a3672-2b50-4772-9192-509a491fc5b3"
    },
    {
      "cell_type": "code",
      "execution_count": null,
      "metadata": {
        "id": "10f51bd3-1245-4ccb-9db1-3017941f9442"
      },
      "outputs": [],
      "source": [
        "Stroke_data =pd.DataFrame(X[['heart_disease',\n",
        "  'ever_married',\n",
        "  'work_type',\n",
        "  'avg_glucose_level',\n",
        "  'smoking_status']])\n",
        "Stroke_data['stroke']=y\n",
        "\n",
        "predictor_combined = TabularPredictor(\n",
        "    label=\"stroke\",\n",
        "\n",
        ").fit(\n",
        "    train_data=Stroke_data,\n",
        "\n",
        ")\n",
        "go_dataset4=predictor_combined.leaderboard()"
      ],
      "id": "10f51bd3-1245-4ccb-9db1-3017941f9442"
    },
    {
      "cell_type": "markdown",
      "metadata": {
        "id": "2339954b-d895-4ac9-ac98-d0f02447bce4"
      },
      "source": [
        "## Dataset 5"
      ],
      "id": "2339954b-d895-4ac9-ac98-d0f02447bce4"
    },
    {
      "cell_type": "code",
      "execution_count": null,
      "metadata": {
        "colab": {
          "background_save": true
        },
        "id": "44d0e5b0-6675-49ed-96c8-9dedfc36b9dd"
      },
      "outputs": [],
      "source": [
        "stroke5 = pd.read_csv('stroke/stroke12.csv')\n",
        "stroke5=preprocess_dataset(stroke5)\n",
        "X = stroke5.drop(['stroke'],axis=1)\n",
        "y = stroke5['stroke']\n",
        "\n",
        "from imblearn.over_sampling import SMOTE\n",
        "# Assuming X and y are your feature matrix and target variable, respectively\n",
        "smote = SMOTE()\n",
        "X, y = smote.fit_resample(X, y)\n",
        "X_train, X_test, y_train, y_test = train_test_split(X, y, test_size=0.2,random_state=42)"
      ],
      "id": "44d0e5b0-6675-49ed-96c8-9dedfc36b9dd"
    },
    {
      "cell_type": "code",
      "execution_count": null,
      "metadata": {
        "id": "40783218-c31e-4dde-a8bf-15c458ec0080",
        "outputId": "4f23ad4e-c2ad-4c55-d654-68cd2a8f3f9c"
      },
      "outputs": [
        {
          "name": "stderr",
          "output_type": "stream",
          "text": [
            "Iterations: 100%|██████████| 10/10 [00:09<00:00,  1.08iteration/s]\n"
          ]
        }
      ],
      "source": [
        "num_iterations = 10\n",
        "results, features, dims, scores = run_go_optimization(num_iterations, X_train, y_train, X_test, y_test)"
      ],
      "id": "40783218-c31e-4dde-a8bf-15c458ec0080"
    },
    {
      "cell_type": "code",
      "execution_count": null,
      "metadata": {
        "id": "26f1f4ad-eb61-4fda-8999-6baf4f5b98bc",
        "outputId": "f6d36017-e04b-4f80-cb81-374ee65f86df"
      },
      "outputs": [
        {
          "data": {
            "text/plain": [
              "[['gender', 'age', 'avg_glucose_level', 'smoking_status'],\n",
              " ['gender',\n",
              "  'age',\n",
              "  'hypertension',\n",
              "  'Residence_type',\n",
              "  'avg_glucose_level',\n",
              "  'bmi'],\n",
              " ['age', 'ever_married', 'work_type', 'avg_glucose_level', 'smoking_status'],\n",
              " ['gender', 'age', 'avg_glucose_level', 'smoking_status'],\n",
              " ['gender',\n",
              "  'age',\n",
              "  'hypertension',\n",
              "  'heart_disease',\n",
              "  'Residence_type',\n",
              "  'bmi',\n",
              "  'smoking_status'],\n",
              " ['age',\n",
              "  'hypertension',\n",
              "  'ever_married',\n",
              "  'work_type',\n",
              "  'Residence_type',\n",
              "  'bmi',\n",
              "  'smoking_status'],\n",
              " ['gender', 'age', 'Residence_type', 'avg_glucose_level', 'smoking_status'],\n",
              " ['age',\n",
              "  'hypertension',\n",
              "  'heart_disease',\n",
              "  'work_type',\n",
              "  'Residence_type',\n",
              "  'avg_glucose_level',\n",
              "  'bmi',\n",
              "  'smoking_status'],\n",
              " ['age',\n",
              "  'heart_disease',\n",
              "  'ever_married',\n",
              "  'Residence_type',\n",
              "  'avg_glucose_level',\n",
              "  'smoking_status'],\n",
              " ['age', 'work_type', 'avg_glucose_level', 'bmi', 'smoking_status']]"
            ]
          },
          "execution_count": 263,
          "metadata": {},
          "output_type": "execute_result"
        }
      ],
      "source": [
        "features"
      ],
      "id": "26f1f4ad-eb61-4fda-8999-6baf4f5b98bc"
    },
    {
      "cell_type": "code",
      "execution_count": null,
      "metadata": {
        "id": "ac94e995-3f25-449d-a7c2-eaf7890404fb",
        "outputId": "35f83041-0b3c-42db-e6be-d4f39d2ad26f"
      },
      "outputs": [
        {
          "name": "stderr",
          "output_type": "stream",
          "text": [
            "Iterations: 100%|██████████| 10/10 [00:08<00:00,  1.12iteration/s]\n"
          ]
        }
      ],
      "source": [
        "num_iterations = 10\n",
        "results, features, dims, scores = run_go_optimization(num_iterations, X_train, y_train, X_test, y_test)"
      ],
      "id": "ac94e995-3f25-449d-a7c2-eaf7890404fb"
    },
    {
      "cell_type": "code",
      "execution_count": null,
      "metadata": {
        "id": "ef420c42-e795-4e6f-9109-3e663cfe09ad"
      },
      "outputs": [],
      "source": [
        "features"
      ],
      "id": "ef420c42-e795-4e6f-9109-3e663cfe09ad"
    },
    {
      "cell_type": "code",
      "execution_count": null,
      "metadata": {
        "id": "12feb67f-ab8e-4513-a8ab-767af4a5369e",
        "outputId": "7f82fd4e-9545-4bd4-a30e-52d230b0c32e"
      },
      "outputs": [
        {
          "name": "stderr",
          "output_type": "stream",
          "text": [
            "Iterations: 100%|██████████| 10/10 [00:07<00:00,  1.26iteration/s]\n"
          ]
        }
      ],
      "source": [
        "num_iterations = 10\n",
        "results, features, dims, scores = run_go_optimization(num_iterations, X_train, y_train, X_test, y_test)"
      ],
      "id": "12feb67f-ab8e-4513-a8ab-767af4a5369e"
    },
    {
      "cell_type": "code",
      "execution_count": null,
      "metadata": {
        "id": "23b8b88a-5d46-43f6-83ef-0d0aacc7a82d",
        "outputId": "17d43770-6a57-4a24-e09c-64e7a922c36c"
      },
      "outputs": [
        {
          "data": {
            "text/plain": [
              "[['age', 'ever_married', 'avg_glucose_level', 'bmi', 'smoking_status'],\n",
              " ['age', 'Residence_type', 'avg_glucose_level', 'bmi'],\n",
              " ['gender',\n",
              "  'age',\n",
              "  'hypertension',\n",
              "  'heart_disease',\n",
              "  'ever_married',\n",
              "  'Residence_type',\n",
              "  'avg_glucose_level',\n",
              "  'smoking_status'],\n",
              " ['age', 'avg_glucose_level', 'smoking_status'],\n",
              " ['age',\n",
              "  'heart_disease',\n",
              "  'ever_married',\n",
              "  'avg_glucose_level',\n",
              "  'smoking_status'],\n",
              " ['age', 'hypertension', 'avg_glucose_level', 'smoking_status'],\n",
              " ['gender',\n",
              "  'age',\n",
              "  'hypertension',\n",
              "  'Residence_type',\n",
              "  'avg_glucose_level',\n",
              "  'smoking_status'],\n",
              " ['gender', 'hypertension', 'heart_disease', 'bmi', 'smoking_status'],\n",
              " ['age',\n",
              "  'ever_married',\n",
              "  'Residence_type',\n",
              "  'avg_glucose_level',\n",
              "  'smoking_status'],\n",
              " ['age',\n",
              "  'hypertension',\n",
              "  'Residence_type',\n",
              "  'avg_glucose_level',\n",
              "  'smoking_status']]"
            ]
          },
          "execution_count": 68,
          "metadata": {},
          "output_type": "execute_result"
        }
      ],
      "source": [
        "features"
      ],
      "id": "23b8b88a-5d46-43f6-83ef-0d0aacc7a82d"
    },
    {
      "cell_type": "code",
      "execution_count": null,
      "metadata": {
        "colab": {
          "background_save": true
        },
        "id": "412b5e5b-7c3b-49a7-8611-ee2dadc5bd21"
      },
      "outputs": [],
      "source": [
        "Stroke_data =pd.DataFrame(X[['gender',\n",
        "  'age',\n",
        "  'hypertension',\n",
        "  'heart_disease',\n",
        "  'ever_married',\n",
        "  'Residence_type',\n",
        "  'avg_glucose_level',\n",
        "  'smoking_status']])\n",
        "Stroke_data['stroke']=y\n",
        "\n",
        "predictor_combined = TabularPredictor(\n",
        "    label=\"stroke\",\n",
        "\n",
        ").fit(\n",
        "    train_data=Stroke_data,\n",
        "\n",
        ")\n",
        "go_dataset5=predictor_combined.leaderboard()"
      ],
      "id": "412b5e5b-7c3b-49a7-8611-ee2dadc5bd21"
    },
    {
      "cell_type": "code",
      "execution_count": null,
      "metadata": {
        "id": "ee5c7b31-1e47-47aa-ba80-c1cea7256376"
      },
      "outputs": [],
      "source": [],
      "id": "ee5c7b31-1e47-47aa-ba80-c1cea7256376"
    },
    {
      "cell_type": "markdown",
      "metadata": {
        "id": "bbdc9e49-808d-4409-8419-b1eed1e9a1a5"
      },
      "source": [
        "## Dataset 6"
      ],
      "id": "bbdc9e49-808d-4409-8419-b1eed1e9a1a5"
    },
    {
      "cell_type": "code",
      "execution_count": null,
      "metadata": {
        "id": "103bdd90-e531-4203-8400-b31728df73d3"
      },
      "outputs": [],
      "source": [
        "stroke6 = pd.read_csv('stroke/stroke 13.csv')\n",
        "X = stroke6.drop(['target'],axis=1)\n",
        "y = stroke6['target']\n",
        "\n",
        "from imblearn.over_sampling import SMOTE\n",
        "# Assuming X and y are your feature matrix and target variable, respectively\n",
        "smote = SMOTE()\n",
        "X, y = smote.fit_resample(X, y)\n",
        "X_train, X_test, y_train, y_test = train_test_split(X, y, test_size=0.2,random_state=42)"
      ],
      "id": "103bdd90-e531-4203-8400-b31728df73d3"
    },
    {
      "cell_type": "code",
      "execution_count": null,
      "metadata": {
        "id": "58cf06b5-321f-4cbf-9d77-f693eaa58a0f",
        "outputId": "5b7cbd69-eeef-4d9b-de03-88acf6195009"
      },
      "outputs": [
        {
          "name": "stderr",
          "output_type": "stream",
          "text": [
            "Iterations: 100%|██████████| 10/10 [00:07<00:00,  1.31iteration/s]\n"
          ]
        }
      ],
      "source": [
        "num_iterations = 10\n",
        "results, features, dims, scores = run_go_optimization(num_iterations, X_train, y_train, X_test, y_test)"
      ],
      "id": "58cf06b5-321f-4cbf-9d77-f693eaa58a0f"
    },
    {
      "cell_type": "code",
      "execution_count": null,
      "metadata": {
        "id": "ae8edb4a-fa15-46fc-bdcf-27f03439b371",
        "outputId": "d5ccd27e-e7fc-4382-ddb7-4e284f132940"
      },
      "outputs": [
        {
          "data": {
            "text/plain": [
              "[['sex', 'trestbps', 'slope', 'thal'],\n",
              " ['cp', 'oldpeak', 'ca'],\n",
              " ['cp', 'fbs', 'oldpeak', 'slope', 'ca'],\n",
              " ['cp', 'restecg', 'oldpeak', 'slope', 'ca'],\n",
              " ['sex', 'cp', 'fbs', 'restecg', 'oldpeak', 'slope', 'ca', 'thal'],\n",
              " ['fbs', 'restecg', 'exang', 'oldpeak', 'thal'],\n",
              " ['sex', 'fbs', 'restecg', 'exang', 'oldpeak', 'slope', 'ca', 'thal'],\n",
              " ['cp', 'restecg', 'exang', 'oldpeak', 'slope'],\n",
              " ['fbs', 'restecg', 'oldpeak', 'ca'],\n",
              " ['sex', 'cp', 'oldpeak', 'slope', 'ca']]"
            ]
          },
          "execution_count": 278,
          "metadata": {},
          "output_type": "execute_result"
        }
      ],
      "source": [
        "features"
      ],
      "id": "ae8edb4a-fa15-46fc-bdcf-27f03439b371"
    },
    {
      "cell_type": "code",
      "execution_count": null,
      "metadata": {
        "id": "ff85f223-ff49-49f0-8bda-2532320bf2d1",
        "outputId": "637e4fd4-74d5-4313-9292-63fc6667efa5"
      },
      "outputs": [
        {
          "name": "stderr",
          "output_type": "stream",
          "text": [
            "Iterations: 100%|██████████| 10/10 [00:07<00:00,  1.36iteration/s]\n"
          ]
        }
      ],
      "source": [
        "num_iterations = 10\n",
        "results, features, dims, scores = run_go_optimization(num_iterations, X_train, y_train, X_test, y_test)"
      ],
      "id": "ff85f223-ff49-49f0-8bda-2532320bf2d1"
    },
    {
      "cell_type": "code",
      "execution_count": null,
      "metadata": {
        "id": "320f052f-82fb-4421-928d-c9ccb37904d0",
        "outputId": "3fcde0ce-28bf-4d1b-986e-fc9d778c36b8"
      },
      "outputs": [
        {
          "data": {
            "text/plain": [
              "[['cp', 'exang', 'slope', 'ca', 'thal'],\n",
              " ['oldpeak', 'ca', 'thal'],\n",
              " ['cp', 'restecg', 'exang', 'ca', 'thal'],\n",
              " ['sex', 'restecg', 'exang', 'ca', 'thal'],\n",
              " ['age', 'sex', 'cp', 'restecg', 'oldpeak', 'ca', 'thal'],\n",
              " ['sex', 'cp', 'fbs', 'restecg', 'exang', 'oldpeak', 'ca', 'thal'],\n",
              " ['sex', 'cp', 'trestbps', 'fbs', 'restecg', 'oldpeak', 'slope', 'ca', 'thal'],\n",
              " ['sex', 'cp', 'fbs', 'exang', 'oldpeak', 'slope', 'ca'],\n",
              " ['restecg', 'oldpeak', 'ca', 'thal'],\n",
              " ['fbs', 'oldpeak', 'thal']]"
            ]
          },
          "execution_count": 280,
          "metadata": {},
          "output_type": "execute_result"
        }
      ],
      "source": [
        "features"
      ],
      "id": "320f052f-82fb-4421-928d-c9ccb37904d0"
    },
    {
      "cell_type": "code",
      "execution_count": null,
      "metadata": {
        "id": "d23691da-787f-479f-a410-293bcdc12d39",
        "outputId": "4867f681-e42a-4672-b2cb-98b3e99ed016"
      },
      "outputs": [
        {
          "name": "stderr",
          "output_type": "stream",
          "text": [
            "Iterations: 100%|██████████| 10/10 [00:07<00:00,  1.28iteration/s]\n"
          ]
        }
      ],
      "source": [
        "num_iterations = 10\n",
        "results, features, dims, scores = run_go_optimization(num_iterations, X_train, y_train, X_test, y_test)"
      ],
      "id": "d23691da-787f-479f-a410-293bcdc12d39"
    },
    {
      "cell_type": "code",
      "execution_count": null,
      "metadata": {
        "id": "d49671d1-a163-407a-aff4-28997f9d16e2",
        "outputId": "65c5c468-ca9f-4451-9a1d-88d834da41fc"
      },
      "outputs": [
        {
          "data": {
            "text/plain": [
              "[['sex', 'trestbps', 'fbs', 'oldpeak', 'slope'],\n",
              " ['sex', 'trestbps', 'exang', 'oldpeak', 'thal'],\n",
              " ['age', 'cp', 'fbs', 'oldpeak', 'slope', 'ca', 'thal'],\n",
              " ['sex', 'trestbps', 'fbs', 'restecg', 'exang', 'oldpeak', 'slope'],\n",
              " ['sex', 'cp', 'slope', 'ca'],\n",
              " ['age', 'chol', 'fbs', 'restecg', 'thalach', 'oldpeak', 'thal'],\n",
              " ['cp', 'fbs', 'ca', 'thal'],\n",
              " ['sex', 'cp', 'chol', 'exang'],\n",
              " ['sex', 'cp', 'oldpeak', 'ca'],\n",
              " ['age', 'cp', 'exang', 'oldpeak', 'slope', 'ca', 'thal']]"
            ]
          },
          "execution_count": 282,
          "metadata": {},
          "output_type": "execute_result"
        }
      ],
      "source": [
        "features"
      ],
      "id": "d49671d1-a163-407a-aff4-28997f9d16e2"
    },
    {
      "cell_type": "code",
      "execution_count": null,
      "metadata": {
        "id": "ea4755f6-c527-481e-ae57-c61c6d8b1c69"
      },
      "outputs": [],
      "source": [
        "Stroke_data =pd.DataFrame(X[['cp', 'exang', 'slope', 'ca', 'thal']])\n",
        "Stroke_data['stroke']=y\n",
        "\n",
        "predictor_combined = TabularPredictor(\n",
        "    label=\"stroke\",\n",
        "\n",
        ").fit(\n",
        "    train_data=Stroke_data,\n",
        "\n",
        ")\n",
        "go_dataset6=predictor_combined.leaderboard()"
      ],
      "id": "ea4755f6-c527-481e-ae57-c61c6d8b1c69"
    },
    {
      "cell_type": "markdown",
      "metadata": {
        "id": "1cc6652f-2172-4dd2-8ffe-54db6b8ae089"
      },
      "source": [
        "## Dataset7"
      ],
      "id": "1cc6652f-2172-4dd2-8ffe-54db6b8ae089"
    },
    {
      "cell_type": "code",
      "execution_count": null,
      "metadata": {
        "id": "a32a6229-1823-4eb2-927d-25d3e8ce1ee7"
      },
      "outputs": [],
      "source": [
        "stroke7 = pd.read_csv('stroke/stroke14.csv')[:1000]\n",
        "stroke7=preprocess_dataset(stroke7)\n",
        "X = stroke7.drop(['Stroke'],axis=1)\n",
        "y = stroke7['Stroke']\n",
        "\n",
        "from imblearn.over_sampling import SMOTE\n",
        "# Assuming X and y are your feature matrix and target variable, respectively\n",
        "smote = SMOTE()\n",
        "X, y = smote.fit_resample(X, y)\n",
        "X_train, X_test, y_train, y_test = train_test_split(X, y, test_size=0.2,random_state=42)"
      ],
      "id": "a32a6229-1823-4eb2-927d-25d3e8ce1ee7"
    },
    {
      "cell_type": "code",
      "execution_count": null,
      "metadata": {
        "id": "9792a472-2a58-47b5-aceb-6699b3320a10",
        "outputId": "54e47b07-3d4e-4d69-e84c-c250b4078f54"
      },
      "outputs": [
        {
          "name": "stderr",
          "output_type": "stream",
          "text": [
            "Iterations: 100%|██████████| 10/10 [00:18<00:00,  1.87s/iteration]\n"
          ]
        }
      ],
      "source": [
        "num_iterations = 10\n",
        "results, features, dims, scores = run_go_optimization(num_iterations, X_train, y_train, X_test, y_test)"
      ],
      "id": "9792a472-2a58-47b5-aceb-6699b3320a10"
    },
    {
      "cell_type": "code",
      "execution_count": null,
      "metadata": {
        "id": "ef14b942-e644-4121-b863-fbe5b2c5cc53",
        "outputId": "f0bc84c8-c706-43a9-8103-371a8b7d5a8d"
      },
      "outputs": [
        {
          "data": {
            "text/plain": [
              "[['Diabetes_012',\n",
              "  'HighBP',\n",
              "  'CholCheck',\n",
              "  'BMI',\n",
              "  'Smoke',\n",
              "  'PhysicalActivity',\n",
              "  'Veggies',\n",
              "  'AnyHealthcare',\n",
              "  'NoDocbcCost',\n",
              "  'GenHlth',\n",
              "  'PhysHlth',\n",
              "  'DiffWalk',\n",
              "  'Sex',\n",
              "  'Education'],\n",
              " ['HighBP',\n",
              "  'HighChol',\n",
              "  'Smoke',\n",
              "  'PhysicalActivity',\n",
              "  'Fruits',\n",
              "  'Veggies',\n",
              "  'AlcoholConsump',\n",
              "  'NoDocbcCost',\n",
              "  'PhysHlth',\n",
              "  'DiffWalk',\n",
              "  'Sex',\n",
              "  'Education'],\n",
              " ['Diabetes_012',\n",
              "  'HighChol',\n",
              "  'BMI',\n",
              "  'Smoke',\n",
              "  'HeartDiseaseorAttack',\n",
              "  'PhysicalActivity',\n",
              "  'Fruits',\n",
              "  'Veggies',\n",
              "  'AlcoholConsump',\n",
              "  'AnyHealthcare',\n",
              "  'PhysHlth',\n",
              "  'Education'],\n",
              " ['Diabetes_012',\n",
              "  'HighBP',\n",
              "  'BMI',\n",
              "  'PhysicalActivity',\n",
              "  'Fruits',\n",
              "  'AnyHealthcare',\n",
              "  'PhysHlth',\n",
              "  'Sex',\n",
              "  'Education'],\n",
              " ['Diabetes_012',\n",
              "  'BMI',\n",
              "  'Smoke',\n",
              "  'HeartDiseaseorAttack',\n",
              "  'PhysicalActivity',\n",
              "  'Fruits',\n",
              "  'Veggies',\n",
              "  'PhysHlth',\n",
              "  'Sex',\n",
              "  'Age',\n",
              "  'Education'],\n",
              " ['Diabetes_012',\n",
              "  'HighChol',\n",
              "  'CholCheck',\n",
              "  'Smoke',\n",
              "  'HeartDiseaseorAttack',\n",
              "  'PhysicalActivity',\n",
              "  'Veggies',\n",
              "  'AlcoholConsump',\n",
              "  'AnyHealthcare',\n",
              "  'NoDocbcCost',\n",
              "  'GenHlth',\n",
              "  'DiffWalk',\n",
              "  'Education'],\n",
              " ['Diabetes_012',\n",
              "  'HighBP',\n",
              "  'HighChol',\n",
              "  'HeartDiseaseorAttack',\n",
              "  'PhysicalActivity',\n",
              "  'Fruits',\n",
              "  'AnyHealthcare',\n",
              "  'GenHlth',\n",
              "  'MentHlth',\n",
              "  'PhysHlth',\n",
              "  'DiffWalk',\n",
              "  'Sex',\n",
              "  'Age',\n",
              "  'Education'],\n",
              " ['Diabetes_012',\n",
              "  'HighBP',\n",
              "  'HighChol',\n",
              "  'CholCheck',\n",
              "  'HeartDiseaseorAttack',\n",
              "  'PhysicalActivity',\n",
              "  'Fruits',\n",
              "  'AlcoholConsump',\n",
              "  'AnyHealthcare',\n",
              "  'DiffWalk',\n",
              "  'Sex',\n",
              "  'Age',\n",
              "  'Education'],\n",
              " ['Diabetes_012',\n",
              "  'BMI',\n",
              "  'Smoke',\n",
              "  'PhysicalActivity',\n",
              "  'Fruits',\n",
              "  'Veggies',\n",
              "  'AlcoholConsump',\n",
              "  'NoDocbcCost',\n",
              "  'GenHlth',\n",
              "  'MentHlth',\n",
              "  'Age',\n",
              "  'Education'],\n",
              " ['HighBP',\n",
              "  'BMI',\n",
              "  'Smoke',\n",
              "  'PhysicalActivity',\n",
              "  'Fruits',\n",
              "  'Veggies',\n",
              "  'AnyHealthcare',\n",
              "  'NoDocbcCost',\n",
              "  'GenHlth',\n",
              "  'PhysHlth',\n",
              "  'DiffWalk',\n",
              "  'Sex']]"
            ]
          },
          "execution_count": 285,
          "metadata": {},
          "output_type": "execute_result"
        }
      ],
      "source": [
        "features"
      ],
      "id": "ef14b942-e644-4121-b863-fbe5b2c5cc53"
    },
    {
      "cell_type": "code",
      "execution_count": null,
      "metadata": {
        "id": "a02de041-8555-4ba4-bc56-1f6b08c44d6f",
        "outputId": "b331dae7-5302-4431-9a49-0cdec6abef50"
      },
      "outputs": [
        {
          "name": "stderr",
          "output_type": "stream",
          "text": [
            "Iterations: 100%|██████████| 10/10 [00:17<00:00,  1.71s/iteration]\n"
          ]
        }
      ],
      "source": [
        "num_iterations = 10\n",
        "results, features, dims, scores = run_go_optimization(num_iterations, X_train, y_train, X_test, y_test)"
      ],
      "id": "a02de041-8555-4ba4-bc56-1f6b08c44d6f"
    },
    {
      "cell_type": "code",
      "execution_count": null,
      "metadata": {
        "id": "ee1f9a89-49cf-4dac-8914-5b1bb207fca5",
        "outputId": "0b926767-dd72-4e06-b8e3-7157b2fd6fd6"
      },
      "outputs": [
        {
          "data": {
            "text/plain": [
              "[['Diabetes_012',\n",
              "  'HighChol',\n",
              "  'BMI',\n",
              "  'PhysicalActivity',\n",
              "  'Fruits',\n",
              "  'AnyHealthcare',\n",
              "  'MentHlth',\n",
              "  'Age',\n",
              "  'Education'],\n",
              " ['HighBP',\n",
              "  'CholCheck',\n",
              "  'BMI',\n",
              "  'PhysicalActivity',\n",
              "  'Fruits',\n",
              "  'Veggies',\n",
              "  'NoDocbcCost',\n",
              "  'MentHlth',\n",
              "  'DiffWalk',\n",
              "  'Sex',\n",
              "  'Education'],\n",
              " ['Diabetes_012',\n",
              "  'HighBP',\n",
              "  'HighChol',\n",
              "  'BMI',\n",
              "  'HeartDiseaseorAttack',\n",
              "  'PhysicalActivity',\n",
              "  'Fruits',\n",
              "  'AlcoholConsump',\n",
              "  'AnyHealthcare',\n",
              "  'GenHlth',\n",
              "  'Age',\n",
              "  'Education'],\n",
              " ['Diabetes_012',\n",
              "  'HighBP',\n",
              "  'HighChol',\n",
              "  'BMI',\n",
              "  'PhysicalActivity',\n",
              "  'Fruits',\n",
              "  'Veggies',\n",
              "  'AlcoholConsump',\n",
              "  'AnyHealthcare',\n",
              "  'NoDocbcCost',\n",
              "  'GenHlth',\n",
              "  'Sex',\n",
              "  'Age'],\n",
              " ['Diabetes_012',\n",
              "  'HighBP',\n",
              "  'BMI',\n",
              "  'Smoke',\n",
              "  'HeartDiseaseorAttack',\n",
              "  'PhysicalActivity',\n",
              "  'Veggies',\n",
              "  'AnyHealthcare',\n",
              "  'NoDocbcCost',\n",
              "  'GenHlth',\n",
              "  'MentHlth',\n",
              "  'Sex',\n",
              "  'Age',\n",
              "  'Education'],\n",
              " ['Diabetes_012',\n",
              "  'BMI',\n",
              "  'Smoke',\n",
              "  'PhysicalActivity',\n",
              "  'AlcoholConsump',\n",
              "  'AnyHealthcare',\n",
              "  'NoDocbcCost',\n",
              "  'GenHlth',\n",
              "  'PhysHlth',\n",
              "  'DiffWalk',\n",
              "  'Sex',\n",
              "  'Education'],\n",
              " ['HighChol',\n",
              "  'CholCheck',\n",
              "  'BMI',\n",
              "  'Smoke',\n",
              "  'Fruits',\n",
              "  'Veggies',\n",
              "  'AlcoholConsump',\n",
              "  'AnyHealthcare',\n",
              "  'NoDocbcCost',\n",
              "  'PhysHlth',\n",
              "  'Sex',\n",
              "  'Education'],\n",
              " ['Diabetes_012',\n",
              "  'CholCheck',\n",
              "  'BMI',\n",
              "  'Smoke',\n",
              "  'HeartDiseaseorAttack',\n",
              "  'PhysicalActivity',\n",
              "  'AnyHealthcare',\n",
              "  'NoDocbcCost',\n",
              "  'PhysHlth',\n",
              "  'DiffWalk',\n",
              "  'Sex',\n",
              "  'Age',\n",
              "  'Education'],\n",
              " ['HighBP',\n",
              "  'CholCheck',\n",
              "  'Smoke',\n",
              "  'HeartDiseaseorAttack',\n",
              "  'PhysicalActivity',\n",
              "  'Fruits',\n",
              "  'Veggies',\n",
              "  'AlcoholConsump',\n",
              "  'AnyHealthcare',\n",
              "  'GenHlth',\n",
              "  'Education'],\n",
              " ['Diabetes_012',\n",
              "  'HighBP',\n",
              "  'HighChol',\n",
              "  'BMI',\n",
              "  'Smoke',\n",
              "  'HeartDiseaseorAttack',\n",
              "  'PhysicalActivity',\n",
              "  'Fruits',\n",
              "  'Veggies',\n",
              "  'AlcoholConsump',\n",
              "  'MentHlth',\n",
              "  'PhysHlth',\n",
              "  'DiffWalk',\n",
              "  'Sex',\n",
              "  'Age']]"
            ]
          },
          "execution_count": 287,
          "metadata": {},
          "output_type": "execute_result"
        }
      ],
      "source": [
        "features"
      ],
      "id": "ee1f9a89-49cf-4dac-8914-5b1bb207fca5"
    },
    {
      "cell_type": "code",
      "execution_count": null,
      "metadata": {
        "id": "5a849f6f-bcc6-4452-a7da-95005848d383",
        "outputId": "90e91c2d-a747-4924-c497-0c03e12b10bc"
      },
      "outputs": [
        {
          "name": "stderr",
          "output_type": "stream",
          "text": [
            "Iterations: 100%|██████████| 10/10 [00:16<00:00,  1.66s/iteration]\n"
          ]
        }
      ],
      "source": [
        "num_iterations = 10\n",
        "results, features, dims, scores = run_go_optimization(num_iterations, X_train, y_train, X_test, y_test)"
      ],
      "id": "5a849f6f-bcc6-4452-a7da-95005848d383"
    },
    {
      "cell_type": "code",
      "execution_count": null,
      "metadata": {
        "id": "64aaf601-ff84-4436-8b4e-65f91cc0e876",
        "outputId": "1d3373f8-a377-4b64-8a70-1e60192ee74d"
      },
      "outputs": [
        {
          "data": {
            "text/plain": [
              "[['HighBP',\n",
              "  'HighChol',\n",
              "  'Smoke',\n",
              "  'HeartDiseaseorAttack',\n",
              "  'PhysicalActivity',\n",
              "  'Fruits',\n",
              "  'AnyHealthcare',\n",
              "  'NoDocbcCost',\n",
              "  'GenHlth',\n",
              "  'Sex',\n",
              "  'Age',\n",
              "  'Education'],\n",
              " ['Diabetes_012',\n",
              "  'HighChol',\n",
              "  'Smoke',\n",
              "  'PhysicalActivity',\n",
              "  'Fruits',\n",
              "  'Veggies',\n",
              "  'GenHlth',\n",
              "  'Age',\n",
              "  'Education'],\n",
              " ['Diabetes_012',\n",
              "  'HighBP',\n",
              "  'HighChol',\n",
              "  'BMI',\n",
              "  'Smoke',\n",
              "  'PhysicalActivity',\n",
              "  'Fruits',\n",
              "  'AlcoholConsump',\n",
              "  'GenHlth',\n",
              "  'DiffWalk',\n",
              "  'Sex',\n",
              "  'Age',\n",
              "  'Education'],\n",
              " ['Diabetes_012',\n",
              "  'HighBP',\n",
              "  'HighChol',\n",
              "  'BMI',\n",
              "  'Smoke',\n",
              "  'PhysicalActivity',\n",
              "  'Veggies',\n",
              "  'GenHlth',\n",
              "  'MentHlth',\n",
              "  'PhysHlth',\n",
              "  'DiffWalk',\n",
              "  'Sex',\n",
              "  'Age'],\n",
              " ['Diabetes_012',\n",
              "  'HighBP',\n",
              "  'HighChol',\n",
              "  'CholCheck',\n",
              "  'BMI',\n",
              "  'Smoke',\n",
              "  'PhysicalActivity',\n",
              "  'Veggies',\n",
              "  'AlcoholConsump',\n",
              "  'GenHlth',\n",
              "  'MentHlth',\n",
              "  'Age'],\n",
              " ['Diabetes_012',\n",
              "  'HighBP',\n",
              "  'HighChol',\n",
              "  'BMI',\n",
              "  'PhysicalActivity',\n",
              "  'Veggies',\n",
              "  'AlcoholConsump',\n",
              "  'GenHlth',\n",
              "  'Sex',\n",
              "  'Age',\n",
              "  'Education'],\n",
              " ['Diabetes_012',\n",
              "  'HighBP',\n",
              "  'HighChol',\n",
              "  'BMI',\n",
              "  'Smoke',\n",
              "  'HeartDiseaseorAttack',\n",
              "  'PhysicalActivity',\n",
              "  'Veggies',\n",
              "  'AlcoholConsump',\n",
              "  'AnyHealthcare',\n",
              "  'NoDocbcCost',\n",
              "  'GenHlth',\n",
              "  'Sex',\n",
              "  'Age',\n",
              "  'Education'],\n",
              " ['Diabetes_012',\n",
              "  'HighChol',\n",
              "  'BMI',\n",
              "  'PhysicalActivity',\n",
              "  'Fruits',\n",
              "  'AlcoholConsump',\n",
              "  'AnyHealthcare',\n",
              "  'NoDocbcCost',\n",
              "  'GenHlth',\n",
              "  'PhysHlth',\n",
              "  'DiffWalk',\n",
              "  'Sex',\n",
              "  'Education'],\n",
              " ['Diabetes_012',\n",
              "  'HighBP',\n",
              "  'HighChol',\n",
              "  'CholCheck',\n",
              "  'BMI',\n",
              "  'Smoke',\n",
              "  'Veggies',\n",
              "  'MentHlth',\n",
              "  'PhysHlth',\n",
              "  'DiffWalk',\n",
              "  'Sex',\n",
              "  'Age'],\n",
              " ['Diabetes_012',\n",
              "  'HighBP',\n",
              "  'HighChol',\n",
              "  'BMI',\n",
              "  'HeartDiseaseorAttack',\n",
              "  'PhysicalActivity',\n",
              "  'Fruits',\n",
              "  'Veggies',\n",
              "  'AlcoholConsump',\n",
              "  'AnyHealthcare',\n",
              "  'GenHlth',\n",
              "  'PhysHlth',\n",
              "  'DiffWalk',\n",
              "  'Sex',\n",
              "  'Age']]"
            ]
          },
          "execution_count": 289,
          "metadata": {},
          "output_type": "execute_result"
        }
      ],
      "source": [
        "features"
      ],
      "id": "64aaf601-ff84-4436-8b4e-65f91cc0e876"
    },
    {
      "cell_type": "code",
      "execution_count": null,
      "metadata": {
        "id": "fa0d8610-8210-4bb6-a643-26630f6f0f5e"
      },
      "outputs": [],
      "source": [
        "Stroke_data =pd.DataFrame(X[ ['Diabetes_012',\n",
        "  'HighBP',\n",
        "  'HighChol',\n",
        "  'CholCheck',\n",
        "  'BMI',\n",
        "  'Smoke',\n",
        "  'HeartDiseaseorAttack',\n",
        "  'PhysicalActivity',\n",
        "  'Fruits',\n",
        "  'Veggies',\n",
        "  'AlcoholConsump',\n",
        "  'NoDocbcCost',\n",
        "  'PhysHlth',\n",
        "  'DiffWalk',\n",
        "  'Sex',\n",
        "  'Age',\n",
        "  'Education']])\n",
        "Stroke_data['stroke']=y\n",
        "\n",
        "predictor_combined = TabularPredictor(\n",
        "    label=\"stroke\",\n",
        "\n",
        ").fit(\n",
        "    train_data=Stroke_data,\n",
        "\n",
        ")\n",
        "go_dataset7=predictor_combined.leaderboard()"
      ],
      "id": "fa0d8610-8210-4bb6-a643-26630f6f0f5e"
    },
    {
      "cell_type": "code",
      "execution_count": null,
      "metadata": {
        "id": "ee7b6d90-b6ac-460c-8417-ac5a0689bc33"
      },
      "outputs": [],
      "source": [],
      "id": "ee7b6d90-b6ac-460c-8417-ac5a0689bc33"
    },
    {
      "cell_type": "code",
      "execution_count": null,
      "metadata": {
        "id": "1fbb6f30-d349-4512-91f1-19b7f54faddb"
      },
      "outputs": [],
      "source": [],
      "id": "1fbb6f30-d349-4512-91f1-19b7f54faddb"
    },
    {
      "cell_type": "code",
      "execution_count": null,
      "metadata": {
        "id": "9f3e02b8-25b5-40e8-bef3-27599d1f09d6"
      },
      "outputs": [],
      "source": [],
      "id": "9f3e02b8-25b5-40e8-bef3-27599d1f09d6"
    },
    {
      "cell_type": "markdown",
      "metadata": {
        "id": "6a410423-5e57-4ef0-9ca7-b91092553b15"
      },
      "source": [
        "## Dataset 8"
      ],
      "id": "6a410423-5e57-4ef0-9ca7-b91092553b15"
    },
    {
      "cell_type": "code",
      "execution_count": null,
      "metadata": {
        "id": "7eb954bb-f183-413e-bbd6-985319c25c35"
      },
      "outputs": [],
      "source": [
        "stroke8 = pd.read_csv('stroke/stroke15.csv')\n",
        "troke8=preprocess_dataset(stroke8)\n",
        "X = stroke8.drop(['stroke'],axis=1)\n",
        "y = stroke8['stroke']\n",
        "\n",
        "from imblearn.over_sampling import SMOTE\n",
        "# Assuming X and y are your feature matrix and target variable, respectively\n",
        "smote = SMOTE()\n",
        "X, y = smote.fit_resample(X, y)\n",
        "X_train, X_test, y_train, y_test = train_test_split(X, y, test_size=0.2,random_state=42)"
      ],
      "id": "7eb954bb-f183-413e-bbd6-985319c25c35"
    },
    {
      "cell_type": "code",
      "execution_count": null,
      "metadata": {
        "id": "286b2206-2da1-44a5-b9f7-70568be8c034",
        "outputId": "73fbf99b-4819-4b9c-be23-ef0cf1f15bc0"
      },
      "outputs": [
        {
          "name": "stderr",
          "output_type": "stream",
          "text": [
            "Iterations: 100%|██████████| 10/10 [00:48<00:00,  4.85s/iteration]\n"
          ]
        }
      ],
      "source": [
        "num_iterations = 10\n",
        "results, features, dims, scores = run_go_optimization(num_iterations, X_train, y_train, X_test, y_test)\n"
      ],
      "id": "286b2206-2da1-44a5-b9f7-70568be8c034"
    },
    {
      "cell_type": "code",
      "execution_count": null,
      "metadata": {
        "id": "b8e17e98-bf68-4189-a5b9-983a3506ea77",
        "outputId": "46e0b40a-e7cd-45e6-c3aa-177c6e901981"
      },
      "outputs": [
        {
          "data": {
            "text/plain": [
              "[['age', 'hypertension'],\n",
              " ['gender',\n",
              "  'age',\n",
              "  'heart_disease',\n",
              "  'ever_married',\n",
              "  'Residence_type',\n",
              "  'avg_glucose_level',\n",
              "  'bmi',\n",
              "  'smoking_status'],\n",
              " ['age',\n",
              "  'ever_married',\n",
              "  'work_type',\n",
              "  'avg_glucose_level',\n",
              "  'bmi',\n",
              "  'smoking_status'],\n",
              " ['age', 'work_type'],\n",
              " ['gender',\n",
              "  'age',\n",
              "  'hypertension',\n",
              "  'heart_disease',\n",
              "  'ever_married',\n",
              "  'work_type',\n",
              "  'Residence_type',\n",
              "  'avg_glucose_level',\n",
              "  'bmi',\n",
              "  'smoking_status'],\n",
              " ['age', 'heart_disease', 'work_type'],\n",
              " ['age', 'ever_married'],\n",
              " ['age', 'work_type', 'avg_glucose_level', 'bmi', 'smoking_status'],\n",
              " ['age', 'avg_glucose_level', 'bmi', 'smoking_status'],\n",
              " ['gender',\n",
              "  'age',\n",
              "  'hypertension',\n",
              "  'ever_married',\n",
              "  'work_type',\n",
              "  'Residence_type',\n",
              "  'avg_glucose_level',\n",
              "  'smoking_status']]"
            ]
          },
          "execution_count": 292,
          "metadata": {},
          "output_type": "execute_result"
        }
      ],
      "source": [
        "features"
      ],
      "id": "b8e17e98-bf68-4189-a5b9-983a3506ea77"
    },
    {
      "cell_type": "code",
      "execution_count": null,
      "metadata": {
        "id": "9cd6cc0e-d6bc-4e90-8387-06f4e42448ac",
        "outputId": "85eba16c-2d42-4e95-8617-7fdda1c599bd"
      },
      "outputs": [
        {
          "name": "stderr",
          "output_type": "stream",
          "text": [
            "Iterations: 100%|██████████| 10/10 [00:37<00:00,  3.79s/iteration]\n"
          ]
        }
      ],
      "source": [
        "num_iterations = 10\n",
        "results, features, dims, scores = run_go_optimization(num_iterations, X_train, y_train, X_test, y_test)"
      ],
      "id": "9cd6cc0e-d6bc-4e90-8387-06f4e42448ac"
    },
    {
      "cell_type": "code",
      "execution_count": null,
      "metadata": {
        "id": "dbde2fa9-7144-4c65-b037-70a0c5019066",
        "outputId": "6dc69cd1-4d88-467f-8dec-4d6119d3fd4e"
      },
      "outputs": [
        {
          "data": {
            "text/plain": [
              "[['age', 'hypertension', 'heart_disease', 'ever_married'],\n",
              " ['age', 'Residence_type'],\n",
              " ['age', 'work_type', 'avg_glucose_level', 'bmi', 'smoking_status'],\n",
              " ['age', 'work_type'],\n",
              " ['age', 'hypertension', 'work_type', 'avg_glucose_level', 'bmi'],\n",
              " ['age'],\n",
              " ['age',\n",
              "  'hypertension',\n",
              "  'ever_married',\n",
              "  'avg_glucose_level',\n",
              "  'bmi',\n",
              "  'smoking_status'],\n",
              " ['age',\n",
              "  'hypertension',\n",
              "  'ever_married',\n",
              "  'Residence_type',\n",
              "  'avg_glucose_level',\n",
              "  'bmi'],\n",
              " ['age', 'ever_married'],\n",
              " ['age']]"
            ]
          },
          "execution_count": 295,
          "metadata": {},
          "output_type": "execute_result"
        }
      ],
      "source": [
        "features"
      ],
      "id": "dbde2fa9-7144-4c65-b037-70a0c5019066"
    },
    {
      "cell_type": "code",
      "execution_count": null,
      "metadata": {
        "id": "0e0a4d52-092b-4da8-acef-5bbb4aea896d",
        "outputId": "f6fd2a6c-2ba7-4ad2-d0e2-a0ad502c9acd"
      },
      "outputs": [
        {
          "name": "stderr",
          "output_type": "stream",
          "text": [
            "Iterations: 100%|██████████| 10/10 [00:43<00:00,  4.31s/iteration]\n"
          ]
        }
      ],
      "source": [
        "num_iterations = 10\n",
        "results, features, dims, scores = run_go_optimization(num_iterations, X_train, y_train, X_test, y_test)"
      ],
      "id": "0e0a4d52-092b-4da8-acef-5bbb4aea896d"
    },
    {
      "cell_type": "code",
      "execution_count": null,
      "metadata": {
        "id": "019dff5e-cf77-47ba-994f-11cf6740df1f",
        "outputId": "a8a8a45b-f296-43c8-b981-df2d4a8d4818"
      },
      "outputs": [
        {
          "data": {
            "text/plain": [
              "[['age',\n",
              "  'hypertension',\n",
              "  'heart_disease',\n",
              "  'avg_glucose_level',\n",
              "  'bmi',\n",
              "  'smoking_status'],\n",
              " ['age',\n",
              "  'hypertension',\n",
              "  'heart_disease',\n",
              "  'avg_glucose_level',\n",
              "  'smoking_status'],\n",
              " ['age',\n",
              "  'heart_disease',\n",
              "  'work_type',\n",
              "  'avg_glucose_level',\n",
              "  'bmi',\n",
              "  'smoking_status'],\n",
              " ['age',\n",
              "  'hypertension',\n",
              "  'work_type',\n",
              "  'Residence_type',\n",
              "  'avg_glucose_level',\n",
              "  'bmi',\n",
              "  'smoking_status'],\n",
              " ['age',\n",
              "  'hypertension',\n",
              "  'work_type',\n",
              "  'avg_glucose_level',\n",
              "  'bmi',\n",
              "  'smoking_status'],\n",
              " ['age',\n",
              "  'hypertension',\n",
              "  'work_type',\n",
              "  'avg_glucose_level',\n",
              "  'bmi',\n",
              "  'smoking_status'],\n",
              " ['gender', 'age', 'ever_married', 'Residence_type', 'avg_glucose_level'],\n",
              " ['age', 'hypertension', 'work_type'],\n",
              " ['age', 'ever_married'],\n",
              " ['age',\n",
              "  'heart_disease',\n",
              "  'ever_married',\n",
              "  'work_type',\n",
              "  'Residence_type',\n",
              "  'avg_glucose_level',\n",
              "  'smoking_status']]"
            ]
          },
          "execution_count": 297,
          "metadata": {},
          "output_type": "execute_result"
        }
      ],
      "source": [
        "features"
      ],
      "id": "019dff5e-cf77-47ba-994f-11cf6740df1f"
    },
    {
      "cell_type": "code",
      "execution_count": null,
      "metadata": {
        "id": "2397b160-5bb9-4cd1-aa9f-d89c12dcbfa5"
      },
      "outputs": [],
      "source": [
        "Stroke_data =pd.DataFrame(X[['age',\n",
        "  'heart_disease',\n",
        "  'ever_married',\n",
        "  'work_type',\n",
        "  'Residence_type',\n",
        "  'avg_glucose_level',\n",
        "  'smoking_status']])\n",
        "Stroke_data['stroke']=y\n",
        "\n",
        "predictor_combined = TabularPredictor(\n",
        "    label=\"stroke\",\n",
        "\n",
        ").fit(\n",
        "    train_data=Stroke_data,\n",
        "\n",
        ")\n",
        "go_dataset8=predictor_combined.leaderboard()"
      ],
      "id": "2397b160-5bb9-4cd1-aa9f-d89c12dcbfa5"
    },
    {
      "cell_type": "code",
      "execution_count": null,
      "metadata": {
        "id": "0b080b3e-9632-4f66-aec3-a6b0ddba0914"
      },
      "outputs": [],
      "source": [],
      "id": "0b080b3e-9632-4f66-aec3-a6b0ddba0914"
    },
    {
      "cell_type": "markdown",
      "metadata": {
        "id": "9fc3036f-e581-4b01-b48f-64a02203bc7b"
      },
      "source": [
        "## Gravitational Optimization"
      ],
      "id": "9fc3036f-e581-4b01-b48f-64a02203bc7b"
    },
    {
      "cell_type": "code",
      "execution_count": null,
      "metadata": {
        "id": "d04b9ada-44f5-4c86-ac91-77cbca4c3f88"
      },
      "outputs": [],
      "source": [
        "from zoofs import HarrisHawkOptimization\n",
        "def run_harris_optimization(num_iterations, X_train, y_train, X_test, y_test):\n",
        "    results_per_iteration = []\n",
        "    best_feature_lists = []\n",
        "    best_dims = []\n",
        "    best_scores = []\n",
        "\n",
        "    for _ in tqdm(range(num_iterations), desc=\"Iterations\", unit=\"iteration\"):\n",
        "        pso_object =  HarrisHawkOptimization(\n",
        "            objective_function=objective_function_topass,\n",
        "            n_iteration=100,\n",
        "            population_size=11,\n",
        "            logger=None,\n",
        "        )\n",
        "\n",
        "        knn_classifier = KNeighborsClassifier()\n",
        "\n",
        "        pso_object.fit(knn_classifier, X_train, y_train, X_test, y_test, verbose=False)\n",
        "\n",
        "\n",
        "        iteration_results = {\n",
        "            \"results_per_iteration\": pso_object.best_results_per_iteration,\n",
        "            \"best_dim_list\": pso_object.best_dim.tolist(),\n",
        "            \"best_feature_list\": pso_object.best_feature_list,\n",
        "            \"best_score\": pso_object.best_score\n",
        "        }\n",
        "\n",
        "        best_feature_list = pso_object.best_feature_list\n",
        "        best_dim = pso_object.best_dim\n",
        "        best_score = pso_object.best_score\n",
        "\n",
        "        results_per_iteration.append(iteration_results)\n",
        "        best_feature_lists.append(best_feature_list)\n",
        "        best_dims.append(best_dim.tolist())\n",
        "        best_scores.append(best_score)\n",
        "\n",
        "    return results_per_iteration, best_feature_lists, best_dims, best_scores"
      ],
      "id": "d04b9ada-44f5-4c86-ac91-77cbca4c3f88"
    },
    {
      "cell_type": "markdown",
      "metadata": {
        "id": "2b70722d-7e34-487f-a72d-add462d5ac60"
      },
      "source": [
        "## Dataset 1"
      ],
      "id": "2b70722d-7e34-487f-a72d-add462d5ac60"
    },
    {
      "cell_type": "code",
      "execution_count": null,
      "metadata": {
        "id": "e502dea3-9135-4892-a084-23d736ccb122"
      },
      "outputs": [],
      "source": [
        "stroke=pd.read_csv('stroke4.csv')\n",
        "stroke=preprocess_dataset(stroke)\n",
        "X = stroke.drop(['stroke'],axis=1)\n",
        "y = stroke['stroke']\n",
        "\n",
        "from imblearn.over_sampling import SMOTE\n",
        "# Assuming X and y are your feature matrix and target variable, respectively\n",
        "smote = SMOTE()\n",
        "X, y = smote.fit_resample(X, y)\n",
        "X_train, X_test, y_train, y_test = train_test_split(X, y, test_size=0.2,random_state=42)"
      ],
      "id": "e502dea3-9135-4892-a084-23d736ccb122"
    },
    {
      "cell_type": "code",
      "execution_count": null,
      "metadata": {
        "id": "452e8251-9b9c-45b0-b569-2daed44e0635",
        "outputId": "aa973971-1baf-43c5-d412-e377a1f38839"
      },
      "outputs": [
        {
          "name": "stderr",
          "output_type": "stream",
          "text": [
            "Iterations:  20%|██        | 1/5 [01:24<05:37, 84.43s/iteration]WARNING:root:1 individuals went zero\n",
            "WARNING:root:1 individuals went zero\n",
            "Iterations:  40%|████      | 2/5 [02:59<04:31, 90.46s/iteration]WARNING:root:1 individuals went zero\n",
            "Iterations: 100%|██████████| 5/5 [07:24<00:00, 88.85s/iteration]\n"
          ]
        }
      ],
      "source": [
        "num_iterations = 5\n",
        "results, features, dims, scores = run_harris_optimization(num_iterations, X_train, y_train, X_test, y_test)"
      ],
      "id": "452e8251-9b9c-45b0-b569-2daed44e0635"
    },
    {
      "cell_type": "code",
      "execution_count": null,
      "metadata": {
        "id": "9c168525-b6b1-4d69-935e-989cdfcb62c1",
        "outputId": "8c7bdf78-7d59-4dc7-e19f-ad7e7ccde6c8"
      },
      "outputs": [
        {
          "data": {
            "text/plain": [
              "[['gender',\n",
              "  'hypertension',\n",
              "  'heart_disease',\n",
              "  'ever_married',\n",
              "  'Residence_type',\n",
              "  'avg_glucose_level',\n",
              "  'bmi',\n",
              "  'smoking_status'],\n",
              " ['gender', 'age'],\n",
              " ['age', 'work_type'],\n",
              " ['gender',\n",
              "  'age',\n",
              "  'hypertension',\n",
              "  'ever_married',\n",
              "  'Residence_type',\n",
              "  'avg_glucose_level',\n",
              "  'bmi',\n",
              "  'smoking_status'],\n",
              " ['gender',\n",
              "  'age',\n",
              "  'hypertension',\n",
              "  'heart_disease',\n",
              "  'Residence_type',\n",
              "  'avg_glucose_level',\n",
              "  'bmi',\n",
              "  'smoking_status']]"
            ]
          },
          "execution_count": 419,
          "metadata": {},
          "output_type": "execute_result"
        }
      ],
      "source": [
        "features"
      ],
      "id": "9c168525-b6b1-4d69-935e-989cdfcb62c1"
    },
    {
      "cell_type": "code",
      "execution_count": null,
      "metadata": {
        "id": "8bda87f5-a5eb-47b9-a3b8-84a920382095"
      },
      "outputs": [],
      "source": [
        "num_iterations = 10\n",
        "results, features, dims, scores = run_harris_optimization(num_iterations, X_train, y_train, X_test, y_test)"
      ],
      "id": "8bda87f5-a5eb-47b9-a3b8-84a920382095"
    },
    {
      "cell_type": "code",
      "execution_count": null,
      "metadata": {
        "id": "b5f0e2e9-ec05-4527-9227-6232a07caf7e"
      },
      "outputs": [],
      "source": [
        "features"
      ],
      "id": "b5f0e2e9-ec05-4527-9227-6232a07caf7e"
    },
    {
      "cell_type": "code",
      "execution_count": null,
      "metadata": {
        "id": "37a81d74-8f67-44d1-b802-d01e475fa33e"
      },
      "outputs": [],
      "source": [
        "num_iterations = 10\n",
        "results, features, dims, scores = run_harris_optimization(num_iterations, X_train, y_train, X_test, y_test)"
      ],
      "id": "37a81d74-8f67-44d1-b802-d01e475fa33e"
    },
    {
      "cell_type": "code",
      "execution_count": null,
      "metadata": {
        "id": "4371acdb-e9f9-4747-9367-cd17af9cf01c"
      },
      "outputs": [],
      "source": [
        "features"
      ],
      "id": "4371acdb-e9f9-4747-9367-cd17af9cf01c"
    },
    {
      "cell_type": "code",
      "execution_count": null,
      "metadata": {
        "id": "f4144725-c79a-4fe7-9ada-6a010e2cda57",
        "outputId": "be487f98-f8db-4532-8c18-e241309b8415"
      },
      "outputs": [
        {
          "name": "stderr",
          "output_type": "stream",
          "text": [
            "No path specified. Models will be saved in: \"AutogluonModels\\ag-20230830_052546\\\"\n",
            "Beginning AutoGluon training ...\n",
            "AutoGluon will save models to \"AutogluonModels\\ag-20230830_052546\\\"\n",
            "AutoGluon Version:  0.8.2\n",
            "Python Version:     3.9.13\n",
            "Operating System:   Windows\n",
            "Platform Machine:   AMD64\n",
            "Platform Version:   10.0.19045\n",
            "Disk Space Avail:   9.43 GB / 255.46 GB (3.7%)\n",
            "\tWARNING: Available disk space is low and there is a risk that AutoGluon will run out of disk during fit, causing an exception. \n",
            "\tWe recommend a minimum available disk space of 10 GB, and large datasets may require more.\n",
            "Train Data Rows:    9722\n",
            "Train Data Columns: 8\n",
            "Label Column: stroke\n",
            "Preprocessing data ...\n",
            "AutoGluon infers your prediction problem is: 'binary' (because only two unique label-values observed).\n",
            "\t2 unique label values:  [1, 0]\n",
            "\tIf 'binary' is not the correct problem_type, please manually specify the problem_type parameter during predictor init (You may specify problem_type as one of: ['binary', 'multiclass', 'regression'])\n",
            "Selected class <--> label mapping:  class 1 = 1, class 0 = 0\n",
            "Using Feature Generators to preprocess the data ...\n",
            "Fitting AutoMLPipelineFeatureGenerator...\n",
            "\tAvailable Memory:                    986.29 MB\n",
            "\tTrain Data (Original)  Memory Usage: 0.51 MB (0.1% of available memory)\n",
            "\tInferring data type of each feature based on column values. Set feature_metadata_in to manually specify special dtypes of the features.\n",
            "\tStage 1 Generators:\n",
            "\t\tFitting AsTypeFeatureGenerator...\n",
            "\t\t\tNote: Converting 3 features to boolean dtype as they only contain 2 unique values.\n",
            "\tStage 2 Generators:\n",
            "\t\tFitting FillNaFeatureGenerator...\n",
            "\tStage 3 Generators:\n",
            "\t\tFitting IdentityFeatureGenerator...\n",
            "\tStage 4 Generators:\n",
            "\t\tFitting DropUniqueFeatureGenerator...\n",
            "\tStage 5 Generators:\n",
            "\t\tFitting DropDuplicatesFeatureGenerator...\n",
            "\tTypes of features in original data (raw dtype, special dtypes):\n",
            "\t\t('float', []) : 3 | ['age', 'avg_glucose_level', 'bmi']\n",
            "\t\t('int', [])   : 5 | ['gender', 'hypertension', 'heart_disease', 'Residence_type', 'smoking_status']\n",
            "\tTypes of features in processed data (raw dtype, special dtypes):\n",
            "\t\t('float', [])     : 3 | ['age', 'avg_glucose_level', 'bmi']\n",
            "\t\t('int', [])       : 2 | ['gender', 'smoking_status']\n",
            "\t\t('int', ['bool']) : 3 | ['hypertension', 'heart_disease', 'Residence_type']\n",
            "\t0.1s = Fit runtime\n",
            "\t8 features in original data used to generate 8 features in processed data.\n",
            "\tTrain Data (Processed) Memory Usage: 0.34 MB (0.0% of available memory)\n",
            "Data preprocessing and feature engineering runtime = 0.19s ...\n",
            "AutoGluon will gauge predictive performance using evaluation metric: 'accuracy'\n",
            "\tTo change this, specify the eval_metric parameter of Predictor()\n",
            "Automatically generating train/validation split with holdout_frac=0.1, Train Rows: 8749, Val Rows: 973\n",
            "User-specified model hyperparameters to be fit:\n",
            "{\n",
            "\t'NN_TORCH': {},\n",
            "\t'GBM': [{'extra_trees': True, 'ag_args': {'name_suffix': 'XT'}}, {}, 'GBMLarge'],\n",
            "\t'CAT': {},\n",
            "\t'XGB': {},\n",
            "\t'FASTAI': {},\n",
            "\t'RF': [{'criterion': 'gini', 'ag_args': {'name_suffix': 'Gini', 'problem_types': ['binary', 'multiclass']}}, {'criterion': 'entropy', 'ag_args': {'name_suffix': 'Entr', 'problem_types': ['binary', 'multiclass']}}, {'criterion': 'squared_error', 'ag_args': {'name_suffix': 'MSE', 'problem_types': ['regression', 'quantile']}}],\n",
            "\t'XT': [{'criterion': 'gini', 'ag_args': {'name_suffix': 'Gini', 'problem_types': ['binary', 'multiclass']}}, {'criterion': 'entropy', 'ag_args': {'name_suffix': 'Entr', 'problem_types': ['binary', 'multiclass']}}, {'criterion': 'squared_error', 'ag_args': {'name_suffix': 'MSE', 'problem_types': ['regression', 'quantile']}}],\n",
            "\t'KNN': [{'weights': 'uniform', 'ag_args': {'name_suffix': 'Unif'}}, {'weights': 'distance', 'ag_args': {'name_suffix': 'Dist'}}],\n",
            "}\n",
            "Fitting 13 L1 models ...\n",
            "Fitting model: KNeighborsUnif ...\n",
            "\t0.8941\t = Validation score   (accuracy)\n",
            "\t0.1s\t = Training   runtime\n",
            "\t0.02s\t = Validation runtime\n",
            "Fitting model: KNeighborsDist ...\n",
            "\t0.9003\t = Validation score   (accuracy)\n",
            "\t0.02s\t = Training   runtime\n",
            "\t0.01s\t = Validation runtime\n",
            "Fitting model: LightGBMXT ...\n",
            "Warning: Low available memory may cause OOM error if training continues\n",
            "Available Memory: 457 MB\n",
            "Estimated GBM model size: 0 MB\n",
            "Warning: Early stopped GBM model prior to optimal result to avoid OOM error. Please increase available memory to avoid subpar model quality.\n",
            "\t0.7975\t = Validation score   (accuracy)\n",
            "\t2.14s\t = Training   runtime\n",
            "\t0.01s\t = Validation runtime\n",
            "Fitting model: LightGBM ...\n",
            "Warning: Low available memory may cause OOM error if training continues\n",
            "Available Memory: 461 MB\n",
            "Estimated GBM model size: 0 MB\n",
            "Warning: Early stopped GBM model prior to optimal result to avoid OOM error. Please increase available memory to avoid subpar model quality.\n",
            "\t0.8376\t = Validation score   (accuracy)\n",
            "\t0.29s\t = Training   runtime\n",
            "\t0.0s\t = Validation runtime\n",
            "Fitting model: RandomForestGini ...\n",
            "\t0.9455\t = Validation score   (accuracy)\n",
            "\t2.14s\t = Training   runtime\n",
            "\t0.13s\t = Validation runtime\n",
            "Fitting model: RandomForestEntr ...\n",
            "\t0.9435\t = Validation score   (accuracy)\n",
            "\t2.02s\t = Training   runtime\n",
            "\t0.13s\t = Validation runtime\n",
            "Fitting model: CatBoost ...\n",
            "\t0.9651\t = Validation score   (accuracy)\n",
            "\t36.08s\t = Training   runtime\n",
            "\t0.02s\t = Validation runtime\n",
            "Fitting model: ExtraTreesGini ...\n",
            "\t0.9435\t = Validation score   (accuracy)\n",
            "\t1.06s\t = Training   runtime\n",
            "\t0.11s\t = Validation runtime\n",
            "Fitting model: ExtraTreesEntr ...\n",
            "\t0.9445\t = Validation score   (accuracy)\n",
            "\t1.06s\t = Training   runtime\n",
            "\t0.11s\t = Validation runtime\n",
            "Fitting model: NeuralNetFastAI ...\n",
            "\t0.8808\t = Validation score   (accuracy)\n",
            "\t14.19s\t = Training   runtime\n",
            "\t0.04s\t = Validation runtime\n",
            "Fitting model: XGBoost ...\n",
            "\t0.9527\t = Validation score   (accuracy)\n",
            "\t1.39s\t = Training   runtime\n",
            "\t0.03s\t = Validation runtime\n",
            "Fitting model: NeuralNetTorch ...\n",
            "\t0.9301\t = Validation score   (accuracy)\n",
            "\t147.93s\t = Training   runtime\n",
            "\t0.03s\t = Validation runtime\n",
            "Fitting model: LightGBMLarge ...\n",
            "\t0.9681\t = Validation score   (accuracy)\n",
            "\t5.19s\t = Training   runtime\n",
            "\t0.05s\t = Validation runtime\n",
            "Fitting model: WeightedEnsemble_L2 ...\n",
            "\t0.9702\t = Validation score   (accuracy)\n",
            "\t1.39s\t = Training   runtime\n",
            "\t0.0s\t = Validation runtime\n",
            "AutoGluon training complete, total runtime = 217.39s ... Best model: \"WeightedEnsemble_L2\"\n",
            "TabularPredictor saved. To load, use: predictor = TabularPredictor.load(\"AutogluonModels\\ag-20230830_052546\\\")\n"
          ]
        },
        {
          "name": "stdout",
          "output_type": "stream",
          "text": [
            "                  model  score_val  pred_time_val    fit_time  pred_time_val_marginal  fit_time_marginal  stack_level  can_infer  fit_order\n",
            "0   WeightedEnsemble_L2   0.970195       0.170766    7.644138                0.004987           1.392821            2       True         14\n",
            "1         LightGBMLarge   0.968140       0.053855    5.191427                0.053855           5.191427            1       True         13\n",
            "2              CatBoost   0.965057       0.019838   36.077355                0.019838          36.077355            1       True          7\n",
            "3               XGBoost   0.952724       0.025927    1.392984                0.025927           1.392984            1       True         11\n",
            "4      RandomForestGini   0.945529       0.131647    2.140602                0.131647           2.140602            1       True          5\n",
            "5        ExtraTreesEntr   0.944502       0.111923    1.059890                0.111923           1.059890            1       True          9\n",
            "6        ExtraTreesGini   0.943474       0.106682    1.060714                0.106682           1.060714            1       True          8\n",
            "7      RandomForestEntr   0.943474       0.127659    2.016608                0.127659           2.016608            1       True          6\n",
            "8        NeuralNetTorch   0.930113       0.025931  147.931931                0.025931         147.931931            1       True         12\n",
            "9        KNeighborsDist   0.900308       0.011968    0.015957                0.011968           0.015957            1       True          2\n",
            "10       KNeighborsUnif   0.894142       0.021939    0.101730                0.021939           0.101730            1       True          1\n",
            "11      NeuralNetFastAI   0.880781       0.035903   14.192951                0.035903          14.192951            1       True         10\n",
            "12             LightGBM   0.837616       0.004986    0.287232                0.004986           0.287232            1       True          4\n",
            "13           LightGBMXT   0.797533       0.005983    2.138368                0.005983           2.138368            1       True          3\n"
          ]
        }
      ],
      "source": [
        "Stroke_data =pd.DataFrame(X[ ['gender',\n",
        "  'age',\n",
        "  'hypertension',\n",
        "  'heart_disease',\n",
        "  'Residence_type',\n",
        "  'avg_glucose_level',\n",
        "  'bmi',\n",
        "  'smoking_status']])\n",
        "Stroke_data['stroke']=y\n",
        "predictor = TabularPredictor(\n",
        "    label=\"stroke\",\n",
        "\n",
        ").fit(\n",
        "    train_data=Stroke_data,\n",
        "\n",
        ")\n",
        "harris_dataset1=predictor.leaderboard()"
      ],
      "id": "f4144725-c79a-4fe7-9ada-6a010e2cda57"
    },
    {
      "cell_type": "code",
      "execution_count": null,
      "metadata": {
        "id": "15c3aba0-1707-4633-b40d-cde3dc4e1311"
      },
      "outputs": [],
      "source": [],
      "id": "15c3aba0-1707-4633-b40d-cde3dc4e1311"
    },
    {
      "cell_type": "markdown",
      "metadata": {
        "id": "44d38700-db30-461a-8327-9b15508b25ab"
      },
      "source": [
        "## Visualizations"
      ],
      "id": "44d38700-db30-461a-8327-9b15508b25ab"
    },
    {
      "cell_type": "markdown",
      "metadata": {
        "id": "f4b93173-979d-4676-bd1b-cd0b3cc280bf"
      },
      "source": [
        "### DA VRS CGWDA"
      ],
      "id": "f4b93173-979d-4676-bd1b-cd0b3cc280bf"
    },
    {
      "cell_type": "code",
      "source": [
        "import pandas as pd\n",
        "\n",
        "# List of CSV file names\n",
        "csv_names = ['da', 'cgowda', 'grey', 'pso', 'go']\n",
        "\n",
        "# Loop through each CSV name\n",
        "for name in csv_names:\n",
        "    for i in range(1, 7):\n",
        "        # Construct the CSV file name using the naming convention\n",
        "        file_name = f\"{name}{i}.csv\"\n",
        "\n",
        "        # Read the CSV file using pandas and create a variable with a similar name\n",
        "        variable_name = f\"{name}{i}\"\n",
        "        globals()[variable_name] = pd.read_csv(file_name)\n",
        "\n",
        "        # Print a message to indicate the file has been processed and stored as a variable\n",
        "        print(f\"Processed {file_name} and stored as {variable_name}\")\n",
        "\n",
        "# You can now access each DataFrame using its corresponding variable name, e.g., da1, cgwo2, etc.\n"
      ],
      "metadata": {
        "colab": {
          "base_uri": "https://localhost:8080/"
        },
        "id": "VRq0aTgfeWNv",
        "outputId": "ed982b70-cdaf-416d-901f-6920c3e3590a"
      },
      "id": "VRq0aTgfeWNv",
      "execution_count": 11,
      "outputs": [
        {
          "output_type": "stream",
          "name": "stdout",
          "text": [
            "Processed da1.csv and stored as da1\n",
            "Processed da2.csv and stored as da2\n",
            "Processed da3.csv and stored as da3\n",
            "Processed da4.csv and stored as da4\n",
            "Processed da5.csv and stored as da5\n",
            "Processed da6.csv and stored as da6\n",
            "Processed cgowda1.csv and stored as cgowda1\n",
            "Processed cgowda2.csv and stored as cgowda2\n",
            "Processed cgowda3.csv and stored as cgowda3\n",
            "Processed cgowda4.csv and stored as cgowda4\n",
            "Processed cgowda5.csv and stored as cgowda5\n",
            "Processed cgowda6.csv and stored as cgowda6\n",
            "Processed grey1.csv and stored as grey1\n",
            "Processed grey2.csv and stored as grey2\n",
            "Processed grey3.csv and stored as grey3\n",
            "Processed grey4.csv and stored as grey4\n",
            "Processed grey5.csv and stored as grey5\n",
            "Processed grey6.csv and stored as grey6\n",
            "Processed pso1.csv and stored as pso1\n",
            "Processed pso2.csv and stored as pso2\n",
            "Processed pso3.csv and stored as pso3\n",
            "Processed pso4.csv and stored as pso4\n",
            "Processed pso5.csv and stored as pso5\n",
            "Processed pso6.csv and stored as pso6\n",
            "Processed go1.csv and stored as go1\n",
            "Processed go2.csv and stored as go2\n",
            "Processed go3.csv and stored as go3\n",
            "Processed go4.csv and stored as go4\n",
            "Processed go5.csv and stored as go5\n",
            "Processed go6.csv and stored as go6\n"
          ]
        }
      ]
    },
    {
      "cell_type": "code",
      "source": [
        "cgowda1"
      ],
      "metadata": {
        "colab": {
          "base_uri": "https://localhost:8080/",
          "height": 488
        },
        "id": "AFsiPxKig2PT",
        "outputId": "ed4e53ad-7b2e-4402-e1c2-a8a9113334e8"
      },
      "id": "AFsiPxKig2PT",
      "execution_count": 12,
      "outputs": [
        {
          "output_type": "execute_result",
          "data": {
            "text/plain": [
              "                  model  score_val  pred_time_val   fit_time  \\\n",
              "0   WeightedEnsemble_L2   0.974306       0.767453  44.179704   \n",
              "1              LightGBM   0.968140       0.220406   5.813602   \n",
              "2              CatBoost   0.967112       0.023121  24.667517   \n",
              "3         LightGBMLarge   0.967112       0.115362   3.192301   \n",
              "4      RandomForestEntr   0.956835       0.281702   9.550698   \n",
              "5      RandomForestGini   0.955807       0.277325   8.139713   \n",
              "6               XGBoost   0.953751       0.068912   4.129819   \n",
              "7        ExtraTreesEntr   0.943474       0.239711   2.831691   \n",
              "8            LightGBMXT   0.943474       0.994061  24.953032   \n",
              "9        ExtraTreesGini   0.942446       0.215776   3.527164   \n",
              "10       NeuralNetTorch   0.918808       0.026297  65.085146   \n",
              "11       KNeighborsDist   0.900308       0.111700   0.059242   \n",
              "12       KNeighborsUnif   0.895170       0.036113   8.165246   \n",
              "13      NeuralNetFastAI   0.873587       0.049260  27.434701   \n",
              "\n",
              "    pred_time_val_marginal  fit_time_marginal  stack_level  can_infer  \\\n",
              "0                 0.002513           1.316195            2       True   \n",
              "1                 0.220406           5.813602            1       True   \n",
              "2                 0.023121          24.667517            1       True   \n",
              "3                 0.115362           3.192301            1       True   \n",
              "4                 0.281702           9.550698            1       True   \n",
              "5                 0.277325           8.139713            1       True   \n",
              "6                 0.068912           4.129819            1       True   \n",
              "7                 0.239711           2.831691            1       True   \n",
              "8                 0.994061          24.953032            1       True   \n",
              "9                 0.215776           3.527164            1       True   \n",
              "10                0.026297          65.085146            1       True   \n",
              "11                0.111700           0.059242            1       True   \n",
              "12                0.036113           8.165246            1       True   \n",
              "13                0.049260          27.434701            1       True   \n",
              "\n",
              "    fit_order  \n",
              "0          14  \n",
              "1           4  \n",
              "2           7  \n",
              "3          13  \n",
              "4           6  \n",
              "5           5  \n",
              "6          11  \n",
              "7           9  \n",
              "8           3  \n",
              "9           8  \n",
              "10         12  \n",
              "11          2  \n",
              "12          1  \n",
              "13         10  "
            ],
            "text/html": [
              "\n",
              "  <div id=\"df-9e5b9691-2013-41c8-b233-615a7f9b75ee\" class=\"colab-df-container\">\n",
              "    <div>\n",
              "<style scoped>\n",
              "    .dataframe tbody tr th:only-of-type {\n",
              "        vertical-align: middle;\n",
              "    }\n",
              "\n",
              "    .dataframe tbody tr th {\n",
              "        vertical-align: top;\n",
              "    }\n",
              "\n",
              "    .dataframe thead th {\n",
              "        text-align: right;\n",
              "    }\n",
              "</style>\n",
              "<table border=\"1\" class=\"dataframe\">\n",
              "  <thead>\n",
              "    <tr style=\"text-align: right;\">\n",
              "      <th></th>\n",
              "      <th>model</th>\n",
              "      <th>score_val</th>\n",
              "      <th>pred_time_val</th>\n",
              "      <th>fit_time</th>\n",
              "      <th>pred_time_val_marginal</th>\n",
              "      <th>fit_time_marginal</th>\n",
              "      <th>stack_level</th>\n",
              "      <th>can_infer</th>\n",
              "      <th>fit_order</th>\n",
              "    </tr>\n",
              "  </thead>\n",
              "  <tbody>\n",
              "    <tr>\n",
              "      <th>0</th>\n",
              "      <td>WeightedEnsemble_L2</td>\n",
              "      <td>0.974306</td>\n",
              "      <td>0.767453</td>\n",
              "      <td>44.179704</td>\n",
              "      <td>0.002513</td>\n",
              "      <td>1.316195</td>\n",
              "      <td>2</td>\n",
              "      <td>True</td>\n",
              "      <td>14</td>\n",
              "    </tr>\n",
              "    <tr>\n",
              "      <th>1</th>\n",
              "      <td>LightGBM</td>\n",
              "      <td>0.968140</td>\n",
              "      <td>0.220406</td>\n",
              "      <td>5.813602</td>\n",
              "      <td>0.220406</td>\n",
              "      <td>5.813602</td>\n",
              "      <td>1</td>\n",
              "      <td>True</td>\n",
              "      <td>4</td>\n",
              "    </tr>\n",
              "    <tr>\n",
              "      <th>2</th>\n",
              "      <td>CatBoost</td>\n",
              "      <td>0.967112</td>\n",
              "      <td>0.023121</td>\n",
              "      <td>24.667517</td>\n",
              "      <td>0.023121</td>\n",
              "      <td>24.667517</td>\n",
              "      <td>1</td>\n",
              "      <td>True</td>\n",
              "      <td>7</td>\n",
              "    </tr>\n",
              "    <tr>\n",
              "      <th>3</th>\n",
              "      <td>LightGBMLarge</td>\n",
              "      <td>0.967112</td>\n",
              "      <td>0.115362</td>\n",
              "      <td>3.192301</td>\n",
              "      <td>0.115362</td>\n",
              "      <td>3.192301</td>\n",
              "      <td>1</td>\n",
              "      <td>True</td>\n",
              "      <td>13</td>\n",
              "    </tr>\n",
              "    <tr>\n",
              "      <th>4</th>\n",
              "      <td>RandomForestEntr</td>\n",
              "      <td>0.956835</td>\n",
              "      <td>0.281702</td>\n",
              "      <td>9.550698</td>\n",
              "      <td>0.281702</td>\n",
              "      <td>9.550698</td>\n",
              "      <td>1</td>\n",
              "      <td>True</td>\n",
              "      <td>6</td>\n",
              "    </tr>\n",
              "    <tr>\n",
              "      <th>5</th>\n",
              "      <td>RandomForestGini</td>\n",
              "      <td>0.955807</td>\n",
              "      <td>0.277325</td>\n",
              "      <td>8.139713</td>\n",
              "      <td>0.277325</td>\n",
              "      <td>8.139713</td>\n",
              "      <td>1</td>\n",
              "      <td>True</td>\n",
              "      <td>5</td>\n",
              "    </tr>\n",
              "    <tr>\n",
              "      <th>6</th>\n",
              "      <td>XGBoost</td>\n",
              "      <td>0.953751</td>\n",
              "      <td>0.068912</td>\n",
              "      <td>4.129819</td>\n",
              "      <td>0.068912</td>\n",
              "      <td>4.129819</td>\n",
              "      <td>1</td>\n",
              "      <td>True</td>\n",
              "      <td>11</td>\n",
              "    </tr>\n",
              "    <tr>\n",
              "      <th>7</th>\n",
              "      <td>ExtraTreesEntr</td>\n",
              "      <td>0.943474</td>\n",
              "      <td>0.239711</td>\n",
              "      <td>2.831691</td>\n",
              "      <td>0.239711</td>\n",
              "      <td>2.831691</td>\n",
              "      <td>1</td>\n",
              "      <td>True</td>\n",
              "      <td>9</td>\n",
              "    </tr>\n",
              "    <tr>\n",
              "      <th>8</th>\n",
              "      <td>LightGBMXT</td>\n",
              "      <td>0.943474</td>\n",
              "      <td>0.994061</td>\n",
              "      <td>24.953032</td>\n",
              "      <td>0.994061</td>\n",
              "      <td>24.953032</td>\n",
              "      <td>1</td>\n",
              "      <td>True</td>\n",
              "      <td>3</td>\n",
              "    </tr>\n",
              "    <tr>\n",
              "      <th>9</th>\n",
              "      <td>ExtraTreesGini</td>\n",
              "      <td>0.942446</td>\n",
              "      <td>0.215776</td>\n",
              "      <td>3.527164</td>\n",
              "      <td>0.215776</td>\n",
              "      <td>3.527164</td>\n",
              "      <td>1</td>\n",
              "      <td>True</td>\n",
              "      <td>8</td>\n",
              "    </tr>\n",
              "    <tr>\n",
              "      <th>10</th>\n",
              "      <td>NeuralNetTorch</td>\n",
              "      <td>0.918808</td>\n",
              "      <td>0.026297</td>\n",
              "      <td>65.085146</td>\n",
              "      <td>0.026297</td>\n",
              "      <td>65.085146</td>\n",
              "      <td>1</td>\n",
              "      <td>True</td>\n",
              "      <td>12</td>\n",
              "    </tr>\n",
              "    <tr>\n",
              "      <th>11</th>\n",
              "      <td>KNeighborsDist</td>\n",
              "      <td>0.900308</td>\n",
              "      <td>0.111700</td>\n",
              "      <td>0.059242</td>\n",
              "      <td>0.111700</td>\n",
              "      <td>0.059242</td>\n",
              "      <td>1</td>\n",
              "      <td>True</td>\n",
              "      <td>2</td>\n",
              "    </tr>\n",
              "    <tr>\n",
              "      <th>12</th>\n",
              "      <td>KNeighborsUnif</td>\n",
              "      <td>0.895170</td>\n",
              "      <td>0.036113</td>\n",
              "      <td>8.165246</td>\n",
              "      <td>0.036113</td>\n",
              "      <td>8.165246</td>\n",
              "      <td>1</td>\n",
              "      <td>True</td>\n",
              "      <td>1</td>\n",
              "    </tr>\n",
              "    <tr>\n",
              "      <th>13</th>\n",
              "      <td>NeuralNetFastAI</td>\n",
              "      <td>0.873587</td>\n",
              "      <td>0.049260</td>\n",
              "      <td>27.434701</td>\n",
              "      <td>0.049260</td>\n",
              "      <td>27.434701</td>\n",
              "      <td>1</td>\n",
              "      <td>True</td>\n",
              "      <td>10</td>\n",
              "    </tr>\n",
              "  </tbody>\n",
              "</table>\n",
              "</div>\n",
              "    <div class=\"colab-df-buttons\">\n",
              "\n",
              "  <div class=\"colab-df-container\">\n",
              "    <button class=\"colab-df-convert\" onclick=\"convertToInteractive('df-9e5b9691-2013-41c8-b233-615a7f9b75ee')\"\n",
              "            title=\"Convert this dataframe to an interactive table.\"\n",
              "            style=\"display:none;\">\n",
              "\n",
              "  <svg xmlns=\"http://www.w3.org/2000/svg\" height=\"24px\" viewBox=\"0 -960 960 960\">\n",
              "    <path d=\"M120-120v-720h720v720H120Zm60-500h600v-160H180v160Zm220 220h160v-160H400v160Zm0 220h160v-160H400v160ZM180-400h160v-160H180v160Zm440 0h160v-160H620v160ZM180-180h160v-160H180v160Zm440 0h160v-160H620v160Z\"/>\n",
              "  </svg>\n",
              "    </button>\n",
              "\n",
              "  <style>\n",
              "    .colab-df-container {\n",
              "      display:flex;\n",
              "      gap: 12px;\n",
              "    }\n",
              "\n",
              "    .colab-df-convert {\n",
              "      background-color: #E8F0FE;\n",
              "      border: none;\n",
              "      border-radius: 50%;\n",
              "      cursor: pointer;\n",
              "      display: none;\n",
              "      fill: #1967D2;\n",
              "      height: 32px;\n",
              "      padding: 0 0 0 0;\n",
              "      width: 32px;\n",
              "    }\n",
              "\n",
              "    .colab-df-convert:hover {\n",
              "      background-color: #E2EBFA;\n",
              "      box-shadow: 0px 1px 2px rgba(60, 64, 67, 0.3), 0px 1px 3px 1px rgba(60, 64, 67, 0.15);\n",
              "      fill: #174EA6;\n",
              "    }\n",
              "\n",
              "    .colab-df-buttons div {\n",
              "      margin-bottom: 4px;\n",
              "    }\n",
              "\n",
              "    [theme=dark] .colab-df-convert {\n",
              "      background-color: #3B4455;\n",
              "      fill: #D2E3FC;\n",
              "    }\n",
              "\n",
              "    [theme=dark] .colab-df-convert:hover {\n",
              "      background-color: #434B5C;\n",
              "      box-shadow: 0px 1px 3px 1px rgba(0, 0, 0, 0.15);\n",
              "      filter: drop-shadow(0px 1px 2px rgba(0, 0, 0, 0.3));\n",
              "      fill: #FFFFFF;\n",
              "    }\n",
              "  </style>\n",
              "\n",
              "    <script>\n",
              "      const buttonEl =\n",
              "        document.querySelector('#df-9e5b9691-2013-41c8-b233-615a7f9b75ee button.colab-df-convert');\n",
              "      buttonEl.style.display =\n",
              "        google.colab.kernel.accessAllowed ? 'block' : 'none';\n",
              "\n",
              "      async function convertToInteractive(key) {\n",
              "        const element = document.querySelector('#df-9e5b9691-2013-41c8-b233-615a7f9b75ee');\n",
              "        const dataTable =\n",
              "          await google.colab.kernel.invokeFunction('convertToInteractive',\n",
              "                                                    [key], {});\n",
              "        if (!dataTable) return;\n",
              "\n",
              "        const docLinkHtml = 'Like what you see? Visit the ' +\n",
              "          '<a target=\"_blank\" href=https://colab.research.google.com/notebooks/data_table.ipynb>data table notebook</a>'\n",
              "          + ' to learn more about interactive tables.';\n",
              "        element.innerHTML = '';\n",
              "        dataTable['output_type'] = 'display_data';\n",
              "        await google.colab.output.renderOutput(dataTable, element);\n",
              "        const docLink = document.createElement('div');\n",
              "        docLink.innerHTML = docLinkHtml;\n",
              "        element.appendChild(docLink);\n",
              "      }\n",
              "    </script>\n",
              "  </div>\n",
              "\n",
              "\n",
              "<div id=\"df-d3e30788-957f-47f6-a0d5-593e156834b4\">\n",
              "  <button class=\"colab-df-quickchart\" onclick=\"quickchart('df-d3e30788-957f-47f6-a0d5-593e156834b4')\"\n",
              "            title=\"Suggest charts.\"\n",
              "            style=\"display:none;\">\n",
              "\n",
              "<svg xmlns=\"http://www.w3.org/2000/svg\" height=\"24px\"viewBox=\"0 0 24 24\"\n",
              "     width=\"24px\">\n",
              "    <g>\n",
              "        <path d=\"M19 3H5c-1.1 0-2 .9-2 2v14c0 1.1.9 2 2 2h14c1.1 0 2-.9 2-2V5c0-1.1-.9-2-2-2zM9 17H7v-7h2v7zm4 0h-2V7h2v10zm4 0h-2v-4h2v4z\"/>\n",
              "    </g>\n",
              "</svg>\n",
              "  </button>\n",
              "\n",
              "<style>\n",
              "  .colab-df-quickchart {\n",
              "      --bg-color: #E8F0FE;\n",
              "      --fill-color: #1967D2;\n",
              "      --hover-bg-color: #E2EBFA;\n",
              "      --hover-fill-color: #174EA6;\n",
              "      --disabled-fill-color: #AAA;\n",
              "      --disabled-bg-color: #DDD;\n",
              "  }\n",
              "\n",
              "  [theme=dark] .colab-df-quickchart {\n",
              "      --bg-color: #3B4455;\n",
              "      --fill-color: #D2E3FC;\n",
              "      --hover-bg-color: #434B5C;\n",
              "      --hover-fill-color: #FFFFFF;\n",
              "      --disabled-bg-color: #3B4455;\n",
              "      --disabled-fill-color: #666;\n",
              "  }\n",
              "\n",
              "  .colab-df-quickchart {\n",
              "    background-color: var(--bg-color);\n",
              "    border: none;\n",
              "    border-radius: 50%;\n",
              "    cursor: pointer;\n",
              "    display: none;\n",
              "    fill: var(--fill-color);\n",
              "    height: 32px;\n",
              "    padding: 0;\n",
              "    width: 32px;\n",
              "  }\n",
              "\n",
              "  .colab-df-quickchart:hover {\n",
              "    background-color: var(--hover-bg-color);\n",
              "    box-shadow: 0 1px 2px rgba(60, 64, 67, 0.3), 0 1px 3px 1px rgba(60, 64, 67, 0.15);\n",
              "    fill: var(--button-hover-fill-color);\n",
              "  }\n",
              "\n",
              "  .colab-df-quickchart-complete:disabled,\n",
              "  .colab-df-quickchart-complete:disabled:hover {\n",
              "    background-color: var(--disabled-bg-color);\n",
              "    fill: var(--disabled-fill-color);\n",
              "    box-shadow: none;\n",
              "  }\n",
              "\n",
              "  .colab-df-spinner {\n",
              "    border: 2px solid var(--fill-color);\n",
              "    border-color: transparent;\n",
              "    border-bottom-color: var(--fill-color);\n",
              "    animation:\n",
              "      spin 1s steps(1) infinite;\n",
              "  }\n",
              "\n",
              "  @keyframes spin {\n",
              "    0% {\n",
              "      border-color: transparent;\n",
              "      border-bottom-color: var(--fill-color);\n",
              "      border-left-color: var(--fill-color);\n",
              "    }\n",
              "    20% {\n",
              "      border-color: transparent;\n",
              "      border-left-color: var(--fill-color);\n",
              "      border-top-color: var(--fill-color);\n",
              "    }\n",
              "    30% {\n",
              "      border-color: transparent;\n",
              "      border-left-color: var(--fill-color);\n",
              "      border-top-color: var(--fill-color);\n",
              "      border-right-color: var(--fill-color);\n",
              "    }\n",
              "    40% {\n",
              "      border-color: transparent;\n",
              "      border-right-color: var(--fill-color);\n",
              "      border-top-color: var(--fill-color);\n",
              "    }\n",
              "    60% {\n",
              "      border-color: transparent;\n",
              "      border-right-color: var(--fill-color);\n",
              "    }\n",
              "    80% {\n",
              "      border-color: transparent;\n",
              "      border-right-color: var(--fill-color);\n",
              "      border-bottom-color: var(--fill-color);\n",
              "    }\n",
              "    90% {\n",
              "      border-color: transparent;\n",
              "      border-bottom-color: var(--fill-color);\n",
              "    }\n",
              "  }\n",
              "</style>\n",
              "\n",
              "  <script>\n",
              "    async function quickchart(key) {\n",
              "      const quickchartButtonEl =\n",
              "        document.querySelector('#' + key + ' button');\n",
              "      quickchartButtonEl.disabled = true;  // To prevent multiple clicks.\n",
              "      quickchartButtonEl.classList.add('colab-df-spinner');\n",
              "      try {\n",
              "        const charts = await google.colab.kernel.invokeFunction(\n",
              "            'suggestCharts', [key], {});\n",
              "      } catch (error) {\n",
              "        console.error('Error during call to suggestCharts:', error);\n",
              "      }\n",
              "      quickchartButtonEl.classList.remove('colab-df-spinner');\n",
              "      quickchartButtonEl.classList.add('colab-df-quickchart-complete');\n",
              "    }\n",
              "    (() => {\n",
              "      let quickchartButtonEl =\n",
              "        document.querySelector('#df-d3e30788-957f-47f6-a0d5-593e156834b4 button');\n",
              "      quickchartButtonEl.style.display =\n",
              "        google.colab.kernel.accessAllowed ? 'block' : 'none';\n",
              "    })();\n",
              "  </script>\n",
              "</div>\n",
              "    </div>\n",
              "  </div>\n"
            ]
          },
          "metadata": {},
          "execution_count": 12
        }
      ]
    },
    {
      "cell_type": "code",
      "source": [],
      "metadata": {
        "id": "7_WDDA1dozL6"
      },
      "id": "7_WDDA1dozL6",
      "execution_count": null,
      "outputs": []
    },
    {
      "cell_type": "code",
      "source": [
        "%cd 'Results from Experiments'"
      ],
      "metadata": {
        "colab": {
          "base_uri": "https://localhost:8080/"
        },
        "id": "f4xO3PVHozPf",
        "outputId": "631328ed-98fe-4ccd-d1b3-4fc3e3d63250"
      },
      "id": "f4xO3PVHozPf",
      "execution_count": 10,
      "outputs": [
        {
          "output_type": "stream",
          "name": "stdout",
          "text": [
            "/content/drive/MyDrive/Colab Notebooks/Results from Experiments\n"
          ]
        }
      ]
    },
    {
      "cell_type": "code",
      "execution_count": 13,
      "metadata": {
        "id": "d8d5369c-d9c7-436c-b5cf-e58ea6f684d8"
      },
      "outputs": [],
      "source": [
        "davrscgwda=pd.merge(cgowda1[['model','score_val']],da1[['model','score_val']], on='model', how='inner')"
      ],
      "id": "d8d5369c-d9c7-436c-b5cf-e58ea6f684d8"
    },
    {
      "cell_type": "code",
      "execution_count": null,
      "metadata": {
        "id": "84a66a7b-c2a7-4a86-8f5a-f79e213c3617"
      },
      "outputs": [],
      "source": [],
      "id": "84a66a7b-c2a7-4a86-8f5a-f79e213c3617"
    },
    {
      "cell_type": "code",
      "execution_count": 14,
      "metadata": {
        "id": "808c15cd-505e-4398-8a98-3b03f533828d"
      },
      "outputs": [],
      "source": [
        "coulumns={'model':'Models','score_val_x':'CGWODA','score_val_y':'DA'}"
      ],
      "id": "808c15cd-505e-4398-8a98-3b03f533828d"
    },
    {
      "cell_type": "code",
      "execution_count": 15,
      "metadata": {
        "id": "db910d80-f410-47ed-902b-2f735a65c951"
      },
      "outputs": [],
      "source": [
        "davrscgwda.rename(columns=coulumns, inplace=True)"
      ],
      "id": "db910d80-f410-47ed-902b-2f735a65c951"
    },
    {
      "cell_type": "code",
      "execution_count": 16,
      "metadata": {
        "id": "87a0581b-e7c6-42c0-8c02-ac98224b2ecf"
      },
      "outputs": [],
      "source": [
        "davrscgwda=davrscgwda[:10]\n"
      ],
      "id": "87a0581b-e7c6-42c0-8c02-ac98224b2ecf"
    },
    {
      "cell_type": "code",
      "source": [
        "davrscgwda"
      ],
      "metadata": {
        "colab": {
          "base_uri": "https://localhost:8080/",
          "height": 363
        },
        "id": "UyunAeELIuP1",
        "outputId": "1c85b935-7998-428c-bf7f-fb789f6c6d9d"
      },
      "id": "UyunAeELIuP1",
      "execution_count": null,
      "outputs": [
        {
          "output_type": "execute_result",
          "data": {
            "text/plain": [
              "                Models    CGWODA        DA\n",
              "0  WeightedEnsemble_L2  0.974306  0.948613\n",
              "1             LightGBM  0.968140  0.934224\n",
              "2             CatBoost  0.967112  0.938335\n",
              "3        LightGBMLarge  0.967112  0.933196\n",
              "4     RandomForestEntr  0.956835  0.943474\n",
              "5     RandomForestGini  0.955807  0.943474\n",
              "6              XGBoost  0.953751  0.874615\n",
              "7       ExtraTreesEntr  0.943474  0.943474\n",
              "8           LightGBMXT  0.943474  0.803700\n",
              "9       ExtraTreesGini  0.942446  0.940391"
            ],
            "text/html": [
              "\n",
              "  <div id=\"df-90cf0a9c-a52e-483c-a852-b1eb9c2df5ea\" class=\"colab-df-container\">\n",
              "    <div>\n",
              "<style scoped>\n",
              "    .dataframe tbody tr th:only-of-type {\n",
              "        vertical-align: middle;\n",
              "    }\n",
              "\n",
              "    .dataframe tbody tr th {\n",
              "        vertical-align: top;\n",
              "    }\n",
              "\n",
              "    .dataframe thead th {\n",
              "        text-align: right;\n",
              "    }\n",
              "</style>\n",
              "<table border=\"1\" class=\"dataframe\">\n",
              "  <thead>\n",
              "    <tr style=\"text-align: right;\">\n",
              "      <th></th>\n",
              "      <th>Models</th>\n",
              "      <th>CGWODA</th>\n",
              "      <th>DA</th>\n",
              "    </tr>\n",
              "  </thead>\n",
              "  <tbody>\n",
              "    <tr>\n",
              "      <th>0</th>\n",
              "      <td>WeightedEnsemble_L2</td>\n",
              "      <td>0.974306</td>\n",
              "      <td>0.948613</td>\n",
              "    </tr>\n",
              "    <tr>\n",
              "      <th>1</th>\n",
              "      <td>LightGBM</td>\n",
              "      <td>0.968140</td>\n",
              "      <td>0.934224</td>\n",
              "    </tr>\n",
              "    <tr>\n",
              "      <th>2</th>\n",
              "      <td>CatBoost</td>\n",
              "      <td>0.967112</td>\n",
              "      <td>0.938335</td>\n",
              "    </tr>\n",
              "    <tr>\n",
              "      <th>3</th>\n",
              "      <td>LightGBMLarge</td>\n",
              "      <td>0.967112</td>\n",
              "      <td>0.933196</td>\n",
              "    </tr>\n",
              "    <tr>\n",
              "      <th>4</th>\n",
              "      <td>RandomForestEntr</td>\n",
              "      <td>0.956835</td>\n",
              "      <td>0.943474</td>\n",
              "    </tr>\n",
              "    <tr>\n",
              "      <th>5</th>\n",
              "      <td>RandomForestGini</td>\n",
              "      <td>0.955807</td>\n",
              "      <td>0.943474</td>\n",
              "    </tr>\n",
              "    <tr>\n",
              "      <th>6</th>\n",
              "      <td>XGBoost</td>\n",
              "      <td>0.953751</td>\n",
              "      <td>0.874615</td>\n",
              "    </tr>\n",
              "    <tr>\n",
              "      <th>7</th>\n",
              "      <td>ExtraTreesEntr</td>\n",
              "      <td>0.943474</td>\n",
              "      <td>0.943474</td>\n",
              "    </tr>\n",
              "    <tr>\n",
              "      <th>8</th>\n",
              "      <td>LightGBMXT</td>\n",
              "      <td>0.943474</td>\n",
              "      <td>0.803700</td>\n",
              "    </tr>\n",
              "    <tr>\n",
              "      <th>9</th>\n",
              "      <td>ExtraTreesGini</td>\n",
              "      <td>0.942446</td>\n",
              "      <td>0.940391</td>\n",
              "    </tr>\n",
              "  </tbody>\n",
              "</table>\n",
              "</div>\n",
              "    <div class=\"colab-df-buttons\">\n",
              "\n",
              "  <div class=\"colab-df-container\">\n",
              "    <button class=\"colab-df-convert\" onclick=\"convertToInteractive('df-90cf0a9c-a52e-483c-a852-b1eb9c2df5ea')\"\n",
              "            title=\"Convert this dataframe to an interactive table.\"\n",
              "            style=\"display:none;\">\n",
              "\n",
              "  <svg xmlns=\"http://www.w3.org/2000/svg\" height=\"24px\" viewBox=\"0 -960 960 960\">\n",
              "    <path d=\"M120-120v-720h720v720H120Zm60-500h600v-160H180v160Zm220 220h160v-160H400v160Zm0 220h160v-160H400v160ZM180-400h160v-160H180v160Zm440 0h160v-160H620v160ZM180-180h160v-160H180v160Zm440 0h160v-160H620v160Z\"/>\n",
              "  </svg>\n",
              "    </button>\n",
              "\n",
              "  <style>\n",
              "    .colab-df-container {\n",
              "      display:flex;\n",
              "      gap: 12px;\n",
              "    }\n",
              "\n",
              "    .colab-df-convert {\n",
              "      background-color: #E8F0FE;\n",
              "      border: none;\n",
              "      border-radius: 50%;\n",
              "      cursor: pointer;\n",
              "      display: none;\n",
              "      fill: #1967D2;\n",
              "      height: 32px;\n",
              "      padding: 0 0 0 0;\n",
              "      width: 32px;\n",
              "    }\n",
              "\n",
              "    .colab-df-convert:hover {\n",
              "      background-color: #E2EBFA;\n",
              "      box-shadow: 0px 1px 2px rgba(60, 64, 67, 0.3), 0px 1px 3px 1px rgba(60, 64, 67, 0.15);\n",
              "      fill: #174EA6;\n",
              "    }\n",
              "\n",
              "    .colab-df-buttons div {\n",
              "      margin-bottom: 4px;\n",
              "    }\n",
              "\n",
              "    [theme=dark] .colab-df-convert {\n",
              "      background-color: #3B4455;\n",
              "      fill: #D2E3FC;\n",
              "    }\n",
              "\n",
              "    [theme=dark] .colab-df-convert:hover {\n",
              "      background-color: #434B5C;\n",
              "      box-shadow: 0px 1px 3px 1px rgba(0, 0, 0, 0.15);\n",
              "      filter: drop-shadow(0px 1px 2px rgba(0, 0, 0, 0.3));\n",
              "      fill: #FFFFFF;\n",
              "    }\n",
              "  </style>\n",
              "\n",
              "    <script>\n",
              "      const buttonEl =\n",
              "        document.querySelector('#df-90cf0a9c-a52e-483c-a852-b1eb9c2df5ea button.colab-df-convert');\n",
              "      buttonEl.style.display =\n",
              "        google.colab.kernel.accessAllowed ? 'block' : 'none';\n",
              "\n",
              "      async function convertToInteractive(key) {\n",
              "        const element = document.querySelector('#df-90cf0a9c-a52e-483c-a852-b1eb9c2df5ea');\n",
              "        const dataTable =\n",
              "          await google.colab.kernel.invokeFunction('convertToInteractive',\n",
              "                                                    [key], {});\n",
              "        if (!dataTable) return;\n",
              "\n",
              "        const docLinkHtml = 'Like what you see? Visit the ' +\n",
              "          '<a target=\"_blank\" href=https://colab.research.google.com/notebooks/data_table.ipynb>data table notebook</a>'\n",
              "          + ' to learn more about interactive tables.';\n",
              "        element.innerHTML = '';\n",
              "        dataTable['output_type'] = 'display_data';\n",
              "        await google.colab.output.renderOutput(dataTable, element);\n",
              "        const docLink = document.createElement('div');\n",
              "        docLink.innerHTML = docLinkHtml;\n",
              "        element.appendChild(docLink);\n",
              "      }\n",
              "    </script>\n",
              "  </div>\n",
              "\n",
              "\n",
              "<div id=\"df-937fe8a0-e5e2-418d-9b87-e45a217164d1\">\n",
              "  <button class=\"colab-df-quickchart\" onclick=\"quickchart('df-937fe8a0-e5e2-418d-9b87-e45a217164d1')\"\n",
              "            title=\"Suggest charts.\"\n",
              "            style=\"display:none;\">\n",
              "\n",
              "<svg xmlns=\"http://www.w3.org/2000/svg\" height=\"24px\"viewBox=\"0 0 24 24\"\n",
              "     width=\"24px\">\n",
              "    <g>\n",
              "        <path d=\"M19 3H5c-1.1 0-2 .9-2 2v14c0 1.1.9 2 2 2h14c1.1 0 2-.9 2-2V5c0-1.1-.9-2-2-2zM9 17H7v-7h2v7zm4 0h-2V7h2v10zm4 0h-2v-4h2v4z\"/>\n",
              "    </g>\n",
              "</svg>\n",
              "  </button>\n",
              "\n",
              "<style>\n",
              "  .colab-df-quickchart {\n",
              "      --bg-color: #E8F0FE;\n",
              "      --fill-color: #1967D2;\n",
              "      --hover-bg-color: #E2EBFA;\n",
              "      --hover-fill-color: #174EA6;\n",
              "      --disabled-fill-color: #AAA;\n",
              "      --disabled-bg-color: #DDD;\n",
              "  }\n",
              "\n",
              "  [theme=dark] .colab-df-quickchart {\n",
              "      --bg-color: #3B4455;\n",
              "      --fill-color: #D2E3FC;\n",
              "      --hover-bg-color: #434B5C;\n",
              "      --hover-fill-color: #FFFFFF;\n",
              "      --disabled-bg-color: #3B4455;\n",
              "      --disabled-fill-color: #666;\n",
              "  }\n",
              "\n",
              "  .colab-df-quickchart {\n",
              "    background-color: var(--bg-color);\n",
              "    border: none;\n",
              "    border-radius: 50%;\n",
              "    cursor: pointer;\n",
              "    display: none;\n",
              "    fill: var(--fill-color);\n",
              "    height: 32px;\n",
              "    padding: 0;\n",
              "    width: 32px;\n",
              "  }\n",
              "\n",
              "  .colab-df-quickchart:hover {\n",
              "    background-color: var(--hover-bg-color);\n",
              "    box-shadow: 0 1px 2px rgba(60, 64, 67, 0.3), 0 1px 3px 1px rgba(60, 64, 67, 0.15);\n",
              "    fill: var(--button-hover-fill-color);\n",
              "  }\n",
              "\n",
              "  .colab-df-quickchart-complete:disabled,\n",
              "  .colab-df-quickchart-complete:disabled:hover {\n",
              "    background-color: var(--disabled-bg-color);\n",
              "    fill: var(--disabled-fill-color);\n",
              "    box-shadow: none;\n",
              "  }\n",
              "\n",
              "  .colab-df-spinner {\n",
              "    border: 2px solid var(--fill-color);\n",
              "    border-color: transparent;\n",
              "    border-bottom-color: var(--fill-color);\n",
              "    animation:\n",
              "      spin 1s steps(1) infinite;\n",
              "  }\n",
              "\n",
              "  @keyframes spin {\n",
              "    0% {\n",
              "      border-color: transparent;\n",
              "      border-bottom-color: var(--fill-color);\n",
              "      border-left-color: var(--fill-color);\n",
              "    }\n",
              "    20% {\n",
              "      border-color: transparent;\n",
              "      border-left-color: var(--fill-color);\n",
              "      border-top-color: var(--fill-color);\n",
              "    }\n",
              "    30% {\n",
              "      border-color: transparent;\n",
              "      border-left-color: var(--fill-color);\n",
              "      border-top-color: var(--fill-color);\n",
              "      border-right-color: var(--fill-color);\n",
              "    }\n",
              "    40% {\n",
              "      border-color: transparent;\n",
              "      border-right-color: var(--fill-color);\n",
              "      border-top-color: var(--fill-color);\n",
              "    }\n",
              "    60% {\n",
              "      border-color: transparent;\n",
              "      border-right-color: var(--fill-color);\n",
              "    }\n",
              "    80% {\n",
              "      border-color: transparent;\n",
              "      border-right-color: var(--fill-color);\n",
              "      border-bottom-color: var(--fill-color);\n",
              "    }\n",
              "    90% {\n",
              "      border-color: transparent;\n",
              "      border-bottom-color: var(--fill-color);\n",
              "    }\n",
              "  }\n",
              "</style>\n",
              "\n",
              "  <script>\n",
              "    async function quickchart(key) {\n",
              "      const quickchartButtonEl =\n",
              "        document.querySelector('#' + key + ' button');\n",
              "      quickchartButtonEl.disabled = true;  // To prevent multiple clicks.\n",
              "      quickchartButtonEl.classList.add('colab-df-spinner');\n",
              "      try {\n",
              "        const charts = await google.colab.kernel.invokeFunction(\n",
              "            'suggestCharts', [key], {});\n",
              "      } catch (error) {\n",
              "        console.error('Error during call to suggestCharts:', error);\n",
              "      }\n",
              "      quickchartButtonEl.classList.remove('colab-df-spinner');\n",
              "      quickchartButtonEl.classList.add('colab-df-quickchart-complete');\n",
              "    }\n",
              "    (() => {\n",
              "      let quickchartButtonEl =\n",
              "        document.querySelector('#df-937fe8a0-e5e2-418d-9b87-e45a217164d1 button');\n",
              "      quickchartButtonEl.style.display =\n",
              "        google.colab.kernel.accessAllowed ? 'block' : 'none';\n",
              "    })();\n",
              "  </script>\n",
              "</div>\n",
              "    </div>\n",
              "  </div>\n"
            ]
          },
          "metadata": {},
          "execution_count": 144
        }
      ]
    },
    {
      "cell_type": "code",
      "execution_count": null,
      "metadata": {
        "id": "6748731d-a6cb-4b4b-8ca5-32f178378299",
        "outputId": "f42827a1-fecd-4381-c5f9-433639fed2f1",
        "colab": {
          "base_uri": "https://localhost:8080/",
          "height": 485
        }
      },
      "outputs": [
        {
          "output_type": "display_data",
          "data": {
            "text/plain": [
              "<Figure size 1200x600 with 1 Axes>"
            ],
            "image/png": "[encoded data removed]"
          },
          "metadata": {}
        }
      ],
      "source": [
        "\n",
        "\n",
        "df = davrscgwda\n",
        "\n",
        "# Set the figure size\n",
        "plt.figure(figsize=(12, 6))\n",
        "\n",
        "# Get model names and algorithm scores\n",
        "models = df['Models']\n",
        "scores_cgwoda = df['CGWODA']\n",
        "scores_da = df['DA']\n",
        "\n",
        "# Define the width of the bars\n",
        "bar_width = 0.35\n",
        "ind = range(len(models))\n",
        "\n",
        "# Plot the scores for CGWODA and DA\n",
        "plt.bar(ind, scores_cgwoda, bar_width, label='CGWODA', color='skyblue', align='center')\n",
        "plt.bar(ind, scores_da, bar_width, label='DA', color='lightcoral', align='edge')\n",
        "\n",
        "# Add labels and title\n",
        "plt.xlabel('Models')\n",
        "plt.ylabel('Scores')\n",
        "plt.title('Model Comparison')\n",
        "plt.xticks(ind, models, rotation=45, ha='right')\n",
        "plt.ylim(0.8,1)\n",
        "plt.legend()\n",
        "\n",
        "# Show the plot\n",
        "plt.tight_layout()\n",
        "plt.show()\n"
      ],
      "id": "6748731d-a6cb-4b4b-8ca5-32f178378299"
    },
    {
      "cell_type": "code",
      "execution_count": null,
      "metadata": {
        "id": "602698f1-08f4-4a76-b971-ba95a88bda24"
      },
      "outputs": [],
      "source": [
        "dataset_names = []\n",
        "\n",
        "for dataset_number in range(1, 7):\n",
        "    cgwoda = f\"cgwoda{dataset_number}\"\n",
        "    da=f\"da_{dataset_number}\"\n",
        "    pso=f\"pso{dataset_number}\"\n",
        "    go=f\"go{dataset_number}\"\n",
        "    grey=f\"grey{dataset_number}\"\n",
        "\n",
        "    dataset_names.append(cgwoda)\n",
        "    dataset_names.append(da)\n",
        "    dataset_names.append(grey)\n",
        "    dataset_names.append(go)"
      ],
      "id": "602698f1-08f4-4a76-b971-ba95a88bda24"
    },
    {
      "cell_type": "code",
      "execution_count": null,
      "metadata": {
        "id": "8ec595a4-90af-4204-a219-55fbf8c4723f",
        "outputId": "f1ff869a-cf8c-4f1e-f1c0-400426b77922",
        "colab": {
          "base_uri": "https://localhost:8080/"
        }
      },
      "outputs": [
        {
          "output_type": "execute_result",
          "data": {
            "text/plain": [
              "['cgwoda1',\n",
              " 'da_1',\n",
              " 'grey1',\n",
              " 'go1',\n",
              " 'cgwoda2',\n",
              " 'da_2',\n",
              " 'grey2',\n",
              " 'go2',\n",
              " 'cgwoda3',\n",
              " 'da_3',\n",
              " 'grey3',\n",
              " 'go3',\n",
              " 'cgwoda4',\n",
              " 'da_4',\n",
              " 'grey4',\n",
              " 'go4',\n",
              " 'cgwoda5',\n",
              " 'da_5',\n",
              " 'grey5',\n",
              " 'go5',\n",
              " 'cgwoda6',\n",
              " 'da_6',\n",
              " 'grey6',\n",
              " 'go6']"
            ]
          },
          "metadata": {},
          "execution_count": 46
        }
      ],
      "source": [
        "dataset_names"
      ],
      "id": "8ec595a4-90af-4204-a219-55fbf8c4723f"
    },
    {
      "cell_type": "code",
      "execution_count": null,
      "metadata": {
        "id": "9fba69ca-642d-48e2-b3ec-8b6a109e94c4",
        "colab": {
          "base_uri": "https://localhost:8080/"
        },
        "outputId": "16e5e4de-6227-4d5a-a5f5-102f88036af1"
      },
      "outputs": [
        {
          "output_type": "stream",
          "name": "stderr",
          "text": [
            "<ipython-input-83-0093e62f93d5>:21: FutureWarning: The frame.append method is deprecated and will be removed from pandas in a future version. Use pandas.concat instead.\n",
            "  df = df.append(row_data, ignore_index=True)\n",
            "<ipython-input-83-0093e62f93d5>:21: FutureWarning: The frame.append method is deprecated and will be removed from pandas in a future version. Use pandas.concat instead.\n",
            "  df = df.append(row_data, ignore_index=True)\n",
            "<ipython-input-83-0093e62f93d5>:21: FutureWarning: The frame.append method is deprecated and will be removed from pandas in a future version. Use pandas.concat instead.\n",
            "  df = df.append(row_data, ignore_index=True)\n",
            "<ipython-input-83-0093e62f93d5>:21: FutureWarning: The frame.append method is deprecated and will be removed from pandas in a future version. Use pandas.concat instead.\n",
            "  df = df.append(row_data, ignore_index=True)\n",
            "<ipython-input-83-0093e62f93d5>:21: FutureWarning: The frame.append method is deprecated and will be removed from pandas in a future version. Use pandas.concat instead.\n",
            "  df = df.append(row_data, ignore_index=True)\n",
            "<ipython-input-83-0093e62f93d5>:21: FutureWarning: The frame.append method is deprecated and will be removed from pandas in a future version. Use pandas.concat instead.\n",
            "  df = df.append(row_data, ignore_index=True)\n"
          ]
        }
      ],
      "source": [
        "import pandas as pd\n",
        "method_names=['cgowda','da','pso','go','grey']\n",
        "# Create an empty DataFrame with columns as method names\n",
        "df = pd.DataFrame(columns=method_names)\n",
        "\n",
        "# Example function to retrieve 'score_val' based on the method and dataset number\n",
        "def get_score_val(method, dataset_number):\n",
        "    # Replace this with your actual data retrieval method\n",
        "    # Assuming you have a DataFrame for each method and dataset\n",
        "    variable_name = f\"{method}{dataset_number}\"\n",
        "\n",
        "    # Check if the variable exists, and if it's a DataFrame with a 'score_val' column\n",
        "    if variable_name in locals() and isinstance(locals()[variable_name], pd.DataFrame) and 'score_val' in locals()[variable_name].columns:\n",
        "        return locals()[variable_name]['score_val'].values[0]\n",
        "    else:\n",
        "        return None  # Return None if the variable or 'score_val' doesn't exist\n",
        "\n",
        "# Add rows with dataset numbers\n",
        "for dataset_number in dataset_numbers:\n",
        "    row_data = {method: get_score_val(method, dataset_number) for method in method_names}\n",
        "    df = df.append(row_data, ignore_index=True)\n",
        "\n",
        "# Now, df contains the 'score_val' values from your DataFrames for the specified method and dataset number\n"
      ],
      "id": "9fba69ca-642d-48e2-b3ec-8b6a109e94c4"
    },
    {
      "cell_type": "code",
      "execution_count": null,
      "metadata": {
        "id": "af466303-cdcd-4505-ba0f-0352307fb2ff"
      },
      "outputs": [],
      "source": [
        "accuracy_table =pd.DataFrame"
      ],
      "id": "af466303-cdcd-4505-ba0f-0352307fb2ff"
    },
    {
      "cell_type": "code",
      "execution_count": null,
      "metadata": {
        "id": "66cc5115-7c8d-4dee-9b88-21e4c4882a5e"
      },
      "outputs": [],
      "source": [
        "column_names=['Dataset Name','CGWODA','DA','GO','GWO']"
      ],
      "id": "66cc5115-7c8d-4dee-9b88-21e4c4882a5e"
    },
    {
      "cell_type": "code",
      "execution_count": null,
      "metadata": {
        "id": "c0781e01-968f-4fc7-9e22-98771fd54dd9"
      },
      "outputs": [],
      "source": [
        "accuracy_table.columns=column_names"
      ],
      "id": "c0781e01-968f-4fc7-9e22-98771fd54dd9"
    },
    {
      "cell_type": "code",
      "execution_count": 20,
      "metadata": {
        "id": "07203572-0be2-4b2e-81e8-54927ebff0b2"
      },
      "outputs": [],
      "source": [
        "import matplotlib.pyplot as plt\n",
        "import numpy as np\n",
        "\n",
        "def plot_algorithm_comparison(df, title='Algorithm Performance Comparison'):\n",
        "    # Set the figure size\n",
        "    plt.figure(figsize=(20, 5))\n",
        "\n",
        "    # Get dataset names and algorithm scores\n",
        "    dataset_names = df.columns[1:]  # Exclude the first column (assumed to be the algorithm names)\n",
        "    algorithm_names = df.iloc[:, 0]  # Assume the first column contains algorithm names\n",
        "\n",
        "    # Define the width of the bars\n",
        "    bar_width = 0.1\n",
        "\n",
        "    # Create an array of indices for x-axis positions\n",
        "    ind = np.arange(len(dataset_names))\n",
        "\n",
        "    # Plot the scores for each algorithm\n",
        "    for i, algorithm in enumerate(algorithm_names):\n",
        "        algorithm_scores = df.iloc[i, 1:]  # Scores for the current algorithm\n",
        "        plt.bar(ind + i * bar_width, algorithm_scores, bar_width, label=algorithm)\n",
        "\n",
        "    # Add labels and title\n",
        "    plt.xlabel('Datasets')\n",
        "    plt.ylabel('Scores')\n",
        "    plt.title(title)\n",
        "    plt.xticks(ind + (len(algorithm_names) - 1) * bar_width / 2, dataset_names, rotation=45, ha='right')\n",
        "    plt.legend()\n",
        "\n",
        "    # Show the plot\n",
        "    plt.tight_layout()\n",
        "    plt.show()\n"
      ],
      "id": "07203572-0be2-4b2e-81e8-54927ebff0b2"
    },
    {
      "cell_type": "code",
      "execution_count": null,
      "metadata": {
        "id": "26354c43-aaa7-4718-855c-79fe6f5583ec"
      },
      "outputs": [],
      "source": [],
      "id": "26354c43-aaa7-4718-855c-79fe6f5583ec"
    },
    {
      "cell_type": "code",
      "execution_count": null,
      "metadata": {
        "id": "82dfb9bf-32a9-4002-be29-17fb80b56350"
      },
      "outputs": [],
      "source": [
        "import pandas as pd\n",
        "\n",
        "# Create an empty DataFrame to store the first row's score_val for each algorithm and dataset\n",
        "first_row_scores_df = pd.DataFrame(columns=['Algorithm', 'Dataset', 'score_val'])\n",
        "\n",
        "# Extract the first row's score_val for each algorithm and dataset\n",
        "algorithms = ['cgowda', 'da', 'go', 'pso', 'grey']  # Assuming your DataFrame names are in lowercase\n",
        "dataset_numbers = range(1, 7)  # Assuming dataset numbers range from 1 to 6\n",
        "\n",
        "for dataset_number in dataset_numbers:\n",
        "    for algorithm in algorithms:\n",
        "        df_name = f'{algorithm}{dataset_number}'  # Construct the DataFrame name\n",
        "        if df_name in locals():\n",
        "            df_algorithm = locals()[df_name]  # Get the corresponding DataFrame\n",
        "            first_row_score_val = df_algorithm.iloc[0]['score_val'] if len(df_algorithm) > 0 else None  # Extract the first row's score_val\n",
        "            first_row_scores_df = first_row_scores_df.append({'Algorithm': algorithm.upper(), 'Dataset': dataset_number, 'score_val': first_row_score_val}, ignore_index=True)\n",
        "\n",
        "# Pivot the DataFrame to have dataset numbers as the first column and algorithm names as the row index\n",
        "pivot_df = first_row_scores_df.pivot(index='Dataset', columns='Algorithm', values='score_val')\n",
        "\n",
        "# Now, pivot_df contains the desired format\n",
        "\n"
      ],
      "id": "82dfb9bf-32a9-4002-be29-17fb80b56350"
    },
    {
      "cell_type": "markdown",
      "source": [
        "# RESULTS"
      ],
      "metadata": {
        "id": "wsBMbaXI2j6s"
      },
      "id": "wsBMbaXI2j6s"
    },
    {
      "cell_type": "code",
      "execution_count": 18,
      "metadata": {
        "id": "cea8d995-a53d-427a-8c69-95757673de19",
        "colab": {
          "base_uri": "https://localhost:8080/",
          "height": 269
        },
        "outputId": "78949c2e-1433-437f-8ff0-4eb2e3a041ed"
      },
      "outputs": [
        {
          "output_type": "execute_result",
          "data": {
            "text/plain": [
              "Algorithm    CGOWDA        DA        GO      GREY       PSO\n",
              "Dataset                                                    \n",
              "1          0.974306  0.948613  0.976362  0.969168  0.942446\n",
              "2          0.959873  0.921859  0.965153  0.952482  0.950370\n",
              "3          0.985600  0.964800  0.986800  0.985600  0.962000\n",
              "4          1.000000  0.865600  0.999200  1.000000  1.000000\n",
              "5          0.892308  0.892308  0.876923  0.892308  0.892308\n",
              "6          0.952482  0.946146  0.960929  0.952482  0.951426"
            ],
            "text/html": [
              "\n",
              "  <div id=\"df-24762027-72bc-49e0-84ec-8fec14ff4e57\" class=\"colab-df-container\">\n",
              "    <div>\n",
              "<style scoped>\n",
              "    .dataframe tbody tr th:only-of-type {\n",
              "        vertical-align: middle;\n",
              "    }\n",
              "\n",
              "    .dataframe tbody tr th {\n",
              "        vertical-align: top;\n",
              "    }\n",
              "\n",
              "    .dataframe thead th {\n",
              "        text-align: right;\n",
              "    }\n",
              "</style>\n",
              "<table border=\"1\" class=\"dataframe\">\n",
              "  <thead>\n",
              "    <tr style=\"text-align: right;\">\n",
              "      <th>Algorithm</th>\n",
              "      <th>CGOWDA</th>\n",
              "      <th>DA</th>\n",
              "      <th>GO</th>\n",
              "      <th>GREY</th>\n",
              "      <th>PSO</th>\n",
              "    </tr>\n",
              "    <tr>\n",
              "      <th>Dataset</th>\n",
              "      <th></th>\n",
              "      <th></th>\n",
              "      <th></th>\n",
              "      <th></th>\n",
              "      <th></th>\n",
              "    </tr>\n",
              "  </thead>\n",
              "  <tbody>\n",
              "    <tr>\n",
              "      <th>1</th>\n",
              "      <td>0.974306</td>\n",
              "      <td>0.948613</td>\n",
              "      <td>0.976362</td>\n",
              "      <td>0.969168</td>\n",
              "      <td>0.942446</td>\n",
              "    </tr>\n",
              "    <tr>\n",
              "      <th>2</th>\n",
              "      <td>0.959873</td>\n",
              "      <td>0.921859</td>\n",
              "      <td>0.965153</td>\n",
              "      <td>0.952482</td>\n",
              "      <td>0.950370</td>\n",
              "    </tr>\n",
              "    <tr>\n",
              "      <th>3</th>\n",
              "      <td>0.985600</td>\n",
              "      <td>0.964800</td>\n",
              "      <td>0.986800</td>\n",
              "      <td>0.985600</td>\n",
              "      <td>0.962000</td>\n",
              "    </tr>\n",
              "    <tr>\n",
              "      <th>4</th>\n",
              "      <td>1.000000</td>\n",
              "      <td>0.865600</td>\n",
              "      <td>0.999200</td>\n",
              "      <td>1.000000</td>\n",
              "      <td>1.000000</td>\n",
              "    </tr>\n",
              "    <tr>\n",
              "      <th>5</th>\n",
              "      <td>0.892308</td>\n",
              "      <td>0.892308</td>\n",
              "      <td>0.876923</td>\n",
              "      <td>0.892308</td>\n",
              "      <td>0.892308</td>\n",
              "    </tr>\n",
              "    <tr>\n",
              "      <th>6</th>\n",
              "      <td>0.952482</td>\n",
              "      <td>0.946146</td>\n",
              "      <td>0.960929</td>\n",
              "      <td>0.952482</td>\n",
              "      <td>0.951426</td>\n",
              "    </tr>\n",
              "  </tbody>\n",
              "</table>\n",
              "</div>\n",
              "    <div class=\"colab-df-buttons\">\n",
              "\n",
              "  <div class=\"colab-df-container\">\n",
              "    <button class=\"colab-df-convert\" onclick=\"convertToInteractive('df-24762027-72bc-49e0-84ec-8fec14ff4e57')\"\n",
              "            title=\"Convert this dataframe to an interactive table.\"\n",
              "            style=\"display:none;\">\n",
              "\n",
              "  <svg xmlns=\"http://www.w3.org/2000/svg\" height=\"24px\" viewBox=\"0 -960 960 960\">\n",
              "    <path d=\"M120-120v-720h720v720H120Zm60-500h600v-160H180v160Zm220 220h160v-160H400v160Zm0 220h160v-160H400v160ZM180-400h160v-160H180v160Zm440 0h160v-160H620v160ZM180-180h160v-160H180v160Zm440 0h160v-160H620v160Z\"/>\n",
              "  </svg>\n",
              "    </button>\n",
              "\n",
              "  <style>\n",
              "    .colab-df-container {\n",
              "      display:flex;\n",
              "      gap: 12px;\n",
              "    }\n",
              "\n",
              "    .colab-df-convert {\n",
              "      background-color: #E8F0FE;\n",
              "      border: none;\n",
              "      border-radius: 50%;\n",
              "      cursor: pointer;\n",
              "      display: none;\n",
              "      fill: #1967D2;\n",
              "      height: 32px;\n",
              "      padding: 0 0 0 0;\n",
              "      width: 32px;\n",
              "    }\n",
              "\n",
              "    .colab-df-convert:hover {\n",
              "      background-color: #E2EBFA;\n",
              "      box-shadow: 0px 1px 2px rgba(60, 64, 67, 0.3), 0px 1px 3px 1px rgba(60, 64, 67, 0.15);\n",
              "      fill: #174EA6;\n",
              "    }\n",
              "\n",
              "    .colab-df-buttons div {\n",
              "      margin-bottom: 4px;\n",
              "    }\n",
              "\n",
              "    [theme=dark] .colab-df-convert {\n",
              "      background-color: #3B4455;\n",
              "      fill: #D2E3FC;\n",
              "    }\n",
              "\n",
              "    [theme=dark] .colab-df-convert:hover {\n",
              "      background-color: #434B5C;\n",
              "      box-shadow: 0px 1px 3px 1px rgba(0, 0, 0, 0.15);\n",
              "      filter: drop-shadow(0px 1px 2px rgba(0, 0, 0, 0.3));\n",
              "      fill: #FFFFFF;\n",
              "    }\n",
              "  </style>\n",
              "\n",
              "    <script>\n",
              "      const buttonEl =\n",
              "        document.querySelector('#df-24762027-72bc-49e0-84ec-8fec14ff4e57 button.colab-df-convert');\n",
              "      buttonEl.style.display =\n",
              "        google.colab.kernel.accessAllowed ? 'block' : 'none';\n",
              "\n",
              "      async function convertToInteractive(key) {\n",
              "        const element = document.querySelector('#df-24762027-72bc-49e0-84ec-8fec14ff4e57');\n",
              "        const dataTable =\n",
              "          await google.colab.kernel.invokeFunction('convertToInteractive',\n",
              "                                                    [key], {});\n",
              "        if (!dataTable) return;\n",
              "\n",
              "        const docLinkHtml = 'Like what you see? Visit the ' +\n",
              "          '<a target=\"_blank\" href=https://colab.research.google.com/notebooks/data_table.ipynb>data table notebook</a>'\n",
              "          + ' to learn more about interactive tables.';\n",
              "        element.innerHTML = '';\n",
              "        dataTable['output_type'] = 'display_data';\n",
              "        await google.colab.output.renderOutput(dataTable, element);\n",
              "        const docLink = document.createElement('div');\n",
              "        docLink.innerHTML = docLinkHtml;\n",
              "        element.appendChild(docLink);\n",
              "      }\n",
              "    </script>\n",
              "  </div>\n",
              "\n",
              "\n",
              "<div id=\"df-a6843c01-2ef1-4755-ac1d-8bca5d4ae054\">\n",
              "  <button class=\"colab-df-quickchart\" onclick=\"quickchart('df-a6843c01-2ef1-4755-ac1d-8bca5d4ae054')\"\n",
              "            title=\"Suggest charts.\"\n",
              "            style=\"display:none;\">\n",
              "\n",
              "<svg xmlns=\"http://www.w3.org/2000/svg\" height=\"24px\"viewBox=\"0 0 24 24\"\n",
              "     width=\"24px\">\n",
              "    <g>\n",
              "        <path d=\"M19 3H5c-1.1 0-2 .9-2 2v14c0 1.1.9 2 2 2h14c1.1 0 2-.9 2-2V5c0-1.1-.9-2-2-2zM9 17H7v-7h2v7zm4 0h-2V7h2v10zm4 0h-2v-4h2v4z\"/>\n",
              "    </g>\n",
              "</svg>\n",
              "  </button>\n",
              "\n",
              "<style>\n",
              "  .colab-df-quickchart {\n",
              "      --bg-color: #E8F0FE;\n",
              "      --fill-color: #1967D2;\n",
              "      --hover-bg-color: #E2EBFA;\n",
              "      --hover-fill-color: #174EA6;\n",
              "      --disabled-fill-color: #AAA;\n",
              "      --disabled-bg-color: #DDD;\n",
              "  }\n",
              "\n",
              "  [theme=dark] .colab-df-quickchart {\n",
              "      --bg-color: #3B4455;\n",
              "      --fill-color: #D2E3FC;\n",
              "      --hover-bg-color: #434B5C;\n",
              "      --hover-fill-color: #FFFFFF;\n",
              "      --disabled-bg-color: #3B4455;\n",
              "      --disabled-fill-color: #666;\n",
              "  }\n",
              "\n",
              "  .colab-df-quickchart {\n",
              "    background-color: var(--bg-color);\n",
              "    border: none;\n",
              "    border-radius: 50%;\n",
              "    cursor: pointer;\n",
              "    display: none;\n",
              "    fill: var(--fill-color);\n",
              "    height: 32px;\n",
              "    padding: 0;\n",
              "    width: 32px;\n",
              "  }\n",
              "\n",
              "  .colab-df-quickchart:hover {\n",
              "    background-color: var(--hover-bg-color);\n",
              "    box-shadow: 0 1px 2px rgba(60, 64, 67, 0.3), 0 1px 3px 1px rgba(60, 64, 67, 0.15);\n",
              "    fill: var(--button-hover-fill-color);\n",
              "  }\n",
              "\n",
              "  .colab-df-quickchart-complete:disabled,\n",
              "  .colab-df-quickchart-complete:disabled:hover {\n",
              "    background-color: var(--disabled-bg-color);\n",
              "    fill: var(--disabled-fill-color);\n",
              "    box-shadow: none;\n",
              "  }\n",
              "\n",
              "  .colab-df-spinner {\n",
              "    border: 2px solid var(--fill-color);\n",
              "    border-color: transparent;\n",
              "    border-bottom-color: var(--fill-color);\n",
              "    animation:\n",
              "      spin 1s steps(1) infinite;\n",
              "  }\n",
              "\n",
              "  @keyframes spin {\n",
              "    0% {\n",
              "      border-color: transparent;\n",
              "      border-bottom-color: var(--fill-color);\n",
              "      border-left-color: var(--fill-color);\n",
              "    }\n",
              "    20% {\n",
              "      border-color: transparent;\n",
              "      border-left-color: var(--fill-color);\n",
              "      border-top-color: var(--fill-color);\n",
              "    }\n",
              "    30% {\n",
              "      border-color: transparent;\n",
              "      border-left-color: var(--fill-color);\n",
              "      border-top-color: var(--fill-color);\n",
              "      border-right-color: var(--fill-color);\n",
              "    }\n",
              "    40% {\n",
              "      border-color: transparent;\n",
              "      border-right-color: var(--fill-color);\n",
              "      border-top-color: var(--fill-color);\n",
              "    }\n",
              "    60% {\n",
              "      border-color: transparent;\n",
              "      border-right-color: var(--fill-color);\n",
              "    }\n",
              "    80% {\n",
              "      border-color: transparent;\n",
              "      border-right-color: var(--fill-color);\n",
              "      border-bottom-color: var(--fill-color);\n",
              "    }\n",
              "    90% {\n",
              "      border-color: transparent;\n",
              "      border-bottom-color: var(--fill-color);\n",
              "    }\n",
              "  }\n",
              "</style>\n",
              "\n",
              "  <script>\n",
              "    async function quickchart(key) {\n",
              "      const quickchartButtonEl =\n",
              "        document.querySelector('#' + key + ' button');\n",
              "      quickchartButtonEl.disabled = true;  // To prevent multiple clicks.\n",
              "      quickchartButtonEl.classList.add('colab-df-spinner');\n",
              "      try {\n",
              "        const charts = await google.colab.kernel.invokeFunction(\n",
              "            'suggestCharts', [key], {});\n",
              "      } catch (error) {\n",
              "        console.error('Error during call to suggestCharts:', error);\n",
              "      }\n",
              "      quickchartButtonEl.classList.remove('colab-df-spinner');\n",
              "      quickchartButtonEl.classList.add('colab-df-quickchart-complete');\n",
              "    }\n",
              "    (() => {\n",
              "      let quickchartButtonEl =\n",
              "        document.querySelector('#df-a6843c01-2ef1-4755-ac1d-8bca5d4ae054 button');\n",
              "      quickchartButtonEl.style.display =\n",
              "        google.colab.kernel.accessAllowed ? 'block' : 'none';\n",
              "    })();\n",
              "  </script>\n",
              "</div>\n",
              "    </div>\n",
              "  </div>\n"
            ]
          },
          "metadata": {},
          "execution_count": 18
        }
      ],
      "source": [
        "pivot_df"
      ],
      "id": "cea8d995-a53d-427a-8c69-95757673de19"
    },
    {
      "cell_type": "code",
      "execution_count": null,
      "metadata": {
        "id": "a74dbd50-0adf-435f-acca-4ba4d499bd7c"
      },
      "outputs": [],
      "source": [
        "pivot_df=pivot_df.drop('GO',axis=1)"
      ],
      "id": "a74dbd50-0adf-435f-acca-4ba4d499bd7c"
    },
    {
      "cell_type": "code",
      "execution_count": null,
      "metadata": {
        "id": "831a7372-76c4-4390-a658-a94ae69a730a",
        "colab": {
          "base_uri": "https://localhost:8080/",
          "height": 485
        },
        "outputId": "9c1446c6-881e-4978-b1eb-5f1c151a9f5e"
      },
      "outputs": [
        {
          "output_type": "display_data",
          "data": {
            "text/plain": [
              "<Figure size 1200x600 with 1 Axes>"
            ],
            "image/png": "[encoded data removed]"
          },
          "metadata": {}
        }
      ],
      "source": [
        "# import pandas as pd\n",
        "# import matplotlib.pyplot as plt\n",
        "\n",
        "# # Assuming you have your data in pivot_df\n",
        "# data = {\n",
        "#     'Dataset': [1, 2, 3, 4, 5, 6],\n",
        "#     'CGOWDA': [0.974306269270298, 0.9598732840549102, 0.9856, 1.0, 0.8923076923076924, 0.9524815205913412],\n",
        "#     'DA': [0.948612538540596, 0.9218585005279832, 0.9648, 0.8656, 0.8923076923076924, 0.9461457233368532],\n",
        "#     'GO': [0.9763617677286742, 0.9651531151003168, 0.9868, 0.9992, 0.8769230769230769, 0.9609292502639916],\n",
        "#     'GREY': [0.9691675231243576, 0.9524815205913412, 0.9856, 1.0, 0.8923076923076924, 0.9524815205913412],\n",
        "#     'PSO': [0.9424460431654677, 0.9503695881731784, 0.962, 1.0, 0.8923076923076924, 0.9514255543822596]\n",
        "# }\n",
        "\n",
        "# df = pd.DataFrame(data)\n",
        "pivot_df\n",
        "# Set the figure size\n",
        "plt.figure(figsize=(12, 6))\n",
        "\n",
        "# Get dataset names and algorithm scores\n",
        "dataset_names = pivot_df.index\n",
        "algorithm_names = pivot_df.columns  # Exclude the first column (assumed to be the dataset names)\n",
        "\n",
        "# Define the width of the bars and the number of datasets\n",
        "bar_width = 0.15\n",
        "num_datasets = len(dataset_names)\n",
        "\n",
        "# Create an array of indices for x-axis positions\n",
        "ind = list(range(num_datasets))\n",
        "\n",
        "# Plot the scores for each algorithm\n",
        "for i, algorithm in enumerate(algorithm_names):\n",
        "    algorithm_scores = df[algorithm]\n",
        "    plt.bar([x + i * bar_width for x in ind], algorithm_scores, bar_width, label=algorithm)\n",
        "\n",
        "# Add labels and title\n",
        "plt.xlabel('Datasets')\n",
        "plt.ylabel('Scores')\n",
        "plt.title('Scores by Dataset and Algorithm')\n",
        "\n",
        "# Set x-axis ticks and labels\n",
        "plt.xticks([x + (len(algorithm_names) - 1) * bar_width / 2 for x in ind], dataset_names)\n",
        "plt.ylim(0.8, 1.0)  # Adjust the limits as needed\n",
        "# Add a legend\n",
        "plt.legend()\n",
        "\n",
        "# Show the plot\n",
        "plt.tight_layout()\n",
        "plt.show()\n"
      ],
      "id": "831a7372-76c4-4390-a658-a94ae69a730a"
    },
    {
      "cell_type": "code",
      "execution_count": 23,
      "metadata": {
        "id": "597d0ddf-0d3c-499d-a541-8bc35e86f527",
        "colab": {
          "base_uri": "https://localhost:8080/",
          "height": 607
        },
        "outputId": "3692ee51-9962-4471-f198-dbed1a50f704"
      },
      "outputs": [
        {
          "output_type": "display_data",
          "data": {
            "text/plain": [
              "<Figure size 1200x600 with 1 Axes>"
            ],
            "image/png": "[encoded data removed]"
          },
          "metadata": {}
        }
      ],
      "source": [
        "df = davrscgwda\n",
        "\n",
        "# Set the figure size\n",
        "plt.figure(figsize=(12, 6))\n",
        "\n",
        "# Get model names and algorithm scores\n",
        "models = pivot_df.index\n",
        "scores_cgwoda = pivot_df['CGOWDA']\n",
        "scores_da =pivot_df['DA']\n",
        "\n",
        "# Define the width of the bars\n",
        "bar_width = 0.35\n",
        "ind = range(len(models))\n",
        "\n",
        "# Plot the scores for CGWODA and DA\n",
        "plt.bar(ind, scores_cgwoda, bar_width, label='CGWODA', color='skyblue', align='center')\n",
        "plt.bar(ind, scores_da, bar_width, label='DA', color='lightcoral', align='edge')\n",
        "\n",
        "# Add labels and title\n",
        "plt.xlabel('Models')\n",
        "plt.ylabel('Scores')\n",
        "plt.title('Model Comparison')\n",
        "plt.xticks(ind, models, rotation=45, ha='right')\n",
        "plt.ylim(0.8,1)\n",
        "plt.legend()\n",
        "\n",
        "# Show the plot\n",
        "plt.tight_layout()\n",
        "plt.show()"
      ],
      "id": "597d0ddf-0d3c-499d-a541-8bc35e86f527"
    },
    {
      "cell_type": "code",
      "execution_count": null,
      "metadata": {
        "id": "e4b1205b-9d8a-4508-aa08-b292aaa140d9"
      },
      "outputs": [],
      "source": [],
      "id": "e4b1205b-9d8a-4508-aa08-b292aaa140d9"
    },
    {
      "cell_type": "code",
      "execution_count": null,
      "metadata": {
        "id": "fd86a6e7-ab00-43f3-9743-313331335024"
      },
      "outputs": [],
      "source": [],
      "id": "fd86a6e7-ab00-43f3-9743-313331335024"
    },
    {
      "cell_type": "code",
      "execution_count": null,
      "metadata": {
        "id": "7d0beb58-b992-4489-8e75-b2b028dc4c0b"
      },
      "outputs": [],
      "source": [],
      "id": "7d0beb58-b992-4489-8e75-b2b028dc4c0b"
    },
    {
      "cell_type": "code",
      "execution_count": null,
      "metadata": {
        "id": "0e79bbe7-fa94-4cb6-88fd-78284d87dc32"
      },
      "outputs": [],
      "source": [],
      "id": "0e79bbe7-fa94-4cb6-88fd-78284d87dc32"
    },
    {
      "cell_type": "code",
      "execution_count": null,
      "metadata": {
        "id": "2a2decd4-71b2-47b9-9dbe-2526f418f557"
      },
      "outputs": [],
      "source": [],
      "id": "2a2decd4-71b2-47b9-9dbe-2526f418f557"
    },
    {
      "cell_type": "code",
      "execution_count": null,
      "metadata": {
        "id": "02da670e-a103-4fd6-b919-43b6eeffaa65"
      },
      "outputs": [],
      "source": [],
      "id": "02da670e-a103-4fd6-b919-43b6eeffaa65"
    },
    {
      "cell_type": "code",
      "execution_count": null,
      "metadata": {
        "id": "1c5a9d1a-eac5-41dc-89b6-699a9f4d378f"
      },
      "outputs": [],
      "source": [],
      "id": "1c5a9d1a-eac5-41dc-89b6-699a9f4d378f"
    },
    {
      "cell_type": "code",
      "execution_count": null,
      "metadata": {
        "id": "6e2546a1-8f67-411d-b9a1-3598c2dc5744"
      },
      "outputs": [],
      "source": [],
      "id": "6e2546a1-8f67-411d-b9a1-3598c2dc5744"
    },
    {
      "cell_type": "code",
      "execution_count": null,
      "metadata": {
        "id": "db176507-e143-400a-b312-ef884bab0e1f"
      },
      "outputs": [],
      "source": [],
      "id": "db176507-e143-400a-b312-ef884bab0e1f"
    },
    {
      "cell_type": "code",
      "execution_count": null,
      "metadata": {
        "id": "ca6a7505-b46a-4497-8a69-ce0cfd56274c"
      },
      "outputs": [],
      "source": [],
      "id": "ca6a7505-b46a-4497-8a69-ce0cfd56274c"
    },
    {
      "cell_type": "code",
      "execution_count": null,
      "metadata": {
        "id": "3a1b7085-1f11-483d-abf3-1f94dd00d6e1"
      },
      "outputs": [],
      "source": [],
      "id": "3a1b7085-1f11-483d-abf3-1f94dd00d6e1"
    },
    {
      "cell_type": "code",
      "execution_count": null,
      "metadata": {
        "id": "179646f4-ca87-40ef-b9c9-b326b308e934"
      },
      "outputs": [],
      "source": [],
      "id": "179646f4-ca87-40ef-b9c9-b326b308e934"
    },
    {
      "cell_type": "code",
      "execution_count": null,
      "metadata": {
        "id": "6b5f8e3a-3df0-48d5-b291-7cb6dfc2297e"
      },
      "outputs": [],
      "source": [],
      "id": "6b5f8e3a-3df0-48d5-b291-7cb6dfc2297e"
    },
    {
      "cell_type": "code",
      "execution_count": null,
      "metadata": {
        "id": "acc9b7ea-3894-4a2c-93a4-6839f7d4f54a"
      },
      "outputs": [],
      "source": [],
      "id": "acc9b7ea-3894-4a2c-93a4-6839f7d4f54a"
    },
    {
      "cell_type": "code",
      "execution_count": null,
      "metadata": {
        "id": "6ecf689f-60f0-45ac-901d-ac1aa018aabd"
      },
      "outputs": [],
      "source": [],
      "id": "6ecf689f-60f0-45ac-901d-ac1aa018aabd"
    },
    {
      "cell_type": "code",
      "execution_count": null,
      "metadata": {
        "id": "1e6b5bb1-0c6e-4cd0-b78f-62e79136f4c9"
      },
      "outputs": [],
      "source": [],
      "id": "1e6b5bb1-0c6e-4cd0-b78f-62e79136f4c9"
    },
    {
      "cell_type": "code",
      "execution_count": null,
      "metadata": {
        "id": "68e57e46-0d92-4ef4-a3ab-a8d4ab850e35"
      },
      "outputs": [],
      "source": [],
      "id": "68e57e46-0d92-4ef4-a3ab-a8d4ab850e35"
    },
    {
      "cell_type": "code",
      "execution_count": null,
      "metadata": {
        "id": "cf6457a0-8c3d-4d88-8bd4-2ed5f02d29d7"
      },
      "outputs": [],
      "source": [],
      "id": "cf6457a0-8c3d-4d88-8bd4-2ed5f02d29d7"
    },
    {
      "cell_type": "code",
      "execution_count": null,
      "metadata": {
        "id": "fa14f925-f3b1-4f35-8752-2f9319b41836"
      },
      "outputs": [],
      "source": [],
      "id": "fa14f925-f3b1-4f35-8752-2f9319b41836"
    },
    {
      "cell_type": "code",
      "execution_count": null,
      "metadata": {
        "id": "1ffaa8e6-02e8-4cc5-81d5-94bdd6d133c4"
      },
      "outputs": [],
      "source": [],
      "id": "1ffaa8e6-02e8-4cc5-81d5-94bdd6d133c4"
    },
    {
      "cell_type": "code",
      "execution_count": null,
      "metadata": {
        "id": "81337dc7-5a9f-4d0a-9686-a81cf2139542"
      },
      "outputs": [],
      "source": [],
      "id": "81337dc7-5a9f-4d0a-9686-a81cf2139542"
    },
    {
      "cell_type": "code",
      "execution_count": null,
      "metadata": {
        "id": "854b3967-2d2d-4107-ac7c-011c0aec1c60"
      },
      "outputs": [],
      "source": [],
      "id": "854b3967-2d2d-4107-ac7c-011c0aec1c60"
    },
    {
      "cell_type": "code",
      "execution_count": null,
      "metadata": {
        "id": "8b171a26-06a8-480b-9f25-26ab20dd6e49"
      },
      "outputs": [],
      "source": [],
      "id": "8b171a26-06a8-480b-9f25-26ab20dd6e49"
    },
    {
      "cell_type": "code",
      "execution_count": null,
      "metadata": {
        "id": "ebbd10f3-c659-4381-8795-f668cb0a1de4"
      },
      "outputs": [],
      "source": [],
      "id": "ebbd10f3-c659-4381-8795-f668cb0a1de4"
    },
    {
      "cell_type": "code",
      "execution_count": null,
      "metadata": {
        "id": "30582230-124e-402b-a4c8-e72690fc8c8c"
      },
      "outputs": [],
      "source": [],
      "id": "30582230-124e-402b-a4c8-e72690fc8c8c"
    },
    {
      "cell_type": "code",
      "execution_count": null,
      "metadata": {
        "id": "43611012-238e-4351-bd5f-db62d9e037c6"
      },
      "outputs": [],
      "source": [],
      "id": "43611012-238e-4351-bd5f-db62d9e037c6"
    },
    {
      "cell_type": "code",
      "execution_count": null,
      "metadata": {
        "id": "5575de01-44f2-40f7-80ae-1a5accd4f0f0"
      },
      "outputs": [],
      "source": [],
      "id": "5575de01-44f2-40f7-80ae-1a5accd4f0f0"
    },
    {
      "cell_type": "code",
      "execution_count": null,
      "metadata": {
        "id": "1ebc24cc-7f28-4031-a757-e97e38c98591"
      },
      "outputs": [],
      "source": [],
      "id": "1ebc24cc-7f28-4031-a757-e97e38c98591"
    },
    {
      "cell_type": "code",
      "execution_count": null,
      "metadata": {
        "id": "65c404b6-d541-4dc3-ba4e-2707c818b261"
      },
      "outputs": [],
      "source": [],
      "id": "65c404b6-d541-4dc3-ba4e-2707c818b261"
    },
    {
      "cell_type": "code",
      "execution_count": null,
      "metadata": {
        "id": "7f4bf21e-d21e-4ac6-a874-48d79ff11c0a"
      },
      "outputs": [],
      "source": [],
      "id": "7f4bf21e-d21e-4ac6-a874-48d79ff11c0a"
    },
    {
      "cell_type": "code",
      "execution_count": null,
      "metadata": {
        "id": "93d4f6b0-8e49-4669-bc0d-7e9f6208b2c7"
      },
      "outputs": [],
      "source": [],
      "id": "93d4f6b0-8e49-4669-bc0d-7e9f6208b2c7"
    },
    {
      "cell_type": "code",
      "execution_count": null,
      "metadata": {
        "id": "d1c16a48-11f0-4f97-96ea-734f376f689b"
      },
      "outputs": [],
      "source": [],
      "id": "d1c16a48-11f0-4f97-96ea-734f376f689b"
    },
    {
      "cell_type": "code",
      "execution_count": null,
      "metadata": {
        "id": "a684d622-e9f2-43bb-b759-70d23aee1414"
      },
      "outputs": [],
      "source": [],
      "id": "a684d622-e9f2-43bb-b759-70d23aee1414"
    },
    {
      "cell_type": "code",
      "execution_count": null,
      "metadata": {
        "id": "81fef86a-89c4-4f9a-b9ed-c2a77d875ecf"
      },
      "outputs": [],
      "source": [],
      "id": "81fef86a-89c4-4f9a-b9ed-c2a77d875ecf"
    },
    {
      "cell_type": "code",
      "execution_count": null,
      "metadata": {
        "id": "5d8552c4-5290-424c-9f25-4778bdb83d24"
      },
      "outputs": [],
      "source": [],
      "id": "5d8552c4-5290-424c-9f25-4778bdb83d24"
    },
    {
      "cell_type": "code",
      "execution_count": null,
      "metadata": {
        "id": "9b1f8c21-7951-4047-bdf8-09687107a720"
      },
      "outputs": [],
      "source": [],
      "id": "9b1f8c21-7951-4047-bdf8-09687107a720"
    },
    {
      "cell_type": "code",
      "execution_count": null,
      "metadata": {
        "id": "b0c70def-1848-43a9-9924-3e329248398b"
      },
      "outputs": [],
      "source": [],
      "id": "b0c70def-1848-43a9-9924-3e329248398b"
    },
    {
      "cell_type": "code",
      "execution_count": null,
      "metadata": {
        "id": "c4b6a3f9-494b-42ba-8c3c-ffbb0fd85489"
      },
      "outputs": [],
      "source": [],
      "id": "c4b6a3f9-494b-42ba-8c3c-ffbb0fd85489"
    },
    {
      "cell_type": "code",
      "execution_count": null,
      "metadata": {
        "id": "8ccef856-c236-4bf8-8a4d-44e6fe2109bc"
      },
      "outputs": [],
      "source": [],
      "id": "8ccef856-c236-4bf8-8a4d-44e6fe2109bc"
    },
    {
      "cell_type": "code",
      "execution_count": null,
      "metadata": {
        "id": "d2657df6-e9d5-496c-b307-fd14e431909f"
      },
      "outputs": [],
      "source": [],
      "id": "d2657df6-e9d5-496c-b307-fd14e431909f"
    },
    {
      "cell_type": "code",
      "execution_count": null,
      "metadata": {
        "id": "75baf9cc-8d8a-411d-955d-a1dbec125f49"
      },
      "outputs": [],
      "source": [],
      "id": "75baf9cc-8d8a-411d-955d-a1dbec125f49"
    },
    {
      "cell_type": "code",
      "execution_count": null,
      "metadata": {
        "id": "77dd7d23-b880-4611-81f3-0379e8b6c165"
      },
      "outputs": [],
      "source": [],
      "id": "77dd7d23-b880-4611-81f3-0379e8b6c165"
    },
    {
      "cell_type": "code",
      "execution_count": null,
      "metadata": {
        "id": "2e8c5d3c-069f-48e2-bf82-0761a54a02d2"
      },
      "outputs": [],
      "source": [],
      "id": "2e8c5d3c-069f-48e2-bf82-0761a54a02d2"
    },
    {
      "cell_type": "code",
      "execution_count": null,
      "metadata": {
        "id": "55cdb41a-886a-404e-9fdf-666c6c78f711"
      },
      "outputs": [],
      "source": [],
      "id": "55cdb41a-886a-404e-9fdf-666c6c78f711"
    },
    {
      "cell_type": "code",
      "execution_count": null,
      "metadata": {
        "id": "dbce71fe-ad5a-43e9-9fad-527831a81b55"
      },
      "outputs": [],
      "source": [],
      "id": "dbce71fe-ad5a-43e9-9fad-527831a81b55"
    },
    {
      "cell_type": "code",
      "execution_count": null,
      "metadata": {
        "id": "d4070f8d-701e-4c82-8c45-fd5422fdcedd"
      },
      "outputs": [],
      "source": [],
      "id": "d4070f8d-701e-4c82-8c45-fd5422fdcedd"
    },
    {
      "cell_type": "code",
      "execution_count": null,
      "metadata": {
        "id": "2d5f6112-759c-4c5f-90a1-c1e2a14b0375"
      },
      "outputs": [],
      "source": [],
      "id": "2d5f6112-759c-4c5f-90a1-c1e2a14b0375"
    },
    {
      "cell_type": "code",
      "execution_count": null,
      "metadata": {
        "id": "b7aca915-c5f1-4dc4-99c0-6569bb5cf720"
      },
      "outputs": [],
      "source": [],
      "id": "b7aca915-c5f1-4dc4-99c0-6569bb5cf720"
    },
    {
      "cell_type": "code",
      "execution_count": null,
      "metadata": {
        "id": "97f8faab-9d1e-4b72-bf3e-f8a647722129"
      },
      "outputs": [],
      "source": [],
      "id": "97f8faab-9d1e-4b72-bf3e-f8a647722129"
    },
    {
      "cell_type": "code",
      "execution_count": null,
      "metadata": {
        "id": "19dcc624-cd1c-4a47-838f-c862a76ebe68"
      },
      "outputs": [],
      "source": [],
      "id": "19dcc624-cd1c-4a47-838f-c862a76ebe68"
    },
    {
      "cell_type": "code",
      "execution_count": null,
      "metadata": {
        "id": "c2642e03-9e1d-4e4a-bf0e-4b66e52ec682"
      },
      "outputs": [],
      "source": [],
      "id": "c2642e03-9e1d-4e4a-bf0e-4b66e52ec682"
    },
    {
      "cell_type": "code",
      "execution_count": null,
      "metadata": {
        "id": "8757bbb6-43a6-4e50-983a-a1a1f048e825"
      },
      "outputs": [],
      "source": [],
      "id": "8757bbb6-43a6-4e50-983a-a1a1f048e825"
    },
    {
      "cell_type": "code",
      "execution_count": null,
      "metadata": {
        "id": "0d3af995-1d7c-4b43-ad06-8cc0a668b464"
      },
      "outputs": [],
      "source": [],
      "id": "0d3af995-1d7c-4b43-ad06-8cc0a668b464"
    },
    {
      "cell_type": "code",
      "execution_count": null,
      "metadata": {
        "id": "aebd3768-d62d-4d14-9ff7-04460eca9dba"
      },
      "outputs": [],
      "source": [],
      "id": "aebd3768-d62d-4d14-9ff7-04460eca9dba"
    },
    {
      "cell_type": "code",
      "execution_count": null,
      "metadata": {
        "id": "4851c62c-8ed9-47e3-bb5f-594e5089d1c2"
      },
      "outputs": [],
      "source": [],
      "id": "4851c62c-8ed9-47e3-bb5f-594e5089d1c2"
    },
    {
      "cell_type": "code",
      "execution_count": null,
      "metadata": {
        "id": "c6ea7e0e-c1cf-46cb-9278-83852d7e02fe"
      },
      "outputs": [],
      "source": [],
      "id": "c6ea7e0e-c1cf-46cb-9278-83852d7e02fe"
    },
    {
      "cell_type": "code",
      "execution_count": null,
      "metadata": {
        "id": "7f100b60-71c5-45da-aefd-0d3b1ade7d18"
      },
      "outputs": [],
      "source": [],
      "id": "7f100b60-71c5-45da-aefd-0d3b1ade7d18"
    },
    {
      "cell_type": "code",
      "execution_count": null,
      "metadata": {
        "id": "3c7442c9-ccf7-415f-a1be-82b09c8e581b"
      },
      "outputs": [],
      "source": [],
      "id": "3c7442c9-ccf7-415f-a1be-82b09c8e581b"
    },
    {
      "cell_type": "code",
      "execution_count": null,
      "metadata": {
        "id": "bc450bcf-7989-49f2-bd58-e61f8cc3c193"
      },
      "outputs": [],
      "source": [],
      "id": "bc450bcf-7989-49f2-bd58-e61f8cc3c193"
    },
    {
      "cell_type": "code",
      "execution_count": null,
      "metadata": {
        "id": "6072be9d-3814-45d2-ad99-7f700733c937"
      },
      "outputs": [],
      "source": [],
      "id": "6072be9d-3814-45d2-ad99-7f700733c937"
    },
    {
      "cell_type": "code",
      "execution_count": null,
      "metadata": {
        "id": "da1f0120-ab6a-4ac6-bb32-b51cd1408179"
      },
      "outputs": [],
      "source": [],
      "id": "da1f0120-ab6a-4ac6-bb32-b51cd1408179"
    },
    {
      "cell_type": "code",
      "execution_count": null,
      "metadata": {
        "id": "53f7f9d3-af30-4fdb-a460-71c049b81c18"
      },
      "outputs": [],
      "source": [],
      "id": "53f7f9d3-af30-4fdb-a460-71c049b81c18"
    },
    {
      "cell_type": "code",
      "execution_count": null,
      "metadata": {
        "id": "73df886d-d2cb-4977-971c-e0090a73139a"
      },
      "outputs": [],
      "source": [],
      "id": "73df886d-d2cb-4977-971c-e0090a73139a"
    },
    {
      "cell_type": "code",
      "execution_count": null,
      "metadata": {
        "id": "de085b98-3510-4fb5-b43d-dace7fd64fd6"
      },
      "outputs": [],
      "source": [],
      "id": "de085b98-3510-4fb5-b43d-dace7fd64fd6"
    },
    {
      "cell_type": "code",
      "execution_count": null,
      "metadata": {
        "id": "74326ca8-fc89-4351-9139-56dffd0a0219"
      },
      "outputs": [],
      "source": [],
      "id": "74326ca8-fc89-4351-9139-56dffd0a0219"
    },
    {
      "cell_type": "code",
      "execution_count": null,
      "metadata": {
        "id": "85c9ff21-acae-4da8-a45b-dc183f2dec12"
      },
      "outputs": [],
      "source": [],
      "id": "85c9ff21-acae-4da8-a45b-dc183f2dec12"
    },
    {
      "cell_type": "code",
      "execution_count": null,
      "metadata": {
        "id": "e230310f-8470-4c78-b2e1-f67e4e75e2ca"
      },
      "outputs": [],
      "source": [],
      "id": "e230310f-8470-4c78-b2e1-f67e4e75e2ca"
    },
    {
      "cell_type": "code",
      "execution_count": null,
      "metadata": {
        "id": "383314a1-ec17-4338-8997-b00fd441f438"
      },
      "outputs": [],
      "source": [],
      "id": "383314a1-ec17-4338-8997-b00fd441f438"
    },
    {
      "cell_type": "code",
      "execution_count": null,
      "metadata": {
        "id": "b571c5fe-6a7a-48dd-89d8-deb7591e7bac"
      },
      "outputs": [],
      "source": [],
      "id": "b571c5fe-6a7a-48dd-89d8-deb7591e7bac"
    },
    {
      "cell_type": "code",
      "execution_count": null,
      "metadata": {
        "id": "79f351bf-7c22-4a9d-8533-c67156eafbe9"
      },
      "outputs": [],
      "source": [],
      "id": "79f351bf-7c22-4a9d-8533-c67156eafbe9"
    },
    {
      "cell_type": "code",
      "execution_count": null,
      "metadata": {
        "id": "172bd580-1ac9-468e-a279-3bdeb19e9f22"
      },
      "outputs": [],
      "source": [],
      "id": "172bd580-1ac9-468e-a279-3bdeb19e9f22"
    },
    {
      "cell_type": "code",
      "execution_count": null,
      "metadata": {
        "id": "2175b819-57a9-4b41-9dea-5803a28ebea3"
      },
      "outputs": [],
      "source": [],
      "id": "2175b819-57a9-4b41-9dea-5803a28ebea3"
    },
    {
      "cell_type": "code",
      "execution_count": null,
      "metadata": {
        "id": "68b4388e-40a0-4564-9ae2-9c1ce5c1a5b0"
      },
      "outputs": [],
      "source": [],
      "id": "68b4388e-40a0-4564-9ae2-9c1ce5c1a5b0"
    },
    {
      "cell_type": "code",
      "execution_count": null,
      "metadata": {
        "id": "62e484c6-1a21-4025-8bd0-77c59f326c46"
      },
      "outputs": [],
      "source": [],
      "id": "62e484c6-1a21-4025-8bd0-77c59f326c46"
    },
    {
      "cell_type": "code",
      "execution_count": null,
      "metadata": {
        "id": "d8ad666b-2f01-4880-8d1a-8987fbbda778"
      },
      "outputs": [],
      "source": [],
      "id": "d8ad666b-2f01-4880-8d1a-8987fbbda778"
    },
    {
      "cell_type": "code",
      "execution_count": null,
      "metadata": {
        "id": "2089c11e-cd8c-4171-9832-1b9e6916fe47"
      },
      "outputs": [],
      "source": [],
      "id": "2089c11e-cd8c-4171-9832-1b9e6916fe47"
    },
    {
      "cell_type": "code",
      "execution_count": null,
      "metadata": {
        "id": "942166c8-0310-4c09-aab2-213bd845e1e9"
      },
      "outputs": [],
      "source": [],
      "id": "942166c8-0310-4c09-aab2-213bd845e1e9"
    },
    {
      "cell_type": "code",
      "execution_count": null,
      "metadata": {
        "id": "4de1bf6c-9bdf-4d31-b846-adf132751a1f"
      },
      "outputs": [],
      "source": [],
      "id": "4de1bf6c-9bdf-4d31-b846-adf132751a1f"
    },
    {
      "cell_type": "code",
      "execution_count": null,
      "metadata": {
        "id": "71999845-c111-4308-9486-ddbd454c83c2"
      },
      "outputs": [],
      "source": [],
      "id": "71999845-c111-4308-9486-ddbd454c83c2"
    },
    {
      "cell_type": "code",
      "execution_count": null,
      "metadata": {
        "id": "e81eb03d-c794-499a-99ad-df2bed421065"
      },
      "outputs": [],
      "source": [],
      "id": "e81eb03d-c794-499a-99ad-df2bed421065"
    },
    {
      "cell_type": "code",
      "execution_count": null,
      "metadata": {
        "id": "9ab5432b-5053-4759-848a-392e0894716b"
      },
      "outputs": [],
      "source": [],
      "id": "9ab5432b-5053-4759-848a-392e0894716b"
    },
    {
      "cell_type": "code",
      "execution_count": null,
      "metadata": {
        "id": "aaed002f-b23e-49f0-8f28-d6fe10cdc032"
      },
      "outputs": [],
      "source": [],
      "id": "aaed002f-b23e-49f0-8f28-d6fe10cdc032"
    },
    {
      "cell_type": "code",
      "execution_count": null,
      "metadata": {
        "id": "18194d88-1aa7-4c61-ad01-c0de8937dadc"
      },
      "outputs": [],
      "source": [],
      "id": "18194d88-1aa7-4c61-ad01-c0de8937dadc"
    },
    {
      "cell_type": "code",
      "execution_count": null,
      "metadata": {
        "id": "238c3b31-0bfb-4d65-af6f-693479484639"
      },
      "outputs": [],
      "source": [],
      "id": "238c3b31-0bfb-4d65-af6f-693479484639"
    },
    {
      "cell_type": "code",
      "execution_count": null,
      "metadata": {
        "id": "f2ef943d-6934-42aa-a5fb-604d6f647862"
      },
      "outputs": [],
      "source": [],
      "id": "f2ef943d-6934-42aa-a5fb-604d6f647862"
    },
    {
      "cell_type": "code",
      "execution_count": null,
      "metadata": {
        "id": "c0a947aa-ff05-475b-bd68-b03bece2b74b"
      },
      "outputs": [],
      "source": [],
      "id": "c0a947aa-ff05-475b-bd68-b03bece2b74b"
    },
    {
      "cell_type": "code",
      "execution_count": null,
      "metadata": {
        "id": "049ca69e-9129-4dbc-8a18-3435b3fb3be7"
      },
      "outputs": [],
      "source": [],
      "id": "049ca69e-9129-4dbc-8a18-3435b3fb3be7"
    },
    {
      "cell_type": "code",
      "execution_count": null,
      "metadata": {
        "id": "7922e19d-f87e-49d5-b5a6-a1a70a0d62e6"
      },
      "outputs": [],
      "source": [],
      "id": "7922e19d-f87e-49d5-b5a6-a1a70a0d62e6"
    },
    {
      "cell_type": "code",
      "execution_count": null,
      "metadata": {
        "id": "4a0409c6-be88-4f48-95b7-d4f3c7dd5fa9"
      },
      "outputs": [],
      "source": [],
      "id": "4a0409c6-be88-4f48-95b7-d4f3c7dd5fa9"
    },
    {
      "cell_type": "code",
      "execution_count": null,
      "metadata": {
        "id": "34aa0a4e-2de1-4427-8706-3351f765a761"
      },
      "outputs": [],
      "source": [],
      "id": "34aa0a4e-2de1-4427-8706-3351f765a761"
    },
    {
      "cell_type": "code",
      "execution_count": null,
      "metadata": {
        "id": "3748d7e2-1aa5-459b-bd28-ad82fd93b507"
      },
      "outputs": [],
      "source": [],
      "id": "3748d7e2-1aa5-459b-bd28-ad82fd93b507"
    },
    {
      "cell_type": "code",
      "execution_count": null,
      "metadata": {
        "id": "7fbb451a-191f-4ebd-870f-9605f4d8ee17"
      },
      "outputs": [],
      "source": [],
      "id": "7fbb451a-191f-4ebd-870f-9605f4d8ee17"
    },
    {
      "cell_type": "code",
      "execution_count": null,
      "metadata": {
        "id": "1269ae51-af71-47da-80a2-0adc2ddaa06b"
      },
      "outputs": [],
      "source": [],
      "id": "1269ae51-af71-47da-80a2-0adc2ddaa06b"
    },
    {
      "cell_type": "code",
      "execution_count": null,
      "metadata": {
        "id": "c2429d08-c1ad-4fe5-a70a-a266e3dc0736"
      },
      "outputs": [],
      "source": [],
      "id": "c2429d08-c1ad-4fe5-a70a-a266e3dc0736"
    },
    {
      "cell_type": "code",
      "execution_count": null,
      "metadata": {
        "id": "8185f5e9-22b0-46cb-8bb6-49e6a52d770f"
      },
      "outputs": [],
      "source": [],
      "id": "8185f5e9-22b0-46cb-8bb6-49e6a52d770f"
    },
    {
      "cell_type": "code",
      "execution_count": null,
      "metadata": {
        "id": "3a0cfcb3-6f1a-4014-9ab8-f189ff201cef"
      },
      "outputs": [],
      "source": [],
      "id": "3a0cfcb3-6f1a-4014-9ab8-f189ff201cef"
    },
    {
      "cell_type": "code",
      "execution_count": null,
      "metadata": {
        "id": "4aa68f1a-7609-4aa1-b2fd-a630398ba488"
      },
      "outputs": [],
      "source": [],
      "id": "4aa68f1a-7609-4aa1-b2fd-a630398ba488"
    },
    {
      "cell_type": "code",
      "execution_count": null,
      "metadata": {
        "id": "c0d8b330-7d2a-47e3-9453-c06dffebcb8a"
      },
      "outputs": [],
      "source": [],
      "id": "c0d8b330-7d2a-47e3-9453-c06dffebcb8a"
    },
    {
      "cell_type": "code",
      "execution_count": null,
      "metadata": {
        "id": "0c05b502-b009-480c-b256-ca967685de97"
      },
      "outputs": [],
      "source": [],
      "id": "0c05b502-b009-480c-b256-ca967685de97"
    },
    {
      "cell_type": "code",
      "execution_count": null,
      "metadata": {
        "id": "9adb0714-95c1-4b5a-aa70-4bd7fbf113bd"
      },
      "outputs": [],
      "source": [],
      "id": "9adb0714-95c1-4b5a-aa70-4bd7fbf113bd"
    },
    {
      "cell_type": "code",
      "execution_count": null,
      "metadata": {
        "id": "e8b94b7c-d87f-4b0b-a221-3b3a670cfc78"
      },
      "outputs": [],
      "source": [],
      "id": "e8b94b7c-d87f-4b0b-a221-3b3a670cfc78"
    },
    {
      "cell_type": "code",
      "execution_count": null,
      "metadata": {
        "id": "cba7c4dc-caf6-4d60-8ce9-5d1f105c073e"
      },
      "outputs": [],
      "source": [],
      "id": "cba7c4dc-caf6-4d60-8ce9-5d1f105c073e"
    },
    {
      "cell_type": "code",
      "execution_count": null,
      "metadata": {
        "id": "ccd429a0-7e52-4e75-9d48-c87c06d86b15"
      },
      "outputs": [],
      "source": [],
      "id": "ccd429a0-7e52-4e75-9d48-c87c06d86b15"
    },
    {
      "cell_type": "code",
      "execution_count": null,
      "metadata": {
        "id": "7730baa2-49fc-4846-9da9-45866a1a7323"
      },
      "outputs": [],
      "source": [],
      "id": "7730baa2-49fc-4846-9da9-45866a1a7323"
    },
    {
      "cell_type": "code",
      "execution_count": null,
      "metadata": {
        "id": "43e15d3d-2c1f-4f7a-b559-f04762be9c0e"
      },
      "outputs": [],
      "source": [],
      "id": "43e15d3d-2c1f-4f7a-b559-f04762be9c0e"
    },
    {
      "cell_type": "code",
      "execution_count": null,
      "metadata": {
        "id": "e0197870-510b-4295-a02d-e0bcc3cb3443"
      },
      "outputs": [],
      "source": [],
      "id": "e0197870-510b-4295-a02d-e0bcc3cb3443"
    },
    {
      "cell_type": "code",
      "execution_count": null,
      "metadata": {
        "id": "2811cc28-3fee-4fe2-92aa-b49fccc2b15f"
      },
      "outputs": [],
      "source": [],
      "id": "2811cc28-3fee-4fe2-92aa-b49fccc2b15f"
    },
    {
      "cell_type": "code",
      "execution_count": null,
      "metadata": {
        "id": "8d11788d-eec2-4919-820f-c68c94567c6e"
      },
      "outputs": [],
      "source": [],
      "id": "8d11788d-eec2-4919-820f-c68c94567c6e"
    },
    {
      "cell_type": "code",
      "execution_count": null,
      "metadata": {
        "id": "cdcd38ac-bf66-4277-907f-03285a40d203"
      },
      "outputs": [],
      "source": [],
      "id": "cdcd38ac-bf66-4277-907f-03285a40d203"
    },
    {
      "cell_type": "code",
      "execution_count": null,
      "metadata": {
        "id": "078c8312-a96f-4eca-a4d3-a22f9fb792c8"
      },
      "outputs": [],
      "source": [],
      "id": "078c8312-a96f-4eca-a4d3-a22f9fb792c8"
    },
    {
      "cell_type": "code",
      "execution_count": null,
      "metadata": {
        "id": "ea8f7349-8d81-4044-b31c-39bd40840929"
      },
      "outputs": [],
      "source": [],
      "id": "ea8f7349-8d81-4044-b31c-39bd40840929"
    },
    {
      "cell_type": "code",
      "execution_count": null,
      "metadata": {
        "id": "2a154ab7-a0f7-41cd-9820-5851ff3f05e2"
      },
      "outputs": [],
      "source": [],
      "id": "2a154ab7-a0f7-41cd-9820-5851ff3f05e2"
    },
    {
      "cell_type": "code",
      "execution_count": null,
      "metadata": {
        "id": "86eac2d7-ef8e-483c-ba7b-8dc0c2991f24"
      },
      "outputs": [],
      "source": [],
      "id": "86eac2d7-ef8e-483c-ba7b-8dc0c2991f24"
    },
    {
      "cell_type": "code",
      "execution_count": null,
      "metadata": {
        "id": "b97f0814-d75d-4c94-b83d-5f34921a26c7"
      },
      "outputs": [],
      "source": [],
      "id": "b97f0814-d75d-4c94-b83d-5f34921a26c7"
    },
    {
      "cell_type": "code",
      "execution_count": null,
      "metadata": {
        "id": "77617f7b-2365-4ae7-b746-275026951bab"
      },
      "outputs": [],
      "source": [],
      "id": "77617f7b-2365-4ae7-b746-275026951bab"
    },
    {
      "cell_type": "code",
      "execution_count": null,
      "metadata": {
        "id": "755f5015-723d-4abe-afc2-9c80b8bc9b00"
      },
      "outputs": [],
      "source": [],
      "id": "755f5015-723d-4abe-afc2-9c80b8bc9b00"
    },
    {
      "cell_type": "code",
      "execution_count": null,
      "metadata": {
        "id": "28885129-c6c3-4758-8014-c59fd1bf0b34"
      },
      "outputs": [],
      "source": [],
      "id": "28885129-c6c3-4758-8014-c59fd1bf0b34"
    },
    {
      "cell_type": "code",
      "execution_count": null,
      "metadata": {
        "id": "0766c963-f2ab-422e-bbc2-125c5698a246"
      },
      "outputs": [],
      "source": [],
      "id": "0766c963-f2ab-422e-bbc2-125c5698a246"
    },
    {
      "cell_type": "code",
      "execution_count": null,
      "metadata": {
        "id": "8515a816-358c-4722-a489-896effb19442"
      },
      "outputs": [],
      "source": [],
      "id": "8515a816-358c-4722-a489-896effb19442"
    },
    {
      "cell_type": "code",
      "execution_count": null,
      "metadata": {
        "id": "29b38903-7783-4aea-9d5f-494796b513d1"
      },
      "outputs": [],
      "source": [],
      "id": "29b38903-7783-4aea-9d5f-494796b513d1"
    },
    {
      "cell_type": "code",
      "execution_count": null,
      "metadata": {
        "id": "532f75b9-f8af-4679-948d-c4c77fd38d07"
      },
      "outputs": [],
      "source": [],
      "id": "532f75b9-f8af-4679-948d-c4c77fd38d07"
    },
    {
      "cell_type": "code",
      "execution_count": null,
      "metadata": {
        "id": "eec292b4-1b04-4010-8e29-951c346065ae"
      },
      "outputs": [],
      "source": [],
      "id": "eec292b4-1b04-4010-8e29-951c346065ae"
    },
    {
      "cell_type": "code",
      "execution_count": null,
      "metadata": {
        "id": "62751b20-4950-4b7b-bd56-33d7499e33a2"
      },
      "outputs": [],
      "source": [],
      "id": "62751b20-4950-4b7b-bd56-33d7499e33a2"
    },
    {
      "cell_type": "code",
      "execution_count": null,
      "metadata": {
        "id": "dbec029a-6da7-484c-8ba7-f1c81e5b7b24"
      },
      "outputs": [],
      "source": [],
      "id": "dbec029a-6da7-484c-8ba7-f1c81e5b7b24"
    },
    {
      "cell_type": "code",
      "execution_count": null,
      "metadata": {
        "id": "b76e780d-13e3-4c73-935b-746368056aed"
      },
      "outputs": [],
      "source": [],
      "id": "b76e780d-13e3-4c73-935b-746368056aed"
    },
    {
      "cell_type": "code",
      "execution_count": null,
      "metadata": {
        "id": "85a757f7-0efb-4d7a-ac8f-b62c74e8f7ee"
      },
      "outputs": [],
      "source": [],
      "id": "85a757f7-0efb-4d7a-ac8f-b62c74e8f7ee"
    },
    {
      "cell_type": "code",
      "execution_count": null,
      "metadata": {
        "id": "967a4cfb-a4d3-4008-8682-aea900777596"
      },
      "outputs": [],
      "source": [],
      "id": "967a4cfb-a4d3-4008-8682-aea900777596"
    },
    {
      "cell_type": "code",
      "execution_count": null,
      "metadata": {
        "id": "ba252602-c8e4-4414-a12f-bf76aa64c55b"
      },
      "outputs": [],
      "source": [],
      "id": "ba252602-c8e4-4414-a12f-bf76aa64c55b"
    },
    {
      "cell_type": "code",
      "execution_count": null,
      "metadata": {
        "id": "2940ae3d-e160-4b49-a4aa-f49a8197a479"
      },
      "outputs": [],
      "source": [],
      "id": "2940ae3d-e160-4b49-a4aa-f49a8197a479"
    },
    {
      "cell_type": "code",
      "execution_count": null,
      "metadata": {
        "id": "9c02c0e0-1923-46f6-bedf-a5defb85ec1f"
      },
      "outputs": [],
      "source": [],
      "id": "9c02c0e0-1923-46f6-bedf-a5defb85ec1f"
    },
    {
      "cell_type": "code",
      "execution_count": null,
      "metadata": {
        "id": "05a1ad00-c0ec-45a2-9c55-6decf59a4bf9"
      },
      "outputs": [],
      "source": [],
      "id": "05a1ad00-c0ec-45a2-9c55-6decf59a4bf9"
    },
    {
      "cell_type": "code",
      "execution_count": null,
      "metadata": {
        "id": "bb7c7c83-9100-49b5-aad0-cf242512717d"
      },
      "outputs": [],
      "source": [],
      "id": "bb7c7c83-9100-49b5-aad0-cf242512717d"
    },
    {
      "cell_type": "code",
      "execution_count": null,
      "metadata": {
        "id": "17af8b3d-90d7-4f07-8b84-2f961119044e"
      },
      "outputs": [],
      "source": [],
      "id": "17af8b3d-90d7-4f07-8b84-2f961119044e"
    },
    {
      "cell_type": "code",
      "execution_count": null,
      "metadata": {
        "id": "c0d2d7bb-66fe-4b62-9803-41e2cfc5379b"
      },
      "outputs": [],
      "source": [],
      "id": "c0d2d7bb-66fe-4b62-9803-41e2cfc5379b"
    },
    {
      "cell_type": "code",
      "execution_count": null,
      "metadata": {
        "id": "a0a92b73-db89-4dde-8b66-f9a614e6db49"
      },
      "outputs": [],
      "source": [],
      "id": "a0a92b73-db89-4dde-8b66-f9a614e6db49"
    },
    {
      "cell_type": "code",
      "execution_count": null,
      "metadata": {
        "id": "0caf92dd-44ba-4fa0-8199-e3cb65c77a37"
      },
      "outputs": [],
      "source": [],
      "id": "0caf92dd-44ba-4fa0-8199-e3cb65c77a37"
    },
    {
      "cell_type": "code",
      "execution_count": null,
      "metadata": {
        "id": "5e00350b-388d-462e-a1c0-32e6d3f1b686"
      },
      "outputs": [],
      "source": [],
      "id": "5e00350b-388d-462e-a1c0-32e6d3f1b686"
    },
    {
      "cell_type": "code",
      "execution_count": null,
      "metadata": {
        "id": "6c01dc9d-99f7-4feb-89c0-278e0472ef46"
      },
      "outputs": [],
      "source": [],
      "id": "6c01dc9d-99f7-4feb-89c0-278e0472ef46"
    },
    {
      "cell_type": "code",
      "execution_count": null,
      "metadata": {
        "id": "320c3545-fd9a-4aed-a0e0-e2eed9f67dc3"
      },
      "outputs": [],
      "source": [],
      "id": "320c3545-fd9a-4aed-a0e0-e2eed9f67dc3"
    },
    {
      "cell_type": "code",
      "execution_count": null,
      "metadata": {
        "id": "7c2e49e8-f908-44e5-b56e-3fe4ddd769b4"
      },
      "outputs": [],
      "source": [],
      "id": "7c2e49e8-f908-44e5-b56e-3fe4ddd769b4"
    },
    {
      "cell_type": "code",
      "execution_count": null,
      "metadata": {
        "id": "11cfc07f-6dc4-4fe6-a64e-bd161cb3d02b"
      },
      "outputs": [],
      "source": [],
      "id": "11cfc07f-6dc4-4fe6-a64e-bd161cb3d02b"
    },
    {
      "cell_type": "code",
      "execution_count": null,
      "metadata": {
        "id": "b8405853-306c-4277-9cdc-45e6fafcf0f9"
      },
      "outputs": [],
      "source": [],
      "id": "b8405853-306c-4277-9cdc-45e6fafcf0f9"
    },
    {
      "cell_type": "code",
      "execution_count": null,
      "metadata": {
        "id": "1c6e6540-b84e-4ec9-844d-e5b6bab859e9"
      },
      "outputs": [],
      "source": [],
      "id": "1c6e6540-b84e-4ec9-844d-e5b6bab859e9"
    },
    {
      "cell_type": "code",
      "execution_count": null,
      "metadata": {
        "id": "35154472-f1ef-4eb9-bbba-caf3e6057800"
      },
      "outputs": [],
      "source": [],
      "id": "35154472-f1ef-4eb9-bbba-caf3e6057800"
    },
    {
      "cell_type": "code",
      "execution_count": null,
      "metadata": {
        "id": "72e1005e-7900-47d4-9699-360a9456c14c"
      },
      "outputs": [],
      "source": [],
      "id": "72e1005e-7900-47d4-9699-360a9456c14c"
    },
    {
      "cell_type": "code",
      "execution_count": null,
      "metadata": {
        "id": "e783bf4c-0895-408f-8475-ff2c8b73ccd7"
      },
      "outputs": [],
      "source": [],
      "id": "e783bf4c-0895-408f-8475-ff2c8b73ccd7"
    },
    {
      "cell_type": "code",
      "execution_count": null,
      "metadata": {
        "id": "d9f8fc8e-936f-4681-9561-1f84d92bb4ed"
      },
      "outputs": [],
      "source": [],
      "id": "d9f8fc8e-936f-4681-9561-1f84d92bb4ed"
    },
    {
      "cell_type": "code",
      "execution_count": null,
      "metadata": {
        "id": "5718bace-ea0d-484c-a791-e46e3e09b627"
      },
      "outputs": [],
      "source": [],
      "id": "5718bace-ea0d-484c-a791-e46e3e09b627"
    },
    {
      "cell_type": "code",
      "execution_count": null,
      "metadata": {
        "id": "6aee8811-235b-464c-bacc-07212258c074"
      },
      "outputs": [],
      "source": [],
      "id": "6aee8811-235b-464c-bacc-07212258c074"
    },
    {
      "cell_type": "code",
      "execution_count": null,
      "metadata": {
        "id": "2e9a93ef-56cf-43a8-b325-41267a0a83c9"
      },
      "outputs": [],
      "source": [],
      "id": "2e9a93ef-56cf-43a8-b325-41267a0a83c9"
    },
    {
      "cell_type": "code",
      "execution_count": null,
      "metadata": {
        "id": "3e38e897-bf84-4b7c-8803-014dc373782d"
      },
      "outputs": [],
      "source": [],
      "id": "3e38e897-bf84-4b7c-8803-014dc373782d"
    },
    {
      "cell_type": "code",
      "execution_count": null,
      "metadata": {
        "id": "f0c32e07-9e63-4f3b-aaf0-d88dd4662f8b"
      },
      "outputs": [],
      "source": [],
      "id": "f0c32e07-9e63-4f3b-aaf0-d88dd4662f8b"
    },
    {
      "cell_type": "code",
      "execution_count": null,
      "metadata": {
        "id": "b4c53441-51b4-49b9-8922-bcdda83a8633"
      },
      "outputs": [],
      "source": [],
      "id": "b4c53441-51b4-49b9-8922-bcdda83a8633"
    },
    {
      "cell_type": "code",
      "execution_count": null,
      "metadata": {
        "id": "f687d7f7-e7db-40e1-abd3-32a637597fa9"
      },
      "outputs": [],
      "source": [],
      "id": "f687d7f7-e7db-40e1-abd3-32a637597fa9"
    },
    {
      "cell_type": "code",
      "execution_count": null,
      "metadata": {
        "id": "cd32f434-e162-4aca-9396-517fc54cdbdf"
      },
      "outputs": [],
      "source": [],
      "id": "cd32f434-e162-4aca-9396-517fc54cdbdf"
    },
    {
      "cell_type": "code",
      "execution_count": null,
      "metadata": {
        "id": "b85cf12a-2341-489d-8fb6-08c4efe41320"
      },
      "outputs": [],
      "source": [],
      "id": "b85cf12a-2341-489d-8fb6-08c4efe41320"
    },
    {
      "cell_type": "code",
      "execution_count": null,
      "metadata": {
        "id": "112fba2e-a950-4abb-96b1-619fac7167ef"
      },
      "outputs": [],
      "source": [],
      "id": "112fba2e-a950-4abb-96b1-619fac7167ef"
    },
    {
      "cell_type": "code",
      "execution_count": null,
      "metadata": {
        "id": "5053525c-2f82-4a99-b9cf-2fad8635f5f1"
      },
      "outputs": [],
      "source": [],
      "id": "5053525c-2f82-4a99-b9cf-2fad8635f5f1"
    },
    {
      "cell_type": "code",
      "execution_count": null,
      "metadata": {
        "id": "20f7ef02-ca1f-4a3d-8422-63d1b5ad045b"
      },
      "outputs": [],
      "source": [],
      "id": "20f7ef02-ca1f-4a3d-8422-63d1b5ad045b"
    },
    {
      "cell_type": "code",
      "execution_count": null,
      "metadata": {
        "id": "8d659db8-433d-4620-ba3e-514d442dd58b"
      },
      "outputs": [],
      "source": [],
      "id": "8d659db8-433d-4620-ba3e-514d442dd58b"
    },
    {
      "cell_type": "code",
      "execution_count": null,
      "metadata": {
        "id": "667772fe-2f29-4576-a4a3-6f50e119d322"
      },
      "outputs": [],
      "source": [],
      "id": "667772fe-2f29-4576-a4a3-6f50e119d322"
    },
    {
      "cell_type": "code",
      "execution_count": null,
      "metadata": {
        "id": "50f74354-2a2e-4f82-8078-4633aa4300d7"
      },
      "outputs": [],
      "source": [],
      "id": "50f74354-2a2e-4f82-8078-4633aa4300d7"
    },
    {
      "cell_type": "code",
      "execution_count": null,
      "metadata": {
        "id": "b1426772-318f-4722-b870-c194c322e5ca"
      },
      "outputs": [],
      "source": [],
      "id": "b1426772-318f-4722-b870-c194c322e5ca"
    },
    {
      "cell_type": "code",
      "execution_count": null,
      "metadata": {
        "id": "96d7e7b6-fbcb-48e8-946a-ff9dd7a10263"
      },
      "outputs": [],
      "source": [],
      "id": "96d7e7b6-fbcb-48e8-946a-ff9dd7a10263"
    },
    {
      "cell_type": "code",
      "execution_count": null,
      "metadata": {
        "id": "b5737ca6-4fbc-4785-b209-25f014293012"
      },
      "outputs": [],
      "source": [],
      "id": "b5737ca6-4fbc-4785-b209-25f014293012"
    },
    {
      "cell_type": "code",
      "execution_count": null,
      "metadata": {
        "id": "b6ea9292-9dbc-4531-938c-47061890a9f0"
      },
      "outputs": [],
      "source": [],
      "id": "b6ea9292-9dbc-4531-938c-47061890a9f0"
    },
    {
      "cell_type": "code",
      "execution_count": null,
      "metadata": {
        "id": "fec5464d-8a94-40de-acce-83670661fe32"
      },
      "outputs": [],
      "source": [],
      "id": "fec5464d-8a94-40de-acce-83670661fe32"
    },
    {
      "cell_type": "code",
      "execution_count": null,
      "metadata": {
        "id": "4c9ec029-07cb-426b-a3af-28380de3f594"
      },
      "outputs": [],
      "source": [],
      "id": "4c9ec029-07cb-426b-a3af-28380de3f594"
    },
    {
      "cell_type": "code",
      "execution_count": null,
      "metadata": {
        "id": "8f7f3a46-fc4a-44c2-97dd-54664bf8984c"
      },
      "outputs": [],
      "source": [],
      "id": "8f7f3a46-fc4a-44c2-97dd-54664bf8984c"
    },
    {
      "cell_type": "code",
      "execution_count": null,
      "metadata": {
        "id": "1e675585-141c-49b6-91ae-9c44dfa5df41"
      },
      "outputs": [],
      "source": [],
      "id": "1e675585-141c-49b6-91ae-9c44dfa5df41"
    },
    {
      "cell_type": "code",
      "execution_count": null,
      "metadata": {
        "id": "e5ef89a8-2638-40ce-8136-6ff92c16c523"
      },
      "outputs": [],
      "source": [],
      "id": "e5ef89a8-2638-40ce-8136-6ff92c16c523"
    },
    {
      "cell_type": "code",
      "execution_count": null,
      "metadata": {
        "id": "faf94e25-617e-41df-bf65-fc804016a5d4"
      },
      "outputs": [],
      "source": [],
      "id": "faf94e25-617e-41df-bf65-fc804016a5d4"
    },
    {
      "cell_type": "code",
      "execution_count": null,
      "metadata": {
        "id": "d7970e2b-d218-49c3-9159-f2c2a5292eba"
      },
      "outputs": [],
      "source": [],
      "id": "d7970e2b-d218-49c3-9159-f2c2a5292eba"
    },
    {
      "cell_type": "code",
      "execution_count": null,
      "metadata": {
        "id": "b302e6ed-4ff1-4d8f-8e7e-8af575e9066a"
      },
      "outputs": [],
      "source": [],
      "id": "b302e6ed-4ff1-4d8f-8e7e-8af575e9066a"
    },
    {
      "cell_type": "code",
      "execution_count": null,
      "metadata": {
        "id": "efc7a28c-0ada-445d-8e3b-62e041a5e0b5"
      },
      "outputs": [],
      "source": [],
      "id": "efc7a28c-0ada-445d-8e3b-62e041a5e0b5"
    },
    {
      "cell_type": "code",
      "execution_count": null,
      "metadata": {
        "id": "d2292d5f-c67a-4b01-8cc9-bffd516bb7d9"
      },
      "outputs": [],
      "source": [],
      "id": "d2292d5f-c67a-4b01-8cc9-bffd516bb7d9"
    },
    {
      "cell_type": "code",
      "execution_count": null,
      "metadata": {
        "id": "c7ebf05a-91c9-443b-8940-6e1512cb5b97"
      },
      "outputs": [],
      "source": [],
      "id": "c7ebf05a-91c9-443b-8940-6e1512cb5b97"
    },
    {
      "cell_type": "code",
      "execution_count": null,
      "metadata": {
        "id": "3c7bd4e1-8d59-4a9e-ba49-df482b429a7d"
      },
      "outputs": [],
      "source": [],
      "id": "3c7bd4e1-8d59-4a9e-ba49-df482b429a7d"
    },
    {
      "cell_type": "code",
      "execution_count": null,
      "metadata": {
        "id": "28376548-ee6b-4ab9-ba66-e44def6ee739"
      },
      "outputs": [],
      "source": [],
      "id": "28376548-ee6b-4ab9-ba66-e44def6ee739"
    },
    {
      "cell_type": "code",
      "execution_count": null,
      "metadata": {
        "id": "ce3f4149-ba37-4876-9f95-fdb5a8e293cb"
      },
      "outputs": [],
      "source": [],
      "id": "ce3f4149-ba37-4876-9f95-fdb5a8e293cb"
    },
    {
      "cell_type": "code",
      "execution_count": null,
      "metadata": {
        "id": "fb69c630-5761-4d0f-9057-7c51425f1c15"
      },
      "outputs": [],
      "source": [],
      "id": "fb69c630-5761-4d0f-9057-7c51425f1c15"
    },
    {
      "cell_type": "code",
      "execution_count": null,
      "metadata": {
        "id": "5ec32c5d-e804-4b38-8547-bcf532b810e9"
      },
      "outputs": [],
      "source": [],
      "id": "5ec32c5d-e804-4b38-8547-bcf532b810e9"
    },
    {
      "cell_type": "code",
      "execution_count": null,
      "metadata": {
        "id": "ef3d36b6-dbe0-460a-b497-d1204e36e482"
      },
      "outputs": [],
      "source": [],
      "id": "ef3d36b6-dbe0-460a-b497-d1204e36e482"
    }
  ],
  "metadata": {
    "colab": {
      "provenance": [],
      "toc_visible": true,
      "include_colab_link": true
    },
    "kernelspec": {
      "display_name": "Python 3 (ipykernel)",
      "language": "python",
      "name": "python3"
    },
    "language_info": {
      "codemirror_mode": {
        "name": "ipython",
        "version": 3
      },
      "file_extension": ".py",
      "mimetype": "text/x-python",
      "name": "python",
      "nbconvert_exporter": "python",
      "pygments_lexer": "ipython3",
      "version": "3.9.13"
    }
  },
  "nbformat": 4,
  "nbformat_minor": 5
}